{
 "cells": [
  {
   "cell_type": "code",
   "execution_count": 1,
   "metadata": {},
   "outputs": [
    {
     "name": "stdout",
     "output_type": "stream",
     "text": [
      "Collecting keras-tuner"
     ]
    },
    {
     "name": "stderr",
     "output_type": "stream",
     "text": [
      "WARNING: You are using pip version 20.3.3; however, version 22.2.2 is available.\n",
      "You should consider upgrading via the 'c:\\users\\ved\\appdata\\local\\programs\\python\\python37\\python.exe -m pip install --upgrade pip' command.\n"
     ]
    },
    {
     "name": "stdout",
     "output_type": "stream",
     "text": [
      "\n",
      "  Downloading keras_tuner-1.1.3-py3-none-any.whl (135 kB)\n",
      "Requirement already satisfied: packaging in c:\\users\\ved\\appdata\\local\\programs\\python\\python37\\lib\\site-packages (from keras-tuner) (21.3)\n",
      "Requirement already satisfied: tensorboard in c:\\users\\ved\\appdata\\local\\programs\\python\\python37\\lib\\site-packages (from keras-tuner) (2.6.0)\n",
      "Requirement already satisfied: ipython in c:\\users\\ved\\appdata\\local\\programs\\python\\python37\\lib\\site-packages (from keras-tuner) (7.18.1)\n",
      "Requirement already satisfied: numpy in c:\\users\\ved\\appdata\\local\\programs\\python\\python37\\lib\\site-packages (from keras-tuner) (1.19.2)\n",
      "Requirement already satisfied: requests in c:\\users\\ved\\appdata\\local\\programs\\python\\python37\\lib\\site-packages (from keras-tuner) (2.24.0)\n",
      "Requirement already satisfied: prompt-toolkit!=3.0.0,!=3.0.1,<3.1.0,>=2.0.0 in c:\\users\\ved\\appdata\\local\\programs\\python\\python37\\lib\\site-packages (from ipython->keras-tuner) (3.0.8)\n",
      "Requirement already satisfied: colorama in c:\\users\\ved\\appdata\\local\\programs\\python\\python37\\lib\\site-packages (from ipython->keras-tuner) (0.4.3)\n",
      "Requirement already satisfied: setuptools>=18.5 in c:\\users\\ved\\appdata\\local\\programs\\python\\python37\\lib\\site-packages (from ipython->keras-tuner) (50.3.2)\n",
      "Requirement already satisfied: traitlets>=4.2 in c:\\users\\ved\\appdata\\local\\programs\\python\\python37\\lib\\site-packages (from ipython->keras-tuner) (5.0.5)\n",
      "Requirement already satisfied: decorator in c:\\users\\ved\\appdata\\local\\programs\\python\\python37\\lib\\site-packages (from ipython->keras-tuner) (4.4.2)\n",
      "Requirement already satisfied: jedi>=0.10 in c:\\users\\ved\\appdata\\local\\programs\\python\\python37\\lib\\site-packages (from ipython->keras-tuner) (0.17.2)\n",
      "Requirement already satisfied: pygments in c:\\users\\ved\\appdata\\local\\programs\\python\\python37\\lib\\site-packages (from ipython->keras-tuner) (2.7.1)\n",
      "Requirement already satisfied: pickleshare in c:\\users\\ved\\appdata\\local\\programs\\python\\python37\\lib\\site-packages (from ipython->keras-tuner) (0.7.5)\n",
      "Requirement already satisfied: backcall in c:\\users\\ved\\appdata\\local\\programs\\python\\python37\\lib\\site-packages (from ipython->keras-tuner) (0.2.0)\n",
      "Requirement already satisfied: parso<0.8.0,>=0.7.0 in c:\\users\\ved\\appdata\\local\\programs\\python\\python37\\lib\\site-packages (from jedi>=0.10->ipython->keras-tuner) (0.7.1)\n",
      "Requirement already satisfied: wcwidth in c:\\users\\ved\\appdata\\local\\programs\\python\\python37\\lib\\site-packages (from prompt-toolkit!=3.0.0,!=3.0.1,<3.1.0,>=2.0.0->ipython->keras-tuner) (0.2.5)\n",
      "Requirement already satisfied: ipython-genutils in c:\\users\\ved\\appdata\\local\\programs\\python\\python37\\lib\\site-packages (from traitlets>=4.2->ipython->keras-tuner) (0.2.0)\n",
      "Collecting kt-legacy\n",
      "  Downloading kt_legacy-1.0.4-py3-none-any.whl (9.6 kB)\n",
      "Requirement already satisfied: pyparsing!=3.0.5,>=2.0.2 in c:\\users\\ved\\appdata\\local\\programs\\python\\python37\\lib\\site-packages (from packaging->keras-tuner) (2.4.7)\n",
      "Requirement already satisfied: idna<3,>=2.5 in c:\\users\\ved\\appdata\\local\\programs\\python\\python37\\lib\\site-packages (from requests->keras-tuner) (2.10)\n",
      "Requirement already satisfied: certifi>=2017.4.17 in c:\\users\\ved\\appdata\\local\\programs\\python\\python37\\lib\\site-packages (from requests->keras-tuner) (2020.6.20)\n",
      "Requirement already satisfied: urllib3!=1.25.0,!=1.25.1,<1.26,>=1.21.1 in c:\\users\\ved\\appdata\\local\\programs\\python\\python37\\lib\\site-packages (from requests->keras-tuner) (1.25.11)\n",
      "Requirement already satisfied: chardet<4,>=3.0.2 in c:\\users\\ved\\appdata\\local\\programs\\python\\python37\\lib\\site-packages (from requests->keras-tuner) (3.0.4)\n",
      "Requirement already satisfied: google-auth-oauthlib<0.5,>=0.4.1 in c:\\users\\ved\\appdata\\local\\programs\\python\\python37\\lib\\site-packages (from tensorboard->keras-tuner) (0.4.5)\n",
      "Requirement already satisfied: absl-py>=0.4 in c:\\users\\ved\\appdata\\local\\programs\\python\\python37\\lib\\site-packages (from tensorboard->keras-tuner) (0.13.0)\n",
      "Requirement already satisfied: google-auth<2,>=1.6.3 in c:\\users\\ved\\appdata\\local\\programs\\python\\python37\\lib\\site-packages (from tensorboard->keras-tuner) (1.35.0)\n",
      "Requirement already satisfied: grpcio>=1.24.3 in c:\\users\\ved\\appdata\\local\\programs\\python\\python37\\lib\\site-packages (from tensorboard->keras-tuner) (1.39.0)\n",
      "Requirement already satisfied: protobuf>=3.6.0 in c:\\users\\ved\\appdata\\local\\programs\\python\\python37\\lib\\site-packages (from tensorboard->keras-tuner) (3.17.3)\n",
      "Requirement already satisfied: tensorboard-plugin-wit>=1.6.0 in c:\\users\\ved\\appdata\\local\\programs\\python\\python37\\lib\\site-packages (from tensorboard->keras-tuner) (1.8.0)\n",
      "Requirement already satisfied: wheel>=0.26 in c:\\users\\ved\\appdata\\local\\programs\\python\\python37\\lib\\site-packages (from tensorboard->keras-tuner) (0.35.1)\n",
      "Requirement already satisfied: markdown>=2.6.8 in c:\\users\\ved\\appdata\\local\\programs\\python\\python37\\lib\\site-packages (from tensorboard->keras-tuner) (3.3.4)\n",
      "Requirement already satisfied: werkzeug>=0.11.15 in c:\\users\\ved\\appdata\\local\\programs\\python\\python37\\lib\\site-packages (from tensorboard->keras-tuner) (0.16.0)\n",
      "Requirement already satisfied: tensorboard-data-server<0.7.0,>=0.6.0 in c:\\users\\ved\\appdata\\local\\programs\\python\\python37\\lib\\site-packages (from tensorboard->keras-tuner) (0.6.1)\n",
      "Requirement already satisfied: six in c:\\users\\ved\\appdata\\local\\programs\\python\\python37\\lib\\site-packages (from absl-py>=0.4->tensorboard->keras-tuner) (1.15.0)\n",
      "Requirement already satisfied: cachetools<5.0,>=2.0.0 in c:\\users\\ved\\appdata\\local\\programs\\python\\python37\\lib\\site-packages (from google-auth<2,>=1.6.3->tensorboard->keras-tuner) (4.1.1)\n",
      "Requirement already satisfied: pyasn1-modules>=0.2.1 in c:\\users\\ved\\appdata\\local\\programs\\python\\python37\\lib\\site-packages (from google-auth<2,>=1.6.3->tensorboard->keras-tuner) (0.2.8)\n",
      "Requirement already satisfied: rsa<5,>=3.1.4 in c:\\users\\ved\\appdata\\local\\programs\\python\\python37\\lib\\site-packages (from google-auth<2,>=1.6.3->tensorboard->keras-tuner) (4.7.2)\n",
      "Requirement already satisfied: requests-oauthlib>=0.7.0 in c:\\users\\ved\\appdata\\local\\programs\\python\\python37\\lib\\site-packages (from google-auth-oauthlib<0.5,>=0.4.1->tensorboard->keras-tuner) (1.3.0)\n",
      "Requirement already satisfied: importlib-metadata in c:\\users\\ved\\appdata\\local\\programs\\python\\python37\\lib\\site-packages (from markdown>=2.6.8->tensorboard->keras-tuner) (2.0.0)\n",
      "Requirement already satisfied: pyasn1<0.5.0,>=0.4.6 in c:\\users\\ved\\appdata\\local\\programs\\python\\python37\\lib\\site-packages (from pyasn1-modules>=0.2.1->google-auth<2,>=1.6.3->tensorboard->keras-tuner) (0.4.8)\n",
      "Requirement already satisfied: oauthlib>=3.0.0 in c:\\users\\ved\\appdata\\local\\programs\\python\\python37\\lib\\site-packages (from requests-oauthlib>=0.7.0->google-auth-oauthlib<0.5,>=0.4.1->tensorboard->keras-tuner) (3.1.1)\n",
      "Requirement already satisfied: zipp>=0.5 in c:\\users\\ved\\appdata\\local\\programs\\python\\python37\\lib\\site-packages (from importlib-metadata->markdown>=2.6.8->tensorboard->keras-tuner) (3.3.1)\n",
      "Installing collected packages: kt-legacy, keras-tuner\n",
      "Successfully installed keras-tuner-1.1.3 kt-legacy-1.0.4\n"
     ]
    }
   ],
   "source": [
    "!pip install keras-tuner"
   ]
  },
  {
   "cell_type": "markdown",
   "metadata": {},
   "source": [
    "#### California Housing Dataset"
   ]
  },
  {
   "cell_type": "markdown",
   "metadata": {},
   "source": [
    "###### IMPORTING LIBRARY"
   ]
  },
  {
   "cell_type": "code",
   "execution_count": 2,
   "metadata": {},
   "outputs": [
    {
     "name": "stderr",
     "output_type": "stream",
     "text": [
      "c:\\Users\\VED\\AppData\\Local\\Programs\\Python\\Python37\\lib\\site-packages\\ipykernel_launcher.py:12: DeprecationWarning: `import kerastuner` is deprecated, please use `import keras_tuner`.\n",
      "  if sys.path[0] == '':\n"
     ]
    }
   ],
   "source": [
    "import math\n",
    "import pandas as pd\n",
    "import tensorflow as tf\n",
    "import matplotlib.pyplot as plt\n",
    "from tensorflow.keras import Model\n",
    "from tensorflow.keras import Sequential\n",
    "from tensorflow.keras.optimizers import Adam\n",
    "from sklearn.preprocessing import StandardScaler\n",
    "from tensorflow.keras.layers import Dense, Dropout\n",
    "from sklearn.model_selection import train_test_split\n",
    "from tensorflow.keras.losses import MeanSquaredLogarithmicError\n",
    "import kerastuner as kt"
   ]
  },
  {
   "cell_type": "markdown",
   "metadata": {},
   "source": [
    "###### READING DATASET TRAIN/TEST"
   ]
  },
  {
   "cell_type": "code",
   "execution_count": 3,
   "metadata": {},
   "outputs": [
    {
     "data": {
      "text/html": [
       "<div>\n",
       "<style scoped>\n",
       "    .dataframe tbody tr th:only-of-type {\n",
       "        vertical-align: middle;\n",
       "    }\n",
       "\n",
       "    .dataframe tbody tr th {\n",
       "        vertical-align: top;\n",
       "    }\n",
       "\n",
       "    .dataframe thead th {\n",
       "        text-align: right;\n",
       "    }\n",
       "</style>\n",
       "<table border=\"1\" class=\"dataframe\">\n",
       "  <thead>\n",
       "    <tr style=\"text-align: right;\">\n",
       "      <th></th>\n",
       "      <th>longitude</th>\n",
       "      <th>latitude</th>\n",
       "      <th>housing_median_age</th>\n",
       "      <th>total_rooms</th>\n",
       "      <th>total_bedrooms</th>\n",
       "      <th>population</th>\n",
       "      <th>households</th>\n",
       "      <th>median_income</th>\n",
       "      <th>median_house_value</th>\n",
       "    </tr>\n",
       "  </thead>\n",
       "  <tbody>\n",
       "    <tr>\n",
       "      <th>0</th>\n",
       "      <td>-114.31</td>\n",
       "      <td>34.19</td>\n",
       "      <td>15.0</td>\n",
       "      <td>5612.0</td>\n",
       "      <td>1283.0</td>\n",
       "      <td>1015.0</td>\n",
       "      <td>472.0</td>\n",
       "      <td>1.4936</td>\n",
       "      <td>66900.0</td>\n",
       "    </tr>\n",
       "    <tr>\n",
       "      <th>1</th>\n",
       "      <td>-114.47</td>\n",
       "      <td>34.40</td>\n",
       "      <td>19.0</td>\n",
       "      <td>7650.0</td>\n",
       "      <td>1901.0</td>\n",
       "      <td>1129.0</td>\n",
       "      <td>463.0</td>\n",
       "      <td>1.8200</td>\n",
       "      <td>80100.0</td>\n",
       "    </tr>\n",
       "    <tr>\n",
       "      <th>2</th>\n",
       "      <td>-114.56</td>\n",
       "      <td>33.69</td>\n",
       "      <td>17.0</td>\n",
       "      <td>720.0</td>\n",
       "      <td>174.0</td>\n",
       "      <td>333.0</td>\n",
       "      <td>117.0</td>\n",
       "      <td>1.6509</td>\n",
       "      <td>85700.0</td>\n",
       "    </tr>\n",
       "  </tbody>\n",
       "</table>\n",
       "</div>"
      ],
      "text/plain": [
       "   longitude  latitude  housing_median_age  total_rooms  total_bedrooms  \\\n",
       "0    -114.31     34.19                15.0       5612.0          1283.0   \n",
       "1    -114.47     34.40                19.0       7650.0          1901.0   \n",
       "2    -114.56     33.69                17.0        720.0           174.0   \n",
       "\n",
       "   population  households  median_income  median_house_value  \n",
       "0      1015.0       472.0         1.4936             66900.0  \n",
       "1      1129.0       463.0         1.8200             80100.0  \n",
       "2       333.0       117.0         1.6509             85700.0  "
      ]
     },
     "metadata": {},
     "output_type": "display_data"
    },
    {
     "data": {
      "text/html": [
       "<div>\n",
       "<style scoped>\n",
       "    .dataframe tbody tr th:only-of-type {\n",
       "        vertical-align: middle;\n",
       "    }\n",
       "\n",
       "    .dataframe tbody tr th {\n",
       "        vertical-align: top;\n",
       "    }\n",
       "\n",
       "    .dataframe thead th {\n",
       "        text-align: right;\n",
       "    }\n",
       "</style>\n",
       "<table border=\"1\" class=\"dataframe\">\n",
       "  <thead>\n",
       "    <tr style=\"text-align: right;\">\n",
       "      <th></th>\n",
       "      <th>longitude</th>\n",
       "      <th>latitude</th>\n",
       "      <th>housing_median_age</th>\n",
       "      <th>total_rooms</th>\n",
       "      <th>total_bedrooms</th>\n",
       "      <th>population</th>\n",
       "      <th>households</th>\n",
       "      <th>median_income</th>\n",
       "      <th>median_house_value</th>\n",
       "    </tr>\n",
       "  </thead>\n",
       "  <tbody>\n",
       "    <tr>\n",
       "      <th>0</th>\n",
       "      <td>-122.05</td>\n",
       "      <td>37.37</td>\n",
       "      <td>27.0</td>\n",
       "      <td>3885.0</td>\n",
       "      <td>661.0</td>\n",
       "      <td>1537.0</td>\n",
       "      <td>606.0</td>\n",
       "      <td>6.6085</td>\n",
       "      <td>344700.0</td>\n",
       "    </tr>\n",
       "    <tr>\n",
       "      <th>1</th>\n",
       "      <td>-118.30</td>\n",
       "      <td>34.26</td>\n",
       "      <td>43.0</td>\n",
       "      <td>1510.0</td>\n",
       "      <td>310.0</td>\n",
       "      <td>809.0</td>\n",
       "      <td>277.0</td>\n",
       "      <td>3.5990</td>\n",
       "      <td>176500.0</td>\n",
       "    </tr>\n",
       "    <tr>\n",
       "      <th>2</th>\n",
       "      <td>-117.81</td>\n",
       "      <td>33.78</td>\n",
       "      <td>27.0</td>\n",
       "      <td>3589.0</td>\n",
       "      <td>507.0</td>\n",
       "      <td>1484.0</td>\n",
       "      <td>495.0</td>\n",
       "      <td>5.7934</td>\n",
       "      <td>270500.0</td>\n",
       "    </tr>\n",
       "  </tbody>\n",
       "</table>\n",
       "</div>"
      ],
      "text/plain": [
       "   longitude  latitude  housing_median_age  total_rooms  total_bedrooms  \\\n",
       "0    -122.05     37.37                27.0       3885.0           661.0   \n",
       "1    -118.30     34.26                43.0       1510.0           310.0   \n",
       "2    -117.81     33.78                27.0       3589.0           507.0   \n",
       "\n",
       "   population  households  median_income  median_house_value  \n",
       "0      1537.0       606.0         6.6085            344700.0  \n",
       "1       809.0       277.0         3.5990            176500.0  \n",
       "2      1484.0       495.0         5.7934            270500.0  "
      ]
     },
     "metadata": {},
     "output_type": "display_data"
    }
   ],
   "source": [
    "train_file_path = \"california_housing_train.csv\"\n",
    "test_file_path = \"california_housing_test.csv\"\n",
    "\n",
    "train_df = pd.read_csv(train_file_path)\n",
    "test_df = pd.read_csv(test_file_path)\n",
    "display(train_df.head(3))\n",
    "display(test_df.head(3))"
   ]
  },
  {
   "cell_type": "markdown",
   "metadata": {},
   "source": [
    "###### SHAPE OF DATASET"
   ]
  },
  {
   "cell_type": "code",
   "execution_count": 4,
   "metadata": {},
   "outputs": [
    {
     "data": {
      "text/plain": [
       "(17000, 9)"
      ]
     },
     "metadata": {},
     "output_type": "display_data"
    },
    {
     "data": {
      "text/plain": [
       "(3000, 9)"
      ]
     },
     "metadata": {},
     "output_type": "display_data"
    }
   ],
   "source": [
    "display(train_df.shape)\n",
    "display(test_df.shape)"
   ]
  },
  {
   "cell_type": "markdown",
   "metadata": {},
   "source": [
    "###### DATASET DESCRIPTION OF TRAIN/TEST"
   ]
  },
  {
   "cell_type": "code",
   "execution_count": 5,
   "metadata": {},
   "outputs": [
    {
     "data": {
      "text/html": [
       "<div>\n",
       "<style scoped>\n",
       "    .dataframe tbody tr th:only-of-type {\n",
       "        vertical-align: middle;\n",
       "    }\n",
       "\n",
       "    .dataframe tbody tr th {\n",
       "        vertical-align: top;\n",
       "    }\n",
       "\n",
       "    .dataframe thead th {\n",
       "        text-align: right;\n",
       "    }\n",
       "</style>\n",
       "<table border=\"1\" class=\"dataframe\">\n",
       "  <thead>\n",
       "    <tr style=\"text-align: right;\">\n",
       "      <th></th>\n",
       "      <th>longitude</th>\n",
       "      <th>latitude</th>\n",
       "      <th>housing_median_age</th>\n",
       "      <th>total_rooms</th>\n",
       "      <th>total_bedrooms</th>\n",
       "      <th>population</th>\n",
       "      <th>households</th>\n",
       "      <th>median_income</th>\n",
       "      <th>median_house_value</th>\n",
       "    </tr>\n",
       "  </thead>\n",
       "  <tbody>\n",
       "    <tr>\n",
       "      <th>count</th>\n",
       "      <td>17000.000000</td>\n",
       "      <td>17000.000000</td>\n",
       "      <td>17000.000000</td>\n",
       "      <td>17000.000000</td>\n",
       "      <td>17000.000000</td>\n",
       "      <td>17000.000000</td>\n",
       "      <td>17000.000000</td>\n",
       "      <td>17000.000000</td>\n",
       "      <td>17000.000000</td>\n",
       "    </tr>\n",
       "    <tr>\n",
       "      <th>mean</th>\n",
       "      <td>-119.562108</td>\n",
       "      <td>35.625225</td>\n",
       "      <td>28.589353</td>\n",
       "      <td>2643.664412</td>\n",
       "      <td>539.410824</td>\n",
       "      <td>1429.573941</td>\n",
       "      <td>501.221941</td>\n",
       "      <td>3.883578</td>\n",
       "      <td>207300.912353</td>\n",
       "    </tr>\n",
       "    <tr>\n",
       "      <th>std</th>\n",
       "      <td>2.005166</td>\n",
       "      <td>2.137340</td>\n",
       "      <td>12.586937</td>\n",
       "      <td>2179.947071</td>\n",
       "      <td>421.499452</td>\n",
       "      <td>1147.852959</td>\n",
       "      <td>384.520841</td>\n",
       "      <td>1.908157</td>\n",
       "      <td>115983.764387</td>\n",
       "    </tr>\n",
       "    <tr>\n",
       "      <th>min</th>\n",
       "      <td>-124.350000</td>\n",
       "      <td>32.540000</td>\n",
       "      <td>1.000000</td>\n",
       "      <td>2.000000</td>\n",
       "      <td>1.000000</td>\n",
       "      <td>3.000000</td>\n",
       "      <td>1.000000</td>\n",
       "      <td>0.499900</td>\n",
       "      <td>14999.000000</td>\n",
       "    </tr>\n",
       "    <tr>\n",
       "      <th>25%</th>\n",
       "      <td>-121.790000</td>\n",
       "      <td>33.930000</td>\n",
       "      <td>18.000000</td>\n",
       "      <td>1462.000000</td>\n",
       "      <td>297.000000</td>\n",
       "      <td>790.000000</td>\n",
       "      <td>282.000000</td>\n",
       "      <td>2.566375</td>\n",
       "      <td>119400.000000</td>\n",
       "    </tr>\n",
       "    <tr>\n",
       "      <th>50%</th>\n",
       "      <td>-118.490000</td>\n",
       "      <td>34.250000</td>\n",
       "      <td>29.000000</td>\n",
       "      <td>2127.000000</td>\n",
       "      <td>434.000000</td>\n",
       "      <td>1167.000000</td>\n",
       "      <td>409.000000</td>\n",
       "      <td>3.544600</td>\n",
       "      <td>180400.000000</td>\n",
       "    </tr>\n",
       "    <tr>\n",
       "      <th>75%</th>\n",
       "      <td>-118.000000</td>\n",
       "      <td>37.720000</td>\n",
       "      <td>37.000000</td>\n",
       "      <td>3151.250000</td>\n",
       "      <td>648.250000</td>\n",
       "      <td>1721.000000</td>\n",
       "      <td>605.250000</td>\n",
       "      <td>4.767000</td>\n",
       "      <td>265000.000000</td>\n",
       "    </tr>\n",
       "    <tr>\n",
       "      <th>max</th>\n",
       "      <td>-114.310000</td>\n",
       "      <td>41.950000</td>\n",
       "      <td>52.000000</td>\n",
       "      <td>37937.000000</td>\n",
       "      <td>6445.000000</td>\n",
       "      <td>35682.000000</td>\n",
       "      <td>6082.000000</td>\n",
       "      <td>15.000100</td>\n",
       "      <td>500001.000000</td>\n",
       "    </tr>\n",
       "  </tbody>\n",
       "</table>\n",
       "</div>"
      ],
      "text/plain": [
       "          longitude      latitude  housing_median_age   total_rooms  \\\n",
       "count  17000.000000  17000.000000        17000.000000  17000.000000   \n",
       "mean    -119.562108     35.625225           28.589353   2643.664412   \n",
       "std        2.005166      2.137340           12.586937   2179.947071   \n",
       "min     -124.350000     32.540000            1.000000      2.000000   \n",
       "25%     -121.790000     33.930000           18.000000   1462.000000   \n",
       "50%     -118.490000     34.250000           29.000000   2127.000000   \n",
       "75%     -118.000000     37.720000           37.000000   3151.250000   \n",
       "max     -114.310000     41.950000           52.000000  37937.000000   \n",
       "\n",
       "       total_bedrooms    population    households  median_income  \\\n",
       "count    17000.000000  17000.000000  17000.000000   17000.000000   \n",
       "mean       539.410824   1429.573941    501.221941       3.883578   \n",
       "std        421.499452   1147.852959    384.520841       1.908157   \n",
       "min          1.000000      3.000000      1.000000       0.499900   \n",
       "25%        297.000000    790.000000    282.000000       2.566375   \n",
       "50%        434.000000   1167.000000    409.000000       3.544600   \n",
       "75%        648.250000   1721.000000    605.250000       4.767000   \n",
       "max       6445.000000  35682.000000   6082.000000      15.000100   \n",
       "\n",
       "       median_house_value  \n",
       "count        17000.000000  \n",
       "mean        207300.912353  \n",
       "std         115983.764387  \n",
       "min          14999.000000  \n",
       "25%         119400.000000  \n",
       "50%         180400.000000  \n",
       "75%         265000.000000  \n",
       "max         500001.000000  "
      ]
     },
     "metadata": {},
     "output_type": "display_data"
    },
    {
     "data": {
      "text/html": [
       "<div>\n",
       "<style scoped>\n",
       "    .dataframe tbody tr th:only-of-type {\n",
       "        vertical-align: middle;\n",
       "    }\n",
       "\n",
       "    .dataframe tbody tr th {\n",
       "        vertical-align: top;\n",
       "    }\n",
       "\n",
       "    .dataframe thead th {\n",
       "        text-align: right;\n",
       "    }\n",
       "</style>\n",
       "<table border=\"1\" class=\"dataframe\">\n",
       "  <thead>\n",
       "    <tr style=\"text-align: right;\">\n",
       "      <th></th>\n",
       "      <th>longitude</th>\n",
       "      <th>latitude</th>\n",
       "      <th>housing_median_age</th>\n",
       "      <th>total_rooms</th>\n",
       "      <th>total_bedrooms</th>\n",
       "      <th>population</th>\n",
       "      <th>households</th>\n",
       "      <th>median_income</th>\n",
       "      <th>median_house_value</th>\n",
       "    </tr>\n",
       "  </thead>\n",
       "  <tbody>\n",
       "    <tr>\n",
       "      <th>count</th>\n",
       "      <td>3000.000000</td>\n",
       "      <td>3000.00000</td>\n",
       "      <td>3000.000000</td>\n",
       "      <td>3000.000000</td>\n",
       "      <td>3000.000000</td>\n",
       "      <td>3000.000000</td>\n",
       "      <td>3000.00000</td>\n",
       "      <td>3000.000000</td>\n",
       "      <td>3000.00000</td>\n",
       "    </tr>\n",
       "    <tr>\n",
       "      <th>mean</th>\n",
       "      <td>-119.589200</td>\n",
       "      <td>35.63539</td>\n",
       "      <td>28.845333</td>\n",
       "      <td>2599.578667</td>\n",
       "      <td>529.950667</td>\n",
       "      <td>1402.798667</td>\n",
       "      <td>489.91200</td>\n",
       "      <td>3.807272</td>\n",
       "      <td>205846.27500</td>\n",
       "    </tr>\n",
       "    <tr>\n",
       "      <th>std</th>\n",
       "      <td>1.994936</td>\n",
       "      <td>2.12967</td>\n",
       "      <td>12.555396</td>\n",
       "      <td>2155.593332</td>\n",
       "      <td>415.654368</td>\n",
       "      <td>1030.543012</td>\n",
       "      <td>365.42271</td>\n",
       "      <td>1.854512</td>\n",
       "      <td>113119.68747</td>\n",
       "    </tr>\n",
       "    <tr>\n",
       "      <th>min</th>\n",
       "      <td>-124.180000</td>\n",
       "      <td>32.56000</td>\n",
       "      <td>1.000000</td>\n",
       "      <td>6.000000</td>\n",
       "      <td>2.000000</td>\n",
       "      <td>5.000000</td>\n",
       "      <td>2.00000</td>\n",
       "      <td>0.499900</td>\n",
       "      <td>22500.00000</td>\n",
       "    </tr>\n",
       "    <tr>\n",
       "      <th>25%</th>\n",
       "      <td>-121.810000</td>\n",
       "      <td>33.93000</td>\n",
       "      <td>18.000000</td>\n",
       "      <td>1401.000000</td>\n",
       "      <td>291.000000</td>\n",
       "      <td>780.000000</td>\n",
       "      <td>273.00000</td>\n",
       "      <td>2.544000</td>\n",
       "      <td>121200.00000</td>\n",
       "    </tr>\n",
       "    <tr>\n",
       "      <th>50%</th>\n",
       "      <td>-118.485000</td>\n",
       "      <td>34.27000</td>\n",
       "      <td>29.000000</td>\n",
       "      <td>2106.000000</td>\n",
       "      <td>437.000000</td>\n",
       "      <td>1155.000000</td>\n",
       "      <td>409.50000</td>\n",
       "      <td>3.487150</td>\n",
       "      <td>177650.00000</td>\n",
       "    </tr>\n",
       "    <tr>\n",
       "      <th>75%</th>\n",
       "      <td>-118.020000</td>\n",
       "      <td>37.69000</td>\n",
       "      <td>37.000000</td>\n",
       "      <td>3129.000000</td>\n",
       "      <td>636.000000</td>\n",
       "      <td>1742.750000</td>\n",
       "      <td>597.25000</td>\n",
       "      <td>4.656475</td>\n",
       "      <td>263975.00000</td>\n",
       "    </tr>\n",
       "    <tr>\n",
       "      <th>max</th>\n",
       "      <td>-114.490000</td>\n",
       "      <td>41.92000</td>\n",
       "      <td>52.000000</td>\n",
       "      <td>30450.000000</td>\n",
       "      <td>5419.000000</td>\n",
       "      <td>11935.000000</td>\n",
       "      <td>4930.00000</td>\n",
       "      <td>15.000100</td>\n",
       "      <td>500001.00000</td>\n",
       "    </tr>\n",
       "  </tbody>\n",
       "</table>\n",
       "</div>"
      ],
      "text/plain": [
       "         longitude    latitude  housing_median_age   total_rooms  \\\n",
       "count  3000.000000  3000.00000         3000.000000   3000.000000   \n",
       "mean   -119.589200    35.63539           28.845333   2599.578667   \n",
       "std       1.994936     2.12967           12.555396   2155.593332   \n",
       "min    -124.180000    32.56000            1.000000      6.000000   \n",
       "25%    -121.810000    33.93000           18.000000   1401.000000   \n",
       "50%    -118.485000    34.27000           29.000000   2106.000000   \n",
       "75%    -118.020000    37.69000           37.000000   3129.000000   \n",
       "max    -114.490000    41.92000           52.000000  30450.000000   \n",
       "\n",
       "       total_bedrooms    population  households  median_income  \\\n",
       "count     3000.000000   3000.000000  3000.00000    3000.000000   \n",
       "mean       529.950667   1402.798667   489.91200       3.807272   \n",
       "std        415.654368   1030.543012   365.42271       1.854512   \n",
       "min          2.000000      5.000000     2.00000       0.499900   \n",
       "25%        291.000000    780.000000   273.00000       2.544000   \n",
       "50%        437.000000   1155.000000   409.50000       3.487150   \n",
       "75%        636.000000   1742.750000   597.25000       4.656475   \n",
       "max       5419.000000  11935.000000  4930.00000      15.000100   \n",
       "\n",
       "       median_house_value  \n",
       "count          3000.00000  \n",
       "mean         205846.27500  \n",
       "std          113119.68747  \n",
       "min           22500.00000  \n",
       "25%          121200.00000  \n",
       "50%          177650.00000  \n",
       "75%          263975.00000  \n",
       "max          500001.00000  "
      ]
     },
     "metadata": {},
     "output_type": "display_data"
    }
   ],
   "source": [
    "display(train_df.describe())\n",
    "display(test_df.describe())"
   ]
  },
  {
   "cell_type": "markdown",
   "metadata": {},
   "source": [
    "##### CHECK NULL VALUES"
   ]
  },
  {
   "cell_type": "code",
   "execution_count": 7,
   "metadata": {},
   "outputs": [
    {
     "data": {
      "text/plain": [
       "longitude             0\n",
       "latitude              0\n",
       "housing_median_age    0\n",
       "total_rooms           0\n",
       "total_bedrooms        0\n",
       "population            0\n",
       "households            0\n",
       "median_income         0\n",
       "median_house_value    0\n",
       "dtype: int64"
      ]
     },
     "metadata": {},
     "output_type": "display_data"
    },
    {
     "data": {
      "text/plain": [
       "longitude             0\n",
       "latitude              0\n",
       "housing_median_age    0\n",
       "total_rooms           0\n",
       "total_bedrooms        0\n",
       "population            0\n",
       "households            0\n",
       "median_income         0\n",
       "median_house_value    0\n",
       "dtype: int64"
      ]
     },
     "metadata": {},
     "output_type": "display_data"
    }
   ],
   "source": [
    "display(train_df.isnull().sum())\n",
    "display(test_df.isnull().sum())"
   ]
  },
  {
   "cell_type": "markdown",
   "metadata": {},
   "source": [
    "##### SPLIT DATASET INTO DEPENDEND AND INDEPENDENT FEATURE"
   ]
  },
  {
   "cell_type": "code",
   "execution_count": 8,
   "metadata": {},
   "outputs": [],
   "source": [
    "TARGET_NAME = \"median_house_value\"\n",
    "\n",
    "X_train, y_train = train_df.drop(TARGET_NAME, axis=1), train_df[TARGET_NAME]\n",
    "X_test, y_test = test_df.drop(TARGET_NAME, axis=1), test_df[TARGET_NAME]"
   ]
  },
  {
   "cell_type": "markdown",
   "metadata": {},
   "source": [
    "#### FEATURE SCALING"
   ]
  },
  {
   "cell_type": "code",
   "execution_count": 9,
   "metadata": {},
   "outputs": [],
   "source": [
    "# Feature Scaling\n",
    "sc = StandardScaler()\n",
    "X_train = sc.fit_transform(X_train)\n",
    "X_test = sc.transform(X_test)"
   ]
  },
  {
   "cell_type": "markdown",
   "metadata": {},
   "source": [
    "#### KERAS TUNER"
   ]
  },
  {
   "cell_type": "markdown",
   "metadata": {},
   "source": [
    "\n",
    "\n",
    "An open-source Python library called Keras Tuner was created specifically for adjusting the hyperparameters of artificial neural networks. Currently, the Keras tuner supports four different types of tuners or algorithms:\n",
    "\n",
    "    Bayesian Optimization\n",
    "    Hyperband\n",
    "    Sklearn\n",
    "    Random Search\n",
    "\n",
    "The Hyper model is the one you want to tune.\n",
    "\n",
    "    Using the model-building feature we can enable this tuning feature\n",
    "\n",
    "We are going to build the ann with 4 layers\n",
    "\n",
    "    Input layer\n",
    "    Hidden layer 1\n",
    "    Hidden layer 2\n",
    "    Output Layer\n",
    "\n",
    "unit1, unit2, unit3 will have the range between 25 to 512 with step 32\n",
    "\n",
    "These will be apply to input layer and hidden layers\n",
    "\n",
    "The learning rate will be picked up based on given inputs and hence we are use choice method to perform that action\n",
    "\n",
    "Since this is the regression problem, we are using 'linear' activation function in the output layer. on the hidden layers we are using 'relu'.\n",
    "\n",
    "For weight updation, we are using adam optimizers and the loss will be MSLE (Mean Squarred Log Error)\n"
   ]
  },
  {
   "cell_type": "code",
   "execution_count": 10,
   "metadata": {},
   "outputs": [],
   "source": [
    "from sklearn import metrics\n",
    "\n",
    "\n",
    "msle = MeanSquaredLogarithmicError()\n",
    "\n",
    "def buildANNModel(hp):\n",
    "    model = tf.keras.Sequential()\n",
    "    \n",
    "    units1 = hp.Int('units1', min_value=25, max_value=512, step=32)\n",
    "    units2 = hp.Int('units2', min_value=25, max_value=512, step=32)\n",
    "    units3 = hp.Int('units3', min_value=25, max_value=512, step=32)\n",
    "    \n",
    "    model.add(Dense(units=units1, activation='relu'))\n",
    "    model.add(Dense(units=units2, activation='relu'))\n",
    "    model.add(Dense(units=units3, activation='linear'))\n",
    "    \n",
    "    hp_learning_rate = hp.Choice(\n",
    "        'learning_rate', \n",
    "        values=[1e-2, 1e-3, 1e-4]\n",
    "        )\n",
    "    \n",
    "    model.compile(\n",
    "        optimizer = Adam(learning_rate=hp_learning_rate),\n",
    "        loss=msle,\n",
    "        metrics=[msle]\n",
    "    )\n",
    "    \n",
    "    return model\n"
   ]
  },
  {
   "cell_type": "markdown",
   "metadata": {},
   "source": [
    "In order to get a high-performing model quickly, the Hyperband tuning algorithm makes use of adaptive resource allocation and early-stopping."
   ]
  },
  {
   "cell_type": "code",
   "execution_count": 12,
   "metadata": {},
   "outputs": [],
   "source": [
    "# HyperBand algorithm from keras tuner\n",
    "tuner = kt.Hyperband(\n",
    "    buildANNModel,\n",
    "    objective='val_mean_squared_logarithmic_error',\n",
    "    max_epochs=10,\n",
    "    directory='keras_tuner_dir',\n",
    "    project_name='keras_tuner_demo'\n",
    ")"
   ]
  },
  {
   "cell_type": "code",
   "execution_count": 14,
   "metadata": {},
   "outputs": [
    {
     "name": "stdout",
     "output_type": "stream",
     "text": [
      "Trial 30 Complete [00h 01m 02s]\n",
      "val_mean_squared_logarithmic_error: 7.535202503204346\n",
      "\n",
      "Best val_mean_squared_logarithmic_error So Far: 0.381743460893631\n",
      "Total elapsed time: 00h 11m 00s\n",
      "INFO:tensorflow:Oracle triggered exit\n"
     ]
    }
   ],
   "source": [
    "tuner.search(X_train, y_train, epochs=10, validation_split=0.2)"
   ]
  },
  {
   "cell_type": "code",
   "execution_count": 15,
   "metadata": {},
   "outputs": [
    {
     "name": "stdout",
     "output_type": "stream",
     "text": [
      "units1 281\n",
      "units2 345\n",
      "units3 25\n",
      "learning_rate 0.01\n"
     ]
    }
   ],
   "source": [
    "for p in ['units1','units2','units3','learning_rate']:\n",
    "  print(p, tuner.get_best_hyperparameters()[0].get(p))"
   ]
  },
  {
   "cell_type": "markdown",
   "metadata": {},
   "source": [
    "#### MODEL EVALUATION"
   ]
  },
  {
   "cell_type": "code",
   "execution_count": 16,
   "metadata": {},
   "outputs": [
    {
     "data": {
      "text/plain": [
       "<keras_tuner.engine.hyperparameters.HyperParameters at 0x2d512c59ec8>"
      ]
     },
     "execution_count": 16,
     "metadata": {},
     "output_type": "execute_result"
    }
   ],
   "source": [
    "best_hps=tuner.get_best_hyperparameters(num_trials=1)[0]\n",
    "best_hps"
   ]
  },
  {
   "cell_type": "code",
   "execution_count": 17,
   "metadata": {},
   "outputs": [],
   "source": [
    "model = tuner.hypermodel.build(best_hps)"
   ]
  },
  {
   "cell_type": "code",
   "execution_count": 19,
   "metadata": {},
   "outputs": [
    {
     "name": "stdout",
     "output_type": "stream",
     "text": [
      "Epoch 1/50\n",
      "425/425 [==============================] - 3s 5ms/step - loss: 8.8295 - mean_squared_logarithmic_error: 8.8295 - val_loss: 2.5687 - val_mean_squared_logarithmic_error: 2.5528\n",
      "Epoch 2/50\n",
      "425/425 [==============================] - 2s 5ms/step - loss: 0.5676 - mean_squared_logarithmic_error: 0.5676 - val_loss: 0.9957 - val_mean_squared_logarithmic_error: 0.9899\n",
      "Epoch 3/50\n",
      "425/425 [==============================] - 3s 6ms/step - loss: 0.3127 - mean_squared_logarithmic_error: 0.3127 - val_loss: 0.6133 - val_mean_squared_logarithmic_error: 0.6115\n",
      "Epoch 4/50\n",
      "425/425 [==============================] - 3s 6ms/step - loss: 0.2487 - mean_squared_logarithmic_error: 0.2487 - val_loss: 0.4532 - val_mean_squared_logarithmic_error: 0.4536\n",
      "Epoch 5/50\n",
      "425/425 [==============================] - 2s 5ms/step - loss: 0.2060 - mean_squared_logarithmic_error: 0.2060 - val_loss: 0.3560 - val_mean_squared_logarithmic_error: 0.3580\n",
      "Epoch 6/50\n",
      "425/425 [==============================] - 2s 5ms/step - loss: 0.1738 - mean_squared_logarithmic_error: 0.1738 - val_loss: 0.2958 - val_mean_squared_logarithmic_error: 0.2986\n",
      "Epoch 7/50\n",
      "425/425 [==============================] - 2s 5ms/step - loss: 0.1483 - mean_squared_logarithmic_error: 0.1483 - val_loss: 0.2492 - val_mean_squared_logarithmic_error: 0.2520\n",
      "Epoch 8/50\n",
      "425/425 [==============================] - 2s 5ms/step - loss: 0.1277 - mean_squared_logarithmic_error: 0.1277 - val_loss: 0.2009 - val_mean_squared_logarithmic_error: 0.2039\n",
      "Epoch 9/50\n",
      "425/425 [==============================] - 2s 6ms/step - loss: 0.1131 - mean_squared_logarithmic_error: 0.1131 - val_loss: 0.1676 - val_mean_squared_logarithmic_error: 0.1705\n",
      "Epoch 10/50\n",
      "425/425 [==============================] - 2s 6ms/step - loss: 0.1043 - mean_squared_logarithmic_error: 0.1043 - val_loss: 0.1431 - val_mean_squared_logarithmic_error: 0.1458\n",
      "Epoch 11/50\n",
      "425/425 [==============================] - 3s 7ms/step - loss: 0.0999 - mean_squared_logarithmic_error: 0.0999 - val_loss: 0.1342 - val_mean_squared_logarithmic_error: 0.1372\n",
      "Epoch 12/50\n",
      "425/425 [==============================] - 3s 7ms/step - loss: 0.0972 - mean_squared_logarithmic_error: 0.0972 - val_loss: 0.1268 - val_mean_squared_logarithmic_error: 0.1296\n",
      "Epoch 13/50\n",
      "425/425 [==============================] - 2s 6ms/step - loss: 0.0954 - mean_squared_logarithmic_error: 0.0954 - val_loss: 0.1183 - val_mean_squared_logarithmic_error: 0.1210\n",
      "Epoch 14/50\n",
      "425/425 [==============================] - 3s 6ms/step - loss: 0.0940 - mean_squared_logarithmic_error: 0.0940 - val_loss: 0.1189 - val_mean_squared_logarithmic_error: 0.1214\n",
      "Epoch 15/50\n",
      "425/425 [==============================] - 3s 6ms/step - loss: 0.0930 - mean_squared_logarithmic_error: 0.0930 - val_loss: 0.1169 - val_mean_squared_logarithmic_error: 0.1196\n",
      "Epoch 16/50\n",
      "425/425 [==============================] - 3s 6ms/step - loss: 0.0917 - mean_squared_logarithmic_error: 0.0917 - val_loss: 0.1152 - val_mean_squared_logarithmic_error: 0.1176\n",
      "Epoch 17/50\n",
      "425/425 [==============================] - 3s 6ms/step - loss: 0.0913 - mean_squared_logarithmic_error: 0.0913 - val_loss: 0.1149 - val_mean_squared_logarithmic_error: 0.1172\n",
      "Epoch 18/50\n",
      "425/425 [==============================] - 3s 6ms/step - loss: 0.0904 - mean_squared_logarithmic_error: 0.0904 - val_loss: 0.1078 - val_mean_squared_logarithmic_error: 0.1101\n",
      "Epoch 19/50\n",
      "425/425 [==============================] - 2s 6ms/step - loss: 0.0897 - mean_squared_logarithmic_error: 0.0897 - val_loss: 0.1125 - val_mean_squared_logarithmic_error: 0.1153\n",
      "Epoch 20/50\n",
      "425/425 [==============================] - 2s 5ms/step - loss: 0.0895 - mean_squared_logarithmic_error: 0.0895 - val_loss: 0.1149 - val_mean_squared_logarithmic_error: 0.1178\n",
      "Epoch 21/50\n",
      "425/425 [==============================] - 2s 5ms/step - loss: 0.0890 - mean_squared_logarithmic_error: 0.0890 - val_loss: 0.1082 - val_mean_squared_logarithmic_error: 0.1103\n",
      "Epoch 22/50\n",
      "425/425 [==============================] - 2s 5ms/step - loss: 0.0885 - mean_squared_logarithmic_error: 0.0885 - val_loss: 0.1107 - val_mean_squared_logarithmic_error: 0.1136\n",
      "Epoch 23/50\n",
      "425/425 [==============================] - 2s 5ms/step - loss: 0.0882 - mean_squared_logarithmic_error: 0.0882 - val_loss: 0.1126 - val_mean_squared_logarithmic_error: 0.1155\n",
      "Epoch 24/50\n",
      "425/425 [==============================] - 2s 5ms/step - loss: 0.0879 - mean_squared_logarithmic_error: 0.0879 - val_loss: 0.1008 - val_mean_squared_logarithmic_error: 0.1029\n",
      "Epoch 25/50\n",
      "425/425 [==============================] - 2s 6ms/step - loss: 0.0875 - mean_squared_logarithmic_error: 0.0875 - val_loss: 0.1086 - val_mean_squared_logarithmic_error: 0.1110\n",
      "Epoch 26/50\n",
      "425/425 [==============================] - 2s 6ms/step - loss: 0.0872 - mean_squared_logarithmic_error: 0.0872 - val_loss: 0.1008 - val_mean_squared_logarithmic_error: 0.1029\n",
      "Epoch 27/50\n",
      "425/425 [==============================] - 2s 5ms/step - loss: 0.0870 - mean_squared_logarithmic_error: 0.0870 - val_loss: 0.1047 - val_mean_squared_logarithmic_error: 0.1070\n",
      "Epoch 28/50\n",
      "425/425 [==============================] - 2s 5ms/step - loss: 0.0872 - mean_squared_logarithmic_error: 0.0872 - val_loss: 0.0992 - val_mean_squared_logarithmic_error: 0.1012\n",
      "Epoch 29/50\n",
      "425/425 [==============================] - 2s 5ms/step - loss: 0.0867 - mean_squared_logarithmic_error: 0.0867 - val_loss: 0.1078 - val_mean_squared_logarithmic_error: 0.1101\n",
      "Epoch 30/50\n",
      "425/425 [==============================] - 2s 5ms/step - loss: 0.0866 - mean_squared_logarithmic_error: 0.0866 - val_loss: 0.1015 - val_mean_squared_logarithmic_error: 0.1037\n",
      "Epoch 31/50\n",
      "425/425 [==============================] - 2s 5ms/step - loss: 0.0865 - mean_squared_logarithmic_error: 0.0865 - val_loss: 0.1025 - val_mean_squared_logarithmic_error: 0.1046\n",
      "Epoch 32/50\n",
      "425/425 [==============================] - 2s 5ms/step - loss: 0.0868 - mean_squared_logarithmic_error: 0.0868 - val_loss: 0.1065 - val_mean_squared_logarithmic_error: 0.1087\n",
      "Epoch 33/50\n",
      "425/425 [==============================] - 2s 5ms/step - loss: 0.0860 - mean_squared_logarithmic_error: 0.0860 - val_loss: 0.1062 - val_mean_squared_logarithmic_error: 0.1083\n",
      "Epoch 34/50\n",
      "425/425 [==============================] - 2s 5ms/step - loss: 0.0858 - mean_squared_logarithmic_error: 0.0858 - val_loss: 0.0972 - val_mean_squared_logarithmic_error: 0.0989\n",
      "Epoch 35/50\n",
      "425/425 [==============================] - 2s 5ms/step - loss: 0.0859 - mean_squared_logarithmic_error: 0.0859 - val_loss: 0.1016 - val_mean_squared_logarithmic_error: 0.1038\n",
      "Epoch 36/50\n",
      "425/425 [==============================] - 2s 5ms/step - loss: 0.0861 - mean_squared_logarithmic_error: 0.0861 - val_loss: 0.0945 - val_mean_squared_logarithmic_error: 0.0961\n",
      "Epoch 37/50\n",
      "425/425 [==============================] - 2s 5ms/step - loss: 0.0857 - mean_squared_logarithmic_error: 0.0857 - val_loss: 0.0975 - val_mean_squared_logarithmic_error: 0.0991\n",
      "Epoch 38/50\n",
      "425/425 [==============================] - 2s 6ms/step - loss: 0.0857 - mean_squared_logarithmic_error: 0.0857 - val_loss: 0.1000 - val_mean_squared_logarithmic_error: 0.1017\n",
      "Epoch 39/50\n",
      "425/425 [==============================] - 2s 5ms/step - loss: 0.0858 - mean_squared_logarithmic_error: 0.0858 - val_loss: 0.1054 - val_mean_squared_logarithmic_error: 0.1076\n",
      "Epoch 40/50\n",
      "425/425 [==============================] - 2s 5ms/step - loss: 0.0854 - mean_squared_logarithmic_error: 0.0854 - val_loss: 0.1034 - val_mean_squared_logarithmic_error: 0.1052\n",
      "Epoch 41/50\n",
      "425/425 [==============================] - 2s 5ms/step - loss: 0.0853 - mean_squared_logarithmic_error: 0.0853 - val_loss: 0.1101 - val_mean_squared_logarithmic_error: 0.1124\n",
      "Epoch 42/50\n",
      "425/425 [==============================] - 2s 5ms/step - loss: 0.0856 - mean_squared_logarithmic_error: 0.0856 - val_loss: 0.0967 - val_mean_squared_logarithmic_error: 0.0985\n",
      "Epoch 43/50\n",
      "425/425 [==============================] - 2s 5ms/step - loss: 0.0852 - mean_squared_logarithmic_error: 0.0852 - val_loss: 0.1004 - val_mean_squared_logarithmic_error: 0.1022\n",
      "Epoch 44/50\n",
      "425/425 [==============================] - 2s 5ms/step - loss: 0.0851 - mean_squared_logarithmic_error: 0.0851 - val_loss: 0.1029 - val_mean_squared_logarithmic_error: 0.1049\n",
      "Epoch 45/50\n",
      "425/425 [==============================] - 2s 5ms/step - loss: 0.0849 - mean_squared_logarithmic_error: 0.0849 - val_loss: 0.0965 - val_mean_squared_logarithmic_error: 0.0979\n",
      "Epoch 46/50\n",
      "425/425 [==============================] - 2s 5ms/step - loss: 0.0854 - mean_squared_logarithmic_error: 0.0854 - val_loss: 0.0996 - val_mean_squared_logarithmic_error: 0.1013\n",
      "Epoch 47/50\n",
      "425/425 [==============================] - 2s 5ms/step - loss: 0.0849 - mean_squared_logarithmic_error: 0.0849 - val_loss: 0.1017 - val_mean_squared_logarithmic_error: 0.1036\n",
      "Epoch 48/50\n",
      "425/425 [==============================] - 2s 5ms/step - loss: 0.0845 - mean_squared_logarithmic_error: 0.0845 - val_loss: 0.1027 - val_mean_squared_logarithmic_error: 0.1047\n",
      "Epoch 49/50\n",
      "425/425 [==============================] - 2s 5ms/step - loss: 0.0840 - mean_squared_logarithmic_error: 0.0840 - val_loss: 0.1112 - val_mean_squared_logarithmic_error: 0.1136\n",
      "Epoch 50/50\n",
      "425/425 [==============================] - 2s 5ms/step - loss: 0.0838 - mean_squared_logarithmic_error: 0.0838 - val_loss: 0.0992 - val_mean_squared_logarithmic_error: 0.1010\n"
     ]
    }
   ],
   "source": [
    "history = model.fit(X_train, y_train, epochs=50, validation_split=0.2)"
   ]
  },
  {
   "cell_type": "code",
   "execution_count": 20,
   "metadata": {},
   "outputs": [
    {
     "name": "stdout",
     "output_type": "stream",
     "text": [
      "94/94 [==============================] - 0s 4ms/step - loss: 0.0921 - mean_squared_logarithmic_error: 0.0921\n",
      "[0.09214451909065247, 0.09213564544916153]\n"
     ]
    }
   ],
   "source": [
    "eval_result = model.evaluate(X_test, y_test)\n",
    "print(eval_result)"
   ]
  },
  {
   "cell_type": "code",
   "execution_count": 21,
   "metadata": {},
   "outputs": [
    {
     "name": "stdout",
     "output_type": "stream",
     "text": [
      "Model: \"sequential_1\"\n",
      "_________________________________________________________________\n",
      "Layer (type)                 Output Shape              Param #   \n",
      "=================================================================\n",
      "dense_3 (Dense)              (None, 281)               2529      \n",
      "_________________________________________________________________\n",
      "dense_4 (Dense)              (None, 345)               97290     \n",
      "_________________________________________________________________\n",
      "dense_5 (Dense)              (None, 25)                8650      \n",
      "=================================================================\n",
      "Total params: 108,469\n",
      "Trainable params: 108,469\n",
      "Non-trainable params: 0\n",
      "_________________________________________________________________\n"
     ]
    }
   ],
   "source": [
    "model.summary()"
   ]
  },
  {
   "cell_type": "code",
   "execution_count": null,
   "metadata": {},
   "outputs": [],
   "source": []
  }
 ],
 "metadata": {
  "kernelspec": {
   "display_name": "Python 3.7.9 64-bit",
   "language": "python",
   "name": "python3"
  },
  "language_info": {
   "codemirror_mode": {
    "name": "ipython",
    "version": 3
   },
   "file_extension": ".py",
   "mimetype": "text/x-python",
   "name": "python",
   "nbconvert_exporter": "python",
   "pygments_lexer": "ipython3",
   "version": "3.7.9"
  },
  "orig_nbformat": 4,
  "vscode": {
   "interpreter": {
    "hash": "76f9d24db490f063a43275b89fd1d2161713c4a18df9de8776ded94173eccf3a"
   }
  }
 },
 "nbformat": 4,
 "nbformat_minor": 2
}
