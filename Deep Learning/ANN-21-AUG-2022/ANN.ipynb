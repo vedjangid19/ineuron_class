{
 "cells": [
  {
   "cell_type": "code",
   "execution_count": 1,
   "metadata": {},
   "outputs": [
    {
     "data": {
      "text/plain": [
       "'2.6.0'"
      ]
     },
     "execution_count": 1,
     "metadata": {},
     "output_type": "execute_result"
    }
   ],
   "source": [
    "import tensorflow as tf\n",
    "tf.__version__"
   ]
  },
  {
   "cell_type": "code",
   "execution_count": 2,
   "metadata": {},
   "outputs": [],
   "source": [
    "import pandas as pd\n",
    "import numpy as np\n",
    "import matplotlib.pyplot as plt"
   ]
  },
  {
   "cell_type": "code",
   "execution_count": 3,
   "metadata": {},
   "outputs": [
    {
     "data": {
      "text/html": [
       "<div>\n",
       "<style scoped>\n",
       "    .dataframe tbody tr th:only-of-type {\n",
       "        vertical-align: middle;\n",
       "    }\n",
       "\n",
       "    .dataframe tbody tr th {\n",
       "        vertical-align: top;\n",
       "    }\n",
       "\n",
       "    .dataframe thead th {\n",
       "        text-align: right;\n",
       "    }\n",
       "</style>\n",
       "<table border=\"1\" class=\"dataframe\">\n",
       "  <thead>\n",
       "    <tr style=\"text-align: right;\">\n",
       "      <th></th>\n",
       "      <th>RowNumber</th>\n",
       "      <th>CustomerId</th>\n",
       "      <th>Surname</th>\n",
       "      <th>CreditScore</th>\n",
       "      <th>Geography</th>\n",
       "      <th>Gender</th>\n",
       "      <th>Age</th>\n",
       "      <th>Tenure</th>\n",
       "      <th>Balance</th>\n",
       "      <th>NumOfProducts</th>\n",
       "      <th>HasCrCard</th>\n",
       "      <th>IsActiveMember</th>\n",
       "      <th>EstimatedSalary</th>\n",
       "      <th>Exited</th>\n",
       "    </tr>\n",
       "  </thead>\n",
       "  <tbody>\n",
       "    <tr>\n",
       "      <th>0</th>\n",
       "      <td>1</td>\n",
       "      <td>15634602</td>\n",
       "      <td>Hargrave</td>\n",
       "      <td>619</td>\n",
       "      <td>France</td>\n",
       "      <td>Female</td>\n",
       "      <td>42</td>\n",
       "      <td>2</td>\n",
       "      <td>0.00</td>\n",
       "      <td>1</td>\n",
       "      <td>1</td>\n",
       "      <td>1</td>\n",
       "      <td>101348.88</td>\n",
       "      <td>1</td>\n",
       "    </tr>\n",
       "    <tr>\n",
       "      <th>1</th>\n",
       "      <td>2</td>\n",
       "      <td>15647311</td>\n",
       "      <td>Hill</td>\n",
       "      <td>608</td>\n",
       "      <td>Spain</td>\n",
       "      <td>Female</td>\n",
       "      <td>41</td>\n",
       "      <td>1</td>\n",
       "      <td>83807.86</td>\n",
       "      <td>1</td>\n",
       "      <td>0</td>\n",
       "      <td>1</td>\n",
       "      <td>112542.58</td>\n",
       "      <td>0</td>\n",
       "    </tr>\n",
       "    <tr>\n",
       "      <th>2</th>\n",
       "      <td>3</td>\n",
       "      <td>15619304</td>\n",
       "      <td>Onio</td>\n",
       "      <td>502</td>\n",
       "      <td>France</td>\n",
       "      <td>Female</td>\n",
       "      <td>42</td>\n",
       "      <td>8</td>\n",
       "      <td>159660.80</td>\n",
       "      <td>3</td>\n",
       "      <td>1</td>\n",
       "      <td>0</td>\n",
       "      <td>113931.57</td>\n",
       "      <td>1</td>\n",
       "    </tr>\n",
       "    <tr>\n",
       "      <th>3</th>\n",
       "      <td>4</td>\n",
       "      <td>15701354</td>\n",
       "      <td>Boni</td>\n",
       "      <td>699</td>\n",
       "      <td>France</td>\n",
       "      <td>Female</td>\n",
       "      <td>39</td>\n",
       "      <td>1</td>\n",
       "      <td>0.00</td>\n",
       "      <td>2</td>\n",
       "      <td>0</td>\n",
       "      <td>0</td>\n",
       "      <td>93826.63</td>\n",
       "      <td>0</td>\n",
       "    </tr>\n",
       "    <tr>\n",
       "      <th>4</th>\n",
       "      <td>5</td>\n",
       "      <td>15737888</td>\n",
       "      <td>Mitchell</td>\n",
       "      <td>850</td>\n",
       "      <td>Spain</td>\n",
       "      <td>Female</td>\n",
       "      <td>43</td>\n",
       "      <td>2</td>\n",
       "      <td>125510.82</td>\n",
       "      <td>1</td>\n",
       "      <td>1</td>\n",
       "      <td>1</td>\n",
       "      <td>79084.10</td>\n",
       "      <td>0</td>\n",
       "    </tr>\n",
       "  </tbody>\n",
       "</table>\n",
       "</div>"
      ],
      "text/plain": [
       "   RowNumber  CustomerId   Surname  CreditScore Geography  Gender  Age  \\\n",
       "0          1    15634602  Hargrave          619    France  Female   42   \n",
       "1          2    15647311      Hill          608     Spain  Female   41   \n",
       "2          3    15619304      Onio          502    France  Female   42   \n",
       "3          4    15701354      Boni          699    France  Female   39   \n",
       "4          5    15737888  Mitchell          850     Spain  Female   43   \n",
       "\n",
       "   Tenure    Balance  NumOfProducts  HasCrCard  IsActiveMember  \\\n",
       "0       2       0.00              1          1               1   \n",
       "1       1   83807.86              1          0               1   \n",
       "2       8  159660.80              3          1               0   \n",
       "3       1       0.00              2          0               0   \n",
       "4       2  125510.82              1          1               1   \n",
       "\n",
       "   EstimatedSalary  Exited  \n",
       "0        101348.88       1  \n",
       "1        112542.58       0  \n",
       "2        113931.57       1  \n",
       "3         93826.63       0  \n",
       "4         79084.10       0  "
      ]
     },
     "execution_count": 3,
     "metadata": {},
     "output_type": "execute_result"
    }
   ],
   "source": [
    "dataset = pd.read_csv(\"Churn_Modelling.csv\")\n",
    "dataset.head()"
   ]
  },
  {
   "cell_type": "code",
   "execution_count": 4,
   "metadata": {},
   "outputs": [],
   "source": [
    "# Devide Datset into independent and dependent features\n",
    "X = dataset.iloc[:,3:13]\n",
    "y = dataset.iloc[:,13]"
   ]
  },
  {
   "cell_type": "code",
   "execution_count": 5,
   "metadata": {},
   "outputs": [
    {
     "data": {
      "text/html": [
       "<div>\n",
       "<style scoped>\n",
       "    .dataframe tbody tr th:only-of-type {\n",
       "        vertical-align: middle;\n",
       "    }\n",
       "\n",
       "    .dataframe tbody tr th {\n",
       "        vertical-align: top;\n",
       "    }\n",
       "\n",
       "    .dataframe thead th {\n",
       "        text-align: right;\n",
       "    }\n",
       "</style>\n",
       "<table border=\"1\" class=\"dataframe\">\n",
       "  <thead>\n",
       "    <tr style=\"text-align: right;\">\n",
       "      <th></th>\n",
       "      <th>CreditScore</th>\n",
       "      <th>Geography</th>\n",
       "      <th>Gender</th>\n",
       "      <th>Age</th>\n",
       "      <th>Tenure</th>\n",
       "      <th>Balance</th>\n",
       "      <th>NumOfProducts</th>\n",
       "      <th>HasCrCard</th>\n",
       "      <th>IsActiveMember</th>\n",
       "      <th>EstimatedSalary</th>\n",
       "    </tr>\n",
       "  </thead>\n",
       "  <tbody>\n",
       "    <tr>\n",
       "      <th>0</th>\n",
       "      <td>619</td>\n",
       "      <td>France</td>\n",
       "      <td>Female</td>\n",
       "      <td>42</td>\n",
       "      <td>2</td>\n",
       "      <td>0.00</td>\n",
       "      <td>1</td>\n",
       "      <td>1</td>\n",
       "      <td>1</td>\n",
       "      <td>101348.88</td>\n",
       "    </tr>\n",
       "    <tr>\n",
       "      <th>1</th>\n",
       "      <td>608</td>\n",
       "      <td>Spain</td>\n",
       "      <td>Female</td>\n",
       "      <td>41</td>\n",
       "      <td>1</td>\n",
       "      <td>83807.86</td>\n",
       "      <td>1</td>\n",
       "      <td>0</td>\n",
       "      <td>1</td>\n",
       "      <td>112542.58</td>\n",
       "    </tr>\n",
       "    <tr>\n",
       "      <th>2</th>\n",
       "      <td>502</td>\n",
       "      <td>France</td>\n",
       "      <td>Female</td>\n",
       "      <td>42</td>\n",
       "      <td>8</td>\n",
       "      <td>159660.80</td>\n",
       "      <td>3</td>\n",
       "      <td>1</td>\n",
       "      <td>0</td>\n",
       "      <td>113931.57</td>\n",
       "    </tr>\n",
       "    <tr>\n",
       "      <th>3</th>\n",
       "      <td>699</td>\n",
       "      <td>France</td>\n",
       "      <td>Female</td>\n",
       "      <td>39</td>\n",
       "      <td>1</td>\n",
       "      <td>0.00</td>\n",
       "      <td>2</td>\n",
       "      <td>0</td>\n",
       "      <td>0</td>\n",
       "      <td>93826.63</td>\n",
       "    </tr>\n",
       "    <tr>\n",
       "      <th>4</th>\n",
       "      <td>850</td>\n",
       "      <td>Spain</td>\n",
       "      <td>Female</td>\n",
       "      <td>43</td>\n",
       "      <td>2</td>\n",
       "      <td>125510.82</td>\n",
       "      <td>1</td>\n",
       "      <td>1</td>\n",
       "      <td>1</td>\n",
       "      <td>79084.10</td>\n",
       "    </tr>\n",
       "  </tbody>\n",
       "</table>\n",
       "</div>"
      ],
      "text/plain": [
       "   CreditScore Geography  Gender  Age  Tenure    Balance  NumOfProducts  \\\n",
       "0          619    France  Female   42       2       0.00              1   \n",
       "1          608     Spain  Female   41       1   83807.86              1   \n",
       "2          502    France  Female   42       8  159660.80              3   \n",
       "3          699    France  Female   39       1       0.00              2   \n",
       "4          850     Spain  Female   43       2  125510.82              1   \n",
       "\n",
       "   HasCrCard  IsActiveMember  EstimatedSalary  \n",
       "0          1               1        101348.88  \n",
       "1          0               1        112542.58  \n",
       "2          1               0        113931.57  \n",
       "3          0               0         93826.63  \n",
       "4          1               1         79084.10  "
      ]
     },
     "execution_count": 5,
     "metadata": {},
     "output_type": "execute_result"
    }
   ],
   "source": [
    "X.head()"
   ]
  },
  {
   "cell_type": "code",
   "execution_count": 6,
   "metadata": {},
   "outputs": [
    {
     "data": {
      "text/plain": [
       "0       1\n",
       "1       0\n",
       "2       1\n",
       "3       0\n",
       "4       0\n",
       "       ..\n",
       "9995    0\n",
       "9996    0\n",
       "9997    1\n",
       "9998    1\n",
       "9999    0\n",
       "Name: Exited, Length: 10000, dtype: int64"
      ]
     },
     "execution_count": 6,
     "metadata": {},
     "output_type": "execute_result"
    }
   ],
   "source": [
    "y"
   ]
  },
  {
   "cell_type": "code",
   "execution_count": 7,
   "metadata": {},
   "outputs": [],
   "source": [
    "# feature Engineering\n",
    "geography = pd.get_dummies(X['Geography'],drop_first=True)\n",
    "gender = pd.get_dummies(X[\"Gender\"],drop_first=True)"
   ]
  },
  {
   "cell_type": "code",
   "execution_count": 8,
   "metadata": {},
   "outputs": [
    {
     "data": {
      "text/html": [
       "<div>\n",
       "<style scoped>\n",
       "    .dataframe tbody tr th:only-of-type {\n",
       "        vertical-align: middle;\n",
       "    }\n",
       "\n",
       "    .dataframe tbody tr th {\n",
       "        vertical-align: top;\n",
       "    }\n",
       "\n",
       "    .dataframe thead th {\n",
       "        text-align: right;\n",
       "    }\n",
       "</style>\n",
       "<table border=\"1\" class=\"dataframe\">\n",
       "  <thead>\n",
       "    <tr style=\"text-align: right;\">\n",
       "      <th></th>\n",
       "      <th>Male</th>\n",
       "    </tr>\n",
       "  </thead>\n",
       "  <tbody>\n",
       "    <tr>\n",
       "      <th>0</th>\n",
       "      <td>0</td>\n",
       "    </tr>\n",
       "    <tr>\n",
       "      <th>1</th>\n",
       "      <td>0</td>\n",
       "    </tr>\n",
       "    <tr>\n",
       "      <th>2</th>\n",
       "      <td>0</td>\n",
       "    </tr>\n",
       "    <tr>\n",
       "      <th>3</th>\n",
       "      <td>0</td>\n",
       "    </tr>\n",
       "    <tr>\n",
       "      <th>4</th>\n",
       "      <td>0</td>\n",
       "    </tr>\n",
       "    <tr>\n",
       "      <th>...</th>\n",
       "      <td>...</td>\n",
       "    </tr>\n",
       "    <tr>\n",
       "      <th>9995</th>\n",
       "      <td>1</td>\n",
       "    </tr>\n",
       "    <tr>\n",
       "      <th>9996</th>\n",
       "      <td>1</td>\n",
       "    </tr>\n",
       "    <tr>\n",
       "      <th>9997</th>\n",
       "      <td>0</td>\n",
       "    </tr>\n",
       "    <tr>\n",
       "      <th>9998</th>\n",
       "      <td>1</td>\n",
       "    </tr>\n",
       "    <tr>\n",
       "      <th>9999</th>\n",
       "      <td>0</td>\n",
       "    </tr>\n",
       "  </tbody>\n",
       "</table>\n",
       "<p>10000 rows × 1 columns</p>\n",
       "</div>"
      ],
      "text/plain": [
       "      Male\n",
       "0        0\n",
       "1        0\n",
       "2        0\n",
       "3        0\n",
       "4        0\n",
       "...    ...\n",
       "9995     1\n",
       "9996     1\n",
       "9997     0\n",
       "9998     1\n",
       "9999     0\n",
       "\n",
       "[10000 rows x 1 columns]"
      ]
     },
     "execution_count": 8,
     "metadata": {},
     "output_type": "execute_result"
    }
   ],
   "source": [
    "gender"
   ]
  },
  {
   "cell_type": "code",
   "execution_count": 9,
   "metadata": {},
   "outputs": [],
   "source": [
    "# Drop feature gender and geography\n",
    "X = X.drop([\"Geography\",\"Gender\"],axis=1)"
   ]
  },
  {
   "cell_type": "code",
   "execution_count": 10,
   "metadata": {},
   "outputs": [
    {
     "data": {
      "text/html": [
       "<div>\n",
       "<style scoped>\n",
       "    .dataframe tbody tr th:only-of-type {\n",
       "        vertical-align: middle;\n",
       "    }\n",
       "\n",
       "    .dataframe tbody tr th {\n",
       "        vertical-align: top;\n",
       "    }\n",
       "\n",
       "    .dataframe thead th {\n",
       "        text-align: right;\n",
       "    }\n",
       "</style>\n",
       "<table border=\"1\" class=\"dataframe\">\n",
       "  <thead>\n",
       "    <tr style=\"text-align: right;\">\n",
       "      <th></th>\n",
       "      <th>CreditScore</th>\n",
       "      <th>Age</th>\n",
       "      <th>Tenure</th>\n",
       "      <th>Balance</th>\n",
       "      <th>NumOfProducts</th>\n",
       "      <th>HasCrCard</th>\n",
       "      <th>IsActiveMember</th>\n",
       "      <th>EstimatedSalary</th>\n",
       "    </tr>\n",
       "  </thead>\n",
       "  <tbody>\n",
       "    <tr>\n",
       "      <th>0</th>\n",
       "      <td>619</td>\n",
       "      <td>42</td>\n",
       "      <td>2</td>\n",
       "      <td>0.00</td>\n",
       "      <td>1</td>\n",
       "      <td>1</td>\n",
       "      <td>1</td>\n",
       "      <td>101348.88</td>\n",
       "    </tr>\n",
       "    <tr>\n",
       "      <th>1</th>\n",
       "      <td>608</td>\n",
       "      <td>41</td>\n",
       "      <td>1</td>\n",
       "      <td>83807.86</td>\n",
       "      <td>1</td>\n",
       "      <td>0</td>\n",
       "      <td>1</td>\n",
       "      <td>112542.58</td>\n",
       "    </tr>\n",
       "    <tr>\n",
       "      <th>2</th>\n",
       "      <td>502</td>\n",
       "      <td>42</td>\n",
       "      <td>8</td>\n",
       "      <td>159660.80</td>\n",
       "      <td>3</td>\n",
       "      <td>1</td>\n",
       "      <td>0</td>\n",
       "      <td>113931.57</td>\n",
       "    </tr>\n",
       "  </tbody>\n",
       "</table>\n",
       "</div>"
      ],
      "text/plain": [
       "   CreditScore  Age  Tenure    Balance  NumOfProducts  HasCrCard  \\\n",
       "0          619   42       2       0.00              1          1   \n",
       "1          608   41       1   83807.86              1          0   \n",
       "2          502   42       8  159660.80              3          1   \n",
       "\n",
       "   IsActiveMember  EstimatedSalary  \n",
       "0               1        101348.88  \n",
       "1               1        112542.58  \n",
       "2               0        113931.57  "
      ]
     },
     "execution_count": 10,
     "metadata": {},
     "output_type": "execute_result"
    }
   ],
   "source": [
    "X.head(3)"
   ]
  },
  {
   "cell_type": "code",
   "execution_count": 11,
   "metadata": {},
   "outputs": [],
   "source": [
    "# Concatenate geography and gender in to datframe\n",
    "X = pd.concat([X,geography,gender],axis=1)"
   ]
  },
  {
   "cell_type": "code",
   "execution_count": 12,
   "metadata": {},
   "outputs": [
    {
     "data": {
      "text/html": [
       "<div>\n",
       "<style scoped>\n",
       "    .dataframe tbody tr th:only-of-type {\n",
       "        vertical-align: middle;\n",
       "    }\n",
       "\n",
       "    .dataframe tbody tr th {\n",
       "        vertical-align: top;\n",
       "    }\n",
       "\n",
       "    .dataframe thead th {\n",
       "        text-align: right;\n",
       "    }\n",
       "</style>\n",
       "<table border=\"1\" class=\"dataframe\">\n",
       "  <thead>\n",
       "    <tr style=\"text-align: right;\">\n",
       "      <th></th>\n",
       "      <th>CreditScore</th>\n",
       "      <th>Age</th>\n",
       "      <th>Tenure</th>\n",
       "      <th>Balance</th>\n",
       "      <th>NumOfProducts</th>\n",
       "      <th>HasCrCard</th>\n",
       "      <th>IsActiveMember</th>\n",
       "      <th>EstimatedSalary</th>\n",
       "      <th>Germany</th>\n",
       "      <th>Spain</th>\n",
       "      <th>Male</th>\n",
       "    </tr>\n",
       "  </thead>\n",
       "  <tbody>\n",
       "    <tr>\n",
       "      <th>0</th>\n",
       "      <td>619</td>\n",
       "      <td>42</td>\n",
       "      <td>2</td>\n",
       "      <td>0.00</td>\n",
       "      <td>1</td>\n",
       "      <td>1</td>\n",
       "      <td>1</td>\n",
       "      <td>101348.88</td>\n",
       "      <td>0</td>\n",
       "      <td>0</td>\n",
       "      <td>0</td>\n",
       "    </tr>\n",
       "    <tr>\n",
       "      <th>1</th>\n",
       "      <td>608</td>\n",
       "      <td>41</td>\n",
       "      <td>1</td>\n",
       "      <td>83807.86</td>\n",
       "      <td>1</td>\n",
       "      <td>0</td>\n",
       "      <td>1</td>\n",
       "      <td>112542.58</td>\n",
       "      <td>0</td>\n",
       "      <td>1</td>\n",
       "      <td>0</td>\n",
       "    </tr>\n",
       "    <tr>\n",
       "      <th>2</th>\n",
       "      <td>502</td>\n",
       "      <td>42</td>\n",
       "      <td>8</td>\n",
       "      <td>159660.80</td>\n",
       "      <td>3</td>\n",
       "      <td>1</td>\n",
       "      <td>0</td>\n",
       "      <td>113931.57</td>\n",
       "      <td>0</td>\n",
       "      <td>0</td>\n",
       "      <td>0</td>\n",
       "    </tr>\n",
       "    <tr>\n",
       "      <th>3</th>\n",
       "      <td>699</td>\n",
       "      <td>39</td>\n",
       "      <td>1</td>\n",
       "      <td>0.00</td>\n",
       "      <td>2</td>\n",
       "      <td>0</td>\n",
       "      <td>0</td>\n",
       "      <td>93826.63</td>\n",
       "      <td>0</td>\n",
       "      <td>0</td>\n",
       "      <td>0</td>\n",
       "    </tr>\n",
       "  </tbody>\n",
       "</table>\n",
       "</div>"
      ],
      "text/plain": [
       "   CreditScore  Age  Tenure    Balance  NumOfProducts  HasCrCard  \\\n",
       "0          619   42       2       0.00              1          1   \n",
       "1          608   41       1   83807.86              1          0   \n",
       "2          502   42       8  159660.80              3          1   \n",
       "3          699   39       1       0.00              2          0   \n",
       "\n",
       "   IsActiveMember  EstimatedSalary  Germany  Spain  Male  \n",
       "0               1        101348.88        0      0     0  \n",
       "1               1        112542.58        0      1     0  \n",
       "2               0        113931.57        0      0     0  \n",
       "3               0         93826.63        0      0     0  "
      ]
     },
     "execution_count": 12,
     "metadata": {},
     "output_type": "execute_result"
    }
   ],
   "source": [
    "X.head(4)"
   ]
  },
  {
   "cell_type": "code",
   "execution_count": 13,
   "metadata": {},
   "outputs": [],
   "source": [
    "# Spliting the dataset into train and test set\n",
    "\n",
    "from sklearn.model_selection import train_test_split\n",
    "X_train,X_test,y_train,y_test = train_test_split(X,y,test_size=0.2,random_state=0)"
   ]
  },
  {
   "cell_type": "code",
   "execution_count": 14,
   "metadata": {},
   "outputs": [],
   "source": [
    "# feature scaling\n",
    "from sklearn.preprocessing import StandardScaler\n",
    "sc = StandardScaler()\n",
    "X_train = sc.fit_transform(X_train)\n",
    "X_test = sc.transform(X_test)"
   ]
  },
  {
   "cell_type": "code",
   "execution_count": 15,
   "metadata": {},
   "outputs": [
    {
     "data": {
      "text/plain": [
       "array([[ 0.16958176, -0.46460796,  0.00666099, ..., -0.5698444 ,\n",
       "         1.74309049, -1.09168714],\n",
       "       [-2.30455945,  0.30102557, -1.37744033, ...,  1.75486502,\n",
       "        -0.57369368,  0.91601335],\n",
       "       [-1.19119591, -0.94312892, -1.031415  , ..., -0.5698444 ,\n",
       "        -0.57369368, -1.09168714],\n",
       "       ...,\n",
       "       [ 0.9015152 , -0.36890377,  0.00666099, ..., -0.5698444 ,\n",
       "        -0.57369368,  0.91601335],\n",
       "       [-0.62420521, -0.08179119,  1.39076231, ..., -0.5698444 ,\n",
       "         1.74309049, -1.09168714],\n",
       "       [-0.28401079,  0.87525072, -1.37744033, ...,  1.75486502,\n",
       "        -0.57369368, -1.09168714]])"
      ]
     },
     "execution_count": 15,
     "metadata": {},
     "output_type": "execute_result"
    }
   ],
   "source": [
    "X_train"
   ]
  },
  {
   "cell_type": "code",
   "execution_count": 16,
   "metadata": {},
   "outputs": [
    {
     "data": {
      "text/plain": [
       "array([[-0.55204276, -0.36890377,  1.04473698, ...,  1.75486502,\n",
       "        -0.57369368, -1.09168714],\n",
       "       [-1.31490297,  0.10961719, -1.031415  , ..., -0.5698444 ,\n",
       "        -0.57369368, -1.09168714],\n",
       "       [ 0.57162971,  0.30102557,  1.04473698, ..., -0.5698444 ,\n",
       "         1.74309049, -1.09168714],\n",
       "       ...,\n",
       "       [-0.74791227, -0.27319958, -1.37744033, ..., -0.5698444 ,\n",
       "         1.74309049,  0.91601335],\n",
       "       [-0.00566991, -0.46460796, -0.33936434, ...,  1.75486502,\n",
       "        -0.57369368,  0.91601335],\n",
       "       [-0.79945688, -0.84742473,  1.04473698, ...,  1.75486502,\n",
       "        -0.57369368,  0.91601335]])"
      ]
     },
     "execution_count": 16,
     "metadata": {},
     "output_type": "execute_result"
    }
   ],
   "source": [
    "X_test"
   ]
  },
  {
   "cell_type": "code",
   "execution_count": 17,
   "metadata": {},
   "outputs": [],
   "source": [
    "# Part 2\n",
    "# NOW LETS CREATE ANN\n",
    "from tensorflow.keras.models import Sequential\n",
    "from tensorflow.keras.layers import Dense\n",
    "from tensorflow.keras.layers import LeakyReLU,PReLU,ELU,ReLU\n",
    "from tensorflow.keras.layers import Dropout"
   ]
  },
  {
   "cell_type": "code",
   "execution_count": 18,
   "metadata": {},
   "outputs": [],
   "source": [
    "### Lets initialize the ANN\n",
    "classifier=Sequential()"
   ]
  },
  {
   "cell_type": "code",
   "execution_count": 19,
   "metadata": {},
   "outputs": [],
   "source": [
    "## Adding the input Layer and first hidden layer\n",
    "classifier.add(Dense(10,input_shape=(11,),activation='relu'))"
   ]
  },
  {
   "cell_type": "code",
   "execution_count": 20,
   "metadata": {},
   "outputs": [],
   "source": [
    "# adding the second hidden layer\n",
    "classifier.add(Dense(units=10,activation='relu'))\n",
    "#classifier.add(Dropout(0.2))"
   ]
  },
  {
   "cell_type": "code",
   "execution_count": 21,
   "metadata": {},
   "outputs": [],
   "source": [
    "##adding the third hidden layer\n",
    "classifier.add(Dense(units=10,activation='relu'))\n",
    "#classifier.add(Dropout(0.3))"
   ]
  },
  {
   "cell_type": "code",
   "execution_count": 22,
   "metadata": {},
   "outputs": [],
   "source": [
    "##  Adding the output layer\n",
    "classifier.add(Dense(1,activation='sigmoid'))"
   ]
  },
  {
   "cell_type": "code",
   "execution_count": 23,
   "metadata": {},
   "outputs": [
    {
     "name": "stdout",
     "output_type": "stream",
     "text": [
      "Model: \"sequential\"\n",
      "_________________________________________________________________\n",
      "Layer (type)                 Output Shape              Param #   \n",
      "=================================================================\n",
      "dense (Dense)                (None, 10)                120       \n",
      "_________________________________________________________________\n",
      "dense_1 (Dense)              (None, 10)                110       \n",
      "_________________________________________________________________\n",
      "dense_2 (Dense)              (None, 10)                110       \n",
      "_________________________________________________________________\n",
      "dense_3 (Dense)              (None, 1)                 11        \n",
      "=================================================================\n",
      "Total params: 351\n",
      "Trainable params: 351\n",
      "Non-trainable params: 0\n",
      "_________________________________________________________________\n"
     ]
    }
   ],
   "source": [
    "classifier.summary()"
   ]
  },
  {
   "cell_type": "code",
   "execution_count": 24,
   "metadata": {},
   "outputs": [],
   "source": [
    "import tensorflow\n",
    "opt=tensorflow.keras.optimizers.Adam(learning_rate=0.01)\n",
    "\n",
    "classifier.compile(optimizer=opt,loss='binary_crossentropy',metrics=['accuracy'])\n"
   ]
  },
  {
   "cell_type": "code",
   "execution_count": 25,
   "metadata": {},
   "outputs": [],
   "source": [
    "## Early Stopping\n",
    "import tensorflow as tf\n",
    "# early_stopping=tf.keras.callbacks.EarlyStopping(\n",
    "#     monitor=\"val_loss\",\n",
    "#     min_delta = 0.0001,\n",
    "#     patience=20,\n",
    "#     verbose=1,\n",
    "#     mode=\"auto\",\n",
    "#     baseline=None,\n",
    "#     restore_best_weights=False, \n",
    "# )\n",
    "\n",
    "## Early Stopping\n",
    "import tensorflow as tf\n",
    "early_stopping=tf.keras.callbacks.EarlyStopping(\n",
    "    monitor=\"val_loss\",\n",
    "    patience=5\n",
    "   \n",
    ")"
   ]
  },
  {
   "cell_type": "code",
   "execution_count": 26,
   "metadata": {},
   "outputs": [
    {
     "name": "stdout",
     "output_type": "stream",
     "text": [
      "Epoch 1/100\n",
      "800/800 [==============================] - 9s 5ms/step - loss: 0.4143 - accuracy: 0.8186 - val_loss: 0.3586 - val_accuracy: 0.8520\n",
      "Epoch 2/100\n",
      "800/800 [==============================] - 4s 5ms/step - loss: 0.3672 - accuracy: 0.8443 - val_loss: 0.3539 - val_accuracy: 0.8575\n",
      "Epoch 3/100\n",
      "800/800 [==============================] - 4s 5ms/step - loss: 0.3577 - accuracy: 0.8540 - val_loss: 0.3538 - val_accuracy: 0.8590\n",
      "Epoch 4/100\n",
      "800/800 [==============================] - 3s 3ms/step - loss: 0.3545 - accuracy: 0.8574 - val_loss: 0.3587 - val_accuracy: 0.8545\n",
      "Epoch 5/100\n",
      "800/800 [==============================] - 3s 4ms/step - loss: 0.3525 - accuracy: 0.8536 - val_loss: 0.3550 - val_accuracy: 0.8590\n",
      "Epoch 6/100\n",
      "800/800 [==============================] - 3s 4ms/step - loss: 0.3503 - accuracy: 0.8546 - val_loss: 0.3488 - val_accuracy: 0.8650\n",
      "Epoch 7/100\n",
      "800/800 [==============================] - 3s 4ms/step - loss: 0.3498 - accuracy: 0.8568 - val_loss: 0.3470 - val_accuracy: 0.8620\n",
      "Epoch 8/100\n",
      "800/800 [==============================] - 4s 5ms/step - loss: 0.3484 - accuracy: 0.8589 - val_loss: 0.3499 - val_accuracy: 0.8570\n",
      "Epoch 9/100\n",
      "800/800 [==============================] - 3s 4ms/step - loss: 0.3469 - accuracy: 0.8568 - val_loss: 0.3408 - val_accuracy: 0.8645\n",
      "Epoch 10/100\n",
      "800/800 [==============================] - 3s 3ms/step - loss: 0.3475 - accuracy: 0.8599 - val_loss: 0.3481 - val_accuracy: 0.8595\n",
      "Epoch 11/100\n",
      "800/800 [==============================] - 3s 4ms/step - loss: 0.3448 - accuracy: 0.8597 - val_loss: 0.3536 - val_accuracy: 0.8635\n",
      "Epoch 12/100\n",
      "800/800 [==============================] - 4s 4ms/step - loss: 0.3458 - accuracy: 0.8606 - val_loss: 0.3434 - val_accuracy: 0.8600\n",
      "Epoch 13/100\n",
      "800/800 [==============================] - 3s 3ms/step - loss: 0.3460 - accuracy: 0.8590 - val_loss: 0.3424 - val_accuracy: 0.8550\n",
      "Epoch 14/100\n",
      "800/800 [==============================] - 3s 3ms/step - loss: 0.3439 - accuracy: 0.8594 - val_loss: 0.3437 - val_accuracy: 0.8645\n"
     ]
    }
   ],
   "source": [
    "model_history=classifier.fit(X_train,y_train,validation_data=(X_test,y_test),batch_size=10,epochs=100,callbacks=early_stopping)"
   ]
  },
  {
   "cell_type": "code",
   "execution_count": 27,
   "metadata": {},
   "outputs": [
    {
     "data": {
      "text/plain": [
       "dict_keys(['loss', 'accuracy', 'val_loss', 'val_accuracy'])"
      ]
     },
     "execution_count": 27,
     "metadata": {},
     "output_type": "execute_result"
    }
   ],
   "source": [
    "model_history.history.keys()"
   ]
  },
  {
   "cell_type": "code",
   "execution_count": 28,
   "metadata": {},
   "outputs": [
    {
     "data": {
      "image/png": "[encoded data removed]",
      "text/plain": [
       "<Figure size 640x480 with 1 Axes>"
      ]
     },
     "metadata": {},
     "output_type": "display_data"
    }
   ],
   "source": [
    "# summarize history for accuracy\n",
    "plt.plot(model_history.history['accuracy'])\n",
    "plt.plot(model_history.history['val_accuracy'])\n",
    "plt.title('model accuracy')\n",
    "plt.ylabel('accuracy')\n",
    "plt.xlabel('epoch')\n",
    "plt.legend(['train', 'test'], loc='upper left')\n",
    "plt.show()"
   ]
  },
  {
   "cell_type": "code",
   "execution_count": 29,
   "metadata": {},
   "outputs": [
    {
     "data": {
      "image/png": "[encoded data removed]",
      "text/plain": [
       "<Figure size 640x480 with 1 Axes>"
      ]
     },
     "metadata": {},
     "output_type": "display_data"
    }
   ],
   "source": [
    "# summarize history for loss\n",
    "plt.plot(model_history.history['loss'])\n",
    "plt.plot(model_history.history['val_loss'])\n",
    "plt.title('model loss')\n",
    "plt.ylabel('loss')\n",
    "plt.xlabel('epoch')\n",
    "plt.legend(['train', 'test'], loc='upper left')\n",
    "plt.show()"
   ]
  },
  {
   "cell_type": "code",
   "execution_count": 32,
   "metadata": {},
   "outputs": [],
   "source": [
    "# Part 3 - Making the predictions and evaluating the model\n",
    "\n",
    "# Predicting the Test set results\n",
    "y_pred = classifier.predict(X_test)\n",
    "y_pred = (y_pred >= 0.5)"
   ]
  },
  {
   "cell_type": "code",
   "execution_count": 33,
   "metadata": {},
   "outputs": [
    {
     "data": {
      "text/plain": [
       "array([[1566,   29],\n",
       "       [ 242,  163]], dtype=int64)"
      ]
     },
     "execution_count": 33,
     "metadata": {},
     "output_type": "execute_result"
    }
   ],
   "source": [
    "## make the confusion matrix\n",
    "from sklearn.metrics import confusion_matrix\n",
    "cm=confusion_matrix(y_test,y_pred)\n",
    "cm"
   ]
  },
  {
   "cell_type": "code",
   "execution_count": 34,
   "metadata": {},
   "outputs": [],
   "source": [
    "## Calculate the accuracy\n",
    "from sklearn.metrics import accuracy_score\n",
    "score=accuracy_score(y_pred,y_test)"
   ]
  },
  {
   "cell_type": "code",
   "execution_count": 35,
   "metadata": {},
   "outputs": [
    {
     "data": {
      "text/plain": [
       "0.8645"
      ]
     },
     "execution_count": 35,
     "metadata": {},
     "output_type": "execute_result"
    }
   ],
   "source": [
    "score"
   ]
  },
  {
   "cell_type": "code",
   "execution_count": 36,
   "metadata": {},
   "outputs": [
    {
     "data": {
      "text/plain": [
       "[array([[ 0.33620346,  0.38574404,  0.01099574,  0.15795453,  0.21240845,\n",
       "         -0.5284097 ,  0.45015767,  0.18653286,  0.0766384 , -0.29519603],\n",
       "        [-2.777138  , -2.638925  , -2.5235844 , -0.47254416, -0.58496165,\n",
       "         -0.63059986,  1.2170403 , -2.2893696 ,  1.0043341 , -2.2870622 ],\n",
       "        [ 0.21853396,  0.10389642, -0.27419266, -0.00395382, -0.07503819,\n",
       "         -0.32788438,  0.03768504,  0.00370366,  0.6618513 , -0.18319562],\n",
       "        [-0.03801048,  0.61592066, -0.8925914 ,  0.6982034 , -1.0036772 ,\n",
       "          0.4591947 , -1.2065469 , -0.09471986, -0.9188245 , -0.3968496 ],\n",
       "        [ 0.09967163,  0.32243532,  0.17158428,  2.8953743 , -3.20617   ,\n",
       "          1.7068362 ,  1.3072532 , -0.41458338,  0.8641872 , -0.16613701],\n",
       "        [-0.07638843, -0.3460487 , -0.26302066, -0.13637096, -0.18335539,\n",
       "          0.17868643,  0.4458567 ,  0.34893334,  0.20044099, -0.61023355],\n",
       "        [-0.91158175,  0.46293932, -0.21474247, -0.16817445, -1.2730131 ,\n",
       "         -0.24986932, -1.3332777 , -0.6467153 ,  2.2052536 , -1.7418473 ],\n",
       "        [-0.08980588,  0.62650114, -0.34496516, -0.06883594,  0.19438124,\n",
       "          0.42115107,  0.27655643, -0.07080808, -0.05197122, -0.03302168],\n",
       "        [-0.41864046,  0.26945752, -1.5854584 , -0.33224046,  0.4869331 ,\n",
       "         -0.64074826,  0.26726237, -0.31115004, -0.7667318 , -0.29439172],\n",
       "        [ 0.26184416,  0.25443307,  0.44681004,  0.4011087 , -0.28810441,\n",
       "         -0.6909395 ,  0.5475428 , -2.5294955 ,  0.09891929, -0.7770773 ],\n",
       "        [-0.64651966,  0.4337227 ,  1.0203896 ,  0.13842842, -0.08273695,\n",
       "         -0.17530678,  0.5300694 ,  0.328249  ,  0.24415985,  0.74815017]],\n",
       "       dtype=float32),\n",
       " array([ 1.8865829 ,  1.2181026 ,  1.1555119 , -2.7585733 ,  0.23291415,\n",
       "        -1.5438236 , -0.5050313 ,  1.2912965 , -0.22574867, -0.45441628],\n",
       "       dtype=float32),\n",
       " array([[-0.7999234 , -0.6179735 , -1.5328432 , -0.6222473 , -1.4771572 ,\n",
       "          0.09746379, -0.98317647, -0.9171301 , -0.29212388, -0.7176235 ],\n",
       "        [ 0.8872455 , -0.42178836, -0.83465606,  0.23908612, -0.48665014,\n",
       "          0.40252772, -1.3904353 , -0.2494125 , -0.45356673, -0.52252656],\n",
       "        [-0.3762021 , -0.69302076,  1.1149323 , -0.33833656, -2.003556  ,\n",
       "          1.0854477 , -1.4612107 , -0.6845927 , -0.1484018 , -0.08736986],\n",
       "        [-0.7709032 ,  0.15260734, -0.5199807 , -0.63695794,  0.51359975,\n",
       "         -2.0499015 ,  1.0623282 ,  2.5999913 , -1.0483705 ,  0.96702796],\n",
       "        [-1.4424081 , -0.63976187,  0.7316671 , -1.3508689 , -1.7650002 ,\n",
       "         -1.3326792 ,  0.65169406,  1.1372621 ,  0.02812912,  0.98145646],\n",
       "        [ 1.1741623 , -0.40950468, -0.56862444, -0.19618078, -0.3740648 ,\n",
       "         -0.24226128, -0.06728555,  1.2447218 , -0.6232934 , -0.4493193 ],\n",
       "        [-1.3279777 , -0.5675065 , -2.1160505 , -0.9769311 ,  0.76843697,\n",
       "          0.22350879,  0.5754471 ,  0.20428881, -0.6823879 , -1.4332144 ],\n",
       "        [ 0.04194737, -0.34066492,  0.08540455, -0.0179478 , -0.26060528,\n",
       "          0.6402945 , -2.1847627 , -0.47158056,  0.14449961, -1.1559136 ],\n",
       "        [-1.014473  , -0.38230875,  0.15526953,  0.2449302 , -1.0084388 ,\n",
       "          1.1015948 , -0.99242175, -0.36797467,  0.04718359,  0.31961846],\n",
       "        [-1.249086  ,  0.27293277, -1.8417953 , -0.2864789 , -0.85392016,\n",
       "          0.11286267, -0.43074742, -0.1548138 , -0.6436087 , -1.1181146 ]],\n",
       "       dtype=float32),\n",
       " array([-0.03168118, -0.4398046 , -1.3329508 , -0.39114916,  0.26010424,\n",
       "         0.7429933 ,  0.7919524 ,  0.9015335 , -0.44584325,  1.5143327 ],\n",
       "       dtype=float32),\n",
       " array([[ 0.68951994, -1.307459  ,  0.23397876, -0.4199286 ,  0.45273247,\n",
       "          1.0164374 ,  0.6600385 , -0.52524984,  0.14174281,  0.23364538],\n",
       "        [ 0.09439815,  0.10309745, -0.07863507,  0.03880184, -0.06873313,\n",
       "         -0.09431737,  0.07327379, -0.24161673,  0.68285316,  0.44484055],\n",
       "        [-0.16576387,  0.2877158 ,  1.1351528 , -0.37432048, -0.13785577,\n",
       "         -1.3554275 , -0.8647165 , -0.16353425,  0.03723916, -0.47429413],\n",
       "        [ 0.45506123, -0.0394984 ,  0.0408263 , -0.20907557, -0.5660986 ,\n",
       "         -0.46429387,  0.16609184,  0.04790998, -0.59176266,  0.07531371],\n",
       "        [-0.4566303 ,  0.7233985 , -0.04702023, -0.6028182 ,  0.38639215,\n",
       "         -0.28986707, -0.9172922 , -0.26515526, -0.6258721 ,  0.77146006],\n",
       "        [-0.3405763 , -0.5742289 , -0.01598853, -0.7283273 , -0.316995  ,\n",
       "         -0.33198762,  0.57360053, -0.4224956 , -0.31972083,  0.01015712],\n",
       "        [-0.50663835,  0.9150143 , -0.41953847, -0.15424679, -0.7352493 ,\n",
       "         -1.3776554 , -0.5530628 , -0.18421866,  0.07846173, -0.7855266 ],\n",
       "        [-0.34442937,  0.8158891 , -0.52596915, -0.5505365 , -0.7115368 ,\n",
       "         -0.6869572 , -0.94906497, -0.49126557, -0.68224823, -0.69575936],\n",
       "        [-0.19052948, -0.18293524,  0.07904615, -0.06695569, -0.41919908,\n",
       "         -0.7284566 , -0.437302  ,  0.0554505 ,  0.13300042, -0.12141117],\n",
       "        [-0.03205228,  0.25011438, -1.3071084 ,  0.03281811, -0.75860274,\n",
       "          0.53345484, -0.75447124, -0.20118374, -1.1404283 , -0.06613871]],\n",
       "       dtype=float32),\n",
       " array([ 0.03388676, -0.61956364,  0.38168737, -0.4307828 , -0.4588922 ,\n",
       "        -0.17848337,  0.7900285 , -0.11826466, -0.47358203, -0.46514618],\n",
       "       dtype=float32),\n",
       " array([[-0.06388288],\n",
       "        [ 0.2617497 ],\n",
       "        [-0.00501548],\n",
       "        [ 0.11233798],\n",
       "        [ 0.08440079],\n",
       "        [-0.02129197],\n",
       "        [-0.44880962],\n",
       "        [-0.08065801],\n",
       "        [ 0.05075535],\n",
       "        [ 0.01686146]], dtype=float32),\n",
       " array([-0.8975377], dtype=float32)]"
      ]
     },
     "execution_count": 36,
     "metadata": {},
     "output_type": "execute_result"
    }
   ],
   "source": [
    "##get the weights\n",
    "classifier.get_weights()"
   ]
  },
  {
   "cell_type": "code",
   "execution_count": 37,
   "metadata": {},
   "outputs": [],
   "source": [
    "## Saving h5 file\n",
    "classifier.save('model.h5')"
   ]
  },
  {
   "cell_type": "code",
   "execution_count": 38,
   "metadata": {},
   "outputs": [],
   "source": [
    "##laoding h5 file\n",
    "from tensorflow import keras\n",
    "classifier1=keras.models.load_model('model.h5')"
   ]
  },
  {
   "cell_type": "code",
   "execution_count": 39,
   "metadata": {},
   "outputs": [
    {
     "data": {
      "text/plain": [
       "array([[0.21188372],\n",
       "       [0.3102796 ],\n",
       "       [0.17482978],\n",
       "       ...,\n",
       "       [0.13605243],\n",
       "       [0.14878106],\n",
       "       [0.2216306 ]], dtype=float32)"
      ]
     },
     "execution_count": 39,
     "metadata": {},
     "output_type": "execute_result"
    }
   ],
   "source": [
    "classifier1.predict(X_test)"
   ]
  },
  {
   "cell_type": "code",
   "execution_count": 40,
   "metadata": {},
   "outputs": [
    {
     "data": {
      "text/html": [
       "<div>\n",
       "<style scoped>\n",
       "    .dataframe tbody tr th:only-of-type {\n",
       "        vertical-align: middle;\n",
       "    }\n",
       "\n",
       "    .dataframe tbody tr th {\n",
       "        vertical-align: top;\n",
       "    }\n",
       "\n",
       "    .dataframe thead th {\n",
       "        text-align: right;\n",
       "    }\n",
       "</style>\n",
       "<table border=\"1\" class=\"dataframe\">\n",
       "  <thead>\n",
       "    <tr style=\"text-align: right;\">\n",
       "      <th></th>\n",
       "      <th>RowNumber</th>\n",
       "      <th>CustomerId</th>\n",
       "      <th>Surname</th>\n",
       "      <th>CreditScore</th>\n",
       "      <th>Geography</th>\n",
       "      <th>Gender</th>\n",
       "      <th>Age</th>\n",
       "      <th>Tenure</th>\n",
       "      <th>Balance</th>\n",
       "      <th>NumOfProducts</th>\n",
       "      <th>HasCrCard</th>\n",
       "      <th>IsActiveMember</th>\n",
       "      <th>EstimatedSalary</th>\n",
       "      <th>Exited</th>\n",
       "    </tr>\n",
       "  </thead>\n",
       "  <tbody>\n",
       "    <tr>\n",
       "      <th>0</th>\n",
       "      <td>1</td>\n",
       "      <td>15634602</td>\n",
       "      <td>Hargrave</td>\n",
       "      <td>619</td>\n",
       "      <td>France</td>\n",
       "      <td>Female</td>\n",
       "      <td>42</td>\n",
       "      <td>2</td>\n",
       "      <td>0.00</td>\n",
       "      <td>1</td>\n",
       "      <td>1</td>\n",
       "      <td>1</td>\n",
       "      <td>101348.88</td>\n",
       "      <td>1</td>\n",
       "    </tr>\n",
       "    <tr>\n",
       "      <th>1</th>\n",
       "      <td>2</td>\n",
       "      <td>15647311</td>\n",
       "      <td>Hill</td>\n",
       "      <td>608</td>\n",
       "      <td>Spain</td>\n",
       "      <td>Female</td>\n",
       "      <td>41</td>\n",
       "      <td>1</td>\n",
       "      <td>83807.86</td>\n",
       "      <td>1</td>\n",
       "      <td>0</td>\n",
       "      <td>1</td>\n",
       "      <td>112542.58</td>\n",
       "      <td>0</td>\n",
       "    </tr>\n",
       "    <tr>\n",
       "      <th>2</th>\n",
       "      <td>3</td>\n",
       "      <td>15619304</td>\n",
       "      <td>Onio</td>\n",
       "      <td>502</td>\n",
       "      <td>France</td>\n",
       "      <td>Female</td>\n",
       "      <td>42</td>\n",
       "      <td>8</td>\n",
       "      <td>159660.80</td>\n",
       "      <td>3</td>\n",
       "      <td>1</td>\n",
       "      <td>0</td>\n",
       "      <td>113931.57</td>\n",
       "      <td>1</td>\n",
       "    </tr>\n",
       "    <tr>\n",
       "      <th>3</th>\n",
       "      <td>4</td>\n",
       "      <td>15701354</td>\n",
       "      <td>Boni</td>\n",
       "      <td>699</td>\n",
       "      <td>France</td>\n",
       "      <td>Female</td>\n",
       "      <td>39</td>\n",
       "      <td>1</td>\n",
       "      <td>0.00</td>\n",
       "      <td>2</td>\n",
       "      <td>0</td>\n",
       "      <td>0</td>\n",
       "      <td>93826.63</td>\n",
       "      <td>0</td>\n",
       "    </tr>\n",
       "    <tr>\n",
       "      <th>4</th>\n",
       "      <td>5</td>\n",
       "      <td>15737888</td>\n",
       "      <td>Mitchell</td>\n",
       "      <td>850</td>\n",
       "      <td>Spain</td>\n",
       "      <td>Female</td>\n",
       "      <td>43</td>\n",
       "      <td>2</td>\n",
       "      <td>125510.82</td>\n",
       "      <td>1</td>\n",
       "      <td>1</td>\n",
       "      <td>1</td>\n",
       "      <td>79084.10</td>\n",
       "      <td>0</td>\n",
       "    </tr>\n",
       "  </tbody>\n",
       "</table>\n",
       "</div>"
      ],
      "text/plain": [
       "   RowNumber  CustomerId   Surname  CreditScore Geography  Gender  Age  \\\n",
       "0          1    15634602  Hargrave          619    France  Female   42   \n",
       "1          2    15647311      Hill          608     Spain  Female   41   \n",
       "2          3    15619304      Onio          502    France  Female   42   \n",
       "3          4    15701354      Boni          699    France  Female   39   \n",
       "4          5    15737888  Mitchell          850     Spain  Female   43   \n",
       "\n",
       "   Tenure    Balance  NumOfProducts  HasCrCard  IsActiveMember  \\\n",
       "0       2       0.00              1          1               1   \n",
       "1       1   83807.86              1          0               1   \n",
       "2       8  159660.80              3          1               0   \n",
       "3       1       0.00              2          0               0   \n",
       "4       2  125510.82              1          1               1   \n",
       "\n",
       "   EstimatedSalary  Exited  \n",
       "0        101348.88       1  \n",
       "1        112542.58       0  \n",
       "2        113931.57       1  \n",
       "3         93826.63       0  \n",
       "4         79084.10       0  "
      ]
     },
     "execution_count": 40,
     "metadata": {},
     "output_type": "execute_result"
    }
   ],
   "source": [
    "dataset.head()"
   ]
  },
  {
   "cell_type": "code",
   "execution_count": 41,
   "metadata": {},
   "outputs": [
    {
     "data": {
      "text/plain": [
       "Index(['RowNumber', 'CustomerId', 'Surname', 'CreditScore', 'Geography',\n",
       "       'Gender', 'Age', 'Tenure', 'Balance', 'NumOfProducts', 'HasCrCard',\n",
       "       'IsActiveMember', 'EstimatedSalary', 'Exited'],\n",
       "      dtype='object')"
      ]
     },
     "execution_count": 41,
     "metadata": {},
     "output_type": "execute_result"
    }
   ],
   "source": [
    "dataset.columns"
   ]
  },
  {
   "cell_type": "code",
   "execution_count": 44,
   "metadata": {},
   "outputs": [],
   "source": [
    "# SOLVE FOR REGRESSION PROBLEM\n",
    "\n",
    "# devide datset into independent and dependent feature\n",
    "\n",
    "X = dataset[['CreditScore', 'Geography',\n",
    "       'Gender', 'Age', 'Tenure', 'Balance', 'NumOfProducts', 'HasCrCard',\n",
    "       'IsActiveMember', 'Exited']]\n",
    "y = dataset.iloc[:,12]"
   ]
  },
  {
   "cell_type": "code",
   "execution_count": 45,
   "metadata": {},
   "outputs": [
    {
     "data": {
      "text/html": [
       "<div>\n",
       "<style scoped>\n",
       "    .dataframe tbody tr th:only-of-type {\n",
       "        vertical-align: middle;\n",
       "    }\n",
       "\n",
       "    .dataframe tbody tr th {\n",
       "        vertical-align: top;\n",
       "    }\n",
       "\n",
       "    .dataframe thead th {\n",
       "        text-align: right;\n",
       "    }\n",
       "</style>\n",
       "<table border=\"1\" class=\"dataframe\">\n",
       "  <thead>\n",
       "    <tr style=\"text-align: right;\">\n",
       "      <th></th>\n",
       "      <th>CreditScore</th>\n",
       "      <th>Geography</th>\n",
       "      <th>Gender</th>\n",
       "      <th>Age</th>\n",
       "      <th>Tenure</th>\n",
       "      <th>Balance</th>\n",
       "      <th>NumOfProducts</th>\n",
       "      <th>HasCrCard</th>\n",
       "      <th>IsActiveMember</th>\n",
       "      <th>Exited</th>\n",
       "    </tr>\n",
       "  </thead>\n",
       "  <tbody>\n",
       "    <tr>\n",
       "      <th>0</th>\n",
       "      <td>619</td>\n",
       "      <td>France</td>\n",
       "      <td>Female</td>\n",
       "      <td>42</td>\n",
       "      <td>2</td>\n",
       "      <td>0.00</td>\n",
       "      <td>1</td>\n",
       "      <td>1</td>\n",
       "      <td>1</td>\n",
       "      <td>1</td>\n",
       "    </tr>\n",
       "    <tr>\n",
       "      <th>1</th>\n",
       "      <td>608</td>\n",
       "      <td>Spain</td>\n",
       "      <td>Female</td>\n",
       "      <td>41</td>\n",
       "      <td>1</td>\n",
       "      <td>83807.86</td>\n",
       "      <td>1</td>\n",
       "      <td>0</td>\n",
       "      <td>1</td>\n",
       "      <td>0</td>\n",
       "    </tr>\n",
       "    <tr>\n",
       "      <th>2</th>\n",
       "      <td>502</td>\n",
       "      <td>France</td>\n",
       "      <td>Female</td>\n",
       "      <td>42</td>\n",
       "      <td>8</td>\n",
       "      <td>159660.80</td>\n",
       "      <td>3</td>\n",
       "      <td>1</td>\n",
       "      <td>0</td>\n",
       "      <td>1</td>\n",
       "    </tr>\n",
       "    <tr>\n",
       "      <th>3</th>\n",
       "      <td>699</td>\n",
       "      <td>France</td>\n",
       "      <td>Female</td>\n",
       "      <td>39</td>\n",
       "      <td>1</td>\n",
       "      <td>0.00</td>\n",
       "      <td>2</td>\n",
       "      <td>0</td>\n",
       "      <td>0</td>\n",
       "      <td>0</td>\n",
       "    </tr>\n",
       "    <tr>\n",
       "      <th>4</th>\n",
       "      <td>850</td>\n",
       "      <td>Spain</td>\n",
       "      <td>Female</td>\n",
       "      <td>43</td>\n",
       "      <td>2</td>\n",
       "      <td>125510.82</td>\n",
       "      <td>1</td>\n",
       "      <td>1</td>\n",
       "      <td>1</td>\n",
       "      <td>0</td>\n",
       "    </tr>\n",
       "  </tbody>\n",
       "</table>\n",
       "</div>"
      ],
      "text/plain": [
       "   CreditScore Geography  Gender  Age  Tenure    Balance  NumOfProducts  \\\n",
       "0          619    France  Female   42       2       0.00              1   \n",
       "1          608     Spain  Female   41       1   83807.86              1   \n",
       "2          502    France  Female   42       8  159660.80              3   \n",
       "3          699    France  Female   39       1       0.00              2   \n",
       "4          850     Spain  Female   43       2  125510.82              1   \n",
       "\n",
       "   HasCrCard  IsActiveMember  Exited  \n",
       "0          1               1       1  \n",
       "1          0               1       0  \n",
       "2          1               0       1  \n",
       "3          0               0       0  \n",
       "4          1               1       0  "
      ]
     },
     "execution_count": 45,
     "metadata": {},
     "output_type": "execute_result"
    }
   ],
   "source": [
    "X.head()"
   ]
  },
  {
   "cell_type": "code",
   "execution_count": 46,
   "metadata": {},
   "outputs": [
    {
     "data": {
      "text/plain": [
       "0       101348.88\n",
       "1       112542.58\n",
       "2       113931.57\n",
       "3        93826.63\n",
       "4        79084.10\n",
       "          ...    \n",
       "9995     96270.64\n",
       "9996    101699.77\n",
       "9997     42085.58\n",
       "9998     92888.52\n",
       "9999     38190.78\n",
       "Name: EstimatedSalary, Length: 10000, dtype: float64"
      ]
     },
     "execution_count": 46,
     "metadata": {},
     "output_type": "execute_result"
    }
   ],
   "source": [
    "y"
   ]
  },
  {
   "cell_type": "code",
   "execution_count": 47,
   "metadata": {},
   "outputs": [],
   "source": [
    "# FEATURE ENGINEERING\n",
    "from cgi import test\n",
    "\n",
    "\n",
    "geography = pd.get_dummies(X['Geography'],drop_first=True)\n",
    "gender = pd.get_dummies(X['Gender'],drop_first=True)\n",
    "\n",
    "# CONCATE THESE VARIABLE TO DATAFRAME\n",
    "X = X.drop([\"Geography\",\"Gender\"],axis=1)\n",
    "X = pd.concat([X,geography,gender],axis=1)\n",
    "\n",
    "# SPLITTING TRAIN TEST FOR DATASET\n",
    "X_train,X_test,y_train,y_test = train_test_split(X,y,test_size=0.2,random_state=0)\n",
    "\n",
    "# Feature Scaling\n",
    "from sklearn.preprocessing import StandardScaler\n",
    "sc =StandardScaler()\n",
    "X_train=sc.fit_transform(X_train)\n",
    "X_test=sc.transform(X_test)\n",
    "\n",
    "### Lets initialize the ANN\n",
    "regressor=Sequential()\n",
    "\n",
    "## Adding the input Layer and first hidden layer\n",
    "regressor.add(Dense(10,input_shape=(11,),activation='relu'))\n",
    "\n",
    "# adding the first hidden layer\n",
    "regressor.add(Dense(units=10,activation='relu'))\n",
    "#regressor.add(Dropout(0.2))\n",
    "\n",
    "##adding the second hidden layer\n",
    "regressor.add(Dense(units=10,activation='relu'))\n",
    "#regressor.add(Dropout(0.3))\n",
    "\n",
    "##  Adding the output layer\n",
    "regressor.add(Dense(1))\n",
    "\n",
    "\n",
    "\n"
   ]
  },
  {
   "cell_type": "code",
   "execution_count": 49,
   "metadata": {},
   "outputs": [
    {
     "name": "stdout",
     "output_type": "stream",
     "text": [
      "Model: \"sequential_1\"\n",
      "_________________________________________________________________\n",
      "Layer (type)                 Output Shape              Param #   \n",
      "=================================================================\n",
      "dense_4 (Dense)              (None, 10)                120       \n",
      "_________________________________________________________________\n",
      "dense_5 (Dense)              (None, 10)                110       \n",
      "_________________________________________________________________\n",
      "dense_6 (Dense)              (None, 10)                110       \n",
      "_________________________________________________________________\n",
      "dense_7 (Dense)              (None, 1)                 11        \n",
      "=================================================================\n",
      "Total params: 351\n",
      "Trainable params: 351\n",
      "Non-trainable params: 0\n",
      "_________________________________________________________________\n"
     ]
    }
   ],
   "source": [
    "regressor.summary()"
   ]
  },
  {
   "cell_type": "code",
   "execution_count": 51,
   "metadata": {},
   "outputs": [],
   "source": [
    "import tensorflow\n",
    "mse=tensorflow.keras.losses.MeanSquaredError(\n",
    "    name='mean_squared_error'\n",
    ")\n",
    "metrics=tensorflow.keras.metrics.MeanSquaredError(\n",
    "    name='mean_squared_error', dtype=None\n",
    ")"
   ]
  },
  {
   "cell_type": "code",
   "execution_count": 52,
   "metadata": {},
   "outputs": [],
   "source": [
    "\n",
    "regressor.compile(optimizer=opt,loss=mse,metrics=['mae'])"
   ]
  },
  {
   "cell_type": "code",
   "execution_count": 53,
   "metadata": {},
   "outputs": [],
   "source": [
    "## Early Stopping\n",
    "import tensorflow as tf\n",
    "early_stopping=tf.keras.callbacks.EarlyStopping(\n",
    "    monitor=\"mae\",\n",
    "    patience=20\n",
    "   \n",
    ")"
   ]
  },
  {
   "cell_type": "code",
   "execution_count": 54,
   "metadata": {},
   "outputs": [
    {
     "name": "stdout",
     "output_type": "stream",
     "text": [
      "Epoch 1/100\n",
      "800/800 [==============================] - 4s 4ms/step - loss: 3981112576.0000 - mae: 53130.8672 - val_loss: 3382033408.0000 - val_mae: 49800.6797\n",
      "Epoch 2/100\n",
      "800/800 [==============================] - 4s 5ms/step - loss: 3361514496.0000 - mae: 49907.2422 - val_loss: 3339664384.0000 - val_mae: 49675.0430\n",
      "Epoch 3/100\n",
      "800/800 [==============================] - 4s 5ms/step - loss: 3347223296.0000 - mae: 49878.2070 - val_loss: 3330886912.0000 - val_mae: 49728.2773\n",
      "Epoch 4/100\n",
      "800/800 [==============================] - 4s 5ms/step - loss: 3346288384.0000 - mae: 49874.0273 - val_loss: 3324995840.0000 - val_mae: 49614.6523\n",
      "Epoch 5/100\n",
      "800/800 [==============================] - 3s 4ms/step - loss: 3337759744.0000 - mae: 49836.3750 - val_loss: 3326544896.0000 - val_mae: 49647.9258\n",
      "Epoch 6/100\n",
      "800/800 [==============================] - 4s 4ms/step - loss: 3335731968.0000 - mae: 49805.9648 - val_loss: 3318182144.0000 - val_mae: 49598.0742\n",
      "Epoch 7/100\n",
      "800/800 [==============================] - 3s 4ms/step - loss: 3331848448.0000 - mae: 49739.7539 - val_loss: 3320347648.0000 - val_mae: 49589.5469\n",
      "Epoch 8/100\n",
      "800/800 [==============================] - 3s 4ms/step - loss: 3328798720.0000 - mae: 49740.1094 - val_loss: 3368997888.0000 - val_mae: 49810.3086\n",
      "Epoch 9/100\n",
      "800/800 [==============================] - 4s 4ms/step - loss: 3325139456.0000 - mae: 49744.9727 - val_loss: 3340142080.0000 - val_mae: 49717.2773\n",
      "Epoch 10/100\n",
      "800/800 [==============================] - 3s 3ms/step - loss: 3326804992.0000 - mae: 49724.6328 - val_loss: 3317935360.0000 - val_mae: 49597.6758\n",
      "Epoch 11/100\n",
      "800/800 [==============================] - 3s 4ms/step - loss: 3327765760.0000 - mae: 49784.7578 - val_loss: 3322170880.0000 - val_mae: 49630.9844\n",
      "Epoch 12/100\n",
      "800/800 [==============================] - 3s 3ms/step - loss: 3327585792.0000 - mae: 49753.2344 - val_loss: 3315969024.0000 - val_mae: 49556.4453\n",
      "Epoch 13/100\n",
      "800/800 [==============================] - 3s 3ms/step - loss: 3325104640.0000 - mae: 49700.8789 - val_loss: 3320999168.0000 - val_mae: 49609.0195\n",
      "Epoch 14/100\n",
      "800/800 [==============================] - 3s 3ms/step - loss: 3322358272.0000 - mae: 49781.5000 - val_loss: 3320599808.0000 - val_mae: 49629.8711\n",
      "Epoch 15/100\n",
      "800/800 [==============================] - 3s 4ms/step - loss: 3324819200.0000 - mae: 49728.0078 - val_loss: 3379077632.0000 - val_mae: 49935.4492\n",
      "Epoch 16/100\n",
      "800/800 [==============================] - 3s 3ms/step - loss: 3318891520.0000 - mae: 49627.4883 - val_loss: 3314680576.0000 - val_mae: 49547.1211\n",
      "Epoch 17/100\n",
      "800/800 [==============================] - 2s 3ms/step - loss: 3320631296.0000 - mae: 49685.4609 - val_loss: 3317219840.0000 - val_mae: 49613.2891\n",
      "Epoch 18/100\n",
      "800/800 [==============================] - 3s 3ms/step - loss: 3315615488.0000 - mae: 49688.3164 - val_loss: 3387228928.0000 - val_mae: 49872.8242\n",
      "Epoch 19/100\n",
      "800/800 [==============================] - 3s 3ms/step - loss: 3317242624.0000 - mae: 49638.7070 - val_loss: 3333834240.0000 - val_mae: 49619.5391\n",
      "Epoch 20/100\n",
      "800/800 [==============================] - 2s 3ms/step - loss: 3318497792.0000 - mae: 49651.5000 - val_loss: 3314929664.0000 - val_mae: 49553.2031\n",
      "Epoch 21/100\n",
      "800/800 [==============================] - 3s 3ms/step - loss: 3314976768.0000 - mae: 49658.8164 - val_loss: 3324725248.0000 - val_mae: 49609.1328\n",
      "Epoch 22/100\n",
      "800/800 [==============================] - 3s 3ms/step - loss: 3314533888.0000 - mae: 49679.1484 - val_loss: 3343373312.0000 - val_mae: 49652.6211\n",
      "Epoch 23/100\n",
      "800/800 [==============================] - 3s 3ms/step - loss: 3314848512.0000 - mae: 49641.1367 - val_loss: 3314340352.0000 - val_mae: 49586.1016\n",
      "Epoch 24/100\n",
      "800/800 [==============================] - 4s 5ms/step - loss: 3318065408.0000 - mae: 49628.0312 - val_loss: 3311272960.0000 - val_mae: 49519.9219\n",
      "Epoch 25/100\n",
      "800/800 [==============================] - 3s 3ms/step - loss: 3310458624.0000 - mae: 49582.1562 - val_loss: 3359743488.0000 - val_mae: 49766.3008\n",
      "Epoch 26/100\n",
      "800/800 [==============================] - 3s 4ms/step - loss: 3319459584.0000 - mae: 49685.0625 - val_loss: 3323330816.0000 - val_mae: 49604.0117\n",
      "Epoch 27/100\n",
      "800/800 [==============================] - 2s 3ms/step - loss: 3313848320.0000 - mae: 49663.2539 - val_loss: 3323654144.0000 - val_mae: 49618.4414\n",
      "Epoch 28/100\n",
      "800/800 [==============================] - 2s 2ms/step - loss: 3317179392.0000 - mae: 49682.1836 - val_loss: 3325758976.0000 - val_mae: 49640.8750\n",
      "Epoch 29/100\n",
      "800/800 [==============================] - 2s 3ms/step - loss: 3313034496.0000 - mae: 49567.3164 - val_loss: 3317153024.0000 - val_mae: 49544.2930\n",
      "Epoch 30/100\n",
      "800/800 [==============================] - 2s 3ms/step - loss: 3309035008.0000 - mae: 49622.6562 - val_loss: 3329143808.0000 - val_mae: 49550.4648\n",
      "Epoch 31/100\n",
      "800/800 [==============================] - 2s 3ms/step - loss: 3316894208.0000 - mae: 49671.1445 - val_loss: 3322704896.0000 - val_mae: 49573.0117\n",
      "Epoch 32/100\n",
      "800/800 [==============================] - 3s 3ms/step - loss: 3313851904.0000 - mae: 49653.8438 - val_loss: 3321985280.0000 - val_mae: 49620.1172\n",
      "Epoch 33/100\n",
      "800/800 [==============================] - 3s 4ms/step - loss: 3315338496.0000 - mae: 49637.2930 - val_loss: 3334722816.0000 - val_mae: 49669.4453\n",
      "Epoch 34/100\n",
      "800/800 [==============================] - 3s 3ms/step - loss: 3315180544.0000 - mae: 49618.0000 - val_loss: 3310412288.0000 - val_mae: 49511.4570\n",
      "Epoch 35/100\n",
      "800/800 [==============================] - 3s 4ms/step - loss: 3310852608.0000 - mae: 49614.4492 - val_loss: 3325741312.0000 - val_mae: 49621.5195\n",
      "Epoch 36/100\n",
      "800/800 [==============================] - 3s 3ms/step - loss: 3312300800.0000 - mae: 49613.3438 - val_loss: 3321029376.0000 - val_mae: 49591.8750\n",
      "Epoch 37/100\n",
      "800/800 [==============================] - 2s 3ms/step - loss: 3310219264.0000 - mae: 49604.0508 - val_loss: 3328678400.0000 - val_mae: 49650.9844\n",
      "Epoch 38/100\n",
      "800/800 [==============================] - 2s 3ms/step - loss: 3310306560.0000 - mae: 49601.9062 - val_loss: 3328940288.0000 - val_mae: 49700.3320\n",
      "Epoch 39/100\n",
      "800/800 [==============================] - 2s 3ms/step - loss: 3310719744.0000 - mae: 49605.4336 - val_loss: 3305103872.0000 - val_mae: 49475.8047\n",
      "Epoch 40/100\n",
      "800/800 [==============================] - 2s 3ms/step - loss: 3309156608.0000 - mae: 49603.0352 - val_loss: 3340147200.0000 - val_mae: 49705.0039\n",
      "Epoch 41/100\n",
      "800/800 [==============================] - 2s 3ms/step - loss: 3308902656.0000 - mae: 49584.6836 - val_loss: 3335993088.0000 - val_mae: 49735.7188\n",
      "Epoch 42/100\n",
      "800/800 [==============================] - 3s 4ms/step - loss: 3306531840.0000 - mae: 49587.0508 - val_loss: 3332121600.0000 - val_mae: 49678.6445\n",
      "Epoch 43/100\n",
      "800/800 [==============================] - 4s 4ms/step - loss: 3313304832.0000 - mae: 49623.8867 - val_loss: 3311663872.0000 - val_mae: 49499.2148\n",
      "Epoch 44/100\n",
      "800/800 [==============================] - 3s 4ms/step - loss: 3311951872.0000 - mae: 49665.9531 - val_loss: 3319772160.0000 - val_mae: 49569.9258\n",
      "Epoch 45/100\n",
      "800/800 [==============================] - 4s 5ms/step - loss: 3312032512.0000 - mae: 49688.1836 - val_loss: 3322112512.0000 - val_mae: 49620.0352\n",
      "Epoch 46/100\n",
      "800/800 [==============================] - 3s 4ms/step - loss: 3310427392.0000 - mae: 49653.0039 - val_loss: 3312702976.0000 - val_mae: 49547.3945\n",
      "Epoch 47/100\n",
      "800/800 [==============================] - 4s 6ms/step - loss: 3311130880.0000 - mae: 49602.4766 - val_loss: 3319527168.0000 - val_mae: 49539.6758\n",
      "Epoch 48/100\n",
      "800/800 [==============================] - 4s 5ms/step - loss: 3301795584.0000 - mae: 49539.7734 - val_loss: 3326731008.0000 - val_mae: 49667.9492\n",
      "Epoch 49/100\n",
      "800/800 [==============================] - 5s 6ms/step - loss: 3306948864.0000 - mae: 49570.1992 - val_loss: 3311125504.0000 - val_mae: 49557.7695\n",
      "Epoch 50/100\n",
      "800/800 [==============================] - 5s 6ms/step - loss: 3308258816.0000 - mae: 49632.6797 - val_loss: 3320056832.0000 - val_mae: 49590.1172\n",
      "Epoch 51/100\n",
      "800/800 [==============================] - 4s 5ms/step - loss: 3311043328.0000 - mae: 49610.5508 - val_loss: 3318497536.0000 - val_mae: 49581.5664\n",
      "Epoch 52/100\n",
      "800/800 [==============================] - 4s 5ms/step - loss: 3305223936.0000 - mae: 49550.7930 - val_loss: 3328399360.0000 - val_mae: 49625.0742\n",
      "Epoch 53/100\n",
      "800/800 [==============================] - 4s 6ms/step - loss: 3309214464.0000 - mae: 49622.0977 - val_loss: 3333964544.0000 - val_mae: 49660.9336\n",
      "Epoch 54/100\n",
      "800/800 [==============================] - 4s 5ms/step - loss: 3307120128.0000 - mae: 49610.2812 - val_loss: 3327360256.0000 - val_mae: 49641.2617\n",
      "Epoch 55/100\n",
      "800/800 [==============================] - 4s 5ms/step - loss: 3303694080.0000 - mae: 49611.4648 - val_loss: 3318687744.0000 - val_mae: 49561.6055\n",
      "Epoch 56/100\n",
      "800/800 [==============================] - 4s 5ms/step - loss: 3308221440.0000 - mae: 49593.3438 - val_loss: 3342335232.0000 - val_mae: 49686.6992\n",
      "Epoch 57/100\n",
      "800/800 [==============================] - 4s 5ms/step - loss: 3309111040.0000 - mae: 49598.5078 - val_loss: 3327154176.0000 - val_mae: 49590.6133\n",
      "Epoch 58/100\n",
      "800/800 [==============================] - 4s 5ms/step - loss: 3306948096.0000 - mae: 49587.2617 - val_loss: 3317184256.0000 - val_mae: 49567.7930\n",
      "Epoch 59/100\n",
      "800/800 [==============================] - 6s 8ms/step - loss: 3308087040.0000 - mae: 49616.8320 - val_loss: 3310326528.0000 - val_mae: 49489.8477\n",
      "Epoch 60/100\n",
      "800/800 [==============================] - 4s 5ms/step - loss: 3307672576.0000 - mae: 49608.4961 - val_loss: 3310909696.0000 - val_mae: 49534.9961\n",
      "Epoch 61/100\n",
      "800/800 [==============================] - 4s 5ms/step - loss: 3298172928.0000 - mae: 49504.5742 - val_loss: 3360540928.0000 - val_mae: 49849.5273302072576.0000 - mae\n",
      "Epoch 62/100\n",
      "800/800 [==============================] - 4s 6ms/step - loss: 3309223424.0000 - mae: 49632.9766 - val_loss: 3328210944.0000 - val_mae: 49612.3984\n",
      "Epoch 63/100\n",
      "800/800 [==============================] - 4s 4ms/step - loss: 3305075712.0000 - mae: 49596.8164 - val_loss: 3318974720.0000 - val_mae: 49544.7656\n",
      "Epoch 64/100\n",
      "800/800 [==============================] - 4s 5ms/step - loss: 3306448128.0000 - mae: 49597.2109 - val_loss: 3314953472.0000 - val_mae: 49545.6484\n",
      "Epoch 65/100\n",
      "800/800 [==============================] - 3s 4ms/step - loss: 3303254784.0000 - mae: 49590.5977 - val_loss: 3320472320.0000 - val_mae: 49578.1758\n",
      "Epoch 66/100\n",
      "800/800 [==============================] - 4s 5ms/step - loss: 3300454400.0000 - mae: 49546.0508 - val_loss: 3318315520.0000 - val_mae: 49519.9648\n",
      "Epoch 67/100\n",
      "800/800 [==============================] - 3s 4ms/step - loss: 3304267776.0000 - mae: 49585.2891 - val_loss: 3302756608.0000 - val_mae: 49434.9414\n",
      "Epoch 68/100\n",
      "800/800 [==============================] - 3s 4ms/step - loss: 3308207104.0000 - mae: 49576.2656 - val_loss: 3310480384.0000 - val_mae: 49485.7461\n",
      "Epoch 69/100\n",
      "800/800 [==============================] - 3s 4ms/step - loss: 3308258048.0000 - mae: 49656.3398 - val_loss: 3323278848.0000 - val_mae: 49622.7852\n",
      "Epoch 70/100\n",
      "800/800 [==============================] - 3s 4ms/step - loss: 3302196736.0000 - mae: 49519.9883 - val_loss: 3307705344.0000 - val_mae: 49419.4688\n",
      "Epoch 71/100\n",
      "800/800 [==============================] - 3s 4ms/step - loss: 3300942848.0000 - mae: 49544.2422 - val_loss: 3315888384.0000 - val_mae: 49531.7461\n",
      "Epoch 72/100\n",
      "800/800 [==============================] - 3s 4ms/step - loss: 3303361536.0000 - mae: 49585.0781 - val_loss: 3313130240.0000 - val_mae: 49509.5117\n",
      "Epoch 73/100\n",
      "800/800 [==============================] - 3s 4ms/step - loss: 3303976704.0000 - mae: 49606.1172 - val_loss: 3318503168.0000 - val_mae: 49590.8711\n",
      "Epoch 74/100\n",
      "800/800 [==============================] - 3s 4ms/step - loss: 3307442176.0000 - mae: 49563.6719 - val_loss: 3311246592.0000 - val_mae: 49524.8828\n",
      "Epoch 75/100\n",
      "800/800 [==============================] - 3s 4ms/step - loss: 3301296640.0000 - mae: 49577.5781 - val_loss: 3334945792.0000 - val_mae: 49638.3008\n",
      "Epoch 76/100\n",
      "800/800 [==============================] - 3s 4ms/step - loss: 3300232192.0000 - mae: 49537.7852 - val_loss: 3362109952.0000 - val_mae: 49798.6992\n",
      "Epoch 77/100\n",
      "800/800 [==============================] - 3s 4ms/step - loss: 3297835264.0000 - mae: 49520.3281 - val_loss: 3317059072.0000 - val_mae: 49562.6953\n",
      "Epoch 78/100\n",
      "800/800 [==============================] - 3s 4ms/step - loss: 3304412672.0000 - mae: 49600.7188 - val_loss: 3307726080.0000 - val_mae: 49442.6875\n",
      "Epoch 79/100\n",
      "800/800 [==============================] - 3s 4ms/step - loss: 3301654272.0000 - mae: 49560.2773 - val_loss: 3310521856.0000 - val_mae: 49488.3750\n",
      "Epoch 80/100\n",
      "800/800 [==============================] - 3s 4ms/step - loss: 3299471104.0000 - mae: 49535.3906 - val_loss: 3331361280.0000 - val_mae: 49619.5703\n",
      "Epoch 81/100\n",
      "800/800 [==============================] - 3s 4ms/step - loss: 3302476288.0000 - mae: 49542.2578 - val_loss: 3326062336.0000 - val_mae: 49660.8516\n"
     ]
    }
   ],
   "source": [
    "model_history=regressor.fit(X_train,y_train,validation_data=(X_test,y_test),batch_size=10,epochs=100,callbacks=early_stopping)"
   ]
  },
  {
   "cell_type": "code",
   "execution_count": 55,
   "metadata": {},
   "outputs": [
    {
     "data": {
      "text/plain": [
       "9394    192852.67\n",
       "898     128702.10\n",
       "2398     75732.25\n",
       "5906     89368.59\n",
       "2343    135662.17\n",
       "          ...    \n",
       "1037    180969.55\n",
       "2899     70760.69\n",
       "9549    141533.19\n",
       "2740     11276.48\n",
       "6690    192950.60\n",
       "Name: EstimatedSalary, Length: 2000, dtype: float64"
      ]
     },
     "execution_count": 55,
     "metadata": {},
     "output_type": "execute_result"
    }
   ],
   "source": [
    "y_test\n"
   ]
  },
  {
   "cell_type": "code",
   "execution_count": 56,
   "metadata": {},
   "outputs": [],
   "source": [
    "y_pred=regressor.predict(X_test)"
   ]
  },
  {
   "cell_type": "code",
   "execution_count": 57,
   "metadata": {},
   "outputs": [
    {
     "data": {
      "text/plain": [
       "array([[104863.266],\n",
       "       [107965.64 ],\n",
       "       [ 91297.63 ],\n",
       "       ...,\n",
       "       [ 97437.44 ],\n",
       "       [ 99539.06 ],\n",
       "       [102289.44 ]], dtype=float32)"
      ]
     },
     "execution_count": 57,
     "metadata": {},
     "output_type": "execute_result"
    }
   ],
   "source": [
    "y_pred\n"
   ]
  },
  {
   "cell_type": "code",
   "execution_count": 58,
   "metadata": {},
   "outputs": [],
   "source": [
    "from sklearn.metrics import r2_score"
   ]
  },
  {
   "cell_type": "code",
   "execution_count": 59,
   "metadata": {},
   "outputs": [
    {
     "name": "stdout",
     "output_type": "stream",
     "text": [
      "-0.00958957235460356\n"
     ]
    }
   ],
   "source": [
    "print(r2_score(y_test,y_pred))"
   ]
  },
  {
   "cell_type": "code",
   "execution_count": null,
   "metadata": {},
   "outputs": [],
   "source": []
  }
 ],
 "metadata": {
  "kernelspec": {
   "display_name": "Python 3.7.0 ('tensorflow')",
   "language": "python",
   "name": "python3"
  },
  "language_info": {
   "codemirror_mode": {
    "name": "ipython",
    "version": 3
   },
   "file_extension": ".py",
   "mimetype": "text/x-python",
   "name": "python",
   "nbconvert_exporter": "python",
   "pygments_lexer": "ipython3",
   "version": "3.7.0"
  },
  "orig_nbformat": 4,
  "vscode": {
   "interpreter": {
    "hash": "2cfc5e5fde577e24bede5bff70402412f63e8cd8f84642bd057efca2998f9af7"
   }
  }
 },
 "nbformat": 4,
 "nbformat_minor": 2
}
