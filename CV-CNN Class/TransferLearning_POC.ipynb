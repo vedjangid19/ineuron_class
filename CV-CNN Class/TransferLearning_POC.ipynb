{
  "nbformat": 4,
  "nbformat_minor": 0,
  "metadata": {
    "colab": {
      "provenance": []
    },
    "kernelspec": {
      "name": "python3",
      "display_name": "Python 3"
    },
    "language_info": {
      "name": "python"
    }
  },
  "cells": [
    {
      "cell_type": "markdown",
      "source": [
        "MNIST DATASET"
      ],
      "metadata": {
        "id": "gAuO-G8cY7SI"
      }
    },
    {
      "cell_type": "code",
      "execution_count": 1,
      "metadata": {
        "id": "VVhuLHqM0Txn"
      },
      "outputs": [],
      "source": [
        "# IMPORT LIBRAY\n",
        "import tensorflow as tf\n",
        "import numpy as np\n",
        "import matplotlib.pyplot as plt\n",
        "import pandas as pd\n",
        "import seaborn as sns\n",
        "%matplotlib inline"
      ]
    },
    {
      "cell_type": "code",
      "source": [
        "mnist = tf.keras.datasets.mnist\n",
        "(X_train_full, y_train_full), (X_test, y_test) = mnist.load_data()"
      ],
      "metadata": {
        "id": "Dm9g47Y9ZNBV"
      },
      "execution_count": 2,
      "outputs": []
    },
    {
      "cell_type": "code",
      "source": [
        "display(X_train_full.shape)\n",
        "display(y_train_full.shape)\n",
        "display(X_test.shape)\n",
        "display(y_test.shape)"
      ],
      "metadata": {
        "colab": {
          "base_uri": "https://localhost:8080/",
          "height": 89
        },
        "id": "6lmoR2-1ZZyF",
        "outputId": "ab922ca9-7545-4b16-9be1-d0930edd7705"
      },
      "execution_count": 3,
      "outputs": [
        {
          "output_type": "display_data",
          "data": {
            "text/plain": [
              "(60000, 28, 28)"
            ]
          },
          "metadata": {}
        },
        {
          "output_type": "display_data",
          "data": {
            "text/plain": [
              "(60000,)"
            ]
          },
          "metadata": {}
        },
        {
          "output_type": "display_data",
          "data": {
            "text/plain": [
              "(10000, 28, 28)"
            ]
          },
          "metadata": {}
        },
        {
          "output_type": "display_data",
          "data": {
            "text/plain": [
              "(10000,)"
            ]
          },
          "metadata": {}
        }
      ]
    },
    {
      "cell_type": "code",
      "source": [
        "y_train_full[0]"
      ],
      "metadata": {
        "colab": {
          "base_uri": "https://localhost:8080/"
        },
        "id": "ScOgW7roaBK9",
        "outputId": "5c113748-b540-441a-86cc-c389c9124eed"
      },
      "execution_count": 4,
      "outputs": [
        {
          "output_type": "execute_result",
          "data": {
            "text/plain": [
              "5"
            ]
          },
          "metadata": {},
          "execution_count": 4
        }
      ]
    },
    {
      "cell_type": "code",
      "source": [
        "img = X_train_full[0]\n",
        "display(img)\n",
        "plt.imshow(img, cmap=\"gray\")"
      ],
      "metadata": {
        "colab": {
          "base_uri": "https://localhost:8080/",
          "height": 1000
        },
        "id": "q4OzIL2ZaH8b",
        "outputId": "87981f80-c8e7-4f6c-ce85-b5c5aa9063ad"
      },
      "execution_count": 5,
      "outputs": [
        {
          "output_type": "display_data",
          "data": {
            "text/plain": [
              "array([[  0,   0,   0,   0,   0,   0,   0,   0,   0,   0,   0,   0,   0,\n",
              "          0,   0,   0,   0,   0,   0,   0,   0,   0,   0,   0,   0,   0,\n",
              "          0,   0],\n",
              "       [  0,   0,   0,   0,   0,   0,   0,   0,   0,   0,   0,   0,   0,\n",
              "          0,   0,   0,   0,   0,   0,   0,   0,   0,   0,   0,   0,   0,\n",
              "          0,   0],\n",
              "       [  0,   0,   0,   0,   0,   0,   0,   0,   0,   0,   0,   0,   0,\n",
              "          0,   0,   0,   0,   0,   0,   0,   0,   0,   0,   0,   0,   0,\n",
              "          0,   0],\n",
              "       [  0,   0,   0,   0,   0,   0,   0,   0,   0,   0,   0,   0,   0,\n",
              "          0,   0,   0,   0,   0,   0,   0,   0,   0,   0,   0,   0,   0,\n",
              "          0,   0],\n",
              "       [  0,   0,   0,   0,   0,   0,   0,   0,   0,   0,   0,   0,   0,\n",
              "          0,   0,   0,   0,   0,   0,   0,   0,   0,   0,   0,   0,   0,\n",
              "          0,   0],\n",
              "       [  0,   0,   0,   0,   0,   0,   0,   0,   0,   0,   0,   0,   3,\n",
              "         18,  18,  18, 126, 136, 175,  26, 166, 255, 247, 127,   0,   0,\n",
              "          0,   0],\n",
              "       [  0,   0,   0,   0,   0,   0,   0,   0,  30,  36,  94, 154, 170,\n",
              "        253, 253, 253, 253, 253, 225, 172, 253, 242, 195,  64,   0,   0,\n",
              "          0,   0],\n",
              "       [  0,   0,   0,   0,   0,   0,   0,  49, 238, 253, 253, 253, 253,\n",
              "        253, 253, 253, 253, 251,  93,  82,  82,  56,  39,   0,   0,   0,\n",
              "          0,   0],\n",
              "       [  0,   0,   0,   0,   0,   0,   0,  18, 219, 253, 253, 253, 253,\n",
              "        253, 198, 182, 247, 241,   0,   0,   0,   0,   0,   0,   0,   0,\n",
              "          0,   0],\n",
              "       [  0,   0,   0,   0,   0,   0,   0,   0,  80, 156, 107, 253, 253,\n",
              "        205,  11,   0,  43, 154,   0,   0,   0,   0,   0,   0,   0,   0,\n",
              "          0,   0],\n",
              "       [  0,   0,   0,   0,   0,   0,   0,   0,   0,  14,   1, 154, 253,\n",
              "         90,   0,   0,   0,   0,   0,   0,   0,   0,   0,   0,   0,   0,\n",
              "          0,   0],\n",
              "       [  0,   0,   0,   0,   0,   0,   0,   0,   0,   0,   0, 139, 253,\n",
              "        190,   2,   0,   0,   0,   0,   0,   0,   0,   0,   0,   0,   0,\n",
              "          0,   0],\n",
              "       [  0,   0,   0,   0,   0,   0,   0,   0,   0,   0,   0,  11, 190,\n",
              "        253,  70,   0,   0,   0,   0,   0,   0,   0,   0,   0,   0,   0,\n",
              "          0,   0],\n",
              "       [  0,   0,   0,   0,   0,   0,   0,   0,   0,   0,   0,   0,  35,\n",
              "        241, 225, 160, 108,   1,   0,   0,   0,   0,   0,   0,   0,   0,\n",
              "          0,   0],\n",
              "       [  0,   0,   0,   0,   0,   0,   0,   0,   0,   0,   0,   0,   0,\n",
              "         81, 240, 253, 253, 119,  25,   0,   0,   0,   0,   0,   0,   0,\n",
              "          0,   0],\n",
              "       [  0,   0,   0,   0,   0,   0,   0,   0,   0,   0,   0,   0,   0,\n",
              "          0,  45, 186, 253, 253, 150,  27,   0,   0,   0,   0,   0,   0,\n",
              "          0,   0],\n",
              "       [  0,   0,   0,   0,   0,   0,   0,   0,   0,   0,   0,   0,   0,\n",
              "          0,   0,  16,  93, 252, 253, 187,   0,   0,   0,   0,   0,   0,\n",
              "          0,   0],\n",
              "       [  0,   0,   0,   0,   0,   0,   0,   0,   0,   0,   0,   0,   0,\n",
              "          0,   0,   0,   0, 249, 253, 249,  64,   0,   0,   0,   0,   0,\n",
              "          0,   0],\n",
              "       [  0,   0,   0,   0,   0,   0,   0,   0,   0,   0,   0,   0,   0,\n",
              "          0,  46, 130, 183, 253, 253, 207,   2,   0,   0,   0,   0,   0,\n",
              "          0,   0],\n",
              "       [  0,   0,   0,   0,   0,   0,   0,   0,   0,   0,   0,   0,  39,\n",
              "        148, 229, 253, 253, 253, 250, 182,   0,   0,   0,   0,   0,   0,\n",
              "          0,   0],\n",
              "       [  0,   0,   0,   0,   0,   0,   0,   0,   0,   0,  24, 114, 221,\n",
              "        253, 253, 253, 253, 201,  78,   0,   0,   0,   0,   0,   0,   0,\n",
              "          0,   0],\n",
              "       [  0,   0,   0,   0,   0,   0,   0,   0,  23,  66, 213, 253, 253,\n",
              "        253, 253, 198,  81,   2,   0,   0,   0,   0,   0,   0,   0,   0,\n",
              "          0,   0],\n",
              "       [  0,   0,   0,   0,   0,   0,  18, 171, 219, 253, 253, 253, 253,\n",
              "        195,  80,   9,   0,   0,   0,   0,   0,   0,   0,   0,   0,   0,\n",
              "          0,   0],\n",
              "       [  0,   0,   0,   0,  55, 172, 226, 253, 253, 253, 253, 244, 133,\n",
              "         11,   0,   0,   0,   0,   0,   0,   0,   0,   0,   0,   0,   0,\n",
              "          0,   0],\n",
              "       [  0,   0,   0,   0, 136, 253, 253, 253, 212, 135, 132,  16,   0,\n",
              "          0,   0,   0,   0,   0,   0,   0,   0,   0,   0,   0,   0,   0,\n",
              "          0,   0],\n",
              "       [  0,   0,   0,   0,   0,   0,   0,   0,   0,   0,   0,   0,   0,\n",
              "          0,   0,   0,   0,   0,   0,   0,   0,   0,   0,   0,   0,   0,\n",
              "          0,   0],\n",
              "       [  0,   0,   0,   0,   0,   0,   0,   0,   0,   0,   0,   0,   0,\n",
              "          0,   0,   0,   0,   0,   0,   0,   0,   0,   0,   0,   0,   0,\n",
              "          0,   0],\n",
              "       [  0,   0,   0,   0,   0,   0,   0,   0,   0,   0,   0,   0,   0,\n",
              "          0,   0,   0,   0,   0,   0,   0,   0,   0,   0,   0,   0,   0,\n",
              "          0,   0]], dtype=uint8)"
            ]
          },
          "metadata": {}
        },
        {
          "output_type": "execute_result",
          "data": {
            "text/plain": [
              "<matplotlib.image.AxesImage at 0x7fdbb7b958d0>"
            ]
          },
          "metadata": {},
          "execution_count": 5
        },
        {
          "output_type": "display_data",
          "data": {
            "text/plain": [
              "<Figure size 432x288 with 1 Axes>"
            ],
            "image/png": "[encoded data removed]"
          },
          "metadata": {
            "needs_background": "light"
          }
        }
      ]
    },
    {
      "cell_type": "code",
      "source": [
        "label = y_train_full[0]\n",
        "label"
      ],
      "metadata": {
        "colab": {
          "base_uri": "https://localhost:8080/"
        },
        "id": "MLvSDp29aa6i",
        "outputId": "d3295140-c0b3-406f-a0c1-537fee9e0416"
      },
      "execution_count": 6,
      "outputs": [
        {
          "output_type": "execute_result",
          "data": {
            "text/plain": [
              "5"
            ]
          },
          "metadata": {},
          "execution_count": 6
        }
      ]
    },
    {
      "cell_type": "code",
      "source": [
        "plt.figure(figsize=(20,20))\n",
        "sns.heatmap(img/255, annot=True, cmap=\"gray\")"
      ],
      "metadata": {
        "colab": {
          "base_uri": "https://localhost:8080/",
          "height": 799
        },
        "id": "lthTjiZ3aio8",
        "outputId": "4da793ab-5864-4409-8e47-c093d2b9cc07"
      },
      "execution_count": 7,
      "outputs": [
        {
          "output_type": "execute_result",
          "data": {
            "text/plain": [
              "<matplotlib.axes._subplots.AxesSubplot at 0x7fdbb7deef90>"
            ]
          },
          "metadata": {},
          "execution_count": 7
        },
        {
          "output_type": "display_data",
          "data": {
            "text/plain": [
              "<Figure size 1440x1440 with 2 Axes>"
            ],
            "image/png": "[encoded data removed]"
          },
          "metadata": {
            "needs_background": "light"
          }
        }
      ]
    },
    {
      "cell_type": "code",
      "source": [
        "X_valid, X_train= X_train_full[:5000]/255, X_train_full[5000:]/255\n",
        "y_valid, y_train= y_train_full[:5000], y_train_full[5000:]\n",
        "\n",
        "X_test = X_test/255"
      ],
      "metadata": {
        "id": "V3x0FIjxay8A"
      },
      "execution_count": 8,
      "outputs": []
    },
    {
      "cell_type": "code",
      "source": [
        "np.unique(y_train)"
      ],
      "metadata": {
        "colab": {
          "base_uri": "https://localhost:8080/"
        },
        "id": "QF-cTvtcb79S",
        "outputId": "788dceba-9c0b-4048-ec95-d8f99563bd7c"
      },
      "execution_count": 9,
      "outputs": [
        {
          "output_type": "execute_result",
          "data": {
            "text/plain": [
              "array([0, 1, 2, 3, 4, 5, 6, 7, 8, 9], dtype=uint8)"
            ]
          },
          "metadata": {},
          "execution_count": 9
        }
      ]
    },
    {
      "cell_type": "code",
      "source": [
        "CLASSES = len(np.unique(y_train))\n",
        "CLASSES"
      ],
      "metadata": {
        "colab": {
          "base_uri": "https://localhost:8080/"
        },
        "id": "VUCwMjPbcE1I",
        "outputId": "ff130335-ec47-4eb4-f6a3-505c1b3cbd61"
      },
      "execution_count": 10,
      "outputs": [
        {
          "output_type": "execute_result",
          "data": {
            "text/plain": [
              "10"
            ]
          },
          "metadata": {},
          "execution_count": 10
        }
      ]
    },
    {
      "cell_type": "code",
      "source": [
        "img.shape"
      ],
      "metadata": {
        "colab": {
          "base_uri": "https://localhost:8080/"
        },
        "id": "EsyWu47zcqXZ",
        "outputId": "28bcb2ee-d988-4b5f-bc71-10bf626247ee"
      },
      "execution_count": 11,
      "outputs": [
        {
          "output_type": "execute_result",
          "data": {
            "text/plain": [
              "(28, 28)"
            ]
          },
          "metadata": {},
          "execution_count": 11
        }
      ]
    },
    {
      "cell_type": "code",
      "source": [
        "LAYERS = [\n",
        "    tf.keras.layers.Flatten(input_shape=(28,28), name=\"inputLayer\"),\n",
        "    tf.keras.layers.Dense(300, activation=\"relu\", name=\"hiddenLayer01\"),\n",
        "    tf.keras.layers.Dense(100, activation=\"relu\", name=\"hiddenLayer02\"),\n",
        "    tf.keras.layers.Dense(CLASSES, activation=\"softmax\", name=\"outputLayer\")\n",
        "]"
      ],
      "metadata": {
        "id": "hE0mx-_IcSvK"
      },
      "execution_count": 12,
      "outputs": []
    },
    {
      "cell_type": "code",
      "source": [
        "model_clf = tf.keras.models.Sequential(LAYERS)\n",
        "model_clf.summary()"
      ],
      "metadata": {
        "colab": {
          "base_uri": "https://localhost:8080/"
        },
        "id": "UPlAWsHvc7DM",
        "outputId": "ff0f38c2-a066-4dce-c7d3-1b3dfa4b58c1"
      },
      "execution_count": 13,
      "outputs": [
        {
          "output_type": "stream",
          "name": "stdout",
          "text": [
            "Model: \"sequential\"\n",
            "_________________________________________________________________\n",
            " Layer (type)                Output Shape              Param #   \n",
            "=================================================================\n",
            " inputLayer (Flatten)        (None, 784)               0         \n",
            "                                                                 \n",
            " hiddenLayer01 (Dense)       (None, 300)               235500    \n",
            "                                                                 \n",
            " hiddenLayer02 (Dense)       (None, 100)               30100     \n",
            "                                                                 \n",
            " outputLayer (Dense)         (None, 10)                1010      \n",
            "                                                                 \n",
            "=================================================================\n",
            "Total params: 266,610\n",
            "Trainable params: 266,610\n",
            "Non-trainable params: 0\n",
            "_________________________________________________________________\n"
          ]
        }
      ]
    },
    {
      "cell_type": "code",
      "source": [
        "784*300+300 + 300*100+100 + 100*10+10"
      ],
      "metadata": {
        "colab": {
          "base_uri": "https://localhost:8080/"
        },
        "id": "01pfPMqUd2LW",
        "outputId": "b612bf4e-a87b-48f2-adb4-eebe25a72dfb"
      },
      "execution_count": 14,
      "outputs": [
        {
          "output_type": "execute_result",
          "data": {
            "text/plain": [
              "266610"
            ]
          },
          "metadata": {},
          "execution_count": 14
        }
      ]
    },
    {
      "cell_type": "code",
      "source": [
        "LOSS_FUNCTION = \"sparse_categorical_crossentropy\"\n",
        "OPTIMIZERS = \"SGD\"\n",
        "METRICS = [\"accuracy\"]\n",
        "\n",
        "model_clf.compile(loss = LOSS_FUNCTION, optimizer= OPTIMIZERS, metrics = METRICS)"
      ],
      "metadata": {
        "id": "-8ihAW24eeXA"
      },
      "execution_count": 15,
      "outputs": []
    },
    {
      "cell_type": "code",
      "source": [
        "EPOCHS = 30\n",
        "VALIDATION = (X_valid, y_valid)\n",
        "\n",
        "history = model_clf.fit(\n",
        "    X_train,\n",
        "    y_train,\n",
        "    epochs = EPOCHS,\n",
        "    batch_size = 32,\n",
        "    validation_data = VALIDATION\n",
        ")"
      ],
      "metadata": {
        "colab": {
          "base_uri": "https://localhost:8080/"
        },
        "id": "u4udTSfyfVY_",
        "outputId": "63a113c9-5e2e-4d69-a4cf-df87946d7493"
      },
      "execution_count": 16,
      "outputs": [
        {
          "output_type": "stream",
          "name": "stdout",
          "text": [
            "Epoch 1/30\n",
            "1719/1719 [==============================] - 11s 6ms/step - loss: 0.5906 - accuracy: 0.8475 - val_loss: 0.2977 - val_accuracy: 0.9192\n",
            "Epoch 2/30\n",
            "1719/1719 [==============================] - 11s 6ms/step - loss: 0.2835 - accuracy: 0.9202 - val_loss: 0.2346 - val_accuracy: 0.9348\n",
            "Epoch 3/30\n",
            "1719/1719 [==============================] - 7s 4ms/step - loss: 0.2327 - accuracy: 0.9340 - val_loss: 0.2057 - val_accuracy: 0.9446\n",
            "Epoch 4/30\n",
            "1719/1719 [==============================] - 6s 4ms/step - loss: 0.1999 - accuracy: 0.9432 - val_loss: 0.1763 - val_accuracy: 0.9522\n",
            "Epoch 5/30\n",
            "1719/1719 [==============================] - 6s 4ms/step - loss: 0.1759 - accuracy: 0.9497 - val_loss: 0.1659 - val_accuracy: 0.9558\n",
            "Epoch 6/30\n",
            "1719/1719 [==============================] - 6s 4ms/step - loss: 0.1567 - accuracy: 0.9544 - val_loss: 0.1509 - val_accuracy: 0.9604\n",
            "Epoch 7/30\n",
            "1719/1719 [==============================] - 6s 4ms/step - loss: 0.1407 - accuracy: 0.9595 - val_loss: 0.1335 - val_accuracy: 0.9646\n",
            "Epoch 8/30\n",
            "1719/1719 [==============================] - 7s 4ms/step - loss: 0.1276 - accuracy: 0.9637 - val_loss: 0.1248 - val_accuracy: 0.9680\n",
            "Epoch 9/30\n",
            "1719/1719 [==============================] - 6s 4ms/step - loss: 0.1166 - accuracy: 0.9668 - val_loss: 0.1219 - val_accuracy: 0.9670\n",
            "Epoch 10/30\n",
            "1719/1719 [==============================] - 6s 4ms/step - loss: 0.1067 - accuracy: 0.9697 - val_loss: 0.1104 - val_accuracy: 0.9702\n",
            "Epoch 11/30\n",
            "1719/1719 [==============================] - 6s 4ms/step - loss: 0.0984 - accuracy: 0.9726 - val_loss: 0.1062 - val_accuracy: 0.9716\n",
            "Epoch 12/30\n",
            "1719/1719 [==============================] - 6s 4ms/step - loss: 0.0909 - accuracy: 0.9746 - val_loss: 0.1016 - val_accuracy: 0.9708\n",
            "Epoch 13/30\n",
            "1719/1719 [==============================] - 6s 4ms/step - loss: 0.0841 - accuracy: 0.9761 - val_loss: 0.0974 - val_accuracy: 0.9738\n",
            "Epoch 14/30\n",
            "1719/1719 [==============================] - 6s 4ms/step - loss: 0.0784 - accuracy: 0.9779 - val_loss: 0.0923 - val_accuracy: 0.9738\n",
            "Epoch 15/30\n",
            "1719/1719 [==============================] - 6s 4ms/step - loss: 0.0729 - accuracy: 0.9797 - val_loss: 0.0887 - val_accuracy: 0.9766\n",
            "Epoch 16/30\n",
            "1719/1719 [==============================] - 7s 4ms/step - loss: 0.0679 - accuracy: 0.9810 - val_loss: 0.0857 - val_accuracy: 0.9760\n",
            "Epoch 17/30\n",
            "1719/1719 [==============================] - 8s 5ms/step - loss: 0.0634 - accuracy: 0.9825 - val_loss: 0.0892 - val_accuracy: 0.9742\n",
            "Epoch 18/30\n",
            "1719/1719 [==============================] - 6s 4ms/step - loss: 0.0594 - accuracy: 0.9834 - val_loss: 0.0825 - val_accuracy: 0.9760\n",
            "Epoch 19/30\n",
            "1719/1719 [==============================] - 6s 4ms/step - loss: 0.0558 - accuracy: 0.9848 - val_loss: 0.0798 - val_accuracy: 0.9774\n",
            "Epoch 20/30\n",
            "1719/1719 [==============================] - 6s 4ms/step - loss: 0.0523 - accuracy: 0.9861 - val_loss: 0.0808 - val_accuracy: 0.9764\n",
            "Epoch 21/30\n",
            "1719/1719 [==============================] - 6s 4ms/step - loss: 0.0492 - accuracy: 0.9870 - val_loss: 0.0776 - val_accuracy: 0.9792\n",
            "Epoch 22/30\n",
            "1719/1719 [==============================] - 6s 4ms/step - loss: 0.0462 - accuracy: 0.9879 - val_loss: 0.0800 - val_accuracy: 0.9762\n",
            "Epoch 23/30\n",
            "1719/1719 [==============================] - 6s 4ms/step - loss: 0.0437 - accuracy: 0.9886 - val_loss: 0.0754 - val_accuracy: 0.9780\n",
            "Epoch 24/30\n",
            "1719/1719 [==============================] - 6s 4ms/step - loss: 0.0411 - accuracy: 0.9892 - val_loss: 0.0750 - val_accuracy: 0.9794\n",
            "Epoch 25/30\n",
            "1719/1719 [==============================] - 6s 4ms/step - loss: 0.0386 - accuracy: 0.9900 - val_loss: 0.0731 - val_accuracy: 0.9796\n",
            "Epoch 26/30\n",
            "1719/1719 [==============================] - 6s 4ms/step - loss: 0.0364 - accuracy: 0.9908 - val_loss: 0.0720 - val_accuracy: 0.9796\n",
            "Epoch 27/30\n",
            "1719/1719 [==============================] - 6s 4ms/step - loss: 0.0345 - accuracy: 0.9914 - val_loss: 0.0719 - val_accuracy: 0.9784\n",
            "Epoch 28/30\n",
            "1719/1719 [==============================] - 6s 4ms/step - loss: 0.0323 - accuracy: 0.9923 - val_loss: 0.0702 - val_accuracy: 0.9784\n",
            "Epoch 29/30\n",
            "1719/1719 [==============================] - 6s 4ms/step - loss: 0.0306 - accuracy: 0.9927 - val_loss: 0.0714 - val_accuracy: 0.9800\n",
            "Epoch 30/30\n",
            "1719/1719 [==============================] - 6s 4ms/step - loss: 0.0290 - accuracy: 0.9934 - val_loss: 0.0712 - val_accuracy: 0.9800\n"
          ]
        }
      ]
    },
    {
      "cell_type": "code",
      "source": [
        "pd.DataFrame(history.history)"
      ],
      "metadata": {
        "colab": {
          "base_uri": "https://localhost:8080/",
          "height": 991
        },
        "id": "zNgoN9Qef6jD",
        "outputId": "ecd851b1-dc52-4459-b269-7a4f7db48f51"
      },
      "execution_count": 17,
      "outputs": [
        {
          "output_type": "execute_result",
          "data": {
            "text/plain": [
              "        loss  accuracy  val_loss  val_accuracy\n",
              "0   0.590637  0.847455  0.297654        0.9192\n",
              "1   0.283518  0.920164  0.234609        0.9348\n",
              "2   0.232702  0.933982  0.205712        0.9446\n",
              "3   0.199882  0.943182  0.176287        0.9522\n",
              "4   0.175923  0.949655  0.165912        0.9558\n",
              "5   0.156731  0.954382  0.150870        0.9604\n",
              "6   0.140694  0.959455  0.133517        0.9646\n",
              "7   0.127601  0.963673  0.124799        0.9680\n",
              "8   0.116604  0.966818  0.121873        0.9670\n",
              "9   0.106740  0.969709  0.110436        0.9702\n",
              "10  0.098422  0.972600  0.106207        0.9716\n",
              "11  0.090931  0.974636  0.101606        0.9708\n",
              "12  0.084136  0.976145  0.097359        0.9738\n",
              "13  0.078440  0.977927  0.092344        0.9738\n",
              "14  0.072888  0.979691  0.088678        0.9766\n",
              "15  0.067899  0.981036  0.085705        0.9760\n",
              "16  0.063436  0.982545  0.089215        0.9742\n",
              "17  0.059450  0.983436  0.082462        0.9760\n",
              "18  0.055825  0.984818  0.079837        0.9774\n",
              "19  0.052268  0.986055  0.080832        0.9764\n",
              "20  0.049159  0.986964  0.077633        0.9792\n",
              "21  0.046186  0.987855  0.080015        0.9762\n",
              "22  0.043696  0.988564  0.075415        0.9780\n",
              "23  0.041058  0.989182  0.075002        0.9794\n",
              "24  0.038577  0.990000  0.073149        0.9796\n",
              "25  0.036442  0.990836  0.071993        0.9796\n",
              "26  0.034471  0.991436  0.071947        0.9784\n",
              "27  0.032287  0.992327  0.070205        0.9784\n",
              "28  0.030605  0.992709  0.071439        0.9800\n",
              "29  0.028983  0.993364  0.071177        0.9800"
            ],
            "text/html": [
              "\n",
              "  <div id=\"df-aa2b1580-2af1-44b6-81ec-087a6996da9b\">\n",
              "    <div class=\"colab-df-container\">\n",
              "      <div>\n",
              "<style scoped>\n",
              "    .dataframe tbody tr th:only-of-type {\n",
              "        vertical-align: middle;\n",
              "    }\n",
              "\n",
              "    .dataframe tbody tr th {\n",
              "        vertical-align: top;\n",
              "    }\n",
              "\n",
              "    .dataframe thead th {\n",
              "        text-align: right;\n",
              "    }\n",
              "</style>\n",
              "<table border=\"1\" class=\"dataframe\">\n",
              "  <thead>\n",
              "    <tr style=\"text-align: right;\">\n",
              "      <th></th>\n",
              "      <th>loss</th>\n",
              "      <th>accuracy</th>\n",
              "      <th>val_loss</th>\n",
              "      <th>val_accuracy</th>\n",
              "    </tr>\n",
              "  </thead>\n",
              "  <tbody>\n",
              "    <tr>\n",
              "      <th>0</th>\n",
              "      <td>0.590637</td>\n",
              "      <td>0.847455</td>\n",
              "      <td>0.297654</td>\n",
              "      <td>0.9192</td>\n",
              "    </tr>\n",
              "    <tr>\n",
              "      <th>1</th>\n",
              "      <td>0.283518</td>\n",
              "      <td>0.920164</td>\n",
              "      <td>0.234609</td>\n",
              "      <td>0.9348</td>\n",
              "    </tr>\n",
              "    <tr>\n",
              "      <th>2</th>\n",
              "      <td>0.232702</td>\n",
              "      <td>0.933982</td>\n",
              "      <td>0.205712</td>\n",
              "      <td>0.9446</td>\n",
              "    </tr>\n",
              "    <tr>\n",
              "      <th>3</th>\n",
              "      <td>0.199882</td>\n",
              "      <td>0.943182</td>\n",
              "      <td>0.176287</td>\n",
              "      <td>0.9522</td>\n",
              "    </tr>\n",
              "    <tr>\n",
              "      <th>4</th>\n",
              "      <td>0.175923</td>\n",
              "      <td>0.949655</td>\n",
              "      <td>0.165912</td>\n",
              "      <td>0.9558</td>\n",
              "    </tr>\n",
              "    <tr>\n",
              "      <th>5</th>\n",
              "      <td>0.156731</td>\n",
              "      <td>0.954382</td>\n",
              "      <td>0.150870</td>\n",
              "      <td>0.9604</td>\n",
              "    </tr>\n",
              "    <tr>\n",
              "      <th>6</th>\n",
              "      <td>0.140694</td>\n",
              "      <td>0.959455</td>\n",
              "      <td>0.133517</td>\n",
              "      <td>0.9646</td>\n",
              "    </tr>\n",
              "    <tr>\n",
              "      <th>7</th>\n",
              "      <td>0.127601</td>\n",
              "      <td>0.963673</td>\n",
              "      <td>0.124799</td>\n",
              "      <td>0.9680</td>\n",
              "    </tr>\n",
              "    <tr>\n",
              "      <th>8</th>\n",
              "      <td>0.116604</td>\n",
              "      <td>0.966818</td>\n",
              "      <td>0.121873</td>\n",
              "      <td>0.9670</td>\n",
              "    </tr>\n",
              "    <tr>\n",
              "      <th>9</th>\n",
              "      <td>0.106740</td>\n",
              "      <td>0.969709</td>\n",
              "      <td>0.110436</td>\n",
              "      <td>0.9702</td>\n",
              "    </tr>\n",
              "    <tr>\n",
              "      <th>10</th>\n",
              "      <td>0.098422</td>\n",
              "      <td>0.972600</td>\n",
              "      <td>0.106207</td>\n",
              "      <td>0.9716</td>\n",
              "    </tr>\n",
              "    <tr>\n",
              "      <th>11</th>\n",
              "      <td>0.090931</td>\n",
              "      <td>0.974636</td>\n",
              "      <td>0.101606</td>\n",
              "      <td>0.9708</td>\n",
              "    </tr>\n",
              "    <tr>\n",
              "      <th>12</th>\n",
              "      <td>0.084136</td>\n",
              "      <td>0.976145</td>\n",
              "      <td>0.097359</td>\n",
              "      <td>0.9738</td>\n",
              "    </tr>\n",
              "    <tr>\n",
              "      <th>13</th>\n",
              "      <td>0.078440</td>\n",
              "      <td>0.977927</td>\n",
              "      <td>0.092344</td>\n",
              "      <td>0.9738</td>\n",
              "    </tr>\n",
              "    <tr>\n",
              "      <th>14</th>\n",
              "      <td>0.072888</td>\n",
              "      <td>0.979691</td>\n",
              "      <td>0.088678</td>\n",
              "      <td>0.9766</td>\n",
              "    </tr>\n",
              "    <tr>\n",
              "      <th>15</th>\n",
              "      <td>0.067899</td>\n",
              "      <td>0.981036</td>\n",
              "      <td>0.085705</td>\n",
              "      <td>0.9760</td>\n",
              "    </tr>\n",
              "    <tr>\n",
              "      <th>16</th>\n",
              "      <td>0.063436</td>\n",
              "      <td>0.982545</td>\n",
              "      <td>0.089215</td>\n",
              "      <td>0.9742</td>\n",
              "    </tr>\n",
              "    <tr>\n",
              "      <th>17</th>\n",
              "      <td>0.059450</td>\n",
              "      <td>0.983436</td>\n",
              "      <td>0.082462</td>\n",
              "      <td>0.9760</td>\n",
              "    </tr>\n",
              "    <tr>\n",
              "      <th>18</th>\n",
              "      <td>0.055825</td>\n",
              "      <td>0.984818</td>\n",
              "      <td>0.079837</td>\n",
              "      <td>0.9774</td>\n",
              "    </tr>\n",
              "    <tr>\n",
              "      <th>19</th>\n",
              "      <td>0.052268</td>\n",
              "      <td>0.986055</td>\n",
              "      <td>0.080832</td>\n",
              "      <td>0.9764</td>\n",
              "    </tr>\n",
              "    <tr>\n",
              "      <th>20</th>\n",
              "      <td>0.049159</td>\n",
              "      <td>0.986964</td>\n",
              "      <td>0.077633</td>\n",
              "      <td>0.9792</td>\n",
              "    </tr>\n",
              "    <tr>\n",
              "      <th>21</th>\n",
              "      <td>0.046186</td>\n",
              "      <td>0.987855</td>\n",
              "      <td>0.080015</td>\n",
              "      <td>0.9762</td>\n",
              "    </tr>\n",
              "    <tr>\n",
              "      <th>22</th>\n",
              "      <td>0.043696</td>\n",
              "      <td>0.988564</td>\n",
              "      <td>0.075415</td>\n",
              "      <td>0.9780</td>\n",
              "    </tr>\n",
              "    <tr>\n",
              "      <th>23</th>\n",
              "      <td>0.041058</td>\n",
              "      <td>0.989182</td>\n",
              "      <td>0.075002</td>\n",
              "      <td>0.9794</td>\n",
              "    </tr>\n",
              "    <tr>\n",
              "      <th>24</th>\n",
              "      <td>0.038577</td>\n",
              "      <td>0.990000</td>\n",
              "      <td>0.073149</td>\n",
              "      <td>0.9796</td>\n",
              "    </tr>\n",
              "    <tr>\n",
              "      <th>25</th>\n",
              "      <td>0.036442</td>\n",
              "      <td>0.990836</td>\n",
              "      <td>0.071993</td>\n",
              "      <td>0.9796</td>\n",
              "    </tr>\n",
              "    <tr>\n",
              "      <th>26</th>\n",
              "      <td>0.034471</td>\n",
              "      <td>0.991436</td>\n",
              "      <td>0.071947</td>\n",
              "      <td>0.9784</td>\n",
              "    </tr>\n",
              "    <tr>\n",
              "      <th>27</th>\n",
              "      <td>0.032287</td>\n",
              "      <td>0.992327</td>\n",
              "      <td>0.070205</td>\n",
              "      <td>0.9784</td>\n",
              "    </tr>\n",
              "    <tr>\n",
              "      <th>28</th>\n",
              "      <td>0.030605</td>\n",
              "      <td>0.992709</td>\n",
              "      <td>0.071439</td>\n",
              "      <td>0.9800</td>\n",
              "    </tr>\n",
              "    <tr>\n",
              "      <th>29</th>\n",
              "      <td>0.028983</td>\n",
              "      <td>0.993364</td>\n",
              "      <td>0.071177</td>\n",
              "      <td>0.9800</td>\n",
              "    </tr>\n",
              "  </tbody>\n",
              "</table>\n",
              "</div>\n",
              "      <button class=\"colab-df-convert\" onclick=\"convertToInteractive('df-aa2b1580-2af1-44b6-81ec-087a6996da9b')\"\n",
              "              title=\"Convert this dataframe to an interactive table.\"\n",
              "              style=\"display:none;\">\n",
              "        \n",
              "  <svg xmlns=\"http://www.w3.org/2000/svg\" height=\"24px\"viewBox=\"0 0 24 24\"\n",
              "       width=\"24px\">\n",
              "    <path d=\"M0 0h24v24H0V0z\" fill=\"none\"/>\n",
              "    <path d=\"M18.56 5.44l.94 2.06.94-2.06 2.06-.94-2.06-.94-.94-2.06-.94 2.06-2.06.94zm-11 1L8.5 8.5l.94-2.06 2.06-.94-2.06-.94L8.5 2.5l-.94 2.06-2.06.94zm10 10l.94 2.06.94-2.06 2.06-.94-2.06-.94-.94-2.06-.94 2.06-2.06.94z\"/><path d=\"M17.41 7.96l-1.37-1.37c-.4-.4-.92-.59-1.43-.59-.52 0-1.04.2-1.43.59L10.3 9.45l-7.72 7.72c-.78.78-.78 2.05 0 2.83L4 21.41c.39.39.9.59 1.41.59.51 0 1.02-.2 1.41-.59l7.78-7.78 2.81-2.81c.8-.78.8-2.07 0-2.86zM5.41 20L4 18.59l7.72-7.72 1.47 1.35L5.41 20z\"/>\n",
              "  </svg>\n",
              "      </button>\n",
              "      \n",
              "  <style>\n",
              "    .colab-df-container {\n",
              "      display:flex;\n",
              "      flex-wrap:wrap;\n",
              "      gap: 12px;\n",
              "    }\n",
              "\n",
              "    .colab-df-convert {\n",
              "      background-color: #E8F0FE;\n",
              "      border: none;\n",
              "      border-radius: 50%;\n",
              "      cursor: pointer;\n",
              "      display: none;\n",
              "      fill: #1967D2;\n",
              "      height: 32px;\n",
              "      padding: 0 0 0 0;\n",
              "      width: 32px;\n",
              "    }\n",
              "\n",
              "    .colab-df-convert:hover {\n",
              "      background-color: #E2EBFA;\n",
              "      box-shadow: 0px 1px 2px rgba(60, 64, 67, 0.3), 0px 1px 3px 1px rgba(60, 64, 67, 0.15);\n",
              "      fill: #174EA6;\n",
              "    }\n",
              "\n",
              "    [theme=dark] .colab-df-convert {\n",
              "      background-color: #3B4455;\n",
              "      fill: #D2E3FC;\n",
              "    }\n",
              "\n",
              "    [theme=dark] .colab-df-convert:hover {\n",
              "      background-color: #434B5C;\n",
              "      box-shadow: 0px 1px 3px 1px rgba(0, 0, 0, 0.15);\n",
              "      filter: drop-shadow(0px 1px 2px rgba(0, 0, 0, 0.3));\n",
              "      fill: #FFFFFF;\n",
              "    }\n",
              "  </style>\n",
              "\n",
              "      <script>\n",
              "        const buttonEl =\n",
              "          document.querySelector('#df-aa2b1580-2af1-44b6-81ec-087a6996da9b button.colab-df-convert');\n",
              "        buttonEl.style.display =\n",
              "          google.colab.kernel.accessAllowed ? 'block' : 'none';\n",
              "\n",
              "        async function convertToInteractive(key) {\n",
              "          const element = document.querySelector('#df-aa2b1580-2af1-44b6-81ec-087a6996da9b');\n",
              "          const dataTable =\n",
              "            await google.colab.kernel.invokeFunction('convertToInteractive',\n",
              "                                                     [key], {});\n",
              "          if (!dataTable) return;\n",
              "\n",
              "          const docLinkHtml = 'Like what you see? Visit the ' +\n",
              "            '<a target=\"_blank\" href=https://colab.research.google.com/notebooks/data_table.ipynb>data table notebook</a>'\n",
              "            + ' to learn more about interactive tables.';\n",
              "          element.innerHTML = '';\n",
              "          dataTable['output_type'] = 'display_data';\n",
              "          await google.colab.output.renderOutput(dataTable, element);\n",
              "          const docLink = document.createElement('div');\n",
              "          docLink.innerHTML = docLinkHtml;\n",
              "          element.appendChild(docLink);\n",
              "        }\n",
              "      </script>\n",
              "    </div>\n",
              "  </div>\n",
              "  "
            ]
          },
          "metadata": {},
          "execution_count": 17
        }
      ]
    },
    {
      "cell_type": "code",
      "source": [
        "pd.DataFrame(history.history).plot(figsize=(10,7))\n",
        "plt.grid(True)\n",
        "plt.show()"
      ],
      "metadata": {
        "colab": {
          "base_uri": "https://localhost:8080/",
          "height": 428
        },
        "id": "NiMDXbP-g2GP",
        "outputId": "6f1673e0-88b2-4941-98f9-0d58b603f36a"
      },
      "execution_count": 18,
      "outputs": [
        {
          "output_type": "display_data",
          "data": {
            "text/plain": [
              "<Figure size 720x504 with 1 Axes>"
            ],
            "image/png": "[encoded data removed]"
          },
          "metadata": {
            "needs_background": "light"
          }
        }
      ]
    },
    {
      "cell_type": "code",
      "source": [
        "model_clf.evaluate(X_test,y_test)"
      ],
      "metadata": {
        "colab": {
          "base_uri": "https://localhost:8080/"
        },
        "id": "Mzud5XeIi5KW",
        "outputId": "e44266b5-7a8b-4b2a-be4a-aede60030b4d"
      },
      "execution_count": 19,
      "outputs": [
        {
          "output_type": "stream",
          "name": "stdout",
          "text": [
            "313/313 [==============================] - 1s 2ms/step - loss: 0.0724 - accuracy: 0.9784\n"
          ]
        },
        {
          "output_type": "execute_result",
          "data": {
            "text/plain": [
              "[0.07235509902238846, 0.9783999919891357]"
            ]
          },
          "metadata": {},
          "execution_count": 19
        }
      ]
    },
    {
      "cell_type": "code",
      "source": [
        "model_clf.save(\"mnist_model_full.h5\")"
      ],
      "metadata": {
        "id": "g0O8IErnjOdw"
      },
      "execution_count": 20,
      "outputs": []
    },
    {
      "cell_type": "code",
      "source": [
        "X_new = X_test[:3]\n",
        "y_prob = model_clf.predict(X_new)\n",
        "y_prob.round(3)"
      ],
      "metadata": {
        "colab": {
          "base_uri": "https://localhost:8080/"
        },
        "id": "KF5K-1I0jeje",
        "outputId": "a7e0e5b8-f4b0-4579-bcf4-5fbd08ca0f90"
      },
      "execution_count": 21,
      "outputs": [
        {
          "output_type": "execute_result",
          "data": {
            "text/plain": [
              "array([[0.   , 0.   , 0.   , 0.   , 0.   , 0.   , 0.   , 1.   , 0.   ,\n",
              "        0.   ],\n",
              "       [0.   , 0.   , 1.   , 0.   , 0.   , 0.   , 0.   , 0.   , 0.   ,\n",
              "        0.   ],\n",
              "       [0.   , 0.998, 0.   , 0.   , 0.   , 0.   , 0.   , 0.001, 0.   ,\n",
              "        0.   ]], dtype=float32)"
            ]
          },
          "metadata": {},
          "execution_count": 21
        }
      ]
    },
    {
      "cell_type": "code",
      "source": [
        "X_new.shape"
      ],
      "metadata": {
        "colab": {
          "base_uri": "https://localhost:8080/"
        },
        "id": "LBkt1jbNjwHq",
        "outputId": "c77cb664-c01c-4ef0-df09-dc56849cbe2b"
      },
      "execution_count": 22,
      "outputs": [
        {
          "output_type": "execute_result",
          "data": {
            "text/plain": [
              "(3, 28, 28)"
            ]
          },
          "metadata": {},
          "execution_count": 22
        }
      ]
    },
    {
      "cell_type": "code",
      "source": [
        "y_prob.shape"
      ],
      "metadata": {
        "colab": {
          "base_uri": "https://localhost:8080/"
        },
        "id": "R0XDu2aqk65b",
        "outputId": "e74a44c5-8c20-4503-9ff0-73dd14186b96"
      },
      "execution_count": 23,
      "outputs": [
        {
          "output_type": "execute_result",
          "data": {
            "text/plain": [
              "(3, 10)"
            ]
          },
          "metadata": {},
          "execution_count": 23
        }
      ]
    },
    {
      "cell_type": "code",
      "source": [
        "plt.imshow(X_new[0], cmap=\"gray\")"
      ],
      "metadata": {
        "colab": {
          "base_uri": "https://localhost:8080/",
          "height": 283
        },
        "id": "ShMtPiD8lASW",
        "outputId": "0bef7b6c-f357-4cae-ec58-3bfb62c86aff"
      },
      "execution_count": 24,
      "outputs": [
        {
          "output_type": "execute_result",
          "data": {
            "text/plain": [
              "<matplotlib.image.AxesImage at 0x7fdbaae0c410>"
            ]
          },
          "metadata": {},
          "execution_count": 24
        },
        {
          "output_type": "display_data",
          "data": {
            "text/plain": [
              "<Figure size 432x288 with 1 Axes>"
            ],
            "image/png": "[encoded data removed]"
          },
          "metadata": {
            "needs_background": "light"
          }
        }
      ]
    },
    {
      "cell_type": "code",
      "source": [
        "y_pred = np.argmax(y_prob, axis=-1)\n",
        "y_pred"
      ],
      "metadata": {
        "colab": {
          "base_uri": "https://localhost:8080/"
        },
        "id": "qVo-DlodlF4u",
        "outputId": "2afc94dd-8078-40e7-c8de-13f7c976032c"
      },
      "execution_count": 25,
      "outputs": [
        {
          "output_type": "execute_result",
          "data": {
            "text/plain": [
              "array([7, 2, 1])"
            ]
          },
          "metadata": {},
          "execution_count": 25
        }
      ]
    },
    {
      "cell_type": "code",
      "source": [
        "for img_array, pred, actual in zip(X_new, y_pred, y_test[:3]):\n",
        "    plt.imshow(img_array, cmap=\"gray\")\n",
        "    plt.title(f\"predicted : {pred}, actual : {actual}\")\n",
        "    plt.axis(\"off\")\n",
        "    plt.show()"
      ],
      "metadata": {
        "colab": {
          "base_uri": "https://localhost:8080/",
          "height": 758
        },
        "id": "oGcsiwOxlSGQ",
        "outputId": "e2636d57-c4d6-42bf-8f58-dfe1b412c9ea"
      },
      "execution_count": 28,
      "outputs": [
        {
          "output_type": "display_data",
          "data": {
            "text/plain": [
              "<Figure size 432x288 with 1 Axes>"
            ],
            "image/png": "[encoded data removed]"
          },
          "metadata": {
            "needs_background": "light"
          }
        },
        {
          "output_type": "display_data",
          "data": {
            "text/plain": [
              "<Figure size 432x288 with 1 Axes>"
            ],
            "image/png": "[encoded data removed]"
          },
          "metadata": {
            "needs_background": "light"
          }
        },
        {
          "output_type": "display_data",
          "data": {
            "text/plain": [
              "<Figure size 432x288 with 1 Axes>"
            ],
            "image/png": "[encoded data removed]"
          },
          "metadata": {
            "needs_background": "light"
          }
        }
      ]
    },
    {
      "cell_type": "markdown",
      "source": [
        "**TRANSFER LEARNING**\n",
        "\n",
        "  classifiy handwritten digits into odd or even"
      ],
      "metadata": {
        "id": "2DVXXMtKmZVE"
      }
    },
    {
      "cell_type": "code",
      "source": [
        "predicted_model = tf.keras.models.load_model(\"mnist_model_full.h5\")\n",
        "predicted_model.summary()"
      ],
      "metadata": {
        "colab": {
          "base_uri": "https://localhost:8080/"
        },
        "id": "eOdxCCnkl5FN",
        "outputId": "988fa3e5-e458-4274-b7bc-54fde9936767"
      },
      "execution_count": 29,
      "outputs": [
        {
          "output_type": "stream",
          "name": "stdout",
          "text": [
            "Model: \"sequential\"\n",
            "_________________________________________________________________\n",
            " Layer (type)                Output Shape              Param #   \n",
            "=================================================================\n",
            " inputLayer (Flatten)        (None, 784)               0         \n",
            "                                                                 \n",
            " hiddenLayer01 (Dense)       (None, 300)               235500    \n",
            "                                                                 \n",
            " hiddenLayer02 (Dense)       (None, 100)               30100     \n",
            "                                                                 \n",
            " outputLayer (Dense)         (None, 10)                1010      \n",
            "                                                                 \n",
            "=================================================================\n",
            "Total params: 266,610\n",
            "Trainable params: 266,610\n",
            "Non-trainable params: 0\n",
            "_________________________________________________________________\n"
          ]
        }
      ]
    },
    {
      "cell_type": "code",
      "source": [
        "for layer in predicted_model.layers:\n",
        "    print(f\"{layer.name} :: {layer.trainable}\")"
      ],
      "metadata": {
        "colab": {
          "base_uri": "https://localhost:8080/"
        },
        "id": "Od6YSaCHnInP",
        "outputId": "5f3d62e4-adf5-454e-de04-618e0eb530b1"
      },
      "execution_count": 30,
      "outputs": [
        {
          "output_type": "stream",
          "name": "stdout",
          "text": [
            "inputLayer :: True\n",
            "hiddenLayer01 :: True\n",
            "hiddenLayer02 :: True\n",
            "outputLayer :: True\n"
          ]
        }
      ]
    },
    {
      "cell_type": "code",
      "source": [
        "for layer in predicted_model.layers[:-1]:\n",
        "    layer.trainable = False"
      ],
      "metadata": {
        "id": "xzpsjLmvndyj"
      },
      "execution_count": 32,
      "outputs": []
    },
    {
      "cell_type": "code",
      "source": [
        "for layer in predicted_model.layers:\n",
        "    print(f\"{layer.name} :: {layer.trainable}\")"
      ],
      "metadata": {
        "colab": {
          "base_uri": "https://localhost:8080/"
        },
        "id": "tId94XlAntl3",
        "outputId": "297a4926-f73b-4d7b-9e46-e862e282e7f9"
      },
      "execution_count": 33,
      "outputs": [
        {
          "output_type": "stream",
          "name": "stdout",
          "text": [
            "inputLayer :: False\n",
            "hiddenLayer01 :: False\n",
            "hiddenLayer02 :: False\n",
            "outputLayer :: True\n"
          ]
        }
      ]
    },
    {
      "cell_type": "code",
      "source": [
        "lower_pretrained_model = predicted_model.layers[:-1]"
      ],
      "metadata": {
        "id": "Xm-gG0lKnyMl"
      },
      "execution_count": 34,
      "outputs": []
    },
    {
      "cell_type": "code",
      "source": [
        "new_model = tf.keras.models.Sequential(\n",
        "    lower_pretrained_model\n",
        ")\n",
        "new_model.add(\n",
        "    tf.keras.layers.Dense(2, activation=\"softmax\")\n",
        ")\n",
        "\n",
        "new_model.summary()"
      ],
      "metadata": {
        "colab": {
          "base_uri": "https://localhost:8080/"
        },
        "id": "b6f6jZ10ocSv",
        "outputId": "c2684a2e-f7ac-4e81-d903-fead6b2aad64"
      },
      "execution_count": 35,
      "outputs": [
        {
          "output_type": "stream",
          "name": "stdout",
          "text": [
            "Model: \"sequential_1\"\n",
            "_________________________________________________________________\n",
            " Layer (type)                Output Shape              Param #   \n",
            "=================================================================\n",
            " inputLayer (Flatten)        (None, 784)               0         \n",
            "                                                                 \n",
            " hiddenLayer01 (Dense)       (None, 300)               235500    \n",
            "                                                                 \n",
            " hiddenLayer02 (Dense)       (None, 100)               30100     \n",
            "                                                                 \n",
            " dense (Dense)               (None, 2)                 202       \n",
            "                                                                 \n",
            "=================================================================\n",
            "Total params: 265,802\n",
            "Trainable params: 202\n",
            "Non-trainable params: 265,600\n",
            "_________________________________________________________________\n"
          ]
        }
      ]
    },
    {
      "cell_type": "code",
      "source": [
        "def update_even_odd_labels(labels):\n",
        "    for idx, label in enumerate(labels):\n",
        "        labels[idx] = np.where(label % 2 == 0, 1, 0)\n",
        "    return labels"
      ],
      "metadata": {
        "id": "M5z0PNVqo2rG"
      },
      "execution_count": 36,
      "outputs": []
    },
    {
      "cell_type": "code",
      "source": [
        "y_train_bin, y_test_bin, y_valid_bin = update_even_odd_labels([y_train, y_test, y_valid])"
      ],
      "metadata": {
        "id": "u26sr8xcpZGf"
      },
      "execution_count": 37,
      "outputs": []
    },
    {
      "cell_type": "code",
      "source": [
        "np.unique(y_train_bin)"
      ],
      "metadata": {
        "colab": {
          "base_uri": "https://localhost:8080/"
        },
        "id": "tBWAcnv3p1YY",
        "outputId": "a5c54b6e-9439-4891-cf4e-3dff026c162b"
      },
      "execution_count": 38,
      "outputs": [
        {
          "output_type": "execute_result",
          "data": {
            "text/plain": [
              "array([0, 1])"
            ]
          },
          "metadata": {},
          "execution_count": 38
        }
      ]
    },
    {
      "cell_type": "code",
      "source": [
        "new_model.compile(\n",
        "    loss=\"sparse_categorical_crossentropy\",\n",
        "    optimizer=\"SGD\",\n",
        "    metrics=[\"accuracy\"]\n",
        ")"
      ],
      "metadata": {
        "id": "9566k-Zlp9EA"
      },
      "execution_count": 39,
      "outputs": []
    },
    {
      "cell_type": "code",
      "source": [
        "history = new_model.fit(\n",
        "    X_train, \n",
        "    y_train_bin, \n",
        "    epochs=10, \n",
        "    validation_data = (X_valid, y_valid_bin)\n",
        ")"
      ],
      "metadata": {
        "colab": {
          "base_uri": "https://localhost:8080/"
        },
        "id": "xM1zsoZ0qr37",
        "outputId": "87a58e15-a32c-49aa-b06e-a65867551ed5"
      },
      "execution_count": 40,
      "outputs": [
        {
          "output_type": "stream",
          "name": "stdout",
          "text": [
            "Epoch 1/10\n",
            "1719/1719 [==============================] - 5s 3ms/step - loss: 0.1750 - accuracy: 0.9352 - val_loss: 0.1276 - val_accuracy: 0.9570\n",
            "Epoch 2/10\n",
            "1719/1719 [==============================] - 4s 2ms/step - loss: 0.1177 - accuracy: 0.9589 - val_loss: 0.1127 - val_accuracy: 0.9614\n",
            "Epoch 3/10\n",
            "1719/1719 [==============================] - 4s 3ms/step - loss: 0.1064 - accuracy: 0.9628 - val_loss: 0.1065 - val_accuracy: 0.9636\n",
            "Epoch 4/10\n",
            "1719/1719 [==============================] - 4s 2ms/step - loss: 0.1009 - accuracy: 0.9650 - val_loss: 0.1052 - val_accuracy: 0.9654\n",
            "Epoch 5/10\n",
            "1719/1719 [==============================] - 4s 2ms/step - loss: 0.0972 - accuracy: 0.9664 - val_loss: 0.1041 - val_accuracy: 0.9640\n",
            "Epoch 6/10\n",
            "1719/1719 [==============================] - 5s 3ms/step - loss: 0.0947 - accuracy: 0.9677 - val_loss: 0.0999 - val_accuracy: 0.9668\n",
            "Epoch 7/10\n",
            "1719/1719 [==============================] - 4s 2ms/step - loss: 0.0928 - accuracy: 0.9679 - val_loss: 0.0987 - val_accuracy: 0.9672\n",
            "Epoch 8/10\n",
            "1719/1719 [==============================] - 4s 2ms/step - loss: 0.0913 - accuracy: 0.9684 - val_loss: 0.0976 - val_accuracy: 0.9684\n",
            "Epoch 9/10\n",
            "1719/1719 [==============================] - 4s 2ms/step - loss: 0.0901 - accuracy: 0.9686 - val_loss: 0.0978 - val_accuracy: 0.9686\n",
            "Epoch 10/10\n",
            "1719/1719 [==============================] - 4s 2ms/step - loss: 0.0890 - accuracy: 0.9690 - val_loss: 0.0968 - val_accuracy: 0.9682\n"
          ]
        }
      ]
    },
    {
      "cell_type": "code",
      "source": [
        "new_model.evaluate(X_test,y_test_bin)"
      ],
      "metadata": {
        "colab": {
          "base_uri": "https://localhost:8080/"
        },
        "id": "cjtq46EQq5jY",
        "outputId": "7b630b66-e737-4ed2-a520-d4520817eb13"
      },
      "execution_count": 41,
      "outputs": [
        {
          "output_type": "stream",
          "name": "stdout",
          "text": [
            "313/313 [==============================] - 1s 2ms/step - loss: 0.1015 - accuracy: 0.9642\n"
          ]
        },
        {
          "output_type": "execute_result",
          "data": {
            "text/plain": [
              "[0.10149065405130386, 0.9642000198364258]"
            ]
          },
          "metadata": {},
          "execution_count": 41
        }
      ]
    },
    {
      "cell_type": "code",
      "source": [
        "X_new = X_test[:3]\n",
        "\n",
        "y_prob = new_model.predict(X_new)\n",
        "y_prob.round(3)"
      ],
      "metadata": {
        "colab": {
          "base_uri": "https://localhost:8080/"
        },
        "id": "JDXJH-96rXoZ",
        "outputId": "94777e2a-87f3-4858-9281-4f1609cf7689"
      },
      "execution_count": 43,
      "outputs": [
        {
          "output_type": "execute_result",
          "data": {
            "text/plain": [
              "array([[0.999, 0.001],\n",
              "       [0.006, 0.994],\n",
              "       [0.991, 0.009]], dtype=float32)"
            ]
          },
          "metadata": {},
          "execution_count": 43
        }
      ]
    },
    {
      "cell_type": "code",
      "source": [
        "Y_pred = np.argmax(y_prob, axis=-1)\n",
        "Y_pred"
      ],
      "metadata": {
        "colab": {
          "base_uri": "https://localhost:8080/"
        },
        "id": "dYTDBLl_rbwo",
        "outputId": "7089d2b4-875b-4e8d-fa76-d88a210f73dc"
      },
      "execution_count": 44,
      "outputs": [
        {
          "output_type": "execute_result",
          "data": {
            "text/plain": [
              "array([0, 1, 0])"
            ]
          },
          "metadata": {},
          "execution_count": 44
        }
      ]
    },
    {
      "cell_type": "code",
      "source": [
        "y_test_bin[:3]"
      ],
      "metadata": {
        "colab": {
          "base_uri": "https://localhost:8080/"
        },
        "id": "D5zet1V5rna4",
        "outputId": "85b8883f-75db-4804-b5b0-c5f562010444"
      },
      "execution_count": 45,
      "outputs": [
        {
          "output_type": "execute_result",
          "data": {
            "text/plain": [
              "array([0, 1, 0])"
            ]
          },
          "metadata": {},
          "execution_count": 45
        }
      ]
    },
    {
      "cell_type": "code",
      "source": [
        "for img_array, pred, actual in zip(X_new, Y_pred, y_test_bin[:3]):\n",
        "    plt.imshow(img_array, cmap=\"gray\")\n",
        "    if pred == 1:\n",
        "        pred = \"even\"\n",
        "    else:\n",
        "        pred = \"odd\"\n",
        "    if actual == 1:\n",
        "        actual = \"even\"\n",
        "    else:\n",
        "        actual = \"odd\"\n",
        "    plt.title(f\"Pridicted :: {pred}  Actual :: {actual}\")\n",
        "    plt.show()"
      ],
      "metadata": {
        "colab": {
          "base_uri": "https://localhost:8080/",
          "height": 809
        },
        "id": "qb1siEkersm9",
        "outputId": "9aa85023-a294-4ec5-8976-4c796154a99b"
      },
      "execution_count": 47,
      "outputs": [
        {
          "output_type": "display_data",
          "data": {
            "text/plain": [
              "<Figure size 432x288 with 1 Axes>"
            ],
            "image/png": "[encoded data removed]"
          },
          "metadata": {
            "needs_background": "light"
          }
        },
        {
          "output_type": "display_data",
          "data": {
            "text/plain": [
              "<Figure size 432x288 with 1 Axes>"
            ],
            "image/png": "[encoded data removed]"
          },
          "metadata": {
            "needs_background": "light"
          }
        },
        {
          "output_type": "display_data",
          "data": {
            "text/plain": [
              "<Figure size 432x288 with 1 Axes>"
            ],
            "image/png": "[encoded data removed]"
          },
          "metadata": {
            "needs_background": "light"
          }
        }
      ]
    },
    {
      "cell_type": "markdown",
      "source": [
        "**TRAIN A CNN MODEL ON MNIST DATA**"
      ],
      "metadata": {
        "id": "-ArjgLa3uVD6"
      }
    },
    {
      "cell_type": "code",
      "source": [
        "X_train[0].shape"
      ],
      "metadata": {
        "colab": {
          "base_uri": "https://localhost:8080/"
        },
        "id": "JTWYS3DbsdUG",
        "outputId": "0e70b637-0260-437e-b253-855a76d0d483"
      },
      "execution_count": 48,
      "outputs": [
        {
          "output_type": "execute_result",
          "data": {
            "text/plain": [
              "(28, 28)"
            ]
          },
          "metadata": {},
          "execution_count": 48
        }
      ]
    },
    {
      "cell_type": "code",
      "source": [
        "img = X_train[5]\n",
        "plt.imshow(img, cmap=\"gray\")\n",
        "plt.show()"
      ],
      "metadata": {
        "colab": {
          "base_uri": "https://localhost:8080/",
          "height": 265
        },
        "id": "SOj-KwQludrx",
        "outputId": "adf4ced0-d895-4c4a-8660-a124df419f6b"
      },
      "execution_count": 50,
      "outputs": [
        {
          "output_type": "display_data",
          "data": {
            "text/plain": [
              "<Figure size 432x288 with 1 Axes>"
            ],
            "image/png": "[encoded data removed]"
          },
          "metadata": {
            "needs_background": "light"
          }
        }
      ]
    },
    {
      "cell_type": "code",
      "source": [
        "X_train_CNN = np.expand_dims(X_train, -1)\n",
        "X_test_CNN = np.expand_dims(X_test, -1)\n",
        "X_valid_CNN = np.expand_dims(X_valid, -1)\n",
        "X_train_CNN.shape"
      ],
      "metadata": {
        "colab": {
          "base_uri": "https://localhost:8080/"
        },
        "id": "EAwTq_W4uljt",
        "outputId": "a118fea4-4cd5-481e-d945-7b89b17f3a1b"
      },
      "execution_count": 53,
      "outputs": [
        {
          "output_type": "execute_result",
          "data": {
            "text/plain": [
              "(55000, 28, 28, 1)"
            ]
          },
          "metadata": {},
          "execution_count": 53
        }
      ]
    },
    {
      "cell_type": "code",
      "source": [
        "display(X_train[0].shape)\n",
        "display(X_train_CNN[0].shape)\n"
      ],
      "metadata": {
        "colab": {
          "base_uri": "https://localhost:8080/",
          "height": 53
        },
        "id": "OaHKcRh-vD2d",
        "outputId": "67948adb-8c27-4388-fdc9-3ef8826bc0f2"
      },
      "execution_count": 54,
      "outputs": [
        {
          "output_type": "display_data",
          "data": {
            "text/plain": [
              "(28, 28)"
            ]
          },
          "metadata": {}
        },
        {
          "output_type": "display_data",
          "data": {
            "text/plain": [
              "(28, 28, 1)"
            ]
          },
          "metadata": {}
        }
      ]
    },
    {
      "cell_type": "code",
      "source": [
        "input_shape = (28,28,1)\n",
        "CLASSES = 10\n",
        "LAYERS = [\n",
        "    tf.keras.Input(shape=input_shape),\n",
        "    tf.keras.layers.Conv2D(32, kernel_size=(3,3),activation=\"relu\"),\n",
        "    tf.keras.layers.MaxPool2D(pool_size=(2,2)),\n",
        "    tf.keras.layers.Conv2D(64, kernel_size=(3,3),activation=\"relu\"),\n",
        "    tf.keras.layers.MaxPool2D(pool_size=(2,2)),\n",
        "    tf.keras.layers.Flatten(),\n",
        "    tf.keras.layers.Dense(CLASSES, activation=\"softmax\"),\n",
        "]"
      ],
      "metadata": {
        "id": "C0w5vPIWveUf"
      },
      "execution_count": 55,
      "outputs": []
    },
    {
      "cell_type": "code",
      "source": [
        "CNN_model = tf.keras.Sequential(LAYERS)\n",
        "CNN_model.summary()"
      ],
      "metadata": {
        "colab": {
          "base_uri": "https://localhost:8080/"
        },
        "id": "3kjQkfUUxFu0",
        "outputId": "66ca50a7-627c-4942-db31-a4b91435012f"
      },
      "execution_count": 56,
      "outputs": [
        {
          "output_type": "stream",
          "name": "stdout",
          "text": [
            "Model: \"sequential_2\"\n",
            "_________________________________________________________________\n",
            " Layer (type)                Output Shape              Param #   \n",
            "=================================================================\n",
            " conv2d (Conv2D)             (None, 26, 26, 32)        320       \n",
            "                                                                 \n",
            " max_pooling2d (MaxPooling2D  (None, 13, 13, 32)       0         \n",
            " )                                                               \n",
            "                                                                 \n",
            " conv2d_1 (Conv2D)           (None, 11, 11, 64)        18496     \n",
            "                                                                 \n",
            " max_pooling2d_1 (MaxPooling  (None, 5, 5, 64)         0         \n",
            " 2D)                                                             \n",
            "                                                                 \n",
            " flatten (Flatten)           (None, 1600)              0         \n",
            "                                                                 \n",
            " dense_1 (Dense)             (None, 10)                16010     \n",
            "                                                                 \n",
            "=================================================================\n",
            "Total params: 34,826\n",
            "Trainable params: 34,826\n",
            "Non-trainable params: 0\n",
            "_________________________________________________________________\n"
          ]
        }
      ]
    },
    {
      "cell_type": "code",
      "source": [
        "CNN_model.compile(\n",
        "    loss='sparse_categorical_crossentropy', \n",
        "    optimizer='SGD', \n",
        "    metrics=['accuracy']\n",
        ")"
      ],
      "metadata": {
        "id": "NHAqTnlDxQsA"
      },
      "execution_count": 57,
      "outputs": []
    },
    {
      "cell_type": "code",
      "source": [
        "history = CNN_model.fit(\n",
        "    X_train_CNN, \n",
        "    y_train, \n",
        "    epochs=35, \n",
        "    validation_data=(X_valid_CNN, y_valid)\n",
        "    )\n"
      ],
      "metadata": {
        "colab": {
          "base_uri": "https://localhost:8080/"
        },
        "id": "t2522XUyx0D5",
        "outputId": "ed70169b-61e2-43dc-c7c8-36c6c5589c79"
      },
      "execution_count": 58,
      "outputs": [
        {
          "output_type": "stream",
          "name": "stdout",
          "text": [
            "Epoch 1/35\n",
            "1719/1719 [==============================] - 50s 29ms/step - loss: 0.5599 - accuracy: 0.8393 - val_loss: 0.2520 - val_accuracy: 0.9216\n",
            "Epoch 2/35\n",
            "1719/1719 [==============================] - 49s 29ms/step - loss: 0.1737 - accuracy: 0.9493 - val_loss: 0.1309 - val_accuracy: 0.9634\n",
            "Epoch 3/35\n",
            "1719/1719 [==============================] - 50s 29ms/step - loss: 0.1189 - accuracy: 0.9649 - val_loss: 0.0995 - val_accuracy: 0.9714\n",
            "Epoch 4/35\n",
            "1719/1719 [==============================] - 49s 28ms/step - loss: 0.0967 - accuracy: 0.9705 - val_loss: 0.0826 - val_accuracy: 0.9770\n",
            "Epoch 5/35\n",
            "1719/1719 [==============================] - 49s 28ms/step - loss: 0.0828 - accuracy: 0.9747 - val_loss: 0.0762 - val_accuracy: 0.9778\n",
            "Epoch 6/35\n",
            "1719/1719 [==============================] - 50s 29ms/step - loss: 0.0734 - accuracy: 0.9780 - val_loss: 0.0761 - val_accuracy: 0.9780\n",
            "Epoch 7/35\n",
            "1719/1719 [==============================] - 49s 28ms/step - loss: 0.0663 - accuracy: 0.9800 - val_loss: 0.0717 - val_accuracy: 0.9794\n",
            "Epoch 8/35\n",
            "1719/1719 [==============================] - 49s 29ms/step - loss: 0.0615 - accuracy: 0.9808 - val_loss: 0.0633 - val_accuracy: 0.9818\n",
            "Epoch 9/35\n",
            "1719/1719 [==============================] - 49s 29ms/step - loss: 0.0580 - accuracy: 0.9821 - val_loss: 0.0610 - val_accuracy: 0.9806\n",
            "Epoch 10/35\n",
            "1719/1719 [==============================] - 50s 29ms/step - loss: 0.0548 - accuracy: 0.9832 - val_loss: 0.0617 - val_accuracy: 0.9818\n",
            "Epoch 11/35\n",
            "1719/1719 [==============================] - 49s 28ms/step - loss: 0.0514 - accuracy: 0.9845 - val_loss: 0.0598 - val_accuracy: 0.9834\n",
            "Epoch 12/35\n",
            "1719/1719 [==============================] - 49s 28ms/step - loss: 0.0495 - accuracy: 0.9847 - val_loss: 0.0549 - val_accuracy: 0.9850\n",
            "Epoch 13/35\n",
            "1719/1719 [==============================] - 50s 29ms/step - loss: 0.0466 - accuracy: 0.9858 - val_loss: 0.0539 - val_accuracy: 0.9850\n",
            "Epoch 14/35\n",
            "1719/1719 [==============================] - 49s 28ms/step - loss: 0.0452 - accuracy: 0.9862 - val_loss: 0.0525 - val_accuracy: 0.9856\n",
            "Epoch 15/35\n",
            "1719/1719 [==============================] - 49s 29ms/step - loss: 0.0437 - accuracy: 0.9862 - val_loss: 0.0559 - val_accuracy: 0.9840\n",
            "Epoch 16/35\n",
            "1719/1719 [==============================] - 49s 28ms/step - loss: 0.0415 - accuracy: 0.9873 - val_loss: 0.0506 - val_accuracy: 0.9856\n",
            "Epoch 17/35\n",
            "1719/1719 [==============================] - 50s 29ms/step - loss: 0.0401 - accuracy: 0.9880 - val_loss: 0.0494 - val_accuracy: 0.9864\n",
            "Epoch 18/35\n",
            "1719/1719 [==============================] - 49s 28ms/step - loss: 0.0388 - accuracy: 0.9877 - val_loss: 0.0512 - val_accuracy: 0.9866\n",
            "Epoch 19/35\n",
            "1719/1719 [==============================] - 49s 28ms/step - loss: 0.0375 - accuracy: 0.9883 - val_loss: 0.0505 - val_accuracy: 0.9872\n",
            "Epoch 20/35\n",
            "1719/1719 [==============================] - 51s 29ms/step - loss: 0.0368 - accuracy: 0.9885 - val_loss: 0.0498 - val_accuracy: 0.9856\n",
            "Epoch 21/35\n",
            "1719/1719 [==============================] - 50s 29ms/step - loss: 0.0354 - accuracy: 0.9894 - val_loss: 0.0479 - val_accuracy: 0.9866\n",
            "Epoch 22/35\n",
            "1719/1719 [==============================] - 50s 29ms/step - loss: 0.0341 - accuracy: 0.9894 - val_loss: 0.0480 - val_accuracy: 0.9864\n",
            "Epoch 23/35\n",
            "1719/1719 [==============================] - 51s 30ms/step - loss: 0.0333 - accuracy: 0.9901 - val_loss: 0.0497 - val_accuracy: 0.9870\n",
            "Epoch 24/35\n",
            "1719/1719 [==============================] - 49s 29ms/step - loss: 0.0321 - accuracy: 0.9903 - val_loss: 0.0528 - val_accuracy: 0.9858\n",
            "Epoch 25/35\n",
            "1719/1719 [==============================] - 50s 29ms/step - loss: 0.0315 - accuracy: 0.9901 - val_loss: 0.0521 - val_accuracy: 0.9860\n",
            "Epoch 26/35\n",
            "1719/1719 [==============================] - 50s 29ms/step - loss: 0.0308 - accuracy: 0.9906 - val_loss: 0.0470 - val_accuracy: 0.9888\n",
            "Epoch 27/35\n",
            "1719/1719 [==============================] - 51s 29ms/step - loss: 0.0299 - accuracy: 0.9907 - val_loss: 0.0492 - val_accuracy: 0.9870\n",
            "Epoch 28/35\n",
            "1719/1719 [==============================] - 49s 29ms/step - loss: 0.0288 - accuracy: 0.9912 - val_loss: 0.0512 - val_accuracy: 0.9864\n",
            "Epoch 29/35\n",
            "1719/1719 [==============================] - 50s 29ms/step - loss: 0.0282 - accuracy: 0.9915 - val_loss: 0.0499 - val_accuracy: 0.9860\n",
            "Epoch 30/35\n",
            "1719/1719 [==============================] - 51s 30ms/step - loss: 0.0274 - accuracy: 0.9914 - val_loss: 0.0457 - val_accuracy: 0.9876\n",
            "Epoch 31/35\n",
            "1719/1719 [==============================] - 51s 30ms/step - loss: 0.0266 - accuracy: 0.9916 - val_loss: 0.0474 - val_accuracy: 0.9872\n",
            "Epoch 32/35\n",
            "1719/1719 [==============================] - 51s 30ms/step - loss: 0.0265 - accuracy: 0.9915 - val_loss: 0.0486 - val_accuracy: 0.9874\n",
            "Epoch 33/35\n",
            "1719/1719 [==============================] - 52s 30ms/step - loss: 0.0256 - accuracy: 0.9919 - val_loss: 0.0537 - val_accuracy: 0.9878\n",
            "Epoch 34/35\n",
            "1719/1719 [==============================] - 52s 30ms/step - loss: 0.0249 - accuracy: 0.9923 - val_loss: 0.0480 - val_accuracy: 0.9876\n",
            "Epoch 35/35\n",
            "1719/1719 [==============================] - 51s 30ms/step - loss: 0.0241 - accuracy: 0.9923 - val_loss: 0.0456 - val_accuracy: 0.9880\n"
          ]
        }
      ]
    },
    {
      "cell_type": "code",
      "source": [
        "CNN_model.evaluate(X_test_CNN, y_test)"
      ],
      "metadata": {
        "colab": {
          "base_uri": "https://localhost:8080/"
        },
        "id": "sAj8Tq-vyPPL",
        "outputId": "36884bc7-e6d0-4712-987d-fadd5d96060f"
      },
      "execution_count": 59,
      "outputs": [
        {
          "output_type": "stream",
          "name": "stdout",
          "text": [
            "313/313 [==============================] - 3s 11ms/step - loss: 0.0337 - accuracy: 0.9895\n"
          ]
        },
        {
          "output_type": "execute_result",
          "data": {
            "text/plain": [
              "[0.03372814878821373, 0.9894999861717224]"
            ]
          },
          "metadata": {},
          "execution_count": 59
        }
      ]
    },
    {
      "cell_type": "code",
      "source": [
        "CNN_model.save(\"CNN_Model-FUll.h5\")"
      ],
      "metadata": {
        "id": "aQmeTCsh7emc"
      },
      "execution_count": 61,
      "outputs": []
    },
    {
      "cell_type": "code",
      "source": [],
      "metadata": {
        "id": "Ax7EOeZT7ttx"
      },
      "execution_count": null,
      "outputs": []
    }
  ]
}