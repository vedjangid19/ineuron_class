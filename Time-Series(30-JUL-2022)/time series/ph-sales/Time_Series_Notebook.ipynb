{
 "cells": [
  {
   "cell_type": "markdown",
   "metadata": {},
   "source": [
    "### What is a time series?\n",
    "\n",
    "In mathematics, a time series is a series of data points indexed in time order. Most commonly, a time series is a sequence taken at successive equally spaced points in time. Thus it is a sequence of discrete-time data.Time series analysis is extensively used to forecast company sales, product demand, stock market trends, agricultural production etc.The fundamental idea for time series analysis is to decompose the original time series (sales, stock market trends, etc.) into several independent components.\n",
    " "
   ]
  },
  {
   "cell_type": "markdown",
   "metadata": {},
   "source": [
    "The fundamental idea for time series analysis is to decompose the original time series (sales, stock market trends, etc.) into several independent components.\n",
    "\n",
    "typically, business time series are divided into the following four components:\n",
    "\n",
    "- Trend – overall direction of the series i.e. upwards, downwards etc.\n",
    "\n",
    "- Seasonality – monthly or quarterly patterns.\n",
    "\n",
    "- Cycle – long-term business cycles, they usually come after 5 or 7 years.\n",
    "\n",
    "- Irregular remainder – random noise left after extraction of all the components\n"
   ]
  },
  {
   "cell_type": "markdown",
   "metadata": {},
   "source": [
    "Interference of these components produces the final series.Why decomposing the original / actual time series into components?It is much easier to forecast the individual regular patterns produced through decomposition of time series than the actual series.\n"
   ]
  },
  {
   "cell_type": "markdown",
   "metadata": {},
   "source": [
    "### Why decomposing the original / actual time series into components?\n",
    "\n",
    "It is much easier to forecast the individual regular patterns produced through decomposition of time series than the actual series.\n",
    "\n",
    "add images of Trend,Seasonality,Cyclical\n"
   ]
  },
  {
   "cell_type": "markdown",
   "metadata": {},
   "source": [
    "### Stationary vs Non-Stationary Data\n",
    "\n",
    "To effectively use ARIMA, we need to understand Stationarity in our data.\n",
    "\n",
    "So what makes a data set Stationary?\n",
    "\n",
    "- A Stationary series has constant mean and variance over time.\n",
    "\n",
    "- A Stationary data set will allow our model to predict that the mean and variance will be the same in future periods.\n",
    "\n",
    "Interference of these components produces the final series.\n",
    "\n",
    "#### Stationary vs Non-Stationary Needs to be added"
   ]
  },
  {
   "cell_type": "markdown",
   "metadata": {},
   "source": [
    "#### There are also mathematical tests you can use to test for stationarity in your data.\n",
    "\n",
    "A common one is the Augmented Dickey–Fuller test\n",
    "\n",
    "If we’ve determined your data is not stationary (either visually or mathematically), we will then need to transform it to be stationary in order to evaluate it and what type of ARIMA terms you will use.\n",
    "\n"
   ]
  },
  {
   "cell_type": "markdown",
   "metadata": {},
   "source": [
    "One simple way to do this is through “differencing”.\n",
    "Original Data\n",
    "First Difference\tSecond Difference\n",
    "#### differencing Images needs to be added"
   ]
  },
  {
   "cell_type": "markdown",
   "metadata": {},
   "source": [
    "you can continue differencing until you reach stationarity (which you can check visually and mathematically).Each differencing step comes at the cost of losing a row of data.\n",
    " \n",
    "For seasonal data, we can also difference by a season.\n",
    "\n",
    "For example, if we had monthly data with yearly seasonality, we could difference by a time unit of 12, instead of just 1.\n",
    " \n",
    "With our data now stationary it is time the p,d,q terms and how we choose them.\n",
    "\n",
    "A big part of this are AutoCorrelation Plots and Partial AutoCorrelation Plots."
   ]
  },
  {
   "cell_type": "markdown",
   "metadata": {},
   "source": [
    "### Trends"
   ]
  },
  {
   "cell_type": "markdown",
   "metadata": {},
   "source": [
    "From the plots it is obvious that there is some kind of increasing trend in the series along with seasonal variation.Stationarity is a vital assumption we need to verify if our time series follows a stationary process or not.\n",
    "\n",
    "We can do by Plots: \n",
    "- review the time series plot of our data and visually check if there are any obvious trends or seasonality.\n",
    "- Statistical tests: use statistical tests to check if the expectations of stationarity are met or have been violated."
   ]
  },
  {
   "cell_type": "markdown",
   "metadata": {},
   "source": [
    "## Trend Using Moving Average\n",
    "\n",
    "### Moving Averages Over Time\n",
    "\n",
    "- One way to identify a trend pattern is to use moving averages over a specific window of past observations.\n",
    "- This smoothens the curve by averaging adjacent values over the specified time horizon (window)."
   ]
  },
  {
   "cell_type": "markdown",
   "metadata": {},
   "source": [
    "### Seasonality\n",
    "\n",
    "- People tend to go on vacation mainly during summer holidays.\n",
    "- At some time periods during the year people tend to use aircrafts more frequently. We can check the hypothesis of a seasonal effect"
   ]
  },
  {
   "cell_type": "markdown",
   "metadata": {},
   "source": [
    "### Noise"
   ]
  },
  {
   "cell_type": "markdown",
   "metadata": {},
   "source": [
    "To understand the underlying pattern in the number of international airline passengers, we assume a multiplicative time series decomposition model Purpose is to understand underlying patterns in temporal data to use in more sophisticated analysis like Holt-Winters seasonal method or ARIMA.\n",
    "Noise is the residual series left after removing the trend and seasonality components\n"
   ]
  },
  {
   "cell_type": "markdown",
   "metadata": {},
   "source": [
    "### Stationarize a Time Series"
   ]
  },
  {
   "cell_type": "markdown",
   "metadata": {},
   "source": [
    "Before models forecasting can be applied, the series must be transformed into a stationary time series.The Augmented-Dickey Fuller Test can be used to test whether or not a given time series is stationary.If the test statistic is smaller than the critical value, the hypothesis is rejected, the series would be stationary, and no further transformations of the data would be required.When the residuals (errors) in a time series are correlated with each other it is said to exhibit serial correlation.Autocorrelation is a better measurement for the dependency structure, because the autocovariacne will be affected by the underlying units of measurement for the observation.\n"
   ]
  },
  {
   "cell_type": "markdown",
   "metadata": {},
   "source": [
    "### White Noise ACF & PACF"
   ]
  },
  {
   "cell_type": "markdown",
   "metadata": {},
   "source": [
    "- Random process is white noise process\n",
    "- Errors are serially uncorrelated if they are independent and identically distributed (iid).\n",
    "- It is important because if a time series model is successful at capturing the underlying process, residuals of the model will be iid and resemble a white noise process.\n",
    " "
   ]
  },
  {
   "cell_type": "markdown",
   "metadata": {},
   "source": [
    "### White Noise\n",
    "\n",
    "Part of time series analysis is simply trying to fit a model to a time series such that the residual series is indistinguishable white noise."
   ]
  },
  {
   "cell_type": "markdown",
   "metadata": {},
   "source": [
    "### ACF & PACF\n",
    "\n",
    "- The plots of the Autocorrelation function (ACF) and the Partial Autorrelation Function (PACF) are the two main tools to examine the time series dependency structure.\n",
    "- The ACF is a function of the time displacement of the time series itself.\n",
    "- It is the similarity between observations as a function of the time lag between them."
   ]
  },
  {
   "cell_type": "markdown",
   "metadata": {},
   "source": [
    "### PACF\n",
    "\n",
    "The PACF is the conditional correlation between two variables under the assumptions that the effects of all previous lags on the time series are known."
   ]
  },
  {
   "cell_type": "markdown",
   "metadata": {},
   "source": [
    "### Random Walk\n",
    "\n",
    "- What is special about the random walk is, that it is non-stationary, that is, if a given time series is governed by a random walk process it is unpredictable.\n",
    "- It has high ACF for any lag length.\n",
    "- The normal QQ plot and the histogram indicate that the series is not normally distributed.\n",
    "- The random walk is a first order autoregressive process that is, this causes the process to be non-stationary.\n",
    "- The process can be made stationary"
   ]
  },
  {
   "cell_type": "markdown",
   "metadata": {},
   "source": [
    "### Auto Regressive Model – AR(p)\n",
    "\n",
    "- The random walk process belongs to a more general group of processes, called autoregressive process.\n",
    "- The current observation is a linear combination of past observations.\n",
    "- An AR(1) time series is one period lagged weighted version of itself."
   ]
  },
  {
   "cell_type": "markdown",
   "metadata": {},
   "source": [
    "### The Moving Average Model - MA(q)\n",
    "\n",
    "The moving average model MA(q) assumes that the observed time series can be represented by a linear combination of white noise error terms.The time series will always be stationary.\n",
    " "
   ]
  },
  {
   "cell_type": "markdown",
   "metadata": {},
   "source": [
    "### ARIMA Forecasting\n",
    "\n",
    "An autoregressive integrated moving average (ARIMA) model is an generalization of an autoregressive moving average (ARMA) model.Both of these models are fitted to time series data either to better understand the data or to predict future points in the series (forecasting).\n",
    "\n",
    "ARIMA models are applied in some cases where data show evidence of non-stationarity, where an initial differencing step (corresponding to the \"integrated\" part of the model) can be applied one or more times to eliminate the non-stationarity.\n",
    "There are three parameters $(p, d, q)$ that are used to parametrize ARIMA models. Hence, an ARIMA model is denoted as $ARIMA(p, d, q)$.Each of these three parts is an effort to make the time series stationary, i. e. make the final residual a white noise pattern.\n",
    " \n",
    "\n"
   ]
  },
  {
   "cell_type": "markdown",
   "metadata": {},
   "source": [
    "### Box-Jenkins Approach to non-Seasonal ARIMA Modeling\n"
   ]
  },
  {
   "cell_type": "markdown",
   "metadata": {},
   "source": [
    "In time series analysis, the Box–Jenkins method,named after the statisticians George Box and Gwilym Jenkins, applies autoregressive moving average (ARMA) or autoregressive integrated moving average (ARIMA) models to find the best fit of a time-series model to past values of a time series.The original model uses an iterative three-stage modeling approach:\n",
    "Model identification and model selection:Making sure that the variables are stationary, identifying seasonality in the dependent series (seasonally differencing it if necessary), and using plots of the autocorrelation and partial autocorrelation functions of the dependent time series to decide which (if any) autoregressive or moving average component should be used in the model.Parameter estimation using computation algorithms to arrive at coefficients that best fit the selected ARIMA model.Model checking by testing whether the estimated model conforms to the specifications of a stationary univariate process.The residuals should be independent of each other and constant in mean and variance over time.\n",
    "If the estimation is inadequate, we have to return to step one and attempt to build a better model."
   ]
  },
  {
   "cell_type": "markdown",
   "metadata": {},
   "source": [
    "To fit the time series data to a seasonal ARIMA model with parameters ARIMA(p, d, q)(P, D, Q)s$ the optimal parameters need to be found first.\n",
    "\n",
    "This is done via grid search, the iterative exploration of all possible parameters constellations.Depending on the size of the model parameters $(p, d, q)(P, D, Q)s$ this can become an extremely costly task with regard to computation. We start of by generating all possible parameter constellation we'd like to evaluate.\n",
    "\n"
   ]
  },
  {
   "cell_type": "markdown",
   "metadata": {},
   "source": [
    "### Akaike Information Criterion (AIC)\n",
    "\n",
    "For all possible parameter constellations from both lists pdq and seasonal_pdq the alogrithm will create a model and eventually pick the best one to proceed.The best model is chosen based on the Akaike Information Criterion (AIC).The Akaike information criterion (AIC) is a measure of the relative quality of statistical models for a given set of data.Given a collection of models for the data, AIC estimates the quality of each model, relative to each of the other models. Hence, AIC provides a means for model selection.It measures the trade-off between the goodness of fit of the model and the complexity of the model (number of included and estimated parameters)."
   ]
  },
  {
   "cell_type": "markdown",
   "metadata": {},
   "source": [
    "### One step ahead prediction\n",
    "\n",
    "The get_prediction and conf_int methods calculate predictions for future points in time for the previously fitted model and the confidence intervals associated with a prediction, respectively.The dynamic=False argument causes the method to produce a one-step ahead prediction of the time series."
   ]
  },
  {
   "cell_type": "markdown",
   "metadata": {},
   "source": [
    "### MSE\n",
    "\n",
    "To quantify the accuracy between model fit and true observations we use the mean squared error (MSE).The MSE computes the squared difference between the true and predicted value."
   ]
  },
  {
   "cell_type": "markdown",
   "metadata": {},
   "source": [
    "### Out of sample Prediction\n",
    "\n",
    "- To put the model to the real test with a 24-month-head prediction.\n",
    "\n",
    "- This requires to pass the argument dynamic=False when using the get_prediction method.'''\n"
   ]
  },
  {
   "cell_type": "markdown",
   "metadata": {},
   "source": [
    "### Long term forecasting\n",
    "\n",
    "- Finally, a 10 year ahead forecast, leveraging a seasonal ARIMA model trained on the complete time series y.\n",
    "\n",
    "- Grid search found the best model to be of form SARIMAX(2, 1, 3)(1, 2, 1)12 for the data vector y.\n"
   ]
  },
  {
   "cell_type": "markdown",
   "metadata": {},
   "source": [
    "### Old techniques for time series."
   ]
  },
  {
   "cell_type": "markdown",
   "metadata": {},
   "source": [
    "Time series forecasting is a technique for the prediction of events through a sequence of time. It predicts future events by analyzing the trends of the past, on the assumption that future trends will hold similar to historical trends."
   ]
  },
  {
   "cell_type": "markdown",
   "metadata": {},
   "source": [
    "### Arima"
   ]
  },
  {
   "cell_type": "markdown",
   "metadata": {},
   "source": [
    "An autoregressive integrated moving average, or ARIMA, is a statistical analysis model that uses time series data to either better understand the data set or to predict future trends. A statistical model is autoregressive if it predicts future values based on past values."
   ]
  },
  {
   "cell_type": "markdown",
   "metadata": {},
   "source": [
    "### Acf and Pcf"
   ]
  },
  {
   "cell_type": "markdown",
   "metadata": {},
   "source": [
    "ACF is an (complete) auto-correlation function which gives us values of auto-correlation of any series with its lagged values. ACF considers all these components while finding correlations hence it's a 'complete auto-correlation plot'. PACF is a partial auto-correlation function."
   ]
  },
  {
   "cell_type": "markdown",
   "metadata": {},
   "source": [
    "### Time-Dependent Seasonal Components."
   ]
  },
  {
   "cell_type": "markdown",
   "metadata": {},
   "source": [
    "These components are defined as follows:\n",
    "\n",
    "- Level: The average value in the series.\n",
    "- Trend: The increasing or decreasing value in the series.\n",
    "- Seasonality: The repeating short-term cycle in the series.\n",
    "- Noise: The random variation in the series."
   ]
  },
  {
   "cell_type": "markdown",
   "metadata": {},
   "source": [
    "### Autoregressive(AR)"
   ]
  },
  {
   "cell_type": "markdown",
   "metadata": {},
   "source": [
    "Autoregression is a time series model that uses observations from previous time steps as input to a regression equation to predict the value at the next time step. It is a very simple idea that can result in accurate forecasts on a range of time series problems."
   ]
  },
  {
   "cell_type": "markdown",
   "metadata": {},
   "source": [
    "### Moving average(MA) "
   ]
  },
  {
   "cell_type": "markdown",
   "metadata": {},
   "source": [
    "A moving average is defined as an average of fixed number of items in the time series which move through the series by dropping the top items of the previous averaged group and adding the next in each successive average."
   ]
  },
  {
   "cell_type": "markdown",
   "metadata": {},
   "source": [
    "### Mixed Arma- Modeler"
   ]
  },
  {
   "cell_type": "markdown",
   "metadata": {},
   "source": [
    "I think the simplest way to look at it is to note that ARMA and similar models are designed to do different things than multi-level models, and use different data.\n",
    "\n",
    "Time series analysis usually has long time series (possibly of hundreds or even thousands of time points) and the primary goal is to look at how a single variable changes over time. There are sophisticated methods to deal with many problems - not just autocorrelation, but seasonality and other periodic changes and so on.\n",
    "\n",
    "Multilevel models are extensions from regression. They usually have relatively few time points (although they can have many) and the primary goal is to examine the relationship between a dependent variable and several independent variables. These models are not as good at dealing with complex relationships between a variable and time, partly because they usually have fewer time points (it's hard to look at seasonality if you don't have multiple data for each season)."
   ]
  },
  {
   "cell_type": "markdown",
   "metadata": {},
   "source": [
    "### The random walk model"
   ]
  },
  {
   "cell_type": "markdown",
   "metadata": {},
   "source": [
    "What Is the Random Walk Theory? Random walk theory suggests that changes in stock prices have the same distribution and are independent of each other. Therefore, it assumes the past movement or trend of a stock price or market cannot be used to predict its future movement."
   ]
  },
  {
   "cell_type": "markdown",
   "metadata": {},
   "source": [
    "### Box-jenkins methodology"
   ]
  },
  {
   "cell_type": "markdown",
   "metadata": {},
   "source": [
    "The Box-Jenkins Model is a mathematical model designed to forecast data ranges based on inputs from a specified time series. The Box-Jenkins Model can analyze several different types of time series data for forecasting purposes. Its methodology uses differences between data points to determine outcomes."
   ]
  },
  {
   "cell_type": "markdown",
   "metadata": {},
   "source": [
    "### Forecasts with arima and var models."
   ]
  },
  {
   "cell_type": "markdown",
   "metadata": {},
   "source": [
    "- It can be said that ARIMA (0,1,2) model is the best model for forecasting Hessian sales price.\n",
    "\n",
    "- ARIMA (3,2,2) model is the best model for forecasting Sacking sales price.\n",
    "\n",
    "- VAR (4) model is the best model for forecasting the price of Carpet Backing Cloth (C.B.C).\n",
    "\n",
    "- ARIMA (0,2,3) model is the best model for forecasting Others sales price.\n",
    "\n",
    "Finally, it can be said that ARIMA model is the best model for forecasting the price of Jute Goods comparing with VAR model on the basis of Mean Absolute Percentage\n",
    "Error (MAPE).The present study is an academic exercise for forecasting related issues. The findings of the present study can play a major role for further research as well as policy formulation to a great extent. Further research can be\n",
    "conducted in future by using the deliberation of the present study."
   ]
  },
  {
   "cell_type": "code",
   "execution_count": null,
   "metadata": {},
   "outputs": [],
   "source": [
    "Dynamic models with time-shifted explanatory variables."
   ]
  },
  {
   "cell_type": "markdown",
   "metadata": {},
   "source": [
    "### The koyck transformation"
   ]
  },
  {
   "cell_type": "markdown",
   "metadata": {},
   "source": [
    "A device used to transform an infinite geometric lag model into a finite model with lagged dependent variable. While this makes estimation feasible, the transformed model is likely to have serial correlation in errors."
   ]
  },
  {
   "cell_type": "code",
   "execution_count": null,
   "metadata": {},
   "outputs": [],
   "source": [
    "Partial adjustment and adaptive expectation models."
   ]
  },
  {
   "cell_type": "markdown",
   "metadata": {},
   "source": [
    "### Granger's causality tests?"
   ]
  },
  {
   "cell_type": "markdown",
   "metadata": {},
   "source": [
    "The Granger causality test is a statistical hypothesis test for determining whether one time series is useful in forecasting another. If the probability value is less than any α level, then the hypothesis would be rejected at that level."
   ]
  },
  {
   "cell_type": "markdown",
   "metadata": {},
   "source": [
    "### Various approach to solve time series problem\n",
    "\n",
    "- Autoregression(AR)\n",
    "\n",
    "- Moving Average(MA)\n",
    "\n",
    "- Autoregressive Moving Average(ARMA)\n",
    "\n",
    "- Autoregressive Integrated Moving Average(ARIMA)\n",
    "\n",
    "- Seasonal Autoregressive Integrated Moving-Average(SARIMA)\n",
    "\n",
    "- Seasonal Autoregressive Integrated Moving-Average with Exogenous Regressors(SARIMAX)\n",
    "\n",
    "- Vector Autoregression(VAR)\n",
    "\n",
    "- Vector Autoregression Moving-Average(VARMA)\n",
    "\n",
    "- Vector Autoregression Moving-Average with Exogenous Regressors(VARMAX)\n",
    "\n",
    "- Simple Exponential Smoothing(SES)\n",
    "\n",
    "- Holt Winter’s Exponential Smoothing(HWES)\n",
    "\n",
    "\n",
    "### New Deep Learning based approach\n",
    "\n",
    "- RNN\n",
    "- LSTM\n",
    "- GRU"
   ]
  },
  {
   "cell_type": "markdown",
   "metadata": {},
   "source": [
    "### Time Series Model Performance Checking"
   ]
  },
  {
   "cell_type": "markdown",
   "metadata": {},
   "source": [
    "- Mean Forcast Error\n",
    "- Mean absolute Error\n",
    "- Root Mean Squared Error\n",
    "- Mean Squared error"
   ]
  },
  {
   "cell_type": "markdown",
   "metadata": {},
   "source": [
    "### Complete end-to-end project with deployment(Prediction of nifty stock price and deployment)"
   ]
  },
  {
   "cell_type": "markdown",
   "metadata": {},
   "source": [
    "notebook given(convert into end to end)"
   ]
  },
  {
   "cell_type": "markdown",
   "metadata": {},
   "source": [
    "•PH, a tractor and farm equipment manufacturing company, was established a few years after World War II.\n",
    "\n",
    "•The company has shown a consistent growth in its revenue from tractor sales since its inception. However, over the years the company has struggled to keep it’s inventory and production cost down because of variability in sales and tractor demand.\n",
    " \n",
    "\n",
    "\n",
    "\n",
    "•The management at PH is under enormous pressure from the shareholders and board to reduce the production cost.\n",
    "\n",
    "•Additionally, they are also interested in understanding the impact of their marketing and farmer connect efforts towards overall sales.\n",
    " \n",
    "\n",
    "\n",
    "\n",
    "•They have hired us as a data science and predictive analytics consultant.\n",
    "\n",
    "•We will develop an ARIMA model to forecast sale / demand of tractor for next 3 years.\n",
    "\n",
    "•Additionally, We will also investigate the impact of marketing program on sales by using an exogenous variable ARIMA model.\n",
    " \n",
    "\n",
    "\n",
    "\n",
    "•An endogenous variable is one\n",
    "that is influenced by other factors in the system. flower growth is affected by sunlight and is therefore endogenous.\n",
    "Exogenous variables…\n",
    "•are fixed when they enter the model.\n",
    "•are taken as a “given” in the model.\n",
    "•influence endogenous variables in the model.\n",
    "•are not determined by the model.\n",
    "•are not explained by the model.\n",
    " \n",
    "\n",
    "\n",
    "\n",
    "•As a part of the project, one of the production units we are analyzing is based in South East Asia.\n",
    "\n",
    "•This unit is completely independent and caters to neighboring geographies. This unit is just a decade and a half old. In 2014 , they captured 11% of the market share, a 14% increase from the previous year.\n",
    " \n",
    "\n",
    "\n",
    "\n",
    "•However, being a new unit they have very little bargaining power with their suppliers to implement Just-in-Time (JiT) manufacturing principles that have worked really well in PH’s base location.\n",
    "\n",
    "•Hence, they want to be on top of their production planning to maintain healthy business margins.\n",
    " \n",
    "\n",
    "\n",
    "\n",
    "•Monthly sales forecast is the first step we have suggested to this unit towards effective inventory management.\n",
    "\n",
    "•The MIS team shared the month on month (MoM) sales figures (number of tractors sold) for the last 12 years\n"
   ]
  },
  {
   "cell_type": "code",
   "execution_count": null,
   "metadata": {},
   "outputs": [],
   "source": []
  }
 ],
 "metadata": {
  "kernelspec": {
   "display_name": "Python 3 (ipykernel)",
   "language": "python",
   "name": "python3"
  },
  "language_info": {
   "codemirror_mode": {
    "name": "ipython",
    "version": 3
   },
   "file_extension": ".py",
   "mimetype": "text/x-python",
   "name": "python",
   "nbconvert_exporter": "python",
   "pygments_lexer": "ipython3",
   "version": "3.9.7"
  }
 },
 "nbformat": 4,
 "nbformat_minor": 4
}
