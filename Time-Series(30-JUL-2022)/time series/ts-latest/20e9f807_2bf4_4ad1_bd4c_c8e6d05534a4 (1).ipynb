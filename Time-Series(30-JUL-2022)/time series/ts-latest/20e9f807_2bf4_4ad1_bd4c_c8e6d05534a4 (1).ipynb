{
  "cells": [
    {
      "cell_type": "markdown",
      "metadata": {
        "id": "qceKWdp7mIJ1"
      },
      "source": [
        "# Analyzing borrowers’ risk of defaulting\n",
        "\n",
        "Your project is to prepare a report for a bank’s loan division. You’ll need to find out if a customer’s marital status and number of children has an impact on whether they will default on a loan. The bank already has some data on customers’ credit worthiness.\n",
        "\n",
        "Your report will be considered when building the **credit score** of a potential customer. The **credit score** is used to evaluate the ability of a potential borrower to repay their loan.\n",
        "\n",
        "[In this notebook you're provided with hints and brief instructions and thinking prompts. Don't ignore them as they are designed to equip you with the structure for the project and will help you analyze what you're doing on a deeper level. Before submitting your project, make sure you remove all hints and descriptions provided to you. Instead, make this report look as if you're sending it to your teammates to demonstrate your findings - they shouldn't know you had some external help from us! To help you out, we've placed the hints you should remove in square brackets.]\n",
        "\n",
        "[Before you dive into analyzing your data, explain the purposes of the project and hypotheses you're going to test.]"
      ]
    },
    {
      "cell_type": "markdown",
      "metadata": {
        "id": "qh6oirVgmIJ4"
      },
      "source": [
        "## Open the data file and have a look at the general information. \n",
        "\n",
        "[Start with importing the libraries and loading the data. You may realise that you need additional libraries as you go, which is totally fine - just make sure to update this section when you do.]"
      ]
    },
    {
      "cell_type": "code",
      "execution_count": 1,
      "metadata": {
        "id": "acKvBe65mIJ5",
        "colab": {
          "base_uri": "https://localhost:8080/",
          "height": 661
        },
        "outputId": "13200a74-af9b-4d89-fd0d-2a1eb41dade7"
      },
      "outputs": [
        {
          "output_type": "execute_result",
          "data": {
            "text/html": [
              "\n",
              "  <div id=\"df-b796efff-4d36-4f7f-9aec-95c125f6082d\">\n",
              "    <div class=\"colab-df-container\">\n",
              "      <div>\n",
              "<style scoped>\n",
              "    .dataframe tbody tr th:only-of-type {\n",
              "        vertical-align: middle;\n",
              "    }\n",
              "\n",
              "    .dataframe tbody tr th {\n",
              "        vertical-align: top;\n",
              "    }\n",
              "\n",
              "    .dataframe thead th {\n",
              "        text-align: right;\n",
              "    }\n",
              "</style>\n",
              "<table border=\"1\" class=\"dataframe\">\n",
              "  <thead>\n",
              "    <tr style=\"text-align: right;\">\n",
              "      <th></th>\n",
              "      <th>children</th>\n",
              "      <th>days_employed</th>\n",
              "      <th>dob_years</th>\n",
              "      <th>education</th>\n",
              "      <th>education_id</th>\n",
              "      <th>family_status</th>\n",
              "      <th>family_status_id</th>\n",
              "      <th>gender</th>\n",
              "      <th>income_type</th>\n",
              "      <th>debt</th>\n",
              "      <th>total_income</th>\n",
              "      <th>purpose</th>\n",
              "    </tr>\n",
              "  </thead>\n",
              "  <tbody>\n",
              "    <tr>\n",
              "      <th>0</th>\n",
              "      <td>1</td>\n",
              "      <td>-8437.673028</td>\n",
              "      <td>42</td>\n",
              "      <td>bachelor's degree</td>\n",
              "      <td>0</td>\n",
              "      <td>married</td>\n",
              "      <td>0</td>\n",
              "      <td>F</td>\n",
              "      <td>employee</td>\n",
              "      <td>0</td>\n",
              "      <td>40620.102</td>\n",
              "      <td>purchase of the house</td>\n",
              "    </tr>\n",
              "    <tr>\n",
              "      <th>1</th>\n",
              "      <td>1</td>\n",
              "      <td>-4024.803754</td>\n",
              "      <td>36</td>\n",
              "      <td>secondary education</td>\n",
              "      <td>1</td>\n",
              "      <td>married</td>\n",
              "      <td>0</td>\n",
              "      <td>F</td>\n",
              "      <td>employee</td>\n",
              "      <td>0</td>\n",
              "      <td>17932.802</td>\n",
              "      <td>car purchase</td>\n",
              "    </tr>\n",
              "    <tr>\n",
              "      <th>2</th>\n",
              "      <td>0</td>\n",
              "      <td>-5623.422610</td>\n",
              "      <td>33</td>\n",
              "      <td>Secondary Education</td>\n",
              "      <td>1</td>\n",
              "      <td>married</td>\n",
              "      <td>0</td>\n",
              "      <td>M</td>\n",
              "      <td>employee</td>\n",
              "      <td>0</td>\n",
              "      <td>23341.752</td>\n",
              "      <td>purchase of the house</td>\n",
              "    </tr>\n",
              "    <tr>\n",
              "      <th>3</th>\n",
              "      <td>3</td>\n",
              "      <td>-4124.747207</td>\n",
              "      <td>32</td>\n",
              "      <td>secondary education</td>\n",
              "      <td>1</td>\n",
              "      <td>married</td>\n",
              "      <td>0</td>\n",
              "      <td>M</td>\n",
              "      <td>employee</td>\n",
              "      <td>0</td>\n",
              "      <td>42820.568</td>\n",
              "      <td>supplementary education</td>\n",
              "    </tr>\n",
              "    <tr>\n",
              "      <th>4</th>\n",
              "      <td>0</td>\n",
              "      <td>340266.072047</td>\n",
              "      <td>53</td>\n",
              "      <td>secondary education</td>\n",
              "      <td>1</td>\n",
              "      <td>civil partnership</td>\n",
              "      <td>1</td>\n",
              "      <td>F</td>\n",
              "      <td>retiree</td>\n",
              "      <td>0</td>\n",
              "      <td>25378.572</td>\n",
              "      <td>to have a wedding</td>\n",
              "    </tr>\n",
              "    <tr>\n",
              "      <th>...</th>\n",
              "      <td>...</td>\n",
              "      <td>...</td>\n",
              "      <td>...</td>\n",
              "      <td>...</td>\n",
              "      <td>...</td>\n",
              "      <td>...</td>\n",
              "      <td>...</td>\n",
              "      <td>...</td>\n",
              "      <td>...</td>\n",
              "      <td>...</td>\n",
              "      <td>...</td>\n",
              "      <td>...</td>\n",
              "    </tr>\n",
              "    <tr>\n",
              "      <th>21520</th>\n",
              "      <td>1</td>\n",
              "      <td>-4529.316663</td>\n",
              "      <td>43</td>\n",
              "      <td>secondary education</td>\n",
              "      <td>1</td>\n",
              "      <td>civil partnership</td>\n",
              "      <td>1</td>\n",
              "      <td>F</td>\n",
              "      <td>business</td>\n",
              "      <td>0</td>\n",
              "      <td>35966.698</td>\n",
              "      <td>housing transactions</td>\n",
              "    </tr>\n",
              "    <tr>\n",
              "      <th>21521</th>\n",
              "      <td>0</td>\n",
              "      <td>343937.404131</td>\n",
              "      <td>67</td>\n",
              "      <td>secondary education</td>\n",
              "      <td>1</td>\n",
              "      <td>married</td>\n",
              "      <td>0</td>\n",
              "      <td>F</td>\n",
              "      <td>retiree</td>\n",
              "      <td>0</td>\n",
              "      <td>24959.969</td>\n",
              "      <td>purchase of a car</td>\n",
              "    </tr>\n",
              "    <tr>\n",
              "      <th>21522</th>\n",
              "      <td>1</td>\n",
              "      <td>-2113.346888</td>\n",
              "      <td>38</td>\n",
              "      <td>secondary education</td>\n",
              "      <td>1</td>\n",
              "      <td>civil partnership</td>\n",
              "      <td>1</td>\n",
              "      <td>M</td>\n",
              "      <td>employee</td>\n",
              "      <td>1</td>\n",
              "      <td>14347.610</td>\n",
              "      <td>property</td>\n",
              "    </tr>\n",
              "    <tr>\n",
              "      <th>21523</th>\n",
              "      <td>3</td>\n",
              "      <td>-3112.481705</td>\n",
              "      <td>38</td>\n",
              "      <td>secondary education</td>\n",
              "      <td>1</td>\n",
              "      <td>married</td>\n",
              "      <td>0</td>\n",
              "      <td>M</td>\n",
              "      <td>employee</td>\n",
              "      <td>1</td>\n",
              "      <td>39054.888</td>\n",
              "      <td>buying my own car</td>\n",
              "    </tr>\n",
              "    <tr>\n",
              "      <th>21524</th>\n",
              "      <td>2</td>\n",
              "      <td>-1984.507589</td>\n",
              "      <td>40</td>\n",
              "      <td>secondary education</td>\n",
              "      <td>1</td>\n",
              "      <td>married</td>\n",
              "      <td>0</td>\n",
              "      <td>F</td>\n",
              "      <td>employee</td>\n",
              "      <td>0</td>\n",
              "      <td>13127.587</td>\n",
              "      <td>to buy a car</td>\n",
              "    </tr>\n",
              "  </tbody>\n",
              "</table>\n",
              "<p>21525 rows × 12 columns</p>\n",
              "</div>\n",
              "      <button class=\"colab-df-convert\" onclick=\"convertToInteractive('df-b796efff-4d36-4f7f-9aec-95c125f6082d')\"\n",
              "              title=\"Convert this dataframe to an interactive table.\"\n",
              "              style=\"display:none;\">\n",
              "        \n",
              "  <svg xmlns=\"http://www.w3.org/2000/svg\" height=\"24px\"viewBox=\"0 0 24 24\"\n",
              "       width=\"24px\">\n",
              "    <path d=\"M0 0h24v24H0V0z\" fill=\"none\"/>\n",
              "    <path d=\"M18.56 5.44l.94 2.06.94-2.06 2.06-.94-2.06-.94-.94-2.06-.94 2.06-2.06.94zm-11 1L8.5 8.5l.94-2.06 2.06-.94-2.06-.94L8.5 2.5l-.94 2.06-2.06.94zm10 10l.94 2.06.94-2.06 2.06-.94-2.06-.94-.94-2.06-.94 2.06-2.06.94z\"/><path d=\"M17.41 7.96l-1.37-1.37c-.4-.4-.92-.59-1.43-.59-.52 0-1.04.2-1.43.59L10.3 9.45l-7.72 7.72c-.78.78-.78 2.05 0 2.83L4 21.41c.39.39.9.59 1.41.59.51 0 1.02-.2 1.41-.59l7.78-7.78 2.81-2.81c.8-.78.8-2.07 0-2.86zM5.41 20L4 18.59l7.72-7.72 1.47 1.35L5.41 20z\"/>\n",
              "  </svg>\n",
              "      </button>\n",
              "      \n",
              "  <style>\n",
              "    .colab-df-container {\n",
              "      display:flex;\n",
              "      flex-wrap:wrap;\n",
              "      gap: 12px;\n",
              "    }\n",
              "\n",
              "    .colab-df-convert {\n",
              "      background-color: #E8F0FE;\n",
              "      border: none;\n",
              "      border-radius: 50%;\n",
              "      cursor: pointer;\n",
              "      display: none;\n",
              "      fill: #1967D2;\n",
              "      height: 32px;\n",
              "      padding: 0 0 0 0;\n",
              "      width: 32px;\n",
              "    }\n",
              "\n",
              "    .colab-df-convert:hover {\n",
              "      background-color: #E2EBFA;\n",
              "      box-shadow: 0px 1px 2px rgba(60, 64, 67, 0.3), 0px 1px 3px 1px rgba(60, 64, 67, 0.15);\n",
              "      fill: #174EA6;\n",
              "    }\n",
              "\n",
              "    [theme=dark] .colab-df-convert {\n",
              "      background-color: #3B4455;\n",
              "      fill: #D2E3FC;\n",
              "    }\n",
              "\n",
              "    [theme=dark] .colab-df-convert:hover {\n",
              "      background-color: #434B5C;\n",
              "      box-shadow: 0px 1px 3px 1px rgba(0, 0, 0, 0.15);\n",
              "      filter: drop-shadow(0px 1px 2px rgba(0, 0, 0, 0.3));\n",
              "      fill: #FFFFFF;\n",
              "    }\n",
              "  </style>\n",
              "\n",
              "      <script>\n",
              "        const buttonEl =\n",
              "          document.querySelector('#df-b796efff-4d36-4f7f-9aec-95c125f6082d button.colab-df-convert');\n",
              "        buttonEl.style.display =\n",
              "          google.colab.kernel.accessAllowed ? 'block' : 'none';\n",
              "\n",
              "        async function convertToInteractive(key) {\n",
              "          const element = document.querySelector('#df-b796efff-4d36-4f7f-9aec-95c125f6082d');\n",
              "          const dataTable =\n",
              "            await google.colab.kernel.invokeFunction('convertToInteractive',\n",
              "                                                     [key], {});\n",
              "          if (!dataTable) return;\n",
              "\n",
              "          const docLinkHtml = 'Like what you see? Visit the ' +\n",
              "            '<a target=\"_blank\" href=https://colab.research.google.com/notebooks/data_table.ipynb>data table notebook</a>'\n",
              "            + ' to learn more about interactive tables.';\n",
              "          element.innerHTML = '';\n",
              "          dataTable['output_type'] = 'display_data';\n",
              "          await google.colab.output.renderOutput(dataTable, element);\n",
              "          const docLink = document.createElement('div');\n",
              "          docLink.innerHTML = docLinkHtml;\n",
              "          element.appendChild(docLink);\n",
              "        }\n",
              "      </script>\n",
              "    </div>\n",
              "  </div>\n",
              "  "
            ],
            "text/plain": [
              "       children  days_employed  ...  total_income                  purpose\n",
              "0             1   -8437.673028  ...     40620.102    purchase of the house\n",
              "1             1   -4024.803754  ...     17932.802             car purchase\n",
              "2             0   -5623.422610  ...     23341.752    purchase of the house\n",
              "3             3   -4124.747207  ...     42820.568  supplementary education\n",
              "4             0  340266.072047  ...     25378.572        to have a wedding\n",
              "...         ...            ...  ...           ...                      ...\n",
              "21520         1   -4529.316663  ...     35966.698     housing transactions\n",
              "21521         0  343937.404131  ...     24959.969        purchase of a car\n",
              "21522         1   -2113.346888  ...     14347.610                 property\n",
              "21523         3   -3112.481705  ...     39054.888        buying my own car\n",
              "21524         2   -1984.507589  ...     13127.587             to buy a car\n",
              "\n",
              "[21525 rows x 12 columns]"
            ]
          },
          "metadata": {},
          "execution_count": 1
        }
      ],
      "source": [
        "# Loading all the libraries\n",
        "import numpy as np\n",
        "import pandas as pd \n",
        "\n",
        "# Load the data\n",
        "# df = pd.read_csv ('/datasets/credit_scoring_eng.csv')\n",
        "df = pd.read_csv('/content/credit_scoring_eng.csv')\n",
        "df"
      ]
    },
    {
      "cell_type": "markdown",
      "metadata": {
        "id": "NNQ5jUQ7mIJ6"
      },
      "source": [
        "## Task 1. Data exploration\n",
        "\n",
        "**Description of the data**\n",
        "- `children` - the number of children in the family\n",
        "- `days_employed` - work experience in days\n",
        "- `dob_years` - client's age in years\n",
        "- `education` - client's education\n",
        "- `education_id` - education identifier\n",
        "- `family_status` - marital status\n",
        "- `family_status_id` - marital status identifier\n",
        "- `gender` - gender of the client\n",
        "- `income_type` - type of employment\n",
        "- `debt` - was there any debt on loan repayment\n",
        "- `total_income` - monthly income\n",
        "- `purpose` - the purpose of obtaining a loan\n",
        "\n",
        "[Now let's explore our data. You'll want to see how many columns and rows it has, look at a few rows to check for potential issues with the data.]"
      ]
    },
    {
      "cell_type": "code",
      "execution_count": 2,
      "metadata": {
        "colab": {
          "base_uri": "https://localhost:8080/"
        },
        "id": "9YQGmX7QmIJ6",
        "outputId": "8c38bb5a-3ae2-4f2a-d47f-85c7bcef7bbf"
      },
      "outputs": [
        {
          "output_type": "stream",
          "name": "stdout",
          "text": [
            " we have 21525 rows and 12 columns\n"
          ]
        }
      ],
      "source": [
        "# Let's see how many rows and columns our dataset has\n",
        "row , col = df.shape\n",
        "print( ' we have ' + str(row) +' rows' + ' and '  +str(col)+ ' columns'  )"
      ]
    },
    {
      "cell_type": "code",
      "execution_count": 3,
      "metadata": {
        "scrolled": true,
        "colab": {
          "base_uri": "https://localhost:8080/"
        },
        "id": "6BfMOGeymIJ7",
        "outputId": "abab25ec-3820-4bd8-be20-c2b6b17812e7"
      },
      "outputs": [
        {
          "output_type": "stream",
          "name": "stdout",
          "text": [
            "   children  days_employed  ...  total_income                  purpose\n",
            "0         1   -8437.673028  ...     40620.102    purchase of the house\n",
            "1         1   -4024.803754  ...     17932.802             car purchase\n",
            "2         0   -5623.422610  ...     23341.752    purchase of the house\n",
            "3         3   -4124.747207  ...     42820.568  supplementary education\n",
            "4         0  340266.072047  ...     25378.572        to have a wedding\n",
            "\n",
            "[5 rows x 12 columns]\n"
          ]
        }
      ],
      "source": [
        "# let's print the first N rows\n",
        "N  = 5\n",
        "\n",
        "print(df.head(N))\n"
      ]
    },
    {
      "cell_type": "markdown",
      "metadata": {
        "id": "7RULq3mmmIJ8"
      },
      "source": [
        "[Describe what you see and notice in your printed data sample. Are there any issues that may need further investigation and changes?]\n",
        "\n",
        "well there is inconistent in the use of upper and lower charcther in string, \n",
        "I would have replace the cols of : education , income_type , family status to categories after using lower charcter than compare to the id column to make sure there is no inconsistents .\n",
        "check that gender type is all capital/lower charcter\n",
        "check that numeric cols (childern , debt , total income are all numeric/boolean)\n",
        "\n",
        "and make sure that ther are no missing values"
      ]
    },
    {
      "cell_type": "code",
      "execution_count": 4,
      "metadata": {
        "scrolled": false,
        "colab": {
          "base_uri": "https://localhost:8080/"
        },
        "id": "qpsIogx5mIJ9",
        "outputId": "9e6023c4-aa4f-45f4-ae84-d8a50fb1d14e"
      },
      "outputs": [
        {
          "output_type": "stream",
          "name": "stdout",
          "text": [
            "<class 'pandas.core.frame.DataFrame'>\n",
            "RangeIndex: 21525 entries, 0 to 21524\n",
            "Data columns (total 12 columns):\n",
            " #   Column            Non-Null Count  Dtype  \n",
            "---  ------            --------------  -----  \n",
            " 0   children          21525 non-null  int64  \n",
            " 1   days_employed     19351 non-null  float64\n",
            " 2   dob_years         21525 non-null  int64  \n",
            " 3   education         21525 non-null  object \n",
            " 4   education_id      21525 non-null  int64  \n",
            " 5   family_status     21525 non-null  object \n",
            " 6   family_status_id  21525 non-null  int64  \n",
            " 7   gender            21525 non-null  object \n",
            " 8   income_type       21525 non-null  object \n",
            " 9   debt              21525 non-null  int64  \n",
            " 10  total_income      19351 non-null  float64\n",
            " 11  purpose           21525 non-null  object \n",
            "dtypes: float64(2), int64(5), object(5)\n",
            "memory usage: 2.0+ MB\n"
          ]
        }
      ],
      "source": [
        "# Get info on data\n",
        "df.info()"
      ]
    },
    {
      "cell_type": "markdown",
      "metadata": {
        "id": "iza37SBdmIJ9"
      },
      "source": [
        "[Are there missing values across all columns or just a few? Briefly describe what you see in 1-2 sentences.]\n",
        "yes the days employed and total income are both having missing values- I assume that they wern't filled with 0 for unemployed "
      ]
    },
    {
      "cell_type": "code",
      "execution_count": 5,
      "metadata": {
        "scrolled": true,
        "colab": {
          "base_uri": "https://localhost:8080/"
        },
        "id": "ZDRetiZxmIJ-",
        "outputId": "6d5adbc4-41d1-4091-b535-c5d9fa02d3bc"
      },
      "outputs": [
        {
          "output_type": "execute_result",
          "data": {
            "text/plain": [
              "Int64Index([   12,    26,    29,    41,    55,    65,    67,    72,    82,\n",
              "               83,\n",
              "            ...\n",
              "            21415, 21423, 21426, 21432, 21463, 21489, 21495, 21497, 21502,\n",
              "            21510],\n",
              "           dtype='int64', length=2174)"
            ]
          },
          "metadata": {},
          "execution_count": 5
        }
      ],
      "source": [
        "# Let's look at the filtered table with missing values in the the first column with missing data\n",
        "\n",
        "# print( df.groupby(['days_employed'])['total_income'].mean() )\n",
        "df.index[df.isnull().any(axis=1)]"
      ]
    },
    {
      "cell_type": "markdown",
      "metadata": {
        "id": "jjIPAQphmIJ-"
      },
      "source": [
        "[Do missing values seem symmetric? Can we be sure in this assumption? Explain your thoughts briefly in this section. You may probably want to conduct further investigations, and count the missing values in all the rows with missing values to confirm the the missing samples are of the same size.]\n",
        "no"
      ]
    },
    {
      "cell_type": "code",
      "execution_count": 6,
      "metadata": {
        "colab": {
          "base_uri": "https://localhost:8080/"
        },
        "id": "_4pze6AqmIJ-",
        "outputId": "95612624-6f34-464d-f83d-25cdc5a806bc"
      },
      "outputs": [
        {
          "output_type": "stream",
          "name": "stdout",
          "text": [
            "2174\n"
          ]
        }
      ],
      "source": [
        "# Let's apply multiple conditions for filtering data and look at the number of rows in the filtered table.\n",
        "\n",
        "sum(df.index[df.isnull().any(axis=1)]) # all\n",
        "where_both = df.total_income.isnull() == df.days_employed.isnull()\n",
        "both = sum( where_both.tolist())\n",
        "only_days = where_both != df.days_employed.isnull().to_list()\n",
        "days = sum( only_days.tolist())\n",
        "days\n",
        "only_income = where_both == df.total_income.isnull().to_list()\n",
        "print(sum(only_income))\n"
      ]
    },
    {
      "cell_type": "markdown",
      "metadata": {
        "id": "Z8GQQLM6mIJ_"
      },
      "source": [
        "**Intermediate conclusion**\n",
        "\n",
        "[Does the number of rows in the filtered table match the number of missing values? What conclusion can we make from this?] - Yes, the number of rows in the filtered table match the number of missing values.\n",
        "\n",
        "\n",
        "[Calculate the percentage of the missing values compared to the whole dataset. Is it a considerably large piece of data? If so, you may want to fill the missing values. To do that, firstly we should consider whether the missing data could be due to the specific client characteristic, such as employment type or something else. You will need to decide which characteristic *you* think might be the reason. Secondly, we should check whether there's any dependence missing values have on the value of other indicators with the columns with identified specific client characteristic.] - The percentage of the missing values is approx 10% of the whole dataset. Yes, it is a large piece of data and we cannot ignore it. So, we need to fill that values.\n",
        "\n",
        "[Explain your next steps and how they correlate with the conclusions you made so far.]"
      ]
    },
    {
      "cell_type": "code",
      "execution_count": 7,
      "metadata": {
        "id": "-HsPCI-lmIJ_",
        "colab": {
          "base_uri": "https://localhost:8080/"
        },
        "outputId": "c17511b4-b2c6-4432-d7ca-60621d926970"
      },
      "outputs": [
        {
          "output_type": "stream",
          "name": "stdout",
          "text": [
            "children               0\n",
            "days_employed       2174\n",
            "dob_years              0\n",
            "education              0\n",
            "education_id           0\n",
            "family_status          0\n",
            "family_status_id       0\n",
            "gender                 0\n",
            "income_type            0\n",
            "debt                   0\n",
            "total_income        2174\n",
            "purpose                0\n",
            "dtype: int64\n",
            "\n",
            "\n",
            "Columns with missing values :  ['days_employed', 'total_income']\n"
          ]
        }
      ],
      "source": [
        "# Let's investigate clients who do not have data on identified characteristic and the column with the missing values\n",
        "print(df.isnull().sum())\n",
        "\n",
        "column_with_missing_values = []\n",
        "for col in df.columns:\n",
        "    if df[col].isnull().sum()>0:\n",
        "        column_with_missing_values.append(col)\n",
        "        \n",
        "print('\\n\\nColumns with missing values : ',column_with_missing_values)"
      ]
    },
    {
      "cell_type": "code",
      "execution_count": 8,
      "metadata": {
        "id": "kSQaw7ljmIJ_",
        "colab": {
          "base_uri": "https://localhost:8080/"
        },
        "outputId": "eaa78302-6d2b-4ab1-bf17-82348054cdf9"
      },
      "outputs": [
        {
          "output_type": "stream",
          "name": "stdout",
          "text": [
            "Percentage of missing values compared to the whole dataset :\n",
            "\n",
            "Column : days_employed\t Missing value percentage : 10.099883855981417\n",
            "Column : total_income\t Missing value percentage : 10.099883855981417\n"
          ]
        }
      ],
      "source": [
        "# Checking distribution\n",
        "\n",
        "print(\"Percentage of missing values compared to the whole dataset :\\n\")\n",
        "for col in column_with_missing_values:\n",
        "    print('Column : {}\\t Missing value percentage : {}'.format(col,(df[col].isnull().sum()/len(df))*100))\n"
      ]
    },
    {
      "cell_type": "markdown",
      "metadata": {
        "id": "-ivSIAYomIKA"
      },
      "source": [
        "[Describe your findings here.]\n",
        "\n",
        "**Possible reasons for missing values in data**\n",
        "\n",
        "[Propose your ideas on why you think the values might be missing. Do you think they are missing randomly or there are any patterns?] - I think there may be some patterns as if days_employed value is missing then total_income value is also missing. It means days_employed and total_income value depends on each other. If we don't have the data in days_employed column then also we don't have data for total_income.\n",
        "\n",
        "[Let's start checking whether the missing values are random.] "
      ]
    },
    {
      "cell_type": "code",
      "execution_count": 9,
      "metadata": {
        "id": "zKLOLMpqmIKA",
        "colab": {
          "base_uri": "https://localhost:8080/",
          "height": 713
        },
        "outputId": "222a42ec-07ff-4514-977e-cc3314103c74"
      },
      "outputs": [
        {
          "output_type": "execute_result",
          "data": {
            "text/html": [
              "\n",
              "  <div id=\"df-4251409e-bd73-475d-abac-6c17d14a3d80\">\n",
              "    <div class=\"colab-df-container\">\n",
              "      <div>\n",
              "<style scoped>\n",
              "    .dataframe tbody tr th:only-of-type {\n",
              "        vertical-align: middle;\n",
              "    }\n",
              "\n",
              "    .dataframe tbody tr th {\n",
              "        vertical-align: top;\n",
              "    }\n",
              "\n",
              "    .dataframe thead th {\n",
              "        text-align: right;\n",
              "    }\n",
              "</style>\n",
              "<table border=\"1\" class=\"dataframe\">\n",
              "  <thead>\n",
              "    <tr style=\"text-align: right;\">\n",
              "      <th></th>\n",
              "      <th>children</th>\n",
              "      <th>days_employed</th>\n",
              "      <th>dob_years</th>\n",
              "      <th>education</th>\n",
              "      <th>education_id</th>\n",
              "      <th>family_status</th>\n",
              "      <th>family_status_id</th>\n",
              "      <th>gender</th>\n",
              "      <th>income_type</th>\n",
              "      <th>debt</th>\n",
              "      <th>total_income</th>\n",
              "      <th>purpose</th>\n",
              "    </tr>\n",
              "  </thead>\n",
              "  <tbody>\n",
              "    <tr>\n",
              "      <th>12</th>\n",
              "      <td>0</td>\n",
              "      <td>NaN</td>\n",
              "      <td>65</td>\n",
              "      <td>secondary education</td>\n",
              "      <td>1</td>\n",
              "      <td>civil partnership</td>\n",
              "      <td>1</td>\n",
              "      <td>M</td>\n",
              "      <td>retiree</td>\n",
              "      <td>0</td>\n",
              "      <td>NaN</td>\n",
              "      <td>to have a wedding</td>\n",
              "    </tr>\n",
              "    <tr>\n",
              "      <th>26</th>\n",
              "      <td>0</td>\n",
              "      <td>NaN</td>\n",
              "      <td>41</td>\n",
              "      <td>secondary education</td>\n",
              "      <td>1</td>\n",
              "      <td>married</td>\n",
              "      <td>0</td>\n",
              "      <td>M</td>\n",
              "      <td>civil servant</td>\n",
              "      <td>0</td>\n",
              "      <td>NaN</td>\n",
              "      <td>education</td>\n",
              "    </tr>\n",
              "    <tr>\n",
              "      <th>29</th>\n",
              "      <td>0</td>\n",
              "      <td>NaN</td>\n",
              "      <td>63</td>\n",
              "      <td>secondary education</td>\n",
              "      <td>1</td>\n",
              "      <td>unmarried</td>\n",
              "      <td>4</td>\n",
              "      <td>F</td>\n",
              "      <td>retiree</td>\n",
              "      <td>0</td>\n",
              "      <td>NaN</td>\n",
              "      <td>building a real estate</td>\n",
              "    </tr>\n",
              "    <tr>\n",
              "      <th>41</th>\n",
              "      <td>0</td>\n",
              "      <td>NaN</td>\n",
              "      <td>50</td>\n",
              "      <td>secondary education</td>\n",
              "      <td>1</td>\n",
              "      <td>married</td>\n",
              "      <td>0</td>\n",
              "      <td>F</td>\n",
              "      <td>civil servant</td>\n",
              "      <td>0</td>\n",
              "      <td>NaN</td>\n",
              "      <td>second-hand car purchase</td>\n",
              "    </tr>\n",
              "    <tr>\n",
              "      <th>55</th>\n",
              "      <td>0</td>\n",
              "      <td>NaN</td>\n",
              "      <td>54</td>\n",
              "      <td>secondary education</td>\n",
              "      <td>1</td>\n",
              "      <td>civil partnership</td>\n",
              "      <td>1</td>\n",
              "      <td>F</td>\n",
              "      <td>retiree</td>\n",
              "      <td>1</td>\n",
              "      <td>NaN</td>\n",
              "      <td>to have a wedding</td>\n",
              "    </tr>\n",
              "    <tr>\n",
              "      <th>...</th>\n",
              "      <td>...</td>\n",
              "      <td>...</td>\n",
              "      <td>...</td>\n",
              "      <td>...</td>\n",
              "      <td>...</td>\n",
              "      <td>...</td>\n",
              "      <td>...</td>\n",
              "      <td>...</td>\n",
              "      <td>...</td>\n",
              "      <td>...</td>\n",
              "      <td>...</td>\n",
              "      <td>...</td>\n",
              "    </tr>\n",
              "    <tr>\n",
              "      <th>21489</th>\n",
              "      <td>2</td>\n",
              "      <td>NaN</td>\n",
              "      <td>47</td>\n",
              "      <td>Secondary Education</td>\n",
              "      <td>1</td>\n",
              "      <td>married</td>\n",
              "      <td>0</td>\n",
              "      <td>M</td>\n",
              "      <td>business</td>\n",
              "      <td>0</td>\n",
              "      <td>NaN</td>\n",
              "      <td>purchase of a car</td>\n",
              "    </tr>\n",
              "    <tr>\n",
              "      <th>21495</th>\n",
              "      <td>1</td>\n",
              "      <td>NaN</td>\n",
              "      <td>50</td>\n",
              "      <td>secondary education</td>\n",
              "      <td>1</td>\n",
              "      <td>civil partnership</td>\n",
              "      <td>1</td>\n",
              "      <td>F</td>\n",
              "      <td>employee</td>\n",
              "      <td>0</td>\n",
              "      <td>NaN</td>\n",
              "      <td>wedding ceremony</td>\n",
              "    </tr>\n",
              "    <tr>\n",
              "      <th>21497</th>\n",
              "      <td>0</td>\n",
              "      <td>NaN</td>\n",
              "      <td>48</td>\n",
              "      <td>BACHELOR'S DEGREE</td>\n",
              "      <td>0</td>\n",
              "      <td>married</td>\n",
              "      <td>0</td>\n",
              "      <td>F</td>\n",
              "      <td>business</td>\n",
              "      <td>0</td>\n",
              "      <td>NaN</td>\n",
              "      <td>building a property</td>\n",
              "    </tr>\n",
              "    <tr>\n",
              "      <th>21502</th>\n",
              "      <td>1</td>\n",
              "      <td>NaN</td>\n",
              "      <td>42</td>\n",
              "      <td>secondary education</td>\n",
              "      <td>1</td>\n",
              "      <td>married</td>\n",
              "      <td>0</td>\n",
              "      <td>F</td>\n",
              "      <td>employee</td>\n",
              "      <td>0</td>\n",
              "      <td>NaN</td>\n",
              "      <td>building a real estate</td>\n",
              "    </tr>\n",
              "    <tr>\n",
              "      <th>21510</th>\n",
              "      <td>2</td>\n",
              "      <td>NaN</td>\n",
              "      <td>28</td>\n",
              "      <td>secondary education</td>\n",
              "      <td>1</td>\n",
              "      <td>married</td>\n",
              "      <td>0</td>\n",
              "      <td>F</td>\n",
              "      <td>employee</td>\n",
              "      <td>0</td>\n",
              "      <td>NaN</td>\n",
              "      <td>car purchase</td>\n",
              "    </tr>\n",
              "  </tbody>\n",
              "</table>\n",
              "<p>2174 rows × 12 columns</p>\n",
              "</div>\n",
              "      <button class=\"colab-df-convert\" onclick=\"convertToInteractive('df-4251409e-bd73-475d-abac-6c17d14a3d80')\"\n",
              "              title=\"Convert this dataframe to an interactive table.\"\n",
              "              style=\"display:none;\">\n",
              "        \n",
              "  <svg xmlns=\"http://www.w3.org/2000/svg\" height=\"24px\"viewBox=\"0 0 24 24\"\n",
              "       width=\"24px\">\n",
              "    <path d=\"M0 0h24v24H0V0z\" fill=\"none\"/>\n",
              "    <path d=\"M18.56 5.44l.94 2.06.94-2.06 2.06-.94-2.06-.94-.94-2.06-.94 2.06-2.06.94zm-11 1L8.5 8.5l.94-2.06 2.06-.94-2.06-.94L8.5 2.5l-.94 2.06-2.06.94zm10 10l.94 2.06.94-2.06 2.06-.94-2.06-.94-.94-2.06-.94 2.06-2.06.94z\"/><path d=\"M17.41 7.96l-1.37-1.37c-.4-.4-.92-.59-1.43-.59-.52 0-1.04.2-1.43.59L10.3 9.45l-7.72 7.72c-.78.78-.78 2.05 0 2.83L4 21.41c.39.39.9.59 1.41.59.51 0 1.02-.2 1.41-.59l7.78-7.78 2.81-2.81c.8-.78.8-2.07 0-2.86zM5.41 20L4 18.59l7.72-7.72 1.47 1.35L5.41 20z\"/>\n",
              "  </svg>\n",
              "      </button>\n",
              "      \n",
              "  <style>\n",
              "    .colab-df-container {\n",
              "      display:flex;\n",
              "      flex-wrap:wrap;\n",
              "      gap: 12px;\n",
              "    }\n",
              "\n",
              "    .colab-df-convert {\n",
              "      background-color: #E8F0FE;\n",
              "      border: none;\n",
              "      border-radius: 50%;\n",
              "      cursor: pointer;\n",
              "      display: none;\n",
              "      fill: #1967D2;\n",
              "      height: 32px;\n",
              "      padding: 0 0 0 0;\n",
              "      width: 32px;\n",
              "    }\n",
              "\n",
              "    .colab-df-convert:hover {\n",
              "      background-color: #E2EBFA;\n",
              "      box-shadow: 0px 1px 2px rgba(60, 64, 67, 0.3), 0px 1px 3px 1px rgba(60, 64, 67, 0.15);\n",
              "      fill: #174EA6;\n",
              "    }\n",
              "\n",
              "    [theme=dark] .colab-df-convert {\n",
              "      background-color: #3B4455;\n",
              "      fill: #D2E3FC;\n",
              "    }\n",
              "\n",
              "    [theme=dark] .colab-df-convert:hover {\n",
              "      background-color: #434B5C;\n",
              "      box-shadow: 0px 1px 3px 1px rgba(0, 0, 0, 0.15);\n",
              "      filter: drop-shadow(0px 1px 2px rgba(0, 0, 0, 0.3));\n",
              "      fill: #FFFFFF;\n",
              "    }\n",
              "  </style>\n",
              "\n",
              "      <script>\n",
              "        const buttonEl =\n",
              "          document.querySelector('#df-4251409e-bd73-475d-abac-6c17d14a3d80 button.colab-df-convert');\n",
              "        buttonEl.style.display =\n",
              "          google.colab.kernel.accessAllowed ? 'block' : 'none';\n",
              "\n",
              "        async function convertToInteractive(key) {\n",
              "          const element = document.querySelector('#df-4251409e-bd73-475d-abac-6c17d14a3d80');\n",
              "          const dataTable =\n",
              "            await google.colab.kernel.invokeFunction('convertToInteractive',\n",
              "                                                     [key], {});\n",
              "          if (!dataTable) return;\n",
              "\n",
              "          const docLinkHtml = 'Like what you see? Visit the ' +\n",
              "            '<a target=\"_blank\" href=https://colab.research.google.com/notebooks/data_table.ipynb>data table notebook</a>'\n",
              "            + ' to learn more about interactive tables.';\n",
              "          element.innerHTML = '';\n",
              "          dataTable['output_type'] = 'display_data';\n",
              "          await google.colab.output.renderOutput(dataTable, element);\n",
              "          const docLink = document.createElement('div');\n",
              "          docLink.innerHTML = docLinkHtml;\n",
              "          element.appendChild(docLink);\n",
              "        }\n",
              "      </script>\n",
              "    </div>\n",
              "  </div>\n",
              "  "
            ],
            "text/plain": [
              "       children  days_employed  ...  total_income                   purpose\n",
              "12            0            NaN  ...           NaN         to have a wedding\n",
              "26            0            NaN  ...           NaN                 education\n",
              "29            0            NaN  ...           NaN    building a real estate\n",
              "41            0            NaN  ...           NaN  second-hand car purchase\n",
              "55            0            NaN  ...           NaN         to have a wedding\n",
              "...         ...            ...  ...           ...                       ...\n",
              "21489         2            NaN  ...           NaN         purchase of a car\n",
              "21495         1            NaN  ...           NaN          wedding ceremony\n",
              "21497         0            NaN  ...           NaN       building a property\n",
              "21502         1            NaN  ...           NaN    building a real estate\n",
              "21510         2            NaN  ...           NaN              car purchase\n",
              "\n",
              "[2174 rows x 12 columns]"
            ]
          },
          "metadata": {},
          "execution_count": 9
        }
      ],
      "source": [
        "# Checking the distribution in the whole dataset\n",
        "\n",
        "df[df.isna().any(axis=1)]"
      ]
    },
    {
      "cell_type": "markdown",
      "metadata": {
        "id": "szawkj4pmIKA"
      },
      "source": [
        "**Intermediate conclusion**\n",
        "\n",
        "[Is the distribution in the original dataset similar to the distribution of the filtered table? What does that mean for us?]\n",
        "\n",
        "[If you think we can't make any conclusions yet, let's investigate our dataset further. Let's think about other reasons that could lead to data missing and check if we can find any patterns that may lead us to thinking that the missing values are not random. Because this is your work, this is section is optional.]"
      ]
    },
    {
      "cell_type": "code",
      "execution_count": 10,
      "metadata": {
        "id": "ZOZ9q5gmmIKA"
      },
      "outputs": [],
      "source": [
        "# Check for other reasons and patterns that could lead to missing values\n",
        "\n"
      ]
    },
    {
      "cell_type": "markdown",
      "metadata": {
        "id": "VjW2i12gmIKB"
      },
      "source": [
        "**Intermediate conclusion**\n",
        "\n",
        "[Can we finally confirm that missing values are accidental? Check for anything else that you think might be important here.] - If you see the below dataframe, the missing values are accidental for the column days_employed but not for total_income. As from the dataframe we can conclude that the total_income depends on the days_employed."
      ]
    },
    {
      "cell_type": "code",
      "execution_count": 11,
      "metadata": {
        "scrolled": true,
        "id": "-r28KIDEmIKB",
        "colab": {
          "base_uri": "https://localhost:8080/",
          "height": 423
        },
        "outputId": "17b9946b-d044-4cc4-95d7-878126f97390"
      },
      "outputs": [
        {
          "output_type": "execute_result",
          "data": {
            "text/html": [
              "\n",
              "  <div id=\"df-52097ef3-591b-4255-b81f-4ed296e24da0\">\n",
              "    <div class=\"colab-df-container\">\n",
              "      <div>\n",
              "<style scoped>\n",
              "    .dataframe tbody tr th:only-of-type {\n",
              "        vertical-align: middle;\n",
              "    }\n",
              "\n",
              "    .dataframe tbody tr th {\n",
              "        vertical-align: top;\n",
              "    }\n",
              "\n",
              "    .dataframe thead th {\n",
              "        text-align: right;\n",
              "    }\n",
              "</style>\n",
              "<table border=\"1\" class=\"dataframe\">\n",
              "  <thead>\n",
              "    <tr style=\"text-align: right;\">\n",
              "      <th></th>\n",
              "      <th>days_employed</th>\n",
              "      <th>total_income</th>\n",
              "    </tr>\n",
              "  </thead>\n",
              "  <tbody>\n",
              "    <tr>\n",
              "      <th>12</th>\n",
              "      <td>NaN</td>\n",
              "      <td>NaN</td>\n",
              "    </tr>\n",
              "    <tr>\n",
              "      <th>26</th>\n",
              "      <td>NaN</td>\n",
              "      <td>NaN</td>\n",
              "    </tr>\n",
              "    <tr>\n",
              "      <th>29</th>\n",
              "      <td>NaN</td>\n",
              "      <td>NaN</td>\n",
              "    </tr>\n",
              "    <tr>\n",
              "      <th>41</th>\n",
              "      <td>NaN</td>\n",
              "      <td>NaN</td>\n",
              "    </tr>\n",
              "    <tr>\n",
              "      <th>55</th>\n",
              "      <td>NaN</td>\n",
              "      <td>NaN</td>\n",
              "    </tr>\n",
              "    <tr>\n",
              "      <th>...</th>\n",
              "      <td>...</td>\n",
              "      <td>...</td>\n",
              "    </tr>\n",
              "    <tr>\n",
              "      <th>21489</th>\n",
              "      <td>NaN</td>\n",
              "      <td>NaN</td>\n",
              "    </tr>\n",
              "    <tr>\n",
              "      <th>21495</th>\n",
              "      <td>NaN</td>\n",
              "      <td>NaN</td>\n",
              "    </tr>\n",
              "    <tr>\n",
              "      <th>21497</th>\n",
              "      <td>NaN</td>\n",
              "      <td>NaN</td>\n",
              "    </tr>\n",
              "    <tr>\n",
              "      <th>21502</th>\n",
              "      <td>NaN</td>\n",
              "      <td>NaN</td>\n",
              "    </tr>\n",
              "    <tr>\n",
              "      <th>21510</th>\n",
              "      <td>NaN</td>\n",
              "      <td>NaN</td>\n",
              "    </tr>\n",
              "  </tbody>\n",
              "</table>\n",
              "<p>2174 rows × 2 columns</p>\n",
              "</div>\n",
              "      <button class=\"colab-df-convert\" onclick=\"convertToInteractive('df-52097ef3-591b-4255-b81f-4ed296e24da0')\"\n",
              "              title=\"Convert this dataframe to an interactive table.\"\n",
              "              style=\"display:none;\">\n",
              "        \n",
              "  <svg xmlns=\"http://www.w3.org/2000/svg\" height=\"24px\"viewBox=\"0 0 24 24\"\n",
              "       width=\"24px\">\n",
              "    <path d=\"M0 0h24v24H0V0z\" fill=\"none\"/>\n",
              "    <path d=\"M18.56 5.44l.94 2.06.94-2.06 2.06-.94-2.06-.94-.94-2.06-.94 2.06-2.06.94zm-11 1L8.5 8.5l.94-2.06 2.06-.94-2.06-.94L8.5 2.5l-.94 2.06-2.06.94zm10 10l.94 2.06.94-2.06 2.06-.94-2.06-.94-.94-2.06-.94 2.06-2.06.94z\"/><path d=\"M17.41 7.96l-1.37-1.37c-.4-.4-.92-.59-1.43-.59-.52 0-1.04.2-1.43.59L10.3 9.45l-7.72 7.72c-.78.78-.78 2.05 0 2.83L4 21.41c.39.39.9.59 1.41.59.51 0 1.02-.2 1.41-.59l7.78-7.78 2.81-2.81c.8-.78.8-2.07 0-2.86zM5.41 20L4 18.59l7.72-7.72 1.47 1.35L5.41 20z\"/>\n",
              "  </svg>\n",
              "      </button>\n",
              "      \n",
              "  <style>\n",
              "    .colab-df-container {\n",
              "      display:flex;\n",
              "      flex-wrap:wrap;\n",
              "      gap: 12px;\n",
              "    }\n",
              "\n",
              "    .colab-df-convert {\n",
              "      background-color: #E8F0FE;\n",
              "      border: none;\n",
              "      border-radius: 50%;\n",
              "      cursor: pointer;\n",
              "      display: none;\n",
              "      fill: #1967D2;\n",
              "      height: 32px;\n",
              "      padding: 0 0 0 0;\n",
              "      width: 32px;\n",
              "    }\n",
              "\n",
              "    .colab-df-convert:hover {\n",
              "      background-color: #E2EBFA;\n",
              "      box-shadow: 0px 1px 2px rgba(60, 64, 67, 0.3), 0px 1px 3px 1px rgba(60, 64, 67, 0.15);\n",
              "      fill: #174EA6;\n",
              "    }\n",
              "\n",
              "    [theme=dark] .colab-df-convert {\n",
              "      background-color: #3B4455;\n",
              "      fill: #D2E3FC;\n",
              "    }\n",
              "\n",
              "    [theme=dark] .colab-df-convert:hover {\n",
              "      background-color: #434B5C;\n",
              "      box-shadow: 0px 1px 3px 1px rgba(0, 0, 0, 0.15);\n",
              "      filter: drop-shadow(0px 1px 2px rgba(0, 0, 0, 0.3));\n",
              "      fill: #FFFFFF;\n",
              "    }\n",
              "  </style>\n",
              "\n",
              "      <script>\n",
              "        const buttonEl =\n",
              "          document.querySelector('#df-52097ef3-591b-4255-b81f-4ed296e24da0 button.colab-df-convert');\n",
              "        buttonEl.style.display =\n",
              "          google.colab.kernel.accessAllowed ? 'block' : 'none';\n",
              "\n",
              "        async function convertToInteractive(key) {\n",
              "          const element = document.querySelector('#df-52097ef3-591b-4255-b81f-4ed296e24da0');\n",
              "          const dataTable =\n",
              "            await google.colab.kernel.invokeFunction('convertToInteractive',\n",
              "                                                     [key], {});\n",
              "          if (!dataTable) return;\n",
              "\n",
              "          const docLinkHtml = 'Like what you see? Visit the ' +\n",
              "            '<a target=\"_blank\" href=https://colab.research.google.com/notebooks/data_table.ipynb>data table notebook</a>'\n",
              "            + ' to learn more about interactive tables.';\n",
              "          element.innerHTML = '';\n",
              "          dataTable['output_type'] = 'display_data';\n",
              "          await google.colab.output.renderOutput(dataTable, element);\n",
              "          const docLink = document.createElement('div');\n",
              "          docLink.innerHTML = docLinkHtml;\n",
              "          element.appendChild(docLink);\n",
              "        }\n",
              "      </script>\n",
              "    </div>\n",
              "  </div>\n",
              "  "
            ],
            "text/plain": [
              "       days_employed  total_income\n",
              "12               NaN           NaN\n",
              "26               NaN           NaN\n",
              "29               NaN           NaN\n",
              "41               NaN           NaN\n",
              "55               NaN           NaN\n",
              "...              ...           ...\n",
              "21489            NaN           NaN\n",
              "21495            NaN           NaN\n",
              "21497            NaN           NaN\n",
              "21502            NaN           NaN\n",
              "21510            NaN           NaN\n",
              "\n",
              "[2174 rows x 2 columns]"
            ]
          },
          "metadata": {},
          "execution_count": 11
        }
      ],
      "source": [
        "# Checking for other patterns - explain which\n",
        "\n",
        "df[df.isna().any(axis=1)][['days_employed','total_income']]"
      ]
    },
    {
      "cell_type": "markdown",
      "metadata": {
        "id": "hcpS8xjJmIKB"
      },
      "source": [
        "**Conclusions**\n",
        "\n",
        "[Did you find any patterns? How did you come to this conclusion?] - Yes, there is a patterns between days_employed and total_income.\n",
        "\n",
        "[Explain how you will address the missing values. Consider the categories in which values are missing.] - We can fill numerical values with mean or median or if we have categorical values then we can use forward fill method to fill missing values. \n",
        "\n",
        "[Briefly plan your next steps for transforming data. You will probably need to address different types of issues: duplicates, different registers, incorrect artifacts, and missing values.]  "
      ]
    },
    {
      "cell_type": "markdown",
      "metadata": {
        "id": "BkVK6gepmIKB"
      },
      "source": [
        "## Data transformation\n",
        "\n",
        "[Let's go through each column to see what issues we may have in them.]\n",
        "\n",
        "[Begin with removing duplicates and fixing educational information if required.]"
      ]
    },
    {
      "cell_type": "code",
      "execution_count": 12,
      "metadata": {
        "id": "OSMOGQfamIKB",
        "colab": {
          "base_uri": "https://localhost:8080/"
        },
        "outputId": "a420ea7d-ad11-455c-ab64-37b5fa832270"
      },
      "outputs": [
        {
          "output_type": "execute_result",
          "data": {
            "text/plain": [
              "{\"BACHELOR'S DEGREE\",\n",
              " \"Bachelor's Degree\",\n",
              " 'GRADUATE DEGREE',\n",
              " 'Graduate Degree',\n",
              " 'PRIMARY EDUCATION',\n",
              " 'Primary Education',\n",
              " 'SECONDARY EDUCATION',\n",
              " 'SOME COLLEGE',\n",
              " 'Secondary Education',\n",
              " 'Some College',\n",
              " \"bachelor's degree\",\n",
              " 'graduate degree',\n",
              " 'primary education',\n",
              " 'secondary education',\n",
              " 'some college'}"
            ]
          },
          "metadata": {},
          "execution_count": 12
        }
      ],
      "source": [
        "# Let's see all values in education column to check if and what spellings will need to be fixed\n",
        "set(df['education'])"
      ]
    },
    {
      "cell_type": "code",
      "execution_count": 13,
      "metadata": {
        "scrolled": true,
        "id": "SjBNRFo6mIKC"
      },
      "outputs": [],
      "source": [
        "# Fix the registers if required\n",
        "df['education'].replace([\"BACHELOR'S DEGREE\",\"bachelor's degree\"],[\"Bachelor's Degree\",\"Bachelor's Degree\"], inplace = True)\n",
        "df['education'].replace([\"GRADUATE DEGREE\",\"graduate degree\"],[\"Graduate Degree\",\"Graduate Degree\"], inplace = True)\n",
        "df['education'].replace([\"PRIMARY EDUCATION\",\"primary education\"],[\"Primary Education\",\"Primary Education\"], inplace = True)\n",
        "df['education'].replace([\"SECONDARY EDUCATION\",\"secondary education\"],[\"Secondary Education\",\"Secondary Education\"], inplace = True)\n",
        "df['education'].replace([\"SOME COLLEGE\",\"some college\"],[\"Some College\",\"Some College\"], inplace = True)"
      ]
    },
    {
      "cell_type": "code",
      "execution_count": 14,
      "metadata": {
        "id": "TlzLJfD-mIKC",
        "colab": {
          "base_uri": "https://localhost:8080/"
        },
        "outputId": "c513d71d-e19f-482c-ed72-136d2814a452"
      },
      "outputs": [
        {
          "output_type": "execute_result",
          "data": {
            "text/plain": [
              "{\"Bachelor's Degree\",\n",
              " 'Graduate Degree',\n",
              " 'Primary Education',\n",
              " 'Secondary Education',\n",
              " 'Some College'}"
            ]
          },
          "metadata": {},
          "execution_count": 14
        }
      ],
      "source": [
        "# Checking all the values in the column to make sure we fixed them\n",
        "set(df['education'])"
      ]
    },
    {
      "cell_type": "markdown",
      "metadata": {
        "id": "g7_aY8plmIKC"
      },
      "source": [
        "[Check the data the `children` column]"
      ]
    },
    {
      "cell_type": "code",
      "execution_count": 15,
      "metadata": {
        "id": "qn76QGlPmIKC",
        "colab": {
          "base_uri": "https://localhost:8080/"
        },
        "outputId": "94fdf59f-5d50-4428-d975-782967c01c75"
      },
      "outputs": [
        {
          "output_type": "execute_result",
          "data": {
            "text/plain": [
              "{-1, 0, 1, 2, 3, 4, 5, 20}"
            ]
          },
          "metadata": {},
          "execution_count": 15
        }
      ],
      "source": [
        "# Let's see the distribution of values in the `children` column\n",
        "set(df['children'])"
      ]
    },
    {
      "cell_type": "markdown",
      "metadata": {
        "id": "Z9KfrwOnmIKC"
      },
      "source": [
        "[Are there any strange things in the column? If yes, how high is the percentage of problematic data? How could they have occurred? Make a decision on what you will do with this data and explain you reasoning.] - Yes, the column has the strange things as it has -1 and 20. Children with -1 and 20 values is about 0.21% and 0.35% respectively."
      ]
    },
    {
      "cell_type": "code",
      "execution_count": 16,
      "metadata": {
        "id": "OAGfnP6RmIKC",
        "colab": {
          "base_uri": "https://localhost:8080/"
        },
        "outputId": "40e26cd3-2c23-43de-acc6-841a62368522"
      },
      "outputs": [
        {
          "output_type": "stream",
          "name": "stdout",
          "text": [
            "Children = -1 percentage :  0.2183507549361208\n",
            "Children = 20 percentage :  0.3530778164924506\n"
          ]
        }
      ],
      "source": [
        "# [fix the data based on your decision]\n",
        "print('Children = -1 percentage : ',(len(df[df['children'] == -1])/len(df))*100)\n",
        "print('Children = 20 percentage : ',(len(df[df['children'] == 20])/len(df))*100)\n",
        "df = df[df['children'] != -1]\n",
        "df = df[df['children'] != 20]"
      ]
    },
    {
      "cell_type": "code",
      "execution_count": 17,
      "metadata": {
        "id": "QXtl8g68mIKC",
        "colab": {
          "base_uri": "https://localhost:8080/"
        },
        "outputId": "41313301-5601-4f19-cf1d-aaa9fd6a9be2"
      },
      "outputs": [
        {
          "output_type": "execute_result",
          "data": {
            "text/plain": [
              "{0, 1, 2, 3, 4, 5}"
            ]
          },
          "metadata": {},
          "execution_count": 17
        }
      ],
      "source": [
        "# Checking the `children` column again to make sure it's all fixed\n",
        "set(df['children'])"
      ]
    },
    {
      "cell_type": "markdown",
      "metadata": {
        "id": "-ScWwg4vmIKD"
      },
      "source": [
        "[Check the data in the `days_employed` column. Firstly think about what kind of issues could there be and what you may want to check and how you will do it.]"
      ]
    },
    {
      "cell_type": "code",
      "execution_count": 18,
      "metadata": {
        "id": "SShPBWgfmIKD",
        "colab": {
          "base_uri": "https://localhost:8080/"
        },
        "outputId": "a49304c1-3a94-4a6c-cd96-5ff003e9da6f"
      },
      "outputs": [
        {
          "output_type": "stream",
          "name": "stdout",
          "text": [
            "{nan, nan, nan, nan, nan, nan, nan, nan, nan, nan, nan, nan, nan, nan, nan, nan, 390775.1299182249, 393246.7210757576, nan, nan, nan, nan, nan, nan, nan, nan, nan, nan, 393280.682279755, 393298.380985794, 393331.5005366179, 393337.57776490937, 393370.2008331024, nan, nan, nan, nan, nan, nan, nan, nan, nan, nan, 393380.7656047209, 393389.7646601208, 393404.0845203994, 393429.5161267279, 393452.1445002313, 393506.2668509173, 393547.941173224, 390842.2702300489, 390846.8538258114, 393619.9576595304, 393631.7154380664, 393646.3766012972, 393649.355581225, 393651.23696145095, 393693.1682437829, nan, nan, nan, nan, nan, nan, nan, nan, 393711.519922678, nan, 393725.4267949609, 390878.8516730853, 393747.30750915024, 393769.9343824062, 393799.97259229, 393823.69583021046, 393825.2914776166, 393828.1688682389, 393831.9264719042, nan, nan, nan, nan, nan, nan, nan, nan, nan, nan, 393852.6033737048, 393859.1924682685, 393880.2417671519, 393921.4581466925, 393964.8409971221, 393990.55333276594, nan, nan, nan, nan, nan, nan, nan, nan, nan, nan, 394016.0300338185, 394021.0721837952, 394054.6211364949, 390946.5577704896, 394085.91109522025, -234.76806878670047, 394101.3440405803, 394108.4008604747, 390957.9733606456, -223.41895901820587, 394146.0585567975, 394164.9166680501, 394164.4065831844, 394178.8214537727, -213.9781103888881, 394194.17071063217, 394214.527043999, 394223.1250513767, 394228.664310404, 394233.127084874, 394262.6444357469, 394328.1305363574, nan, nan, nan, nan, nan, nan, nan, 394363.264869088, nan, nan, 394372.118413896, 394381.3427019314, 394382.6436189128, 394383.9159991581, 394406.6419138953, 391012.4110139498, 394440.0377418709, 394453.590482719, 394476.5532601321, 394549.9012312236, 391040.2519317743, 394565.20746289287, 391043.4652258515, 394574.8234906184, 394579.2994571693, 394599.9315186019, -130.66314343338033, 391055.88694721897, 394657.227959007, 394682.332185092, -592.0756240207047, 394727.35807500576, 394755.9782205064, -508.31371560714064, 394796.5930007743, 394800.9015806528, -499.9710770218425, -491.1591787926554, 394844.48659696674, -490.1023225475728, 394848.7808174195, 394881.73276422056, 394923.4808203587, 394926.8333551188, 394927.5358153048, 394938.2367124753, -471.7627961551879, 394949.2786641791, 394949.3448514896, 394990.7678709237, 394992.2899763371, 394994.4766430102, 391127.3375698778, 395002.7541214685, -456.4760624399568, -454.6982783319581, 395051.7576422965, 395074.101985116, 395079.75786780776, 395106.8838141915, 395127.6859066337, -434.9313375154888, -433.305254792056, 395141.1002099875, 395146.9917072188, 395146.253734348, 395151.3570882657, 395165.2194637025, 395196.98448241904, 395199.4569994374, 395204.74907261325, 395223.8492309444, 395224.09806453896, 395243.7066576743, 395253.78992511454, 395294.5718486108, 395302.838653562, 395317.1459516085, -387.5156271628002, 391202.5139783563, 395403.71946657, 395420.48566307337, 395425.932735348, 391218.8318979049, 395470.9608540128, 395480.0094481488, 395484.0270759217, 395491.3537443136, 395508.4345074437, -357.20705832068774, -357.6812305523744, 395524.38223135576, 395540.9452174032, -559.2213364413401, 395548.8251595375, -350.97659937237944, -345.0831113785752, 395578.7845780616, 395599.3793670752, 395646.1601846912, 395651.3704047506, nan, nan, nan, nan, nan, nan, nan, nan, nan, nan, 395662.0904857356, 395675.4811138453, 395694.97908366047, 395710.5277164256, 395728.36139811255, -315.64112300105074, 391277.0407345108, 395750.5971120408, 395759.3530493151, 395796.7494281163, 395805.5396496386, 395814.8660365871, 395825.13252984686, 395826.6812947412, 395832.1052065796, 395835.89480896265, 395858.2629012196, 395893.8133666436, 395899.3519995793, 395903.9246213017, 395909.526571126, 395916.3852314078, 395933.7429363009, 395952.9040454879, 395971.6465482185, 395972.0931677292, 395979.28924841416, 396020.93338465935, 396027.42796917015, 396031.3684273309, 396046.5022366885, 391338.6131271668, 396057.5351195665, 396070.4272383274, 396078.5420641729, 396083.69161696726, 396093.2188182513, 396106.1703408562, 396121.2034376458, 396125.80589405296, nan, nan, nan, nan, nan, nan, nan, nan, nan, nan, -232.9166939988972, 396189.26912372775, 396193.5165391517, 396283.21924023685, -1017.6355061778976, -1012.3032357451046, 396340.0007851469, nan, nan, nan, nan, nan, nan, nan, nan, nan, nan, 396357.2728718806, -188.6092032819924, 396389.605378489, -994.321332743273, 396412.052305346, 396416.8377176422, 396422.4144649991, 396436.30863325647, -165.48286665802328, 396488.18800415343, -977.8488196356192, -974.845641566755, -972.3644189900732, -969.41325761219, 396540.045010701, 396541.4139882752, 396568.887158519, 396575.7303026654, 396597.1516975969, 396628.3675095777, 396641.8108931517, 396646.97898304695, -946.1982603886098, 396689.04102102097, 396697.1385750904, -936.3939330277152, 396703.5283695523, -935.6219216399148, 396723.8328251525, 396759.0903098157, -922.3725334756526, 396783.8837048239, 396814.1840801792, 396840.1001262311, 396881.25707974896, 396900.63361500937, -896.7834001997434, 396909.0804505446, 396917.2773774677, 396925.5142556507, 396946.6747931846, 396949.8893968759, 396954.68793121015, 396960.263179592, -882.1546979650174, 396973.85014910577, 396979.32170180976, 396998.8242563836, 397005.4752200823, 397023.2691612104, 397042.71232332697, 397062.699968135, -863.9845043639324, 397113.1231131953, nan, nan, nan, nan, nan, nan, nan, nan, nan, nan, 397134.3575480329, 397144.13129632006, 397156.50897206255, 397158.28664321336, 391558.9618490568, -841.3934036413538, 397188.823163828, -837.636187548669, 397237.7807149525, 391581.7584457429, 397282.24743224186, 397328.7372645853, 397336.0814555146, 397368.7371442071, 397391.03748001024, 397408.46607208025, 397417.8352648912, 397430.033306676, -790.9119405219461, 397442.5423033826, -777.2789331281418, 397504.3802341239, -776.6643842174852, 397507.7167278028, -773.5689282464135, 397521.3436469713, 397548.7672443319, 397579.1732366004, 397598.8132347722, 397599.88619726384, 397600.731411461, 397606.7221741405, 397644.26726191095, 397671.50490179576, 397680.948559208, 397680.06524971104, -741.1272798825229, nan, nan, nan, nan, nan, nan, nan, nan, nan, nan, -740.2531441565387, -740.7219313585773, 391665.9795629605, 397703.6975805254, 397704.8704438828, 397731.6530867117, 397743.1330456297, -725.9575381891954, 397768.8802445651, -723.1759553655519, 397779.4358178036, -721.4235410610944, -717.9642344951352, -715.9535641306337, 397812.1631269885, 397811.3777729872, 397819.0447452781, -709.3116024249028, 397844.8485736729, 397856.5650125719, 397867.701925104, 397903.3641661516, 397905.00319993024, 397914.4816440885, 397961.7769379203, -683.2745023565002, -677.605977287625, -675.8249196776868, 398039.4875389704, 398073.94758440217, 398078.5315634746, 398092.2951618283, 398099.3924325704, -656.6204156894272, 398127.5687889961, 398149.1797921711, 398151.5340124893, 391756.5866071457, -644.2844504930234, -231.53373165682288, 398206.6319677277, 398247.86036940326, -624.5731262033149, 398272.2641389665, 398277.4158377235, 398278.8719082092, 398282.5388156411, 398288.8572338993, 398300.3624571615, -616.4662935846662, -203.4031495977114, -610.0116262666487, 398354.5916265421, 398380.2540207468, 398390.7753949195, -597.8818273051091, 398408.1830524196, 398425.61028850544, 398430.8834023205, 398431.149721992, 398431.9177800558, -592.581252453885, -592.5495431907838, 398469.8144771949, 398484.86481900286, -566.5256644849759, 398599.1424724869, 398600.0690177453, -552.3096960031706, -551.0625610066053, -549.2556068494576, -549.0433535135306, 398646.4115884655, 398650.134574364, 398654.1675192543, 398660.5630098707, -546.3592999726333, 398662.21961493045, -540.0384252136863, 398704.7897792815, 398715.8194756003, 398735.31611946673, 398736.7232726151, -531.857283433217, 398746.6733044913, 398749.8277860973, 398750.37129245646, 398779.2133942599, 398800.8965063803, 398822.3602132424, -514.3279361526728, -513.5766069891323, 398834.9301414443, 398876.3014860504, 398885.1862434892, -500.2560471735577, -499.9637287702152, -498.646831431446, 398910.8419682014, nan, nan, nan, nan, nan, nan, nan, nan, nan, nan, -479.6200557972769, -476.02885722677263, -475.7366075348417, 399049.2778639722, 399150.2592510871, 399152.78942854353, 399155.68482068414, 399170.8193313516, -443.8103567417637, -442.0930494929215, 391961.2740172538, 399201.5994537378, -438.7366845106443, 399211.4532545268, -672.343164920394, 399244.8556411115, -430.96138346849136, -430.1035324283856, 399248.8867235077, 399260.4485155553, -422.1566558111698, -421.23256143100286, 399306.96483742056, -416.326703112696, 399346.6991313356, 399350.1188888853, -407.41897063354907, 399375.6522927992, 399382.5039650786, -402.8129871193322, -402.3541847844025, -2029.6724132504876, 399398.38870673854, 399406.2691356916, 399413.1117667508, -396.0611343294148, -393.1008760876265, -2021.621929301389, 399436.0998398833, -2020.3175511012048, 392011.7098275871, -2019.735236513712, -2018.7260853596997, 399448.87797372695, -2016.531882829462, -2013.3369339866947, 399495.5096599696, -377.0925934255864, -2005.219882614592, 399524.5738244524, -1996.5837248437344, 399560.1233422703, 399563.8826295628, 399581.88237617287, -1990.5665603347768, -1986.3264354644905, 399617.1406695482, 399622.4437503436, -1980.7917118422972, nan, nan, nan, nan, nan, nan, nan, nan, nan, nan, 399658.6299397256, 399682.2846822073, 399693.4856893632, 399728.8665674789, 399732.682929142, 399736.06018477393, -1958.6474765260352, -329.09124198111374, -328.7760480913056, -327.9449369968205, -1951.839133979567, -1949.389190675305, -117.35982909417852, -1948.9298101352704, 399820.8898116207, -1944.5472079310528, -1943.7558915103143, -312.02463515803163, 399855.8526238703, -303.15147261877416, 399889.0600810908, 399894.6986624818, -385.8846531068484, -1924.04290405812, -295.48202987020875, 392107.6835999616, 399926.1711116827, -873.4680353024614, -1919.9370656485023, 399950.2565491157, -287.48954579785266, -1913.2329529161432, -284.4263821329149, 400000.7324662252, 400008.5532248253, 400032.0582146421, -271.74321837728337, -1899.3499809013736, 400050.0147871616, 400051.9716644644, 400056.8101599357, -1897.6215288047676, -267.8733529190266, -1889.2004905591, -1887.4691751191456, 400109.87570614, 400120.9667452166, -256.32272358769285, -1884.1012119495315, 400124.13943170017, 400127.6172491229, -1882.176984422549, -252.090945437796, 400147.9473109316, 400149.50972617615, -1878.158947875552, -248.57412256831583, 400165.3407182535, -1872.259301858903, 400185.8808061889, -1867.7429285331689, 400224.5298820912, -1861.452970747048, -227.79096514701985, 400267.8420216164, -1855.8340659242056, 400281.1369125588, -1846.6419410560736, -1844.4172263905, -1835.480847881752, 400376.1006401991, -204.19557672907456, -1830.2264432737245, 400410.2036934645, -1826.9557942672125, 400427.2343860835, -1822.315338901624, -1821.341911016643, -1818.6893859063928, 400460.4684024609, 392217.3833052706, 400508.874182473, 400512.7325745214, 400513.5973132476, 400534.63151608297, 400541.4087152062, -1799.5275163883286, 400553.7984359304, 400556.21838856646, -1795.2522641257617, 392236.4041647114, 400581.3113934165, 392239.8402558753, -1787.2046516654916, -1783.0243357218094, 400655.6396612711, -1776.594623630848, -1774.559168054482, -144.40710282433054, -1771.936782732413, 400691.3996837423, -1767.9041956196395, 392263.00696817634, 392265.2119388623, -1765.393296887101, -1765.796458910361, -1759.180656331362, 400756.8201390229, -351.92681527940294, -1753.4482654685287, -1753.7945910711712, -1752.9412035640523, 400820.11155372026, 392286.2449642416, 400834.1331982341, -1741.0828917220367, -1741.4896081020322, -1733.626976832236, 400892.4311387271, -1728.9367059986396, 392308.163862615, 400954.24784490647, 400961.9093641943, -1716.3907186534286, -1715.9569822708725, 400977.334537908, -1714.9102670116351, -1712.3968920550103, 400992.43657013256, 400992.3757037226, 392320.693505724, 400997.27089830406, 401020.6425721485, 401021.5008821889, 392327.7284041557, 401035.2928146848, -1702.3573431013062, 401063.80451215, -1696.862176889348, -1693.995466136397, 401090.0582086254, -1690.1829244868802, -1690.2507002583332, -1689.2595606662942, -1687.668877706417, 401113.1191036314, -663.8847700994702, 401123.55420327577, -1681.9196124154294, -1680.2896764836694, 401161.15825071634, -1675.4100359681977, -1675.3277355669595, 401188.9173847712, -1670.681117565851, 401215.4597847833, 401223.83866732224, 401226.8005445055, -1659.363127487051, 401256.7450895178, -657.6377679477919, -1656.0143551768158, 401271.3638159447, 401291.52973885625, nan, nan, nan, nan, nan, nan, nan, nan, nan, nan, 392383.5007148712, 401321.96460187936, 401331.66894736607, 392388.182360493, 401345.9267187346, 401364.8528819214, 401369.483602498, 401371.3597884085, 401378.57076131686, 401381.7361559379, -1628.910491741404, 401440.8343355376, 401446.4467198984, -1620.3631279529834, 401458.8777808532, 392413.34318610345, 401486.7067455991, -1607.1889953754633, 401517.2763879868, 401524.25915292674, 401556.7535504825, -1598.219113853225, 401573.9052883258, 401575.1967276316, -1595.6041916148786, -1595.482660207637, 401590.452230711, 401591.8284573659, 392441.76436489815, -1589.522322863009, 401614.47562223615, 401619.6332980906, -1586.1232527637255, -1584.5539546214184, -1584.3207916113313, 401635.0326971183, -1578.6258069148205, 401663.8500458008, 401674.4666333656, 401675.093433862, -1573.9372785458943, -1569.8532582041096, 401715.8117488882, 401755.40047533, -3077.614136749641, -1558.557184833962, -1558.6635308642542, -1556.5959323180575, -1556.7820689386515, 392483.3639134676, -307.6941968139654, -1533.553143702549, -1527.6376646952829, -1524.4866680423636, 392510.7183494693, -1518.3970820586726, -1509.5923288383872, -1507.4807671145225, -1500.359464445042, -1491.6844243888715, -1489.9396547093454, -1487.3503166134103, -1486.2631722222284, -1482.7002241845364, 392548.78962294, -1478.1114745230695, -1478.5463492192318, -255.6633107385904, -1464.3676152158566, -239.41255122229708, -1459.24297972185, -1457.439684419054, -1456.2498993868246, -231.10235300524877, 392584.7756097212, -1446.6225418245374, -1444.8382724322507, -1443.9172032391268, -1441.1397928527929, -219.6435091128504, -1438.3349569205254, -1419.816090396125, -197.9882360891705, -1418.367878112769, -196.2012856740392, -1413.0517951914624, -1411.3317774004806, -1411.5386825238309, nan, nan, nan, nan, nan, nan, nan, nan, nan, nan, -187.0857001670946, -186.39348050152043, -1408.3944360006424, -1407.831353381676, -183.705474087238, 392631.61213063146, 392637.8131295289, -1384.384011799924, 392648.98919914325, -1382.481572616705, -1376.9311749322949, -1374.0192694134437, -151.6704157846842, -150.15228984336758, -148.48626430677254, -1366.8279597502185, -1366.9792795009105, -1363.2247203298864, nan, nan, nan, nan, nan, nan, nan, nan, nan, nan, -1360.3639024340316, -1361.45730080513, 392681.0557814205, -1345.51335743934, -112.20502316313, 392698.326444628, -1331.8306471522772, -1331.1702287017613, -1331.0173711076984, -107.62129564208848, -1328.1389466852686, -1322.1955998521914, -1321.8602132644444, -1321.4942617954437, -506.6853968553185, -1320.841444039708, -503.88753455129137, -503.690067794252, -1316.698446256232, -502.28991921827566, -1315.1374250925944, -499.9955265916522, nan, nan, nan, nan, nan, nan, nan, nan, nan, -1310.8514617269427, -1310.397524556474, -1308.901135498372, -1307.009158748009, -1307.838623722291, -1306.1649067692686, -488.9366579252708, -488.3789927057149, -1299.6972055042113, -1297.9710572151323, -1296.7461925576151, -1295.224084939049, -473.4276287859537, 392744.3553057505, -468.3576108199248, -1279.0847043591036, -464.8814775357112, 392754.14113585104, -1274.4653430285923, -1274.2150669237778, -1272.820566983897, -1272.2423036405578, -1272.4022072541936, -1272.8538460561665, -1271.0388802943432, 392761.78818840656, -1269.705780714499, -1265.5986035307449, -1263.9814190521354, -446.7176902076515, -445.398841950733, 392775.1999542681, -1253.372190117894, -1253.699284347698, -437.4488572229364, -431.0906010128036, -1239.1550654180498, -1237.3633590428924, -421.6841488648277, -416.31137307022783, -1229.012926757712, -1227.8629213281235, -412.4905559443667, -411.2900074423722, -411.0235962333316, -1222.1647420546285, -1221.4233967456182, -1221.5749519527033, -406.6847398187818, -1219.3898025637643, -403.2928494890746, -1215.2890573664115, -398.4397103822701, -395.2561684365226, -1208.5264914012348, -392.4175586579402, -386.54511175122735, -1198.2809136383146, 392833.5188505872, -1195.3893622509183, -381.89908351715513, -380.8047133516537, -1190.1265949965853, -1188.0665580537805, -1187.0443736751165, -1187.7966551102506, -1186.833587153276, -370.599363688192, -1182.4996827100074, 392849.36737578135, -1181.1834729513791, -1179.4016308302232, -361.1136568963737, -1172.487299245209, nan, nan, nan, nan, nan, nan, nan, nan, nan, nan, 392862.91872529866, -1167.601885855576, -1165.197276044633, -1165.8784532762745, -1165.5956224444287, -1163.9165788133666, -883.4050733439944, -341.2229949556839, -1152.0630580695995, -1152.6969343610142, 392879.3550799948, -1151.634459637238, -1151.601484632214, -1150.956987194926, -335.37542180020483, -333.935516212943, -1146.3304012613405, -331.4522264252644, -1145.3194080976716, -327.29200315020336, -1138.0590809085422, -322.04335039813105, -1136.228768874267, -1133.2199049664157, 392901.2407120397, -306.64661613514164, -1120.6918178377434, -1118.417571646916, -1117.8049063992455, -297.5160759440876, -1110.232493763289, -294.09679862838294, -1107.5471299215185, -1105.7754014807558, -1102.3856473107278, -1102.6211956108216, -1100.5322340842356, -1098.0471636458894, -1098.105756753577, -284.017779786969, -1096.4976802951967, 392935.9852169176, -281.9256023783126, -1094.705699831038, -278.690784300952, -1088.6820720243393, -273.850463758952, -264.1205437935367, -1075.1170016619033, -1074.813448447352, -259.39221168815294, -1073.1173009513602, -1071.8408350521856, -1071.6404862429897, -256.15904236971056, -1069.026726647009, 392962.8395401218, -1065.5420609185164, -1064.6502748536857, -1064.5600753307042, -1063.2399253060955, -1063.5381461092836, -1060.345141206404, -1059.0194798173322, -1057.9299796739522, -1055.4155546245618, -1051.0945209461058, -1050.850500106784, nan, nan, nan, nan, nan, nan, nan, nan, nan, nan, -1049.0401589553237, -233.55962911975968, -1042.5953854572724, -1040.0929547481644, -225.5880069412013, -1039.0956078748748, -1038.4769558683, -223.0855450150264, -1033.844227394982, -1030.2196484001704, -1030.3626056014652, -1028.237249271289, -212.0791810804838, -212.2428866181961, -211.3321064357295, -210.0241341614672, -1024.372571013553, -1019.6047726578452, -1017.5278795120664, 393015.6836651876, -1015.6285020670582, -1015.2455493293944, -1009.0145779656284, -1009.8315442647088, -1007.0633467439836, -1005.4653429509287, -1003.5181377157476, -998.6395181947844, -997.3058013928128, -997.4058231172692, -995.3271071555862, -995.148899277943, -995.1201127006004, 393036.4851380385, 393036.8812959083, -994.1227812531104, -993.9954304988185, -990.8410175021106, -983.6450899122262, -982.720031210574, nan, nan, nan, nan, nan, nan, nan, nan, nan, nan, -977.352281117697, -973.0664167328612, -159.98177415934316, -965.7724861835284, -147.2119314998361, -958.6098688032232, -958.2410636665916, -957.2870726574708, -952.9289545553636, -952.8135637923403, -951.5203037629196, -950.4509316074652, -949.0057142273288, -947.0324281274786, -947.4974554936268, -132.0291776329612, -946.2718374840204, -946.9355515564746, -132.74853603066168, -945.9147758939196, -943.4485742529212, -942.822974365952, -941.587816393401, -941.9439125467704, -939.8802072525648, -939.1589103904332, -938.9190092983624, -935.5079510431513, -933.1831890079663, -926.3700958307434, -923.8378028421027, -918.5085077433102, -917.5461991782884, -916.713761845114, -903.1898991818232, -902.2565715118924, -899.6856813830016, -898.1388174584497, -894.9796204185275, -341.3540728543212, nan, nan, nan, nan, nan, nan, nan, nan, nan, nan, -884.5458974260507, -880.0095986447429, -880.6933264019733, -879.4222732554242, -876.9076841326221, -868.2655626680223, -662.5555603665871, -848.5856662408221, -845.856785169455, -845.4417561302687, -841.2253867446632, -840.5561486016047, -839.058178717896, -838.7913650634198, -4094.962002131236, -837.0122660107588, nan, nan, nan, nan, nan, nan, nan, nan, nan, nan, -833.9869727194744, -827.6801345497095, -825.6443629727817, -825.6238995227193, -824.2713904300688, nan, nan, nan, nan, nan, nan, nan, nan, nan, nan, -819.2123808980684, -818.4677498102917, -811.5952108574527, -810.9006017615736, -806.0651762232753, -4062.141342230561, -804.6427756562332, -4060.498229682647, -803.0819831292172, -801.0577945054099, -4052.571137294711, -795.6642229661118, -4051.791763701876, -794.4857476970717, -793.4907829901092, -792.1242685442792, -792.7018870609315, -786.8085821129332, -786.3273188840901, -785.0737708068643, -785.4535003570343, -779.0097449404218, -4023.470216819967, -755.8358741818481, -755.7675611448046, -755.3651305765541, -754.3537712063624, -4010.229592549061, -748.3905022648303, -745.3722055530577, -742.6632252107518, -741.2288738359673, -739.3976155370599, -738.0143319347696, -737.6247757695508, -728.1796276616421, -3980.111172380011, -722.2665255059726, -721.2992621587889, -3976.998876182313, -719.8962462072957, -717.2902958143402, -715.6117300847798, -714.3361082450972, -713.1005574437347, -711.7950837085516, -710.9297052320578, -707.1590798946579, -707.4764115786363, -3961.236275295932, -701.5887411602232, -694.7928015134946, -3950.323127023062, -693.0266722750855, -626.3288164923888, -687.0311116629034, -685.6874321751673, -685.8106813199754, -684.2630258761617, -3938.765721212721, -680.0688944762821, -677.451298890888, -668.6813130716507, -664.1491719506628, -3919.4494172652553, -661.4007162124433, -253.06742778584592, -659.9652863172976, -250.75261297593968, -653.6516192396264, -653.0971827022147, -648.7086285569565, -235.0784304571869, -642.4942697351087, -234.98542969903863, -3890.630361794532, -225.1236894800484, -632.6430682975313, -629.0485982155585, -3883.891033468462, -625.4133073803603, -625.808645116809, -623.6179247237885, -622.2171976741772, -3877.757713076882, -620.8574017119461, -213.80230412949712, -618.8708340814262, -3871.389986005375, -205.247712957226, -607.3473520056048, -197.13714608906483, -602.7371543727584, -601.4649429847448, -3857.192990414978, -600.8561059848978, -3856.9865757463863, -190.44765153293227, -3844.50014739718, -3841.447465011313, -576.8169100868615, -168.84850295802315, -574.5637118063203, -161.98703983744124, -568.9150149040468, -568.4007510048666, -276.3864875899071, -564.2377234889152, -3818.249309568007, -3817.297526166772, -560.7886840606477, -3814.26649980285, -557.3598348177018, -3813.902832111676, -3811.329812945061, -553.9130538632487, -547.7500645221223, -138.69203968022956, -138.3657065359919, -3792.252418991618, -3788.9577605515383, -530.9345172657938, -530.0503472107137, -530.9290616904216, -528.8122216310328, -527.8797658290948, -527.6243211390481, -518.9714988323774, -510.66912886408295, -504.43626288198334, -498.6183481465612, -495.34846373201776, -424.9596180327826, -490.838926346192, -489.4849448342045, -486.6622261304435, -480.78969282198136, -472.0891094036631, -3727.1316277726814, -463.9904797630004, -461.0908919630581, -3716.616403822792, -3715.9723690401984, -3712.597059175068, -3711.696342813176, -579.8870684864687, -452.3655087013883, -3701.3541883369303, -3698.498260183647, -440.5052454820013, -3696.775325281125, -3694.089475444565, -435.1406753948738, -3686.839198176403, -3685.819566020176, -3684.2614389331534, -427.738138988532, -426.1524841766984, -3677.6544056831694, -3675.0804565070935, -3674.1967862080487, -417.6961148788066, -416.0915655668048, -415.0158504212138, -415.4432976795922, -3671.5782152182232, -3670.906889972886, -3668.067316114287, -411.8973394912789, -409.22121186490745, -3664.251443912793, -402.3667989487619, -402.90236334218, -401.3674015239119, -401.12396533016886, -3646.534299994491, -3645.8875117909297, -384.74539373994935, -3639.146925864037, -3634.225659551333, -3634.362143722157, -374.3419974277256, -3629.58599872024, -369.3625035144903, -368.65055044002816, -365.4277404652564, -3616.680375143969, -3611.4492814200817, -353.208193080505, -351.8183499282202, nan, nan, nan, nan, nan, nan, nan, nan, nan, nan, -343.77298817712267, -3596.964117761568, -3596.1550131128947, -338.1533357047299, -3593.016337277802, -336.6102890014424, -335.5229563354112, -335.2052230582992, -335.78825857557763, -3588.7036404286987, -331.70434381199607, -329.54679078079585, -327.5535215239031, -324.6893172302132, -323.7694370794304, -320.1323513872992, -3572.832668637951, -314.9251010605492, -3569.750130055097, -312.209668135152, -312.6001501638873, -3566.6249059196703, -3565.212415753316, -3565.795067550054, -3564.5419896278595, -307.81051502000605, -3563.0238744499634, -3560.6182338673293, -302.12313923783563, -301.30000458435984, -3557.495072910118, -298.07466947832995, -3554.6715257531628, -3554.5109732807628, -3551.890732019024, -291.806734380403, -3547.5674904576385, -284.42541640906325, -283.8272154100048, -281.3826223487629, -280.4934362011352, -264.8419040534243, -263.9867089980123, -260.4522283077256, -703.1238604446844, -3508.7019487678967, -249.5279061709532, -248.5614246286184, -246.5845914839772, -3497.328308697333, -3494.17575611488, nan, nan, -3491.357031958841, nan, nan, nan, nan, nan, nan, nan, -3486.130665272612, -858.9329304259572, -3452.1987195237284, -191.5022278359936, -3447.3306323706506, -3442.2988636410805, -3437.553762042236, -180.2797043319331, nan, nan, nan, nan, nan, nan, nan, nan, nan, nan, -3425.0514654073736, -3412.6307445920115, -3407.538805794145, nan, nan, nan, nan, nan, nan, nan, nan, nan, nan, -3406.572136895836, -3404.0470758301085, -142.6363254404057, -3396.1680854528527, -131.08159574179967, nan, nan, nan, nan, nan, nan, nan, nan, nan, nan, -3377.096449091828, -3368.789311895883, -3355.260838329073, -3353.5615345874226, -3353.4948406948456, -3352.3005870911525, -3352.427218819735, -3349.394580597705, -612.6015496472428, -3341.0678863600638, -3338.8677462507726, -3330.9892178791065, -3329.8214973928857, -3329.0772212319457, -3316.247950479504, -3312.4772556762487, -3311.5442629357417, -3303.415754962072, -3298.837653285547, -3297.541669396112, -3293.586465832164, -3288.8801979670147, -3288.307489047265, -3285.7268733995948, -3279.10931275772, -3278.37237514276, -3278.16006884664, -60.6373275553343, -55.47564829593528, -54.00833410011489, -3267.738265311034, -3267.612744207317, -50.12829786804968, -3265.2246658005547, -30.19533715555962, -3262.160329858339, -3248.9793274526232, -3243.1409128180653, -3242.5369269225425, -3242.850311521049, -3237.3787638154804, -3233.658397542254, -3231.940869720412, -3222.388622521204, -3215.279447135126, -3210.4481271386408, -3207.4747696666686, -3206.034363722028, -3196.834648873169, -3194.8410297998357, -3188.062918049832, -3185.4252863130328, -3183.7307955291467, -3182.922804475425, -3176.177351996424, -3174.764686766897, -117.0346167164464, -3156.957393344906, -3154.255254081401, -3133.246082407673, -3132.180734195495, -3126.707180061126, -3122.0346257936176, -3122.199019276733, -3120.4504986556926, -3112.8077209641992, -3104.587464345733, -3103.8520667715143, -3103.840422247014, -3099.7496676411897, -246.405168012722, -245.1182143769008, -3093.7004891024385, -242.9519895685796, -3090.5022410401866, nan, nan, nan, nan, nan, nan, nan, nan, nan, nan, -239.13285731023709, -3087.0808109536224, nan, nan, nan, nan, nan, nan, nan, nan, nan, nan, -233.63472141416852, nan, nan, -231.1092431825352, -3079.8313793413176, -3076.974561668217, -3076.9313344557318, -225.4190539148992, -120.3528823152097, -223.4066952254204, -220.0417032908724, nan, nan, nan, nan, nan, nan, nan, nan, nan, nan, -288.3850906296757, -215.81253531318245, -1099.09439643127, -3052.783087514091, -3051.244320861733, -3049.189053711448, -199.4046053637164, -196.73477529439944, nan, -3045.588245941762, nan, nan, nan, nan, -3044.2955596022216, nan, nan, nan, -3042.081840448976, -191.92427860188647, -3034.837032633493, -3032.657475085028, -3028.2326624577795, -167.88681470584626, -3013.8958924504564, -157.98168408028934, -3000.144276022645, -3000.270035151408, -142.69158175273398, -2991.121480575113, -2990.024966576029, -598.9375733437919, -2989.6964371998088, -2989.7738833466897, -2984.4176339316523, -2981.337050217376, -2978.945004838955, -2972.9969818817167, -2969.117130500444, -2965.6463133712928, -2965.269443109469, -111.71851692722404, -2960.3688479193256, -2953.7500652225604, -2953.151947577933, -2952.854123748915, -508.575444429334, -2949.422637238689, -506.2445258913919, -2947.475067045081, -2945.05131489704, -2942.2239258542863, -2942.495252979193, -499.7172961097128, -2940.1356772770155, -494.0287940946743, -2936.8758645885277, -2935.2679954133323, -489.4508335077932, -2925.10102061556, -2923.390071777432, -480.71838756046026, -2922.512068601341, -2918.295327495785, -472.71529485298896, -469.4891372227227, -2911.9136696932287, -2904.7304659214183, -2903.544561808792, -906.5194461676692, -2896.1961896364787, -2895.171564743426, -2888.5517238004663, -2882.644427927334, -438.82814308291535, -2880.019707969322, -2879.419304563716, -2877.3113779673326, -2874.641081920948, -2874.557911009693, -431.1137609283193, -2873.167975574515, -2870.406526098686, -2870.58170753472, -2869.381395529153, -2868.2239447752067, -2868.534439410812, -2863.976018572737, -2860.222115431788, -2857.7709737955824, -2854.301160906885, -2854.970656606992, -2852.607074914625, -2850.0608594640503, -2849.151765844566, -403.5028256079274, -2844.421758963564, -2843.6244611558045, -2841.418565580588, -2840.5182132562163, -2840.669063194396, -2840.7297429161167, -2838.0117476662267, -2836.111607633585, -2835.6049745939085, -392.35912873532624, -386.20074930069467, -2828.701927984344, -2828.177659153745, -385.00987745831634, -385.666530576356, -2827.277590294783, -2826.683242799563, -2826.176623851899, -383.5037924823243, -382.95024029550376, -381.311169505672, -381.25906326021294, -2819.272210238339, nan, nan, nan, nan, nan, nan, nan, nan, nan, nan, -2805.6174542307613, -355.88060280206963, -2797.507333365747, -2796.0960297667875, -353.9484153784958, -352.58809426624765, -350.44731186443613, -2790.3571002292388, -2785.450006696406, -2783.1055152534004, -340.8503414285039, -339.1537703725732, -2774.967393379356, -2766.243884238525, -2764.413357681505, -321.8469431813207, -2761.77853720514, -2761.011338805834, -2756.5795837492547, -2754.8493974439257, -2748.078456971723, -2747.9790826174662, -2744.700043008353, -2744.7102676499776, -2742.052310808412, -2739.029146801227, -2737.490829204849, -2735.6055641073103, -2735.379446659817, -2734.359017010265, -2732.158391066357, -287.92187705868645, -285.2498406827778, -2725.807065328066, -2724.889726035953, -2723.840285538408, -274.7303262993352, -705.1835296090994, -268.966774245822, -2709.329975140899, -2707.0806823811176, -263.29424139310294, -2704.400448104239, -2701.4980472411785, -2701.985633402182, -257.6223895869404, -2699.5363132298457, -2697.916972813269, -253.68516578402495, -243.8535251473674, -242.6892667667832, -2682.1292070282484, -237.8843990084785, -2676.265015314862, -228.69832608009136, -225.90242092726265, -2664.8558274334587, -2663.1195629460667, -211.3204848332004, -2653.02428619826, -2651.725298048895, -2651.627656811231, -1022.5242584869244, -1019.6140705451468, -204.20362642585832, -1016.7093789378793, -2644.058143000924, -1015.8716516235396, -199.48598727696088, -1012.0620196764972, -1011.3935817607304, -1011.9509038029988, -2639.860462546934, -2638.8159218358483, -1008.784193293142, -2636.0905174957184, -2635.014311668517, -1006.4456793190908, -2633.221362650165, nan, nan, nan, nan, nan, nan, nan, nan, nan, nan, -999.09585772096, -2627.4920599591837, -183.1333946875472, -997.7051152841228, -996.7006157694392, -993.3870026300716, -2621.9035454603304, -178.47000281909249, -992.9027529575066, -178.20939562817847, -2616.725738372815, -2615.1484085591087, -2614.6732518506665, -984.5368455266104, -2612.575716063347, -2611.5512982325595, -168.04345054564482, -980.8063405812696, -2608.6914660779235, -2608.7202052250227, -974.6941882707266, -2602.0857644325, -2599.0837955444745, -2599.872177135912, -969.3997848798696, -968.7181233802636, -2595.7778323139805, -964.9056848832148, -964.211294297094, -963.2607489789076, -2591.5801485165352, -962.1152331392874, -148.86010339781177, -2587.251601218982, -957.9606316531368, -2584.6073355918684, -2582.927268062636, -950.406983327253, -2576.74086226174, -2574.886736441323, -131.55001454689744, -2573.90744080162, -2571.577634955785, -2567.344673523097, -937.9525062543468, -937.8547209953282, -2562.033213857952, -2561.972172549425, -118.46374780981176, -2559.9358575242763, -2557.748501049827, -2555.899952515046, -926.7689027615376, -926.879044339708, -2552.079135629939, -2552.623354977262, -922.4822379166504, -2550.90853497896, -2547.442796230152, -918.0559560072976, -916.8418747829052, -2544.800897452458, -915.443992812599, -2543.7674193816524, -914.7712503938434, -2540.147802665069, -2540.825432814903, -2539.534295095165, -2539.9525558886376, -2539.5027942111788, -2538.0453262964943, -2537.104317414261, -2537.774980826294, -905.3273760710832, -902.9857065640896, -2529.525069300536, -899.7204267971971, -2527.341178996488, -2524.228951229635, -2523.847898226973, -2523.028744009916, -2522.708658448009, -2521.259445232937, -829.632219235511, -2516.4272139580803, -886.4464640127586, -2514.3219208648857, -880.1007180565463, -2506.109769132317, -877.8097097824008, -2505.776305999921, -877.6474187514337, -2504.717802196377, -875.5740262504856, -2503.498554591813, -2502.8917978265904, -870.8763974353511, -2498.689710960243, -2495.750093633796, -866.4108944973046, -865.0666312090121, -865.8658634381624, -2493.700568817026, -863.1436230756059, -2489.817634178185, -2488.228125656356, -859.7430116380307, -856.210895931306, -2483.577182781278, -854.5611823763171, -2481.398177647188, -843.2476711780797, -2471.5485518184228, -2468.784738414269, -839.9167375594203, -837.6106694337192, -836.3898478704792, -836.1331362776233, -2463.092356713483, -829.6256816097881, -2456.527339272539, -2456.6901726438477, -2455.2223350118197, -2454.0637956386013, -2450.882587311536, -2449.028686513009, -2445.0129753628203, -815.2993912615035, -2442.806352839905, -2442.9273135738017, -2441.534643899087, -2439.098146224405, -810.8506308052907, -2438.4212808784555, -2438.311066045649, -2437.747504530212, -2435.408800545288, -2434.883580662761, -804.8695857997296, -2432.571004438981, -2431.0481364632283, -2430.1922404832835, -2430.103958641062, -2430.493558916752, -800.7045067291434, -800.4246719576582, -2427.869664690153, -2427.8460586302003, -796.9836359385132, -2424.809748937992, -2421.051638869794, -791.0436201122135, -2416.7471215066357, -786.9756651448439, -785.1051769722905, -2411.5253843148307, -780.474829768125, -779.1650013260893, -779.2570286796214, -779.2284491479346, -2406.3817520038897, -2406.165280497052, -777.5652268133832, -777.6936774024413, -776.4256688885504, -2404.645709294809, -775.8401612546965, -773.0673844223799, -2401.265717760088, -2401.491285826363, -2400.5356558018025, -771.560168621732, -2399.38046417356, -769.2241172749597, -769.2035496567038, -2397.980188252955, -2397.8624684249803, -2396.6648243428804, -2395.073166469819, -2392.4835002975465, -2392.90709151514, -2390.927414948688, -2390.5436494009514, -2390.1337997785045, -2389.113830767546, -2389.281012551515, -760.0542044704231, -2388.5177668906194, -2386.600221488168, -2385.358043088401, -2384.2155409319435, -754.8324563135808, -2382.496567273925, -2380.815884044928, -750.6871899281138, -2376.7593564803915, -2375.863536881208, -743.5938355316299, -2371.6878137042763, -743.8304774376699, -2370.6475810743336, -2369.914285456081, -2367.5031568102672, -2367.6397615128312, nan, nan, nan, nan, nan, nan, nan, nan, nan, nan, -2365.544547525398, -736.10130031743, -735.6382414680335, -2362.925092561481, -733.3408160785417, -2361.331552760433, -2360.4115014368795, -731.9990153647083, -2357.4197165115343, -728.9329402930922, -728.156293509384, -724.9652968465413, -719.8284737731861, -715.1576825151529, -2341.9567030113426, -711.4053028231207, -2337.3365838351488, -704.9185409140315, -704.9122556149956, -2332.428466965826, -2331.3344843602567, -2330.447656062968, -701.7046841315292, -2329.600161584099, -699.1853587198817, -696.4068253486745, -695.9399844998585, -695.5705313296181, -2323.345626409278, -2322.774991357744, -2318.663697306734, -688.1805153101501, -687.6199709542321, -2314.031292976489, -685.5659938226669, -681.4464385525822, -680.6822600097672, -2308.452060511077, -2306.171209474201, -2304.25005415897, -2300.117386710022, -671.1696007016686, -2299.992303085344, -667.7374375827618, -2292.9015646611656, -2291.9993090963667, -2291.0452018913616, -2291.6036063049028, -2290.092670706808, -2290.7749347979675, -254.6195980404506, -2287.210340343719, -251.201359407684, -653.1895974615087, -2280.725467617974, -650.0584138423998, -2277.897532336699, -648.8109887944189, -647.8165496979033, -647.5828655531274, -2271.378913069691, -642.6125895336223, -642.9483712509242, -641.3616956006532, -2269.310012807389, -2268.929866935106, -2267.408538577852, -637.6844565106563, -2265.061182250863, -227.6401956991473, -630.7239751290923, -2257.799963371084, -221.6098417699583, -221.55883123083973, -628.3439581632116, -627.1857698567652, -626.5212935153028, -2254.4311298432763, -624.3847871238082, -2252.363229653319, -2246.727117712822, -617.5919956465383, -616.7898726763848, -615.2389207671928, -2239.7973005631607, -201.22075861491672, -2236.3515710035986, -2235.65274795926, -2235.141800463776, -199.5959195174352, -199.54227048104863, -2234.091595385516, -605.7595670034985, -2233.1518374493785, -2233.7713880271253, -2231.2971379613496, -2230.586564155597, -601.2776345821127, -2229.6986947026157, -2229.5656453834595, -600.1764022153908, -2225.8716254786245, -2225.8152133163835, -188.7996570695456, -2223.0045960635466, -2220.5219170347004, -590.5528427746409, -2217.729516398012, -2217.7127973264774, -587.8140795973337, -2215.7957509732128, -2214.5765176380605, -2214.28257992546, -585.5549657852058, -580.9525291083061, -2207.682658615658, -578.1670515786406, -577.9248493978172, -2204.7503102720307, -2204.0557317141224, -575.1544414357228, -575.1569360365535, -574.0780765408923, -2202.767384742819, -2202.3844255977124, -573.2611312140249, -2201.0673512944136, -573.6324650525218, -572.5472864875952, -2194.207271270828, -2194.470501228366, -2191.261971300473, -2191.485194590972, -2190.4888523241857, -561.2494209208777, -561.9225118380597, -558.0356785029177, -2186.1682721506345, -2186.1505247677264, -556.3052020776828, -556.9929222566003, -554.8018911352916, -2180.412650408854, -2179.9029282418883, -548.1803925386936, -2176.595723651613, -435.8026113856322, -546.742173773047, -545.2975868112404, -544.1656824219605, -2171.8316494876085, -538.7395160921711, -536.0550478643505, -2164.1698143013377, -535.9280366566924, -532.1865230613454, -531.1483818639514, -530.0644797821457, -2157.7790650734746, -594.7243215509643, -526.9493528569361, -524.3637202838978, -523.9945022598673, -522.4449492372693, -2150.7014071981625, -2146.837532973444, -2146.7199539565604, -2143.1655056935338, -2142.3941701711005, -2142.4656582563325, -512.9410633382664, -512.5096016476633, -2137.1204117741377, -508.7090190703253, -2132.792201455138, -2130.4179771769227, -2130.333011146558, -2127.3772295194717, -2125.8238552925463, -492.50091917816064, -492.04678651949655, -490.4691357203279, -2110.711160754741, -2109.314690632105, -2108.529344046648, -2103.4102920979053, -2102.634114500766, -473.5352193519426, -2100.2932490744784, -2100.473216512993, -2098.6262962257147, -469.2281880254592, -2096.530359794336, -2095.0252832165093, -2094.4139012316678, -2090.8687055441, -461.2179480552037, -2087.2379030237275, -2086.1872204790448, -2086.501856449407, -2084.330014613451, -2084.68312175908, -2083.934423378985, -454.2594438595585, -454.9404312213079, -452.5636400003492, -451.31711022968886, -2079.6955120705893, -449.5455327381093, -449.9513795175932, -2077.744454052548, -447.1851981425858, -2074.586528799636, nan, nan, nan, nan, nan, nan, nan, nan, nan, nan, -2072.296838027008, -445.9193369962046, -2070.709588684383, -2070.3315049426324, -440.311121798764, -437.0036214080516, -435.5098925943345, -435.99604451948255, -2059.272523064635, -2059.638898946381, -2059.601931196808, -428.8752172500168, -2051.4658510355653, -2051.3095464681987, -2051.793434178265, -2049.211575996865, -420.13238191336825, -2047.9307163054468, -2047.1383238124267, -418.9882716518183, -417.07099224066735, -416.2130422774368, -2042.3414485626831, -413.0118057309661, -410.1232917878075, -2038.1321559381663, -409.7253466582712, -409.2001486576952, -408.69734907746863, -2036.3074906500583, -2036.716151561804, -2029.1366935961264, -2026.8357917940316, -397.0442557702314, -397.3508150538506, -396.1120183439849, -2022.7505118985423, -2022.1517379992415, -2021.691681643049, -2017.8321694681304, -388.8794909868153, -2013.992186918365, -2012.6042490407103, -2008.8598143143877, -2008.1829609673837, -377.5932582032252, -2000.6288441808315, -368.01322338649663, -1996.732855437927, -1994.0273854259844, -1994.5750079999848, -365.3066099649237, -365.7511059424884, -363.40390375804384, -1988.27098829558, -1986.8085258488004, -1982.3095651221515, -1978.8720772337488, -1976.4630492868905, -344.7288025750637, -343.5962336492172, -1971.6663390596127, -1968.2615120146725, -1967.546598036904, -1964.7444973645647, -1962.62177049736, -1960.26285280798, -1956.28425792985, -1955.8282750869016, -326.6052685266292, -324.03944129589365, -120.75640221170865, -1951.140830123813, -320.37930576840665, -319.53927694727247, -115.08715889673944, -1946.7706215441408, -1945.7372539193452, -1945.5596126253035, -1943.645755484356, -313.7622804954532, -1935.4022510749105, -1934.408891271621, -1934.1832182607736, -1933.9465310679384, -1932.11045638928, -98.9554103382808, -301.10828100628135, -296.7978673029662, -296.9654611912971, -294.8276944907135, -291.32253908288806, -1916.4489317157145, -285.6756431566224, -1912.6526781783864, -281.0842917430924, -1904.180623696387, -1903.6755347605008, -706.5778993333624, nan, nan, nan, nan, nan, nan, -1899.800109448906, nan, nan, nan, -1894.806514118654, -1892.4069327428383, -260.6387438112848, -1888.3063080996649, -259.62233308366706, -1887.420242337475, -1884.1109023944623, -1883.7012476903487, -1882.9327865173395, -1881.8667405272968, -1880.213066425436, -1879.864440260813, -1878.556359440861, -1877.9580448089887, -1872.663186426345, -1872.264947953046, -243.2716192805725, -1870.746611966833, -1870.1321785155956, -1862.728394788644, -1862.143733465296, -1862.917253993262, -232.67956574327184, -226.02225371928, -222.67845660791284, -1849.1756843872167, -1846.4098648344311, -1845.873291601592, -215.38385331514985, nan, nan, nan, nan, nan, nan, nan, nan, nan, -1842.406049114688, -1838.599161714617, -1838.1666142218287, -208.9450043334033, -1835.865867756856, -1834.227069043452, -1832.6974399281912, -1830.8105590025184, -1830.845558443301, -200.8047839637053, -1825.61848313178, -194.90842365687752, -1815.5037592033327, -183.84836788954783, -1811.5753684358783, -182.02181285701192, -1807.1022087354845, -1805.2110842818452, -1804.0832946532369, -172.25825339691949, -1793.7178512767782, -1791.3744449022029, -159.83782896333798, -1779.0709104573502, -1777.8115963562427, -1777.1047707768862, -1776.4511612675938, -1776.5900381331298, -1775.667402284083, -1774.9922966837107, -1771.0202104126397, -1767.113958621328, -1765.5573866944574, -1763.1180943426348, -134.95908456228028, -134.2479268885578, -1760.8878456218931, -1759.0380334153665, -1759.682913023334, -1759.7913036523728, -1758.8847449985, -1758.2789285192698, -1756.480379863738, -1755.5990306250965, -1748.001959491217, -118.50752916972272, -117.34220569399952, -1745.690138390251, -1741.7999636272157, -1740.367777802448, -1739.4300661374905, -1738.5462270682197, -1738.2945613120496, -1737.664018936924, -1736.7571147016674, -1734.7410117276208, -1733.3646815304069, -1729.451733459549, -1727.5110570855718, -1720.889266969834, -1720.0762972749503, -1719.9342261530542, -1719.801899511825, nan, nan, nan, nan, nan, nan, nan, nan, nan, nan, -1717.6530216322967, -1715.7403719280842, -1710.970984762212, -1710.1403339177082, -1709.5832631983717, -1709.1582647143928, -1707.7833241437943, -1704.4242714064053, -1700.0524189085004, -1699.7022739850431, -1698.3291838995733, -1698.85846914256, -1698.4213544809204, -1695.8899329689025, -1694.1285680808155, -1692.8139250844538, -1687.3720928386988, -1681.6645489757752, -1680.5578748101666, -1680.3980434891214, nan, nan, nan, nan, nan, nan, nan, nan, nan, nan, -1667.140838720055, -1666.8149634103952, -1661.822252069061, -1660.7867346574326, -1659.2562477496826, -1657.6689247439786, -1656.5768676866296, -1655.8328842940423, -1652.0997378404113, -1649.3311040526364, -1645.7068591101356, -1645.8255718098185, -1645.463049152418, -1644.960250575146, -1643.1440944130295, -1642.451306873781, -1640.0537280503354, -1640.5347789230068, -1639.6437963123913, -1636.5338940539782, -1636.4820761791211, 395651.5087522039, -1635.945258108089, -1630.3454789923649, -1629.110558620319, -1629.3284618240918, -1627.9585935090686, -1627.8429371227826, -1625.6229416223791, -1621.3393679053129, -1621.302793250597, -1616.4794026466657, -1613.0304115857066, -1609.3478031329064, -1607.8003680241486, -1604.2641547956769, -1598.6641811394452, -1594.0904617542997, -1593.0209942061151, -644.4270499598169, -1589.4409678269617, -806.6327754307804, -1586.8926691216816, -2393.978447954991, -1584.349426149743, -1583.7589877586065, -1581.687050645492, -1581.5515089437972, -1580.4824807895652, -1579.88745121716, -1579.483875549016, -1577.48555805127, -1575.1740548546145, -1575.8699427521565, -1575.3235775718508, -1571.8713962622437, -1571.6641759754834, -1570.549559043356, -314.70129572179576, -1567.6814088000297, -1566.2146238122946, -1559.5263916423096, -1557.0311700659872, -1556.249906163766, -1555.901114629712, -1554.0635083017455, -1551.5194239076804, -1547.9112729236635, -1547.3822226779334, -1541.2329603895373, -116.42845887230406, -1538.7723137398184, -1534.3715095188031, -1534.6462907271084, -1532.7537492063034, -1531.360567869558, -1531.872782921227, -1528.6945513421665, -1526.7865926939571, -1526.1155347350336, -1523.8671558296278, -1523.4660377244886, -1522.3488122181948, -1520.5640141128729, -1520.0121253810971, -1518.4831688388235, -1515.8355300973649, -1513.1790616556368, nan, nan, nan, nan, nan, nan, nan, nan, nan, nan, -1505.0264212409506, -1500.4232262372147, -1499.796757927073, -1499.887927279245, -1498.3728781266122, -1498.5952595622052, -1497.1987539039487, -1497.2876409032938, -1493.6261931827771, -1493.7456005181753, -1491.1745794743033, -1489.2815578991845, -1486.8742720899331, -1481.5755611597283, -1481.557599896572, -1481.5617548464447, -1481.2761428816516, -1479.6627459532751, -1479.1526158560114, -255.95075573791345, -254.03786701595945, -1475.697490068114, -1474.5178214135935, -1473.0411151684998, -1472.5832617939136, -1469.792073888902, -1466.3593973182592, -1465.6380036325895, -1464.7790055739292, -1462.588359817651, -239.4701198049339, -1460.2507095735232, -1460.3378742601285, -1459.5094925668286, -1459.4034228906326, -1458.194455263861, -291.0591283960821, -1453.3587068878128, -1452.1973601613386, -1446.9185884605463, -1446.3261125391778, -223.8772611649807, -1442.6798024301856, -1442.9097298329175, -1441.5463146557463, -1441.8370996641547, -1440.5722016098985, -1436.703940923942, -1435.8117561387949, -1434.28130487097, nan, nan, nan, nan, nan, nan, nan, nan, nan, -1432.0968632359177, -1431.3296896444094, -1430.43677917402, -1429.0753632090305, -1425.6138973089396, -1425.3341444571884, -1424.920668017006, -201.34726242633096, -200.10118759151428, -197.58222280060963, -1418.1060653474792, -1415.6997184928491, -1412.1497948356605, -1411.0803347586184, -1409.0017543868375, -1407.34070124647, -184.5568808816357, -1403.6916504170235, -1403.0808299019186, -1402.2690942610875, -1399.832621752004, -1398.4347857515618, -176.21668833712155, -1397.8638904140948, -176.48198276236744, -1397.9958328019034, -1396.065395215855, -1395.342685504958, -1390.2769269837586, -1387.16090676888, -162.57719212438732, -1382.864823354735, -1380.4802854130808, -1376.5431757236106, -1375.2249350042816, -1373.5020490068468, -1372.0688054821726, -1371.207222467517, -1370.0193799137282, -1370.2026654300494, -1368.2402581402926, -137.6346797125776, -1354.7931567705905, -1354.4912581036328, -1352.595933120239, -1352.6102960921048, -1352.3179068855802, -1350.29208801692, -1349.8634768219922, -128.31724101638665, -1347.531264448245, -873.374477663534, -1343.9139102522472, -1342.6460182142614, -1342.5827353004129, -119.26473777735973, -1338.3697482757775, -1335.6884474920766, -1334.7244755580627, -1330.2834306360014, -1330.4390797194278, -1329.2549902888636, -1329.4164897190817, -1328.4538288558665, -1328.222826376386, -1325.029391293339, -1325.3149934534026, -1325.2024821806094, -1323.4761969953156, -1321.461098213685, -1320.5572836922306, -505.3194119737578, -1318.318962697274, -1318.896326102787, -1312.3344771962743, -1311.46487211657, -1311.588334693111, -495.5779606578813, -1308.144972608517, -1307.7695508749125, -1304.139397097611, -1303.2558126054678, -1302.1514698200294, -1301.5907413789423, -1300.2937960420163, -1299.180120527924, -1296.1473742595622, -1295.9333481331846, -479.10416836151086, -479.1908421138083, -476.8116592148413, -1289.8318046809777, -1288.4441520991218, -473.3614033189256, -472.64012770922415, -471.2046691786723, -1285.1692068540792, -1284.1161838545736, -467.34671995802233, -1280.8682186027468, -465.45073947340967, -1279.4943938848369, -1279.690364196314, -462.1796486609797, -1274.5928518969172, -1271.2150033367902, -455.8905320699719, -454.4408675775208, -453.6915136039693, -1267.6268907619592, -1267.816424641263, -1265.1177647129548, -1264.873863222299, -1261.4092696484709, -1258.9334187510044, -1258.5292559164004, -444.2853647779535, -443.2362807770692, -1257.7828410262332, -1254.5936138300708, -1248.0582751767756, -1247.199649066442, -1246.6198752069463, -431.83656456088426, -431.5232433148445, -1245.8818852927848, -430.78512520213513, -1241.0447467336066, -1239.6871342849877, -1238.0080974716798, -423.65061585915606, -1237.228326273685, -1236.4658660679574, -1234.0225836642344, -1233.141738381271, -1232.4763097510545, -1231.3332463212423, -1229.3334016012282, -1228.3160163025946, -1225.0341451320724, -410.24029979698713, -1223.8312425564104, -1222.9714271747175, -1219.2176289718695, -1215.7532983401793, -1214.405271046469, -399.0752341036055, -1210.5255254632734, -1210.4656210037897, -1209.122624951376, -1208.366202756511, -567.8966118574426, -1206.8471513998352, -1204.6041209961709, -389.6069301576495, -1203.7677826235354, -1203.5068186610456, -1202.096383423897, -1200.2941515260077, -1198.1812283590948, -1197.7412055392865, -728.5412365224129, -1197.1768530446493, -1196.895695416733, -1195.6215163440042, -1193.3374471058064, -1191.5922565577598, -1190.0176098814895, -1185.8400650444505, -368.0013661087683, -1182.9494926434213, -1175.774746661154, -1173.168301686606, -1172.6276584237253, -1172.2426156530305, -356.5226456191918, -1169.1419544720443, -354.4635748183751, -1168.4946282826545, -1168.2537007634196, -1168.042186135444, -1167.1464381930796, -1166.395654304933, -1164.820202552722, -350.72712820082194, -1164.3445632977468, -1160.3542260012723, -1160.4869112796382, -1159.1709276423203, -344.55906401710814, -1157.4084729448691, -1156.0416273081169, -341.4000923571344, -1154.8874850711777, -1154.3638799203704, -337.95706448334164, -1151.336109800171, -336.738027536057, -1149.6506303245328, -1148.0935215223012, -1147.0598479486357, -1146.2868516749163, -1143.4203557991818, -1140.5247783265, -1140.7190031115892, -385.3422670941546, -1136.2616653795735, -1134.6367193304882, -1134.8696932227645, -318.44605566258684, -1131.3490461248052, -1130.1967759585582, -1129.6137211817309, -1127.808854620434, -1127.3772588885836, -1124.6196275006782, -1124.806311721351, -1122.156485135432, -306.6867527314785, -1120.3740959312668, -1120.754773748818, -305.5406647260475, -1117.2678687929415, -1114.955316812447, -297.0802601317351, -1111.3111493686497, -296.5626681084064, -1109.8645104036054, -294.84440481683447, -1107.7474377481517, -289.2571866655704, -1103.4956978017576, -289.74600987716764, -1101.6075522066562, -1100.6618193559202, -286.3778232952805, -1097.2108966273804, -3150.622828063624, -1095.0567093363984, -281.84335406919087, -1094.8827487070262, -1091.471255044516, -1090.656148209791, -1090.0447593963395, -706.6293476286028, -1087.133263752928, -1083.1599585863382, -1083.7383857313866, -1079.3478485040628, -1077.418471628965, -1070.9894084790135, -1069.3707220547017, -1067.5788967261938, -1067.8282337663763, -1064.0087949203385, -1061.8358064630297, -1060.3553118609648, -1059.3752916028184, -1057.8653628608586, -242.0587422692857, -241.33056035256192, -1055.9418736260936, -1054.2136051542343, -1051.3450541540346, -1051.3045900707762, -1050.1011152635724, -1050.7999387945997, -1049.7921614101265, -1048.028923946125, nan, nan, nan, nan, nan, nan, nan, nan, nan, nan, -1044.7279101122872, -1044.5754600696469, -1043.9262011224705, -1041.840751836478, -1041.705795264675, -1041.91880233017, -1039.4517405766287, -1035.637985492774, -1034.36001693784, -1033.5489386024287, -218.2149019250151, -217.55391104013103, -1031.3039837851643, -1030.0690647127317, -1029.702347241618, -215.64200825211952, -1029.0527077024394, -1025.6652144123104, -1025.2535691949429, -1025.6081741914509, -1024.398256132477, -1024.2397469634975, -1018.41693403216, -201.5374223763152, -1013.7290800490769, -1012.7512729949626, -1011.8741863553728, -1008.3455241885144, -192.39716567130523, -1005.5147800784284, -189.80817116965733, -189.65714224757863, -185.2634155511583, -179.2690514815909, -178.09172938316402, -176.0274402835417, -986.789229581294, -986.9273159053496, -986.3361625514276, -982.2414508947818, nan, nan, nan, nan, nan, nan, nan, nan, nan, nan, -980.0930360233428, -978.027107709258, -973.4844060410664, -155.99006004737709, -968.8529823607128, -966.3962217417024, -151.58194504748604, -960.095747020348, -145.3564700547209, -144.28285293977348, -956.2947209172376, -953.0200607650072, -945.0671100540362, -942.0924515107686, -941.0075887834496, -935.6120779908156, -935.4773600355652, -935.1387791849224, -935.6318944227291, -933.6337768292174, -932.53826823607, -932.8830537885274, -931.341947243141, -928.6338938713884, -927.5312973925752, -925.6397225440828, -921.5672638596602, -916.4288292557608, -915.0761814205084, -914.7413614100528, -909.631949142638, -903.4687428149132, -901.1392064345978, -900.0445140352945, -900.2775865786148, -899.9162501571077, -899.7297483019606, -899.2828764584897, -899.7049018164903, -897.3228055367267, -891.5054154518416, -891.4973046760547, -889.6946741765346, -888.3718254375467, -887.8795367795205, -886.2531271001967, -882.3820599519072, -882.0977322308531, -882.6996138101363, -882.0683370498587, -879.4778948573744, -879.7317144088843, -876.5811910369789, -338.12780844249755, -873.6831787169317, -873.2714108431405, -865.0029683180505, -861.7257959469293, -853.6232685883874, -853.5026887065919, nan, nan, nan, nan, nan, nan, nan, nan, nan, nan, -847.4017225782586, -840.0574070211819, -839.7100936262773, -834.1545977675792, -832.6534472181315, nan, nan, nan, nan, nan, -828.8640933584952, -828.9818186658918, nan, nan, nan, -826.3896450446314, -826.8403732170059, -825.6130773491327, -823.8483288731691, -812.2092320443912, -812.8831938351955, -792.126766988858, -785.6547538970003, -783.6792234685777, -776.6322516055693, -769.717438183266, -768.1461027064647, -767.3949135779126, -754.8701061079205, -744.2906312119244, -744.0162668813696, -743.251359801186, -743.6435478105118, -738.8948790536374, -729.5965973672569, -729.8167589307263, -728.5053151115712, -724.7727466273532, -724.4875881961066, -724.494559872493, -723.9914024216628, -717.3426056335243, -717.0942040338191, -106.15525153334788, -712.9369655385394, -708.1442600813202, -708.9929017290865, -706.1712094258432, -703.2435102199611, -700.3144988906765, -697.1419482201759, -696.3178134375571, -696.8697669930511, -695.9689513241333, -695.169605194345, -690.0449506021664, -689.0418634610282, -687.3845518176145, -684.5865926778092, -679.9474097536272, nan, nan, nan, nan, nan, nan, nan, nan, nan, nan, -670.1132921467884, -669.0331417910379, -668.5245384810655, -666.1152051597833, -665.5537571482269, -662.0580544368836, -253.2665215439488, -658.5066040983852, -242.1951476915788, -648.5873218447173, -648.937313287202, -644.3595221652336, -644.2820358426629, -643.8193480984278, -231.3877450689711, -638.097804271712, -636.9844916396282, -635.6438048861833, -633.4060860863351, -632.0082511570013, -223.6397146432669, -626.937136955024, -624.5966307009162, -216.15096815366317, -620.3174754520182, nan, nan, nan, nan, nan, nan, nan, nan, nan, nan, -613.7495574524396, -612.8351742451355, -205.72480792642503, -606.7639264659242, -600.3742012912494, -595.5592066269905, -591.3286136068505, -591.1960293664538, -183.57086323439265, -586.5623465851218, -578.9836791242428, -171.4239255664311, -578.6752529361434, -571.5515214338698, -566.2793653775966, -153.01981675056825, -153.0263905983143, -3490.267231940749, -150.0308448815072, -557.9872151903523, -148.93932046182502, -761.2104850220858, -539.4214842833621, -539.9543787903781, -535.3307904754597, -530.1073475065509, -526.4115820841157, -522.0449840500419, -520.6492281204387, -517.4187112194627, -516.8655768957974, -516.2472395314703, -514.1249048913082, -427.84304413052087, -503.9695161430095, -490.05692210332336, -489.22791493183786, -488.6196420852716, -479.4787728457991, -473.00014632034936, -472.40768893134873, -463.584600391157, -446.1752569674768, -446.0770657086118, -440.2562171155946, -438.214467616875, -429.4484412529232, -428.7654280828515, -415.11887984042505, -683.0561466690311, -387.31757897099806, -386.19338097571335, -382.8752536387233, -382.3678243981717, -379.8687566816584, -377.22658299020577, -341.49909553960015, -340.4248930428125, -329.67272587726575, -326.0110907650701, -316.5002236543055, -107.43472707786624, nan, nan, nan, nan, nan, nan, nan, nan, nan, nan, -300.1590263223493, -300.9894160438648, -292.4533648941683, -290.2377523430928, -289.0059396125048, -272.9813850334044, -231.00005137072503, -228.38648374274044, -225.1617500909756, -203.8088012067342, -193.5301474259427, -689.3165756907329, -188.34824771331432, -176.41874730996597, -152.64830153955108, -150.18763891393928, -146.61072201869638, -144.46700949776414, nan, nan, nan, nan, nan, nan, nan, nan, nan, nan, nan, nan, nan, nan, nan, nan, nan, nan, nan, nan, -996.8570127744788, -126.31149400632692, -125.57979481630927, -124.16565829544736, -123.99196276288636, -126.96261508813824, -126.86964529016056, -120.3844552817694, -120.10258809985486, -118.95658178885598, -117.86112356884216, -118.1624831037348, -115.5043780172209, -114.51977650427555, -120.39525704526982, -112.63268388457656, -111.13939896974578, -110.93023217605058, -109.89501206123025, -110.3902648412262, -111.71589801065709, -110.55449655822592, -109.34965442507256, -108.49730645567529, -103.5986025770868, -107.0604341725812, -101.53061751090506, -100.11597850058102, -100.83464844308251, -99.915860723492, -98.40958812069049, -96.33337285985117, -95.09566380809922, -95.97095690477032, -94.10233686775597, -96.837578582695, -97.0866947549881, -98.31216168444011, -97.64343059641344, -90.90763306190892, -87.9759189019844, -85.29944871036041, -83.67070938979354, -82.5269559600968, -79.09935516760508, -75.14877255155419, -75.8974029174435, -73.98989065754823, -70.09170994128691, -62.79627506554634, -58.27648071486708, -55.838005521394265, -51.49688495716076, -39.95417043834918, -34.701044500282805, nan, nan, nan, nan, nan, nan, nan, nan, nan, nan, nan, nan, nan, nan, nan, nan, nan, nan, nan, nan, -240.19364698903743, -219.77400367914785, -216.2621352901301, -200.18567879241752, -175.3581046770491, nan, nan, nan, nan, nan, nan, nan, nan, nan, nan, nan, nan, nan, nan, nan, nan, nan, nan, nan, nan, -133.1793073839585, nan, nan, nan, nan, nan, nan, nan, nan, nan, nan, -489.7795940392638, -485.62054191799456, -480.2753524339418, -451.15238690987593, -445.4905057042501, nan, nan, nan, nan, nan, nan, nan, nan, nan, nan, -319.2155127342025, -1199.712025289744, -296.6658187913285, -296.1477626264545, -546.657485057287, -271.32322815256833, -212.0363708237905, nan, nan, nan, nan, nan, nan, nan, nan, nan, nan, -1012.4444869635148, -193.44449368331647, -991.8395076837872, -963.6879277223228, -956.3254764438728, -954.0671955543106, -132.1040438712784, nan, nan, nan, nan, nan, nan, nan, nan, nan, nan, -941.3923453955516, -927.4821009993096, -926.2094522361944, -916.3237369758148, -914.167360009776, -913.1481176528608, -97.05418178431268, -910.8831977490348, -883.7834692065311, -876.8431101663022, -873.643136752385, -865.777821826768, nan, nan, nan, nan, nan, nan, nan, nan, nan, nan, nan, nan, nan, nan, nan, nan, nan, nan, nan, nan, nan, nan, nan, nan, nan, nan, nan, nan, nan, nan, -847.9617377769458, -5722.678364376171, -823.3399801459503, -821.3604969831334, -815.2417571522159, -810.6111938018761, -801.5095055216783, -777.0852349503142, -754.2946041995523, nan, nan, -115.87603563546683, nan, nan, nan, nan, nan, nan, nan, -716.5618851188186, -715.4521592022078, -712.4488802982518, nan, nan, nan, nan, nan, nan, nan, nan, nan, nan, -96.9124234718892, -702.0437116352672, -699.9450466940938, -677.3766625096117, -672.5249303437316, -665.2773478976936, -663.7752011844162, -247.78398647886425, -643.1621286321546, -228.85849068935605, -635.5922686246116, -634.0899388454703, -622.4265833703315, -605.4416609657522, -197.12579914941708, -602.1200807831659, -599.3345256506594, nan, nan, nan, nan, nan, nan, nan, nan, nan, nan, -587.1258136420141, -583.4827583985601, -441.13353582743, nan, nan, nan, nan, nan, nan, nan, nan, nan, nan, -568.3487953500875, -556.3016379766171, nan, nan, nan, nan, nan, nan, nan, nan, nan, nan, -554.9948299066504, -549.6910453912818, -761.7636058724347, -598.7299678388863, -542.9684230918241, -539.6740667157586, -531.4873180928638, -518.1188707051928, -518.8228140367786, -506.5359325649582, -503.1231494720354, -502.2315919803144, -501.32920710597807, -489.53142099438026, -477.86055369823714, -477.2530100756061, -476.40323104573633, -476.5542903636682, -465.7798748635772, -449.65611347299216, -445.7804388924973, -441.71927278087, -438.5217493192316, -438.8203761902072, -429.2905784460612, -422.83908654388085, -2042.2869963197384, -683.8730106804875, -2039.5623751355536, -407.3228838443623, -400.9067668699803, -398.3021596244738, -2025.4127623500765, nan, nan, nan, nan, nan, nan, nan, nan, nan, -2024.9799720231088, -2019.714859306668, -387.51966516757545, -382.9405840980738, -2005.6220178969809, -2002.957310004221, -5252.845752061269, -1994.488301503968, -1988.228743911431, -5244.184055189503, -1980.262882059996, -1978.7819611331663, -1977.445599880811, -345.6404322497905, -344.64008852880704, -331.9257459080412, -1958.0238224278448, -1953.8718074801411, -1953.777603382033, -1945.3725202713824, -111.135431428046, -1940.1658534172104, -305.41414868713343, -305.59642715670213, -1916.6773284063795, -287.6387744110192, nan, nan, nan, nan, -1914.6003793306184, nan, nan, nan, nan, nan, -281.65581435921865, -707.5589419998323, -278.18584722812864, -5151.181690346505, -264.5135394388884, -264.2740498703164, -260.55481294751314, -260.86601970960635, -260.3119661997438, -258.55202475753447, -1881.656775030165, -1878.4839275068236, -1876.251863508932, -5127.7094813381, -238.1061123001067, -5120.877480487815, -5116.57540940952, -229.35865155305817, -1852.3040803935648, -1850.5429228995756, -1844.115585284316, -1839.903603605476, -1837.6813284903849, nan, nan, nan, nan, nan, nan, nan, nan, nan, nan, -1827.627970294515, -1820.37123703974, -1815.5486507694088, -1812.749859963263, -1812.084853902544, -1811.4810454032388, -1801.4862824182849, -1793.4221525519, -358.9540708712084, -1790.1852146032463, nan, nan, nan, nan, nan, nan, nan, nan, nan, nan, -155.21175014862945, -1783.9616030616974, -153.54877118166166, -1764.621779951972, -1763.577520275917, -1760.805987200861, -1759.4091051314456, -1754.6626528607678, -1747.045087675405, -4995.359079152834, -1737.797302968512, -1737.6292257731686, -107.15589229306477, -347.67718566422263, nan, nan, nan, nan, nan, nan, nan, nan, nan, nan, -1733.15259746971, nan, nan, -1730.9274550225048, nan, nan, nan, nan, nan, nan, nan, -4982.874405724312, -1716.7398213511472, -506.06444358346016, -1712.8867223545851, -1712.6621579367868, -1711.6708013232485, -1700.0341761259854, -1674.9948540201178, -1671.8630696517969, -1667.9679195338315, -1662.9179531733637, -1651.0326243937063, -1636.9460334569314, -1618.1084154140965, -1617.8403552782231, -1616.2194230043344, -1612.2836184264172, -1612.9724026676697, -1611.5705027263714, -1605.1821131698682, -1596.0586370783888, nan, nan, nan, nan, -1595.9786474897512, nan, nan, nan, nan, -1591.6883900090954, -4847.393294822948, -152.535285160212, -1580.6225769490295, -1574.429209228055, -1561.246792859188, -1557.2595434629504, -1556.457266420893, -1548.1626423657465, -1541.7452387709484, -113.54781526425164, -4794.916236328602, -1536.2082551132255, -4779.004693433216, -1522.9619659718494, -1521.92387439639, -1511.598181790437, -1509.9820789718935, -1505.5345614436003, -1504.1268102316565, -4757.134332554978, -1500.9286978395533, -1496.0708150968378, -1489.0810685851804, -1487.6192168756418, -1487.0260385551712, -1486.539495103328, -1482.800114930885, -1482.0979093641647, -1481.5630828608275, -1481.7427011859247, -1481.2706224114766, -1480.191192111398, -1479.1332027410074, -1478.901390100574, -246.7193700090596, -240.73500466258915, -1461.5084273784244, -1457.2166699693946, -235.51204023565728, -234.39771738736667, -1455.8263746651694, -1454.0707178978894, -1452.6983275758496, -1451.6174657799668, -1449.248551611788, -1445.4626058523438, -214.4840109414457, -1435.3492594146694, -208.07439040237145, -1425.115952563386, -202.60050760136468, -202.159241822192, -201.9311655304776, -200.81354402695283, -1421.4824085354132, -1417.653784697893, -192.3502547523261, -1412.9991899098816, -1411.2512865472302, -4666.978548086478, -187.8603801680732, -770.5959334107774, -1395.620784584445, -1394.6353265416867, -1392.660220604362, -1391.8056532466064, -1389.2103513786471, -1388.76449177395, -1388.3526641925266, -1384.0298792662009, -158.90376716195382, -1374.5931368651502, -1373.5948881744964, -4627.838680974411, -4621.408844867922, -1358.7258165649812, -1357.0507955102305, -1357.4073308020063, -1355.0691962206704, -1354.9250193113596, -1353.831132572511, nan, nan, nan, nan, nan, nan, nan, nan, nan, nan, nan, nan, nan, nan, nan, nan, nan, nan, nan, nan, -1342.0729107715026, -1340.9563476126289, -4595.317075871034, -1336.9057757606654, -1331.5132023930812, -1329.8873701089808, -1328.8915984664684, -1328.2708150631472, -1326.3960620061346, -1323.4039860215355, -1321.7926887017104, -1320.5367180829046, -1318.9040100935265, -1313.8280262121236, -425.3070264382168, -495.7563493353712, -1309.2439158145455, -1309.3190092448087, -1307.0716144727987, -1305.3828664298828, -1304.66271628881, -4560.953044296851, -486.5279124145521, nan, nan, nan, nan, nan, nan, nan, nan, nan, nan, -1294.0000932843516, -747.5495337116026, -477.3008001218871, -476.3108902228244, -474.57375302671545, -1287.9884449972153, -472.196655609768, nan, nan, nan, nan, nan, nan, nan, nan, nan, nan, -1284.426014404565, -1283.6869823796417, -1282.4861026659994, -1282.2310536307025, -467.10777691082086, -1280.8303679948924, -1275.7798707207269, -4531.09370457229, -1272.9133726532175, -1271.5909373529296, -1269.636065618671, -1265.3082269754534, -1265.408555780544, -1264.290385937394, -4518.58166810378, -447.7788712581544, -441.5666667405706, -1255.2898487989398, -434.2334192082447, -1248.0342115225951, -1245.0682179597345, -430.6540489426546, -428.36276249084887, -1242.7179405466334, -427.03482112608737, -1235.0651826128517, -1234.0672702250952, -419.6855909494764, -1232.35536649537, -1231.015502096264, -1231.7075883979153, -1231.5267890798234, -416.359461825344, -416.977615153229, nan, nan, nan, nan, nan, nan, nan, nan, nan, -411.22192134779226, -411.0459813174887, -4474.451984898752, -402.46098508377264, -4472.490255412163, -4470.1444148827295, -1212.7222752211158, -1209.2303734296868, -1207.938255436232, -1207.9056002831378, -1206.6526542187742, -1202.9831995292782, -1201.0086573743276, -4457.496575426593, -1200.6552477056005, -1198.7950598138425, -1198.3574105741147, -1197.7797382641977, -1196.1307063533743, -1194.175379039166, -4450.927075784145, -377.76278596056665, -1191.7152726994475, -1190.674814098012, -4446.108563311928, -4437.04458530656, -1173.1285939302609, -1173.2489936983432, -1171.12251947739, -1171.7490546291149, -1166.2121595538986, -4422.1182880955375, -1165.2872264898226, -343.77248824065765, -4413.772718587371, -4412.753314029475, -1154.9705527142826, -1152.4313787448875, -1152.5181759876225, -336.52557966282194, -1149.8133252209475, -1148.9292916732277, -1147.9049561603908, -1142.290654629914, -327.68591621478964, -327.94667956710083, -327.3497795068536, -326.0805047242878, -323.92073675517105, -1133.394428840301, -318.26939105323373, -4388.87027021367, -1130.1560024449748, -1129.4356217050693, -1127.7792927023231, -1124.4524992404288, -1121.2479403640857, -4377.112765539173, -305.4243942301194, -304.65120169688936, -1117.290367080269, -1116.0937186885487, -1110.033334707746, -294.700810941092, -290.9375675667264, -1102.091647955954, -1101.2615510928747, -1098.3893453779067, -4354.259658342694, -283.0246469025763, -1093.5428164884336, -274.7382610658927, -271.76586177224027, -1085.005076430872, -1085.319856821044, -269.0349492087583, -1082.769802019536, -1082.229561956615, -4338.7478283421015, -1081.8255228923456, -265.8215024558661, -262.9913123714462, -1075.7163863196831, -260.9927218209444, -1074.7907429538348, -1073.0708345225496, -1072.9965393792766, -1070.04375141698, -255.48975967006783, -1063.7227450351686, -1062.1143163348927, -1060.3138941424634, -1059.334917496429, -1058.3394745349317, -1057.9070095360105, -242.5118609716513, -1052.904120619681, -1052.6098421170711, -1050.8458303885775, -1047.9130506336744, -4300.256809238809, -1040.1896298087624, -1040.8943502171453, -1037.693867184383, -221.0441467374324, -220.92397184024895, -1033.9880508421077, -1032.5731461768803, -217.12129392712387, -1031.142547930139, -1031.9076040874072, -4287.359348541318, -1027.3204644670925, -1026.7037882348716, -1025.5496233878378, -1023.649659086793, -4279.952048999435, -1019.3195657609988, -1018.2378191259606, -203.41684856488, -1017.8053197852416, -1010.872524176971, -1004.8752911656204, -1000.6284152041892, -997.7449662236952, -995.5496521801936, -990.0534511080416, -4246.342220106352, -988.8939224889812, -984.2927724150334, -4238.186109123316, -981.822955025996, -980.7797731433632, -979.0718779986285, -4234.3403339915085, -975.7129751685218, -974.990817365978, -973.5184156058542, -969.7233956724842, -968.3089919821516, -4224.110697294563, -4222.607191239774, -965.905354409296, nan, nan, nan, nan, nan, -961.74075625314, nan, nan, nan, nan, -958.2461830162476, -142.22286156320416, -956.435551568967, -951.6214188119368, -950.1741088536576, -950.4961759241244, -947.610137140194, -944.5858270934943, 390623.2220436269, -933.2444027111007, -927.046880623596, -927.3738410128874, -4183.172614147009, -926.3949951032675, -4182.95952275951, -4182.389828924884, -4182.680549357544, -4181.950990070999, -107.95764348159656, -4175.515408578603, -916.5804090241338, -4172.204302235655, -913.5106751206524, -910.6106982023769, -902.3148220097094, -897.2188751240622, -888.4611182493875, -886.0700286704698, -883.1815903934578, -881.4546843663495, -880.3069296849055, -879.4144763210127, -879.6100660123077, -877.838401921744, -852.7028737543562, -839.1331566758356, -4093.621851322837, -4093.413677553156, -836.4224561126587, -4091.139437903076, -830.7873722817851, -829.887972016829, -825.9361669289003, -824.1107619271909, -824.0449478718085, -824.5123889910221, -824.7625412646005, -823.3132169370758, -822.4265628654132, -817.4764838570511, -817.4130371679632, -816.8435426509579, -4072.5332380800855, -812.9832322036139, -810.671214662126, -807.5542095508638, -4059.287248208767, -802.3120127041068, -794.6595233796663, -792.3818345912816, -791.0812716681751, -783.0714575285413, -782.3468253236908, -780.9043197461717, -779.0551293280507, -778.9188067265197, -775.4820667819397, -775.781182471562, -775.0879772346518, -773.1248559675835, -771.3328547682588, -771.402063157607, -769.9925217948123, -768.9025693240794, -756.642110604563, -753.3759617824883, -751.2514480333023, -748.1967875345374, -745.3526096763319, -743.5342716133503, -741.679971837036, -3996.53388102788, -737.3875299166859, -735.7652231940058, -734.7110726600688, -729.4129327233525, -729.4257528041646, -727.0358692990387, -727.2024485873619, -721.0766037652313, -717.9234318358788, -716.0937101811207, -712.1800676728592, -712.5933407448877, -705.9374334358611, -704.3447752792465, -703.4974935711755, -699.0612136526936, -699.0450171268487, -696.7345046695821, -693.3422462843712, -688.479629662964, -686.0243630433881, -681.0785980908306, -680.1992759139478, -678.5678707032978, -672.41087435128, -671.5074030223161, -671.2624084861793, -670.5910050505893, -668.9534233583447, -666.5706504774528, -665.7073104954936, -663.9905262707773, -255.94274469620385, -253.2300407156329, -250.8465017864385, -3913.762424333213, -3912.4817455773546, -641.407784170847, -640.6555446092564, -637.2100428359438, -635.7959225203642, -227.8977424432508, -632.7256621840236, -627.3758545612502, -625.0183312575075, -215.2452684043549, -622.000317473515, -620.1714613886809, -3875.489782781119, -615.7741469797413, -203.3844248693661, -201.69292955539848, -607.2966810731552, -198.37161768040303, -197.20095123179115, -603.3650391848744, -602.9099386050323, -3856.935085598162, -597.2734021772915, -596.6167244890032, -595.0507209817763, -3851.921135552636, -591.5672472269027, -589.5567717055158, -585.5635904734329, -582.8182486362923, -581.2458950545381, -580.3723082449699, -578.5476290709641, -573.7062919723314, -158.37044458466724, -565.146688183647, -564.0380225439942, -561.9034274221879, -559.6118592841096, -558.6148492513341, -151.35363946779788, -150.5965248411724, -556.165958390676, -555.5614175691746, -553.0405538933621, -553.5287351003074, -3809.8460007985095, -3809.150162492887, -552.8531140466268, -550.7259888566944, -548.3432217949824, -546.4772632138204, -3802.542253500579, -543.546055894328, -540.3380695302178, -536.7579324784285, nan, nan, nan, nan, nan, nan, nan, nan, nan, nan, -530.788328038346, -528.3949517486701, -528.6991947253912, -527.3916062346264, -525.0374191862841, -520.6007596417942, -514.3190300843155, -512.8161109278547, -512.6527558580303, -512.4766932652776, -506.2365017611512, -499.5965673777639, -495.9380057016308, -494.6562373831632, -492.1197783875389, -491.8415835743192, -3740.154284046109, -3735.096249866464, -474.0780466659228, -470.6914403420717, -468.1818062856321, -250.9699867316777, -459.6734171446817, -3709.838941460647, -450.76044295460383, -448.3221475979892, -3703.116726029736, -446.19869431307166, -444.40162767930383, -440.8167842232481, -428.5875395678588, -3682.216121806053, -425.7333650971025, -419.5786461562668, -3675.3212007734937, -3673.536847424376, -3673.6583866190113, -413.775668192736, -411.70289041249566, -3667.524508821113, -407.2540387897145, -405.0428581577137, -405.3669428854912, -404.968719177122, -731.089543248323, -395.9159804532421, -3651.807396687277, -3650.0769792932615, -392.3808514520563, -3643.449556357181, -382.62146450723344, -380.17487165763055, -3635.3943532657568, -3634.226393824084, -3627.475154445511, -365.87880516118025, -360.8841019854965, -359.1268853066897, -354.6444845880808, -3610.581954908056, -3608.5861319445257, -3606.663994212903, -349.41861259706934, -341.0785598915056, -329.27250055305126, -328.39980751166263, -3584.2690128814256, -115.12095943909004, -314.1706010021037, -309.3569818085082, -308.8743249255615, -303.4217566615473, -3557.389112820837, -300.97845621324745, -298.4925135857277, nan, nan, nan, nan, nan, nan, nan, nan, nan, nan, -291.18624019141066, -3545.630677838387, -284.388579928652, -280.4699962654988, -3530.1804929560685, -273.28994258299394, -273.07017585777544, -3529.124720409106, -3527.1623754761195, -3527.2977106508088, -3513.7088606192037, -3512.7073235953712, -247.0107479435112, -241.42642704697505, -236.70607775511712, -3489.5475909088173, -3486.09871726031, -3485.556359666788, -225.92605754844703, -531.3442599145073, -211.6613140826296, -210.3893524589323, -3463.1584703228737, nan, nan, nan, nan, nan, nan, nan, -205.8781470160859, nan, nan, -204.7456910244921, -3459.447301112942, -201.54207757830704, -3449.038183421072, -3448.669592335268, -3448.3924370951563, -3442.005103979992, -3441.9260442072527, -182.5514770765924, -180.26800543236573, -179.04666354528786, -3434.7473666972774, -3430.3752581660674, -173.1659207371697, -165.96232458110467, -3415.55765277479, -3402.0833655451306, -3401.059553116068, -3397.208031978019, -3395.358220257717, -3386.5239837866748, -128.93401083995855, -3376.486226844255, -3366.841910778593, -3354.4549020116565, nan, nan, nan, nan, -3350.8504806209485, nan, nan, nan, nan, nan, -3343.4074041821723, -3334.259327025212, -3333.784973712297, -3325.565826967176, -3322.3486283147167, -3319.4024788881243, -3317.762070541382, -3313.129897567661, nan, nan, nan, nan, nan, nan, nan, nan, nan, nan, -3301.629126994655, -3298.96798036969, -3296.059922982947, -3293.588715608971, -3288.8070498211737, -3280.191624942124, -3278.296751179717, -3278.812398083305, -3277.430864699357, -3276.7833939168604, -3275.8228411929804, -33.52066457593984, -3250.5679817931787, -650.5877964026586, -3248.8398373973278, -3241.128487360923, -2805.99963165094, -3229.9869172201043, -3229.2337473587804, -3225.3919374980896, -3225.9856482558, -3223.681004608413, -3223.188375152745, -3222.480371841416, -3221.102349055086, -3219.7848785665783, -3218.732156676867, -3212.209969636765, -3212.0286412959804, -3200.412567065089, -3197.744727476974, -3197.266132028025, -3190.2614717675706, -3190.9635858164465, -3188.7157184742364, -3186.563787565995, -3183.969911598345, -3183.400143409025, -3177.4959286835283, -3176.089267501714, -3175.9417242938207, -3173.437877790225, -3172.140383702853, -3170.037018776523, -979.3509276090224, -3163.5384726144957, -3161.539194115124, -3161.0180821630047, -3157.923499244517, -3154.7032288953224, -3153.572963394671, -3147.770837102845, -3143.9821898652435, -3138.344887084405, -3137.2478032476765, -3131.102765779381, -3130.163667921265, -3122.3161080472028, -3116.040212908644, -3114.1482148952173, -3114.0530994721003, -3109.4240300886186, -3105.390338585422, -3104.6146443798034, -253.45577284745943, -3102.703152538, -3099.5550026792744, -248.5473158386669, -243.5142865400032, -3090.0510989748955, -3088.0104508564864, -3084.211804806032, -3082.7681824885085, -3080.0071860561266, -228.5666706236045, nan, nan, nan, nan, nan, nan, nan, nan, nan, nan, -3077.4205415151746, -3074.63986567761, -222.64774940265872, -3067.0033148254743, -3067.097357678106, -3062.072995231715, -210.87980838348105, -207.92533176947856, -204.12240276252143, -3048.082750618093, -3041.89017144668, -3040.376272507553, -3033.3034329118627, -3032.042151986777, -182.2267232528777, -3031.208341097973, -3031.550767536256, -3028.6988586360176, -3026.9872949212486, -3022.694947307792, -3015.920700462774, -164.40633568206815, -161.43545518969606, -3010.6064683320647, -3005.312159594717, -3003.494099694596, -3003.941352362289, -2995.508682969653, -142.69232234579815, -2989.0205317796344, -2987.752688600237, -134.0135786398607, -2982.6398980422227, -2981.530724852829, -2980.918352271673, -2978.954843677934, -2974.2618187043654, -2970.09061905635, -2969.035931148029, -2968.8382405422917, -2967.395051052129, nan, nan, nan, nan, -2961.261827323052, nan, nan, nan, nan, nan, -2960.336533233868, -2957.3690599011725, -2954.1494046232174, -511.3775730012687, -2951.2491011391858, -2949.2779182644435, -2948.695603947209, -505.6579654763729, -2947.4398236219085, -505.8905429604558, -501.1595091073024, -500.2962122373694, -496.6164621101772, -2938.3789340270205, -493.2753281137968, -2933.1263912799905, -2929.224040903323, -2928.9658905791557, -2926.4124578575293, -2924.430797063679, -2924.715489842657, -2922.866017195539, -2921.477760443847, -2920.4671989936405, -476.2457340734774, -2912.02491949, -2911.745569419473, -2901.445065516825, -2900.527175723212, -2898.7452857142443, -2897.490378757416, -2893.915703715008, -449.2432747851428, -2890.2248308264525, -444.6134022669423, -2886.663803335946, -441.4041930253199, -441.431448987226, -2876.221697406744, -432.1244051418991, -2873.3831294758447, -2871.7207556975945, -2867.3872872425645, -2862.584925342805, -419.57780072595887, nan, nan, nan, nan, nan, nan, nan, nan, nan, nan, -2857.676846124402, -2857.541590048665, -413.0931257122167, -2855.323599380049, -2853.949410583572, -402.9747675041901, -402.1889454303484, -2842.354000796625, -399.7368939468644, -2837.979933705902, -2837.245901872019, -391.22158186776977, -2831.695495673718, -386.77611247450585, -2828.055914892532, -385.2744446301596, -2824.2091489939985, -377.3196582183402, -2819.135635751224, -2815.491875253677, -370.8202117699413, -367.75816528596914, -366.02956396777626, -2808.633986434691, -2805.4858963127544, -2798.368166752217, -2794.3297535653755, -2793.7362178562225, -349.5971339790132, -347.5267135869046, -2789.87844234758, -2785.5377282894524, -2779.814173935153, -2777.659207511929, -2776.940573020179, -2772.638531839778, -2770.0713473640526, -2765.7964630547804, -320.26081669532795, -317.428256971126, -113.210907990521, -2758.8152999390377, -2754.2175059397478, -2747.014490605671, -300.9467169197298, -2742.704845152569, -2741.735809003253, -296.25105302531955, -2737.3515523613305, -288.2757758692489, -2730.773824253628, -2728.791413161839, -2726.242767120576, -2725.9705734796325, -281.9852925499592, nan, nan, -280.5981813123464, nan, nan, nan, nan, nan, nan, nan, -2722.978259096625, -2719.82818969498, -2716.465908419127, -273.15856373498644, -2714.112649198497, -2713.540713517953, -2712.267589092641, -2708.026544204805, -2708.401860934041, -265.23495828800804, -265.8260015615535, -2707.189442617745, -2707.304144742612, -2704.187673358866, -248.16186104021943, -2689.8627792050456, -2681.297894235461, -2681.5071275461714, -238.53115709909724, nan, nan, nan, nan, nan, nan, nan, nan, nan, nan, -2669.447377920017, -225.4559296508225, nan, nan, nan, nan, nan, nan, nan, nan, nan, nan, -219.973855571324, -2661.5642911757377, -2658.845341610785, -2658.1927469329994, nan, nan, nan, nan, nan, nan, nan, nan, nan, nan, -2655.4717621916525, -2651.415965899968, -1021.0650955673092, -206.9318636999389, -1020.512525516756, -1019.0653206952476, -1018.7588226247072, -2646.1900185370223, -2644.761527625121, -1011.9621959679909, -2639.2846825153165, -2634.319216042565, -1003.5176044704305, -2631.408446058248, -187.71522241755628, -1001.0898134304708, -998.0946374910992, -2626.220292852292, -2626.9862567840783, -2624.6341131862346, -2622.7998990230635, -2622.968858721678, -178.9383462889793, -992.2703035148307, -2619.03863961576, nan, nan, nan, nan, nan, nan, nan, nan, nan, nan, -172.1519548913122, -986.9323830006844, -2613.3418798030825, -2612.422847889681, -2612.2766141636976, -2611.0006989266267, -2610.814486396629, -2609.134287097527, -2609.841014878458, -978.9681942852832, -2605.748170763408, -2605.841951444464, -975.5080370441748, -2603.5009451401465, -156.20943563510372, -2598.9811286750746, -967.774992068392, -2595.0486646521304, -2595.048915906943, -967.2996744169296, -2593.8506786921344, -149.30320558138482, -2589.3151842099205, -959.5758757250252, -2587.872026417398, -958.261048105208, nan, nan, nan, nan, nan, nan, nan, nan, nan, nan, -2585.402858170127, -2585.302237078068, -955.9078679218647, -2583.267149390681, -2580.789482094976, -2579.627525957577, -948.225743248334, -946.3235446738428, -946.869481743509, -2572.053172717263, -2572.0415508134547, -943.7500314976688, -942.805865723668, -2567.926000484372, -2565.976861094471, -934.6548535237536, -932.2773783542935, -932.5607856366524, -2560.879963699005, -930.3230750008908, -927.60992577014, -921.3327046624428, -2549.7371596500807, -2544.6516619013664, -2543.470359480404, -913.489034315454, -2540.6492510056023, -2539.726923231451, -2538.409260471245, -2538.4055220421624, -2537.5174914544777, -908.4594438657724, -2536.2882113926944, -2535.481895685357, -2534.2407776036607, -902.5003699877371, -900.5400584987848, -2528.0858246745747, -2528.613406508598, -899.7468321056523, -898.8105991808853, -897.5819352194331, -2525.075896443178, -2525.208715736605, -2523.995618890788, -2521.934228530773, -891.3708732622391, -2518.1688998809195, -2518.566445449441, -2516.03003890988, -2516.401265945281, -887.4701559662, -887.0787332521405, -886.0806006674421, -2514.5453591125925, -2514.8641236329668, -885.3980663417143, -884.1701705083043, -884.1381769493811, -882.571578965829, -2510.694486043415, -880.493666562471, -869.2109521005033, -2492.920258879033, -2491.1589820027266, -862.4431206325854, -2490.4341962708577, -857.4372908447195, -855.0319122708908, -2483.4130034699638, -2482.195242593326, -852.9784824326317, -849.1812489337327, -2476.6230301519017, -846.56989663653, -2470.094362534065, -836.9465581939813, -2462.945962603394, -832.3925287207868, -2460.1104185467257, -2460.0554207874675, -2458.3521527004477, -829.5196267018738, -2456.551956041548, -824.6987906342794, -2451.554606204293, -821.499766446682, -2449.6868939213955, -2448.6350573770114, -2446.203969390014, -817.3449732774835, -815.0543425773477, -2441.052617421762, -2439.7010596304945, -810.8632560264824, -2437.3501889502395, -2436.8021028772173, -807.5013657683604, -2435.57849460534, -803.346863292246, -2431.3313563058155, -802.9129686971547, -2430.3455765449826, -2430.443681955104, -2430.1667018015187, -2429.870465178733, nan, nan, nan, -799.0325647441197, nan, nan, nan, nan, nan, nan, -2424.0329870042706, -2423.8554766308107, -793.3585812888733, -789.3982041662413, -787.2785651461046, -2415.350949504732, -2415.737441644097, -2414.693608817429, -783.2696936351923, -2411.179750594524, -2411.3562383342005, -2408.8540019041675, -2406.7150904285545, -2405.879996969469, -775.5003416667433, -773.8353334592131, -772.6352727312216, -2400.054534584754, -771.048547862668, -2399.6386656655004, -2399.070647090589, -2399.443641392866, -768.2379218004163, -767.4094306675862, -2395.135144992085, -2394.1950718814123, -763.0006364250359, -2390.367615835049, -760.9015172871469, -759.6808512174204, -2387.578816404587, -758.6360522706592, -2386.8193151415007, -2386.052605047821, -2386.402146480813, -2386.416328719929, -2385.7376826223544, -756.2819152191997, -2383.908153484109, -2383.935932438916, -2382.047047314797, -2381.218151658187, -752.0358769452406, -751.7235464451543, -745.9909919715857, -744.5421298923785, -2371.6201167135323, -2370.057017897626, -741.206587611886, -2369.999720209008, -2369.53877188147, -739.2188795723679, -2367.4071938770403, -734.3258219413666, -2362.5642745377327, -733.7482318132307, -798.95116470227, -730.8744256829096, -2357.523213608679, -2357.4598724654397, -2357.232717195292, -2356.2506149193277, -2355.417510403445, -725.4771308671417, -2351.431934295425, -722.8765128352671, -722.6599458448883, -2350.232529207219, -2350.7326575546404, -722.454401357135, -717.4028811730542, -716.6853326674219, -2343.070619041101, -714.5488057392969, -713.1402310020395, -2327.3097656410146, -2323.824915970513, -2319.817258826756, -2316.554777495964, -2313.3375198128533, -684.1356565093748, -2312.917644979293, -2307.778405804266, -678.7279585945463, -676.1623000480132, -2303.8111876231987, -674.7285084614806, -2302.063574689505, -2301.4575867377216, -672.1974515128924, -671.0805931259612, -670.44887229888, -670.9371109138602, -669.6671296342348, -2297.167442770543, -2296.885735818868, -2291.3903952202936, -662.3732551297845, -2290.8139941916097, -2289.6172244094023, -2288.0411993739845, -2288.689297377302, -659.9342745141322, -2285.0305756933403, -2282.952834606781, -246.01693941851968, -653.6625245714578, -2281.9531801272324, -2279.205227980715, -2277.8888736224208, -648.8234967348955, -2276.651443738424, -239.66070270383912, -646.5450471546129, -236.25458814869685, -2271.7914400430773, -2270.156400205681, -2270.795655512905, -2265.9622080693725, -229.8905072453637, -2263.846550966581, -2262.816252545089, -632.6764590763224, -2260.475321080482, -631.7741515446661, -2259.530440481879, -2258.790530639636, -629.4862923667871, -221.79996278583, -2254.774684558085, -2254.086850992361, -622.7981600019422, -621.9727511163375, -621.9867081104686, -620.6841932562103, -2245.1470073105293, -207.98479160411276, -206.46422447676392, -611.996433835103, -2239.5574582515374, -2239.0775061884024, -202.6414695771238, -2237.0451169796133, -2236.5387922041327, -2234.0402567366154, -605.9904916379265, -2233.466445552277, -604.459440087706, -2232.3230704502885, -604.7905826662128, -2229.0405555980096, -2229.5161884489944, -2228.9205432985445, -598.1865469603428, -190.85881336283288, -2225.4460626425107, -2224.7701485038933, -2222.8900970932727, -2219.7284001747967, -590.5527685695971, -2218.185553855644, -178.5070705878717, -2213.549892746617, -584.9960003815478, -2212.4104766190258, -584.0659799759097, -583.6069745237011, -582.1016987353679, -2209.117011036601, -2209.8830591980177, -2208.0547068497863, -578.391098671019, -577.7488824162948, -2205.1859065653307, -2205.232212857457, -2203.0785446761247, -440.4911719659867, -162.6671976209183, -2197.320349646864, -160.9193268335313, -2194.2169684631217, -565.8156322671467, -157.1752138342437, -2192.155977727033, -563.4123089762207, -562.9634242293442, -2188.846984754641, -558.1106633255305, -2186.0812054161734, -557.3204818440673, -556.7452836212461, -556.1998126958889, -553.7348129020858, -552.2971634988272, -145.541617523979, -551.4867029672579, -2179.5926264984564, -144.18585382423603, -546.7901440442612, -2174.5495716477844, -2171.415133041578, -542.7487831409481, -542.1659125183843, -2169.3499249409188, -538.6505197328507, -538.5319034285704, -537.602435432863, -536.1098086183712, -2164.341488683024, -128.03866026672964, -534.8839852691791, -532.7123237538791, -531.0864630228726, -2159.29799182208, -530.3654657843591, -529.1916346594236, -2157.5239253628906, -2155.4617815226075, -119.20784200703216, -2154.020903533169, -2151.840445126788, -114.73607555957838, -519.3467721350727, -519.8361042174812, -2146.8840401885363, -514.2103807677187, -2140.19995433062, -2140.4298306738665, -2140.121199971113, -2138.57963618773, -509.3668162524565, -2137.3827494300394, -2134.0581457792223, -2134.665628158703, -505.3550736532226, -426.8569362728449, -263.17712181629213, -2128.119558501273, -2128.97609552415, -2128.237967301441, -2127.6640536762307, -498.7373425721572, -2126.2360701426887, -497.9740302804522, -2124.1525338276087, -2121.380332009073, -2121.224209704057, -491.7174079004536, -2115.5352490039795, -2114.4131495249067, -2114.0550735016286, -485.5572032977208, -2113.054326049144, -2111.4786021378977, -2109.12768900241, -479.22282918311714, -2107.091979815724, -2107.6347175778164, -2102.9679800554286, -471.98443376363787, -2098.6432252243694, -466.1864651178813, -464.2460195028244, -2091.350341997185, -460.8568492086607, -2086.472121352398, -2083.882773599108, -2082.299714348407, -2082.0257052040406, -2068.5332525034164, -438.3604218992906, -2063.939868714252, -433.40401060767465, -2057.5066737985444, -2054.1543499730387, -424.09778621396174, -2052.631477723592, -423.7138148896421, -2050.7508884132776, -2050.159363197502, -2047.3330779643047, -2043.407643079122, -409.61105609766594, -2037.7882463221804, -406.4274794911918, -404.8111148770196, -2031.5037543029312, -2030.841108368185, -2029.87755952542, -2026.040491869454, -2026.398537323873, -2020.1234751611928, -388.59287055535344, -2016.619177232039, -2013.2571241543928, -2013.540265231889, -2010.7696451062848, -2009.0861754857224, -380.8758165579412, -2002.2170117938704, -2002.7829168145608, nan, nan, nan, nan, -372.189194535532, -2000.1846431273016, nan, nan, nan, nan, -369.3308448127856, nan, nan, nan, nan, nan, nan, nan, nan, nan, nan, -361.2953457947725, -1988.5842922459533, -1987.703983516124, -1986.1201794494036, -1986.789305826288, -1985.685528053068, -1984.423096036232, -1983.5162857598016, -354.33403299228587, -1981.24199084888, -349.7828529905993, -1971.7280485233596, -341.53690496018964, -1969.815543274016, -1965.6651521936465, -1965.261805761137, -1964.0585301641668, -1964.404283311881, -1964.6104864143117, -1960.3315604847803, -1957.2027059000693, -1956.7010611870928, -327.81540088522263, -1954.061238555677, -324.3984183513595, -323.81584436586775, -1951.996973710401, -1950.657029043964, -1949.7309191178183, -318.92587354533964, -1946.6164792132813, -316.2679235308889, -1940.6340647940624, -225.8185624255293, -309.8436761722252, -1935.49032880494, -1933.329366238292, -1931.8838800690328, -1931.177755809339, -1928.1237322179104, -1926.544716620093, -1925.7564804523272, -1922.0245628304465, -293.7268025908353, -1921.9610509858203, nan, nan, nan, nan, nan, nan, nan, nan, nan, nan, -291.3350056048522, -1918.2830729628613, -1916.050853397971, -286.8439918685773, -1914.8054296330329, -285.6212833803685, -1912.523145734037, nan, nan, nan, nan, nan, nan, nan, nan, nan, -1910.899684510182, -277.8285011374729, -276.8826971681584, -1904.8493484608143, -275.99384748839213, -1903.7891041953744, -1902.310374457552, -1898.9218556417973, -1896.567319829036, -1892.4830105864248, -262.9227446320739, -1890.1938113723727, -1890.981126001715, -1889.9508867434915, -252.76562832617049, -1879.3119505878813, -1877.7640772492896, -1877.0291736557947, -247.4050243622852, -1875.9935356097585, -1873.4098846973093, -1868.1976688217828, -1868.294260029813, -238.54866548409984, -1864.1656139853503, -1863.401103022573, -1859.242967144376, -228.91597607548567, -1853.5394708400809, -1851.6801275556709, -1851.032232460012, -1850.44632997164, -1847.8577710076888, -695.3927067742006, -1845.567551133944, -1842.536392188963, -1841.3580944791947, -1838.3145948794, -530.4873499428777, -1829.5961254674576, -1827.224855874213, -1827.9875247981008, -1824.041286812001, -1824.9466691483367, -1824.4954978785363, -1823.771135820064, -1823.916297042687, -192.7362356772802, -191.16775996821264, -1813.1510865045047, -1811.8119593891724, -1811.13080637421, -178.35912303280304, -177.23436803102516, -1805.0522386574603, -1805.370286272514, -1803.8779393119048, -1803.1363090878067, -1802.5018923091384, -173.58018035484486, -1801.512743580185, -1801.6372977676792, -1799.436747042283, -1799.5498933386398, -1798.9515963867843, -1796.2063285487266, -1796.6536521374337, -1794.1881924517083, -1793.495672052325, -1791.1094234621896, -1787.141846607944, -1787.914953631046, -1787.103906990843, -155.8190503596844, -153.8322178953523, -1781.4131576483933, -1780.7412608891746, -1778.0803346622388, nan, nan, nan, nan, nan, nan, nan, nan, nan, nan, -1775.093147227165, -1773.296885486553, -144.7618423360683, -1772.0946693895794, -1770.2713409996368, -1769.6806016866094, -1766.7086403761996, -1766.6441376815046, -1762.1922462806897, -1761.3310827436026, -131.87656496462944, -1753.805476249804, -513.8304458735201, -120.02070540470515, -118.89141142450092, -1744.6786762192996, -1743.5877352045272, -1740.8278528206183, -1739.4523796112635, -1737.009934371098, -1734.6130060090063, -1730.411872199934, -1728.3399625687025, -1724.869455466166, -1719.764109554174, -1711.4702901765477, -1709.447786257896, -1708.868975343922, -1707.3541194748968, -1706.4345393794692, -1705.444885871745, -1705.1818646301008, -1699.7070223162182, -1693.7747825752294, -1691.3624488888863, -1691.4387053498804, -1688.382517540912, -1685.3439624436623, -1684.7284630848926, -1683.1065993114453, -1683.5978647977563, -1676.4084890440963, -1675.14049211353, -1675.9536050452834, -1674.5398399929736, -1674.7260195238005, -1674.1365488761485, -1671.7091375018035, -1671.5053952829612, -1671.6344787504431, -334.71419242364937, -1020.4100675794512, -1666.3733025661031, -496.7730103500344, -1665.6082241457598, -1663.8618692103164, -1661.0740829823944, -1658.3881500002726, -1656.432621016501, -1656.9629796280396, -1653.2725398991834, -1652.1541574189969, -1651.971524498983, -1648.295009226861, nan, nan, nan, nan, nan, nan, nan, nan, nan, nan, -1645.8054686944406, -1645.7682104427358, -1644.0239012463944, -1644.111448333323, -1641.9274673920236, nan, nan, nan, nan, nan, nan, nan, nan, nan, nan, -1633.6309272724857, -1633.828637357571, -1631.6320067368624, -1630.9391522246506, -1626.3358535293946, -1623.8266714817137, -1622.3273226984702, -1622.7131673245904, -1621.2835216507765, -1617.0081403967988, -1613.494817768863, -1612.7050635441055, -1604.0496562871149, -1604.3568376518915, -1601.84148057133, -1598.8702140303076, -1595.1070282368646, -1593.9463364431622, -1592.6633310420975, -1590.1812826213309, -1587.36962779827, -1583.2569058910858, -1581.211673194818, -1576.5155780212235, -1572.328284580025, -1571.4703022412314, -1570.1007222521157, -1570.14002090522, -1568.5529139897726, -1567.910751415292, -1565.8118198130005, -1565.8541040986938, -1563.1793112517307, -1563.7387800247916, -1561.7432857905178, -1553.8307113335004, -1551.3804023242892, -1549.9618941617236, -1549.9952211843674, -1547.2613327465506, -1545.2842056354157, -1542.6933522690078, -1538.0167693924295, -1536.2479930914587, -1534.7059688419731, -105.00362319359157, -1529.4113471843384, -1527.4494136607782, -1527.1964212597131, -1524.8953399675256, -1523.7283501422726, -1523.2728310300963, -1520.4117282305915, -1519.66017229083, -1518.1348936715194, -1514.153657398102, -1513.036663815671, -1513.0990951138238, -1512.5087709081845, -1510.7381449400864, -1507.963145325387, -1506.9974325264402, -1506.44170661509, -1502.912969077658, -1499.9120426763284, nan, nan, nan, nan, -1498.1928175229978, nan, nan, nan, nan, -1496.596677291117, -1494.8749899316344, -1493.2516510875275, -1493.2259905218243, -1489.5116883583496, -1488.3290239063545, -1482.892719350194, -1482.2057529404492, -1480.746468249351, -1479.6355237042144, -1478.7037335607629, -1478.603885595693, -255.9095862373725, -1475.535768805271, -1470.5322748487424, -1466.8872785932626, -1465.9711576867294, -1460.4960612842506, -1460.7832301193257, -1458.743350017775, -1453.2112327905097, -1451.5402599211184, -1451.2822940571286, -1450.8476955441738, -290.11162558200886, -1450.2762579371183, -1449.1002773536466, -1447.495216789749, -1446.114913379016, -1446.6801730352408, -223.3644276045744, -223.1292625744537, -217.013066249032, -216.20566233540748, -1437.2327144941364, -215.3759997920607, -1434.6065595049213, -1432.9473769642636, -1431.6396925760446, -1431.8994617703256, -209.31022487990785, -1430.5886372373816, -1429.442767303878, -1428.4711561189988, -1427.2794330211282, -1426.2222040345996, -1422.369682281239, -1422.1068321442408, -200.8065142451488, -1418.9530450604334, -1416.1418430096792, -1415.9670801745533, -1412.991653884811, -1411.6914477680957, -1409.5001778464111, -1409.292346593632, -187.2988906540305, -184.2359824502856, -182.0488104625766, -1403.4780784098375, -1403.779131608816, -180.8599325162032, -117.58073092936138, -1396.5953448592727, -1395.0139873401904, -111.6767188371378, -1394.2008142194836, -1393.5197164780957, -170.30669703699832, -1391.9911616051368, -163.51585530133715, -163.35966361489417, -1384.490926063835, -161.74548893351138, -1379.0896465076503, -1377.200752392143, -1374.398893409153, -1369.3961258059744, -1368.8728067502225, -1368.149936720768, -1366.206503591934, -1364.539539045706, nan, nan, nan, nan, nan, nan, nan, nan, nan, nan, -1362.7069947944883, -1357.563800330202, -1355.3581520534508, -133.93956717144292, -1354.1042403538186, -1351.5140783251054, -1349.767534679274, -1348.5009222144135, -127.33494240597255, -1347.3926624988062, -1340.9713142589526, -1340.3404673707237, -1339.521871434653, -1337.9100957169494, -1337.0121561124934, -1335.8399693805395, -1335.7171052068088, -1334.5744571924724, -111.75924770967876, -1331.039948679384, -1331.9177312779202, -1330.6279980174995, -1329.454410139847, -1328.0214135716533, -509.0332544221429, -506.8907767629726, -1318.470586486129, -1317.5593525248123, -1315.0774569757295, -1315.0110955188784, -1311.3189016214465, -1311.1282438931112, -1311.6594405628775, -1310.718083140463, -1310.1702084085346, -1309.118767679095, -1307.5484778217042, -1306.3955303635148, -1305.0051933646073, -1304.5988264215002, -488.649590327922, -1302.130735608177, -1302.8058657641095, -1301.8236224174498, -486.1998543820492, -485.2852569016878, -1299.232548806821, -1298.112761147372, -1297.2193484790705, -1297.509978681156, -1297.790995435039, -482.3669954922871, -1294.6427952563763, -1294.2775327976606, -1292.5356418839465, -478.1973880866581, -1290.5967316594442, -1290.6190053614364, -1290.8189346881036, -1287.105661347582, -473.8431791849335, -1283.62811376817, -466.898133041982, -1280.1016975993489, -465.2504136136586, -1277.274247392118, -460.4144365588482, -1273.8453314172757, -1273.2389560142246, -458.5398978696549, -1271.9840676184112, -456.43101175722137, -1270.598012070769, -1269.9409920408607, -454.72800462109177, -1268.32247167263, -1267.6713663820856, -1263.6850693508995, -1263.23253052141, -1263.5560889471844, -1261.95702490016, -1260.0555051393085, -1259.497031953836, -1257.625846732265, -1255.9685097181418, -1254.2822831782278, nan, nan, nan, nan, nan, nan, nan, nan, nan, nan, -1253.2825591332485, -1251.1182389436626, -1251.2867448215502, -1250.397930215432, -1249.3924837988388, -1248.1311975402486, -1248.9969698658506, -432.9431035999615, -1245.4548129274526, -1244.001585407529, -1243.4224354971784, -1242.9966729882717, -427.4163602852778, -427.9206384314994, -427.3144837876271, -426.6324419206895, -1237.7319948029226, -421.3752693543202, -420.06480898605975, -1234.6623229975312, -1233.5731289873647, -1233.3009946850625, -417.2116179465748, -417.4829277831205, -1229.6228435329822, -1228.638681675905, -414.7993569600504, -1228.5437103806207, -1227.779505865371, -1226.058099068282, -408.6303284826845, -1225.8190982966198, -1224.9252954788672, nan, nan, nan, nan, nan, nan, nan, nan, nan, nan, -1222.1589727154123, -407.0703419904148, -1220.9062131850014, -1218.820921926771, -1218.2580000560165, -1217.9343119161886, -1214.3191443628175, -1214.8588846398825, -399.1135456470393, -1213.6060870207248, -397.40064696384894, -1210.2605897030944, -1210.8317365289067, -1206.9867154281264, -1205.3350741566037, -389.4962915951101, -1202.4750294364285, -1196.336149279542, -1196.1505624542033, -1193.6518324535891, -1190.3644813860838, -1189.1255893908738, -1189.6024850627591, -374.31893798421066, -1188.2848691984154, -1184.7185346129436, -1181.3320614909162, nan, nan, nan, nan, nan, nan, nan, nan, nan, -1179.9432622563063, -364.9644443383941, -1178.4672081317358, -1177.9676477283056, -1176.1719849509454, -1174.1432919896006, -359.5327395313189, -1172.0243480034214, -1171.8403610899177, -1170.1653048690723, -1167.7105876838204, -1166.9373397149002, -351.9929214805298, -1162.4742085476128, -1160.610990962531, -1159.1343049058569, -1158.172994306754, -342.5914333330957, -341.91815175584185, -336.34855793973026, nan, nan, nan, nan, nan, nan, nan, nan, nan, nan, -333.3847552435719, -1146.4751833831897, -329.7292686583542, -1139.7442160211767, -1138.8375830414689, -1136.982472317074, -1135.3269978427898, -319.48027074015323, -1133.7915775036845, -111.60253833875193, -1128.4792680956589, -1127.7403078864563, -1127.9009553752885, -1127.2066805379882, -108.17089641854416, -1123.8069493817047, -1123.2795312174194, -1123.1388280158071, -103.75624334234688, -1120.0964700800623, -1118.1365263026428, -302.43608153144766, -1112.5151920213111, -1111.8704821801994, -1110.1068113648043, -293.1314742416426, -1106.6305273051885, -1104.1406005020372, -1100.650364990749, -1099.566488619318, -1098.4168051128045, -1098.510999836678, -1097.106281254356, -1097.0151776544744, -1095.2394496133684, -1095.3866218238682, -1095.868042353649, -1093.8187199755876, -1093.0090245007823, -1091.7424356197143, -277.35084116337663, -1091.213727763673, -1089.6865343049203, -275.3921023177873, -1089.1938841015535, -1088.062823857682, -1087.1488718197752, -1087.7416048360328, -1085.8100892716184, -1084.7036256250149, -1083.0354154071783, -1083.347275907202, -1082.1228990505615, -1081.3949168292247, -266.6062249295583, -1079.5375240532603, -1078.0898074242532, -1078.6279693912102, -1076.8802070767697, -1073.1037175569627, -1073.9885740597665, -1071.9797560257075, -1069.320135788762, -1066.2545080753653, -1064.8124549517406, -1063.9462863508334, -1061.727117800886, -1058.2225695227762, -1056.180128464027, -1053.2229218145358, -1051.8938634067426, -1051.5153715483657, -1050.333954148694, -1046.919455435901, -1044.5931246756, -1040.0701668426218, -1040.6549337692495, -1039.7523696755734, -1038.6390171961584, -1037.5538439296515, -1036.6440005843424, -1036.804888786316, -1033.1623769358275, -1033.174041083107, -1032.4352562527029, -1031.2675533378815, -1030.661767767101, -1029.3389187476032, -1027.2206775885652, -1025.4079997269373, -1025.051542541457, -1023.7018305486772, -202.03493557302411, -207.6766685216781, -204.2394639450386, -1017.888120007462, -201.6435727265153, -196.6389888477616, -1009.095751646676, -999.1787068008334, -998.5383023308832, -998.0869219080132, -177.72509608707065, -990.7704854415924, -986.9109005631772, -984.527788677954, -982.4638696909396, -981.0005507805408, -980.8875217755476, -162.7640062732035, -973.2442875264396, -971.427335010886, -966.099404150088, -962.4404241442307, -961.485327372814, -145.96702361567355, -1006.7401007152712, -958.3371731043344, -958.484567575887, -956.9485951841716, -954.178293080854, -139.66465302727653, -953.9362489512469, -138.9920679330217, -951.5902102162172, -949.4181581050916, -948.3419275862352, -947.9954579692812, -945.373590511218, -944.0279100098624, -939.5338560304872, -939.283614532892, -121.54378448818994, -934.2929588657744, -933.9288895605432, -927.789271212584, -925.290564923228, -923.6693157944892, -922.9278410590514, -922.65338950145, nan, nan, nan, nan, nan, nan, nan, nan, nan, nan, -920.12467106239, -919.6618238981528, -915.7431350696088, -997.9154607627625, -909.8791620174934, -909.0286207436357, -909.3965084720576, -905.987144497868, -895.659331635824, -891.1184548061074, -891.288314182465, -891.1820562348285, -878.2176931983113, -876.85375799536, -869.2654370379687, -869.0442692496263, -868.7279769497973, -861.2920903698787, -857.0123558450478, -855.1120346754005, -855.2034506626414, -849.8929527090031, -849.2534810309235, -846.1315564982933, nan, nan, nan, nan, nan, nan, nan, nan, nan, nan, -842.6095451670253, -842.5015804807435, -842.0774287563536, -834.8093417939481, -834.0222609394377, -830.3881606563127, -829.4318728702501, -821.6811094552713, -816.5571335392333, -812.8727720248489, -809.6878437101286, -805.5900525252355, -802.5307408318267, -797.5918331374241, -797.6450653181737, -793.5247580845689, -787.0061957200696, 350914.7104790776, -776.5152218108478, -776.9606883567567, -318.08975049017863, -769.7340931636818, -767.7117498388225, -767.8379718114038, -762.043785693143, -755.4994586645907, -753.9306665896866, -739.629187347352, -737.4369913268956, -734.4965998376656, -726.8829605297988, -724.8307052262562, -724.7961085445668, -722.1949477729422, -719.3632774976222, -709.9022761943588, -704.8754434822213, -703.7678365666934, -698.4214293954692, -697.1975641347208, -697.3450365304643, -695.8394157134435, -689.6032346394632, -685.3168647585417, -684.4698973642362, -684.5159523237371, -683.8259228175202, -681.3431421120886, -680.9784123307209, -680.1674558505629, -679.1711257065863, -675.1298969866484, -674.3776096295305, -674.0655942585863, -670.6567913895733, -666.2165854345485, -663.9000996174027, -662.4749933931753, -243.344687303872, -649.8521861527543, -648.3033950912659, -644.4819508449773, -639.817267786947, -635.2723238964891, -225.9340440933993, -629.7523502145168, -628.6726202459295, -627.3682033947707, -625.1325713581673, -623.1791297519931, -613.4071379764591, -621.7262331419943, -615.5535524836769, -204.22425301084152, -608.8967826867838, -197.26288267201383, -197.9274608649121, -600.8577449257327, -598.430007175456, -191.8008720666476, -594.6251915525618, -585.2829204769305, -583.1863885256926, -582.2648716267931, -174.54676695395213, -578.7515535382181, -577.0363005682475, -170.85049222971796, -576.927659918877, -576.7003265529665, -574.9959234695825, -568.9448423741751, -566.7598013156285, -558.8555529092619, -554.1792662636844, -554.7615682039186, -538.3550073659471, -536.0985724710927, -536.6416309975621, -123.72145663783525, -529.2781446101044, -529.3477204714627, -524.7197960789772, -523.1511463190809, -523.1426994491421, -519.5644575192773, -503.0489602706957, nan, nan, nan, nan, nan, nan, nan, nan, nan, nan, -476.3848385248448, -470.8166621819264, -464.1288824187732, -457.249346910462, -446.5059153192042, -445.5533229027069, -441.5964962371245, -435.1187725391528, -435.80477567818616, -433.9884768454258, -432.61227593487, -422.6388649206501, -419.51545898511085, -415.1327677233321, -411.6207459656498, -409.9317196216043, -409.43500907275575, -405.1940974277213, -404.1090900891113, -401.15123293530905, -384.3128744487067, -372.0738632982293, -368.8234419588598, -365.3134539290504, -560.2527506137503, nan, nan, nan, nan, nan, nan, nan, nan, nan, nan, -345.66264889833565, -335.31863038428764, -334.0162205249262, -323.44176440931096, -317.80259338617816, -294.4224196258738, -285.1750348601372, -279.6300442761012, -276.5104925451733, -273.37609231964143, -267.7102321537086, -264.28462872113505, -262.16913329652834, -259.79846807068407, -243.67475203570848, -205.42308959996717, -168.26485554807277, -193.8946427881874, -140.19932868420346, -675.1181145945084, -108.96704186614716, -255.79758541219095, -254.4625892755466, -253.4381092409353, -253.6419458817176, -255.10235435661647, -254.94377297920195, -249.3185188831885, -249.10835421780743, -247.8189563778228, -247.63530302139267, -245.01255301199487, -247.7155507994825, -243.69149898284283, -246.7259981161623, -241.90092889567265, -245.5722582628313, -242.3842676012977, -241.30533002762823, -237.90872726973427, -237.94935868183208, -235.47858967376985, -235.68179079234497, -234.5803914656116, -232.392171911124, -231.36334684832352, -233.5436323388839, -231.6590990513386, -230.0123536456089, -230.1375419034288, -229.0431919948709, -234.02481872914925, -224.0962593156277, -223.2757393067604, -222.09531309353585, -222.0498748831864, -220.2634371735384, -220.30121659275883, -225.1365353354748, -226.58520369328724, -216.7863026105624, -216.0211993180928, -215.3767140852428, -215.7707798336983, -215.0098775594801, -211.0307538046013, -210.6364998100348, -209.94946995814647, -215.86760544687505, -207.7452295786056, -207.31413100967072, -205.5656463724749, -204.99248183661072, -212.97895465527645, -202.20849661082653, -209.79755926549424, -207.97537053028455, -199.5738235958061, -199.9545513124444, -205.58905850202373, -196.8242311896797, -195.69020883853275, -196.14373041024825, -200.40795383511195, -192.25687054117267, -199.87859842766548, -194.6116054716521, -190.1657864982557, -188.73258128659333, -188.7378021863528, -186.62247530400097, -185.4788245735617, -190.87369743714444, -183.28563561481903, -182.36939908318428, -181.8210846375641, -180.5668731121709, -181.1726937592356, -187.72566723347612, -177.73494667088326, -176.0902130221825, -177.55918305610462, -175.19242933777318, -174.9235572476064, -176.67916621919974, -174.10017588211238, -170.22774480035648, -170.10254533340358, -169.35431797154834, -174.8208477706701, -166.03203701781698, -165.5972845299278, -164.1991339053566, -169.32962794815174, -162.18629312414302, -161.4476773806459, -160.03814765755115, -159.56258472055785, -167.32317782987073, -164.06727735230768, -156.82275098503848, -156.61758935057057, -154.93221088563396, -153.42081024911928, -152.5693821308054, -153.82917979661434, -150.7482694000391, -150.95538984298437, -148.37204686476522, -147.09777887687451, -154.30226912424118, -150.295081605324, -144.14963246240129, -151.75844609045348, -142.08555269989526, -141.29746466243884, -144.618428177683, -139.17057089865543, -138.36764707665614, -137.3437537338472, -136.66305980883268, -136.72112752388048, -135.90615940262828, -133.2145151214472, -132.70362046108718, -133.68993626234064, -133.6568402019951, -131.94557959973358, -128.6912696359922, -130.72172374276974, -132.61623367587734, -125.2490182668366, -133.44359624831915, -130.71532538173162, -126.069701234225, -124.05149344565936, -120.1396836249094, -119.50856358066298, -118.3863132991244, -118.21608476778536, -116.11970853167983, -117.89157437037537, -114.61631093671664, -113.78971502433384, -114.047745293345, -113.37040659650458, -110.80311934970209, -109.7726035208702, -108.07832746419572, -108.04400519278065, -106.52596766205656, -112.74237659718185, -104.41082893650125, -103.190517858773, -102.74613110055336, -106.93040878405796, -100.46923978712763, -102.7481904092289, -98.81120309631407, -101.79450484259556, -96.20529318997106, -101.78622416381418, -94.27042868177492, -93.74688555493978, -101.8613496536382, -91.7740556188023, -90.29301610337464, -90.9964160957554, -89.1555588223292, -96.65759932125448, -86.00617816580055, -94.01204313423708, -79.88034967664467, -78.08254710399822, -79.83206377973707, -72.62578520446468, -67.03662472052932, -62.10848678222075, -37.72660206855514, nan, nan, nan, nan, nan, nan, nan, nan, nan, nan, nan, nan, nan, nan, nan, nan, nan, nan, nan, nan, nan, nan, nan, nan, nan, nan, nan, nan, nan, nan, 328728.72060451825, 328734.9239963268, 328771.3413867971, 328795.72672824026, 328827.3456668878, 328834.27445465827, 328842.36491639924, 328862.57141197263, 328874.27066812554, 328895.8627520332, 328909.02061756444, 328911.59570801497, 328923.4482215042, 328928.26266421424, 328959.6269649916, -149.10420265849277, 328994.063851685, 329001.9461073586, 329045.9733351913, 329050.42424026853, 329139.6083946272, 329164.5980910513, 329182.8451571358, -754.5497060087127, 329210.1087962281, 329213.3169602077, 329219.6768818127, 329226.7331157804, 329246.20486831234, -491.579723802165, 329349.6944446525, -482.0962841926948, -481.6745718200845, 329365.7727303433, 329375.6267289287, 329379.8606211972, 329387.37159240147, 329410.24852330645, 329412.250959156, 329416.87424530287, 329460.9419365898, -450.0613423824006, nan, nan, nan, 329519.27978525753, nan, nan, nan, nan, nan, nan, 329531.9291403406, 329555.51345908485, 329569.29868782405, 329605.6094338079, 329638.4270596182, 329663.9303420009, 329684.7563426098, 329698.8266915705, 329699.3485617898, 329717.6911715757, 329720.6542349246, 329722.2451570229, 329734.4215069238, 329742.4662203598, 329781.7049966714, 329890.85640916467, -371.22924842697006, 329914.0207436756, 329930.1206960973, 329949.2637738568, 329951.5941469854, 329956.5392463155, 329993.1423046486, -354.75576026784887, 330026.86309095816, -347.8427520024788, 330041.4337775499, 330061.6536537553, -339.7244991635261, 330073.369726791, 330082.873770985, 330090.0162891858, 330099.7080363848, 330102.8905437349, 330106.77111492713, 330109.39122967405, -328.4316544438288, 330138.0675355361, 330174.4847063083, -318.5598943362647, 330182.00021039863, 330195.2900240674, -310.2747945828368, 330226.3019530532, -308.5038642749541, 330250.36386395287, -298.8041302590745, 330290.0922339121, -278.88290215482533, 330411.29120265966, 330424.6703778025, 330467.862554006, 330469.2739749417, 330470.3301066357, 330471.5913628789, 330473.86738885404, 330505.8586830517, 330511.92756969127, 330531.0223444073, 330539.3644761826, 330550.22627538035, 330569.55161096685, 330570.96312011447, 330572.4891143034, 330583.8796412708, 330635.7628859892, nan, nan, nan, nan, nan, nan, nan, nan, nan, nan, 330682.4187280974, -217.0213143866867, -216.3874219833296, 330759.1278790717, 330771.796226605, 330784.4706042082, 330785.65688624023, 330805.6189711705, -1007.07893078516, -1006.2400540838852, 330834.9216992457, 330861.310648018, 330879.0134093545, 330887.86562982283, -986.2948340803804, -170.44046416880786, 330926.7568716402, 330934.0029624282, -981.5937229509244, 330941.462200859, -975.6047737196394, 330988.1494988343, -965.1849966197686, -145.01715632150712, 331077.330336011, 331096.4408332463, -130.49436227007658, -939.0483633920038, nan, nan, nan, nan, 331245.97666643275, nan, nan, nan, nan, nan, 331258.5711528916, 331264.1491172091, -911.4733799748436, 331291.683062882, 331339.2317889659, 331367.907842218, 331443.3589354468, 331466.7249436664, -874.8530628222733, 331511.39638965647, 331516.72777893377, 331522.67000576004, 331546.06051271764, -860.1763676597028, 331553.0861760846, 331558.55096866767, -852.8151371872071, 331586.16457030195, 331608.45572638, 331618.28663682146, 331623.0445753648, -843.0180087269008, 331655.4829665228, -838.1415832373358, -836.0415421051683, 331668.05092411296, -835.8688571354495, 331676.6224723251, 331678.65199475264, 331693.494994218, 331709.9903841717, 331739.0153966072, 331741.27145532746, -819.6272191630513, 331753.47675738914, -816.3559350138811, 331768.57126164425, 331829.88153973693, 331846.619514511, -796.5866632098558, 331872.3007322693, 331891.12312467844, 331897.3273967469, nan, nan, nan, nan, nan, nan, nan, nan, nan, nan, -788.2720162886061, 331991.6058826175, 332028.0024577687, 332038.32683235634, 332051.2213907353, -756.6705456184199, 332087.54593089013, -749.3918796936822, -746.1364669245712, -745.5831811544475, 332152.67070262285, 332152.75806456286, 332163.696336182, 332165.9475152644, 332185.3545111605, 332199.16896442603, 332201.52646833484, 332207.7067233837, -728.3486764830458, -724.4926104717459, -722.6601839905278, 332245.83507293, -719.5561844546472, -716.18017886112, 332278.816711823, 332280.3762505409, 332281.62972399173, -712.9808082014105, 332290.8020452667, -711.6392023498546, -708.4331039313428, -703.731584398808, 332347.84359351307, nan, nan, nan, nan, nan, nan, nan, nan, nan, 332390.4284078874, -691.8669006697627, 332404.5766644656, 332407.2458932865, 332412.1022717018, 332421.96051542764, -686.5086372674804, 332430.79134852265, -684.886282211998, 332433.0298057697, 332434.7441472557, 332437.28644806554, -676.5495555680453, -675.6223584506978, -674.5456997615337, -673.3946524527317, 332519.74226760794, -458.7067707262104, 332552.97256427153, 332573.78640818514, 332580.35517263645, 332587.6657061855, 332593.8279355111, -648.3202430811551, 332619.1002230852, nan, nan, nan, nan, nan, 332626.817216784, nan, nan, nan, nan, 332636.6452172275, 332648.5730738265, 332656.5161219026, -631.9352500519261, 332711.3722026441, -627.6697717626947, 332754.5858106581, -619.4168962334487, -609.6880979030128, -609.5587127566222, 332811.07152594824, 332814.6429398758, 332819.2589227339, 332825.9312185821, 332843.93682592164, -601.3269846379852, 332860.5245615907, 332862.6251692262, -598.7856929540402, -598.5150546422927, 332913.6341745268, 332922.8315002691, 332954.0348071523, 332955.47545794013, 332960.9781811424, 332961.9337460704, 332966.1614118441, -577.5319050813204, -574.4562189326742, 333008.3435379821, 333028.6401001813, 333069.46322414425, 333076.49604082346, 333077.5512000984, 333114.5890746489, 333140.4233070851, 333151.37406378955, 333173.65488734195, -534.7976795336407, nan, 333208.8647228413, nan, nan, nan, nan, nan, nan, nan, nan, nan, nan, nan, nan, nan, nan, nan, nan, nan, nan, -524.7923468255075, 333237.4737427132, 333261.7194822682, 333288.8456606447, -513.7184431483118, -512.9868911792208, nan, nan, nan, nan, nan, nan, nan, nan, nan, nan, -504.5420606179513, 333337.661027871, 333347.31658636336, -501.07844318056857, 333354.587972724, -497.2521339584954, -478.0916995449188, 333394.00084833376, 333439.4697768166, 333441.37416836625, 333457.53903700353, 333472.4243730844, 333472.2115832999, -476.288251745288, 333485.7770738151, 333488.68612043466, 333505.3641773359, 333508.0559734784, 333563.88791001146, -458.5811724138101, 333592.6207341185, 333598.5711116577, 333640.4331830067, 333641.0839712875, 333648.042873783, 333659.45534432697, -437.9908596737158, -436.31303464437485, 333693.9162384745, 333702.0649478804, -430.6406780385213, 333718.49112749967, 333723.0496424858, 333726.74421249446, 333731.57567007426, -424.6228981129542, -421.8587734260444, 333786.4243917387, 333815.5981655455, 333819.99131572514, 333836.9106045872, -2033.5777598788416, 333840.9129170591, nan, nan, nan, nan, nan, nan, nan, nan, nan, nan, -398.9387193320971, -2025.3581544308151, -2023.406034181148, -393.4838125263858, 333906.5087283211, 333913.9429408582, 333926.6433487682, -2014.3941939615968, 333946.44532046374, 333947.1421576457, 333961.2668510319, 333967.2968837721, -2007.5200698492688, -1999.2914877530936, -1999.7782756620188, -370.27081030421766, 334015.638464442, 334018.0816627342, -367.8595899845976, -1995.728555975217, -366.5945495318837, 334048.8057083513, 334060.6788734939, 334060.9513154729, -1988.1276239514889, -1986.7123906451568, -356.8487848530848, -1984.3288857557388, -355.9390727721574, -1983.6908318363464, -1982.103566455621, -353.83771427858017, 334100.00225720595, -352.048655050933, 334120.559230113, -1976.8629295418075, 334133.87128091004, -1974.4134586668704, -1970.3566228391144, 334187.4531673898, 390745.4990023497, -1954.5600428984824, -1948.356302684723, -318.53704547935456, -1941.899251732805, -1937.7405461338883, 334323.1675827161, -1936.8007070074843, 334338.8855152528, -304.276165078344, 334343.09630405024, 334348.87154300744, -302.692460495732, -299.848523896885, 334383.3083856541, -293.0472288678783, 334406.0877739349, 334408.35488812486, -1918.3597568074008, -1917.6133560199912, 334438.10410586017, 334444.3286095853, 334446.1895456485, -1910.517830282916, -280.2104609689476, 334483.49305407715, 334488.72625984746, 334500.7678042851, -1901.691144965597, 334508.42844605056, 334511.2187207321, -267.9891636299734, 334530.2910802911, 334534.775797566, -265.6480257814427, -1893.481040055353, -264.71709554808774, -260.91590004391844, -1885.222476507725, 334599.9815934518, -1880.2083025558884, 334629.5218760164, 334637.4644627627, 334671.341487019, 334679.12388072634, 334679.1154168477, -1865.49660372436, 334685.1362476548, -1859.513279045005, 334715.6374456573, -1858.299278274381, 334744.8998466723, 334764.25983126624, 334773.2926482946, 334779.0382393108, nan, nan, nan, nan, nan, nan, nan, nan, nan, nan, 334821.2526971345, 334837.6301909865, 334840.18505862885, 334851.4400740864, -1829.712532246568, -1827.4161968138403, -1826.818965511068, 334878.11549923423, -1817.966645236688, -1802.391968190196, -1799.4557752499393, 335020.92670941923, 335040.2340312823, 335046.43513755733, 335058.3066457678, -1790.2146069936014, nan, nan, 335066.5432029977, nan, nan, nan, nan, nan, nan, nan, 335074.46480898326, 335074.2524242984, 335077.81416064664, 335109.40158385853, 335115.3521193119, 335117.51114273927, -1777.9665564338673, 335135.2546723931, -1774.256889869345, 335140.3131075743, 335142.3286621722, -1769.2023648109396, -139.53667196235335, 335176.4700456191, 335188.68677094753, 335195.4663734921, -1759.1807109729532, 335225.1246345527, -1757.1380095899483, 335228.89710263466, 335235.24175624084, -1755.2221389823196, -1754.8811737142776, 335242.4945918922, -1753.1423359566477, 335249.03042223817, -1752.971463165254, -1749.396352456514, 335266.5604355449, -1749.9840271249348, 335272.7684701453, 335273.41135990666, -1746.2796948796156, -1746.0403312112546, nan, nan, nan, nan, nan, nan, nan, nan, nan, nan, -1740.5509381651252, -1739.082895087459, -1737.1060249950394, 335348.61767193826, nan, nan, nan, nan, nan, nan, nan, nan, nan, nan, -1728.9149915207352, -1726.7685585658262, -1725.8979586688754, -1725.6055429518717, -1724.761807530146, 335392.30231877265, -1723.9278858054556, 335416.3232424605, 335426.0098634843, 335436.8845107696, 335456.4162545807, 335500.4976794408, -1699.1700104338586, 335525.9129714224, -1694.0103790126657, 335544.2940498705, 335553.1305721241, 335559.2165545061, 335581.6685149753, 335596.0362784305, -1683.5957846313129, -1680.0139633261413, 335613.05701111944, -1678.669860884306, -1675.6103464220294, 335644.13465181284, -1673.3770574444486, -1673.3236460921223, -1673.3715355783286, -1669.2796814947967, -1663.7361067533136, -1660.439902195693, 335725.6828729454, -1657.8257217523612, -1654.8125668617583, 335772.349816959, -1645.1955667418067, 335790.7676986345, 335804.5173635504, -1636.7855288676044, 335835.08484414115, -24.14163324048118, -1633.814295366578, 335861.83541994845, -1619.3045883471011, -1618.5492186306444, 335937.30932639213, 335938.2976871972, 335948.4730021033, -1610.8640676880084, -1610.0140745491651, 335974.2544376947, -1608.8834778689095, 335986.5944091006, -1603.078579509988, -1601.6179836724302, -1600.7987810954971, -1596.2979597008623, 336039.9753372385, 336041.6710890371, 336050.3701115931, 336052.160822267, -1592.9353162509876, 336056.82494361326, -1591.339674727839, -1590.7477503836733, 336105.22755258327, -1582.6732778148569, 336107.97727711644, -1579.5009820440762, -1572.0521360877217, -1572.3768097732725, -1567.112655793783, 336213.38359752303, 336217.5256607329, -1558.5521507904184, 336232.15045362624, 336241.7557255733, 336245.83208253986, -1548.7211483064173, 336285.4808989816, -1543.7956054913273, -308.3685618923264, -1537.8610718630414, 336350.48230070825, -1532.335470589206, -1530.9841946511249, 336370.7294277948, 336380.00985460577, -1523.5645709097814, 336412.21467703965, -1521.0924696829431, 336430.4973323598, -1516.5216469435952, 336482.9241122194, 336482.1764482473, 336485.4563233089, 336491.0687491082, -1505.9745151532086, 336515.64040582074, 336516.0058673674, 336548.86283625127, 336550.8045988521, -1492.5809537990615, 336562.0164318586, 336564.68674810906, -1489.203477885873, -1486.178138556929, -1477.514932544237, -1474.9118915564566, 336658.5006979999, 390732.0567451317, nan, nan, nan, nan, nan, nan, nan, nan, nan, nan, -1464.088296219638, -1464.623730310798, -1463.0848106810306, 336706.35697981925, -241.2474556986052, -1457.0063843192208, 336747.83528374555, -232.630155810304, -1453.8026142485276, 336755.3489024948, 336757.29199774936, 336777.31338249147, -1444.250749887419, 336815.1050121219, 336837.14130416646, 336847.7840420084, 336848.3689603206, nan, nan, nan, nan, nan, nan, nan, nan, nan, nan, -1427.1559914217585, -1426.8576996591644, -1425.0318829735904, 336896.840123703, -202.36383006381752, 336907.3856194233, 336908.4864702679, -1411.2103373622529, 336972.6317536452, -1409.3638245908649, -1409.6531267163598, -186.17232540158497, -1401.7166843708353, 337017.7133069265, 337029.68124583486, -1398.4053115383892, -176.94985157181858, 337052.0807829032, -1392.2054863623823, 337072.7106709205, -1386.9373814551752, -1386.898077830189, 337097.20579818985, -1384.5012847643454, -1384.716104875152, 337103.5834073743, 337103.55138488585, -1383.8846331091397, 337117.7964736746, -1380.9331038118733, -1380.192461002104, 337138.68958522065, -1375.7662458657803, 337165.3588658384, -1368.054529488042, 337187.8680203521, nan, nan, nan, nan, nan, nan, nan, nan, nan, nan, 337199.11412165244, -1366.798471273764, -1357.8374230671022, -135.77420061267898, 337246.3394659888, -1355.8758828731177, 337262.4186563666, -1351.4573625335604, 337271.93566355057, 337286.8785953609, -1347.492895994107, 337299.15938592656, -1342.1641282926382, 337318.57330377627, 337332.66138402524, -1338.208328251231, 337339.7202739725, 337356.0376801128, -1333.3267728393464, 337369.1420859889, 337383.4800639673, 337387.6475005617, 337399.6587942521, -103.47653329174304, -1323.5858634720869, -507.2537312703178, -1321.4679591185711, -1320.6101669666375, -1320.103813075392, -505.8482242607268, 337434.58564158896, -95.10394105127656, 337451.38960921264, -500.3765607047506, 337457.690738675, -1311.6041664289485, -496.041757947324, -1307.7322722067172, 337493.1038921209, -1306.265498402089, -492.973040359854, -1305.546157379055, -487.01199346791947, 337524.4668348471, -1300.2824907674792, -1299.3772696919193, 337530.9630345517, 337538.67160127923, 337541.9226760886, -1293.7544761080069, -1293.0985523175848, -1292.221017974213, -477.7242603274652, -476.9334720708874, 337575.7653715868, -475.6762528312, 337584.8155603586, -1285.9528053186975, -1285.8725121517043, -1284.1247147993151, 337607.81351773714, -1283.4792544434629, -1283.1508675362809, 337621.41124089656, -1280.124639287377, -1280.5747949008007, -256.21597229546023, 337644.1189869978, -462.295691542068, -461.0561498615378, 337659.5350035947, 337679.3582702238, 337704.08025732404, -1262.8030223044923, 337722.63869021216, 337724.5019918222, -446.5875403984872, -1259.07154933372, 337731.66308749374, -445.2220545347744, -1259.4580653562614, -1259.0795452291466, -1258.9719205226145, 337738.7121220409, -441.32259268395575, -1253.3620965506586, -438.29184947081086, 337768.2600622073, -436.0568453515014, -1249.1090343166495, 337781.48787461326, -433.1447321365857, -432.7512619645357, -432.5368149705144, -1245.6582439567308, 337821.7706067219, -1240.1821684828144, -1238.5600798558287, -421.50372452113226, -1235.5273378811132, -1235.062657838084, -419.2676789691348, -417.1490425077489, -1229.7870782043726, -413.7381439869212, 337899.31011734146, -1222.7922358893436, -405.3042589299519, 337936.1609256373, -1218.6749681333974, -1218.0890399706575, -404.67903448932776, -1214.4210868140806, -1213.3911158049402, 337975.1725279473, 337977.1810634425, -393.1093789527411, -1206.0256604223111, -1205.7516180137234, -1205.2595989864865, -1200.5419399227, -383.004750845096, -1196.5554399891068, 338057.29824011703, 338060.788568556, -1193.5333129924663, 338070.1019105005, -374.6726133561686, -1187.6442264094082, -1186.9876093546052, -1186.7059180452204, 338099.3184069548, 338113.5298924872, -1179.7967730556672, 338136.57106958004, -1178.820366943234, 338149.1903960667, nan, nan, nan, nan, nan, nan, nan, nan, nan, nan, -1172.863970627818, -1172.1886523429555, -356.1311943614808, -356.6390765786262, -1168.4988145513496, nan, nan, nan, nan, nan, nan, nan, nan, nan, nan, -1165.624570373128, 338225.34823999176, 338227.5805239552, -1160.248618018736, -344.0391435053669, -1157.0294769505424, 338256.3142680306, -1148.9174417244838, 338292.98076045443, -1145.952154695419, 338308.2214245762, -327.42929187491137, 338333.2727929153, -879.5873497728171, -1138.644215699115, -322.4938272132593, -1134.374355955301, -1133.14513024668, -1132.419109311896, -1131.628669025006, -1130.966486713162, -1130.783793157744, -316.24064578435247, -1129.3415300496115, -1127.0797239264054, -311.04559213907925, -1125.1700652706593, -1123.346305989863, -1123.4386599482648, 338417.79225176905, -307.8677448020779, 338426.3270946814, -1120.9676114376132, -1120.1168471229037, 338432.544351818, 338433.7711212993, -1117.5397557988315, -1116.5889833804692, 338457.348456949, 338460.6991908226, -299.53017875216284, -1113.064504117953, 338474.26342849684, -1108.7605152518925, -1107.5496942563848, -1107.3213347406224, -1106.4934924576671, -1102.0192231081753, 338521.34455393377, -1101.082900294036, -287.288317523339, 338525.7479024639, 338538.066449368, -284.4378697972341, 338548.1380085697, 338551.95291136915, 338558.8453084689, -1093.0226362263645, 338580.55412418104, -275.38042957988984, 338590.2120737939, 338618.3036950155, -1081.4226568103084, 338629.93392715784, 338639.1399941123, -264.00538747828324, -1078.497073946274, -1078.4532074119732, -262.777579720211, -1074.0526589417502, 338686.85578625626, -1067.8770141074772, -1066.2231372159956, -1066.040399062177, -250.13987813054047, 338712.95006212627, -1064.6844830284797, -1063.9597850008165, 338734.86854012165, -1059.1437549360005, -1059.4799741973482, -1057.8282425705463, -1057.8937546311524, -1055.0659097050636, -1052.8761268905698, 338780.07939464285, 338781.8865197755, 338780.2479756434, -1050.936670317417, -1049.6166930953666, -234.0127743054589, -1048.3804608547605, -1046.2510902982783, -231.06197339772808, 338812.24455014244, 338816.2485172561, -1041.045677620176, 338834.70301542804, -223.3696766538513, 338856.3710018233, -1035.7667848142307, -1034.3601787351606, -219.42418018958125, -1032.9683285694398, 338883.1590145509, 338886.0150035371, 338904.86640587164, -1025.7554819681634, 338913.8551861579, 338914.050375207, -1024.9491604702278, 338927.6788391436, 338931.6386047064, 338939.6416344634, -1018.0211221475154, 338945.61184631806, -1016.142203152586, -1014.2624543630452, -199.86949774778333, -1013.1711653348036, -1010.887817237214, -1009.596508695772, 338989.5501431475, -1008.8094507490648, -1004.0211055195148, -190.96038555190609, 339016.90763930016, -998.0450613015244, -996.6636454714396, -991.6872654761926, 339083.2837247883, -990.38729387745, -984.46986035451, 339114.14420097444, -982.5317200356355, -978.830019039932, -976.0671849350572, -973.310516803004, -972.6956054347108, -972.0927378590684, -971.0583904055773, 339187.22661516967, 339193.0942916696, -966.4874352875438, 339221.6684711997, 339224.9228691928, 339239.7635483207, 339246.8345337141, 339255.48130764085, -954.7818641143338, -954.0290541999464, 339278.8851842128, -951.5034972335804, 339287.9630392464, -949.9431421336274, 339301.5588825401, 339310.87172795704, -943.977899471686, 339325.8328919368, -128.55363573881988, -941.5004214593398, 339332.57674133085, 339337.0170586155, -939.33072984977, -938.6106319104572, -934.5512592283492, -932.3800856015212, -931.0930939169, 339396.424005999, -928.6700493162105, -928.192314475157, -923.5955615283044, 339423.2576918852, -922.5851881419228, 339443.23060732643, -918.2155472627808, 339465.4378399019, -907.2958952755696, -905.4034729449183, -904.3581150424932, -903.5062711305388, 339521.0295625878, -900.6786892207554, -900.0630448062918, -898.0665070957864, -896.9519140788768, -896.5993093018158, -894.2425077820396, -892.4931000562563, 339579.41363201424, nan, nan, nan, nan, nan, nan, nan, nan, nan, nan, -891.5073541367044, -888.7761242836102, 339604.4563010509, -885.0430205820783, 339624.2498484311, -882.7903306043979, 339634.9329699528, -879.1750154088429, -878.9324715677255, 339667.283029438, -874.7505442057088, -873.9564968684215, 339683.43492493936, -870.0138239538362, 339717.00065379863, -861.2897304541173, -858.1867324962648, 339765.4447516278, 339769.78877933504, -853.4863924498848, -853.3530766272113, 339778.4897579334, -849.9901076638478, -848.5235848877153, -847.0438235027875, 339818.80354418827, 339821.58864484646, -843.1822218333389, 339831.9436086389, 339833.80176235153, 339835.8518359052, 339852.73630659445, 339853.9073768388, -835.716378183696, -834.2524184883775, -834.9691923188518, 339887.349190303, -830.3301901816292, -4084.577217556011, -826.9562569360157, -4082.735432138585, -824.7011718506062, 339926.0786283576, 339929.4772923076, -822.4015007488476, 339943.7296423265, 339945.590965415, 339951.46441305924, 339983.6626144493, -811.1131744654274, -811.2511179867276, 339994.9349571209, 340004.60150202404, 340024.2377816492, 340027.80443829845, -802.5554923527823, -801.2990208964118, -801.8933868961856, 340038.50761602743, -800.1402348970648, -799.2192156093449, -797.5218075678592, 340057.53951848514, 340066.82263477624, 340068.46426453954, -791.8137950853222, -788.5704588339256, -788.0998264009547, -787.3896896298108, 340108.950388552, 340114.08098077803, 340144.67326961947, 340149.52602947416, -778.8805294613437, -777.6658075347248, 340159.5523526711, -775.7008849004021, -775.6508811465162, 340172.0454626539, 340173.76764232985, 340176.4018636852, 340176.9545363804, 340181.9389215254, -771.7285805677973, -770.7953371261781, -769.2448560510809, 340205.4512034245, -765.731273479513, -765.0175953940732, -4020.688745591144, -763.2286374842176, 340228.7085617377, 340243.3843249555, -759.7840145399775, 340247.4812049634, 340266.07204682194, 340267.3566950834, 340268.4990257689, -754.7320958331245, -753.4670420858772, 340297.19508154754, nan, nan, nan, nan, nan, nan, nan, nan, nan, nan, 340311.11602718546, -4001.733433431537, 340324.249097748, 340324.42520405445, -3998.694316814847, 340345.1470060885, 340353.4358104697, -3992.925556851111, -735.3892317513353, -734.7746798848336, -733.3535078381908, -730.4095645884979, -729.0844409978242, -3983.345762745967, -726.9437706256638, -726.3897428893622, 340417.5863381184, 340419.1205211501, 340420.28824426525, 340427.0891719984, 340427.0413614893, -721.2746019574886, -720.8756633060573, -719.2896432839941, -714.1699355633998, -713.9988368638358, 340486.969845599, -711.0790940026352, -709.7598903754431, -708.0012699916304, -702.745099327373, -3958.8988427923528, -701.6491811713538, 340542.6275837056, -700.4402878850967, -699.6346400384361, 340548.2683843505, -699.7049230975251, -699.7964679215518, 340555.4609784587, 340570.5090808196, -3950.615058628437, -10461.809545141768, -10460.200877143418, -690.7846108407091, -3946.590578745389, -688.1633195690144, -687.8307082693398, -687.3719001589877, 340608.10204308684, 340610.13598921674, 340613.15534106584, -686.0022566727482, -686.6146950065529, 340621.99710916885, -682.1773158375843, -681.9073586027741, 340639.7223282772, -1276.714948013143, 340641.32036745216, 340647.8951858941, 340654.71761351486, -677.6193138091191, -676.6223193942612, 340673.1266921403, -3930.797128226092, 340699.48767527344, 340702.14001086034, -668.8744205231967, -666.9546502559522, -665.3505295335697, 340733.17005550145, -3916.864270272012, 340749.5741022757, -650.4513797291372, -650.9442587680321, -3906.754943941391, -646.5166084629698, 340834.9161030429, 340850.24016495195, -3895.679978881079, -229.13170964384133, -636.1290033196935, -3892.127752163397, -635.0745552692176, -635.8428706441107, -635.8342828571483, -3891.565902396686, -634.7554082252725, 340876.10188686417, -3889.818290612717, -3889.440113823743, -3888.475152998248, 340905.2149659307, -628.0347855847092, nan, nan, nan, nan, nan, nan, nan, nan, nan, nan, -219.9806898880377, 340928.7269115612, 340940.0739793647, -620.7999472539966, -3876.154494936793, 340952.76570336573, -205.19917623539348, -205.8688504043528, -612.6703348742346, -612.5691288173246, -3864.499511283792, -607.0296789220217, nan, nan, nan, nan, nan, nan, nan, nan, nan, nan, -197.78654689557496, -605.0264409707586, -604.2895693208654, -196.17342033810908, -3859.859807149797, 341034.9248163988, -602.6650976256813, 341045.98889803496, -193.4537529738789, -597.5900312793681, 341062.1714599517, -592.9040866567982, -184.8022994734836, -3845.444920558159, -587.2522897598362, -586.0050840209776, 341128.37497851363, 341131.1745319608, 341134.45337766275, -582.5173426678673, -581.0492936355065, 341149.30397155485, -573.4844488460974, -3826.557850864087, 341200.29894581763, -568.448966142784, -158.43528818053872, -563.4934310595443, 341240.8344005797, -3817.809202794699, -559.5833142768395, 341257.8011020039, -557.344509615609, -556.0885083838864, 341277.43595540884, 341279.5675227398, -553.1644777523259, -3809.863000139029, 341289.50977290433, 341299.6838384286, -549.8506481768334, -548.7230307710513, -107.8279049670264, 341315.5193512814, -3803.3011245009297, 341317.5759518859, -923.3744697420752, -543.0729354185939, 341334.2674613282, 341341.4541594902, -541.1662878756476, -539.0366960702929, -539.6757058821174, -3794.440187262781, -536.5177683286754, -535.6112185534773, 341407.01490546, 341407.73395208496, 341411.1618234051, 341416.0212166705, -526.9747420085612, 341429.4833630971, -522.1280404858123, 341443.3894984593, -114.2547984026767, 341446.24893238285, 341447.2753915267, 341459.80287581193, -516.2398844052393, -510.284342909398, -510.0221330622396, 341513.2417945345, -507.4030922211375, 341528.1261503441, -504.3949315094312, -503.4883746274961, 341543.31790492893, -499.7498117076764, -498.74841377747975, 341564.99952281325, 341578.3084302493, -492.6131972738883, -491.3591370859165, 341598.7404781989, 341613.5883482813, 341614.3507845549, 341619.20330382173, 341632.1530915548, -483.28089552789856, -479.05370693281, 341658.1693982362, 341666.44912460743, -3732.051582439581, -475.6637271912175, -466.4565411707415, -466.0749649742618, -464.6341336266803, 341773.0124802051, 341777.68251540425, 341781.2537064672, -3710.061310117439, -450.4288859973592, -448.7964713574172, -3703.026353843085, 341841.5789132013, -441.7916024727954, -441.3910418806397, 341862.94055860786, -576.2109587974428, 341888.99222978746, -428.03348149077897, -423.9131587752024, -3679.311658639783, -415.1380547107808, 341983.34384503553, -409.1806982486821, 342012.7474161981, 342014.3406879382, -405.80204272214974, 342027.4012381542, -403.6930272049128, 342040.45474062586, 342046.4967140848, -400.8134060190812, 342056.3606472257, 342085.7495396428, -393.6959961940672, 342113.05613180413, -3644.761003910719, 342115.3519323025, 342117.96174756647, 342121.6818804404, -3642.738846938599, -3642.511639541525, -385.898794681995, 342135.065614714, 342153.0509216198, 342167.21211236675, -376.7870128955881, 342183.967644375, 342186.59769627376, -3629.542113497008, 342220.5581393493, 342236.16450711625, 342238.2711615468, -362.7043294168186, -359.8555907727539, 342259.65938937874, -3613.421363235095, 342292.56232463056, -352.38930429616335, 342329.7841422528, 342332.1728118521, -340.0956550499984, -335.73525159601263, -334.9220821529732, -334.78990692275033, 342391.31628263945, -331.9828424076993, 342401.12613974395, 342404.9195516995, -328.59773079494585, -327.6259155140149, -327.56510692759616, 342421.0334195059, 342423.39817316923, 342431.0360623753, -3581.4975028146405, 342434.33462249616, -321.98053607341603, -319.79769366111645, -3572.9330368622527, -315.46651968723995, -315.71101809519746, 342482.433842373, -314.4210559482515, -3570.1086098623823, 342506.9412157248, -304.716569667017, -98.785034180268, -300.64259328925505, 342581.8537110804, 342583.63638293627, -3551.676473101145, -3551.116184120289, -293.2201661697352, -291.45755399722907, -289.163552020779, 342615.7723332699, 342631.4068146296, 342634.9829168036, -3539.547345115778, nan, nan, nan, nan, nan, nan, nan, nan, nan, nan, 342651.26491254463, 342683.1540463468, nan, nan, nan, nan, nan, nan, nan, nan, nan, nan, -272.57903490971944, -269.228971548692, -267.2442957163646, 342725.8118455644, 342768.5468589193, 342783.40577925416, 342788.7189674528, -251.45814031515215, -250.62516217948792, 342807.5683120294, 342816.37372668803, -3504.634243409741, 342825.7967484418, -245.3032282255615, 342836.1592525357, 342836.04769453785, -3500.3108475919566, 342842.7392521034, -3493.7315384506787, 342876.0083547449, 342882.6769650693, -235.7703544324129, nan, nan, nan, nan, nan, nan, nan, nan, nan, nan, -232.3701067639256, -232.98095329726925, 342939.9748763958, -3477.653059811723, -219.71873249245505, -219.4947637008852, 342980.06312020577, -206.3664232987412, nan, nan, nan, nan, nan, nan, nan, nan, nan, nan, 343033.9654969516, 343052.36425625224, 343053.1806900269, 343060.3226575652, 343069.86536508385, 343075.46971000155, -191.1467457844417, 343122.0267459284, 343148.8909655691, 343156.6059378328, 343175.97338062467, -3433.693476785604, -3428.430201263013, 343209.3742339881, 343212.5418828089, -3424.756164510933, 343223.1176605387, -3421.9447224079, 343252.2164213322, -3409.146547353183, -3407.760940968947, -148.27236169769526, -3400.888533172933, -3395.639568146435, -138.52336408278893, -516.661406679852, 343374.94742613664, 343375.62104662013, -136.20265773738242, 343393.7577094221, -3388.4115795492585, 343422.2323242149, -3382.078853135778, 343450.4446294784, 343457.8326175061, 343480.87018263823, 343488.63869946013, 343492.0684372746, 343510.59044926, -3361.1222425823803, -672.2096328053303, 343549.6474651964, -3358.4115873781525, -3358.918760109553, 343575.08274102147, -3352.458371272964, 343599.5028475469, 343617.72632632026, -3344.527696765014, 343627.91263925505, -3342.676336649884, -3341.859989544421, -3339.374696201127, -3336.693175439407, 343666.6345357525, 343676.1728559224, -3332.2708201430946, -3332.783683832146, -3331.96526044585, -3331.044111519474, 343691.94406249194, 343705.8460466224, -3318.396588778109, -338.3974625686715, -3317.168729070116, 343812.38054709125, 343823.54721527244, 343828.72301098105, 343831.22769540705, -3296.7599620220594, 343879.9130908907, -3291.006922759942, 343917.4134090625, -3285.693216479515, 343937.4041314651, 343948.5592625553, 343966.04591479694, -3274.6269462299574, 343984.9319101783, -3271.6598172718573, 344001.9987919404, -61.5184565937786, -3268.293687613756, -3265.3570188667004, 344040.2246999022, 344052.8991638897, -3259.7676351151063, -3258.8360293421288, 344072.7549884878, 344088.3666138947, -3251.1319962285365, -3249.4513901002088, 344108.81088013016, -3247.914758173282, 344133.56152125885, -3237.410105871388, -3235.885834558007, 344186.98408316745, 344187.3611143287, -3230.815041960181, 344226.87443668954, nan, nan, nan, nan, nan, nan, nan, nan, nan, nan, nan, nan, nan, nan, nan, nan, nan, nan, nan, nan, -3216.8593181655674, 344287.3793767903, -3212.379154039056, -3212.4947135927364, 344315.7781832741, -3204.219522736323, -3202.244757974128, -3200.1176250809917, 344351.4278130325, -3197.3783452206194, -3197.840587440593, 344367.45836654626, 344393.24691615097, -3191.930839541252, 344395.07761696604, -3190.008382748056, 344406.1526086511, -3181.931404420224, -3180.731473947392, 344467.2387232642, -3173.877089380209, -3170.888204009769, -3169.301501292845, 344507.39278483123, 344514.09933771833, nan, nan, nan, nan, nan, nan, nan, nan, nan, nan, 344525.14775197225, 344532.7780091499, -3163.1315046340974, 344543.53858135385, -108.2772362611788, -3158.2635716575483, -3158.0596784322884, 344572.29187785485, -3152.220638995554, 344609.33232975786, 344623.8361045172, 344629.3643760181, -3143.406369570003, 344638.3476646865, -3138.06821117526, 344691.8823045298, -3132.339118206512, 344695.9860973848, -3130.572402849021, 344702.46309423534, -3129.804682394001, -3125.6034201617736, -3123.3956903193816, 344746.3266182616, -3120.9213943171694, 344753.05628458346, -3118.997368975341, -3115.57000606518, 344785.6802055622, -3111.554606618171, -3110.1641071949766, 344802.2630868748, -3108.834442535536, 344816.0436450312, -3106.692256565741, 344831.54434063786, -254.7524389421121, 344869.47761415853, 344879.1399513861, -3092.406171716601, -3092.769984013014, -3091.6818799222315, -3089.115713229076, -3088.2624034052974, 344919.2641582985, 344923.2586347105, -236.8819675705724, 344932.14901033987, 344947.1407116911, 344954.7201427251, -227.5597493816874, -3073.4657553778584, 344989.76256645826, -3072.297595707016, -3070.788861874377, -219.17600617269065, -3063.204024344747, -3062.038242767549, -207.6669783243576, -3054.073159939488, -3052.468880429766, 345099.59069297113, 345108.01712984947, -199.58637898848403, -199.86924043913652, -3048.9890852682897, -199.73177147736143, -196.11186465999683, -195.49754549516885, -3043.933614681601, 345148.1217993089, -3039.653431706595, -3038.531741856425, 345182.46625193, -184.64987578809425, 345194.06667343737, -181.78328343839505, -181.61300828377145, -3029.0526887002184, -3028.0277363820464, 345225.1555796385, -3022.8800996566247, -3020.979677207972, -3019.280877857737, -3019.6184516935523, -169.27440358975375, -3017.782065456124, 345292.1074326054, -3009.4116259075568, -159.14345459419175, -158.1402702209359, -3006.0789198711686, -3003.168032217897, -3002.535550657693, -3001.0666237993178, 345368.3892812636, -2997.4928395543543, -145.51719599063082, -144.66691761120794, -143.6631320190315, -141.22813890179506, 345409.2140654642, 345413.8760266992, -2987.004811735333, 345450.35655953287, -2979.677410755023, 345464.58278929745, -2977.407625177268, -2976.9794031581373, nan, nan, nan, nan, nan, nan, nan, nan, nan, nan, 345502.30713256216, -2968.507883537943, -2967.2924487139085, 345525.64643336844, 345528.1017561831, 345529.6957696292, 345544.1341932303, -112.51753397531112, -2961.5245325169512, -2961.549737645941, -2960.303371909748, -2959.6338617720216, -2954.865269615541, -2954.331002741105, -2953.054815377364, 345600.40138287446, -505.427182098733, -2947.4054191701057, -504.72431829238, -2946.1744520737743, 345627.9031715672, -2944.903972464101, 345640.87089444924, 345640.77871581307, 345665.19518994057, -2936.038402698847, -2935.2258925281044, -2935.0614811801465, 345689.2386935656, 345696.9550067041, -2931.085958587479, -2927.137487661305, -2926.354313272412, 345729.0401946977, -2925.568387594127, 345739.322129499, -2920.9316980494427, 345759.56900897843, 345759.7946687977, -476.5126231370402, -2917.701025058496, -2915.524925130429, 345794.4864860629, -2912.827609054661, 345830.60018113145, -2904.387707544877, -2903.921653894841, -459.27290563741616, -455.6602391427302, -455.2406431105671, -2896.3863099299365, -2895.7584203774736, -2892.607181269432, nan, nan, -449.3568847183457, nan, nan, nan, nan, nan, nan, 345909.54036722885, -2888.454073305506, 345921.4396209786, 345924.62716833065, -2886.02864537042, 345937.7403137838, -2884.498636830204, -2884.6727961256315, 345954.6167369434, 345955.4754213549, 345978.58917426475, -433.5772235412175, -2875.499547903885, -2874.3750897143004, -431.0374649074917, 346000.8638925216, 346004.7860889598, -2871.780320541117, -2871.9911008204967, -2869.1528590053026, 346015.1504535509, 346018.8531977551, -2863.7245705907485, 346047.6372556339, 346047.25612852344, -2861.551122342335, 346058.81651438767, -417.1319120363357, 346065.4003982968, -416.71227179237457, 346085.5330812045, 346117.1736852112, 346119.7575967147, -2847.503084796925, -2845.3523882349004, -2844.5470858598133, -2843.869209863646, 346148.5697048563, -400.05039951248426, -2842.2621558853084, -2839.59439902064, -2838.0636643961284, -393.8735485325694, 346184.39554972533, 346197.9464141416, -388.404961283252, -388.7292254569135, 346213.45226582896, -2829.665755236844, 346216.96491774806, 346223.8321206421, -385.1066157346274, -384.8423029227658, -384.1302613326631, -382.9080565779811, 346240.3975480252, -2824.5429622190227, nan, nan, nan, nan, nan, nan, nan, nan, nan, nan, -2814.7670857909147, 346298.3087579744, -365.8496886114778, 346331.709169558, -360.4649196237521, -2802.2266713967297, -358.94024746725944, -2800.992549737492, -2797.183296159896, 346380.63753619697, 346393.1786539285, 346395.0636958245, -2793.246657004593, -350.0440046883056, -2792.3396761970184, -2792.7104418527947, -721.2643098452954, -2788.9580314395776, 346422.996600979, 346422.8107483528, -2786.268376077393, 346458.1919907595, 346464.42542554624, 346471.0634252865, 346476.302730614, 346482.39820742497, -2775.9063965990504, -2775.8552909574487, -2774.655137092032, 346509.7309185325, 346519.0709965991, -2768.868054892441, -2766.9624267148724, 346541.6188949218, -2761.4844529972365, -115.36841448351898, -2758.292954383204, -315.5568234484787, 346584.6727438124, -313.1581882494435, 346595.40292086673, -2753.908868202129, 346602.4537820183, -2752.2171689474603, -2751.565571515452, 346609.442217354, 346614.0673803252, 346622.21535546373, -2747.29832463484, -2747.13218861989, 346639.41391550016, -302.5923402069263, -301.0007843045848, 346659.27837559854, -294.41125033923043, 346694.3913588401, -2733.252454723112, 346700.79552684486, -2731.1287761283043, -2730.421246112474, -2726.9259426367066, -2722.8507708057045, 346759.2163751008, 346762.8178776578, -2720.291484155982, -277.2370380732215, 346773.97193579306, 346782.5499510521, 346802.1586855512, -2710.8314197325767, -2710.486179441709, -2709.4313583545104, -2709.0690390782934, 346822.382198658, 346825.37508127856, 346826.4041126909, 346829.7836932887, -2706.157795285248, -2706.976924487932, -2705.797305768487, 346850.1819659673, -2702.370784604093, -257.73303383589763, 346877.6121063752, -255.5528747713094, -252.5181548885309, -2694.3869106073457, -2694.398983171716, -2690.324006861278, -247.17027829360876, -2689.431546974069, 346925.9756044956, 346927.81850381143, -2687.793322067297, 346951.4446872685, -240.51508351910587, -2679.266911199166, -2677.2981080362665, 346981.8553702431, -233.8050063531652, -231.41582726235055, 347000.7673395244, 347001.0365897226, -2669.073964536989, -2668.0188603817664, -2665.324650877367, -2665.296847699527, 347044.92670373287, 347045.6268122009, 347051.8642004341, 347060.0426883627, -2658.4860825068777, -2657.1550924657845, -213.3836825573332, 347092.88566902553, -212.8556108487998, 347101.5188049604, -209.39574411369784, -2651.061400869458, 347123.7894048842, -1018.9063682456932, 347136.7237057589, -1017.1789354666404, -1015.515144241736, -1015.0610308695892, -1014.2913871222069, -1012.1804081767556, -2640.3998194411747, 347168.43606420944, -1010.4994368628164, -1009.1763598383592, -194.3633691772872, -1006.56521593315, -1005.9049847516568, 347204.51577323064, -2631.158586262189, -1002.32633380766, -187.79953277093108, -2629.3579611530736, -2629.4584778625854, -999.7451492411516, 347231.9370169748, -998.271482773877, -996.2328051330284, -2621.989667042312, -992.9396553193188, -991.6314407446704, 347274.7592071276, -2618.6712370983028, -175.76114277112418, -2616.0646727211647, -985.7984880797763, -985.9345999175372, -2613.25217254694, -170.96968751597586, -2612.940193089524, -2612.822920091547, 347310.0330842031, 347311.9735629505, -983.2666078339704, -2610.554114159632, 347330.3909380964, -2607.2485696871995, 347333.2792342856, -2605.743109247886, -2604.571645574741, -975.0696507953386, -2603.5853263616486, 347356.51917649945, 347364.67401511304, 347366.26480925124, -971.6625731451828, -2598.630201373066, 347384.8782433549, -2595.2252398912883, 347401.3722732017, -962.5817220309824, -2589.669758448856, -2588.2633678025672, -2585.7635516543364, -956.589634419434, 347451.4668903196, -955.8127965965456, -2582.3274321359227, -2576.822206358944, -133.04137569614858, -133.88373922372438, -946.3988938016724, -941.8800421584116, -2569.404771197124, -2569.2046270152773, -2568.192779556794, 347530.14716554875, 347531.4920949138, -938.4967937529042, 347542.4835635039, -937.050163314933, -2564.846183144988, 347548.83751049737, -935.579116708927, -2563.944837094589, -2563.4101630702557, -2561.982860393928, -2561.371902929041, -2560.78558677927, -2559.01220502733, 347575.64120206865, -2558.186375143729, -929.2235387819516, -928.4887540590886, -928.2529487398248, -2556.549273467252, -926.405744438926, -926.479339240938, -926.1858308789184, 347601.8541409803, -2553.632052317817, -2551.443820374849, -922.24259150011, -922.5316023230504, -2547.438754668969, -918.4577035188928, nan, nan, nan, nan, nan, nan, -915.0071093626672, nan, nan, nan, 347661.4080619188, -2541.252295270981, 347669.8488246086, -2540.7213747007268, -911.3350964956304, -2538.3395389875063, -2538.1223780422847, -2531.4954988858467, 347722.3586706733, -901.1925898313026, -2529.131432943234, -2529.633034399151, -2528.785505751665, 347733.9967489761, -898.0227437045893, 347744.4083888389, 347749.646806057, -895.075156681433, -2522.39811122145, -893.6308696616221, -2520.821492106876, -2520.156253966105, -2520.9797894128883, -891.6390563401789, 347776.8626746339, -2518.7415620689067, 347781.357323758, -886.4355081861455, -886.0573512646666, 347807.995204421, -884.7335761525743, -883.3801209489671, -2511.443204864909, 347829.08132133185, -2508.11082565922, -879.6203318710492, -877.9069609549484, -2504.693718374729, 347857.82055750553, -874.7886716741147, -871.2747453401013, -870.3117785496239, -869.9538327700963, 347892.35928447987, 347897.21572643967, 347901.8743896133, 347903.5305097797, -864.9831943096839, -2492.423340697586, -2491.6665796238817, 347919.9077083342, -2490.405295953517, -861.6727789669136, -861.0609569959621, -860.2116887122435, -2488.311827341637, -2487.336761357727, -2487.734173030953, 347947.8355073804, -856.9938734070444, 347956.3810685661, -854.1586607490977, -854.5698221915178, -2481.925664753017, -2480.4253558885616, 347972.2907674529, -851.4437437278508, -851.2417027122798, -2477.202992527333, -2477.235805594523, -2477.279056921989, -2476.791928793164, -847.9931184836374, -846.6845766177418, 348009.4909266336, 348021.51845870144, -2470.912765901067, -2469.660357640016, -2469.699251827948, -2468.005671460233, nan, nan, nan, nan, nan, nan, nan, nan, nan, nan, -838.2795183898421, -838.6854101865143, -165.84406033363396, -2464.8428528371883, -835.1328910962899, -2463.425869198662, -2462.124378836936, -2461.344863530742, -2460.5681365251244, 348087.5067516545, -2456.5312739145543, -2456.776029832145, -8967.728500136418, -8966.177745765766, -820.6773685061404, -2448.7453590981354, -820.1047773003344, 348135.77782217326, -819.6494177603059, -2446.8060245263064, -813.3687492718442, -813.5473261982048, -812.8163168952511, -2440.7332852358145, -812.194747641756, -811.6951787707536, -2439.085145792828, -2438.9496886998954, -2435.395367687223, -2435.253928230252, -2431.161965424332, 348221.45763048565, 348222.38449379866, -2429.8680470984677, 348232.25629612646, 348232.5569880113, -2428.819466763511, -2428.965465844038, -798.1002689908915, -797.9924838162448, -797.7347159983825, 348253.3616816921, -795.339973929788, -2422.0890346188758, nan, nan, nan, nan, nan, nan, nan, nan, nan, nan, -2419.128599041311, -2418.488859868085, -786.1538712478474, -2412.015123346899, -2411.8454001041523, -2410.2055342288154, 348328.7536563003, 348335.8045444119, 348336.66079437017, 348341.5357765967, -778.7558293840599, -778.5935285115216, -774.9914623078317, -2402.0075790126834, -2401.601135250054, -2401.9545681854183, 348372.76683961053, nan, nan, nan, nan, nan, nan, nan, nan, nan, nan, -769.6007639628357, 348390.14884089964, -768.4710142680493, 348397.6701303199, 348402.8138568179, nan, nan, nan, nan, nan, nan, nan, nan, nan, nan, 348414.02800940943, 348416.9880442418, -764.0741780270897, -2392.7244845835307, nan, nan, nan, nan, nan, nan, nan, nan, nan, nan, 348421.60817306105, -2389.0052570184093, -758.6512460973378, -757.6126236444821, -477.46365966922895, 348457.56927421107, 348457.0232841342, 348482.31073303014, -748.9357845578512, -744.0242921763789, -2372.104862227647, -2370.3386551379485, 348525.52018847177, -2369.3658889908024, -2368.651742966608, -2368.716226324725, 348537.5001330709, -2368.9046924431173, -738.1269482238482, -2365.710549674772, -2359.60997818672, -2358.7709252731825, -2358.122341376899, -729.6686622881504, -729.2302836784462, 348595.8813275645, 348596.4744238222, 348600.2902259256, -2354.199528460473, -2352.744808831802, -2350.8970054128663, 348633.72749460983, -720.8051994059339, -2346.561694415243, -717.7872805282701, -2344.182990243104, -2344.9577102153094, -2344.962855434806, -2344.652366676801, -715.0138729769102, -715.7694380950694, -714.1261917518465, -714.8791668192868, 348671.5775907609, 348680.7635693473, -2335.147943151906, -2335.8492926119948, 348709.9920388028, -704.5581691299582, 348717.634760965, -2330.319106684627, -2663.188373269125, -2323.813590544644, -694.1990237780252, nan, nan, nan, nan, nan, nan, nan, nan, nan, nan, 348779.7545259131, -691.9542567367322, -2320.905118068797, -2319.5124405486845, -2320.837269882179, -2318.072495228724, 348792.14840993163, 348798.7456157704, -2315.122859894193, 348803.565280476, 348805.69522823306, -686.7871042154662, -2314.8922804398485, -2313.372599013954, -684.6307950811157, 348818.8561993716, 348819.88796937524, nan, nan, nan, nan, nan, nan, nan, nan, nan, nan, -2310.8606011824218, -2308.5323887139207, -679.0516470245481, -2307.8496295154678, 348842.7245789205, -677.9438307788301, -674.3150165066369, 348867.0991375, -2302.951113450036, -673.4874005376465, -672.7917694809772, -2300.216174548485, -2299.426029430017, -669.2810773243879, -2294.481989816499, -2292.550500042557, -663.0004722331001, -2290.219970185572, -2290.335113907868, -660.488765663879, -2288.049365122974, -2286.262752409341, 348950.00417080737, -657.5677360016476, 348951.2914922758, -2284.205607510076, -655.8586024175135, -2283.671065878953, -654.6143541290281, 348967.7350480045, -2280.835568164083, 348980.83233564545, -651.6910397849903, -244.0824554267016, -243.00794732337968, -648.9280660414357, -2275.243651213072, 349009.83106119576, 349010.53904123127, 349012.1646859763, -644.2688443743233, 349022.22200130514, 349023.67924101, -2271.774467769245, -2270.6192332946853, -639.5647075616622, -639.2174314082173, -2267.025943350935, -2263.82224494758, -2262.712303593806, -2259.412109676225, -2258.271653085922, 349089.4215969341, -629.6666973630187, -628.7992457038223, -626.8158534967321, -626.5560555274502, -2251.410802176379, -2248.5238147050263, -2247.862982049463, -618.512685518656, -617.938882078052, -2244.046541150376, -2243.14827237237, 349164.34845539776, -614.7373830571038, -206.3949935029265, -2241.650929553624, -611.8715146657165, -2238.444390486375, -609.9250187339245, -2237.382512902905, -201.1848713989472, -608.8011435272298, -607.1139261768936, -2235.163051992084, -606.8270506771811, -2232.7862650231787, 349235.54793110694, -600.294197927146, -599.803493146063, -2227.3647404788176, 349250.6374812879, -597.7478412547613, -2224.246572326078, 349264.1971682681, -2223.997599839157, -2223.698402707249, -2223.70292128767, -2222.382681698248, 349269.7307848939, -2220.384764836021, -2220.710993043466, 349287.472752348, -589.2502826335827, -588.777921099682, 349302.7975735039, 349317.15672720823, -2212.461396279507, -2212.47962548397, 349323.9405671461, -2210.82638237294, 349331.3041485154, -2209.2526165559616, -2207.8128675781686, 349346.1097674708, -578.8235778199547, 349351.64343759103, 349352.652177991, -577.162340290363, -577.7272895157736, -2202.214302515755, -166.0532125743263, -573.1581540711437, nan, nan, nan, nan, nan, -2199.368898041587, nan, nan, nan, nan, -2198.3505050380304, -2198.059454180772, -569.8361622536019, -2197.460718185312, -568.9784429435173, -568.4129874453344, -2195.688841518035, 349414.5965107234, 349417.10618864105, -564.0483396142378, 349419.62652802304, -2191.211785029546, -2189.7562138433773, -2188.7564450779378, 349442.7977675009, -152.7795691752705, -558.7050526931458, -558.2718611063161, -2184.000174433086, -148.76365985638736, 349465.6330803109, -2183.42956999195, -2181.2105072328272, 349479.1080440797, -145.04306550693732, -2180.8578203430084, -599.1097662616066, -550.1938807541252, -2177.5371016304875, -547.335027037731, -547.5787883519594, -2175.0829532587163, -546.4464505108577, -2174.452216578288, -544.2150430529351, 349533.6555667144, -539.778603284493, -539.8660194754399, 349545.90200333967, -2166.65458191872, 349557.1636539587, -536.2112581616481, -2163.2266374561354, -2161.6579325982607, -2159.681424116829, -2158.8499867917585, -528.1540080823949, -526.8628662612579, -524.1932519846383, 349633.83407551283, -521.6950830594402, -519.1085266392971, -2147.472607702785, -2147.212460082774, -2147.1394041215303, -2146.133642828829, 349653.89601596346, -2144.8789501003816, 349664.7261144033, -515.4814761586064, -2138.132911417419, 349693.88780782284, -509.2619450873268, -2135.656247711006, -2134.389248040505, -505.8858080229735, -504.6508064677024, -2131.448927769831, -2129.430666318573, 349741.60515020083, -2128.613097717284, -2125.315628057597, -2124.3362224361067, 349773.3318486369, 349776.1720242187, -2120.1773537591093, -491.9729961166473, 349790.09806923656, -490.1438805718068, -2118.642406135876, -488.74329884066594, -486.5671074849894, -486.7192228755854, -2113.3468876977263, -2112.4178999531964, -2112.694563350404, -2111.971783877369, -482.0801487722098, -2110.090306127659, -2110.7039060454613, -2108.4477060130707, -2108.4147587849534, -2105.8810713511107, -476.74767044778366, -475.0899523572358, 349880.4354216036, -2100.1580364121405, 349892.75347614195, 349908.39713870536, 349909.7294715725, 349912.5597523903, 349916.93340693915, 349933.0319226553, 349933.5300675252, 349936.0661930046, -2089.1137157512426, -2088.951148636376, -2088.072298317293, 349952.5332591922, -2086.005219499148, 349957.4201332339, -2084.8389013970777, 349967.8654767584, -2080.740408224058, -2078.9164322606835, -2077.8489842329004, -448.221932823412, -2076.9559905335777, 350005.623052794, -2075.1005786718147, 350015.79115756694, -2072.099128946457, 350026.22032815404, 350042.35194081924, -2067.552684921932, -438.52029355574143, -437.302111410189, -432.88313930185234, -2059.6967628860225, -2057.8964569366294, 350116.0462405197, 350117.7362307048, -425.2492234668522, -425.6031295411218, 350119.84098429506, -422.6881727619426, -2050.5480737391995, -422.8894278024569, 350145.5239407976, -2048.0949853769275, -416.14359563479286, -415.13191396278, -414.6908767045812, -413.27713417699, -413.701632372679, -2041.2172499608664, -411.52549377275193, -2037.5641844491224, 350204.7881973916, 350232.7622617384, -2030.362977780193, -2030.055277168471, -2030.2162035575025, -401.6816832847786, -2028.1644407969784, -2026.896727308404, 350258.8044884187, -396.6184760555776, -2022.8296272627945, 350287.2211011181, 350308.36431403673, -2013.8382806249524, 350322.38935632235, 350323.55001760786, -2012.8890076612956, -2010.3582720538056, 350342.6949721019, -380.8744182430497, -2008.581458033716, -377.0596524195704, 350370.91774706607, -375.73783724060615, 350372.95248842647, -2002.2784059220744, -2001.117072757052, 350391.0137552729, -370.3664023814114, 350396.7473895755, -370.8689412925802, -369.4731924895683, -369.7002232523597, 350402.9593379324, 350420.94170134765, -1993.522017019936, -1987.3347808503172, 350454.1711473812, -357.81603146158216, -355.8786895590007, -1981.6228557161253, -1979.366500463408, -1979.3883183604653, -350.7852871103556, 350497.1048816841, -1977.4086851242469, -1977.993064481771, 350516.1315747195, -343.2944393610493, -1971.2131593719264, -1970.311944098818, -340.644655179624, -1967.1989121124884, 350553.2898752502, -337.71916966241827, -337.5564058340302, -1961.5298351564984, -330.38388008862296, 350601.2954583669, 350615.692492128, -326.9749116514291, 350620.3195986601, 350625.90854145424, 350626.05700523034, -323.0215241805005, -321.6405570274188, -321.1762734434657, -1949.131935465079, -321.9689726608782, -116.93767566150213, -316.06182016336845, -1943.584817223828, -1941.4689143683468, -1940.7040643238056, 350691.362163008, -311.8022799475972, -1938.773970133729, -106.45061388478292, -1936.8227697124207, -1933.31899355189, -1931.8753774740403, 350735.5746136564, -302.0950622727638, -1929.8071362877768, -97.3721664687529, -96.84034252348296, -1920.82749919776, -1919.435673200373, -1917.425893716229, -1917.5451013131192, 350825.0959375406, 350836.90086471324, -1910.658437478793, 350844.6413112879, -280.4918039186383, -1908.9496220911465, -1908.5933409431768, -1907.9438123621808, -278.1571126218174, 350858.0052336374, 350871.17104772874, -274.40514925307855, -273.73222493956075, -271.5705315052388, 350896.7895603987, -1898.517103764631, 350904.15496334014, -1896.6760150339765, -267.57028264047824, nan, nan, nan, nan, nan, nan, nan, nan, nan, nan, 350917.1576865924, -1894.785882803381, -1893.2998286398856, 350927.81221017864, 350927.23857963306, -263.99867778782084, 350935.16465220234, -259.51825512287417, -1887.4640373139869, -1883.592461979148, -1883.1797116483908, 350980.04379474337, -539.6618148790567, -1879.8122076964596, -1876.270086066736, 351010.6422371237, -247.8813837202057, -1875.9720125305307, nan, nan, nan, nan, nan, nan, nan, nan, nan, nan, 351027.30652730784, 351046.2840760139, -1868.909775822333, 351051.5551501372, -1867.64705155214, -1867.3596206514144, -1866.161455115111, -1865.6070498875165, 351079.59033796506, -1861.118120226944, 351092.05552710925, 351093.10715455154, -231.6911323572573, -1858.36713221736, -227.320515569642, -1855.2118308964732, -226.7650473573109, -222.00765627979183, -1848.0858667557409, 351160.95360899216, -218.20252364324608, 351171.8631986677, 351174.8610803383, 351176.6972052424, -1842.0255177765089, 351181.85411164025, -212.818221633485, -1840.395482626584, -1839.4786608057807, 351207.1073116227, -1834.8287247012945, -1832.479852058876, -1831.6964263249888, 351237.3152208458, -202.14311439519463, -1828.3780381810889, -197.9647506937332, -1824.3903796567197, 351273.5325069096, 351280.86556747794, -1822.5481388459289, 351288.53372825054, -191.03871644516823, -1819.2603203186595, 351299.75830496184, -189.1296187016311, -186.07934688583612, 351326.0923798687, 351346.9454339314, -1809.917304512392, -180.98296856555737, -1807.3822389961083, -1807.3976933819708, -178.29088257961723, -1805.8680255851727, -1804.593461690189, -1804.2702042085716, -1803.080913406095, -1803.9306052678608, -1802.254326335597, -1801.701392567908, 351394.3203689194, 351398.8272994925, -167.9440236230754, -1795.3127797522889, -1795.960017470989, -165.3777518512385, -1793.704493803691, 351429.0973907812, 351438.43958958605, -161.14884537634555, 351449.84502574365, -1788.1646787622435, -1784.9933413691092, -1784.3817310315158, -155.33018338172826, -1783.316775738815, -519.9447391680569, 351506.26856958546, 351522.2948210941, -1772.1096719690363, 351543.2576012697, -1770.2897880004534, -1769.095529790055, -1767.2766251246908, -1765.9134726109282, -1764.0431782323362, 351581.028662614, 351582.88254300674, -1762.0618434331832, -133.2466010803679, 351595.2742470732, -1757.9030746058893, 351614.95457567344, -1756.0112686579291, -1755.9074433485025, -1755.936778341224, 351626.4850075998, -1753.8823995238986, -1752.594904456459, -1751.4111263256314, -1748.295677801087, -1745.8844767902033, 351689.537395573, 351695.20717593643, -1739.4390472614182, -1737.695960363641, 351717.3898948481, -1732.406585036319, -1731.512204608704, -1728.1558532019085, -1727.5247805379572, -1727.7072988597197, -1727.072792704747, 351766.613454318, -1725.1620119343029, -1722.5110066993134, -1721.861309123768, -1720.1494848843436, 351797.3387582006, -1719.5592113712942, -1718.4565939445606, -1716.709142855691, 351824.79476554017, -1714.9979438508385, 351843.39021403587, 351844.2104089217, -1708.3105146909534, 351856.03206729755, -1707.5979062354604, -1704.6827228009756, -1696.3465082076114, -1693.0696070203508, -1693.5724236142746, -1690.421079517299, -1689.0822000997946, -1687.4032501960214, -1686.419676535143, 351970.7121480757, -1685.9267172902296, -1684.2711008019492, 351984.1825733533, -1682.129175257944, -1682.338047080459, 351990.01883779577, 351990.53734255454, -1679.7509820052533, -1678.9697707120636, -1673.404292265976, -1672.72959926279, -1672.1925562755828, -1670.809067562865, -1668.3415422573585, -1668.5840172530775, 352060.0754404394, 352061.56953316345, 352063.1740195293, -1666.817098212829, -1665.0006883404717, -1664.430186364351, -1661.1614847324731, -1660.241660434211, 352100.2049662508, -1657.7946929021186, -1654.4372296565657, -1654.8559872881528, -1653.972845015866, -1653.8800453189183, 352136.78555838304, 352137.9265015519, -1647.8225563520632, 352163.7399694268, 352170.37090445, 352178.69179456617, -1643.7651306321554, -1643.4717721259226, -1642.1630050232548, -1636.419774592889, 352239.799750624, 352241.5855502026, -1631.2625585776736, -1631.9394026219366, -1631.309041974741, 352247.2461479753, -1630.312042827562, -1629.705608968918, -1628.8377182250665, -1628.07756349923, -1628.4323501968124, -1624.1547816475218, -1624.9654717117032, -1623.412895620561, -1618.9113389762265, -1618.6452831622614, -1615.3731300397344, -1615.9148140204693, -1613.7818165405938, -1609.4750510958825, -1608.2174684310944, -1608.5911266063308, -1606.5531987722156, -1606.83900872831, -1605.7780718087893, 352381.04610157845, -1603.284534680281, nan, nan, nan, nan, nan, nan, nan, -1601.5868095596493, nan, nan, 352398.2847489773, 352404.9451844672, -1599.5469323926432, -1598.5977767872305, -1598.251466098171, -1596.2894600431232, -1596.096592069924, 352453.56668334134, -1589.7814009573162, -1588.8316419325315, -1583.9172637050783, -1582.8345030346304, -1582.1138871193366, -1580.6221292853593, -1578.6145798847906, -1578.4194286658262, -1577.8766261052265, -1577.5446895667887, -1577.9996426816947, 352517.876544214, 352520.3330513489, 352525.70209733385, -1573.8429026425424, 352537.1275541195, -1572.7014685141116, -1572.280693694473, -1572.4008289960425, -1570.0165734670377, 352557.8683473465, -1563.9092991849343, -1563.281035974946, -1562.7722997557871, -1561.61312692834, -1557.0954243782148, 352622.5740983546, -1555.993659260394, nan, nan, nan, nan, nan, nan, nan, nan, nan, nan, 352635.0854074958, -636.5214911543408, -636.6261406616068, -1550.2744272940222, -1548.63754364046, -1547.8040604851817, -1539.304174090012, 352708.8342700408, 352724.22812674736, -1535.2502894842878, -1535.7722811998706, -1531.7989297242334, -1525.2822141731326, -1524.8692995442475, -1522.8366526267205, -1521.9328311486902, 352800.5744706253, -1520.5911734061724, -1520.4639721921417, 352806.69700653484, 352813.0943515965, 352818.6241717856, -1516.849843640563, -1516.3754264674285, -1514.129894907794, -1511.0527633747338, 352858.2051800509, 352862.52718776866, -1506.3129277226749, -1504.9241914357376, 352888.0236130628, -1501.7075447856846, 352899.3610668251, 352899.5711751333, 352911.3236357171, -1490.193986778852, -1488.743024096308, -1488.8819847934487, -1487.922834286947, -1487.037346874586, -1486.6330677047467, -1485.878046284654, -1482.1476147860817, -1481.67056476659, -1477.1947888358304, -1475.9611670291456, -1474.328527463757, -1473.5476748774222, 353044.32267322944, -1470.5745259620112, 353056.0501219144, -1469.9342710829446, -247.6199609343581, -1468.90880205425, -247.59966759999733, 353080.23112030665, 353081.99274614686, -1464.7975167440404, 353099.8052126229, -455.43563639164313, -1458.9429088808124, -235.31902275031243, -1449.253158207052, -1447.7650588443744, 353175.48854904034, -1445.6066452762338, -223.5470176888244, -1443.3337405102725, -220.1668361218377, 353202.5033221433, -1440.353367468581, 353207.8092264558, -218.3671914477596, -1438.9845512478428, -1438.231794671456, 353226.8732708303, -214.46696183032108, -1435.9816086544038, 353228.610661524, -1434.3038509437397, -1433.8963538903995, -1430.7850660878871, -207.3169021051868, -1428.087861164217, 353279.9167670751, -1425.2145135765063, 353284.7494588249, -1423.352179707665, -201.84897757515827, -1422.217661154666, 353304.4823695333, 353311.040246439, -1418.2045903852072, -1417.2971020703812, -1417.5704488265114, -1416.1155852098968, 353335.1443721606, 353346.29489404865, -1411.7377748451404, -1411.1265353551412, 353368.73662804783, -1407.728133028761, 353371.6532302158, 353370.10849124147, -1403.937351704512, -1401.2394081464304, 353404.738687566, -179.80960423235737, -179.32644554828002, 353413.16628675896, -176.5575965506392, -1397.6580457208206, -1397.7598591795363, -1397.083174644717, 353424.71246236726, -1393.889712876466, 353442.67201431, -1391.8384762914452, -1390.9099998312472, -1390.891028979699, 353463.9179172436, 353468.1610141037, -1387.0165563100477, 353479.9566839601, -1381.847960312069, -159.74355517427975, -1379.929986391719, -1379.9937401071606, -1376.5264545414925, -1372.4713388574005, -1372.5861144155338, -1371.6598536981842, -1371.4155048821308, -148.7055055644956, -148.7295763475755, 353581.8833142052, 353586.58202876133, -1364.7903194075593, -1364.6393301876765, -1362.7249038002506, -1362.0417275002387, -1361.4902472207891, 353604.3495908536, 353617.5583070107, 353625.82808778813, -134.67355231115252, 353630.28009444225, 353634.85571258696, -1354.9058956081176, -1353.3142457937815, -1352.83568566865, -1352.2052657230747, -1351.4590061716012, -129.7348261151852, 353660.78958443133, -126.59691592509952, -1345.263645567266, 353688.31498985883, -1343.7644647493676, -1343.013631261018, 353696.7788256401, -1341.4067735200065, -119.83014994915683, 353726.0822435999, 353731.4323382981, 353736.0274170657, 353746.6310377381, -1332.590326075017, -1329.7661818633992, 353765.64230955555, -1327.8322280084817, -1327.5033502141491, -1327.205069822529, -1326.98220167493, -1326.2418807220042, -1323.9463316879214, 353802.8116754196, -1309.745159299699, -1309.8943905550082, -494.54486381212206, -493.36853456728255, -1307.5469193030972, -1306.8323794933044, 353891.1780431012, 353894.17262163525, -1302.0260419746796, -1301.6160124715684, -1298.1093241369294, -1296.4350227738346, 353929.49778561416, 353934.1784013899, 353943.0364405041, -1291.892224811047, -469.3092878176545, -468.1354329076899, 354001.84355325706, -1281.9922700296397, -466.96608813373, 354010.5309126136, -465.8903533692815, -1279.1900770902362, -1278.5133976121, -1277.4000077176793, -1275.3732426315714, -460.24777919062086, -1273.6830719718132, -1273.4030654946423, -1272.242352262791, -1271.396795176674, -456.7936686072158, -1269.7673756488043, 354068.8420120255, -1268.8706856224185, -1267.3288264204589, -1264.8458021870724, -1262.5697281284015, 354103.2419443461, -446.04523726652457, -1260.1201571053175, 354123.064328066, 354123.1038798357, 354128.196870876, -442.51401543348817, -1256.4551738700943, 354139.07540204865, -438.4565330780793, -435.3100274491922, -1249.8622475964808, -1249.4236727559678, -1249.6180748902193, 354169.1075814592, -433.3768537458532, -1247.4751683507025, 354177.2313022119, -432.2145245727757, -1244.566919821635, 354192.9924503754, -1240.1253569860733, 354210.9319244856, -425.1170537585445, -1239.3018670393926, 354218.71627235174, -424.2871780868541, 354218.0033947363, -1238.2166843108976, 354239.970267369, -1233.3847240452455, 354259.1826458685, -1229.6331416560247, -1229.3914171188703, -414.1858747974698, -1228.2226760898325, -411.9443465446498, 354289.2266887151, -1224.7141880267377, -409.2700457450888, 354302.0100092546, 354302.265732987, -1221.2414423801042, 354312.03320365044, -1219.7747094000756, -1218.3109556012755, 354330.81796837546, -396.94689520180015, -1209.1280832366251, -1209.9426924087006, 354367.67946267256, -394.7368977603879, -394.0428823359112, -1206.8939756408404, -1206.0157704794442, -1206.2599455327495, -391.452415286653, -1204.0382313475425, -389.6364803412749, -389.8254162504314, 354397.3777464073, -1203.83017243744, 354399.0179102493, -1202.6654087043194, 354409.2038865867, -386.7402417244653, 354414.0612830824, 354426.2926247465, -1196.4470601603557, -1196.623386969392, 354446.4893072098, -1193.595714015692, -1191.0625296510448, -1191.851078278562, 354458.39101283485, -1190.159839573515, -1189.3682191592038, -375.95496352535207, -1188.7745135117098, -1188.661498669108, -1188.5360838446163, -1188.4140898745814, -1187.6569846956468, 354500.41585358203, -1182.9515216334116, -1182.6653600083505, -1181.985938921675, -1181.443228272809, 354519.68425349984, -1177.598474622741, -1177.7012602265754, -1177.0751476911105, -361.0075662455334, -1175.8650065630231, -1174.6217714903855, -359.1939748533992, -356.9695001078058, 354563.609108095, 354577.924815178, 354577.0884358603, -1166.0372056704332, -1166.5736770505505, -352.00850378082083, -1166.2167892247894, -1165.6304735832714, -1165.8445163554193, 354587.2910729528, -351.1140698370496, -1164.233150859904, -1163.8131683322613, -344.98745191932045, -1158.4810755548556, -1158.0295614096926, -1158.649206563971, 354627.67225952726, -1157.6106031909662, -1154.9776725768738, -1149.636627426837, -1147.591637441718, -332.9367166550879, -1146.6220751768983, -1142.1745065325545, 354704.1976080725, 354707.7762331109, -1141.2481310164462, -1141.7891927462629, -325.27210461020746, -1139.0917401272222, -1139.42996835464, 354720.13628930453, -325.69929499850565, -324.4656424711416, -1139.253149835255, -321.39432025948423, -1134.4635868871342, -1134.378790505582, 354750.6311835817, 354764.57169750513, -314.9688026104073, -313.5054746423271, -1126.2261311663865, -1124.7646211346205, -1123.4532922581952, -1123.68070947133, -1122.8196011222722, 354807.11626673874, -1121.1912498474471, -103.93747942802663, -1119.6295557130802, -99.19594695041458, -301.33370708065064, -96.79993491956164, -299.8556513713325, 354865.893195964, -1107.0455112732675, -1106.4970529125972, 354887.971441976, -1102.9286637301725, -1102.4063084930735, -1102.390880619902, -1101.8901846836256, -1099.736344348294, -284.17958019405575, 354932.8694239665, 354935.6190931016, -1095.14965092178, -1095.2015600941545, -1093.9634805736118, -277.52286658336976, 354961.2623662063, -1090.1981885854843, 354965.8418708105, -1090.1116356107418, 354969.33304643474, 354970.7807635612, -1089.5652143430457, -1089.9100042825216, -1088.8896806437829, 354977.89458829915, -272.33678359680795, 354994.1033268167, -269.44525204515463, -1083.0873303103149, -1082.05412620576, -1081.6632508250282, 355015.6215353919, -1080.5759732223764, -1077.23570230401, 355035.1017735018, -1073.3581987341845, -1072.0425522376668, -257.3026270188371, -1071.252326913324, -257.7196442439495, -1068.2375456816776, -1067.9941522256945, -1066.7349104994832, -1066.3834485098491, 355096.4784644065, -1062.4728000106484, -1062.9467882640297, -1062.36746319038, 355107.0002893263, 355109.725855865, -1061.3705067013657, -1061.69850113873, -1060.1160497183396, -212.80780379073985, -1059.614893625389, -245.39578001640672, -1059.2270937149538, -1056.3629150922702, 355157.03782456875, -1051.7972613526058, -1049.1775281132163, -1049.1123745279715, -231.78555719710727, -1045.752743681442, -1045.0590164492137, -1043.8498386417782, -1043.8178398489767, -1042.2004899670542, -1042.5598798365995, -226.25639231068504, 355219.7216729853, -224.8616676678417, -1038.987540570252, 355229.61821836774, 355235.72815786727, -1036.522970701359, -221.04933964034768, -221.7113868399561, -220.0392519907678, 355252.0760340451, -1031.7824643776717, -1029.01832302925, 355275.9463990704, -1028.2007228918196, -1026.795804761427, 355300.1129865753, -1022.5861852693856, nan, -1020.183130044727, nan, nan, nan, nan, nan, 355323.8915569075, nan, nan, -1020.6994599109662, -1019.072065722858, 355339.2937766589, -1015.3954505009738, -1015.4431601600268, -1014.7233855484524, -1012.5854649387716, -1012.3130222565292, -196.07612444432976, -1010.5804309141772, -1010.9714013142388, nan, nan, nan, nan, nan, nan, nan, nan, nan, nan, -1007.3815482163668, -189.44030374399023, -188.3028018912724, -188.3639727754076, 355413.91854834155, 355417.20872739493, -1000.4813570270694, nan, nan, nan, nan, nan, nan, nan, nan, nan, nan, -997.3824211257856, -997.9034783593656, 355436.35434135, -996.7615438477428, -995.8593058899264, -992.3213681144302, -992.1229263743976, 355463.5347230561, -175.03767752376967, 355473.58579035546, -989.2713038479128, 355475.3789852119, -988.1535563754228, -162.04326381986954, 355567.2669975537, 355570.44538064185, -969.488472242489, -969.4287431070484, 355576.53204547626, -154.70076079022198, 355581.09378997405, 355586.2607795403, -966.6095318818484, 355597.2947411826, -964.9406333449774, -963.1631311743208, 355626.8367862733, 355641.0443347299, 355645.5706380446, -953.4301578080544, 355656.8838383281, -138.36193721001706, -137.0339919213207, -951.8684667634648, -951.0607152041816, -950.5766388824836, -950.0099873006752, -949.0032023689369, 355675.0100514375, -949.5602484350206, -948.3621322619224, -947.7310428833248, -945.592747050438, 355702.9333407518, -942.4416474909071, 355726.6103152089, 355742.8992618508, -935.0238140976312, -932.3010413876768, 355760.80197462795, -7442.930643581254, -929.1443879520798, -929.1728197119796, -929.0778907121844, -113.34963596833092, -927.4212795497556, 355792.29525888193, -925.9662167104748, nan, nan, nan, -110.95987688556175, 355799.7707652168, nan, nan, nan, nan, nan, -921.5995476523208, 355815.85020780185, 355817.0390095737, -918.9881465243548, 355833.77376480296, 355839.72981640423, -916.3674473995547, 355839.85317375406, 355843.28462057875, -911.7415405986508, -910.6929944014232, -908.172636778831, 355888.1151471733, -906.5529806576292, -906.9149806940736, -832.8472296045584, 355909.3766976282, -902.94541583625, -900.2057712116552, -899.2929046968097, 355942.87000538514, 355944.628585035, -894.6269901730889, 355955.6044180318, 355956.74035416235, -889.4035400924263, 355992.82699831435, nan, nan, nan, nan, nan, nan, nan, nan, nan, nan, -881.6892941240117, -880.6260274059482, -880.839823122235, -878.8497488853668, -876.7771521337677, -874.8390537217351, -872.8218880308691, 356081.0137287673, 356107.2563430075, -861.7756012313553, 356124.705139283, 356144.76516069326, 356161.20911223633, -851.3299226449312, 356170.80648932577, 356170.4752425162, 356191.1376668496, -846.4296243746162, -843.3684400263687, -840.4199477099141, 356224.25778658275, -839.0061366056348, -839.537251435097, 356236.10047879803, -837.6955950968863, -836.0129467807733, -835.5595681315667, 356257.05319789174, 356277.4362288986, -828.3741306609413, -827.0193438366664, -827.2366481577233, 356308.66970803874, -816.5176197425412, 356388.02011784795, -802.842531083656, 356417.8025664824, 356425.1513662537, 356427.02858539217, -798.9958747216065, -795.8177940280734, -795.9801510213715, -793.3344299736714, 356471.2598866993, -789.4777707694943, -788.3670663396956, 356485.68933449057, 356495.76483959204, 356496.3108680165, 356498.45095838315, -808.5849313373401, -783.8641470945372, 356510.6887031425, -783.3341558596153, -782.5942373199164, 356521.9326379245, 356523.37398548424, -777.0498609649644, 356542.5205250261, 356547.9579239204, -775.8990742268857, -774.8957914266562, 356564.16947201174, -771.6144096851317, -770.0277970418888, -768.3262646572971, 356608.1902478317, 356612.1900900085, 356623.9028177071, -760.5811619303063, 356633.363058094, -758.3728858446689, 356642.85368525656, -755.522619178812, 356658.63115195633, -749.6563024923203, 356683.3637608526, -748.8563036699147, -742.201082195978, -741.6417130193863, -738.3351196094759, -738.3709188343169, -736.4593037874188, -734.8856887180614, -731.9931184686816, -730.8614239687781, -728.531456107638, 356787.7928586907, 356799.79392986576, 356815.9414999807, -722.1870038530928, 356817.60736996564, 356818.88399985165, 356823.15225771494, -108.19550077721128, 356842.7327671349, -714.7548445232483, 356879.44054872904, 356881.3198869715, -708.0735831904608, -1444.9004553957493, nan, nan, nan, nan, nan, nan, nan, nan, nan, nan, 356907.5024171605, -701.2098687484436, 356941.9697711803, 356941.1265899729, 356957.28339924314, 356975.96045023773, -685.9141716172785, -684.1488534879504, -681.1233753828751, -681.6059978103262, 357025.8956241372, -679.1360798456212, 357056.6536964548, 357066.60456349945, -672.3481432093417, -672.1783763363642, -667.5222622120514, -667.8734674000466, 357097.3662809525, 357099.72349619603, 357106.6411642146, -662.6759964177368, -661.4692906887635, -661.4749610365748, -661.1485787135466, 357134.11682421743, -783.0390460017443, -657.6912521361251, -654.7146634785099, -654.3704215822167, -653.6919811763896, -652.8149322562917, -648.2009246977418, 357193.3739259514, 357198.6288330873, 357201.6068519297, nan, nan, nan, nan, nan, nan, nan, nan, nan, nan, -643.941218032935, 357222.85521496244, -641.2886784154639, -639.4899692524782, -638.2808919758631, -637.6469352319132, -634.7279629840255, 357264.6726862608, -632.6719791426899, -630.0956489262849, -627.085747002759, -627.072811319415, -215.97536650748, -618.5514794137875, 357344.17813160794, 357345.74014193186, 357358.2237425114, -207.55110674293567, 357369.8695698147, 357385.38713204203, -201.40011320873376, -608.0368383997361, -197.080414542686, -604.4957652564085, -603.2859440279976, -602.7110548597798, -192.6844762321521, -596.7073877332828, 357463.8581475733, 357472.8965217329, 357477.99863871455, 357494.99494376726, -585.8754432953615, -584.1917092320423, -584.0845029795751, -583.4639397405504, -576.5070601613265, -166.26503703628762, 357567.2645518428, 357574.5715233361, -570.9678374643995, -568.9313173832093, -568.4447976117667, 357610.74896104174, -562.9009010970208, 357627.9952363306, 357628.7415030672, -558.2627988592653, 357642.6159411847, 357652.43936300743, 357653.3924870171, -555.5059548114991, 357669.65267337725, 357688.74718403287, 357693.4126459839, -138.74290804839214, 357716.1323419647, -541.4496600669886, 357734.612767455, 357747.15210591134, 357762.28655706026, -124.65929563917555, 357794.42950096045, -594.6694333163414, -527.6327068826199, -524.7872563540118, 357816.49725385976, -774.9787466510243, -115.37047871289136, 357837.2755579842, -109.34236209897384, -515.8652613300824, 357858.8487123237, 357866.9458897948, 357869.2884465688, -512.1617570964504, 357880.1593788016, 357909.6754204951, 357913.7218205951, 357915.03630280367, -496.1173403933303, -494.1083851550852, -493.31539548217233, 357982.79653587565, 358055.0438615456, -473.3445814452757, -472.5458210359707, -471.30412798825137, -470.6798146532151, -469.4154436265967, 358098.47519636474, 358105.9193923428, 358111.0951412416, 358125.1836239363, 358166.49216148595, 358183.41038092104, 358184.61294375977, 358183.84747333993, -447.8836745183112, 358207.39291843993, -443.1369136985072, 358241.7221054289, -438.76002618655593, -435.184124257074, -432.7622203144151, 383832.2443239848, 358296.6904039704, -427.4359279540554, 358384.98852697056, 358392.8351020453, 358399.737372859, -400.0907609304909, -398.7058020401132, 358455.4289758123, 358471.5518649367, 358493.871657236, 358513.6552900077, -381.8971361449135, 358537.0095793697, -380.6365247821327, 358540.3781339446, nan, nan, nan, nan, nan, nan, -378.4229859009688, nan, nan, nan, 358553.23209237563, 358560.6323180677, -373.84464756718125, -372.3931225806941, 358580.518067693, -369.6218652419143, -368.1151552963297, 358631.7134334079, -356.9399290288752, -356.0464932301534, 358669.1684064715, -351.1346118334118, 358701.5289494315, 358708.62104204006, 358715.12147645204, -343.52786946730566, 358732.4754412672, 358738.85228342866, 358750.36854979343, 358751.2130011901, 358757.19895792217, -336.5551977784694, -336.48273768475565, -329.22570084856534, -328.8910510756855, -327.3998261776128, -327.02712298518827, -325.14599124274946, -324.15818334905134, -318.920419650613, 358859.4186410781, 358869.27922141034, 358892.3287922731, 358899.9156438846, 358920.7764905676, 358946.9873541412, 358956.6779508643, 358963.9001148196, -295.8192311739008, -294.3086573572168, 358991.8665947933, -288.39308956379364, 359005.7342676217, 359011.6099965435, 359020.81289272365, 359032.4339350414, -280.55269687097507, -278.23346853509474, 359061.931833016, -274.23414234231177, 359082.1282450715, -264.67502688039576, -262.6203229097305, 359134.4892766846, -259.73715538018814, -257.74787488685297, 359159.81952522026, 359178.66053905565, 359179.626466444, 359184.12431774725, -251.723293801439, -247.8525811808545, 359216.8336837982, 359219.05934061954, -241.770320617798, 359240.01055763586, 359274.8510084203, 359280.6343334819, 359284.42123642704, 359288.4104565637, 359297.84713188896, 359309.9099585765, -224.89652847555453, 359329.42792478524, 359341.26513016125, 359363.639719057, 359365.63923261943, 359387.3655852506, 359450.9519201931, -196.71019129858223, 359492.6995178792, 359503.86009779986, 359519.9495760078, 359520.9269141267, 359525.4961342974, 359537.5954955222, 359555.26329388475, -173.84187691703892, -165.71119249055891, 359700.9386073719, -146.00066306283634, 359722.94507371227, 359725.0742783358, 359726.6636058039, 359726.10420702305, 359735.73790918576, 359738.6038315403, 359739.2240055474, -138.08650821992205, -134.97868966087708, 359781.7377379997, 359787.42592907423, -131.21261173741414, nan, nan, nan, nan, nan, nan, nan, nan, nan, nan, 359808.87708182354, -128.14202642285682, 359835.51682581764, 359848.41896931274, 359884.05860895134, -180.8753653388158, 359909.83923462563, 359916.22224220063, 359961.16913443594, 360014.42789908743, 360097.5468171948, 360122.52491786674, 360122.26329615584, 360127.034174704, 360132.9225445307, 360161.3689249557, 360187.9479446815, 360210.2903561985, 360212.6619772644, 360224.5761659368, 360227.90336827224, 360239.8997892452, 360264.9853503818, 360267.8448601903, 360297.5394310964, 360310.97492308303, -127.4734385469982, -126.8222043813338, -125.77017782074536, -124.28132651336888, 360325.7622291293, -122.03824948324235, -121.10831317292237, -120.54940978615004, -119.28898294153034, -120.49655494476782, -124.20117190974788, -117.12788647939188, -115.137257323096, -114.3063690711128, -114.46394491804712, -112.90341435359456, -115.10270749153035, -110.54596895981469, -115.65569649477614, -113.4821856377148, -107.4131872945808, 360342.6458010156, -109.04988683565672, -106.3675329599255, -103.60505953682424, -102.28713866063198, -110.75720932967944, -100.30942072408688, -99.50782330055422, -98.62720577152136, -97.07071666935316, -99.09498300113576, -98.11511121518136, -94.27779563573309, -94.9857021608645, -94.94715819200924, -94.20162863119624, -91.60514573927163, -89.85635321923651, -88.2808754654293, -95.405275086023, -91.71372739604716, -94.75711243199892, -88.43392772242983, -83.01076227576483, -91.89424160306795, -85.28272332936633, -80.78330821160098, -72.95782045845813, -50.48028820183397, -46.95279289413868, -24.240694791435672, 360438.70597768633, 360446.8580749137, 360475.5420720666, 360526.2679248788, 360531.6191358666, 360587.7430619885, 360632.25560979935, 360639.907160787, 360640.2050044418, 360652.1799045602, 360677.59589780256, 360701.1265676916, 360716.092724342, 360725.6583149693, 360739.7550290201, 360761.97481084993, 360775.0532082093, 360783.870450965, 360784.33543155366, 360812.5063200895, 360849.3506191018, 360864.97731010726, 360907.1323084517, 360965.65594826353, 360995.8614434026, 361008.269368861, 361010.32134996407, 361012.7000333228, 361032.7835389532, 361033.4364753544, 361063.2697716668, nan, nan, nan, nan, nan, nan, nan, nan, nan, nan, 361138.5703818975, 361165.5439913481, 361166.3028222109, 361180.02003703546, 361184.6087932317, 361228.1486539453, 361290.5899863957, 361303.50415454974, 361342.0164791135, 361343.15198882704, 361366.72789092, 361385.98216868687, nan, nan, nan, nan, nan, nan, nan, nan, nan, nan, 361424.44052349415, 361489.239105955, -446.90027119319166, 361524.7750323396, 361563.1349287385, 361621.7515791786, 361640.7907100134, 361687.4370381445, 361687.2353960771, 361700.987806602, 361734.96796896495, 361748.0827322108, 361752.1766451777, 361763.8138746571, 361781.5111442448, 361819.1050961325, 361821.3598581653, 361857.08457995375, 361894.3339438135, 361895.58740573976, 361900.0833413814, 361907.3309590305, 361917.9163888008, -430.6782513015878, 361943.3581172195, 361957.69028613006, 361970.2205052443, 361995.1834100541, 362014.1683778165, -502.3813660023465, 362023.9800276119, 362034.0797379901, 362036.6088253484, 362071.13005847, 362122.4553701937, 362159.7466732383, 362161.0541240421, 362168.071463839, 362188.6669243015, 362200.4813859824, 362201.38481072994, 362228.8165049068, 362234.77303432935, 362239.5292870074, -457.8186979493534, 362282.45279044646, 362343.6716045935, 362344.2977697068, 362347.95390534616, 362366.8571652186, 362415.2230585656, 362426.96557381673, 362500.6411280413, -405.0706675335318, 362516.06340920046, 362538.7383757221, 362572.1637041815, 362596.65682310506, 362649.7294683267, 362665.1678909487, 362670.7102931228, 362721.7253448112, 362723.9330519776, 362728.7939643975, -361.5527565784709, 362739.5658501845, 362740.3861871935, 362741.3829239626, 362745.7268626578, 362812.8263289411, 362813.2920979936, 362814.3059704318, 362835.936779824, 362843.61834903335, 362848.3743110671, 362859.8818042125, 362864.99302248046, 362869.6709748007, 362882.2446579226, 362897.3911004912, -6026.062937784587, 362922.8109253245, 362924.0365359844, 362924.1429330335, 362948.3240626085, 362986.03091083386, 363012.2623662872, -304.19558538842506, 363035.7558749908, nan, nan, nan, 363045.6782928264, nan, nan, nan, nan, nan, nan, 363065.4283874567, -289.47159368109754, 363122.1819886883, 363129.4698791215, -5967.789395210835, 363197.9836659788, 363219.35376410297, nan, nan, nan, nan, nan, nan, nan, nan, nan, nan, 363331.43539929047, 363362.66602559405, 363362.0551418845, -235.57162274113983, 363392.4174567726, 363396.6867029914, -224.62304913092743, 389575.0608137136, nan, nan, nan, nan, nan, nan, nan, nan, nan, nan, 363492.3811105585, -1018.5277556575038, -1018.1435372225136, 363541.465258505, 363548.4893483957, 363552.0234113832, 363581.6364495977, 363612.4384980944, 363613.47776988655, 363618.4227011794, 363634.6018745097, -180.58270379154823, 363656.3780080364, 363680.5485925344, 363683.1534739825, -167.69226481933805, -979.1170706072083, -157.33662730266445, 363764.9086375558, 363791.2291084548, 363807.53154920007, 363827.4389507268, nan, nan, nan, nan, nan, nan, nan, nan, nan, nan, nan, nan, nan, nan, nan, nan, nan, nan, nan, nan, -945.8847140983584, 363889.1039733017, -940.6004540822236, 363924.8816676821, -930.0835695908776, 363984.4920979978, 363996.4491079442, 364007.002702945, 364065.7511108144, -908.6564860017774, 364083.7994827079, 364084.1383570381, 364089.65348950657, -890.6693713213284, 364178.2549302824, 364183.0247199397, 364210.1940884508, 364211.13430090784, 364225.3718487718, 364246.5419916628, 364246.4727494487, 364250.562382483, 364275.9181799454, -865.031900277358, 364290.6718498051, 364291.0492626208, -864.9839903543492, 364303.33058135415, 364339.1662570237, 364343.08813995466, 364348.1973523589, -851.9854639995323, 364376.679428045, 364394.4037475832, -842.6821192197934, -841.8138257523991, 364419.8856637185, 364444.5412809685, -5716.192552457471, -5715.521469021642, 364476.4282163139, 364541.55830729776, 364550.5866221181, 364580.55325568654, nan, nan, nan, nan, 364605.6521166191, nan, nan, nan, nan, nan, 364630.1808217024, 364644.39522650704, -794.876230496055, 364655.1033184257, 364668.0154983618, 364688.9171597581, 364689.16454067593, 364697.6660244382, 364736.4958327553, 364749.638637099, 364767.95016885264, -763.0561971364972, -761.5542851405393, -752.3330110771007, 364886.0375346871, -746.9135105154531, 364900.5759314909, 364906.2057355492, 364914.419760659, 364922.4394145757, 364942.3587586261, -734.6705543021948, 364967.3599389415, -727.7735647430931, 364985.4593109078, -725.9717410124562, 365017.1996684228, 365025.33886670944, 365028.21476675896, -717.2743239418727, -717.7747740010858, -715.1771797234727, -712.4979846263562, 365062.7166827063, 365092.6779617079, 365139.36728456186, nan, nan, nan, nan, nan, nan, nan, nan, nan, nan, -684.0589036388577, 365213.3062657312, -680.4742882161103, 365247.114512179, 365251.57817760174, 365286.6226495429, -664.4941123599732, 365328.5359608564, 365336.5603248375, -654.3504177665367, 365385.0019911371, 365403.9500069083, -643.5664316666265, 365420.3205268459, -640.4494588422098, 365447.90326242073, 365467.3950735858, 365500.78616564046, -620.7880265012685, 365524.252186031, -618.0516386834228, -5496.443723934022, 365582.44170807314, -195.8718226785417, 365614.87130552, -600.9772899636486, -191.68837311051485, 365638.0224392996, 365645.32741998346, -593.7703219716535, 365658.02869952674, -592.0681590240259, 365664.3902031151, -589.4210584752312, 365718.32965494593, -577.2734342991156, 365745.17034320656, -563.0372031674127, 365818.8657667156, 365819.2146764103, -560.3968176396287, nan, nan, nan, nan, nan, 365831.8332436883, nan, nan, nan, nan, 365867.4720031371, 365882.5885285432, 365907.5539431436, -542.3213557838611, 365927.93594098405, 365928.3781988869, 365934.5970912075, 365934.43269566976, -537.5711948748561, 365942.8681455596, 365965.5355602654, 366011.6233359199, nan, nan, nan, nan, nan, nan, nan, nan, nan, nan, -514.0583638280717, 366067.7810303839, 366085.9712457623, 366130.8015476503, -498.706305639162, 366156.1449236653, 366157.23663635657, 366159.8162202134, 366175.9039939235, 366178.1774811462, 366206.05074775295, 366221.4487720656, -477.3243601995604, -477.0760485259983, 366244.9115271318, -475.79240358254026, 366273.1356660724, 366307.2359987285, 366323.6494289441, -450.7672484975741, 366404.3654741237, 366436.5385789716, 366439.1535035688, 366457.8726133202, 366472.9894051706, 366474.87144688336, -430.5506426521828, nan, nan, nan, nan, nan, nan, nan, nan, nan, nan, 366501.2022132339, 366517.9158925351, -421.6444455440072, 366524.7703808795, 366525.43884365365, -417.72630356096704, 366554.7065759975, 366564.553174701, -2040.8915214713727, 366570.23975965095, -2039.72358967706, -2036.7666892647487, 366590.9957465017, 366591.2546525787, -2035.378372019319, 366596.19043245545, -2034.8369459207336, -2033.198025601276, -2033.2139392856336, 366612.864296345, 366616.9973169711, 366620.4002823878, 366624.83560370345, 366632.0696932244, 366633.79693693225, -2027.6302309683472, -2026.685152581844, 366642.340582644, 366654.2985919911, -2022.581349178876, -2019.2758954617896, 366684.583525783, -2015.0094650666672, -2011.649142824712, 366732.7468663042, -5262.043058964729, -2004.4049996514425, 366756.5925988036, 366777.2267519437, -1996.2068806679292, 366791.95070800825, 366800.5467984599, -365.75658710260393, -1989.6774731619755, -360.96468434323685, 366849.6907333802, -5240.6791097557925, 366854.6432335313, -1983.302672055872, -1983.634177983846, 366865.2837123884, 366870.24688507104, -351.08178828383313, 366879.9341347749, -1977.2646389282893, 366888.6067115508, -348.7589188014266, -347.4910154668545, 366904.8106427072, 366906.63979064673, -1973.267853618516, 366909.5387695932, -343.9298067056119, 366918.5077752949, -339.71185996398015, 366940.078898338, 366945.3484293178, 366963.3109217442, 366979.00603080005, 366982.4421917664, -1957.462164975943, 366992.7793737407, -1955.9319282111703, -1948.0937977424148, -317.41188555925, -1945.3766760759029, -1945.1326738942428, 367053.0558307823, 367065.2471301787, 367075.8621408183, -1935.511888952644, 367098.4617304349, 367101.8331240047, -1931.2671904385863, -1928.4973679170928, 367142.9473589339, 367149.64960692, 367159.8710296848, -294.3749006458296, 367167.0281644677, 367177.8253546472, -290.79333890029955, 367183.3317427605, -1917.64419035384, -1915.179076339344, -1915.961624782338, -1911.6092692969944, -1910.0375923185568, 367272.3861541889, -268.34862796855884, -266.7056175446563, -265.1426333067906, -1893.2227917784387, 367322.17190812726, -1888.9858712538464, 367344.6041040025, -1885.7797919204388, 367362.266578609, 367365.5757074787, 367378.9731691525, 367387.7262339548, -1874.643832749109, -244.9574757018621, -1872.402171046628, 367423.2935047761, -1870.9715118103525, -1870.8499253202265, -5125.978706740592, -5125.934080655645, 367448.3254082271, 367450.4663252565, 367477.4020161247, -228.2783780269532, -1855.544764454182, -5111.212551997978, 367527.08604402, -1849.6229441383969, 367532.2821154739, 367538.4441917843, -218.226598004096, -1846.3815795135945, -1844.9561821875543, 367567.9489126132, 367587.3624368548, nan, nan, nan, nan, nan, nan, nan, nan, nan, 367607.37200945424, 367643.3201799115, 367668.2237021196, -1820.3279458612435, -1820.812118295464, 367680.6167160593, 367686.25838275545, 367690.0104968715, -1814.0989082842573, -185.4363940590141, -1808.0534339280623, -179.12491053601877, -1806.4621287485809, 367763.1451383729, 367766.7163637952, -1801.8031022716425, 367780.3269088623, 367793.92218791257, 367794.3251560337, 367800.05288513977, -1789.157306910511, 367836.5305337371, -1787.4420567835316, 367857.80654529046, -1782.6101015323277, 367871.2263071585, 367878.4588844419, -149.24114164427772, -1775.22171768061, -1769.8981173758514, 367941.3058378894, 367973.4812433396, -1760.291181196428, -1757.478270695976, -1756.0183799121353, -5012.429944493964, 368009.0069057631, -1753.2539515186584, -1744.9559290859963, 368067.51096448296, -1735.4217671913032, 368108.7288339752, 368124.47468224505, -1730.5510662496802, 368135.4866817768, -1728.1267823864457, 368146.26903098304, -1726.144987280228, -1725.3196995276996, -1725.4086571190076, 368166.03500395705, -1722.8445939259493, 368183.5134099765, 368192.56906629424, 368215.7085966086, 368242.6167432832, -1707.2619715373623, 368281.72427643975, -1699.7561247584383, 368289.87187456776, -1696.442100225697, 368312.9341329097, 368325.963347924, 368332.2348845911, 368351.2803652611, 368357.48956207617, 368375.0487701513, 368375.356113163, -1680.8614342320182, 368384.46593732416, 368386.207385615, -1675.5362466144836, -1673.5216201786209, -1669.1740198879654, 368444.25935883366, 359800.95766913943, 368459.7698547153, -1659.931156927678, 368528.9314046222, -1650.8422668222613, 368556.0103822829, 368590.45393033256, 368592.4559217662, 368598.9799830001, 368604.4840187668, 368616.9125618919, 368654.7950535831, 368658.81317944656, -1623.9769297437726, 368687.8743047044, -1619.1375974588211, 368689.14866511006, -1614.0228090606945, -1608.7961476519524, 368743.4869126132, -1606.263401547851, -1603.6504257299987, -1601.5391764421786, 368779.26120847405, 368786.2522505531, 368789.9282413325, -1598.171397869368, -1597.4345011461685, -4852.175654465849, 368813.63135691726, 368813.8936957488, 368826.78503621655, -1591.8554333400027, -1587.6460221269429, 368860.13136713376, 368863.8023083357, 368882.4057414935, -1576.3934554545706, -1573.9764329861157, -1572.7083743239566, -1572.2620383408414, -1571.4832727847663, -1571.3409411482028, 368931.09773020586, -1570.9598539634628, -1570.9887269109988, -1569.6923639530671, -1568.438204697832, 368945.7576926287, 368944.8495786837, 368948.6649889818, 368955.7007924426, nan, nan, nan, nan, nan, nan, 368963.0449150355, nan, nan, nan, -4821.998928668472, 368978.173925306, 369029.4863907264, -1551.0123162234506, 369059.63196386094, 369063.5208426456, -4799.833851195957, -1542.6074678715506, -1539.578791532704, -145.31301141862969, -4791.848815627185, 369113.09022726736, 369118.0046517921, -1533.7664873164997, -1527.2368548186844, -4783.980799904686, 369200.6096914217, -1516.4277602981876, 369212.1048726648, 369236.7481046289, 369261.3005669861, -1503.7260287602933, 369273.0637043712, -300.76027438732126, -4755.212911118304, 369299.6130756336, 369302.3587836108, -1493.4491168729676, 369334.9355124041, 369364.08676375344, 369376.1319851393, -1481.834448447635, -1480.9495868145316, 369403.9704782207, -1473.6832928591614, 369426.4578675727, 369428.180859348, -1471.5532710536083, -247.25762339146, -1468.3457091126131, 369451.3402732536, nan, nan, nan, nan, nan, nan, nan, nan, nan, nan, -1466.1774275485916, -4719.273476056302, 369475.2330932191, 369484.23088646936, -237.2899386686416, 369510.2621083605, -234.1818772228756, -681.7898028849668, 369541.35188742325, -289.722684365297, -1445.3334780290936, 369573.160998384, -4698.163853829476, 369593.3473766092, -1438.6172394539265, 369599.7317694046, -1433.3817756275732, -210.0971746342942, -1430.379301264684, -1430.4568107555117, -1430.3279438832908, -208.9577914163177, -1428.4324838826544, 369651.5372430631, -1427.6154931852036, -204.6731655316556, -204.6359471455556, -203.8250660372681, 369682.2227151696, 369694.3769229028, -197.64032275465192, -1418.371607285517, -1418.0558158760125, 369708.5891132159, -193.56752232298763, 369720.2637010588, -1412.5225600788638, 369733.4652215822, 369733.7004046535, -1411.790052473367, 369739.3886810072, -4666.802922870447, 369747.7123238734, -4664.837665431185, -1402.6958157057654, -1402.0496974284854, 369793.662424343, -1393.3219407269482, 369845.41366107657, 369854.4969874857, -4643.787202126201, -1386.3157339757092, -1381.3970873521887, -1377.4472350796152, 369912.6385222413, 369917.6852780496, -1372.6365233686686, -1370.3939616746886, 369942.2448475013, -146.97451995089736, -1367.39827995182, -1367.9864170032436, 369958.1334199022, -1366.8720843432386, 369961.8534265236, -1366.7584909528634, 369963.2441157468, 369966.2899792012, 369976.2213732332, -4616.4198648211495, -1359.020926136562, 369998.8812377739, -1357.3564264630352, 370010.8779487052, -1355.6833560040743, -1355.2771872308151, -1355.7093961561134, -1355.42038899951, -133.8767214784542, -1353.5255341539653, -1352.0782655481237, -3526.8369507330644, -1348.7650836090145, -921.556901201664, 370057.2818202947, -1345.2369062748787, 370091.7877120652, -1338.5516647355855, -1338.4155487219653, 370118.4257701832, -4591.7060531147545, -1333.1778735639257, -1331.8751572733966, -1331.5613062738505, 370144.5370208968, 370145.0872371805, -1328.7294406074654, 370154.838393004, 370164.9815316248, 370169.7441123666, -1322.5203169014223, -1321.0782701827377, -1320.909021517264, 370192.1027714066, 370195.97809590783, -1317.1270284401237, 370215.8498408314, -498.80643267685656, 370254.1581299003, -1307.3027980897589, -1305.7926085573802, 370270.50695441966, -1304.6479477917003, -4560.887358801958, 370278.77644701314, 370280.2542944072, -487.95643054358544, -1300.554876009361, -4555.7027358165615, 370309.6953247419, -1294.201576914744, 370324.85558058, -1290.1961258442536, 370363.08620071545, -1285.1945984769557, 370371.297818818, -1284.9719302523374, -1283.4366097814166, -467.6851298115328, -1280.8611525442377, -1280.4471766983063, -1277.384054051916, -462.8779795178237, 370420.1790008677, -4529.316663183015, 370431.5812921093, -1272.9907912371602, -1271.4789585478231, -1271.3310209216163, -1268.5462413603548, -1268.4877281976171, 370461.272727716, -451.2024402342234, 370470.3989071442, 370471.32903276186, -450.82436908047777, 370478.3270592433, -447.52391219592784, -446.81855757365, -443.3562651733394, -440.1294497526945, -438.1757377238958, 370534.5513057049, -1251.2370691470408, -436.89109692425, -1250.7219118287742, 370554.9636617063, 370557.42414471, -430.1877150630192, 370574.8051132001, -428.4831269670288, 370587.572555118, 370595.94561606256, -423.9380405926243, 370612.596875716, -1236.5311588265906, -4489.276558433488, 370674.9881684377, -1224.7608827017868, -1223.4723831777922, -1223.1720659112837, -1222.9862791456055, -1221.5480639839172, -4475.481436880449, 370704.3539231811, 370712.0608967989, -1216.2333148088003, -4472.349260680729, -401.4612616684065, -401.6251242973288, -1213.1829650500224, -398.8259478569328, 370735.7665595978, -1212.5883245093594, -1211.8994225537265, 370742.2066430078, -396.8344503836982, -1210.4929520331991, -395.9369107723472, -1208.0276596705864, -1208.5961786776136, -1207.8985599905957, -1205.0334970306524, -388.03762939787913, -4457.790073429538, -1200.7845324295342, -1200.44466190741, -1198.7693969606446, -1197.3165917750869, -4452.147221018191, 370819.3783581317, -381.1531625054161, -1194.9563060230105, -379.5182937231569, 370832.0709183309, -4449.990621186047, 370841.3577400053, -1189.029443118514, -375.61884770111857, -1188.4806145607402, -1187.7208817068206, -1186.5783953755983, -372.4599602130059, 370868.6125082232, -371.8373301773866, -1185.3457411411275, -1185.4171994777355, -1184.3271769041914, 370879.5080017799, 370885.49071725406, -1179.7455073467993, -1179.2254416068429, 370903.27653439005, 370904.9858567817, -1177.503183347286, -1177.640465523795, -1173.0826019691397, -886.5426004266483, 370939.7109296948, -1171.3221687565222, 370949.6423606032, -354.2160374830567, -1165.4080981535174, -346.981291072538, 371001.3349743458, -1157.4800197582902, -342.2498820950371, -339.5030249073573, -1152.7318243790344, -1151.299520660161, 371052.6968127112, 371057.21575583454, -332.0479849972692, -332.01944799159384, 371081.49264221016, -327.3908009619411, -327.2970712777281, -1141.9968500443813, -1139.550615207938, -4394.641208411056, 371113.9044227004, -4393.87170437952, 371118.1322438696, -4392.472252638785, -4392.591057640417, 371129.2225088316, -4389.237163218382, -4388.0144110710025, 371146.8156676517, -316.43298873724444, -1130.022967772806, -4385.87525941638, -4385.531884311726, -4384.36132168155, -311.2372814613157, 371193.9154038449, -304.49468619050305, -1118.572317510205, 371212.1405280408, -1114.059118238318, -1114.8687981579135, 371228.0004668244, -1110.3947817574756, 371252.6405465447, -1109.299832605455, 371252.411965573, 371258.36090334953, 371258.5605141957, -293.2940997085555, 371275.9671324001, -4361.004439101107, -1104.7893714882086, 371280.006978618, 371295.02920509, 371301.13300897134, -285.20108362326783, 371306.32359132735, -4354.812374919271, 371311.828239263, 371314.6409071285, -1095.2030473411144, 371325.61587879335, 371335.6740450258, -1090.3709931219494, -275.2221642626212, -275.63658952893667, -274.7160066265681, -274.17301459780384, -1086.325926347565, 371373.74616835976, -1085.8404343701643, -1085.0756329170383, -1085.5484430271647, -270.321916363266, -269.66414321661097, -1083.7832485577749, -268.4444507764877, -1082.4372884027982, -1082.79895063531, -268.4254640858056, 371394.9688786477, -1081.7381076130862, -4337.0441935617655, -266.1076034121291, -1080.514782425162, 371402.50026821776, -263.6595603839508, 371417.51463275286, 371428.655546506, -1073.7775853849637, -1073.0684130337106, -1072.8582588362044, -1070.4386543839194, -255.0234214987434, -1069.3857164168496, -1068.272943632501, -1063.7420185446465, -4319.341253891962, -1060.225970232532, -1059.9527664492418, 371504.5906069207, -1058.7983975706195, -1058.9458151233614, 371525.02530032775, -1055.9054358050073, -239.55339374385068, -1049.970993227864, -1049.9842966230556, -1048.1918399726658, 371562.37380731385, -1045.3630241499234, -1043.7940796983223, -1038.50421269379, -221.81408190966096, -1035.681467607452, 371626.4788423409, -4291.537813960811, -1033.217192881699, -4288.714409674496, nan, nan, nan, nan, -4287.013161548031, nan, -1030.471687348134, nan, nan, -1029.0483361774116, 371660.6327701825, -1028.2711597107575, 371665.2786224553, -1025.402942930756, -1024.6520833051711, 371707.1192686348, -204.08561176219, -1018.3509869969278, -1017.2536038806104, -1016.6423909342632, -1015.7099400467198, -1014.4648526307376, 371733.7556402365, -1013.4394627973836, -1013.148727660566, -1013.9200846062724, 371740.63265508274, 371742.5018760233, 371748.79866096016, -1010.8522989002925, -195.913126325346, 371758.4593344417, -192.30655477040847, 371798.89701518655, -999.2349305996725, -182.18825429985583, 371831.5855168575, -176.40448651346043, -990.5659940005646, -989.0610021733212, -986.5226032665562, -984.198327327935, -984.576622054685, 371882.3484819922, -168.30883699115503, -979.58723478054, 371911.26145253744, 371915.63890294416, 371916.3881230577, -976.9448808418476, 371929.4708537231, 371943.23486034974, -969.6261821925348, 371971.4095644117, -4221.240607407191, -4221.866597418511, -961.4800555501936, -146.5638744434985, -959.988211197968, 372009.47128591547, -959.9155948404352, -4213.971538657686, -142.81847222376956, -140.57283119336563, -954.9836432045524, -4210.9450294365815, -139.50476482732694, -4209.233196820731, 372053.1954233557, -947.865009622112, 372071.83194658393, 372084.1545363364, -942.605011919308, 372096.09164354455, -941.2684814887764, 372110.89295327937, -937.2282263338532, 372123.2572842785, -935.6329405602812, 372136.45685486594, -933.890740337278, -932.8641003897212, -932.182589668688, 372149.3169689992, -929.1226734187114, -929.1129761610284, -4182.5625914647335, -4182.364200032076, -111.76279048679709, -923.6955694877436, 372199.2408916172, 372199.4359449841, 372202.1694081164, -4176.501274775412, -919.8703782397336, 372210.24847961456, 372215.3881100906, -917.657330727485, 372229.68411181256, -4171.830862310273, 372233.8039390111, -914.3914285924968, 372243.29129705904, -912.6640755585051, 372250.5016604999, -4161.810517669079, -904.8788252267516, 372290.3490443385, 372337.9853036244, 372340.4449086434, -891.6971431176428, 372356.4070398284, -4144.945839930351, -884.1774762189218, -880.5288187377157, 372413.0834435831, -877.4213791845671, 372421.7344523637, -876.6208265964981, -874.233044570856, 372437.5677441884, -871.8399425836708, 372452.58431681775, -869.0574449215221, -868.5322011922583, 372466.9738477552, 372470.3236580328, -866.5887266645861, -865.0811184071811, -173.77785722964472, 372490.4947811125, 372496.3996004732, -862.4252919250541, 372509.1917666091, 372523.6156662217, 372524.6671337022, -855.4607457484583, 372536.05662411696, 372543.3173088491, -4108.677190787455, 372551.57740370405, -849.7642266079094, -847.469268154666, 372579.4991571473, 372596.2769778443, -840.34090601298, -838.499124405633, 372627.6520980298, -4089.614627891693, 372646.19341764, 372649.17095327296, -329.9090839134933, -830.8054719930917, 372659.80528402905, 372673.2641202309, -819.5377450232138, -819.858740407619, -4074.3882067694703, nan, -817.3700273111356, nan, nan, 372725.5777211352, 372725.96124359255, nan, nan, nan, nan, -814.9385450418524, -814.3617166131774, -814.9993881209523, -809.9192638521056, 372764.3946138885, 372773.21055880375, -4063.519416360863, -4060.7008699599737, 372794.2609774881, 372795.0183755244, -4057.187063851703, -4057.731159429879, -4052.379558040271, 372831.7795743565, 372837.9404085369, -793.3800467294243, 372846.1543650802, 372848.9086703588, -792.2858813966507, 372850.49880323134, 372861.1039648088, -789.0040391058194, 372866.9198918256, -788.9949460900373, 372876.8961249938, 372878.5802718338, -785.857044511424, 372895.0043001898, 372902.8448072087, -781.7074355432871, -781.6703433242567, -780.6608747203047, -773.2124686788777, -772.3108449062859, -768.5932396819701, -768.9136521583134, 372980.4547681144, -765.3411905690048, -4021.010281491488, -764.6357856933994, 372991.5755026521, -763.6311054692053, 373002.47757881, 373009.0164132913, 373012.75450061634, -759.845099683582, -758.0991124971845, 373044.7449528186, 373046.8339092515, -752.1407676504152, 373057.6592229392, -750.9258630500101, -749.8414137254442, -749.1756772991432, 373079.43402132095, 373084.4728890485, 373091.1241853652, -742.9794835806845, 373104.27178084, 373123.4867851365, 373123.7819593432, 373129.7896543124, -735.4068507263385, -734.0413661522036, 373147.9769129853, 373163.6022215853, 373164.12140600657, -729.9667685136722, -3981.00456535394, 373193.3786277949, -719.1726505450481, -718.5754725622412, 373220.1240061238, 373222.45665849344, -718.2507947596953, 373240.5491226289, -103.37407360748948, 373268.4918212054, 373274.909000365, 373284.57466037694, -3961.98376682896, 373295.70753479976, 373297.3271154625, 373306.0172174032, -700.8779111448314, -699.0675128799414, -3952.59936406196, 373341.9558501655, -685.5655809910352, 373399.9111006535, -682.0506260910972, 373418.4954874812, nan, nan, nan, nan, nan, nan, nan, nan, nan, nan, -677.9837753509003, -675.7161699327173, -674.9187165664919, -669.3964471694437, -666.1338846857273, -666.0416843036676, -665.5895512407935, -664.3305600777333, 373499.1437860197, -661.6893860705061, -660.1794490014038, -659.7022899427086, -655.3654268386601, -653.4194120681225, -652.0379678027423, -3907.1030497171087, -3906.1913923336615, -647.6784461315312, nan, -645.376826816768, nan, nan, nan, nan, nan, nan, nan, nan, -642.7368982167593, -641.6241276162548, -640.7697622617272, -3894.0655201722, -229.5609334617141, -227.31567723330707, -634.5191354861038, -633.3155423814244, -225.7049611563573, -224.5448052764216, -3887.120808955304, -628.5680683923749, -628.3971108117478, -3884.107548843498, -626.9717490656624, -625.7196830606465, -622.7890783575533, 373727.9785667671, -617.9871073794968, 373739.65781597584, 373740.3894428908, 373743.9586907322, 373745.7088267345, 373746.1861796684, 373747.41677759006, 373750.0250848357, 373753.20639230014, -204.28941454542408, 373778.0730123985, -200.1230866391991, 373781.3470045707, 373783.204347258, 373786.8837274989, -605.4484759048157, 373792.76835365343, -603.9981798375577, 373802.9270146736, -602.2393320573194, 373808.5076719461, 373811.6390053568, -191.8391921189989, nan, nan, nan, nan, nan, nan, nan, nan, nan, nan, 373836.5428821524, -595.7376070464745, 373849.6971411518, -593.9597628377053, -591.7957781933585, -281.75733489631057, -590.3886894575883, -590.5410491608966, 373869.0171601944, -588.3982531439999, 373875.9972796141, 373875.3200776518, -585.4332978245714, -578.0053736287139, -578.0827565363127, -576.1255527199285, 373937.08398268174, 373939.2421077868, -574.5387111525199, -574.6142554161181, 373947.29815701424, -573.2779321088967, 373957.10153925983, -571.3959725484385, -567.9385207305443, -3821.147839296993, 373994.3393052778, 373995.7108375432, -927.9546186933276, -3819.629730102064, -562.1321367402181, -561.9561267052052, -3813.484459492589, 374034.5772965477, 374042.3992496725, -3810.323931262663, 374049.5728292859, -553.7038466261113, 374052.6583141285, -3809.266091167581, 374073.42573701264, -548.284810495976, 374076.3126892917, -547.9013550708789, 374081.72192873975, 374084.9840785536, -545.115231794158, 374093.6303473069, -760.4775643788744, -543.6756880501782, -541.4358830840613, -541.5034889716937, -539.1147351683323, 374137.99290649744, -3792.3488777055736, 374153.1327306631, -532.212965283856, 374158.4155741253, -530.0416000617518, 374169.9034158073, 374170.0698958981, -3784.571917546813, -3784.372890279674, -3784.43766177261, 374185.9193756461, 374191.9768979945, -3779.320551948116, 374222.14798251103, 374231.0529242964, -516.7907538671154, -515.695061755345, -515.8626592691273, -513.7343233724116, -512.0449223975959, 374265.9504229159, 374271.4236201156, 374276.408775578, -503.3061876496106, -503.4342086480249, 374304.694750928, 374309.637816852, -3758.464823781029, 374323.83195274096, nan, nan, nan, nan, nan, nan, nan, nan, nan, nan, -488.6761992853992, -486.14138264988856, -3740.8248457237023, -483.5756015624577, 374415.6155376267, 374433.90669890336, -477.9936987692929, -477.2622837824058, nan, nan, nan, nan, nan, nan, nan, nan, nan, nan, 374483.1676767811, 374487.6932945364, -3722.471534066288, -3721.6823785215, 374498.1988215576, -3716.716393334109, 374542.7819698549, -3710.768048893937, -3707.260054839897, -449.11564855581696, 374578.0653106083, 374585.0508980856, -3701.077414091078, -3697.9003962434417, 374620.5325271653, 374623.6492254604, -437.7548894523536, 374646.8525946633, -3687.506518011023, -429.3712732230581, 374684.5900890945, 374693.3027952124, -3681.0026116191, 374703.6668899623, -422.0537874640361, -3678.2887512358575, -3675.617929176691, -3674.336418335133, 374743.7169340554, -3669.779168537789, 374762.3012571808, -408.757126055056, 374787.0123033159, 374789.8201501467, -405.0055148727554, -18388.949900568383, -397.3367517512727, -395.1381405754548, 374850.3882751117, 374868.5551761285, 374879.3970897887, 374887.18205910665, -3643.650329950464, -374.48052373460655, -373.3654181058994, -3628.184337970404, 374967.8453168573, -3627.6302818976255, 374978.1000117834, -368.83819395863634, 374992.6258979543, 375008.0894135953, -359.13360594098435, 375045.2873170437, 375045.29516317096, -351.9813146340732, 375085.1669499385, -342.96559255887973, 375113.6005912952, -342.5496337079496, -341.3687886966384, -340.68762817491574, -339.7942360065065, 375128.9979981704, 375129.0706059949, 375132.5793769321, -3592.5281631220314, -333.3073424647539, 375163.8867531938, 375177.1183136115, -3583.682187979557, 375207.3038291138, -323.05603498816004, -3578.3429769058203, 375217.9694333764, -3577.491724904212, nan, nan, nan, nan, -3575.332126328978, nan, nan, nan, nan, nan, 375242.3818710714, -310.85201335201805, -310.1048098121994, -106.69195506879056, -308.8303720889328, -307.9903025138285, -306.0547884476439, 375310.37216867175, -3559.258149806419, -3557.5955777059808, -300.86511980848104, 375331.152367889, -3554.1610130808986, 375339.6134143093, 375345.2619373428, -3551.609375326472, -3545.043565326585, 375383.7349834786, 375388.8758355967, 375389.0408992051, -285.77819836140065, -282.8913410459156, 375415.1447233331, -281.4306285521345, 375420.352010046, 375438.825004561, -3533.227184281557, 375453.4299754276, -3530.4405947396863, -272.8414293435219, nan, nan, nan, nan, nan, nan, nan, nan, nan, nan, -269.6848702034606, -268.304480261668, 375498.37522565713, -3521.1319230792906, 375505.3274822681, 375515.6859395449, -261.2825111995428, -261.53550987735457, nan, -259.65979243588686, nan, nan, nan, 375533.1379554208, nan, nan, nan, nan, 375542.58419411, 375545.35460398544, -255.455137126419, 375560.0472003722, 375585.1251974411, -3504.024878686514, 375590.48218541936, -17615.563265627912, 375609.757768946, 375618.0161498945, 390059.9156865325, -237.94927755913727, -3493.745252720317, 375645.8795027647, -3484.9777804509613, -3484.967346417063, -224.70449664821012, 375713.8990517469, -222.2813085847704, 375718.66920488025, 375719.4349113029, 375728.5070494049, -3476.9706387706046, -219.73242632654205, 375732.8996087829, -3475.784427266224, 375740.0056375161, 375741.71353147656, 375749.1728665915, 375752.8260336049, -213.66219397591908, -3464.010059323855, -200.85271248910271, 375840.8902498948, -197.00324917271087, -3451.5508324278308, 375860.9989676637, -192.54532409983608, 375873.9002938358, -3446.7868230539534, -3446.206065105056, 375886.6621597306, 375906.4247906679, 375914.6926701693, -3437.584196441645, -3436.1269775056444, 375932.92210945656, 375933.7459080285, -3434.08972967953, -177.0585345196489, -175.32046728358205, -3431.5180831926064, -172.82959447390408, -3428.466966013526, 375970.0620819475, -3428.626386041824, 375973.5415424049, 376005.4810903517, -3417.3330674584613, 376035.80813639046, 376036.5436783052, 376037.5212433554, -3413.62230437624, 376058.561250114, 376059.4101814423, 376078.25000228826, 376084.4988325227, -3404.092425717543, 376121.1987183747, -3393.185245703273, 390080.4341416439, 376163.11682348297, -3387.612310385035, 376210.7624694415, 376219.5327480655, -3378.2344363059983, -3373.248682988029, -3372.301024920129, -3370.3326856643, 376276.2195309058, -3365.1019348994105, 376314.9891930978, 376314.1987456337, 376324.1149556715, 376340.78087918187, -3354.290027049814, 376370.67685478687, -3347.533478352152, 376385.2452756254, -3345.0737279666228, 376394.8109615007, -3343.215190792769, -3338.304511299257, -3327.869239332209, -3321.0252613476605, -3320.142469180364, -3319.3854988931544, -3316.201813276617, -3316.2895760877, 376551.7386956312, -3306.7423709129853, -498.0249937087665, 376600.65828167024, 376608.5020794868, -3301.1521514637952, -3300.901919909762, 376614.4384141608, 376617.584253166, -3299.8589566332103, 376622.4786739313, -16593.472817263817, -3295.405996899064, -3290.6661804007763, -3284.3257620124605, 376698.7003035612, -3281.8593512620646, 376720.0942402976, nan, nan, nan, nan, nan, nan, nan, nan, nan, nan, 376758.30924812896, -3271.260944885071, -3271.0578951386306, -3270.167997693534, 376765.8466517767, -61.596442746578425, -47.1098397454324, 376792.4669230391, 376795.648553877, 376795.563597906, -3264.336897003923, -3262.886253520999, -3259.2028192727885, 376824.5858167564, 376839.9900729387, 376841.27302882646, -3254.43576133464, -3254.6414412068825, -3249.4931203231517, 376873.3179703688, 376874.2407287479, -3246.073894081015, -3240.5997265163733, 376924.2946957385, 376929.0022081409, 376931.9096321725, -3236.795575343229, 376945.1803049022, -3233.427850451357, -16264.699500887124, -3232.8265765611977, -3223.219672698033, 377007.8713136919, -3216.38197211596, 377044.1715178645, -3214.138897463785, -3213.1668179139288, 377054.91824112646, -3212.156113221725, -3212.290037685527, 377058.306511739, 377065.9209409826, 377086.6707276914, -16119.68773669392, -3202.079716362394, 377113.4317131831, 377133.18765479705, -3192.818602539899, -3192.829889303177, 377167.3608761597, 377185.670527152, 377199.3181097924, 377209.32186444337, 377209.0087591487, 377229.1633182467, 377245.7942558489, -3171.5090367161865, -3170.847475905057, -3167.9217766868223, -3163.181620474048, -3161.323792451334, -3160.356488814956, 377319.5610590194, -3157.754939861652, 377334.42148986936, 377363.65819571365, -3150.935322069732, nan, nan, nan, nan, nan, nan, nan, nan, nan, nan, -15835.725774811905, -3147.38656021721, -3147.367478295748, -3139.758507369601, -3139.1834042355604, nan, nan, nan, nan, nan, nan, nan, nan, nan, nan, -15785.678893355003, -3137.267885894231, -15773.0613349239, -3135.664530706679, 377459.0977984565, -3130.661079988944, -3129.157604779364, 377487.3248491271, 377516.48608023656, 377516.10798986646, 377539.5779498415, 377540.0741994921, -3115.8088724363206, -3112.4817051958507, 377564.6240863562, 377568.5369751417, 377583.1097296004, -3106.483754017716, -15618.063786344595, 377615.5625890853, -3101.253447557474, -3100.423869124057, -3099.134988574524, -3097.232281738772, 377637.83983273216, -3096.881130555563, -3095.7557539956542, -245.55958537927583, -3094.4105846214043, 377654.51587556384, 377660.69487939967, 377662.6786560287, -3090.0118011743525, -3078.825818537398, 377731.1553329327, 377731.6529665046, -3077.440904837673, -3073.392977883561, 377761.6660333544, -219.79779070685, 377784.2633901178, 377791.4597132816, -3066.579174502327, -214.86849292739063, -15410.040779095478, -209.9847938522373, -206.1073421883568, 377850.3413681244, -448.4479424203182, -203.0345024106566, 377862.4520815982, -3051.887002048248, -3050.946405393961, -199.6933889868353, -198.4795400935429, 377888.8564274879, -3046.8677741442625, 377899.0766756917, -3042.219083751417, -3041.564932183439, -3038.692534705375, 377941.8283534289, 377948.4607477505, -15267.541182734109, 377954.9082351577, 377961.07431984576, -182.181735229414, -3030.8905743636296, -3029.395445481621, 377984.68696674064, -176.85756675802187, 378001.7362163304, -3022.5592455533697, -172.9022341068223, -3020.589251531337, -15193.032201443106, -170.15713250057271, -3019.02090391162, -165.66746673304007, -164.39358353362078, 378067.76544838055, -3010.454664967421, -3010.150154407829, -3008.378197807093, 378084.5041979475, 378103.241986676, 378120.2407527759, -3000.1202200989464, 378136.1371387178, -15079.216068566157, 378136.4991342464, 378140.5405816737, -2994.129609229245, -144.36423656998815, 390160.5933919507, 378174.1878079844, 378185.4936327111, 378186.7017025263, nan, -2987.003436459863, nan, nan, nan, nan, -2986.20212028634, nan, 378203.0529881444, -2984.018052394884, -2982.3929100326604, 378220.5700134648, -596.3729385105544, -2974.1490976025198, 378255.43768011016, -2974.5314123817025, 378260.1260875671, 378271.7991737056, -2968.324197662141, 378290.1321881864, -14920.049805042863, -2963.720787628972, -2961.628676759068, -2961.406305705761, -2960.092155738317, -2957.4993994350098, -2957.46543055232, -2955.307594530923, -2954.869799537584, -2954.169638906731, 378367.4110084577, -2951.0544285080687, -507.4221518019696, -2949.699619747793, -2947.1878441969875, 378393.67629766354, -2946.602892705905, 378398.5864895415, -2945.409586481739, 378409.1539391712, 390170.0086263818, -499.89523177131576, -2941.1765892544245, -2940.06141418675, -2937.500271142091, nan, nan, nan, nan, nan, nan, nan, nan, nan, nan, -2933.0225519263604, -2933.4815559444323, -14747.887934053397, -486.80197549975145, -2927.0002291345154, 378493.212885385, -2924.5983864777645, 378511.7401749079, -14677.9022934147, -2917.035232437647, -2916.882466654384, -2916.6750474389974, 378547.2602171652, -2916.7094607711188, -14652.093785926449, 378571.4304302979, -2911.642220419508, 378573.27944218094, -2910.51954348063, 378579.0444753185, -2905.560122813802, 378612.2729260055, -2900.4381398422283, -14583.15250401094, -452.0559047745248, -2894.455182180858, -451.5802832823376, -2893.2981314720128, 378663.55545998726, -2892.015606880572, -2891.471798178616, -2891.5427206396434, -2885.1421882674586, -2883.299244119973, -2881.6920312871625, -14492.543986842333, 378732.3444561384, -2879.202052139952, 378744.1005630917, -2872.2114095369598, -14447.661078047651, -429.4139080320003, -2871.1442092963207, -428.558852902601, 378778.7719328583, -2869.110821359649, -2869.107542956739, -2868.567705027148, -14420.005180584703, 378802.7823075188, -421.3739422013443, -2859.304841325911, -14381.545843648422, -416.17570246752456, -2858.532174468981, -2856.338279729265, -2856.6679590029107, -2852.319916423261, 378898.4423670698, -2846.5613918922554, -2844.4090697183, 378913.9023171268, 378929.4191522329, -2839.990724596204, 378935.5891077506, -2838.488194419897, -2837.7171081853758, -394.4711515860037, 378959.6832978101, 378969.9557796328, 378969.59100604727, -14240.932399924128, -388.7666448057773, -387.8625744885632, -383.2375015608506, -381.8428196930892, -2823.8838448069982, -379.9420167948976, 379024.0102591997, -2820.8139426641774, -2820.3547059578577, 379035.9206190428, 379049.9753194722, -2815.9272695104755, -2814.809447505544, 379083.3167163043, -2809.164702522299, -366.0011079522648, -2808.51959586918, -2807.9150578105127, -364.7216755075444, -2806.692830826669, -363.3727041432268, -14103.863413698578, -360.1094633421291, -2802.685658776565, -2801.358975752373, 379128.3664462002, -357.535431657616, -2799.868029495301, -2799.2537366378365, -355.60957554957, -354.9774870806288, -14051.20262056069, -349.0369267696389, -347.5762001331697, -2786.4192763616247, 379202.6415055929, 379203.04289632, -2785.7158552732453, -340.8441602033401, -339.67468017623304, -882.7027417927711, -13976.806877265004, -13967.98538897768, -2776.2676478925514, -2775.696113400767, -2774.80536542747, 379268.0998480682, 379287.43625896046, -13923.375086079388, -2767.372623039306, -13913.41587629005, -322.0240107163265, -321.17989789472284, -13894.357289777596, 379325.2918589071, -317.0750897568543, -317.63565535372817, -316.8100115605268, -2756.003231451152, 379355.80108015024, -108.91952548279524, -2752.142229104831, -13840.953867998049, -2749.983621584219, -2749.18323984398, 379394.8624460328, -305.05743925470614, -2747.8422268444865, -2747.5489259134865, -305.6687157722792, -303.32030933666664, -13809.045625637127, -98.9002043215166, -2744.823077625013, -301.7048022883575, -2737.7229725953584, 379457.69376706495, 379457.754026004, -292.8456257270556, -291.96428313485575, 379471.79111915966, -288.277252368058, -13724.223883918732, 379492.1025048101, -285.94891392113294, -2727.188165670608, -2727.906152052712, -13710.428182355554, -13702.636708175783, -280.984994345212, -2721.18255952057, -277.0622041878125, -276.7388320022148, -275.9700354983199, 390215.8455233863, -13664.197881775632, -2716.17757843869, -2713.1169545546763, 379568.3874138668, 379580.33524074976, -2708.325392353572, -13623.026318165186, -265.1039713956581, -2707.7637221705536, 379600.0302261762, -2705.6554035216377, 379611.06319067016, -2703.6244988547423, -2703.0804496099754, nan, nan, nan, nan, nan, nan, nan, nan, nan, nan, -2701.7595236934358, -2700.2346717102155, 379650.8447330443, -254.2912323645125, -13563.100420050008, 379654.1701537527, -2695.075359644292, 379670.12115307327, -2689.1372742032745, -2689.542865695712, 379699.7955789046, -2685.823727189938, -13489.372942477548, 379732.10044825095, -2680.1561731964284, -13468.882696747742, -2676.977538664547, -2676.725237704437, -13459.725039589568, -2673.642235451851, -230.7789337516644, -2672.903938918005, -2672.3231060401667, 379788.45956821257, -13424.333742690078, 379811.8382910395, 379813.7367201212, -2664.273168317157, -2663.734038999717, -220.04041602652995, -206.9292815465633, -13372.43469299878, -13359.000636018189, 379862.4724247991, -2654.001334718316, -211.8435172921474, -211.2219759805759, -13343.010652531377, -2652.996066310763, -1023.4553500081712, 379878.0072720547, -2650.1590792866627, -2650.041249490112, 379890.8512379625, -1019.1986120214934, -2647.0007215578844, -1019.684185229202, -1017.2938784122126, -2645.0495919786445, -2642.1090602516524, -1012.6330736306992, -2640.601928471733, -1011.6839403717696, 379942.5120338324, -2637.0660176200745, -13264.142142731776, -1008.929957109258, 379958.8600050981, -2635.891153871129, 379966.09373028507, -191.174593899974, 379977.2496961663, -2631.4089314462217, -1002.3380882575312, 379985.9255685121, -1001.334687044404, -999.223037253316, -998.9769171962272, -13210.485011656738, -2623.5186831484025, -179.34635712930702, -177.38162499711342, -2619.5796062271984, -990.5289720745096, -2617.5803478805647, -988.551645782498, nan, nan, -13151.226127616395, -2613.538371140341, -168.03822682235494, -2610.156985559437, -2610.5285363194907, -981.3787690373794, -2609.5702487110066, -2608.0194037118745, -979.1529300073108, -2607.5674167717098, -977.9956671063884, -976.8841857875724, -13067.450761331202, 380150.38704616256, -13065.11964649944, -969.6178915915754, -968.3256588992627, -13062.671366420009, -13059.219031349869, -966.4257775558764, -152.45150657881658, -964.8535808884136, -13039.07202394608, -2591.824421076364, nan, 380183.32078588655, nan, nan, nan, nan, nan, nan, nan, nan, -13025.425448134729, 380194.0798409904, -2587.609250387033, -958.0906407463118, -2586.2887680415624, -13005.144299438502, -956.5366009135925, -2584.4560143590843, -2584.846129154077, -2583.991628262609, 380230.120921181, 380232.1775117809, 380240.533812516, -951.7712217630252, -950.7094853293494, nan, nan, nan, nan, -948.1837281478184, nan, nan, nan, -133.80310160418975, nan, 390243.205535684, -945.221959509172, -945.9217685347086, -2573.1367803783523, -943.5253642315384, 380281.4982126788, -943.0162527313151, -12930.541677797675, -2570.3778651149078, -2570.0647509688933, -12927.499386122488, -2569.753570268722, -12925.12926858556, -940.4263450978852, -2568.8832675628946, -938.0447050636868, -2566.9817337935347, -12899.770007710304, -935.3733235810124, -2562.1434934438785, -933.88231690238, -933.0253294083196, -2561.069845697126, -2560.796799943646, -930.721407898258, -2557.969335214926, -2555.286530086425, 390248.1302481152, -2549.241183987151, 380397.9213861369, 380407.7237646444, -916.7509472748844, 380420.8368630382, -914.134440978076, -12785.542677341233, 380438.1515625912, -910.3948898331456, -2537.8285928755995, -12761.820561911183, -908.175989541218, -12761.377791569636, -907.5548265343788, -906.7010850858316, -2534.462390327333, -12747.577578368862, 380473.10679380666, -903.2038154447838, -903.76478127641, -2531.383789598902, -2531.6011904356965, 380504.33238739904, 380505.8536135263, -12705.540076669404, -2524.3021055903064, -895.2596235602106, -2523.946040304445, -894.4655244632414, -894.5937207474327, 380532.5421865063, -2520.089391072266, 380539.9595332713, -891.4961197157191, -2519.6077281253165, 380545.2001450149, -2517.5000214767915, 380555.6498751638, -888.1627149988309, -888.0911660142284, -886.5472881378156, -884.4184453174931, -828.3927909276063, -2511.9657105694496, 380585.5976944189, -12629.642665508904, 380597.0372517921, 380601.8884841648, -12615.95149132794, 380602.9525481209, -2506.930178853134, 380611.7882516802, 380628.3793297923, -12587.262898873396, -2502.559852912973, -172.45354990893887, -2500.0714080365105, -2498.1484199057777, -12564.295636721052, -2497.754414051813, -2496.163963811212, -867.065520707025, -2494.132881877913, 380672.1043443671, -865.5138043441931, -2491.177901017576, -862.4409378271213, 380690.82389558695, 380693.2285306102, 380698.5337876564, -860.3951787098068, -2487.484455449772, -12509.450812157693, 380708.3135357157, -12506.318295701558, -2483.3275455755866, 380729.6850732045, 380731.7859589909, -2481.8504321880555, -2481.6541863318344, -2480.7475396146674, -12475.078678993628, -851.0408053300563, -2479.281324345802, 380747.0414475385, -850.3576283046042, -2478.9113304933617, 380764.08021900256, -2474.062280733733, -2473.97318485912, -12436.765865248086, -841.0065570682092, -841.7592224332876, 380797.59317517286, -12401.233338542044, -2464.1920280666072, 380823.1360117532, -12392.30937376918, -12388.045342441828, -2462.0492716988865, 380835.58377716655, -12378.658678352756, -832.8851243782248, -2459.9151701608207, 380848.7908830546, -829.726119757359, 380862.8462581837, 380864.3568717609, 380870.1728135536, -2452.830137014196, 380893.8135879744, 380899.30488277983, -2448.532088520633, 380902.8916027976, 380908.8597165417, -818.4047935313448, -2446.7138255580303, -12304.387006212986, -817.8146055617764, 380917.19529669953, -2444.570103759481, 380922.305354295, 380929.6101263585, -2442.7635202104666, -813.1662018806056, -2441.683354646919, -2441.912242606488, -812.4947529465172, -2440.531215718529, -812.767842640773, -812.2408657093457, 380945.8513258331, -810.8755679868701, -12266.284959080613, -2437.4670503565867, -2437.954349270569, 380963.6016025585, -2434.911690799305, -12235.154532933077, -2432.309724244473, -803.8064987248036, -2430.731755398381, -2429.3583919129323, 381009.79450185376, -2425.223370083042, -796.2868144902551, -2423.567112807312, -12188.748126132949, 381029.1735779459, nan, nan, nan, nan, nan, nan, nan, -12167.853281327429, nan, nan, -790.5807802180371, -12170.825589037711, -2419.449434383896, -2418.1582610460155, -12160.13087926796, 381057.3893113106, -2417.0796352137822, -12141.968301859915, -2413.583486183108, -785.191617436709, -12136.131380846336, 381091.12001949217, -12118.379735167442, -12111.680980751777, -2406.617638314603, -2406.218612832741, 381115.1060637693, -777.3455099898166, -775.6938704471833, -12078.295699875998, -12059.722194603904, -2394.089579889036, -2394.702146272435, -765.3978576575847, -2392.534089668148, -2392.952566069005, -2392.94167777023, 381198.9186859048, -760.4616335902357, -2388.407670709081, 381206.54419304006, -2387.0391421975164, nan, nan, -12000.553119735276, nan, nan, nan, nan, -11995.324607975284, -11994.255502846889, nan, -11991.29230771172, -11986.106782911937, -2380.0369539263684, -2380.370131654814, -11966.136475723835, -11963.455627012192, -11961.030692520471, 390283.8947228135, -11954.19067545786, -2376.7893438668325, 381265.7805750804, 381266.91784082726, -11946.212516845058, -746.2903366421652, -745.1262776160949, -2373.358619291148, -2372.846840129725, -2371.234187940636, -2371.7183271313097, 381306.45825960784, 390285.4359445093, -2366.780730113256, -2364.701883254129, 381328.9541935933, -2363.4594356441394, -11884.48136161418, -2362.532235675206, -733.8301526829947, -732.5274430064802, nan, nan, nan, nan, nan, nan, nan, nan, nan, nan, -731.3967940070198, -11862.758582603115, -2358.485102137298, -2358.853370397528, 381357.4446595921, -729.5154267210092, -729.8547389061024, -2357.029906556445, -11855.253088507618, -728.7653797404947, 381366.0120680989, -11849.116901070724, 381367.67909818375, -2355.3527657808827, -11837.560300242463, -724.3318540990259, -2352.556472717146, -723.3253091206917, 381390.3834056608, -2350.638574477023, -11823.76787324011, -2349.007584767989, -2348.524271196002, -11812.14035982973, -109.67931178983297, -719.6254080164655, -717.0353291047815, -11793.719271215572, -11787.7985904843, 381430.4276163017, -11785.139927529528, -11778.141032451796, -2340.785814455772, -711.610379565149, 381449.9064268985, 381450.8884003508, -710.680916165844, -2338.292922757453, -2338.645645743829, -11761.8025578396, -2337.131804294191, -2336.2169487789124, 381465.3147567393, -11749.25884247594, -11747.67759468561, -11742.102307301688, -705.0957100943853, -702.9317445634007, -701.6227823640221, -2329.292851819713, -2329.08482381891, 381510.090974479, -697.2832731142372, -11691.058295743138, -11684.584819069414, -2321.689312440738, -692.8365637971657, -692.4302563572875, -11667.517130015129, -11662.034001242137, -2316.335967950379, -2314.493528528794, -2314.306068300717, -2313.6131262051567, -11634.497890248227, 381583.1233427606, 381593.8289611955, 381595.3792299508, -11618.23052094294, -11618.566681617604, 381598.4696534567, -681.5695803415439, 381602.1132180757, -2308.2716668141857, -11610.577688493508, -2307.550390170796, 381610.0757609677, -678.742177032209, 381618.5216511856, -2303.536142456189, 381636.2563393919, -672.8323360104406, -2300.843887907373, -672.5147704837692, 381647.5543093936, -2300.532044692807, -671.8189043351978, -11562.108058935342, -11559.04631661934, -669.0530823899172, -11556.539020743458, -2297.6356872693505, -2296.4401049846056, -2296.67616720751, 381671.42599423055, -2293.537596210361, -11535.793753711898, -2293.8633203430672, -664.8261735153229, -2292.8050755325658, -11526.608383653149, -11526.265193444437, 381692.1048060455, -2290.917616149467, -2290.415947030895, -2290.520038624554, 381699.6877500792, -661.1363219137003, -252.91595789725503, -659.0590664743451, -11504.366483834458, -11503.54967552184, -658.9763189677689, -658.9530706852257, -11499.7832047612, -657.4167309469195, -11492.27354362232, -11491.903985722243, -655.5652447491121, -2283.723518762443, -11485.419726660492, -11483.095999199346, -2282.855206874441, 381739.1411621536, -653.389817754689, -11473.59334557817, -245.6678672307236, -2280.1309852426475, -652.3473991018601, -652.1149325107746, -2279.9861892798035, -650.0286028546417, -649.1240006041409, -2277.9087842312383, -648.6512129349777, 381770.67497384944, -2275.8518389311776, -11442.964409754131, -238.2135201390221, -236.91054284553607, 381791.79796281975, -11425.853572452015, -11419.332477676651, -234.451406493453, 381800.1354396787, -639.1216937030478, -2266.876930716002, -2266.440399752273, -230.4262722388004, -11395.16870878352, -2264.1252986358013, -635.6675016114715, -2263.1393371550075, -634.3218959375846, -633.2825884969535, -223.70954465671744, -223.4769966439027, 381857.20985522034, -11359.990469487644, -2258.590630694809, -11355.462273665682, -219.5542476377806, -11332.29375931612, -2252.1927219941026, -623.800880757026, 381894.15442480776, -2250.4659293280074, -621.143434996655, 381902.4183975215, -11313.736809256714, -11312.960234464204, -213.2081502910652, -2248.330509460373, -619.8421865980328, -2247.0273805822508, -2247.6420279079884, -11303.023821344634, -2247.927585819285, -618.7338169028955, -617.2400437463076, -2244.5825347515365, -11287.991436031893, -11285.562241160947, -11284.248270899783, -11283.2628732962, -11281.47323346874, -614.4234741745478, -11278.180447381976, -11274.770125722587, -2240.666842791865, -2240.9444219779743, -11265.721275772534, -2239.1228832114903, -610.6520740126945, -2238.5931808174137, 381959.4878511647, -11252.532276074287, -201.26424228536703, -605.1866916701439, -11220.274760852828, -2230.805312676219, -2229.7814080504213, -2229.0625461729487, -11212.357404257897, -2228.577160312152, -599.2148193790382, -598.7496484841596, -597.1780768216596, 382030.4664853468, -188.6746381409313, -188.5852403879209, -594.7671743432403, -594.5835732628276, 382046.1085876157, -11168.451213103895, -2219.855113611722, -11160.551333435367, -11157.342668573536, -2216.863793456685, -2214.3347554537595, -2214.0918702783256, -11137.756539232229, -2214.0895559954515, 382081.78452589264, -2213.368529785568, -11131.051259926102, -583.3804752540346, -11124.639892135348, -2211.579051709381, 382095.7179521609, -11121.0985166758, 382096.1353224553, -2210.83024408446, -2209.357773175907, -11109.782505618114, -2208.895160450744, -11105.91851948261, -578.9497147367348, -577.1677618373052, -11094.366796701222, -577.7074758875625, -11085.27032996152, -573.8440279281477, -11073.165728940608, 382146.8874912843, -2200.833386203518, -571.6644620828248, -570.087127363906, -570.6615812839501, -570.8255898175031, -569.3916778985423, -2197.760065681492, -568.5878157300141, -568.8292403493507, -567.2406767253452, -566.1359159588193, -11037.198423443291, -565.264343976418, -11033.518148476593, -564.4871527048582, 382189.12905557256, -563.9370284307207, -156.1843379996764, -2190.296191308973, -11017.016615324254, -561.4755844368575, 382203.5623779098, -2189.729526169456, -11008.681719061844, -11004.533144773524, -559.6142906567549, -11001.589092067064, -556.7505950820997, -2184.737484598769, -148.5164855908926, -2183.473091107773, -555.6121196318692, -10978.678002948978, -2182.147736687504, -146.18389137016234, -2180.2651864316613, -550.306661340741, -10955.100500494133, -10946.225024872942, -547.8562849877636, 382273.0542338435, -2175.483526885135, -10939.299825283826, 382288.7592426793, -135.18443350537487, -542.7398570010702, -541.9303829265538, -2169.32001012008, -2169.8863633150613, -541.8322411633181, -2168.517931890401, -538.0047369863315, -10897.221163988976, -2165.0622853062923, 382326.1799336037, -10890.445326495645, 382339.2225082472, -533.1036197215582, -532.6753920460943, -2160.079511730295, -2158.784635168973, -529.4172147326482, -2157.0775414000163, 382367.5961708453, 382368.92163926346, 382369.1175815874, -528.1485194222133, -528.4972872539403, -527.266052922636, -120.5759884370556, -10836.555588720425, -118.27127047827813, -2152.475526346754, 382390.6838847636, -2152.409036014111, -523.2061405219594, 382393.4192721989, 382405.3661144743, -520.9562881916555, -2148.4124506294247, -10806.501744107814, -2148.783474865675, -10804.955047414129, -2147.0943313632943, 382422.0070892707, 382423.3507516482, -2145.6300284389945, -10789.440037284809, -515.9143872015849, -515.3248170999669, -10779.489256970948, -513.6008646663978, -513.9485663881388, -10762.052473866375, -10761.571575215088, -2138.45356974228, -2138.921371372342, -2137.446821964548, -2137.301645077234, -507.3183412567797, -10735.08943067824, -10727.562704041253, -2131.771406367805, -2131.18035406994, -2131.1033719732404, -10717.027900271183, -10699.043295524409, 382517.3210251765, -10697.176307577109, -10697.359034057132, -10691.662779953076, -2125.914049635141, -10689.250498030664, -2124.5555638318983, -10675.91148717778, -10674.36651718994, -10672.85850491108, 382551.8601026947, 382562.67612016265, -2117.505457004292, -10649.181051701433, -10647.559448542625, -488.13139960478486, -10637.001568924656, -10636.825252019096, -2113.730190830085, -10628.296491220422, -482.3287070373009, -10617.53051255163, -480.014198151952, -2108.417481470533, -480.9721289182272, -2108.157941044932, -478.9013229906069, -478.1645786247683, -2106.5202359826253, -2105.382664335544, -10587.717620971309, -10585.567475865855, -2103.4525205021164, -2100.853573263299, -10564.718277441443, -2100.761232093744, -471.492899876912, -2098.573264396062, -469.0398853325588, -10551.922137815123, -467.1525561398522, -2095.473352175637, -467.8450738493449, -466.37314994280143, -2094.8898665201104, 382683.4442123217, -2093.262818718529, 382690.76306649455, -2091.669135234224, -10507.659219470112, -2088.926242756568, 382723.4474723613, -457.4765817807712, -2085.3178316518315, -2085.1566749904814, 382730.85906498, -456.9401051466722, -10477.931668281812, -454.6326104173696, -2082.2562861593924, -2082.6054272335605, -10472.515618544832, -10470.141046066849, -2081.7825004076058, -10467.60071133001, nan, nan, nan, nan, nan, nan, nan, nan, nan, nan, -10460.02532833345, 382766.8047166709, -10453.925064665338, 382768.61554469255, -2076.680503268908, -447.0934287547608, -446.48662250069367, -10433.32086747994, 382791.5063021077, -2071.3567303289565, -441.8106806442921, -441.959192950848, -2066.1130534064014, -10393.922468385856, -2066.908426077889, -2066.6786370975933, 382826.0367579311, -2065.708282608646, 382828.37889963936, -10388.21033036879, -2066.396562744798, -10381.29984259414, -10381.15259557358, -2063.2234729922893, -10378.955237296628, 382840.0889613776, -2062.0489055030703, -2061.2071681655107, -2060.358687167507, 382853.8732670514, -429.8256944129645, -2057.9994314956184, -2055.945345433258, -411.4849175376585, -10332.337896045336, -10326.194090734842, -10324.272938265218, -2052.244445293809, -2051.3154048460437, -2051.4576498104307, -10295.422942918813, -10293.326093977685, -2046.513913823601, -10280.042079888995, -415.64023787889175, -10268.894556385516, -2041.7093139042936, -2038.2854705052505, 382967.9318541479, 382970.1999357672, 382975.7562894353, 382980.6844062685, -10223.517382222875, -10216.013110916949, -402.6530608810955, -10212.93335421912, -10211.3919962965, -10207.448164855108, -2027.921595259144, -2026.851356297222, -10186.771682419443, -10177.294476985047, -394.8796471926181, -2022.3406771139053, 383045.11019078025, -2021.5175271208373, -392.58185748564586, -2020.0683104853615, -10160.018063824602, -2019.6863982684172, -10158.857659982774, -10153.178725111891, -2017.472977825495, 383079.55172525306, -386.44841879038734, 383083.8710979321, -2013.7771500868785, -10126.65230548224, -384.0317521980397, -10122.726728026735, -383.0754938723677, -2011.706334296996, -382.3872637947517, 383106.5059466706, 383120.9675532213, -10094.906029331993, -10093.85847887834, -2005.5959608215944, -2004.854851523176, -10080.60539363857, -10080.03191838338, -2002.2867949266729, -10071.500123304388, -10061.740619415676, -10061.828210228172, -10059.180689349783, 383159.0045303234, -10053.927172728612, -10052.100119715778, -1998.340741378328, -10048.686859866611, -1996.2393831359768, -10038.818548915877, -10029.280777701162, -364.24089929603736, -10022.208540020476, -10017.272437304076, 383204.8704113353, -1989.9921071904464, -10006.241691699826, 383216.3495219859, -9993.07206245984, -1986.3537275003, -358.1511871652257, -9988.646055603367, -9986.56732867841, -9985.407519436309, -9983.38233913306, -1984.5075885305268, -1983.104349183428, -9973.979750576918, -354.763510098108, 383246.4442194008, -9964.249478707105, -9962.7550321799, -1980.663551277461, -9959.399532274549, -1979.042012096972, -350.69037705848325, -1978.021981457112, -1977.030804050617, -9945.187489445208, -9942.248921126662, -347.1260458820635, -347.8429646622518, -346.53585698749896, 383285.519623396, -9929.01506480272, -9928.352118285233, -9923.89667573632, -1972.026651124159, 383300.0625763162, 383302.0124910655, -9896.912728149013, -9890.724875193007, -9888.153333912289, -337.3822485001202, -1965.1416011718047, -337.1109852758019, -336.96337166533533, -9880.562120496488, -1963.5736917155937, -1963.897150617444, 383342.65280243295, -334.8372846817857, -1962.1493303741408, 383346.7249798733, -1961.230415452932, -1961.7260763754875, -9862.738168733911, -1960.6541091972667, -9854.773564031651, 383365.1540349222, -9845.700458208434, -9838.118928576312, -9838.162642913308, -1955.2179763641143, 383382.19520008407, -1953.237260667216, -1953.489030797513, -9824.92112380712, -1953.5649028208863, -9822.125118107091, -9819.33495936245, -1951.102816865452, -1951.668220067333, -1950.7047838200888, -685.1694764060088, -9802.423664277954, -9798.00824349672, -319.8849959693381, -9794.1313698419, -1944.345290872363, -1944.7713769917664, -9778.872044745314, -9776.519787488136, -9775.17329976683, -9774.282679728874, 383446.6034620757, -9762.839917669768, 383454.38455226633, -9758.163709241817, -1938.1336400895689, -9746.37271428679, -9746.665744178976, 383470.0075290816, -9732.430484208186, 383487.9743366881, 383488.9955042644, -9725.456696975143, -9721.632797040782, 383496.5617126402, -1931.276440060261, -9713.46814171608, 383504.7952882985, -9710.830194006843, -9702.233669957008, -9699.027636890947, -299.5119780410879, -9690.989116444254, -9686.561022482496, -9686.213773364005, -1925.2624947747809, 383534.18507715967, -296.12869236424933, -9679.59637157988, 383541.1321325624, 383542.5054720903, 383551.7117982234, 383553.75745672313, -9659.002666289716, -1920.991779316184, -1920.5159389590317, -9646.854265458189, -546.0937428985471, -1916.670951985112, -1914.8461377324584, 383596.8688603117, -9619.069861403146, -9615.751650712547, -9615.762098432337, -9613.583488858449, -9615.720263325771, -9613.705063397438, -9603.029157039837, -9602.461603776348, -1908.759553285685, -9590.52347115546, -277.42145308404554, -276.2281858323023, -1904.1544524590536, -275.50460363980176, -1903.5061126404416, -9571.514121508528, 383646.35190088506, -1902.529817079272, -9568.557153500707, -9566.241471478188, -9566.804456685915, 383656.5306002875, 383664.7812096172, -1897.453502179891, -1894.9298205840223, -9527.745327698482, -1892.6769842955327, -9519.657328957472, -263.09442859678904, -9513.478772211412, -9512.005954817798, 383706.4181125648, -9498.559995748044, -258.93844242785246, -9488.078233698932, -540.0227460776205, -9482.806678551522, -9471.319776076958, -253.75341543012848, -9463.443565979527, -1880.885852342777, 383761.13940525975, -9454.61035984203, -9450.975927060888, -9447.856921277624, 383772.1713231299, 383774.6910864645, -9434.851106756303, -1875.471137499073, -9427.83202069086, -9417.05485056178, -9416.28073430833, -1871.341840308185, -9405.134114582532, 383813.86881247343, -1869.0198986887244, -9401.201108209694, -9394.830388951805, -9394.099415591756, -1867.006757033996, -9390.409079330106, nan, nan, nan, nan, nan, nan, nan, nan, nan, nan, -1865.2918463858623, -9376.978474772148, -1865.0494087498791, -1863.5034491828228, -1863.8731212122311, -1862.5409424721784, -9366.15643015971, 383852.6071447085, -1861.273237729978, -1861.8786333120715, 383857.9856405736, -1860.731773433432, -1858.78509016108, -1857.7966914108783, -1855.5036523408507, -9330.10599999968, -9327.745664595035, -9319.72141616948, -224.96884312287705, -1851.357909061764, -222.7588016403207, -9302.734156593217, 383923.9041285808, 383924.5021747488, 383930.0888976313, 383933.5496643384, -9281.767849605912, -9281.993545148229, -9280.884492730458, -206.3020387289016, -9275.380235814286, -1843.9494780587647, -9268.961954710889, -1840.546050987803, -1840.0000849117605, -211.2652132432687, -9253.205131230898, -9251.009364213229, 383968.2938773361, -1838.623394862996, -1838.5037871181703, -9244.950454832917, 383974.4568990396, -1837.7970562427363, -9240.247173697777, -9240.25014499847, -208.49256425294163, -9236.49620174099, -9232.851067117816, -1835.6139845599664, -206.3155441407472, -204.17780122869783, -1832.869678181325, -204.8389126522817, -9215.891589660005, -9213.864321293624, 384011.9086126136, -1829.0375548298416, -9202.016707854697, -9200.619612285444, -1827.6466510436203, -9184.23581950596, -9175.94162773679, -9170.457317824712, -9169.832836225643, 384047.8944448979, -1822.652641171595, 384052.4405370929, -9163.736755336087, -9157.132220508944, -9157.809285080157, -9151.4901245289, -9149.464817426322, -9148.749198468586, -1818.660700192093, 390395.105835448, -1816.421926483752, -9135.09430890925, -1815.0779941403343, -9129.78643225126, -9127.057770311, -1814.1704494875903, -1813.7996196770127, 384096.5478457958, -1813.40561629498, -184.5983888061984, nan, nan, nan, nan, nan, nan, nan, nan, nan, nan, -181.44243791957717, 384115.82002302096, -9099.945304784307, -9095.69447890868, -9090.25156947592, -9087.430937836874, -177.86772577458407, 384140.1752971245, -9071.92938600366, 390398.28010721545, -9060.03550351618, -172.02480737727103, -1799.8027520341875, -9050.527055089677, nan, nan, nan, nan, nan, nan, nan, nan, nan, nan, -1795.5269346843106, 384199.64916063065, 384203.6167654757, -163.39920221852492, -9010.06262384027, -9008.998972962025, -1790.3531193427334, -1789.8877168831314, 384224.1624421508, -8992.410821763538, -1787.4461214962776, 384228.8235453162, -8976.892504383453, -8975.254320109918, nan, nan, nan, nan, nan, nan, nan, nan, nan, nan, -8963.409906398496, -519.5520923690619, -1781.2122190341452, -8953.576458284728, -8946.243338003242, 384274.5640505581, -1777.7470373874148, 390403.0488034544, -8935.967635340823, 384283.6644921581, -8932.350480716399, -8923.006857021173, -8922.173304546875, -8923.709842665661, -1773.236413005683, -8920.64711946547, -8908.422865962519, -142.9100092665086, -142.4426185116373, -1769.854219501436, -8899.603028838692, -8898.362065741221, -8897.825579087043, -8887.616288433555, 384332.4703325036, -8876.745097427563, 384341.81556523335, -8871.965225296835, -1763.286719713229, -8867.352519379001, -1762.4999180922223, -1762.9383860244634, -1762.6677722749282, -8862.91314349374, 384363.0886946269, -8848.764850892194, -8832.248697874926, -8829.378781167456, -8828.989970601293, -8824.364708617695, -8822.986048531073, -1752.9689621994312, 390408.7231170295, -8810.048966350741, -1751.4773917351267, 384408.9377344616, -8806.310754423968, -122.5324174955714, -8805.695713073017, 384415.9865330777, -8800.577883898728, -1749.1823807044784, -8798.036675509544, -8797.983555181923, -8799.354717184422, -8795.549101154758, -1748.2438803738987, -120.898764792306, 384426.08200846025, -8790.256365791045, -8785.206973452885, -8782.934245458386, -1745.5456676742106, -8771.232222886569, -1743.052641524966, 389031.74844814296, -8765.226247931183, -8763.596507974838, -8763.607077125991, -8759.30955732833, -8758.694572122002, -8753.471557434159, -8746.765778711992, 384474.0886498862, -8739.110883101886, -1737.306054327757, 390411.67491667694, 384483.743139385, -1734.0593958536065, -8721.856304496669, -8721.240484214228, -8719.808250852559, -8714.116693665765, -1730.2648418439676, 384512.5746388991, -1729.6325310382126, 384520.843944353, 384524.1530536093, 384525.3251253023, -8687.7421044701, 384532.8740665945, -1726.385656034663, -8682.323874372976, -1725.7524397116904, -1723.086844848045, -8665.286541067357, -8653.805455942676, -1720.262629544599, 384565.84223378455, 384568.54592037975, 384569.9216399707, -8643.993551614218, -8642.684234347087, -8642.47885385476, -1717.742440669932, -8636.274140218875, 384582.8954662428, -8631.590122353682, -1715.4849092596469, -8626.77723400335, -8624.835721296306, 384594.1328750165, -8622.614962686323, -8622.0746474315, -8619.246820438784, -8619.93830934714, -8618.333274445491, 384596.41007038334, -8615.745089274904, -8615.516054661908, -1712.9003896083395, -8613.124554722937, -8610.477700040878, -8609.220392972165, -1711.4435159429795, -8606.64961677383, -8602.090178040791, 384621.386618961, -8592.882394014614, -8584.580934350999, -1706.1311816862708, -1706.8996713315664, -8575.88534747526, -1704.9624220003516, -8571.032172127389, -8564.688740145306, -8564.119688635943, -8564.976221121946, -1701.029368592046, -1700.4166514810386, -1699.3575209672836, -8546.554301024382, -8545.95613944538, -1696.6443380682904, -8519.3568761386, -8507.224076666334, 384710.28497716726, -1690.911730719903, -1690.0181170008982, -8499.717827316628, -8497.68102622914, -8496.142177564963, -8493.382628915557, -8487.259553255964, 384730.52065351664, 384733.816032242, -8482.688672999042, 384733.2461918426, -8480.644012254124, 384734.2296561332, -8472.255149092332, -8471.03646296735, -1683.2907350562618, 384753.7978563014, -1682.08343808475, -8461.394495345825, -8458.162717923375, 384760.8529603622, -8446.582814442747, -8439.316260553625, -8439.842166559618, -8437.673027760233, -8436.15129505824, -8437.66023615963, -8434.66015242862, -1676.3646619446336, -1676.4705450630918, -8418.721696521625, -8409.915019148988, 384813.1755593268, -1669.0863943515396, -1668.250142186007, -8391.955803869723, -1667.3308988748377, -8383.528711128249, 384834.834676828, -1666.9788566773277, -8379.701788039665, -8379.352140892437, -8373.62520797907, -1664.8943807591677, 389110.6542883284, 384848.1481992965, -8363.335667802974, -8362.186069481073, 384857.128807608, -8354.000106962832, -1660.0165000156594, -8346.255972872415, -8343.23163768766, -8336.282949353377, -1657.558256514185, -8334.330250381483, -1657.0343906573944, -8331.867308582425, -8330.59522411143, -1655.249186924013, -1654.0235186551745, -1654.0067746532986, -1653.7305831659778, -8309.208806358183, -1651.08859222896, -8305.40574246191, -1649.6772781142154, -8291.02416981325, -8289.102429611854, -8286.778942079025, -8285.854948875762, -1647.305365928176, -8281.544113195596, 384936.4103575567, -1646.9456145928634, -8278.117985948136, -1645.8672882232004, 384941.6717021693, -8275.097520585823, -1643.2732153499546, -1643.0947828338249, -1643.558675710974, -1641.3412835634408, -1641.3246315788, -8255.536398968106, -1640.6162661284652, -8250.895729320264, -8247.122937377035, 384970.6020222012, -8244.30459055375, -8243.628439558797, -1638.003006078443, -8237.019088637478, -8233.831052074003, 384991.4291870171, 384995.50122901966, 384997.6395778881, -8219.890404545717, 389140.4376263266, -8212.476715396959, -8204.558038935491, -8200.92055108988, -1630.4435908090563, -8191.355346426651, -1628.1184404289615, 385031.24560347095, -8182.224012192275, -8181.528344078454, -1626.3406978661096, -8172.40688208096, -8170.9905075492115, 385046.094568968, -1623.3620643385548, -8164.333209415941, -8163.946606422114, -8160.673735399317, -8157.566564012593, -8154.195288752625, -1620.8168593067603, -1620.4688252781689, -8149.6579506432545, 385069.292307169, 385069.011023676, -8150.957034456749, 385080.4683503959, -8135.135461933529, -1617.6104925780164, -8131.650540834533, -8130.877037664818, -8124.768050613101, -8123.205745904102, -1613.2768598984949, -8111.8297729429, -8111.67466192872, -8109.413353405594, -1611.3606094753068, -8104.4874126136865, 385114.3154376547, -8101.99104771903, -8102.260218621973, -1610.8875361313876, -1610.912683757053, -8097.105733152976, -8093.447318159297, -8090.73632321318, -8089.308003023009, -8088.399951779013, -8088.306995600427, -8086.987288287765, -8086.271536392347, 389166.7249200784, 385134.1453708009, -1606.9755868691063, -8079.468003133976, -1606.6864444083203, -8076.147757732801, -1605.639151621359, -1605.506161321562, -1604.249730074267, -8070.420891896855, 385148.3023128019, -8067.464576867981, -8064.20195741869, -8063.327159451485, -8058.043608763572, -8055.765497190589, -1601.5239622507415, -1601.9982608010032, -8045.240701563976, -8044.107901093696, -1599.5959933719532, -8042.155240636795, -1599.8791614370475, -1598.3181727086212, -8035.234914535695, -8035.487285283257, -8032.507553939359, -8030.141561242232, -8029.952798116906, 390727.52812313655, 385193.1420834879, -1595.9894520987673, -319.3139596536057, -1594.295082138784, -8013.836389666451, 385205.3932290374, -8001.286463324818, -1590.341002742858, -1590.2779213595386, -7996.657450661395, -7995.535584990823, -7994.155484859207, -7994.148143425844, -7992.968248525256, -7995.4537732049475, -1587.8375218025285, -1587.6966405445255, 385234.5839289683, 385238.8889547383, -1585.8785802194889, -7973.755911248492, -7971.627843272298, -1584.7888795919644, -1584.279182036753, -7965.539628937786, -7964.929870164088, -7962.73658691876, -7959.535096969031, -1581.1994518256306, -1581.6334966756167, -7950.456255397251, -1580.518773101001, -7941.476361913634, -7937.943835174109, -7933.835588503874, -7929.775153961759, -7927.550380113262, -7926.108541827166, -7924.329781040035, -7920.082429451497, -7920.458750412441, -7916.382033694783, -1573.6448495889435, -1573.3266455695357, 385304.64155098016, 385305.3097473068, -7910.122419683507, 390444.7773458725, -7906.737456599749, -7904.896521255446, -1571.1104439163537, -7899.993660093274, 385318.4063121244, -7898.248515352223, 385325.0954989653, -7890.142708549246, -1568.3910472298248, -1568.375239988036, -7882.305550701869, -7882.122274629598, 385336.4691069686, -1564.8316994243232, -7865.523358572241, -1563.2928931591068, -7860.7769280328, -7860.6788774472925, -7855.940192663142, 385366.9269074824, -1560.0316415909365, -1560.4932665138967, -7845.6492334208915, -1559.9470330462846, 385376.592840084, -7840.410828130171, -1558.0009667251852, -1558.478038720843, -7837.124540163893, -7835.290944204475, -7834.785789556054, -1557.976874353153, -1556.9529424986704, -1556.3781022918647, -7816.755458583217, -7814.429301095566, -7813.942226451337, -1553.7168038739292, -7811.054007953267, -7814.557191872566, -7809.310100573252, -7807.822110060789, -7801.456674154198, -7794.181541771014, -1549.3817605166696, -7792.803104884964, -7789.878700774075, 385428.057029377, -1548.290374260987, -7785.706739783921, -7782.084424198999, -1544.3197464990935, -1544.2564459118985, -1543.3164566781943, -7762.170749898627, 385456.7195195517, -7759.957530055005, -7755.875345091406, -1541.8516576836646, -1541.486265448344, -7750.999564993139, -7748.198132692995, -7738.797299181587, -7737.057671066496, 385480.2905144483, -1537.685275074873, -7731.1280879847645, -7729.1396421901745, -7728.151150683214, -1535.241566619252, -7720.867226805087, -7720.708807450773, -7719.501326783305, -7720.474249835208, -7713.068534339377, -7708.245625877978, -7708.946687745158, -1532.6785725771642, -7705.644270291656, -7703.505669841224, -7701.829257489297, -7699.9409535804125, -1530.041114807549, -1530.8724453054856, -7694.8498315674515, -1529.77821903921, -7689.007808539886, -7686.109960424291, -7685.735004557237, -7685.275345468784, -7686.169468995611, -7682.203616419654, -102.97666930746765, -7679.579031397398, -1526.2651958154129, -7674.60157749285, 385542.21528790006, -1525.492963669898, -7671.656781200537, -7672.712487016423, 385552.40408470994, -7659.152025378487, -1522.5770844078615, -7657.810282338914, -7656.888255709559, -7653.142780889087, -7650.617399299323, -7637.418367197181, 385580.53404775687, -7635.257678940279, -7635.565649029738, -7635.348741394057, -1517.3633300297297, -7634.326814040349, -7630.315266996992, -7636.710091015893, -1516.7328904776678, -7627.936913357083, -1516.265705034617, -7622.710756499564, -7617.954906666406, -7616.1582887648765, 385603.0411203265, -1513.3458017975354, -7611.531326243372, -7611.379708475522, -7609.039296789884, -7605.104297284054, -7601.6369869729615, -7598.760935650966, -7593.766087504447, -7593.963550259447, -7591.450017152134, -7587.931830277438, -7584.70985008125, -7580.042940985962, -1506.0557781242114, -1506.456938132451, -7574.694583298205, 385644.24046063016, -7570.3996749026255, -7568.821191381034, -1504.9988939203158, -1504.0883798700415, -7555.542394461887, 385664.0248350753, -1501.3108623076514, -1500.8355594296263, 385687.1650310321, -1496.4364566072709, -7524.297243137453, -7522.206974858561, -7518.593940771991, -7504.600406270273, -7503.990313775303, -1491.9364697033234, -1491.5980970579403, -7499.830826396711, -1490.059614672853, -7495.208928468915, -7492.951059924642, -7491.6542261640125, -7492.523122289637, -7487.434552322634, -7480.258676556847, -7480.462458363178, -7477.900468852549, -1486.7548742514246, 385741.3513169868, -7473.902957321618, -1485.1742484151364, -1484.470178396792, 385751.5026772047, -7463.769082200457, -1483.1777891030524, -7459.154837519107, -7458.069276953827, -7458.896036951606, -7456.685152939669, -7453.419231881887, -7452.164078663739, -1481.1483778701313, -7453.847134353234, -1481.9566839842646, -7447.744251051909, -7446.177399931129, 385769.85251372366, nan, nan, nan, nan, nan, nan, nan, nan, nan, nan, -7443.641399567458, -7442.928233793691, -7439.130822411279, -7435.604522338042, -1476.7025067234954, -1475.9506925451333, -7412.795384013416, -7412.185247089591, -1473.7195143957597, -7409.889794580346, -7408.575026749378, -7401.815950603413, -7397.83288784925, -1470.220838805959, -7391.442815785046, -248.70623857454584, -1468.6783984920694, -7385.730395353238, -7383.553863911646, -7381.422128841863, -1467.1381040252909, -246.5460816252972, -245.4475214061541, -7375.209318310341, -1466.0809811983836, -7373.150635088841, -7373.760620144229, -7371.823212909558, -244.4210411068917, -1465.0165959502829, -7371.99637436744, 385849.5160300681, -243.51913851565504, -1464.7261864204647, -1465.9080635712126, 385853.5873605096, -1465.2598055994877, -7369.734317140673, -1462.6945488184756, -1462.009287351626, -1461.565292632593, -1460.0381132144394, -7345.453207255179, -7343.312576487873, -7342.454034704065, -7341.165358016682, 389316.8041816387, -7330.243016328375, -7327.642955793695, -1455.0705233223543, -7318.807533090752, -1454.7077273038267, 385902.3586043098, 385905.9209209653, -7308.555621074093, -231.5668465760419, -7305.762579018585, -1452.1972935023823, -7304.3977500099645, 385914.810483946, -7300.070694354616, -7300.394809127639, -7297.699004679404, -7295.358327025985, -1450.3454557970072, -7292.296732782438, -7289.9115839101505, -7288.363624401337, -7285.109724512811, -1447.012449775053, -7278.725479858794, -7277.381294703891, -7272.087247564401, -7270.479679191365, -7268.925720053427, -1444.763285427969, nan, nan, nan, nan, nan, nan, nan, nan, nan, nan, 385959.1907166875, 389332.8062056912, -220.9195345474628, -7246.4310273696765, -7241.662618223981, -7235.710573379276, -7233.846446652736, 385984.6572194239, 389336.7061855686, -1437.4010582881765, -1437.4875962229944, -1437.387633464832, -7226.1891931620285, -7225.227417397119, -1436.990475503335, -7225.183330256846, -1436.0356446558562, -7221.841923226623, 385995.11347776325, -7219.276087439847, -7226.256938657524, -7224.503903179768, -215.61248828511188, -7215.86495394445, -213.2887878732973, -7212.746904029147, -7212.560277542025, -7205.738942432957, -1432.942472266268, -7198.989317680352, -7196.688476570135, -122.70808977313528, -7188.476595844089, -7188.409440335381, -7186.381219703726, -7187.216147185594, -1428.8201568570566, -1426.833501532623, -7169.050925516276, -7168.800663852567, -7166.530505974656, -7165.658753473211, -7162.925123980462, -1423.4158226330037, -1423.316911633765, -7156.210056408128, -7154.919691035689, -7152.420165489153, -7152.92598438644, -7150.743101439015, -7146.299383801461, -7139.751974689716, -7138.4211350817, -7137.319760712174, -7135.98554719351, -7134.161597965872, -7130.4903010546095, -7130.909008905666, -7126.745726863953, -7125.21502761462, 386092.7971194912, -7123.610485195106, -7121.017334610639, -7120.517563545316, -7118.429277824821, -7117.338200079958, 386100.880239715, -7115.984665942408, -193.1517850817664, -7111.979371899198, -7109.258490323877, -7107.810594650496, -7104.603145346076, -7103.5852948407055, -7100.524675611086, 386119.6346114909, -7096.785455608367, -7096.39482727621, -7093.814879958321, -7089.433691637276, -7089.9231339734815, -7088.58183568956, -7085.3834095178, -7083.997901859906, -7076.428047970424, 386141.168659894, -7073.79920594222, -7071.245407637935, -184.51096010947467, -1405.5576788195249, -7066.4290907614, -7065.052924316393, -7065.519910559171, -1404.3973828002745, 386155.4043201216, -7060.52212168675, -7059.100219613969, -7056.2424182386085, -7054.728173210054, -7054.393690666462, 386164.4218423341, -7051.883919533535, -7050.609844147043, -7047.131999113617, -7046.959946035344, -7043.4711391840665, -7043.620629009359, -7041.265357939499, -7040.241657612402, -7039.440720962191, -7043.026265253017, -7043.202469773182, -1399.361281818803, 386183.74005511927, 386184.0973684568, -7030.05621760332, -7026.359174312021, -7020.899086580259, -1395.185101896117, -7014.0472062105855, -7013.858534654704, -7012.708719760464, -7011.101568093588, -7010.022366791923, -7011.685007976036, -7011.087524933701, -171.12434689531537, -7002.46612928922, -7002.417912614194, -170.20158384847954, 386217.4382610278, -6995.695616000522, -1390.6687712005096, -6991.748312503667, -6990.5796733571615, -6988.635052286727, -6985.437076700571, -1388.3246735156354, -6982.685360139679, -1387.191941534138, -6975.473073012452, -6970.521454160812, -277.95753107446944, -6964.551047116738, -1384.2776035200204, 386254.7045280288, -6961.987331704692, -162.72750863659994, -6958.358282226645, 386259.6751091767, -1383.5033529800512, -1383.235091526145, -161.7923255049346, -6953.631654563154, 386266.87859132414, -1380.6540284883613, -159.58354865948886, -6941.101777638035, -6941.314247749092, -6938.665415224751, -6937.430783205367, -6938.1216544040135, -6935.695085391421, -6931.690011624564, -6930.325494360051, -6929.865298973741, 390483.9915578967, -6926.159985531487, -6924.71047572085, -155.61968262968102, -1376.1978410155716, -1376.5800711175416, -6921.916295037233, -6924.906648249002, -6917.643159525941, -6908.351437265729, -6908.173608672605, 386310.8952933539, 386311.1412867204, -1373.8780293690434, -6905.74037714841, 386314.69243919424, -6907.049432104514, -151.96629117689653, 386318.9747889359, -6895.956732453691, -1369.869468507226, 386330.8511360464, -6882.90924034635, -6880.419902944515, -1367.9568565944337, -6876.643484150754, -6874.820727949187, -6868.106888801538, 389410.1149640855, 386358.78376420354, -6856.873829153094, -6855.901020939479, -6856.922143802147, -1362.7282146517864, -6850.822135166189, -6850.179462860964, -6848.15824567975, -6848.9783511281385, -6839.7363327943385, -6834.376704658562, 386384.2822334714, -6832.968757433444, -6830.953111987865, 386387.08557031257, 386389.66481666337, 386389.4974074132, 386391.8173969436, -1356.10803094937, -6813.176243173573, -1354.2474633138972, 386405.7645745464, -6812.490625087357, -6809.94781735309, -1353.529853604079, -6806.24179923859, -6803.527738202, 386413.3221716656, -6800.0937496264405, -6799.624714399357, -6799.721668161913, -6797.261165929843, -6795.239875573916, -1349.1993048202748, -6787.461612253836, -6781.573504732928, -1347.4943013334396, -6776.222574597668, -6777.605223031346, -6773.382090713153, -6772.292550243445, -6772.72093958965, -6769.107159000843, -1344.7349566776884, -1344.219352863338, -6757.484244286025, -122.89323211434484, -6752.60185972504, -1342.9720860333491, -1342.3898825315264, -6749.722687149884, -6750.050820095121, -6751.736149623762, -1341.690261886797, -6744.591837900232, -6743.679994964751, -6743.022367435528, -6741.284909431259, -1340.479436854941, -6741.731540708332, -6739.212507556359, -6734.471726722153, -1337.710105020502, -1337.6619341144706, -6720.656975631115, 386497.71407782286, -6712.720029085426, 386506.159007916, -6710.056230458849, -6705.215808431849, -6704.354083453833, -1332.196271223247, -6700.691726467584, -6700.810372699654, -1332.3255741237026, -6697.215750153131, -6699.615670628376, -1331.8700479344825, -6697.360863219091, -6693.809114919824, -1330.6463450193733, -1330.8227950498676, -6687.663734566525, -6683.979250584001, -6682.867814080983, -1328.7699472797813, -6680.894391679216, -6677.497839302633, -6676.497453979297, -6674.044370235091, -6670.000567954043, -6669.709431843009, -6667.385825639845, -6660.163598173278, 386557.60688288976, -1323.624854696298, -509.96992170510026, 386562.3653522933, -1322.0966340963114, -6647.639353371602, -6647.141220607569, -1321.0792231329488, -506.08816008356376, -6637.233109543591, -6637.731381604992, -6634.020277101821, 386587.8008535328, -6623.100624268739, -6622.8360737422045, -1316.013441364501, -6620.3964733045, -6622.580603274027, -1315.453549572043, -6614.656511288551, -6611.1667100935165, -6609.531991028282, -6608.966291867918, -6607.198973796162, -499.3541969108483, -6603.89897764953, -1312.8189439798334, -497.5781449454244, -1311.0943484875752, -6587.968666008487, 386636.0438746874, -1308.7801405614682, -1307.0558685232609, -6574.970869918134, 390497.5510763903, -1306.4284560155902, -6569.633074068437, -6568.01572683706, -6567.302600079539, -1305.9477807784442, 386653.67190812906, -1303.9577949784834, -488.2238722102648, -487.76476479834497, -1301.0759356721028, -6542.460790155981, -6541.818858427412, -6540.615433291707, -1300.9936426349705, -6538.852756147725, -6537.361040276142, -6538.318378946947, -6532.229922395987, -6531.009654625348, -1298.132495507054, -6528.589597057116, -1297.507302925589, 390739.9039718471, -6521.03231937172, -6520.0807450899365, -1296.8412856935938, -6516.376749587538, -1295.266533826767, -1295.7127807472225, -6513.070546208326, -6511.621132787026, -6507.922473141459, -6507.572513763696, -6504.707406860659, 386715.927254562, -478.9232510289658, -6499.966349526597, 386719.5715507641, -6496.580732120125, -477.8086484564465, 386722.5872705145, -6496.110776190064, -6494.163685270736, -1291.9901046037958, 386727.7720214849, -6489.817913529231, -6487.285708799551, -6488.698180613921, -6485.903970546268, -6484.860320188426, -1289.4257503571134, -6482.4167230667335, -6481.039027449449, -1288.859359079186, -1289.518225981492, -475.8119335482207, -6469.613167205369, -6461.3344692332885, 386758.9191840872, -6450.804888677822, -6449.124261052762, -6448.810859676204, -6448.334981961401, -6448.446985871432, -6446.735178310854, -6441.878639064594, -6441.953720006979, -6441.631654685115, 386778.3314921229, -1279.5559646519523, -1279.5152086481703, -6431.470051115715, 386791.71630499593, -1277.265111997609, -1277.6460478971276, -1276.4502996946285, nan, nan, nan, nan, nan, nan, nan, nan, nan, nan, -6416.550839382566, -1275.6727194230025, -6414.735262169732, -6406.6520218085325, -6405.881471941193, -6402.560102536205, -6401.409886979181, -6400.382931128647, 386825.4939828686, -6391.7827759549255, -6388.001301055547, -6387.195972241037, -6387.136079083995, -1269.6036885991507, -6384.358526017085, -6382.9130547804125, -6383.134794565658, -1269.893068020432, -454.3904410232772, -6373.865375741792, -452.2190672052985, -6369.838576868417, 386850.21043686353, -6365.810709222035, nan, nan, nan, nan, nan, nan, nan, nan, nan, nan, -6358.340914371778, -1264.6270312063607, 386860.9001112897, -6353.637276625559, -1262.2345664988588, -1262.670459139992, -6348.745066870616, -6347.0770825762, -1262.2538628594557, -447.6059176754698, -6344.469419450306, -448.46040363761136, -6342.672400306734, -1262.6939963182467, -1260.8242874136686, -6338.245982498383, -6337.915727608968, -1259.9336927112508, -6331.879516471775, -6330.388061237318, -6329.136781974518, -6328.095641822349, -6329.409939249594, -1258.1561129588135, -1258.7543395734338, -1257.4961901986044, 386893.6087152037, -6322.8874522238575, -6320.653030174664, -6319.0645728147765, -6318.086561689568, -1256.2767224695745, -1255.6174701508935, -6312.129973851292, -6310.825121188888, 386916.8515154084, -6299.339295949524, -6298.593272786915, -6290.1801130322165, -6286.449603353189, -6285.697334443617, -6284.497458386263, -6283.062079560222, -435.313194451057, -6281.886110775923, -6279.833597172086, -1248.1198349005208, -6275.115230455726, -6273.8516409126805, -1246.910662064647, -6266.248202745794, -6265.027152595316, -6263.5870900064965, -1245.9914393342187, -1245.2589612447646, -6260.556431285355, -430.75410340941386, -6256.962660506983, -1243.345098594671, 389531.9495199419, -1243.3898548069556, -6246.5908131308215, -6246.208918271102, -6241.387808726768, -6240.50012196946, -426.518567369496, -1240.932757857936, -6235.027410298441, -6234.169608062292, -6233.818080997358, -6232.379310992217, -6232.1397036469125, -6232.867674126726, -6232.569554028964, 389536.1006745597, 386993.2979577899, -6223.683607755321, -6221.497483147697, -6220.125291177576, -6221.47828817893, -1236.1819374859388, -6217.003792035074, -1236.5997172067891, -6215.254569673709, -6218.679652603823, -6219.15742568059, -6210.476085431617, -6209.84272400842, -1234.7527811662912, -6204.282084308727, -6203.688417979276, -6199.85305544553, -417.9507620427085, -1231.9955144537653, -6189.963317377704, -6188.197952614371, -1229.344300890225, 387041.37313334265, -413.9826020927449, -6173.44387845472, -6169.102647306288, -6161.438146762656, -6160.820390902595, -6161.673034147872, -6157.066586419402, -6156.5490146941565, 387060.8641539647, -6153.094678230146, -6151.958617181599, 387067.49222286337, -6149.398252267013, -6146.657574432432, -1221.817323210871, -1221.7671643213816, -6139.474730070064, -6138.955641033004, -6137.272136607905, 387077.4961035179, -6139.988381723646, -6136.73129019328, -6133.765576275122, -1219.604436245365, -404.53527808187215, -6128.370611227923, -6126.779329278227, -6125.0005333826575, -6125.849775984378, -403.7247842817124, -6123.325331005338, -2360.514415195188, -6116.108075238243, -6115.007855718818, -6108.553490684294, 387109.6302839579, -6105.851119468425, -1213.4192759086236, -6099.540437841569, -398.7642041763484, -1212.4850176676428, -6098.845144411112, -6094.471895343766, -6093.350756463071, -1211.730893262862, -6091.244443552354, -6089.305890398769, -6089.369124239272, -6088.417967735368, -6086.744647829921, -6083.9868950757145, -6083.9947296293385, -6083.047746760813, -6080.771157006658, -6079.7530068724645, -6079.595061247061, -394.3404701908931, -6074.032046762429, -6073.116991868471, -1207.8224335614996, -6071.958866070005, -6070.372171354566, -1207.029621838652, -393.69271421568016, -1205.8714211880706, -390.211656806152, -1204.5913572525533, -6056.8105149151625, -6053.012518303677, -6052.175251863351, -6051.139188648625, -388.02306530633547, -6047.460416921866, -6047.251150080626, -6046.969930807836, -6046.239688638723, 387173.110410068, -6044.8191185201085, -6040.393800102798, -6040.029063948672, -6038.033232744295, -1200.9103795052524, -1200.5814807401875, nan, nan, nan, nan, nan, nan, nan, nan, nan, nan, -6029.561309461845, -6031.12404193636, -6031.522891176548, -6023.132303419343, -6025.506521383995, -6027.885770483365, -1198.057908207691, -6018.146376100188, -1196.0378137048046, -6017.4037863797375, -1197.6768793542578, -1195.8600314024825, -6012.915941537824, -6009.183738738375, -6009.041107111911, -380.0782648320256, -380.1523409718248, -6004.341436324005, 387213.5266382015, -1193.8155591233772, -5999.719482084975, -5998.294432864947, -378.2903583517655, -5995.546737184161, 389582.0892209541, -5993.577204878108, -5993.162449804888, -5991.510867622164, -5993.93600701704, -5992.380021066985, -5986.96555421931, -5985.6511793884265, 387232.8843121372, -5981.265172608603, -5979.067982121745, -374.70752795532286, -5976.355423195643, -1188.9557742009165, 390521.5343491985, 387246.736286689, -5968.084430569375, 387249.8033980015, -5968.075883534474, -5966.901673188349, -1186.081248260729, -372.3195542463, -5963.843878307914, 387254.8088639727, -5962.208901841095, -5966.94700603492, -5958.3903865616285, -1183.7913987019874, -5949.974874665255, -1182.5477437277514, -5944.466834239165, -1181.8641498955803, -1181.1002889960291, -1180.5184212309414, -5934.724523172365, -5934.447420313913, -5931.055222566912, -5931.6267843102905, -5929.341697046933, -1179.57966303596, -364.2196171483575, -1178.0181626540525, -5925.187716862056, -5925.285608351323, 387294.8044928047, -1177.1643041698062, -5920.998376183397, -1177.7906185975517, -5917.159451932072, -1176.2040826438115, -5915.786998106957, -5916.181616545393, -1175.048567371563, -5908.020695714904, -5907.195774106302, -1174.2769205243658, -5907.743684726691, -5901.6535766172265, -358.2542984581433, -5897.305018783989, -5891.835238188232, -5891.373443611154, -1171.2951291224508, -5885.606803891616, -5883.383677119742, nan, nan, nan, nan, -5873.586442278966, nan, nan, nan, nan, nan, 387348.5273154453, -5865.31500734791, -5864.665690551982, -5863.259029756954, 387353.83968312666, -5861.808461725183, -5861.64761548394, -1165.7470921178246, -5864.638503023955, -1164.716520128064, -1164.4081450732992, -5856.362580354647, -1163.4927810964964, -5850.955438653355, -5849.845619539377, -5847.842058241704, -5846.231116037465, -348.8092382789237, -5842.155456780027, -1161.2793114176948, -5841.812212758056, -5839.03362834679, -5841.948627840448, -1161.00624279568, -1161.2272162310528, -1159.5436442613118, -5830.601748429665, -5831.3534226154725, -5828.824124086714, -5831.075025774547, -344.92649535464994, -5823.418910334412, -343.0065482739756, -5821.237117362563, -5820.068615303435, -1157.558992396438, -5821.037734396772, -5816.465517986031, -5815.405650233454, -5816.892528977025, -5812.671570259872, -1155.710965207647, -1155.399499258916, -1155.3215505672451, 387408.2576092872, -5807.882974075439, 387409.4382109857, 387409.6285244136, -5804.653446918672, -5803.543189523169, -5803.631223979579, -5801.257921720884, -5800.820264579668, -5798.128221393173, -5798.063598951283, -5798.359203444908, -5797.457571366695, -5796.737928826276, -5793.741211736386, -5794.282061483915, -5793.731874824669, -5790.920474684293, -1151.9119219398708, 387420.1351900176, -1150.878935766088, -1150.5250356035103, -1150.3430459002066, -5783.474162929254, -1149.4466600374617, -5779.629695392013, -5779.213860792645, -5777.010969141728, -5775.662994036871, -5772.479895574409, -5771.764035923922, -1147.4779827718849, -5767.578543343368, -5766.056030440378, -1146.6895862897618, -5764.138309352122, -5763.183198564363, -1146.1224843588534, -5759.865351290368, -5754.168215309279, -5753.961857842164, -5752.648147553196, -5750.281966139743, -5749.635046252031, -5748.411208991049, -5747.281513056229, -5748.876699523561, -5745.148863609463, -5744.192724881642, -5744.7612211229125, -5747.782636517592, -327.97369603002886, -5740.112644172271, 387477.9252373854, -5740.525513822148, -5736.868532205152, -326.872647814138, -5734.127087457647, -5733.613374686663, -5736.276152518989, -326.6109445769544, -5730.212717060625, -5729.555296146769, -5730.569282658415, -5730.775717381802, -5730.178238620681, -1139.097637446317, -5724.022094673015, -1139.871540898328, -5722.861683730566, -323.61919469366336, -1137.9568906709137, -5720.093576165763, -5720.66995292886, -5718.70890108714, -5716.857162048326, -5718.184106304605, -5716.874053039379, -1136.4320730003492, -5714.2324744381685, 387503.4445009519, -5716.728487756999, -1135.3552229617362, -1136.7888256136375, -5707.836519201068, -5711.800512947417, -321.13209951504183, -5704.67745788715, -1133.0131960911694, -5700.517589075388, -5698.092385134039, -5697.690588976036, -5698.811151501653, -1132.129122713246, -5694.235265108508, -1132.8718122460996, -5692.057113640056, 387524.9853922717, -5691.089382535559, -1131.9282052425351, -5687.015869657455, -5686.183889206352, -5686.275084184841, -316.7415715442767, -5685.917277787054, 387532.1656620758, -5679.764447159781, -5678.091233523895, 387537.3967361323, -5676.308111608232, -5675.787665836698, -5673.867213704458, -110.17379862902597, -5673.457594428179, -5669.306292900135, -5668.862280126934, -1126.5846425482796, -1126.2777516285732, -5663.940538349101, -5662.4705579142565, -5661.330167646212, -5657.471106727173, -5655.570974053092, -1124.1289981861355, -5652.3547550771045, -5651.900237818714, -1123.1365463715483, -5649.304905574187, -5648.553096096198, -5646.009022931104, -5645.304976542529, -1122.3208916781532, -5645.2848145654125, -1122.192927659633, -5645.2343658031, -5641.0272093367175, -5639.614150265513, -5638.826975129631, -5640.815598860903, -5636.665257632591, -5635.7707666664855, -5635.244689948291, -5635.610130734084, -5633.787082136329, 387584.8636382793, -5627.808754023097, -1118.804715881215, -5623.422610230956, -5623.23540654161, -5624.836655129877, -303.30272071444784, -5619.3080865746815, -5618.287900430433, -5618.8947843256565, -5619.328204082513, 389656.2567008376, -5613.416460111333, -5612.588726530378, 389658.2450596509, -5610.486249191649, -1115.8835212615304, -1115.387563681361, -5607.189308182111, -1115.7846247587477, -5603.732059592595, -5601.341520859073, 387616.92681209056, -299.17206100107984, -5600.155824775519, -5600.932676330841, -5596.529202065743, -5595.39644319715, -5591.428166515664, -5591.168013637891, -5587.601212807165, -5585.832553579093, -5584.854013597678, -1110.7984962186092, -5582.828856381664, -5580.961885836367, 387644.61745517, -1107.665363314598, -5567.822483778205, -5566.78629080641, -5565.887399563754, -5564.205698128506, -1106.2596868734454, -5563.22698952925, -5562.311364519095, -5561.264875732572, -5559.722771169424, -5560.296257851446, -5563.975396036087, 387651.0214789411, -5555.6324157785375, -1104.9243107840466, -1104.063597582919, -5558.591054247876, -5550.405615576913, -5550.338736252325, 387666.7733237196, -5547.527465961837, -5546.900192206045, -1102.3600536048052, -5541.835794752996, -287.9531655741849, -5538.96373102039, -5536.801151941263, 387682.2549490553, -5533.317145204255, -5532.324421978989, -5534.29617595525, -5532.372185033889, -286.6362247493617, -1099.9576090702194, -5527.81645282225, -5531.398928883619, -5534.964957489505, -5532.692081608494, -5531.838835258146, -5522.55639869334, -5521.776917664492, -5521.120855198604, -5519.972841936093, -5518.423768525561, -5519.9496127012535, -5516.074792921193, -5520.224779917472, -282.1864865054468, -5513.017608426928, -281.1019925407473, -5508.452609982889, -5508.713099482444, -5506.175585487076, -5505.473546566802, -5504.936976285288, -5505.1524468394055, -280.5665972279531, -280.47275060334147, -5500.600810429325, -279.30913471026366, 387718.76022279664, 387719.6528904311, -5497.9116786264185, -5495.072555724584, -1092.011425867695, -5497.092102930464, -5500.813793021321, -5494.64404361188, -1092.3834853709886, -5492.885587410503, -278.5033649667312, 387729.9989322758, -5489.3967555666495, -1092.5548365324612, -5484.308600809271, -5484.416234752971, -5484.264947507072, -5484.668538705107, -276.99308570749423, -1090.502545683441, -5478.031475334171, -5476.129802193423, -5476.167775163895, -5475.822929559392, -5474.136157118186, -5472.142679984643, -5472.555045655486, -5470.372208088496, -5469.437894004046, -5470.7851069896615, -5469.062338464563, -5466.483808274375, -5464.9292688139785, -5463.731673840292, -1086.3789283347287, -5461.539810724663, -5463.724502606273, -5459.47610006056, -5462.582204374546, -5464.65829375265, -5462.637048575126, -5455.539837384783, -5454.371950604452, -5453.539734031105, -5452.648971553856, -5449.816620060639, -5448.677368908774, -5447.687152952905, -5447.240611297743, -5447.55323502803, -5444.398339128448, -5444.643864994388, -5444.080979330908, -5442.17593648397, -5441.0214192433, -5447.653209151647, -5438.613934396709, -5437.303642440658, -5436.1387886350685, -5435.40249463514, -5434.598110064007, -1080.1580814920271, -5433.852488886365, -5438.511046883361, 387786.82450901007, -265.08899402745016, -5429.923633646172, -5435.636910995451, -5425.2019196052415, -5424.530359331664, -5425.311506292561, -5422.576189204316, -5418.586982197971, -1077.2093911914435, -5416.50529777391, -5416.578954034652, -5416.326845314877, -5417.488435072074, -5412.543501311136, -5411.1191057088845, -1075.3597728948353, -5407.949404353032, -5408.106423870267, -5407.012899373383, -5404.759417542759, -5403.638480699989, -1074.3265985375074, -5406.130659407595, -5407.323945521653, -5399.597660143182, -1073.109944560394, -259.1672505283023, -5394.57447248512, -5392.354288472931, 387826.1851974963, -1071.3900379952574, -5387.227020941909, -5384.640730978825, -5383.661927437004, -256.34994286241096, 387838.1134845913, -1069.204488944939, 387842.3434293528, -5373.863670177988, -5372.012454515555, -1068.688104931267, -5369.839985007672, -5368.957109292929, -5367.877964280459, 387849.2425629541, -5368.461853645712, -5366.819177465132, -5365.035471602517, -1066.9040899394222, -1066.9811424858908, -5360.035785746952, -5359.875666780536, -5359.151456765098, -5359.300208797084, -5358.558532215418, -5355.25117891266, -5355.540780361032, -5355.719625266936, -5352.723035570583, -5352.038180171327, -5350.899105547299, -5352.813749159398, -1063.643569029522, -5347.024505790983, -5346.817959283448, -5349.567299060683, -5353.376947448899, -5343.133400693399, -5349.02653670975, -5338.782459210226, -5336.737477872493, -5333.12281885294, -5326.393566866836, -5323.802290511922, -5321.561532600626, -5320.214797176624, -5320.815417821529, -5319.465236699566, -5317.759753714574, -5318.497378251423, -5319.219514454724, -5319.3849938933445, 387903.77900898224, -1056.5266946779284, -1056.2952218066075, -1056.540799266446, -5309.423719271245, -5308.084863703741, -1055.2366717679597, -5307.23984611375, -5305.820500517959, -5304.813268775325, -5303.876173159524, -5302.852697984219, -5301.670245132717, -5300.968778845779, -5299.550420994502, -5298.67252570115, -5297.50201633324, -1053.704912753632, -5301.77301065181, -5293.656966201326, -5292.09025316853, -5288.998604580506, -5287.423078146851, -5286.369896641726, -5284.268866649021, -1050.326563515364, -5281.453025138709, -5280.802437920388, -5279.541342628562, -5280.545672124509, -5280.437681278562, -1049.0708843041775, 387941.3417648188, -5275.397328586984, -5273.5820621909415, -5272.774364148615, -5272.713724920905, -5268.728166187976, -5268.442955426667, -5267.039113974209, -5267.328486532948, -5265.191311734772, -5267.841785143054, -1047.2048091004017, -5262.274168791312, -5260.405167837219, -5259.792870695599, -5258.06887183894, -5259.603064904618, -5264.138265399627, -5262.909774348514, -5256.278437758533, 387961.4345460364, -5253.477066476138, -5252.166841127226, -5250.972512822821, -5249.240290106585, -5249.516602484526, -5248.890242822487, 387968.1449255757, -5245.284603801923, -5248.55433611218, -5243.938359685746, -5247.824910748988, -5245.193641610671, -5240.661098259468, 387977.05602465366, -5244.480763757847, -5237.340510013757, 387972.147920425, -5235.035601379684, -5239.24526419583, -1042.9576199046278, -5236.829478949306, -5236.451085267036, -1041.003757760478, -5232.252862389788, -5229.55206892918, -1039.7743598557936, -5226.850868760399, -5224.254250136005, -5223.958087637348, -5223.231163664883, -1038.4346456994372, -5218.799948761803, -5214.045753975352, -5214.038060085133, -1036.6199468935029, -5211.8164781493015, -5213.362005732512, -5213.386566352532, -5210.537204086915, -5209.245690778263, -5208.815040597434, -1035.3788641494757, -5206.291962639839, -5205.209326062465, -5210.174494381761, -5202.530538606559, -1034.2354647919765, -5201.886926135281, -5198.707579086958, 388019.22303508327, -1033.194517669568, -1033.368624145951, -5193.652232941358, -5193.451641143579, -5191.238083975074, -217.3150590816004, -1031.6530779923578, -5183.690696346062, -1030.99454847189, -5181.722842965532, -5178.385628504054, -1029.5898277066954, -5177.253826764171, -5174.285935622836, 388042.3380888857, -5174.094651091839, -5170.487685589937, -5169.6953497435325, -5169.281436770512, -5168.044596798481, -5166.55440622539, -5165.082920418568, -5164.572094801762, -1026.827379631084, -5162.330553958879, -5160.625652483821, -5160.4715936649545, -5162.210555780855, -1025.427434792964, -1025.441611611097, -5155.820420913554, -5154.422246961226, -5153.814639530679, -5159.125702367146, -5151.660784048872, -1024.3084322815994, -5149.686869231374, -5148.856547725175, -5147.039344065301, -5147.883547864875, -5147.228821592771, -5147.871899240835, -5143.759045564717, -693.0424126075177, -5141.9044584788535, -5140.617134376115, -5140.381841841545, -1022.354639783016, -5138.302522405341, -5135.318781238369, -5135.95254670457, -5135.928527797885, -5135.700431186026, -1020.7492613494214, -5131.992935997802, -5129.132219772251, -5127.814386271914, -5126.435633615572, nan, nan, nan, nan, nan, nan, nan, nan, nan, -5116.895773837281, -5115.175944020346, -5123.128065177161, -5121.78581651965, -5112.044592641904, -5120.268265330512, -5110.659347678166, -5109.799173727908, -5115.065099136015, -5115.323540557601, -5113.144699256639, -5105.312345221376, -1016.9292096336048, -5110.54370925475, 388108.9157115154, -5106.006811175738, -5105.630549182321, -5104.07873633359, -5106.257100483, -5101.359327080943, -5101.157608532798, -5100.89377803124, -5097.592903852279, -5099.311557373846, -5095.738711060314, -5092.891694184638, -5091.059185511525, -5089.34903351377, -5088.640440288957, -5088.402479464493, -197.6320400032892, -5085.177030867195, 390556.6790072853, -1011.2215071855098, -5089.478514908919, -5080.648635322356, -5080.567856619576, -5079.746546754844, -5080.395499345783, -5078.763451241273, -5078.550816422049, -5072.241440508438, -5071.755255485954, 388145.8210487107, -5068.131076092304, -5068.532819383242, -5064.05077187056, -5064.461671683854, -5061.621688069508, -5060.801294925056, -5061.918832800353, -5058.157389864461, -5057.301094225939, -5056.171433255235, -191.9666296632077, -192.2611606698611, -5056.350874263437, -5052.438888494976, -5050.292839852283, -5050.5760544160885, -5049.27686737469, -5046.868143864158, -5045.581748351837, -5044.77728301612, -5043.219890246479, -5042.706859007297, -5041.211672432173, -5039.197545942018, -5038.013976654158, -5037.596808292566, -5038.433887923286, -5035.668539281207, -5034.339775998087, -5033.147287735374, -5031.225168791644, -5030.108369160861, -5030.849813982065, -5029.308519704489, -5026.2294602728525, 388190.955092596, -5023.119477600408, -5022.365564425295, 388195.4190347496, -5020.793730270856, -5019.92020558204, -5020.5744092630375, -5019.3764721622965, -5022.616979722229, -5015.690306500879, -5014.705428411929, 388203.7704651765, -5015.397215893316, -5012.451550700339, -5011.390018829166, -5009.781684117724, -5010.9974361252725, -5007.813957844809, -5010.063819818146, -182.9692957115313, 388210.3963033703, -5011.732939233719, -5004.437465626495, -5002.493799057036, -5000.830629888028, -5001.543967766481, -5000.071635438266, -4999.157744877482, 388218.6714984386, -5003.783984735359, -4995.188385982258, -4993.125123924698, -4993.01306211995, -4994.763109168916, -4999.2849569570535, 388224.5107727089, -4990.594382184609, -4989.068201929922, -4986.2923877983285, -4985.734894818004, 388227.9370524591, -4986.928852828071, -4982.572145794947, -991.0664628407576, -4982.515805382706, -4980.034172016182, -4978.490292500385, -4978.063016666312, -4978.292764021174, -4981.541281198271, -4977.646060526337, -4973.641484774767, -4973.693154180528, -4971.562585918457, -4970.550978364381, -4969.15602518631, -4969.759252564497, -4967.792807710953, -4966.599027483484, -4966.027152636845, -4966.594896717663, -4965.082131001986, -4959.893007223591, -4959.4788586251225, 388259.84963024734, -171.37301786433642, -4956.177810615797, -4954.443355126798, -4953.128497681288, -985.6599687307444, -4951.136006177764, -4950.909010429214, -4949.66492746104, -4955.437081972906, -4946.678725510179, -4945.075925101792, -4945.748124947298, -4944.495936673096, -4942.033880421451, -4941.917497879279, -4937.7649665453055, -4937.26606436042, -4937.721609024312, -4937.699003106952, -4934.464144068521, -981.5957159616428, -4933.366934364356, -4929.195349320775, -4928.673425744991, -4926.67688796428, -4926.593950425539, -4924.85186636864, -4920.6593979449735, -4920.3410124257125, -4918.645374490438, -4919.516591989889, -4915.4884664020565, -4911.592278639355, -4910.470508836467, -4910.562824829834, -4908.553230778513, -4907.239011557033, -4906.125062312867, -4905.746497587295, -4906.386436678276, -4909.091920478388, -4903.328211228802, -4901.621552124633, -4900.520472263066, -4898.26455074326, -4897.985867101441, -4897.166064692195, -4896.956539130674, -4894.442973942945, -4895.841820540136, -4891.151643349373, -4890.341296119928, -4889.835542861655, -4889.332328947387, -4887.568335770202, -4886.391234127526, -4886.438944672107, -971.18926527656, -4883.006539238546, -4882.686632527758, -4881.5607939932925, -4879.008184516583, -4878.0819636948745, -4878.408136989711, -4876.897195396316, -4879.931977425295, -4873.8707390257705, -4869.592059084202, -4867.450441383825, -4864.139225173858, -4863.242790124808, -4863.710732059039, -4861.967528805665, -4860.988032454407, -4859.688091014981, -4863.265017768521, -4857.434669348369, -4856.2843235835935, -4857.999828508716, -4855.666724799114, -4855.6453396639945, nan, -4851.384110365329, nan, nan, nan, nan, nan, nan, nan, nan, -4851.579726126777, 388367.36745628587, -4847.111204243342, -4848.794674724202, -4840.14079223087, -4837.973361646407, -4836.656029912734, -4835.8831569480935, -4842.218742339823, -961.0983212609044, -4832.970082246476, -4830.923206615467, -4828.875921696379, -4826.15960618724, 388393.1482854764, -4822.288672547335, -4823.580061014564, -4823.4644694648405, -4821.651965137371, -4821.497324062668, -4823.132438082989, -4819.060528662775, -4815.683118682356, -4818.374895402672, -4815.649327880603, -4814.833670076911, -4820.770858883632, -4811.982042226342, -142.2762166594403, 388407.46141292906, -956.0609548438824, 388408.9751612581, -956.2922837361912, -4804.69612193886, -4803.192024090922, -4803.900614791134, -4801.988343356423, -4802.232101583296, -4803.610045688702, -4799.843607504349, -4797.549936496132, -4796.581760914572, -4797.364144716973, -4794.725652586644, -4793.308735485182, -4792.115411259893, 388424.0760933455, -953.7832190781428, -4795.985857501299, -4794.7151187900845, -4794.907581677028, -4792.306840100096, -137.33590297854613, -4788.705354159879, -4787.697062490971, -4785.597982460923, -951.1086120285272, -4781.798666594883, -4779.587737888353, -4779.423998967244, -4779.926831866008, -4777.557160289816, 388441.2752466894, -4779.202040103304, -4774.34334655098, -4777.041799028393, -4773.033473082662, -4770.449059749941, -4769.480536565461, -4768.355137620703, -4769.746242346186, -4768.080255660171, -4770.438417641012, -4767.244298453808, -4763.278492995723, -4763.747307938837, -4761.406733235083, -4760.712449838901, -4760.5870750364, -4758.516002221509, -4759.0033217676, -946.7584414897574, -4757.523534148387, -4760.54071061919, 388462.67848692375, -4753.609841539995, -4751.807574248286, -4750.860353738836, -4750.241461529109, -4748.467175796106, -4747.557337161175, -4746.367280687095, -4744.877848336556, -943.626610535508, -4741.616334759724, -4738.797127288581, -4738.601248902461, -4736.6004753529305, -4735.41508903629, -4737.152359764541, -4733.495574108832, -4738.084954721802, -941.5519475394904, -4736.908114143697, -4735.003854739646, -4728.364120718748, 388484.7876564409, -4726.161616997382, -4725.401997748851, -4723.051610715602, -4723.054567631237, -4721.397712852669, -4720.631677457536, -4719.667259111404, -4720.792403875908, -4717.579804619229, -4716.815777959321, -4716.100160964583, -4714.446460813669, -4716.1539483552615, -4712.555560292107, -4711.267331570009, -4710.391199082288, -936.7230149396346, -4709.680300242128, -4708.356620552229, -4705.805004341361, -4705.1150734969815, -4705.206303587223, -121.55454322971497, -4701.670396448562, -4700.864610684323, -4699.597099617959, -4698.854842475106, -4699.283123688007, -4697.673866684542, -4695.588305756285, -933.0266784972446, -4693.4454758357015, -4692.151702318366, -4691.034683400655, -4691.274264121328, -4691.123051924153, -4691.882292037175, -4689.767780031649, -4690.124434227864, -4687.17867110604, -932.8006227108508, 388538.9311370744, -4677.803335108703, -4676.200333517099, -4669.604878252661, -4669.807911948475, -4667.059320548709, -4668.064158424724, -4668.854518204445, -4666.336876446457, -4665.8608994089445, -4662.508648268468, -4662.761234769793, -4662.78060683848, -4662.131921691836, -4662.142838339286, -4661.000084571369, -4661.606816616114, -4656.9265204634, -927.9942084411232, -926.9716496526908, -4654.419322941819, -4651.428647651737, -4652.167869366604, -4651.225837078215, -4653.798405595921, -4647.782304816595, -4649.910831728614, -4647.868500888693, -4645.641240415338, -4643.860127829179, -4645.841329711083, -4641.848836352375, -4642.878486454838, -924.8324188546048, -922.415374034159, -922.3190620897276, -4638.23296868522, 390574.98552357015, -4637.503073333261, -4633.91338720142, -4635.286424032068, -4634.29749493536, -4632.055833772836, -4634.715047346056, -4628.288951136428, -4628.465568822394, -4626.343739370464, -4625.972718114079, -920.493493893895, -4623.441716610269, -4622.005284750443, -4621.333985200964, -4620.761268985062, -4619.803408251521, -4619.819466545835, -4623.144596499094, -4621.035332738827, -4619.353103462773, -4614.443112409943, -4614.851848895636, -4613.865339760847, -917.0774367654049, -918.941976352924, -4611.244402314884, 388606.3100337965, -4607.9357915739565, -4608.643172816523, -4605.801438417004, -346.9802099197386, -915.872554808806, -4604.9008374125815, -4610.725481657671, -4600.120481298623, -4599.60199645789, -4600.743910334674, -4598.078161745239, -4598.8921936195175, -4595.188470611623, -4598.534924054567, -4593.285880715305, -4598.317994453071, -913.1532094617396, -4590.601152877141, -914.2864898150128, -912.4779948742198, -4588.626216235163, -4586.95506399528, -4586.047987484506, -4584.852620990164, -4583.746059337305, -911.0837093484952, -4578.096097142457, -4577.7536299691055, -4576.985825049242, -4576.738720066162, -4572.212032556211, -4572.610113880312, -4571.785623595392, -4566.89047428145, -4560.708560164821, -4559.55599224538, -4559.513290686782, -4557.489130354708, 388660.8095218553, -4559.499142485821, -4559.927986336154, -905.3992344408034, -4557.773230931509, -4560.880541426831, -4553.081082765355, -4552.411201187998, -4554.100104219933, -4553.834254682303, -4549.4299079415705, -4548.850889713617, -4546.360760805354, -4549.502178831428, -4549.449401117344, -4541.158702340059, -4542.159620210248, -4539.369910093366, -4539.209316659609, -4539.427995275753, -4536.092369032391, -4536.3016606314295, -4534.420184317552, -4533.878640927876, -4532.214854678639, 388685.57111145294, -282.6403416577439, -4529.53249085173, -4529.379634663988, -4528.977696899216, -4526.683846068426, -4527.247243086835, -4524.510147236132, -899.7888504418825, -4523.025618036038, -4522.139427256631, -4521.3595255080245, -4522.957227713799, -4518.736492941296, -4518.341387527175, -4518.876356683199, -4516.861732502688, -4515.641117974326, -4513.565155699829, -4512.263433185839, -4518.390709969164, -4510.517526599603, -4509.57235074798, -4515.052385443361, -4507.801657270122, -4511.310820655361, -4504.539719524756, -4501.832962267239, -4500.927796610581, 388716.1980345492, -4500.076744036872, -4497.216155751704, -4496.939340330471, -4495.984365367436, -4495.580944484387, -4498.085481267866, -4501.4081456305685, -4490.375919643945, -4490.448028329596, -4488.067031277062, -4487.420433202849, -4488.592303807987, -4485.016045015608, -4488.4027204851545, -4483.011765605496, 388734.6342358788, -4487.389314687397, -4487.537678791628, -4479.089233557079, -4477.271962056995, -4476.666275271648, -890.3505391737399, -4476.623481068066, -4473.00488110828, -4473.967452396541, -4476.353034626261, 389884.6534920946, -4473.724903427061, -4468.262407357639, -4467.033995171856, -4467.93691482459, -4472.64760525862, -4470.05096069936, -4463.877129396812, -4471.9086746352, -4470.098926749071, -4460.945894486236, -4460.674891053095, -4463.497944001265, -4457.290192193046, -4462.2513422632455, -887.6497630622744, -4460.41318541275, -4453.869159157478, -4452.110828882174, -4459.86702910143, -4450.200885768241, -4458.032551424209, -4448.911247870648, -4456.964135622982, -4455.030629848545, -4451.10262568582, -4444.566738773289, -4450.961868593519, -4449.810470050388, -4448.055791161623, -4448.17519277584, -4447.791881267402, -4444.44621978596, -4437.570767258645, -4442.734387058113, 388781.5162365153, -4441.174697676104, -4442.7466489522185, -4438.43901722695, -4437.888648487182, -4436.709328602319, -4429.888222311743, -4433.969620723834, 388783.8540426147, -4432.311007175863, -4430.853355268744, -4431.668735465419, -4425.214519516084, -4424.831739016164, -4421.729374868284, -4423.502268040526, -4425.180136707039, -4418.866263047654, -4425.529864183844, -4425.334344100845, -4420.152806317186, -4416.841953048756, -4416.966993843166, -4415.934458227057, -4413.858349779934, -877.3048088907763, -4411.067139379886, -4409.86693414313, -4408.189938538844, -4407.686359687148, -4407.49889610317, -4405.011060080624, -4403.6026223409335, -4402.3614615519045, -4410.059633454913, -4400.935963530552, -4399.664923231869, -4400.683749924441, -4397.70913863842, -4396.220270624517, -4395.810261256187, -4394.888904412534, -4397.615948101523, -4392.619478920057, -4392.416745211737, -4391.47487840549, -4391.858645284203, -4389.959669206087, -4388.1220357485445, -4388.167110726337, -4388.064003130463, -4387.315051104872, -4384.05788183714, -4384.186746212191, -4382.387632857389, -4380.044486183203, -4379.5301583868095, -4386.038610365559, -4377.055463269007, -4376.780550977522, -4375.582693053327, -4380.430239877392, -4379.067009793412, -869.2680404336188, -4378.305189702902, -4377.5107669198815, -4377.9990701605975, -4375.681384360526, -4375.128784613211, -4375.422950920901, -4373.284190077921, -4371.921724404406, 388845.3899878688, -4368.814888304822, -4367.390983541548, -4366.69849242156, -4363.248030731231, -4366.376532014709, -4361.109581258392, -4360.454842396656, -4359.979165003184, -866.8474310339607, -4356.447991386585, -4352.764764553462, 388865.219999162, -4354.0379104268495, -4353.738904331437, -4353.69436958742, -4351.073663144774, -4346.181267699712, -4346.011877235223, -4351.104052006212, -4349.645572637539, -4350.094254343208, -4341.382627497559, -4347.5490162601145, -4347.6684791141215, -4345.493682586098, -4346.463475978703, -4342.202160355454, -4341.7867754100425, -4341.735313639496, -4338.1264774160445, -4340.729672338513, -4336.114295109743, -4339.381130366715, -4334.282878240364, -4333.25136884532, -4333.1512238042105, -4330.38121436919, -4328.647232233285, -4333.28671726526, -861.6866266559973, -4330.523766143414, -4319.435599908511, -4318.719233930229, -4317.713967113502, -4317.042154092324, -4317.967945756002, -4314.494835020177, -4317.876644464548, -858.0244754468476, -4312.439694296603, -4319.3942505344585, -4311.978920641205, -4308.596384461856, 389916.112866912, -4306.753259052653, 388911.7206365192, -4301.713762729904, -4301.422417069553, -4299.12951154262, -4298.125847826187, -4297.505936395322, -4296.363971798931, -4295.176184154364, -4297.764385942757, -4298.064465123748, 388924.8957764618, -4295.262674330753, -4294.7583400944695, -4295.379128675064, -4288.406044214276, -4294.221864622239, -853.4602854559835, -4285.6167115415055, -4284.0199090425485, -4289.765046326064, -4288.530642159872, -4281.778997437255, -4287.7358128107135, -4279.886441953196, -4286.797126838585, -4277.016239237008, -4277.370795713987, -4282.541728612978, -4282.985602576253, -4279.598455098933, -4277.162197886808, -4277.229432367577, -4275.174148936751, 388943.3539276417, 388944.3911557943, -4271.528215497427, -4271.392671495649, -4272.026888727467, -849.0978350049008, -4265.4124850889175, -4264.8336419250045, -4264.413072886448, -4260.1980167000265, -4260.314398333993, -4260.938346136187, -4257.963719008621, -4256.715193110793, -4255.386841830928, -4257.62485036533, -332.17398765182406, -4251.702738197246, -4251.480528473949, -4249.475970794927, -4251.220458176937, -4247.6719716342295, -4247.476347119155, -4245.519791553972, -4245.308181928383, -4243.863772029687, -4244.203684578461, -4243.048740779163, -4240.749524345436, -4240.198898285365, -4239.170761002125, -4238.065046639645, -4236.1593654793705, -4235.08196565601, -4235.095826594889, -4237.553184244112, -4236.220768396562, -4235.758064449553, -4236.274242679046, -4233.888236919952, 388984.8897116549, -4230.284756727767, -4226.434438400857, -4226.485636091391, -4224.417665653545, -4223.144593702455, -4228.648576658666, -4226.0296024679965, -4220.30155050411, -4219.470342085602, -4223.165970223767, -4217.2495590820345, -838.6071508348996, -4216.769936872194, -4215.940563829678, -4215.05958502683, -4212.093556016519, -4219.88338560805, -4210.206284680522, -4217.904669073088, -4216.472967351125, -4214.287614414767, -4213.644719845212, 389011.9777736398, -4212.763441563971, -4209.061368371986, -4202.209890232694, -4209.195789171808, -4206.152603163881, -4205.157355509629, -4204.735082813711, -4197.648783218601, -330.7897411761787, -4202.381103184891, -4202.094318299513, -4199.093014455157, -4192.768082936304, -4198.266295614537, -834.3357582963417, -4195.615024911685, -4193.7184645103225, -4187.745070572809, -4193.384317362253, -4191.78558839086, -4189.842090348018, -4183.3118314328, -4188.968784743227, -4181.974938601292, -4181.8317135594125, -4180.931121303609, -4187.854801160415, -4177.628139313212, -4177.265399767382, -4177.9968121374895, -4176.87694936756, -4175.8557357362815, -4174.406543663358, -4172.361774909146, -4177.551654601078, -4176.6718779936455, -4168.222879617331, -4167.152649075992, -4167.125648682397, -828.9432973111798, -4172.794306225857, -4171.483646903305, -4171.107677064886, -4164.518916451052, -827.7811038059263, 389051.3461445336, -4161.39579300624, -4160.296409053964, -4161.482200030047, -4163.248853361819, -4157.418447919999, 389061.6937581413, -4152.533724703873, 389061.79558388726, -4152.635005202364, -4153.478392453591, -4152.558995445699, -4153.554084637429, -4146.751902820447, -4144.711271868319, -4144.309533117033, -4142.406584944479, -4141.630427467176, -4141.231544722359, -4139.859491314775, -4138.246727779965, -4139.519672714922, -4138.84033643119, -4137.957519542948, -4136.15749820561, -4135.568237658878, -4133.696737035403, -4131.972303116148, -4136.591978442133, -4137.331614974311, -4128.038396825007, -820.7196327936454, -4124.747206540018, -4124.002400915396, -4122.043937132238, -4123.006901295044, -4122.460568590293, -4119.170295532995, -4124.453570986114, -4117.645688658775, -4120.808137583183, -818.1628074551227, -4121.421141526393, -4112.782672491851, -4109.464696710933, -4109.333293702876, -4109.678889270262, 389107.9909298472, -4107.015390173509, -4109.061671251181, -4105.046035129726, -4104.676164838529, -4102.148730857774, -4102.373927217401, -815.9440220581582, -4100.453263941229, -4098.801383540779, -814.3326040763131, -4094.700698113045, -4093.891758825673, -4092.078715824274, -4094.1630771441937, -4093.16548196458, -814.2073246636719, -4095.7821797836896, -4087.613623086564, -4086.4078277684735, -4086.647130276641, -4087.638517262167, -4090.5943692802784, -4085.92853649648, -4084.941774570823, -4084.646283893583, -4082.784642410856, -4078.927573276191, -4081.824598985461, -4076.603740576039, -4082.6034430605823, -4079.51568162614, -4078.5509318998406, -4077.133943401135, -4077.5789550805953, -4077.6927434435256, -4078.212350040101, -4072.747749308541, -4067.971408828568, -4071.902645344589, -4072.0984328172376, -4069.702844163329, -4063.017442167789, -4068.941611649435, -4068.8758414358895, -807.2046191964928, -4066.9415665117217, -4058.8800737415377, -4065.362993656931, -4063.282932331151, -4055.451956789708, -4055.292186546062, -4062.261213537107, -4052.3141585276207, -4060.631389630618, 389157.02643454383, -4057.800567349571, -4054.617272930292, -4053.075628855266, -4051.650633146051, -4049.505912812993, -4050.553802054095, -4051.391034096445, -4046.868468875369, -4043.77560062286, -4049.8239444797664, -4041.6925644288976, -4040.07017789665, -4045.687865537128, -4037.8723680221015, -4036.682979525699, -4036.192592447555, -4033.360077953832, -4032.401317155489, -4029.232253574409, -4028.843041481288, -4027.998458470656, -4027.6868369759495, -4028.438039876641, -4025.889116498281, -4024.803753850451, -4024.715362848675, -4021.7763518672887, -4022.062040383069, -4020.334267887682, -4019.228450722017, -4017.318673718258, -4019.769560320919, -4016.445178900168, -4015.869924034171, -4013.128500359808, -4013.012111585921, -4015.579705175333, -4015.4474202215542, -798.3660636075383, -4010.35477749924, -4009.2379448045895, -4006.408794765187, -4005.428723576833, 389210.52431705344, -4008.7697293780825, -4009.567102609446, -4001.821884328541, -4000.670300527681, -4005.4325969624215, -4004.174511334397, -4003.5095915688985, -4001.660676688496, -4000.099155416497, -3999.737904246077, 389979.039431757, -3999.142325101561, -3995.4283359563783, -3997.239994320924, -3993.7926037420552, -3993.874556960131, -3991.235148654806, -3986.556777841093, -3987.120244894182, -3986.5444345302026, -3986.0906959521135, -3985.8586893202582, -3983.152363267765, -3982.51763120397, -3981.8681175634833, -3981.570580458753, -792.1600661477369, -3979.4125280039534, -3976.112832248061, -3975.301497782472, -3976.9049327253615, -3973.014241315388, -3972.527576280946, -3970.1670439197633, -3969.516703706661, -3971.3110976709904, -3975.201409733623, -3968.9888824961977, -3967.425466897098, -3968.4972132160015, -3963.590317480879, -3968.848700583917, -3964.797451425711, -3960.741126424284, -3962.6071453722734, 389258.3704291012, -3962.407980903565, -3956.236491293215, -3955.030290801129, -786.9356721061267, -3960.547824690069, -3959.665869897827, -3951.379078462912, -3951.6520303336174, -3957.878085909921, -3955.730197299653, -3947.6737391200872, -786.6941038276073, -3952.7081731300896, -3944.422330594844, -3952.65220428844, -785.0690394521898, -3948.224795314823, -3949.3881885066553, -3945.814346348577, -3938.685945678792, -3944.074394969175, -3943.218518584064, -3944.0509502215778, -3943.251446455204, -3939.086047163836, -3932.55345025586, -3931.463914994813, -3938.724305205124, -3934.770213142687, -3933.458739806216, -3933.578253847197, -3932.860695101481, -3930.902795725896, -3924.3800590091705, -3929.5192897857, -3928.288426139232, -3926.628591525653, -3926.2885486048513, -3926.616124187056, -3926.7190986542414, -3921.480506219687, -3920.1694895171727, -3920.700109208944, -3917.549147117461, -3916.663876084626, -3915.595114082557, 389305.56375525147, -3914.6270224163454, -3914.714049382308, -3917.652087198279, -3911.530952681877, -3912.221291713253, -3905.952126162788, 389307.06899881776, -3908.160907880724, -3902.471195825629, -3901.704097952944, -3906.8628446965367, -3904.980388124943, 389318.6961278621, -3903.9068633529455, -3896.9455836093016, -3895.663964179365, -3901.769120642467, -3901.576168320572, -3892.656543283726, -3900.6368531248095, -3890.1597944957102, -3896.7051217995104, -3894.0116501697503, -774.4154190745903, -3892.0286066024687, -3891.402929438224, -3884.316373613355, -3883.667963911065, -3890.0367791335298, -3889.368178914429, 389328.6001304544, -3886.288011903037, -3878.731027384948, -3877.5991022372655, -3876.8421683870174, -3876.567835293706, -3883.64040492969, -3878.84791805062, -3872.5890714568, -3871.281610995901, -3877.504466432521, -769.758975403458, -3868.6126668177135, -3868.528723007288, -3867.8012775039, -3873.855198704624, -3872.2268855389775, -3863.234443374284, -3862.679211434941, -3861.7072905345617, -3868.250181486613, -3867.1023083003247, -3867.82369566529, -3865.452925717156, -3864.985069789292, -3862.660338550213, -3862.196922061204, -3858.752181678189, -3858.207428583272, 389359.4600377384, 389358.4088143822, -767.9994475023868, -3855.516072023548, -3855.842508086041, -3849.358815345807, -3850.7604999726937, -3847.574531175654, -3843.290777994708, -3846.093845465816, -3844.5455922313567, -3840.590828409256, -3844.8453971363897, -3842.179239376005, -764.0431235939795, -3839.6159077769103, -764.883113310194, -3840.2733876650464, -3835.156847356117, -3834.9518221170415, -3833.905608884829, -3835.577389022659, -3829.460737201216, -3828.03477437477, -3829.0965500742345, -3826.637471104858, -3826.4936309350014, -3825.547027478152, -3825.467582099741, -3823.919609777032, -3821.6522520585095, -3827.91972121696, -3819.917867833846, -3819.6018937914337, -3817.426764609097, 389397.1675770475, -3822.4380946946208, -3822.733632580773, -3813.3444317725225, -3813.133165522459, -3812.4496731820336, -3819.2890670187294, -3809.062627271101, -3817.113294534001, -3816.238144183269, -3806.319612278045, -3806.323142271077, -3806.842334014807, -3805.574768203044, -3804.6363187779657, -3803.986488522948, -3802.496636504801, -3806.56291344928, -755.6897234283642, -3805.664657851212, -3803.807419355826, -3803.025430523711, -3799.516742443872, -3797.6694919103966, -3796.3458160656346, -3796.332731105088, -3794.9318485280814, -3793.549354255033, -753.5498295067682, -3788.334712608691, -3788.909855858211, -3792.158918044103, -3792.447240982605, -752.5612182715886, -3782.067651482833, -3782.334929957383, -3780.6884259774, -3785.888589975247, -3784.768091270735, -3783.721168887375, -3776.681438948213, -3782.2228796271975, -3781.040648949304, -3782.904489161442, -3780.341013287133, -3775.62723732271, 389437.8821849786, -3777.823959302456, -3772.23851855016, 389446.93905077735, -3769.481166254743, -3767.2488417961335, -3764.763454320055, -3766.8884089614, -3764.969316276684, -3764.901040365375, -3763.69872992742, -3761.785714263621, -3761.058544460016, -3757.2854045925983, -3763.096341360746, -3755.122558497263, -3754.962526876233, -3757.852014407138, -3756.010675636911, -3751.58845894926, -3755.843042173655, 389460.8972591391, -3753.58131651248, -3755.6032168482952, -3753.202312256487, 390028.4763982416, -3749.765827717376, -3752.0162262896497, -3749.330351722484, -3745.481384157714, -3740.038695763276, -3744.3408239782593, -3743.958245005381, -3743.897526498, -3736.755979638903, -3741.713915976965, -3743.727465002403, -742.8081031983493, -3732.303069892777, -3737.168662873253, -3736.375954875831, -3735.440872887169, -3728.282519105018, -3727.320095245488, -3727.80885722382, -3734.977663606661, -3733.9696242450254, -3731.052728170544, -3729.949891783538, -3727.0217150199846, -3726.150372415617, -3719.488482974901, -3726.8719186953967, -3726.74296671822, -3716.974939417672, -3723.9112074512655, -3714.687881302391, -3714.227570444858, -3713.6131150555534, -3719.338911557213, -3710.258346748796, -3709.8690467414094, -3717.982327780527, -3707.0542408963374, -3715.697183464005, -3714.775894103752, -3704.412302694568, -3703.2493598030255, -3703.3756434720567, -736.4810848301404, -3700.922758711357, -3708.049474337087, -3707.557542835148, -3705.481529321281, -3704.932678790008, -3703.844784128807, -3702.968458418515, -3700.313503644101, -3699.107610810641, -3691.4260094819615, -3691.168497074488, -3690.815731924431, -3688.675310688056, -3687.279262585142, -3686.881714756109, -3691.252400841241, -3690.787098865841, -3688.274475082313, -3682.968747665504, -3682.6175489340935, -3682.441505691785, -3681.8592948828023, -3681.796269530789, -3680.804372176948, -3679.770012667776, -3679.446677887305, -3676.462324217034, -3674.760567032105, -3673.361929232833, -3673.694817851252, -3673.276063247681, -3672.545162948072, -3668.717357511225, -3668.9022957931898, -3668.973353385835, -3667.051561328153, -3667.4224155075694, 389553.17524470657, -3669.802463192445, -3668.6419319573456, 389550.7958590536, -729.9679579462863, -3658.439996833777, -3662.266225395404, -3660.205511391955, -3655.5829563888233, -3660.115239643097, -3653.332656707536, -3653.389135024358, -3658.9356473103294, 389557.34009320976, -3656.236372401384, -3652.82722762988, -3650.007523288946, -3647.024756200288, -3645.340960566359, -3644.663678028228, -3643.9958488613897, -3643.274469495994, -3642.987080111135, -3642.820022528132, -3641.105323210966, -3641.1911613772736, -3641.795413325414, -3641.715309529781, -3640.110607849254, -3638.513792934917, -3638.351654374868, -3636.2602832810194, -3636.515117410749, -3635.541405316869, -3633.2428499079256, -3632.195098607111, -3630.540262662184, -3629.371106152421, -3629.544466474803, -3630.263557192802, -3623.968416987373, -3622.322979075249, 389587.0422491204, -3620.930976643524, 389597.2220314916, -3618.237306406954, -3626.795534627162, -3624.475148240233, -3615.2203850469023, -3614.754155019888, 389595.29555720295, -3619.062925749579, -3619.862152321332, -3617.168601708587, -3614.865966815476, -3608.31940220709, -3607.888932718735, -3607.503746336244, -3607.43595945698, -3605.884926950484, -3612.129528558646, -3611.670311085897, -3601.450735347131, -3600.6817669594734, -3606.521499073329, -3598.9040500633964, -3605.677391445256, -3596.411791592679, -3604.6454749485742, -3603.048550420783, -3593.2527687012016, -3599.3293917694427, -3598.983645411345, -3597.776387865821, -3589.3537883937547, -3597.0856557713755, -3595.626066899959, -3586.1661321600927, -3594.9401108474635, -3584.0279318203584, -3592.599692247089, -3588.829858978348, -713.873111257406, -3585.345096243044, -3584.507692197968, -3584.3814045484446, -3582.1060208543395, -3580.139570920508, -3579.9920807279327, -712.3235816291599, -3577.4541768790727, -3572.515589617188, -3571.871408956057, -3570.3350919700206, -3576.249839963129, -3568.2982688940465, -3567.9668748396266, -3566.860163204649, -3566.9052413360027, -3565.2819174813067, -3564.7686510682115, -3564.807615754165, -3562.0502064966004, -3561.499036203729, -3559.231039150353, -3559.954664039775, -3558.859445250248, -3556.890657859108, -3555.6184043595417, -3554.2839487249607, -3562.332225949645, -3560.676029384287, -3551.8281802309025, -3550.9074750424816, -3549.318812804733, -3548.072544896964, -3549.084454091938, -3547.022494921637, -3546.224285680988, -3545.2150496251616, -3545.9554677527417, -3543.8524711894797, -3542.886466855632, -3549.1173327955407, -3545.322304069652, -3538.129529696447, -3543.832345614021, -3536.04039792383, -3542.351831761033, -3539.678658063227, -3533.403832252578, -3538.942777218409, -3531.320533580251, -3531.144331889017, -3530.236956924825, -3529.115184803794, -703.8793261592655, -3535.874669800356, -3533.483367095773, -3532.9291273450453, -3531.690994381657, -3522.3385371011736, -3521.0818384281065, -3521.650447133339, -3527.096749613338, -3518.413070356092, -3517.166383744093, -3524.86354319632, -3520.608722388671, -3518.230208114849, -3518.4319552384254, -3516.3851300758965, -3518.4629172552886, -699.4853677430856, -3513.063207546794, -3512.0552326449183, -3507.8007657490184, -3507.818774973721, -3506.868861955474, -3513.6118174062512, -3509.460553675715, -3502.9009131150983, -3507.997329071709, -3507.750006407298, -3503.025568211593, -3506.645344617113, -3497.9740358384624, -3496.559809642377, -3495.743551237992, -3494.9131385244136, -3493.8755430754645, -3493.7914741190825, -3492.369752100981, -3499.667412844556, -3497.630386570195, -3497.5820962109456, -3495.0579848501434, -3486.362472327753, -3486.048612086197, -3485.806890958346, 389733.5855065807, 389734.1530662632, -3481.831742032138, 389727.8081207112, -3479.242871137275, -3485.3700553672747, -3484.9454505933973, -3483.3984531447118, 389734.6736553543, -3480.072792773725, -3480.204439225737, -3472.6979114937108, -3477.6197517546325, -3470.084979821592, -3477.593948203005, -3475.295993041116, -3474.0251596470525, -3466.4462640254155, -3465.726969172917, -3473.4006164738407, -3470.759876651708, -3470.1255595432594, -3469.0358035524573, -3467.849581877122, -3466.335197176105, -3465.921547699074, -3464.973887027049, -3456.880690771933, -3463.4336704829293, -3461.217264947228, -3460.156110595483, -3460.9692696916413, -3456.803302504942, -3456.2066609550893, -3449.47754987318, -3454.8944671864306, -3453.4379048720207, -3446.1653390379997, -3446.475100153266, -3445.458715774549, -3443.856085803124, -3451.0467550480384, -3441.2889176094927, -3441.486228665501, -3440.0893703268653, -3439.3355122762505, -3438.183547235001, -3436.5919429246787, -3436.3145099895646, -3437.986399655205, -3436.641337610449, -3434.7768867600407, -3440.925763877629, -3430.1685706897497, -3429.205484931938, -3428.658568730112, 389781.6966885229, -3426.008551179805, -3426.860670751116, -3426.385817769124, -3426.9403712352423, -3424.800150362213, -3423.6717248030345, -3423.447871605444, -3422.035167235177, -3418.5709881892835, -681.593412791115, -3424.001930811836, -3424.468481627795, -3423.142863891251, -3413.670326611014, -3421.2206585036824, -3417.217067907216, -3415.8941924170517, -3417.4770818627367, -3408.10515623092, -3407.5617414775666, -3413.500494713437, -3413.318982219648, -3404.8175718540087, -3411.7799182694703, -3402.712740801633, -3401.7508170926008, -3401.2243112196484, -3401.5868612151726, -3401.614865897785, -3400.540010917193, -3400.229387261145, -3400.4420005652514, -3399.77874674217, -3399.0025340336324, -3399.0064577081985, -3398.950566639925, -3397.506843111277, -3396.32330389692, -3396.263938306125, -3395.025591211432, -3395.359551435834, -3388.045144484952, -3387.966593364732, -3385.1188971167944, -3384.5269170550714, -3382.1138910899767, -3381.741074119785, -3381.788720610932, -3381.148287467897, -3377.7669055119945, -3383.597520178483, -3375.4571060485164, -3374.111294349477, -3382.2474205121484, -3378.239789207101, -3378.056589183768, -3376.2010912834007, -3375.730582586905, -3368.443913605287, -3374.9651514766792, -3366.383254748049, -3372.0867065534444, -3371.190015375976, -3363.088500324944, -3362.661649586763, -3361.0516855411024, -3369.41931220035, -3366.2260559882952, -3358.0728252955023, -3357.946511364753, -3364.630004337327, -3362.883318003311, -3354.787166185021, -3361.687632803469, -3360.358817283485, -3360.159278698219, -3350.482048735315, -3358.169911615244, -3356.6544528013765, -3347.946979109988, -3347.622208132311, -3346.8016447297496, -3346.338306123548, -3344.5537350971863, -3343.319529915873, -3341.986289401057, -3340.163734042208, -3340.554905801632, -3339.663547918261, -3338.750937217222, -3338.2102611220453, -3337.548041001866, -3336.911681446518, -3336.04347767235, -3335.1371432245032, -3334.787625977285, -3333.052783225732, -3333.8586788634343, -3332.389375219349, -3331.8088392458394, -3330.425776270034, -3330.2008118512817, -3329.7446277625554, -3326.6396572636304, -3325.7714753308287, -3325.712758983343, -3324.6192848381065, -3320.931402965177, -3319.819230254717, -3319.926664291369, -3317.1377223498107, -3317.0635840622954, -3316.2889329237914, -3316.4981346305512, -3316.1658367887294, -3316.5345032287914, -3315.549710221372, -3310.4090347833667, -3308.710113807494, -3308.1590268845507, -3307.046566069978, -3314.6973229283867, -3310.3264107181794, -3303.578004327471, -3302.242637483825, -3307.792204285441, -656.4864682306215, -3299.1196096650647, -3298.441040566919, -3298.931183687215, -3298.5945377223547, -3298.3310932477, -3297.216635325045, -3294.326551552367, -3294.1536517254413, -3293.131565399693, -3291.3211142770824, -3290.157084547524, -3290.364587110996, -3289.5846602960023, -3286.92049391934, -3285.7849651585784, -3284.520674471628, -653.4657740110706, -3291.692696727779, -3281.866473211226, -3280.3374500868163, -3280.0351486646514, -3279.981004587752, -3279.4864292713023, -3279.183727586125, -651.5047705184006, -3276.588917778768, -3276.293821788139, -3276.673368454908, -3273.749706096987, -3272.8210459343986, -3271.3878428882813, -3271.511534422583, -3270.220920110539, -3270.7160565047816, -3270.345933835619, -3268.927200974544, -3265.043734755156, -3265.2316277917603, -3263.636320445376, -3263.677384849764, -3262.999575035853, -3259.641173976365, 389951.6678590394, -3256.5255686791097, -3255.4672979002544, -3262.280865483128, 389963.1968073366, -3252.367160647214, -3251.9951584898336, -3250.084716455999, -3249.4327506308423, -3257.8761886138263, -3247.7628761749797, -3246.0094006466447, -3246.811711465458, -3244.1099656118754, -3252.664084016228, -3242.043057569797, -3242.0810622145123, -3240.640456328804, -3239.549133672045, -3238.801227926883, -3237.5089295220137, -3236.712207827165, -3236.15183114242, -3236.743274385329, -3235.9845488630485, -3234.472394363835, -3233.6549312762813, -3233.385797663281, -3232.5897445967557, -3231.722689902113, -3231.1749304408545, -3230.361347500313, -3230.2053231435584, -3230.72401116033, -3229.2545571468518, -3222.4861369817963, -3228.791375449676, -3228.6681428320508, -3227.5331953761297, -3224.8420377681978, -3224.587552940789, -3224.004232829398, -3223.3863780401366, -3221.329933190358, -3220.053443756361, -3220.910530190738, -3220.736580492164, -3219.388852111949, -3218.434995626599, -3215.671703525351, -3215.4323789094965, -3215.7645373488576, -3214.6354220425264, -3213.269827818305, -3212.083024123258, -3210.440681539501, -3208.7327187502724, -3208.792519041033, -3208.298145720806, -3207.439530008405, -3205.678887779384, -3203.488762509542, -3199.8660410673897, -3197.237006849493, -3197.7325987920253, -3197.1421347497967, -3196.907861101549, -3195.264272203266, -3194.40529274448, -3194.9660651965746, 390029.2663618878, -3193.976850885389, -3193.999864504008, -3192.139006453311, -3191.038055951336, -3189.129599730977, -3189.8850660329185, -3188.940225045401, -3186.730508759382, -3185.582263989835, -3182.140685168132, -3180.3389035491496, -3178.292798814993, 390042.352475406, -3176.6550341443394, -3173.244426398889, -3173.282034558504, -3171.478441655104, -3171.42437314368, -3170.654950888332, -3169.992161657133, -3168.852713410889, -3168.17411863151, -3168.1589993009693, -3167.919706817764, -3165.8247718723346, -3165.27188100226, -3165.529987547169, -3163.490485176865, -3163.3981838914237, 390059.7360145353, -3162.1404319189105, -3162.0409341295226, -3160.417541048301, -3158.645918900605, -3157.654314562916, -3156.3235617423525, -3155.385190558692, -3155.974870612896, -3153.129508621613, -3153.76554041868, -3151.0791131798637, -3151.013907497558, -3151.840902065211, -3150.4725585969127, -3144.3039972860606, -3141.086907748525, -3140.291432737128, -3148.763501333361, -3138.46309948039, -3137.528095107077, -3145.326450480832, -3143.965479158149, -3134.9666014335053, -3133.781282479163, -3132.8492256040186, -3132.1074465788865, -3131.7971823351954, -3130.241457185353, -3129.825992245759, -623.3679018144721, -3126.8660062439617, -3126.48605641399, -3126.728857208888, -3125.941213885991, -3124.65473935526, -3123.059381216341, -3123.548160640624, 390097.1728270946, -3122.72156397519, -3120.8890051065905, -3119.143996170201, -3118.8297341050325, -3118.594174603845, -3118.4406604549968, -3115.10120789702, -3115.399605585672, -3115.510935617883, -3115.0587428349736, -3115.6188993350065, -3114.277822769146, -3113.82136491966, -3112.788663775716, -3111.330414218568, -3111.8391466652665, -3108.621958234229, -3108.531225924413, -3108.176427383234, -3107.962818235524, -3107.28121564231, -3106.8701219465725, -3105.1483397951592, -3104.037901084332, -3102.3471942626525, -3102.9623588981603, 390124.765305634, -3100.0697306706347, -3099.104043667136, -3097.70635053924, -3096.815931733552, -3094.004434903517, -3093.5596051299763, -3093.156641946948, -3093.6177701191164, -3092.259823026416, -3091.842013375717, -3090.019609076561, -3088.2236598684426, -3088.8571966333, -3085.867948120054, -3077.307216505495, -3085.507506190257, -3081.700742107357, -3080.9911752988896, -3078.1854865227706, -3077.3380911436934, -3076.658093855732, -3076.6408269270646, -3076.705315759778, -3076.317322136188, -3073.3743445881278, -3072.2380721054387, -3067.5876961290032, -3066.6026719892084, -3065.7513221493823, -3065.6076198325927, -3063.6708679531976, -3063.418930522853, -3062.653943775761, -3060.174331831311, -3060.927624328902, -3056.5955498642047, -3064.469481535896, -3054.341126470668, 390154.5998523776, -3061.486920956264, -3051.549347871142, -3056.836970166768, -3049.486335690841, -3055.655219719513, -3047.7669100601147, -3047.519890618184, -3045.567135869705, -3046.4573219024637, -3046.5409535144518, -3046.933820580949, -3043.292700273585, -3042.553093689055, -3041.923815999005, -3041.4082015567155, -3041.603449149391, -3040.2681355931927, -3040.6201167128925, -3040.9765882644765, -603.5776316328793, -3037.259073868925, -3036.0355798068, -3035.7118717653334, -3035.319301927452, -3034.7716826936967, -3034.238115046177, -3034.180388106147, -3031.263956482685, -3030.3583391678303, -3028.443295400208, -3024.7889216511107, -3029.3211905285502, -602.9111774788016, -3026.706578200927, -601.6424976736889, -3017.3507109559114, -3017.0052759187365, -3017.600708564379, -3016.290993775042, -3016.584165432271, -3016.798103578776, -3016.5184461227173, -3015.912767264437, -3014.1727915442216, -3009.77663503692, -3009.6819813967445, -3009.81737159779, -3008.989198035797, -3005.3440581293225, -3005.2935267500848, -3003.8332567586303, -3002.5959528730336, -3002.4632043901006, -3000.615856453229, -2999.198877561363, -2998.021056110952, -2997.574412417197, -2997.9593286798354, -2996.021898033229, -2996.4999032562714, -2995.926146800266, -2994.2262463939146, -2992.07183547888, -2991.132957469753, -2991.648897668316, -2991.8137881779226, -2990.578297333049, -2989.145037793634, -2988.693049987532, -2988.9808728967564, -2987.1972429466573, -2987.852515225879, -2987.3852971407973, -2985.747822092307, -592.4133055619186, -2985.102722490479, -2985.700689368052, -2984.976972933021, -2974.2781487234806, -2982.896056320456, -2981.144767528582, -2979.188169958464, -2978.934364657824, -2977.270787399867, -2976.199297571059, -2976.04120178049, -2972.469161916733, -2972.8134844110405, -2969.7144338432868, -2969.4098603677508, -2968.711250505433, -2967.5608903760176, -2965.96768348706, -2964.104043978036, -2964.833470979977, -2963.154651575568, -2963.890640143202, -2963.278650644348, -2963.076314131901, nan, nan, nan, nan, nan, nan, nan, nan, nan, nan, -2951.9159772398466, -2949.590720113757, -2949.195316987072, -2949.027223403849, -2948.817534570584, -2947.729653374324, -2946.3365645147937, -2945.7231232308227, -2942.164472682248, -2939.8038217899352, -2938.7454457951867, -2938.549590526572, -2937.462116111152, -2937.330009136226, -2937.146682271088, -2936.691885478973, -2933.116147597605, -2933.3479880126674, -2934.1242768565417, -2932.0773747221706, -2931.708413455441, -2930.866014120608, -2930.5166678829164, -2928.445081445133, -2926.770324053268, -2925.7980158000123, -2925.002433438181, -2923.219328802662, -2923.780494497127, -2923.608171515552, -2922.444003883576, -2921.1859338110844, -2920.358626872629, -2919.524475690903, -2916.627479940246, -2914.349844303064, -2914.4450360949736, -2913.857989277267, -2913.7934259236104, -2913.2232804050154, -2912.754151357872, -2911.6194042348084, -2909.351718561962, -2908.689791092625, -2907.009912333596, -2905.396438860326, -2903.729511670848, -2902.09599517464, -2902.746620090641, -2901.777302864065, -2899.741384360727, -2899.232579009557, -2899.241660556637, -2898.440368135946, -2898.95781280318, -2896.541860484433, -2896.449134123068, -2895.458193999176, -2894.458103086887, -2893.844062763568, -2888.027720139828, -2887.8490351267387, -2886.4924176964287, -2885.8200576120894, -2885.8859235652667, -2885.0762475747524, -2884.3376938246483, -2884.5416677514863, -2883.1837002932866, -2882.116498111185, -2881.1497911694537, -2880.2123624002784, -2879.0945211892003, -2876.985681647104, -2875.670730323695, -2876.6485204318383, -2874.184965885, -2874.308148662001, -2874.5809036977503, -2873.1810312714147, -2872.479680189086, -2871.639021531264, -2870.215042794171, -2860.181826533587, -2860.147452067648, -2867.259486431049, -2866.1213286760217, -2865.3002613227195, -2863.1182716405, -2861.105286548868, -2858.050025383439, -2857.58201107476, -2858.405730980113, -2856.7815696025123, -2856.106832135097, -2854.525426919367, -2853.767783829612, -2853.7383675972496, -2852.563148103669, -2851.1168232598275, -2850.8877606718324, -2849.351119448996, -2849.304550315873, -2847.671353092059, -2847.8542524869144, -2847.878151998192, -2846.9311406112347, -2843.377652077992, -2843.585909579143, -2842.771578792678, -2842.2614883914484, -2840.674560078017, -2840.9968137078527, -2839.5016609562194, -2835.108957841855, -2834.730865827952, -2832.9996146934222, -2830.639124186391, -2830.61942094402, -2829.327970137666, -2828.237690557425, -2828.7903099717328, -2828.1849428198257, -2826.9741499340703, -2826.964554090962, -2825.4823302396007, -560.7489356312453, -2824.338710080272, -2824.7719991098866, -2822.899293701708, -2819.6725248618645, -2818.6468873308568, -2816.490669816084, -2814.151071657585, -2810.4884887474213, -2808.208190920537, -2808.22635818778, -2807.754004310443, -2807.1447271457487, -2807.0240962093108, -2807.211511171009, -2804.110810337471, -2803.3177583017628, -2804.534906455819, -2804.820748515021, -2801.739031073842, -2801.3050016870893, -2800.748770747274, -2800.6584018494077, -2799.846957924308, -2798.380983983672, -2798.2991749651533, -2794.3171863210705, -2793.758189779923, -2793.635709080165, -2793.4687681280934, -554.0056362138166, -2793.328819031193, -2792.786167432701, -2793.811356405149, -2791.4970798092354, -2790.4741462460493, -2790.8045664429737, -2789.7411831211607, -2784.440504760166, -2783.0939054920677, -552.6067435812911, -2782.9645299426, -2781.453891363491, -2781.8954978202155, -2780.056777369144, -2779.5969894767213, -2779.7833824803474, -2777.272741551092, -2776.8564124454524, -2775.977965754989, -2774.4921257253272, -2774.001960391676, -2771.4162686839472, -2770.78346269725, -2769.023582387248, -2767.613027515265, -2761.8728124185686, -2761.4341862093797, -2767.341392935132, -2758.1696512525964, -2758.334668012631, -2757.275496312076, -2755.0721324819, 390226.7765641952, -2762.5066284544832, -2752.0431844454606, -2759.5783553675483, -2757.5629420728887, -2749.5626137689937, -2749.373986159075, -2748.166938999187, -2748.706249627186, -2747.6082112484764, -2747.2146934640577, -2746.045212779901, -545.1224477609248, -2746.0491118145537, -2744.203053704679, -2743.521616985837, -2741.4077946521584, -2741.3345653459123, -2739.928362474659, -2737.8011851022416, -2736.5459929101244, -2735.354480722762, -2735.794860626189, -2735.1541676114834, -2732.0601851266088, -2731.992899348758, -2729.630633430491, -2729.478868025995, -2729.658264523748, -2728.383394682579, -2728.9426857670787, -2727.9739636940626, -2725.0972345925384, -2724.865078849108, -2724.311598521878, -2722.9844274002617, -2721.600377739079, -2721.1910286310936, -2720.469059506422, -2719.339493152261, -2719.3105202422576, -2718.599467169195, -2718.60777879193, -2718.0083542120888, -2717.168751226509, -2714.453023896789, -2712.999961926259, -2712.3067526216605, -2712.9161513599, -2711.032924426256, -2711.200760707913, -2710.3149194443176, -2709.368736187588, -2709.970400775579, -2709.9263129142096, -2708.514525953005, -2707.6273469262524, -2705.749354681422, -2704.8453067825008, -2704.6407150851705, -2703.645314354483, -2700.3771567894487, -2699.883804359348, -535.7307053000713, -2694.362560257119, -2692.8830093324923, -2690.367007045037, -2689.217445406573, -2689.720826935717, -2689.5994324055027, -2688.8514204191056, -2684.366664963592, -2683.593036624975, 390239.0128736185, -2680.601203930709, -2679.916991062389, 390536.73682894313, -2684.526901498789, -2676.67960002612, -2683.147542477312, -2674.808542162483, -2674.7130827976025, -2673.9059721219664, 390537.8443825394, -2678.2000301349403, -2669.098242796318, -2669.70682902664, -2667.914552424212, -2667.2419620720607, -2666.7117098579074, -2666.583360295153, -2665.2106439012423, -2665.0067979325736, -2665.7479657545778, -2664.229357585531, -2664.330122051685, -2661.354684211461, -2662.9406026674696, -2660.974464913717, -2655.495973178411, -2655.128413179997, -2660.076010862861, -2660.2923119071297, -2660.340542155204, -2659.222707730528, -2658.869065876592, -2657.34890308321, -2655.3309357116163, -2654.728099163465, -2648.051579346519, -2648.102611541011, -2647.2830573884657, -2647.495011637416, -2647.493351834669, -2645.252893384484, -2644.08737846224, -2642.003421107436, -2642.278106505572, -2641.300828108519, -2640.332822598789, -2640.9958882134506, -2638.9473439558096, -2637.66103818037, -2631.13881392381, -2637.0377910866987, -2636.7749496247225, -2636.753966462059, -2636.2913525750164, -2633.7888031650546, -2632.220678230348, -2632.720083620257, -2632.4659908624635, -2630.594882727143, -2625.852176272963, -2625.091700359784, -2625.248416682157, -2624.221782051545, -2617.368848077132, -2621.573941987425, -2621.4020236262936, -2620.243196745229, -2619.7086229897973, -2618.287377156557, -2616.4667480663616, -2617.740984273457, -2614.201762341009, -2614.722904881166, nan, nan, nan, nan, nan, nan, -517.7939298878973, nan, nan, nan, -2606.6942853552546, -2605.59713335703, -2604.4712884881706, -2602.09237352731, -2601.319227030765, -2600.238328656724, -2600.6225848121608, -2590.1847623219155, -2598.4839665591667, -2597.831012544076, -2596.030109853193, -2595.010031788787, -2585.675304799878, -2591.886943843597, -2589.9922319212624, -2590.976637733427, -2590.6381349021576, -2588.6312652405136, -2588.5459360227514, -2587.1655121801505, -2577.664662360126, -2577.1638516674984, -2575.925224433201, -2577.449453619741, -2577.8887747884805, -2576.7275158060293, -2580.311882607853, -2577.689338833121, -2575.9775503833607, -2574.000787112523, -2573.60988004085, -2573.024339695293, -2572.464187850395, -2571.56927205381, -2571.62906712357, -2571.884504343457, -2570.0475438385497, -2569.879235227396, -2568.178809820627, -2567.8896516857203, -2566.701862318408, -2565.552977512935, -2564.2660545239405, -2563.1873621156, -2562.1765688656906, -2561.7103223109407, -2560.1265688230706, -2559.0804027999234, -2556.984987900925, -2556.501145872008, -2555.506440264593, -2555.838469421395, -2554.7933950841875, -2553.0638211174664, -2552.539153537609, -2550.5431061502622, -2541.50657461448, -2549.884155705025, -2548.98929451177, -2547.320320342473, -2546.6007453526204, -2541.439238681482, -2541.376425500518, -2541.1855257415677, -2541.46869676136, -2541.438624693561, -2540.6554871813164, -2539.3140122073887, -2538.0109304591488, -2537.3426233908376, -2536.71739347115, -2535.790416790084, -2534.4847021192863, -2533.65221056915, -2532.159494336416, -2531.586835300629, -2530.104519375276, -2529.228913714421, -2528.7238608668704, -2526.241624825572, -2526.928516837662, -2525.515951132208, -2524.862866788699, -2523.699690171481, -2522.6751026795346, -2521.577498473909, -2520.939325297915, -2519.410382236886, -2516.6513437831754, -2516.333925043472, -2513.265737108754, -2513.393983371799, -2511.059634196722, -2510.276071850877, -2509.6335040809063, -2509.9827200356185, -2508.4774559345897, -2504.700068871972, -2504.7483588296577, -2502.981077308155, -2501.5304243831624, -2501.521422283509, -2501.7044294618413, -2500.128704515362, -2499.066622255349, -2497.631084852892, -2497.541066584241, -2496.8268342721244, -2496.6870666183754, -2495.4646421953285, -2495.752019305009, -2495.195517197894, -2493.044167314569, -2492.4613144947216, -2492.511176895801, -2491.425603276289, -2490.771162007028, -2489.489435304669, -2487.0391677784523, -2487.184774243931, -2486.862956558947, -2484.6324165953083, -2484.080972067767, -2483.209302671483, -2482.030008126901, -2481.725062038501, -2480.654145132265, -2477.965063846717, -2477.0510019190697, -2477.8404862328484, -2475.461454364028, -2475.54621500596, -2473.2124303961928, -2471.0589580794267, -2471.3153109425384, -2470.09824425082, -2469.4123793531558, -2468.855596378883, -2466.906229430222, -2466.4088523069377, -2465.3965378584194, -2464.6576813154475, -2464.055713718357, -2463.808555271487, -2462.4218340618327, -2461.839054122572, -2460.0429409170965, -2459.203294584891, -2458.322658521593, -2457.748339763492, -2456.708896217184, -2455.3193831920416, -2453.888751266189, -2451.118152014534, -2451.1327675477537, -2449.092147743044, -2441.5728782288725, -2449.0901807335795, -2448.2826752364585, -2447.430087397291, -2446.672528839284, -2444.441882550585, nan, nan, nan, nan, 390785.850271609, -2430.0612828209278, nan, nan, nan, nan, -2431.4178590343467, -2433.741333564107, -2432.815511117816, -2431.4793704697745, -2421.4206314577773, -2429.904057731433, -2428.343976440425, -2418.1262888389497, -2426.22936778788, -2425.545641557949, -2424.957135775948, -2423.958830960957, -2422.469252100902, -2419.250511172116, -2417.481224201695, -2417.5759186611763, -2417.631813046873, -2415.124720196021, -2415.970316876103, -2414.382978059509, -2412.916638663213, -2412.592208905699, -2412.7321985979424, -2411.583065494517, -2409.544290648097, -2400.137816717821, -2408.200301441833, -2407.338714725013, -2406.069457448141, -2403.382607241637, -2402.7643044624, -2394.069194960536, -2402.36124881795, -2401.139370500086, -2400.443644367557, -2390.792856686729, -2398.4240103604016, -2397.072980830102, -2396.5833329107504, -2395.963435070113, -2385.141448762612, -2392.4838937212576, -2392.887050689454, -2390.263915021457, -2389.6087449667552, -2389.817282041152, -2388.270287688074, -2386.477976096436, -2384.740642172036, -2383.2477255961803, -2383.169839568476, -2383.598000005413, -2382.4048535170928, -2381.5648039081093, -2380.603894074868, -2378.359199243137, -2378.67564102457, -2376.645118643788, -2375.689927610048, -2375.896723906588, -2373.490383813101, -2373.834360763697, -2372.3867715820584, -2371.014478681435, -2370.2809391814067, -2360.097410124709, -2360.784375040964, -2360.744239640113, -2357.102258241038, -2357.3248925194016, -2363.6999578178397, -2362.0220405927475, -2360.7030951199968, -2358.275816904905, -2358.600502245481, -2350.438414356312, -2358.7054352226887, -2357.617275718317, -2355.073219653367, -2354.031950685562, -2352.836304869284, -2352.1059235014545, -2351.3952941538505, -2351.8887694333607, -2350.1550424466864, -2348.3105664680365, -2347.649746644238, -2347.886432727724, -2346.198133084837, -2345.477296986256, -2342.6361668396257, -2343.052173088727, -2341.5927913303026, -2339.1613550951847, -2339.8193517245545, -2338.0042750126104, -2338.480707845133, -2337.0123197863822, -2336.129251527688, -2331.606720394336, -2330.613605430105, -2328.297700192439, -2327.464801849779, -2326.868287797183, -2325.047227196176, -2325.255389153802, -2325.520419816188, -2325.720831809217, -2322.4711399065645, -2320.0289097311443, -2315.370850014556, -2315.3521278925205, -2315.81402874504, -2312.083348756441, 390905.6309652823, -2312.17473984744, -2310.746485095976, -2311.174000197739, -2313.8703565278656, -2313.217028008457, -2310.064557117475, -2309.582233341742, -2309.205872437113, -2306.399144623991, -2306.178096913813, -2305.343288102804, -2305.6025171538267, -2305.443349397125, -2304.964439210313, -2303.5671360894576, 390921.6740117832, -2303.689188982601, -2302.8244702322368, -2301.37283734472, -2291.76576772761, -2299.533337168902, -2298.453582081731, -2297.811433086233, -2296.6886923362777, -2294.683608746763, -2285.4764821347185, -2293.9670587857668, -2292.687111060652, -2291.9433789924856, -2290.8566576348944, 390936.8225656653, -2288.8478777229984, -2287.500475400019, -2286.906265884283, -2284.825255659881, -2284.293630560724, -2283.948037338277, -2282.650189446995, -2281.700260632365, -2271.322153909636, -2279.788505422025, -2276.648640077544, -2276.6997951090343, -2276.3535013541573, -2274.0430645064207, -2274.794493978393, -2273.4583869312914, -2272.3123034717387, -2271.0033744946068, -2270.412491065429, -2268.372129320756, -2268.246159437469, -2258.2428781030867, -2265.5924535915537, -2265.784892711775, -2264.972225622226, -2262.3237469924998, -2261.8630175020085, -2259.950840886309, -2258.30145526884, -2258.768523720986, -2256.2191582633245, -2256.0388090850074, -2255.2144649999373, -2254.992176559752, -2254.935489491167, -2252.554468979129, -2252.4056477353743, -2249.036018268497, -2248.429833217311, -2248.3919740820647, -2247.4431357339035, -2238.140458582363, -2244.268938662644, -2244.427650995553, -2243.8658247930352, -2234.937213850213, -2241.40998486933, -2240.8348273386123, -2240.061109553116, -2239.283890457663, -2238.22969031219, -2237.727252167104, -2236.1329160544738, -2235.2275517765524, -2234.265023519501, -2233.2473198855937, -2232.6421367556804, -2231.0367685061487, -2230.280382498434, -2229.7592416840707, -2228.2149234979333, -2226.7572019537847, -2225.922411266516, 391000.3076995257, -2224.4045172604165, -2223.9630468333044, -2221.6254627372823, -2212.2433758893217, -2219.0737400448584, -2219.6655113269294, -2218.7257945956767, -2217.389050457572, -2216.218884568896, 391010.2432857769, -2206.046584447603, -2213.17458148318, 391013.0252801721, -2211.1746334711133, -2210.575665160593, -2209.360917171051, -2208.261836258107, -2205.124113873087, -2205.382993225573, -2204.5522548764047, -2204.767949406279, -2194.8143415297573, -2202.4298537063955, -2199.4979509588243, -2199.679502459549, -2199.733119326693, -2197.3992293858414, -2197.999009449235, -2195.695526555246, -2194.1730617030894, -2194.220566878695, -2193.392368214081, -2192.3336304691297, -2191.80815706726, -2190.4225325450334, -2189.617302237129, -2187.5946068053786, -2186.911075522464, -2186.7437607989077, -2184.310078173728, -2184.5575304968647, -2183.933999626731, -2182.448450560112, -2180.745003536232, -2179.3252628910686, -2178.909072865611, -2178.461446315895, -2177.391045076951, -2167.067775273406, -2166.088522551684, -2173.35564158073, -2170.569747334712, -2170.0309115017653, 391054.5270976183, -2169.312880287869, -2167.8734986649383, -2167.6453144944653, -2165.130797758749, -2165.150395652472, -2165.1319458718544, -2164.57055695315, -2163.824959419655, -2161.728644470189, -2160.383849318167, -2159.957007191678, -2158.3853871985707, -2157.0158037069887, -2157.642081366208, -2156.3902731736016, -2154.9310510499704, -2152.9882884213644, -2152.1592782044168, -2151.252904021142, -2150.9231586015785, -2149.231300196235, -2149.964737678405, -2148.2142458701537, -2146.950218083361, -2146.836039754304, -2145.307583916755, -2143.9020655836616, -2142.363898723848, -2142.8274425177, -2140.7032537669984, -2139.3626844754326, -2139.3525963667985, -2138.445060449168, -423.6296980639909, -2136.695860379384, -2134.982377181197, -2134.9748891996865, -2132.8489914156103, -2131.089608829888, 391094.0874000937, -2130.365448335377, -2129.4044631417787, -2128.876064109816, -2127.067549410416, -2126.7587360559824, -2124.9463536687163, -2124.925698289369, -2123.531290090645, -2122.8000887558587, -2120.5505064780027, -2120.745735670771, -2118.009985494379, -2118.2348081560813, -2115.408105873017, 391109.2307307601, -2115.452055963149, -2114.3210628673733, -2113.8021859403425, -2112.961615524732, -2111.0080286362067, -2110.363974466722, 391116.81832251634, -2108.359826962866, -2107.318474579432, -2106.630694865463, -2105.90577259993, -2104.633662168805, -2103.3554396251902, -2102.052103975756, -2101.939532534143, -2100.650584044376, -2099.0619120222827, -2096.542860866319, -2092.398963060313, -2092.0949496813078, -2091.021091473145, -2091.1729354836634, -2090.6099954001006, -2090.7554659815023, -2090.110697344518, -2089.1585888350733, -2087.509660633785, -2087.6220657650047, -2086.7521332501037, -413.2283883817345, -2085.54575587321, -2084.594903023364, -2074.203598660822, -2082.973989456885, -2081.9688525622, -2080.490312422232, -2078.068190300677, -2078.8842079141564, -2074.170953028078, 391149.3690464613, -2071.5565037561128, -2071.384459677264, -2070.35076776478, -2070.5362509305805, -2069.175472197737, -2068.2483719250563, -2068.027277044827, -2068.28755659726, -2067.413503911159, -2066.145397872708, -2065.761342998062, -2062.208829936153, 391162.0904106137, -2062.3432879466927, -2061.6773994543723, -2060.1640639006096, -2059.3225773008053, -2057.430889060029, -2057.9255802377047, -2053.5843313403584, -2051.458422078213, -2045.033855900833, -2045.658541138405, -2044.2927894165507, -2044.399298618144, -2041.4911452304125, -2041.5387111238676, -2039.3714309811896, -2038.2033222003013, -2037.739720191031, -2041.666104345812, -2040.803493539243, 391182.9945305149, -2040.3893102665893, -2039.2465033952108, -2031.545649439064, -2038.4379482338568, -2029.022386262596, -2029.1871529610437, -2027.7079904018208, -2026.565549259348, -2026.9719516007592, -2026.475097211545, -2025.614935354581, -2024.1135818292476, -2024.461239460811, -2023.8125336070632, -2022.63087303436, -2021.3376818951435, -2021.054587629527, -2020.3938186688613, -2020.3878080900597, -2018.0764101431807, -2018.465824221955, -2018.7228996078463, -2017.254634536646, -2015.2688693666107, -2014.8324232946409, -2014.6462614178247, -2010.4297279822351, -2010.6944743939828, -2008.126388616913, -2008.8758085688253, -2007.7276397584608, -2007.4925230825845, 391215.692938405, -2006.292876861013, -2005.6246550819253, -2003.1072169706915, -2002.32034268837, -2002.896895034585, -2002.5613881428887, -2001.7456111581707, -2000.7515868205603, -1999.9755132499288, -1999.8948906143803, -1997.1826364107076, -1997.5698195406023, -1994.7723234756252, -1992.8210337235253, -1991.3955312865517, -1990.7149459025648, -1990.589347900643, -1989.0786212691503, -1988.4990962150384, -1988.9438404105133, -1988.726104737492, -1987.052733642787, -1986.353091939505, -1984.7670545257945, -1984.976713337099, -1983.329377641084, -1983.4336500916008, -1980.7911400831588, -1980.723261135068, -1979.5034126384369, -1977.985998301884, -1975.290247415832, -1974.6581408064328, -1972.9657387915893, -1971.9799021032493, -1971.0276118684103, -1971.3055919341089, -1970.53807982565, -1970.88094245536, -1970.4988787796144, -1968.453704754336, -1964.3383424243868, -1964.8819993823752, -1963.1875685025063, -1963.4835351775944, -1962.1538035729984, -1962.23309599272, -1961.3504692947383, -1960.623557536628, -1960.1578143931563, -1959.556497607566, -1957.484186360731, -1956.8443647586917, -1955.138026866461, -1954.8285001853253, -1953.775974536343, -1953.9436989743665, -1952.707066250828, -1951.3217605799512, -1949.4388124746863, -1948.4714962017904, 391277.27014631376, -1947.7619605065172, -1946.4560925089029, -1945.2019743782987, -1940.23636081348, -1939.5927137764008, -1938.319351616896, -1938.302667736987, -1936.9981545218104, -1936.3825474998764, -1931.819208290074, -1931.8257765280875, -1931.178445531851, -1930.037802872141, -1930.1177785107136, -1929.9137753456955, -1929.186165229058, -1928.827383383092, -1927.617848461329, -1926.236003828176, -1924.92218669508, -1924.6230687693144, -1922.8423095029968, -1923.704308374152, -1921.7998469252277, -1920.3738335839405, -1920.734607131067, -1919.914904510036, -1919.572414976272, -1916.5334065524191, -1916.3554997933768, 391308.271264947, -1915.7663737369296, -1914.646650294608, -1914.497404203116, -1913.615200133979, -1909.847674376869, -1905.0225762193224, -1904.1977387480304, -1901.8319763277088, -1901.7744494906171, -1899.2570707956213, -1905.414187507136, -1896.271951977072, -1896.866605968373, -1895.2236388198928, -1893.996119779605, -1900.893273503861, -1891.1663214927637, -1891.0628562183567, -1890.042118856528, -1889.8535718796577, -1888.8908704779467, -1887.492329930962, -1885.0308860142893, -1884.5026425304493, -1884.988495361158, -1882.8421203079968, -1881.1976222569149, -1881.114369394463, -1879.0485414078864, -1878.5340018103464, -1879.6605090682708, -1877.3491588111349, -1876.2345258316352, -1875.723149515892, -1874.546553514008, -1874.3508040705512, -1874.924380229192, -1873.4217414683528, -1871.5652745416544, -1871.7550176322368, -1869.918989609416, -1867.6955974158811, -1866.504448518201, -1865.6378379537944, -1865.81193474544, -1864.431755078065, -1863.8710795761392, -1863.5423209238436, -1862.044118203836, -1861.265724865085, -1859.8817531688808, -1858.971919826354, -1857.8078964574236, -1856.0189028178409, -1855.9956982821093, -1860.7341278593249, -1851.200013365976, -1850.59742721288, 391367.844262276, -1848.3463921098412, -1847.7316524250448, -1847.8467187374724, -1846.8911833319733, -1845.548668606409, -1845.804357207963, -1844.3081746385371, -1843.3035447020432, -1841.5971397312444, -1841.948198577183, -366.65637046381744, 391379.0707265461, -1837.042084882871, -1835.0911888205744, 391382.16778296273, -1837.349674277625, -1832.6493905386767, -1833.532877067036, -1831.7067448713567, -1831.978172562612, -1830.1145282178315, -1830.682451356873, -1830.6138561322489, -1828.7998707518288, -1827.6773269735384, -1826.1621984304709, 391394.85563598014, -1825.8040627758744, -1824.343714443601, 391397.39234677225, -1824.8749041653612, -1823.5992695086468, -1822.121087492944, -1822.923420733346, -1821.0482621253293, -1819.9121114841544, -1819.349714636324, -1816.9432850134024, -1811.0102923748875, -1810.259288304136, 391408.5390639085, -1808.7772465687824, -1808.795345794137, -1807.6437746451568, -1804.7461550454584, -1810.9929058099665, -1802.397659660567, -1810.7448724772053, -1800.7812536538888, -1800.789203262607, -1800.580666597925, -1799.9539042083331, -1798.4913915642703, -1798.667806082962, -1795.1141058173182, -1795.9247897456669, -1795.3493568297265, -1795.0405744184166, -1794.4858430127308, -1793.0032196381574, -1792.2906043495734, -1791.3043621920172, -1791.0403184610916, -1785.6200361136218, -1786.8518116310331, -1784.170629192047, -1782.0910176737686, -1787.7265082634906, -1780.93142662077, -1779.6845800437998, -1778.5841707536654, -1786.893961283908, -353.45210835122634, -1784.4483930241086, -1783.6317427273975, -1781.415494478571, -1780.9673497099975, -1771.3640314460165, -1771.3236445080372, -1771.2175227657665, -1770.9743520681052, -1769.5343292974374, -1768.2473779019372, -1768.3332798424997, -1767.106902789296, -1765.7485884176829, -1765.351744417687, -1765.4696038163586, 391456.8831793014, -1764.9630207897378, -1764.4640603531177, -1764.2497436224987, -1763.9307556354972, -1763.312101384685, -1763.5502897257322, -1761.8759656532727, -1761.314263841901, -1760.597484446838, -348.6890433722965, -1757.3446916874757, -1757.3327475796502, -1756.179561546419, -1755.345546839006, -1754.1671642753065, -1753.7954361793734, -1748.1833573276615, -1747.4715550318954, -1748.5411138691609, -1740.9645848708649, -1746.5971083974985, -1745.212096978851, -1744.1363080104718, -1744.189645415004, -1742.816164002509, -1742.1031495321506, -1739.3268054066, -1738.9076815098972, -1731.3305195014566, 391485.4359406984, -1737.5839587299772, -1737.7420237118188, -1734.879824475183, -1734.742191749902, -1732.5158869073505, -1731.3923224979064, -1730.3688481039396, -1730.0035974537257, -1730.038119163162, -1729.6819456049936, -1719.620534253811, -1719.852135660964, -1718.2310216403644, -1725.4107874246963, -1724.4923555567682, -1723.2297364580634, -1722.9179474169057, -1712.1233049115203, -1720.866869827683, -1719.4312261769462, -1718.5073163164886, -1717.5986534263363, -1716.6135537506009, -1715.7668655988275, -1711.956461651352, -1710.6736633417129, -1710.2067460838314, -1710.2174477055876, -1710.5091927215333, -1709.2135299728686, -1708.4035023029626, -1707.4298148921082, -1705.6356341093194, -1705.1318841185391, -1702.5449373515282, -1702.0747143613391, -1698.3218434359617, -1697.820403578631, -1696.7613731200238, -1696.8714076959511, -1695.1147550633457, -1694.4110386275836, -1693.6274777781643, -1692.667171807818, -1689.1693134937211, -1689.0210253061166, -1688.1589301725528, -1687.300565162622, -1687.0386721624802, -1686.4999976658353, -1686.4755426004097, -1684.4112999630945, -1683.6217674604898, -1683.013673052258, -1682.928334795601, -1681.5527203844592, -1681.9088269563028, -1680.0932145697382, -1679.640737282319, -1679.199306059552, -1678.8959595902168, -1677.4764942528284, -1676.6234310129237, -1675.7446076374274, -1674.0931257210584, -1673.332566664293, -1671.990614429253, -1669.9043595880496, -1668.715924261234, -1666.1241656808409, -1666.3466470612627, -1664.5049013073733, -1662.0583824795856, -1661.467142176991, -1659.9203685203695, -1659.709128383077, -1658.555621555505, -1657.9433011502954, -1655.649200022049, -1654.6789030124066, -1649.0434061236194, -1652.4816240962734, -1652.5609067687467, -1651.4017023839358, -1650.6658195208836, -1649.0070529313227, -1648.0790154624308, -1646.8410041878717, -1646.5872177033991, -1645.3319631892248, -1645.1693626628664, -1643.939540175698, -1642.4656372569668, -1641.1044024825048, -1641.2661921912634, -1641.242110726267, -1638.217905683612, -1638.7278143113206, -1637.7658597915522, -1634.3422270463668, -1632.8080131103472, -1631.4377768181846, -1630.0408997010547, -1629.9978622545889, -1629.5034264763806, -1627.13395483314, -1626.2501616259658, -1626.6382634498966, -1626.599335032189, -1625.8844994324234, -1624.2390593451444, -1622.8300918521106, -1621.0690317382816, -1618.3676746060398, -1617.5819938397815, -1617.6504849798737, -1616.9653115211747, -1615.8714580200206, -1615.5430615012854, -1614.5487400842733, -1613.1400304802094, -1613.4554267518486, 391609.43871608726, -1613.057433977135, -1612.279282549937, -1612.6906865342223, -1612.4168353166604, -1611.056758362978, 391615.4005942649, -1607.9055190523798, -1607.3837237360433, -1606.0914796122595, -1606.6072477908026, -1605.9592252561108, -1604.9571875459385, -1603.942553001191, -1602.7533057338276, -1601.7842309306882, -1600.2341543269729, -1599.1028775407678, -1598.1013420679858, -1597.7098416236583, -1596.6649990775825, -1595.7288938147465, -1593.1589767083449, -1593.1010079259147, -1592.51452355573, -1591.9725831158069, -1590.5042130153204, -1589.605995022646, -1588.5811624210412, -1587.629504848229, -1586.4102795928177, -1584.4902048327106, -1582.0195636061746, -1582.4702925174763, -1581.8917354788152, -1580.1797699308374, -1580.1418419507647, -1578.842227600618, -1578.9498032900567, -1576.265435225822, -1576.4041994362558, -1575.3371226381344, -1573.181591662553, -1572.7622761136688, 391653.7311784458, -1571.489853670453, -1570.4204596222814, -1569.3591652639573, -1568.3865035217584, -1567.5523737578158, -1564.8627635118344, -1563.618612493324, -1562.778764548974, -1562.2078797433194, -1561.2161308399957, -1561.8686207876856, -1560.3810149897292, -1559.4497832894165, -1557.858352564064, -1556.3076968603689, -1554.6212030537515, -1553.4713420453506, -1553.8708039484447, -1553.5620916833834, -1552.0796168807376, -1551.6319434728655, -1546.148345171364, -1545.885181971459, -1544.7612574000766, -1542.4428618568866, -1542.5921139731174, -1542.4434930215027, -1541.7772974634806, -1541.1395595856268, -1539.3726233369086, -1538.1129511333795, -1536.0705918956162, -1533.9771345715023, -1533.6352057055676, -1532.6756650654431, -1530.206451551083, -1528.7475176355954, -1528.1506227036773, -1525.7242115144488, -1524.2976862243615, -1524.6705772244916, -1524.028664215399, -1523.553348392223, -1522.9233886898526, -1522.4200383751606, -1521.34497285448, -1521.700016556735, -1521.176538244494, -1520.5329180348956, -1520.6127094101828, -1519.1427716456103, -1514.953199024996, -1514.020198811662, -1513.5230041443076, -1513.6051467011346, -1513.814187956713, -1513.3854201018205, -1512.4252276236768, -1512.2040906311593, -1511.3759002671493, -1510.738204309422, -1509.5280183357056, -1509.6512996252698, -1508.642573058842, -1507.099220909978, -1506.7069429151577, -1505.4438585391074, -1504.6206608658288, -1500.193217293631, -1500.4733945317691, -1500.8280479033594, -1498.7329147623389, -1498.3879195413904, -1497.5471719354025, -1495.8930094024734, -1494.2842863577528, -1491.974444980003, -1490.897481449919, 391732.1924708092, -1489.5001181749851, -1489.395939779414, -1489.1753844577322, -1489.3539980118546, -1488.7425902782863, -1487.0453953721124, -1486.6224413174734, -1485.4377931694823, -1484.6592188167658, -1482.3660139302704, -1482.5952495283084, -1481.7367238555896, -1480.4319623262784, -1479.5443738828924, -1478.0924671735677, -1477.438114132203, -1476.5375878648858, -1475.1053179318344, -1474.4209400676689, -1472.5651229896946, -1470.0980322904782, -1470.5492008742106, -1469.3853390566626, -1468.8413150345475, -1468.6119654877264, -1466.1731039659091, -1464.2167400153628, -1462.7022729505304, -1462.3881326547782, -1461.1672872205206, -1460.7978591615572, -1459.6786986509253, -1458.2126349864473, -1458.640104711568, -1457.631100419139, -1457.50080060715, -1456.183547998479, -1454.8526323767917, -1454.2476850873047, -1453.9622131055978, -1451.2049887029486, -1450.692399290065, -1449.517542187826, -1449.49624260803, -1444.926972135616, -1444.833041684047, -1442.7137241923904, -1442.4800648797934, -1442.9966618099554, -1440.877104651703, -1440.3362709855217, -1439.9205089286304, -1438.5580923622672, -1437.0855820728946, -1436.2071721789555, -1436.6778339519476, -1435.7468104316947, -1433.4156734825567, -1430.9933962716325, -1429.3133740555402, -1429.09412510395, 391794.29720900353, -1428.9947297585811, -1427.500573524497, -1427.9660723267218, -1426.7134452752327, -1426.302028113019, -1425.7340777707943, -1423.9781364781336, -1421.3417563332189, -1420.1457145336492, -1417.808283538601, -1417.5238325570324, -1415.5591941622476, -1414.6300460794434, -1414.9393870555853, -1413.9429960576956, -1413.9841970988275, 391811.44592866494, -1413.3221756397722, -1412.3720074972427, -1411.6889584721705, -1408.0062137579318, -1406.796462616788, -1405.3201300083972, -1405.8804081050837, -1404.3300772612808, -1403.5775013983796, -1403.7542888187634, -1402.1477511078808, -1402.2449743932618, -1401.0597718830834, -1397.7643305997483, -1397.364036442207, -1395.5440109816684, -1394.3022464686371, -1394.9864322798987, -1394.2607209211326, -1393.4915848680732, -1393.7153960733683, -1392.082496037806, -1391.8937402224217, -1389.8964083565463, -1388.814093788763, -1388.6563641335672, -1385.4474154060697, -1385.749280648772, -1384.0110802334018, 391841.2085893741, -1383.4459729045627, -1382.4774003021355, -1380.843981862299, -1378.3962934735312, -1377.8997897203146, -1376.8784911652976, -1376.6345999516209, -1376.8442258742791, -1366.9746123686662, -1374.1389837935678, -1373.7552788581672, -1372.7060968346443, -1371.304733577406, -1370.6789184571996, -1368.2114178127956, -1368.4384588822452, -1367.0378407596124, -1366.4256228024385, -1364.570088624719, -1364.8309742609065, -1363.4937738061024, -1361.880830859828, -1361.7780793970649, -1359.121898894619, -1359.583667571056, -1358.319137630612, -1357.0247001652522, -1355.708231914634, -1355.477051223121, -1354.3551707490894, -1353.6146919354476, -1352.6599217222386, -1351.209882239856, -1350.780717161432, -1349.4640600470154, -1348.1686449627584, -1347.6449313585415, -1346.595366600597, -1345.2394103499475, -1343.2369319721154, -1343.447251713353, -1342.1261522410848, -1340.7901091656474, -1331.749458946519, -1339.2668806714858, -1338.0216064905942, -1337.705424452415, -1336.2008639680992, -1335.691577767899, -1333.0251716739274, -1333.5897900844795, -1331.1157951789808, -1331.8220658152793, -1330.2819006858333, -1328.4376571618543, -1328.923731854229, -1326.0645063786826, -1325.7441993431055, -1325.3468168638449, -1324.5591013925348, -1323.6613311314584, -1322.0553757915766, -1321.7700091136642, -1320.7529937506704, -1318.4682888898217, -1316.0441125656896, -1315.351114398237, -1315.845104491508, -1315.3500571696966, -1312.49766928862, -1311.8253432358335, -1310.4453434635914, -1310.0524961621425, -1310.3397776010695, -1309.1123957994198, -1308.509720150523, -1307.8783876712926, -1306.2574085069357, -1305.561819995601, -1304.965265560276, -1303.802797781011, -1302.7280788868895, -1301.6190191824137, 391925.4201649085, -1299.5167833697744, -1298.5762160697443, 391928.7506069565, -1296.640928411089, -1295.9328997755035, -1293.6289294243404, -1293.802328304682, -1292.4435236566303, -1290.8914799308725, -1289.8767538145642, -1289.006087160554, -1288.0991714576323, -1287.5029997770928, -1286.9145930708653, 391940.96219569055, -1283.6842782815982, -1283.495575682104, -1282.4061110772434, -1281.633839894476, -1280.9894914785043, -1277.237964164615, -1276.819589619379, 391948.3353836149, -1276.0284546866576, -1274.5450346871532, -1265.2093456880816, -1265.740747504486, -1272.7976042790317, -1271.663460701336, -1270.101169062881, -1269.3255967429984, -1268.5345732145413, -1267.907283833418, -1263.218486336051, -1261.1138589965933, -1261.5642652459876, 391962.2326954322, -1260.2090006839555, -1259.2164400131107, -1259.860801878535, -1259.2934388240176, -1258.3302172137153, -1257.572912058076, 391969.4066037713, -1255.043430024157, -1254.478474066477, -1253.722090262543, -1252.9955711094738, -1251.8095522333967, -1248.670967911842, -1248.594463054839, -1248.1950421455952, -1247.0656627741675, -1246.7499794418084, -1245.561137026071, -1244.1850115306022, -1241.8206796143274, -1239.8821929293465, -1239.1091517645457, -1239.3968845441616, -1239.6743055646473, -1238.7777734879144, -1237.996750574812, -1236.838894939205, -1235.5738748809165, -1234.1813221705513, -1232.744359586001, -1223.1984378366951, -1231.3935129502863, -1229.654955653784, -1229.5428023259208, -1228.6416171744588, -1227.288743785398, -1225.9752411079628, -1224.4427955489944, -1223.1567738994297, -1223.930501954885, -1222.5611356272618, -1221.051321212961, -1220.4613107136431, -1219.108230462048, -1209.4716583304084, -1216.1709675961454, -1215.7547184573675, -1215.3337760876277, -1214.6142640894188, -1213.5638783715324, -1203.369528770489, -1211.5746309287272, -1210.9214209635709, -1208.769202127971, -1199.1033349054633, -1198.7517682599569, -1206.8201354924006, -1205.9293170828298, -1204.291196167151, -1203.2451641947066, -1202.7610433994157, -1201.7690961116489, -1200.8932109801078, -1199.4650836459016, -1198.3253508538944, -1197.3442255166108, -1196.5851558571037, 392030.0126827833, -1194.1202180397056, -1193.76442680975, -1192.1752355767887, -1190.5667425091135, -1190.6188283316212, -1189.2148116787396, -1188.289712276047, -1187.0663356313005, -1177.2982612304313, -1177.902134662811, -1183.5055378678014, -1181.8488576531197, -1181.1117016844944, -1181.8784027893469, -1180.9241250928933, -1179.0036438306363, -1178.45162084634, -1177.0553834454738, -1175.219496468468, -1174.163607905704, -1173.584347182585, -1173.794024571998, -1172.9056450491655, -1171.6724369219498, -1170.116319416766, -1169.3903083503944, -1168.5184607886874, -1167.6245175402494, -1166.9872361630407, 392060.2495380617, -1161.5932281508165, -1160.6604102084468, -1159.6231846197145, -1158.4456827299189, -1158.9570746244383, -1157.6424101858804, -1157.0093067444388, -1156.5532918693068, -1155.3783275069943, -1155.3963230399534, -1153.0181278313996, -1153.964843795948, -1152.0196313998897, -1142.174159306407, -1141.6765696220832, -1149.7018327404664, -1148.781992353492, -1147.374919583321, -1146.2910845126514, -1144.8681893142873, -1142.3603797766475, -1140.431844518557, -1139.8812334650172, -1139.649271700135, -1140.4992828740535, -1138.6673734145586, -1137.6788218086365, -1136.4377559821844, -1134.327119043436, -1134.2732814176818, -1133.3181108865158, -1133.9873817351206, -1132.854689688398, -1131.2321492665926, -1121.827181951191, -1120.684426720169, -1120.3770489700528, -1127.2326613606936, -1125.0962084372943, -1125.3317986155228, -1124.5791718017947, -1122.4783850518218, -1122.175544624493, -1121.940172310123, -1120.1316119744458, -1119.0278198203712, -1118.3087494697163, -1117.9977815386185, -1115.6531749988137, -1115.4780945195178, -1114.233793429503, -1113.202456864239, -1112.5697422612209, -1111.176717160932, -1110.0806354689191, -1109.4319723367496, -1108.2699535763506, -1106.9896510795145, -1105.913146773494, -1104.638659076861, -1103.1438928936834, -1103.5711107082263, -1102.4696834830067, -1101.823913581068, -1100.623480567294, -1099.7364748622251, -1089.2730675234911, -1097.6445378816677, -1096.3506474704925, -1095.2808193655435, -1094.0352532932309, -1091.7989425946114, -1090.4921451407238, -1089.3840434332594, -1081.9119853965112, -1087.0871400795866, -1087.3531503628708, -1086.5542509266595, -1086.7327313858889, -1085.15261464716, -1084.1004850334468, -1083.6581319942786, -1082.66593329408, -1081.9030730553825, -1080.2535829814703, -1079.4630001417438, -1078.80940577961, -1077.961288768355, -1076.8939708552964, -1066.4905112968995, -1074.869007334136, 392152.0127466768, -1072.97356665055, -1071.1914085063297, -1070.7906839436694, -1069.0317562443554, -1068.9029737410335, -1058.3436003188483, -1066.557995637021, -1065.8044300965732, -1064.8543330732762, -1063.3460293157343, -1062.191682027167, -1061.078981213417, -1060.282245998614, -1050.2232107163811, -1058.5518467259838, -1057.474955869989, -1056.71399781505, 392170.5236043767, 392171.1468590161, -1053.4860146677154, -1051.2727417269991, -1051.0855780254667, -1041.529242592193, -1048.381481790743, -1048.2615953427328, -1047.6929086797334, -1046.437583063456, -1045.8320184132629, -1044.5781602889772, -1043.3347732065542, -1042.1563287168854, -1041.6929488647413, -1040.564490205735, -1039.380973262667, -1038.4975242032654, -1037.8463128386577, -1036.9125751288582, 392190.55816835904, -1025.6709232241142, -1024.8225577707076, -1023.5209286413028, -1023.9997413605046, -1023.90596290467, -1023.7333376434252, -1020.0047724939144, -1020.1825974967072, -1020.5111987330127, -1019.2281274906608, -1018.5252830182484, -1018.0873104768124, -1016.1577165341408, -1016.5533852648904, -1013.699860836626, -1013.1070533570318, -1012.0399845490014, -1011.2677036404506, -1011.0577166240968, -1010.47913328437, -1009.087016590326, -1008.64937386397, -1008.3503795501964, -1007.3688195871576, -1005.889026673014, -1005.2995957921506, -1005.8619093282722, -1005.6299547704688, -1005.9940211007432, -1005.071951317343, -1003.2844896250548, -1001.1317045299533, -993.0411976715004, -1000.9868933486172, -1000.910905989172, -999.4051387352864, -998.9619071374212, -997.3205349156932, -995.5497022829117, -995.2185682978064, -994.1569447442356, -993.9395991326963, -990.5242580810376, -990.8682022510728, -990.9353562498908, -989.2345470711238, -988.3751657668216, -984.14132648162, -982.3196126787992, -982.2974581995344, -982.4067278283236, -981.214713018176, -980.5080913013325, -979.2932613317956, -971.5714281652504, -978.2513618120796, -977.339293195735, -977.9219294453768, -975.5467614512744, -974.110593206868, -973.3039095563876, -973.8960250291724, -971.3357070941964, -970.2833956322633, -968.3736623619924, -967.043554892476, -965.994905907436, -963.613672444695, -966.6476457727426, -962.8719140366828, -962.5714183426752, -954.67967791303, -954.7814270573176, -956.103058, -953.2650737928592, -951.8673363332936, -951.571634566972, -950.0473443447976, -949.8246929566898, -949.7057715515087, -949.6386716183796, -947.2752580327996, -943.5608489119624, -947.8631166465456, -945.5921298175516, -940.515479892348, 392277.58512751095, -947.2603608851152, -937.8666116598364, -937.1689168027036, -935.7226059840664, -936.3541912727368, -935.8592767219142, -933.91656718404, -933.3208080243716, -933.851088552566, -932.9086868723888, -931.054898184528, -929.1016574127992, -929.8389230923948, -928.4696361297232, -927.203990841804, -926.0270939565834, -925.2274600328714, -924.3418702802554, -923.8019072973524, -919.917348061284, -923.119857778653, -922.3171810268244, -922.31393445313, -919.4235914237591, -919.8900347698744, -915.3300744891252, -914.000566384564, -914.1893768588646, -914.408355454192, -914.6323546658704, -912.8116585436004, -911.2187784597476, -910.4236045023348, -907.5097977479512, -907.0746380218396, -906.6470540825934, -905.0580923538868, -904.6235276068336, -902.3032485188036, -901.4674301801764, -898.1992537980882, -898.7593535861847, -901.8304489940832, -900.3338146445993, -899.1779423094575, -896.462371368615, -896.8579225562488, -895.905524674093, -893.8302759290085, -893.5693259096782, -888.0955552824132, -891.2052798426784, -889.3301789086175, -887.8851800451324, -886.2291091643064, -885.2685742468324, -885.5974926012549, -881.3869218214563, -880.7809115185531, -888.2833470851367, -878.1255636879636, -877.2944899215198, -884.0463746339908, -875.4043242521792, -874.7883086740798, -874.1788926941557, -873.5465405855847, -872.1375133458722, -871.3238145996605, -871.2364379909462, -870.9768025386815, -868.9309216112155, -866.7298691364293, -866.2739905539978, -865.1038447453765, -864.31064282063, -863.3303899437072, -862.6860101990168, -861.1243475455307, -867.7519118256398, -858.8122055553348, -866.1240240140512, -865.4041408054468, -864.9995269490962, -863.2725785249988, -853.7293072177252, -860.0332485638753, -851.9864822460672, -850.3897327701428, -849.6827622659092, -856.9476629081962, -847.3429922863228, -846.8303511264461, -845.1032441079919, -846.9683642139443, -846.83432459108, -844.4140330485633, -850.0129657356645, -840.6826577479977, -840.1197092695855, -838.6630507977134, -839.4524152209082, -839.2700621633747, -836.7660388133362, -836.2904061085777, -835.7653252462677, -835.3642795314148, -833.3426949931544, -833.3095432155272, -832.7514840015773, -828.9897274731088, -831.6161977850978, -829.1658046569959, -828.4797148076317, 392386.8155637693, -823.8779149081473, -823.2842408232872, -822.4135300025267, -820.1147901430056, -820.0608021567908, -819.6958679957391, -819.4508928806207, -818.5668304241493, -817.8784585277789, -815.412536579959, -813.7596254797708, -812.6788290049349, -812.9978148724653, -810.9267956321954, -817.5185091596907, -808.1863961528087, -807.1581189565358, -807.553781690383, -805.2394160191933, -805.2491788937385, -804.701707155133, -803.5707536693197, -803.0589039608107, -803.2005618985498, -799.8208335339496, -802.4299618102963, -797.9125602984905, -801.6290882030611, -800.2468548319601, -799.0718553995392, -799.4546932984407, -798.2502947965685, -797.3584940872532, -795.9407862398738, -794.0086639463092, -794.4553830867156, -794.6663499610762, -793.038935099364, -792.0148785268701, -791.9033462163333, -791.5542526667308, -788.6173140037707, -789.3865664024441, -783.3926420110578, -779.2865047052082, -783.0672849962433, -781.1669343207344, -780.304844105984, -779.2064021224795, -778.2416888508209, -777.9768593880707, -777.1435294619313, -776.8157499931348, -775.4092274233293, -773.8523570793508, -772.297376544247, -772.3009467227201, -772.7401976577638, -771.5053492142273, -769.5479531356704, -767.892617648802, -767.6321393420739, -766.9569230044807, -766.8612482400412, -765.8451414452287, -765.3210118913865, -757.097285372764, -764.8707418021112, -764.4320815295108, -754.4457827017668, -761.2569299370042, -759.3083782392081, -751.7568714589775, -759.5405692960147, -757.526929955165, -757.3131434469664, -756.8190662782457, -755.2301991234461, -754.5064246143901, -752.8902790848582, -751.2952046858348, -742.540880637278, -750.8254450400999, -749.6125303845305, -748.4616302492262, -747.7872448138222, -737.6025977943996, -741.17474783555, -740.4827184487352, -739.0161578196597, -740.8557549641695, -739.5541326386405, -731.8463877352542, -738.8349805696338, -736.5322440930566, -735.630887454642, -734.1819059736798, -732.1470075102287, -731.8685569414287, -731.5209064530203, -731.8716708258593, -730.8011834547618, -730.381537871452, -728.1004884734406, -728.9027398901552, -727.9537216899979, -725.5957433999214, -724.3364626990295, -723.2877329270917, -723.5863195568248, -722.2132856744228, -721.6671817731097, -720.5437059970976, -710.5079764514435, -717.5687462277905, -716.4438128693677, -716.6070840202395, -715.6828758315422, -713.8248655320102, -713.5775915619432, -712.0218192257097, -711.8133299477612, -708.1384928074866, -706.0616258136696, -705.0476900749162, -703.0981865632765, -701.6452637122519, -699.0413756068782, -699.9450193545607, -700.8963064434837, -698.1156876412473, -697.8515738338323, -696.6459059697426, -696.7273603595889, -695.872396969541, -695.2746121424351, -692.3649938157236, -692.15214398675, -692.2574619699375, -690.1783393244235, -683.0684484420659, -687.861906282278, -684.6335202568724, -680.4271592425152, -684.9170414021509, -684.7199804965406, -683.5545620403726, -683.6739120366304, -683.2268752354465, -682.7869946132513, -673.473894124958, -681.2766590591522, -679.1044866352985, -677.0077221692435, -676.6893570737824, -668.2459066627148, -675.0243284302222, -666.1833860640527, -670.9888074209792, -665.7013367872713, -664.8046071674897, -664.3504083424058, -664.3592032272944, -664.5884704525919, -664.8201336003748, -663.8048905489389, -662.5966339162745, -661.1891017570091, -661.5024618868, -661.0351411438622, -660.2536756079147, -659.040831692363, -659.9347819655108, -658.0055944849063, -657.7307174266033, -657.8078683187435, -656.2802842843747, -654.8203732126639, -654.4136263107047, -652.7824578866301, -651.5344376008419, -650.5851522661623, -649.8418718200641, -649.8244635141367, -648.893474905707, -647.6492046882503, -646.5816773163746, -644.3292710509244, -635.2184127040878, -643.8513882476312, -640.9684675860148, -639.3339362809987, -638.446483573286, -637.8526141686447, -636.0064316579018, -635.909060463884, -635.9150496568194, -634.6318001449089, -625.5519368462042, -629.1348441506233, -623.411235984333, -622.4569210209238, -627.9621187171059, -627.6006111738324, -626.2817065986668, -618.568897646654, -617.9212705718478, -625.6850213104698, -621.7368253194903, -620.9923365648418, -613.3429397529167, -620.9447718627079, -619.3777081559341, -610.9537822506468, -618.9567287949325, -616.2505841670708, -614.2351714983596, -614.9766404561022, -612.8258381969366, -608.2999859256032, -608.4483071438011, -607.0741369778697, -607.0705191878122, -604.6090464259645, -604.4302442537195, -603.7402766300855, -600.8225418532246, -600.4189004221147, -597.2734305954331, -595.5211990781808, -595.2030545157266, -592.5164132907006, -591.9040578823524, -598.841160463792, -597.8708884678188, -588.7272773764292, -587.4451898155429, -586.628253731857, -585.9329630110732, -585.6692881976977, -584.1852984487313, -584.8537111298464, -583.454663191861, -580.6726554470142, -583.7593735421623, -582.5384132834778, -582.3211318415678, -582.2641991730778, -581.1727724998408, -580.9279457541769, -580.1325964159722, -578.8223049531738, -577.4769256608128, -576.7453472079686, -576.5647593890984, -575.5347567089483, -574.3953083612904, -572.0113915767814, -568.6323320280716, -564.900435432045, -567.3068079451613, -567.8946822738125, -566.6858259427471, -565.3752827060497, -565.098002062938, -565.0811781539113, -563.6257319936848, -562.1794456640818, -561.792294051398, -561.3191783218857, -561.3141507376512, -558.8269253301872, -557.1415523878717, -557.6668065316625, -558.4669254025988, -555.2047758649668, -553.9846577047869, -552.8601711595046, -552.4842730646532, -551.6463275116929, -551.2655758141581, -551.400250976394, -541.5759225569282, -540.8284316692234, -548.3650040681963, -547.8897705871535, -537.3273542033371, -544.3311062812439, -535.9029707474474, -541.4406855940596, -540.038562460937, -539.5283834772644, -531.0551586123829, -538.1546878953094, -535.6756650789351, -532.9115492242125, -532.3992831125814, -529.7219595054934, -525.1057007090494, -524.4889517140773, -524.6669354095284, -529.6506178948888, -521.9179469382457, -526.6435375412146, -527.4474710977291, -523.1894306108587, -522.5475066202197, -522.485728035107, -520.8480834953765, -519.2245673886154, -518.9743182667706, -517.3306678123662, -517.13001783999, -510.3087239125579, -509.7132452797345, -516.3748100276856, -516.0502879611721, -515.8128098836772, -514.1330268628275, -504.2692898807658, -503.5093869527345, -510.7070573489749, -501.1708452973666, -509.2664947426241, -506.5785732578155, -498.1623177314577, -505.8297224812776, -505.6211586273047, -495.21458266878375, -494.385590700776, -500.0292716763778, -500.16017111835833, -500.8857394644441, -499.1512277576202, -498.5928969393416, -488.86552478207926, -494.2029904181744, -493.6662634010189, -490.38223574073606, -484.6139532075212, -489.7832843065952, -489.5429310852536, -481.0750504100069, -489.73216568967865, -479.04311028669184, -479.2993967922152, -478.09166670517646, -477.1954249900495, -475.9282687923196, -474.90655439934335, -474.5589196012333, -479.86175458255326, -471.3736632479908, -470.46580943367593, -470.2110289039237, -469.1088609154944, -469.53573830194495, -466.2084585586503, -474.87669589005407, -473.74987877726096, -471.7102354119737, -467.2985027997032, -465.9962337022224, -463.0627148541506, -463.0281259197435, -458.8896080338581, -458.19353660270593, -457.1296733455028, -455.5966234662778, -455.0654708051802, -457.5844893728704, -452.9306534962, -452.64392768602994, -450.4034940721912, -449.1108624215112, -448.8298980322497, -447.53152034472527, -446.84563729528094, -445.28643307741135, -449.2651750608725, -447.0536590898787, -450.9542992159094, -449.932163337848, -449.1979156735364, -446.3668066442573, -438.9341966478018, -438.95084367813337, -438.84197699851705, -438.50388272629374, -436.4524610717853, -436.08200688668825, -441.17796620820206, -439.2597815970588, -430.8107238939842, -429.5807977922613, -437.6139896923263, -435.393165801156, -434.9954398825565, -432.70016564469086, -424.209235956237, -424.7840312707012, -423.22820806428666, -423.38811890152914, -422.69612974824616, -424.0214023826669, -418.82109484100937, -418.68610228385313, -418.1543629313696, -418.1999822421025, -418.4338437948872, -416.39930016805687, -412.1108604957357, -412.7489090162298, -410.97886356279145, -416.0017913221218, -412.7042029619852, -407.97169266095256, -415.40709355624847, -408.6225327608772, -411.9757181566473, -410.64202157437774, -410.5150413050818, -401.6497569280527, -401.2566500812745, -399.7553425574115, -400.76341109203935, -397.8925029472689, -396.48837021072944, -404.795072693429, -402.8316007010652, -393.9169177509838, -401.30876339108215, -400.05642943255714, -390.0098056674514, -398.8993533091997, -388.8098996712533, -394.5803402480723, -386.7405574584932, -385.4151378999176, -384.0598470705649, -385.310870225424, -390.7445734420056, -386.8868598559242, -380.2917828609593, -383.1366153799521, -378.1370140577063, -377.1853982548941, -376.9216293342815, -375.2217050776589, -374.9285752003293, -375.1544372853804, -373.64545041691866, -372.9341471795132, -370.9179930800146, -369.07054466409903, -374.4370966262885, -367.12898054626834, -374.21457049572007, -365.8755278717612, -364.5816668560555, -363.6392019809054, -362.9053000424687, -361.7670647526133, -367.3349260151998, -359.5430618071145, -359.1693209318541, -358.5333412523446, -365.9144153833389, -355.82566620611755, -363.1836106338386, -357.56983582710143, -352.7173262503206, -352.85790386523325, -351.6338642849568, -351.68526318501466, -351.83385101285324, -351.4335519683322, -350.97604615110635, -349.5038575755147, -348.29693886936906, -347.0906940883769, -346.31711741391786, -345.181307929462, -343.9368953997741, -343.0837826333213, -343.2796171426807, -337.7395321378385, -336.2614502845599, -342.3306408990552, -341.59260606091937, -333.7450880849601, -340.16097978996584, -331.1698662900507, -331.56380812938187, -329.2322214264772, -335.60297727755767, -333.27653306141644, -331.21111773636983, -331.8764148056888, -324.2346882225474, -323.4891859971048, -330.64930856500666, -330.2013683039912, -329.7382533792155, -328.5717507028488, -327.01494400400213, -317.2790398674051, -316.8734662578117, -324.66203421849457, -322.2241593423322, -319.8715043444489, -318.1116858350564, -318.0477921467399, -310.147582902533, -309.8196648115872, -316.24259199935057, -314.6880078968578, -311.1833459625226, -311.7998302211339, -309.8364473734267, -303.94252037927345, -302.49114005149835, -308.0264081190875, -305.00380574056214, -304.9703124469587, -298.6225707942653, -297.3853284018473, -296.7526639296306, -295.85169440162457, -303.7269344843561, -293.5916390900556, -301.9989465225184, -291.2431230593292, -296.9972536667068, -289.5636794097076, -295.97599569843567, -295.6596750110233, -286.9001674345481, -286.7229305914829, -284.2285720530012, -291.13277874396715, -282.7222395794392, -281.78713846462, -281.4604095732015, -288.55864506032674, -287.10480325541755, -277.314902836465, -285.2051118879916, -275.4422480642624, -280.5771489570087, -273.7810355904889, -272.208614102014, -272.9902110191501, -272.14108153938054, -270.66083621620504, -268.5425834899274, -276.49845259533265, -275.39736976177653, -272.564330718806, -271.3819269494892, -263.13141479000654, -262.0383846825907, -261.13557943422296, -260.0123100570881, -259.39177886765947, -258.512983350301, -257.83304537068443, -257.31689406441313, -257.71754341527543, -256.63453328908366, -253.80635463648645, -261.45587228272814, -251.6707236598449, -259.2250879204447, -251.3528610509669, -248.50390128060417, -250.7776583679905, -246.463177406194, -247.6367206126505, -244.18244063357724, -243.64748390669632, -243.021760611366, -246.42374574638995, -248.6635421571262, -245.8325012339772, -240.9435692398036, -237.9069749599816, -236.99172198685125, -237.4696630554639, -234.4624821681004, -234.4890777154696, -234.14309608087325, -236.8976681077832, -230.9152696089617, -229.49998237176288, -228.5911295632613, -227.41458702885933, -228.99822326963465, -227.18701672998748, -228.4041070787501, -223.83256012249052, -222.9197875100021, -223.53239763665715, -220.7589446964816, -219.2426051955494, -219.3890379324393, -220.6296009930378, -216.81157438755008, -215.75629026086057, -217.5483621242064, -216.91690115479776, -214.48839540443112, -211.9309351977672, -210.97983484574883, -214.77923899257968, -214.34399086770856, -207.8878789616274, -206.44912003368648, -207.7557337216689, -204.5606262021637, -206.01336775617528, -202.8052449636429, -201.7500382171529, -200.2287744625832, -199.40657285203991, -205.7827025030004, -205.0606992294591, -196.2538666793056, -195.6101573335199, -194.8015408145252, -193.7784832359825, -192.8937954074981, -191.4491038279483, -196.98509166680105, -189.81305169901725, -189.21189966171136, -189.87791227581823, -189.36199811668843, -187.37429869078, -185.144092596814, -188.1057586567416, -183.5097969111506, -181.4630640948521, -180.615901989669, -180.41799136039657, -180.86007331966755, -184.3812563054624, -176.14354603822716, -175.35877464833942, -174.46787020064534, -174.54719646938918, -172.99805270107066, -172.57161008543738, -171.73664030773074, -171.1503961154271, -169.92497483841947, -168.11243057040872, -172.68191460158852, -165.58815003331569, -171.1624207214407, -164.92523520693368, -162.79407830832946, -162.63039141200892, -160.97096124814328, -162.9369524996826, -167.80147373690374, -160.3491051375688, -156.0473041053736, -158.97724049510953, -154.83726060552357, 393062.7009990026, -152.281000393591, -152.82983223319297, -151.420865015456, -149.22957269384688, 393065.4506978645, -154.33025589140811, -146.83748199279717, -146.32889425314164, -146.77868634948476, -144.4344488889859, -142.43483260810626, -141.74482548501362, -140.93526507232582, -141.45621969433603, -141.99324359063428, -137.00683744492602, -140.34396145391418, -135.27636009335708, -143.4133562598807, -133.83936267789971, -133.62322669365165, -133.05053714963594, -130.43873446726172, -129.98896433902416, -135.30458242434435, -133.063063179224, -126.09416741663875, -125.78844518409272, -125.38835151772628, -131.47069072419504, -125.20469837518408, -123.46116335356442, -120.1797144284568, -120.9585598456514, -118.57442576051466, -117.17675028970956, -116.53054118154836, -115.12474418356976, -116.4887793232777, -114.4973735460012, -113.32516962673208, -119.14919720731837, -117.66598539536903, -113.08099563533256, -108.75814997609808, -108.71303873961767, -107.18091040167371, -105.79471807480456, -104.56956581307873, -112.55110697321572, -102.84279685668776, -104.48674610044884, -103.96794981473124, -99.03345642779612, -99.93722775151969, -98.64404601878664, -101.2105037100938, -95.91614783526217, -100.85461250547348, 390755.4640543004, -92.81548667546843, -91.15797653256766, -99.7635237397098, -89.16365168430906, -88.81360324034193, -87.87418431177986, -86.92481612165182, -85.27966797152988, -84.87542571409523, -87.8809502515864, -82.6728710038733, -81.57168061350069, -75.98143820404016, -74.99524988670981, -70.7815276880608, -69.36814052410932, -65.16319032061023, 393154.69259188295, 393158.622524578, 393159.5162405303, -653.8363502753127, 393188.96798212937, 390769.0690309053}\n",
            "\n",
            "\n",
            "Percentage of negative values to the whole dataset =  73.86692832445566\n",
            "\n",
            "\n",
            "Percentage of missing values to the whole dataset =  10.101859639286047\n"
          ]
        }
      ],
      "source": [
        "# Find problematic data in `days_employed`, if they exist, and calculate the percentage\n",
        "print(set(df['days_employed']))\n",
        "\n",
        "# As there are some negative values and missing values\n",
        "print(\"\\n\\nPercentage of negative values to the whole dataset = \",(len(df[df['days_employed']<0])/len(df))*100)\n",
        "print(\"\\n\\nPercentage of missing values to the whole dataset = \",(df['days_employed'].isnull().sum()/len(df))*100)"
      ]
    },
    {
      "cell_type": "markdown",
      "metadata": {
        "id": "NgH-lKRYmIKD"
      },
      "source": [
        "[If the amount of problematic data is high, it could've been due to some technical issues. We may probably want to propose the most obvious reason why it could've happened and what the correct data might've been, as we can't drop these problematic rows.]"
      ]
    },
    {
      "cell_type": "code",
      "execution_count": 19,
      "metadata": {
        "id": "ypiZmwcGmIKD"
      },
      "outputs": [],
      "source": [
        "# Address the problematic values, if they exist\n",
        "days_employed = []\n",
        "\n",
        "for days in df['days_employed']:\n",
        "    try:\n",
        "      days_employed.append(int(abs(days)))\n",
        "    except:\n",
        "      days_employed.append(days)\n",
        "df['days_employed'] = days_employed"
      ]
    },
    {
      "cell_type": "code",
      "execution_count": 20,
      "metadata": {
        "id": "CkDOKR2DmIKD",
        "colab": {
          "base_uri": "https://localhost:8080/"
        },
        "outputId": "ef6df6b7-0c52-4f6b-edb3-2b07c83cb47d"
      },
      "outputs": [
        {
          "output_type": "execute_result",
          "data": {
            "text/plain": [
              "{nan,\n",
              " nan,\n",
              " nan,\n",
              " nan,\n",
              " nan,\n",
              " nan,\n",
              " nan,\n",
              " nan,\n",
              " nan,\n",
              " nan,\n",
              " nan,\n",
              " nan,\n",
              " nan,\n",
              " nan,\n",
              " nan,\n",
              " nan,\n",
              " 390775.0,\n",
              " 24.0,\n",
              " 360475.0,\n",
              " 30.0,\n",
              " nan,\n",
              " nan,\n",
              " nan,\n",
              " nan,\n",
              " nan,\n",
              " nan,\n",
              " nan,\n",
              " nan,\n",
              " nan,\n",
              " 34.0,\n",
              " 37.0,\n",
              " 33.0,\n",
              " 39.0,\n",
              " 46.0,\n",
              " 47.0,\n",
              " 50.0,\n",
              " 51.0,\n",
              " 54.0,\n",
              " 55.0,\n",
              " 58.0,\n",
              " 60.0,\n",
              " 61.0,\n",
              " 62.0,\n",
              " 393280.0,\n",
              " 65.0,\n",
              " 67.0,\n",
              " 69.0,\n",
              " 70.0,\n",
              " 72.0,\n",
              " 73.0,\n",
              " 74.0,\n",
              " 75.0,\n",
              " 78.0,\n",
              " 79.0,\n",
              " 80.0,\n",
              " 81.0,\n",
              " 82.0,\n",
              " 83.0,\n",
              " 84.0,\n",
              " 85.0,\n",
              " 360531.0,\n",
              " 87.0,\n",
              " 88.0,\n",
              " 86.0,\n",
              " 90.0,\n",
              " 91.0,\n",
              " 92.0,\n",
              " 89.0,\n",
              " 94.0,\n",
              " 95.0,\n",
              " 96.0,\n",
              " 97.0,\n",
              " 98.0,\n",
              " 99.0,\n",
              " 100.0,\n",
              " 101.0,\n",
              " 102.0,\n",
              " 103.0,\n",
              " 104.0,\n",
              " 105.0,\n",
              " 106.0,\n",
              " 107.0,\n",
              " 108.0,\n",
              " 109.0,\n",
              " 110.0,\n",
              " 111.0,\n",
              " 112.0,\n",
              " 113.0,\n",
              " 114.0,\n",
              " 115.0,\n",
              " 116.0,\n",
              " 117.0,\n",
              " 118.0,\n",
              " 119.0,\n",
              " 120.0,\n",
              " 121.0,\n",
              " 393337.0,\n",
              " 122.0,\n",
              " 124.0,\n",
              " 125.0,\n",
              " 126.0,\n",
              " 127.0,\n",
              " 128.0,\n",
              " 129.0,\n",
              " 130.0,\n",
              " 131.0,\n",
              " 132.0,\n",
              " 133.0,\n",
              " 134.0,\n",
              " 135.0,\n",
              " 136.0,\n",
              " 137.0,\n",
              " 138.0,\n",
              " 139.0,\n",
              " 140.0,\n",
              " 141.0,\n",
              " 142.0,\n",
              " 143.0,\n",
              " 144.0,\n",
              " 145.0,\n",
              " 146.0,\n",
              " 147.0,\n",
              " 148.0,\n",
              " 149.0,\n",
              " 150.0,\n",
              " 151.0,\n",
              " 152.0,\n",
              " 153.0,\n",
              " 154.0,\n",
              " 155.0,\n",
              " nan,\n",
              " nan,\n",
              " nan,\n",
              " nan,\n",
              " nan,\n",
              " nan,\n",
              " nan,\n",
              " nan,\n",
              " nan,\n",
              " nan,\n",
              " 166.0,\n",
              " 167.0,\n",
              " 161.0,\n",
              " 163.0,\n",
              " 162.0,\n",
              " 171.0,\n",
              " 172.0,\n",
              " 173.0,\n",
              " 174.0,\n",
              " 169.0,\n",
              " 176.0,\n",
              " 177.0,\n",
              " 178.0,\n",
              " 179.0,\n",
              " 180.0,\n",
              " 181.0,\n",
              " 182.0,\n",
              " 183.0,\n",
              " 184.0,\n",
              " 185.0,\n",
              " 186.0,\n",
              " 187.0,\n",
              " 188.0,\n",
              " 189.0,\n",
              " 190.0,\n",
              " 191.0,\n",
              " 192.0,\n",
              " 193.0,\n",
              " 194.0,\n",
              " 195.0,\n",
              " 196.0,\n",
              " 197.0,\n",
              " 360639.0,\n",
              " 199.0,\n",
              " 200.0,\n",
              " 201.0,\n",
              " 202.0,\n",
              " 203.0,\n",
              " 204.0,\n",
              " 205.0,\n",
              " 206.0,\n",
              " 207.0,\n",
              " 208.0,\n",
              " 209.0,\n",
              " 210.0,\n",
              " 211.0,\n",
              " 212.0,\n",
              " 213.0,\n",
              " 214.0,\n",
              " 215.0,\n",
              " 216.0,\n",
              " 217.0,\n",
              " 218.0,\n",
              " 219.0,\n",
              " 220.0,\n",
              " 221.0,\n",
              " 222.0,\n",
              " 223.0,\n",
              " 224.0,\n",
              " 225.0,\n",
              " 226.0,\n",
              " 227.0,\n",
              " 228.0,\n",
              " 229.0,\n",
              " 230.0,\n",
              " 231.0,\n",
              " 232.0,\n",
              " 233.0,\n",
              " 234.0,\n",
              " 235.0,\n",
              " 393452.0,\n",
              " 237.0,\n",
              " 238.0,\n",
              " 239.0,\n",
              " 240.0,\n",
              " 241.0,\n",
              " 242.0,\n",
              " 243.0,\n",
              " 244.0,\n",
              " 245.0,\n",
              " 246.0,\n",
              " 247.0,\n",
              " 248.0,\n",
              " 249.0,\n",
              " 250.0,\n",
              " 251.0,\n",
              " 252.0,\n",
              " 253.0,\n",
              " 360701.0,\n",
              " 255.0,\n",
              " 256.0,\n",
              " 254.0,\n",
              " 258.0,\n",
              " 259.0,\n",
              " 260.0,\n",
              " 257.0,\n",
              " 262.0,\n",
              " 263.0,\n",
              " 264.0,\n",
              " 265.0,\n",
              " 261.0,\n",
              " 267.0,\n",
              " 360716.0,\n",
              " 269.0,\n",
              " 270.0,\n",
              " 271.0,\n",
              " 272.0,\n",
              " 273.0,\n",
              " 274.0,\n",
              " 275.0,\n",
              " 276.0,\n",
              " 277.0,\n",
              " 278.0,\n",
              " 279.0,\n",
              " 280.0,\n",
              " 281.0,\n",
              " 282.0,\n",
              " 283.0,\n",
              " 284.0,\n",
              " 285.0,\n",
              " 286.0,\n",
              " 287.0,\n",
              " 288.0,\n",
              " 289.0,\n",
              " 290.0,\n",
              " 291.0,\n",
              " 360739.0,\n",
              " 292.0,\n",
              " 294.0,\n",
              " 293.0,\n",
              " 296.0,\n",
              " 295.0,\n",
              " 298.0,\n",
              " 299.0,\n",
              " 300.0,\n",
              " 301.0,\n",
              " 302.0,\n",
              " 303.0,\n",
              " 304.0,\n",
              " 305.0,\n",
              " 306.0,\n",
              " 307.0,\n",
              " 308.0,\n",
              " 309.0,\n",
              " 310.0,\n",
              " 311.0,\n",
              " 312.0,\n",
              " 360761.0,\n",
              " 313.0,\n",
              " 314.0,\n",
              " 316.0,\n",
              " 317.0,\n",
              " 318.0,\n",
              " 319.0,\n",
              " 320.0,\n",
              " 321.0,\n",
              " 322.0,\n",
              " 323.0,\n",
              " 324.0,\n",
              " 325.0,\n",
              " 326.0,\n",
              " 327.0,\n",
              " 328.0,\n",
              " 329.0,\n",
              " 330.0,\n",
              " 331.0,\n",
              " 332.0,\n",
              " 333.0,\n",
              " 334.0,\n",
              " 335.0,\n",
              " 360784.0,\n",
              " 337.0,\n",
              " 336.0,\n",
              " 339.0,\n",
              " 340.0,\n",
              " 341.0,\n",
              " 342.0,\n",
              " 338.0,\n",
              " 344.0,\n",
              " 343.0,\n",
              " 345.0,\n",
              " 347.0,\n",
              " 348.0,\n",
              " 349.0,\n",
              " 350.0,\n",
              " 351.0,\n",
              " 352.0,\n",
              " 353.0,\n",
              " 346.0,\n",
              " 355.0,\n",
              " 356.0,\n",
              " 357.0,\n",
              " 358.0,\n",
              " 359.0,\n",
              " 360.0,\n",
              " 361.0,\n",
              " 354.0,\n",
              " 363.0,\n",
              " 364.0,\n",
              " 365.0,\n",
              " 366.0,\n",
              " 367.0,\n",
              " 368.0,\n",
              " 369.0,\n",
              " 370.0,\n",
              " 371.0,\n",
              " 372.0,\n",
              " 373.0,\n",
              " 374.0,\n",
              " 375.0,\n",
              " 376.0,\n",
              " 377.0,\n",
              " 378.0,\n",
              " 379.0,\n",
              " 380.0,\n",
              " 381.0,\n",
              " 382.0,\n",
              " 383.0,\n",
              " 384.0,\n",
              " 385.0,\n",
              " 386.0,\n",
              " 387.0,\n",
              " 388.0,\n",
              " 389.0,\n",
              " 390.0,\n",
              " 391.0,\n",
              " 392.0,\n",
              " 393.0,\n",
              " 394.0,\n",
              " 395.0,\n",
              " 396.0,\n",
              " 397.0,\n",
              " 398.0,\n",
              " 399.0,\n",
              " 400.0,\n",
              " 401.0,\n",
              " 402.0,\n",
              " 403.0,\n",
              " 404.0,\n",
              " 405.0,\n",
              " 406.0,\n",
              " 407.0,\n",
              " 408.0,\n",
              " 409.0,\n",
              " 410.0,\n",
              " 411.0,\n",
              " 412.0,\n",
              " 413.0,\n",
              " 414.0,\n",
              " 415.0,\n",
              " 416.0,\n",
              " 417.0,\n",
              " 418.0,\n",
              " 419.0,\n",
              " 420.0,\n",
              " 421.0,\n",
              " 422.0,\n",
              " 423.0,\n",
              " 424.0,\n",
              " 425.0,\n",
              " 426.0,\n",
              " 427.0,\n",
              " 428.0,\n",
              " 429.0,\n",
              " 430.0,\n",
              " 431.0,\n",
              " 432.0,\n",
              " 433.0,\n",
              " 434.0,\n",
              " 435.0,\n",
              " 436.0,\n",
              " 437.0,\n",
              " 438.0,\n",
              " 439.0,\n",
              " 440.0,\n",
              " 441.0,\n",
              " 442.0,\n",
              " 443.0,\n",
              " 444.0,\n",
              " 445.0,\n",
              " 446.0,\n",
              " 447.0,\n",
              " 448.0,\n",
              " 449.0,\n",
              " 450.0,\n",
              " 451.0,\n",
              " 452.0,\n",
              " 453.0,\n",
              " 454.0,\n",
              " 455.0,\n",
              " 456.0,\n",
              " 457.0,\n",
              " 458.0,\n",
              " 459.0,\n",
              " 360907.0,\n",
              " 461.0,\n",
              " 462.0,\n",
              " 463.0,\n",
              " 464.0,\n",
              " 460.0,\n",
              " 466.0,\n",
              " 467.0,\n",
              " 465.0,\n",
              " 469.0,\n",
              " 470.0,\n",
              " 471.0,\n",
              " 472.0,\n",
              " 473.0,\n",
              " 474.0,\n",
              " 475.0,\n",
              " 476.0,\n",
              " 477.0,\n",
              " 478.0,\n",
              " 479.0,\n",
              " 480.0,\n",
              " 481.0,\n",
              " 482.0,\n",
              " 483.0,\n",
              " 484.0,\n",
              " 485.0,\n",
              " 486.0,\n",
              " nan,\n",
              " 488.0,\n",
              " 489.0,\n",
              " 490.0,\n",
              " 491.0,\n",
              " 492.0,\n",
              " nan,\n",
              " nan,\n",
              " 393711.0,\n",
              " 496.0,\n",
              " 497.0,\n",
              " 498.0,\n",
              " 499.0,\n",
              " 494.0,\n",
              " 501.0,\n",
              " 502.0,\n",
              " 503.0,\n",
              " 504.0,\n",
              " 505.0,\n",
              " 506.0,\n",
              " 507.0,\n",
              " 508.0,\n",
              " 509.0,\n",
              " 510.0,\n",
              " 393725.0,\n",
              " 512.0,\n",
              " 513.0,\n",
              " 514.0,\n",
              " 515.0,\n",
              " 516.0,\n",
              " 517.0,\n",
              " 518.0,\n",
              " 519.0,\n",
              " 360965.0,\n",
              " 520.0,\n",
              " 522.0,\n",
              " 523.0,\n",
              " 524.0,\n",
              " 525.0,\n",
              " 526.0,\n",
              " 527.0,\n",
              " 528.0,\n",
              " 529.0,\n",
              " 530.0,\n",
              " 531.0,\n",
              " 532.0,\n",
              " 533.0,\n",
              " 534.0,\n",
              " 535.0,\n",
              " 536.0,\n",
              " 537.0,\n",
              " 538.0,\n",
              " 539.0,\n",
              " 540.0,\n",
              " 541.0,\n",
              " 542.0,\n",
              " 543.0,\n",
              " 544.0,\n",
              " 545.0,\n",
              " 546.0,\n",
              " 547.0,\n",
              " 360995.0,\n",
              " 549.0,\n",
              " 550.0,\n",
              " 551.0,\n",
              " 552.0,\n",
              " 553.0,\n",
              " 554.0,\n",
              " 555.0,\n",
              " 556.0,\n",
              " 557.0,\n",
              " 558.0,\n",
              " 559.0,\n",
              " 560.0,\n",
              " 561.0,\n",
              " 361010.0,\n",
              " 563.0,\n",
              " 562.0,\n",
              " 565.0,\n",
              " 566.0,\n",
              " 361012.0,\n",
              " 568.0,\n",
              " 569.0,\n",
              " 564.0,\n",
              " 567.0,\n",
              " 572.0,\n",
              " 573.0,\n",
              " 574.0,\n",
              " 571.0,\n",
              " 576.0,\n",
              " 577.0,\n",
              " 578.0,\n",
              " 579.0,\n",
              " 580.0,\n",
              " 581.0,\n",
              " 582.0,\n",
              " 583.0,\n",
              " 584.0,\n",
              " 585.0,\n",
              " 361033.0,\n",
              " 587.0,\n",
              " 588.0,\n",
              " 589.0,\n",
              " 590.0,\n",
              " 591.0,\n",
              " 592.0,\n",
              " 593.0,\n",
              " 594.0,\n",
              " 595.0,\n",
              " 596.0,\n",
              " 597.0,\n",
              " 598.0,\n",
              " 599.0,\n",
              " 600.0,\n",
              " 601.0,\n",
              " 602.0,\n",
              " 603.0,\n",
              " 604.0,\n",
              " 605.0,\n",
              " 606.0,\n",
              " 607.0,\n",
              " 608.0,\n",
              " 609.0,\n",
              " 393825.0,\n",
              " 610.0,\n",
              " 612.0,\n",
              " 613.0,\n",
              " 614.0,\n",
              " 615.0,\n",
              " 393828.0,\n",
              " 617.0,\n",
              " 618.0,\n",
              " 619.0,\n",
              " 620.0,\n",
              " 621.0,\n",
              " 622.0,\n",
              " 623.0,\n",
              " 624.0,\n",
              " 625.0,\n",
              " 626.0,\n",
              " 627.0,\n",
              " 628.0,\n",
              " 629.0,\n",
              " 630.0,\n",
              " 631.0,\n",
              " 632.0,\n",
              " 633.0,\n",
              " 634.0,\n",
              " 635.0,\n",
              " 636.0,\n",
              " 637.0,\n",
              " 638.0,\n",
              " 639.0,\n",
              " 640.0,\n",
              " 641.0,\n",
              " 642.0,\n",
              " 643.0,\n",
              " 644.0,\n",
              " 645.0,\n",
              " 646.0,\n",
              " 647.0,\n",
              " 648.0,\n",
              " 393859.0,\n",
              " 650.0,\n",
              " 651.0,\n",
              " 649.0,\n",
              " 653.0,\n",
              " 654.0,\n",
              " 655.0,\n",
              " 656.0,\n",
              " 657.0,\n",
              " 658.0,\n",
              " 659.0,\n",
              " 660.0,\n",
              " 661.0,\n",
              " 662.0,\n",
              " 663.0,\n",
              " 664.0,\n",
              " 665.0,\n",
              " 666.0,\n",
              " 393880.0,\n",
              " 668.0,\n",
              " 669.0,\n",
              " 670.0,\n",
              " 671.0,\n",
              " 672.0,\n",
              " 673.0,\n",
              " 674.0,\n",
              " 675.0,\n",
              " 676.0,\n",
              " 677.0,\n",
              " 678.0,\n",
              " 679.0,\n",
              " 680.0,\n",
              " 681.0,\n",
              " 682.0,\n",
              " 683.0,\n",
              " 684.0,\n",
              " 685.0,\n",
              " 686.0,\n",
              " 687.0,\n",
              " 688.0,\n",
              " 689.0,\n",
              " 690.0,\n",
              " 691.0,\n",
              " 692.0,\n",
              " 693.0,\n",
              " 694.0,\n",
              " 695.0,\n",
              " 696.0,\n",
              " 697.0,\n",
              " 698.0,\n",
              " 699.0,\n",
              " 700.0,\n",
              " 701.0,\n",
              " 702.0,\n",
              " 703.0,\n",
              " 704.0,\n",
              " 705.0,\n",
              " 706.0,\n",
              " 707.0,\n",
              " 708.0,\n",
              " 709.0,\n",
              " 710.0,\n",
              " 711.0,\n",
              " 712.0,\n",
              " 713.0,\n",
              " 714.0,\n",
              " 715.0,\n",
              " 716.0,\n",
              " 717.0,\n",
              " 718.0,\n",
              " 719.0,\n",
              " 720.0,\n",
              " 721.0,\n",
              " 722.0,\n",
              " 723.0,\n",
              " 724.0,\n",
              " 725.0,\n",
              " 726.0,\n",
              " 727.0,\n",
              " 728.0,\n",
              " 729.0,\n",
              " 730.0,\n",
              " 731.0,\n",
              " 361180.0,\n",
              " 733.0,\n",
              " 734.0,\n",
              " 735.0,\n",
              " 736.0,\n",
              " 737.0,\n",
              " 738.0,\n",
              " 739.0,\n",
              " 740.0,\n",
              " 741.0,\n",
              " 742.0,\n",
              " 743.0,\n",
              " 744.0,\n",
              " 745.0,\n",
              " 746.0,\n",
              " 747.0,\n",
              " 748.0,\n",
              " 749.0,\n",
              " 750.0,\n",
              " 751.0,\n",
              " 393964.0,\n",
              " 753.0,\n",
              " 754.0,\n",
              " 755.0,\n",
              " 756.0,\n",
              " 757.0,\n",
              " 758.0,\n",
              " 759.0,\n",
              " 760.0,\n",
              " 761.0,\n",
              " 762.0,\n",
              " 763.0,\n",
              " 764.0,\n",
              " 765.0,\n",
              " 766.0,\n",
              " 767.0,\n",
              " 768.0,\n",
              " 769.0,\n",
              " 770.0,\n",
              " 771.0,\n",
              " 772.0,\n",
              " 773.0,\n",
              " 774.0,\n",
              " 775.0,\n",
              " 776.0,\n",
              " 777.0,\n",
              " 778.0,\n",
              " 779.0,\n",
              " 780.0,\n",
              " nan,\n",
              " nan,\n",
              " nan,\n",
              " nan,\n",
              " nan,\n",
              " nan,\n",
              " nan,\n",
              " nan,\n",
              " nan,\n",
              " nan,\n",
              " 790.0,\n",
              " 792.0,\n",
              " 788.0,\n",
              " 794.0,\n",
              " 158.0,\n",
              " 796.0,\n",
              " 797.0,\n",
              " 798.0,\n",
              " 157.0,\n",
              " 800.0,\n",
              " 801.0,\n",
              " 802.0,\n",
              " 159.0,\n",
              " 803.0,\n",
              " 394021.0,\n",
              " 806.0,\n",
              " 807.0,\n",
              " 808.0,\n",
              " 809.0,\n",
              " 810.0,\n",
              " 811.0,\n",
              " 812.0,\n",
              " 804.0,\n",
              " 814.0,\n",
              " 815.0,\n",
              " 816.0,\n",
              " 817.0,\n",
              " 818.0,\n",
              " 819.0,\n",
              " 813.0,\n",
              " 821.0,\n",
              " 820.0,\n",
              " 823.0,\n",
              " 824.0,\n",
              " 825.0,\n",
              " 164.0,\n",
              " 826.0,\n",
              " 828.0,\n",
              " 829.0,\n",
              " 827.0,\n",
              " 165.0,\n",
              " 832.0,\n",
              " 830.0,\n",
              " 834.0,\n",
              " 835.0,\n",
              " 836.0,\n",
              " 837.0,\n",
              " 838.0,\n",
              " 839.0,\n",
              " 840.0,\n",
              " 841.0,\n",
              " 842.0,\n",
              " 361290.0,\n",
              " 843.0,\n",
              " 845.0,\n",
              " 846.0,\n",
              " 847.0,\n",
              " 848.0,\n",
              " 849.0,\n",
              " 850.0,\n",
              " 851.0,\n",
              " 852.0,\n",
              " 853.0,\n",
              " 168.0,\n",
              " 855.0,\n",
              " 170.0,\n",
              " 857.0,\n",
              " 858.0,\n",
              " 859.0,\n",
              " 860.0,\n",
              " 854.0,\n",
              " 862.0,\n",
              " 863.0,\n",
              " 864.0,\n",
              " 865.0,\n",
              " 866.0,\n",
              " 861.0,\n",
              " 868.0,\n",
              " 869.0,\n",
              " 394085.0,\n",
              " 870.0,\n",
              " 872.0,\n",
              " 873.0,\n",
              " 874.0,\n",
              " 875.0,\n",
              " 876.0,\n",
              " 877.0,\n",
              " 878.0,\n",
              " 879.0,\n",
              " 880.0,\n",
              " 881.0,\n",
              " 882.0,\n",
              " 883.0,\n",
              " 884.0,\n",
              " 885.0,\n",
              " 886.0,\n",
              " 175.0,\n",
              " 888.0,\n",
              " 889.0,\n",
              " 890.0,\n",
              " 891.0,\n",
              " 892.0,\n",
              " 893.0,\n",
              " 894.0,\n",
              " 361343.0,\n",
              " 896.0,\n",
              " 897.0,\n",
              " 895.0,\n",
              " 899.0,\n",
              " 900.0,\n",
              " 901.0,\n",
              " 902.0,\n",
              " 903.0,\n",
              " 898.0,\n",
              " 905.0,\n",
              " 906.0,\n",
              " 907.0,\n",
              " 908.0,\n",
              " 909.0,\n",
              " 910.0,\n",
              " 911.0,\n",
              " 912.0,\n",
              " 913.0,\n",
              " 914.0,\n",
              " 915.0,\n",
              " 916.0,\n",
              " 917.0,\n",
              " 918.0,\n",
              " 919.0,\n",
              " 920.0,\n",
              " 361366.0,\n",
              " 922.0,\n",
              " 923.0,\n",
              " 924.0,\n",
              " 925.0,\n",
              " 926.0,\n",
              " 927.0,\n",
              " 928.0,\n",
              " 929.0,\n",
              " 930.0,\n",
              " 931.0,\n",
              " 932.0,\n",
              " 933.0,\n",
              " 934.0,\n",
              " 935.0,\n",
              " 936.0,\n",
              " 937.0,\n",
              " 938.0,\n",
              " 939.0,\n",
              " 940.0,\n",
              " 941.0,\n",
              " 942.0,\n",
              " 943.0,\n",
              " 944.0,\n",
              " 945.0,\n",
              " 946.0,\n",
              " 947.0,\n",
              " 948.0,\n",
              " 949.0,\n",
              " 950.0,\n",
              " 951.0,\n",
              " nan,\n",
              " 953.0,\n",
              " 954.0,\n",
              " nan,\n",
              " 956.0,\n",
              " 957.0,\n",
              " 958.0,\n",
              " 959.0,\n",
              " 332347.0,\n",
              " 961.0,\n",
              " 394178.0,\n",
              " 963.0,\n",
              " 964.0,\n",
              " 965.0,\n",
              " 966.0,\n",
              " 967.0,\n",
              " 968.0,\n",
              " 969.0,\n",
              " 962.0,\n",
              " 971.0,\n",
              " 972.0,\n",
              " 973.0,\n",
              " 974.0,\n",
              " 975.0,\n",
              " 976.0,\n",
              " 977.0,\n",
              " 394194.0,\n",
              " 979.0,\n",
              " 978.0,\n",
              " 981.0,\n",
              " 982.0,\n",
              " 983.0,\n",
              " 984.0,\n",
              " 985.0,\n",
              " 986.0,\n",
              " 980.0,\n",
              " 988.0,\n",
              " 989.0,\n",
              " 990.0,\n",
              " 991.0,\n",
              " 992.0,\n",
              " 993.0,\n",
              " 994.0,\n",
              " 995.0,\n",
              " 996.0,\n",
              " 997.0,\n",
              " 998.0,\n",
              " 999.0,\n",
              " 198.0,\n",
              " 1001.0,\n",
              " 1002.0,\n",
              " 1003.0,\n",
              " 1004.0,\n",
              " 1005.0,\n",
              " 1006.0,\n",
              " 1007.0,\n",
              " 1008.0,\n",
              " 1009.0,\n",
              " 1010.0,\n",
              " 1011.0,\n",
              " 1012.0,\n",
              " 1013.0,\n",
              " 1014.0,\n",
              " 1015.0,\n",
              " 1016.0,\n",
              " 1017.0,\n",
              " 1018.0,\n",
              " 1019.0,\n",
              " 1020.0,\n",
              " 394228.0,\n",
              " 1022.0,\n",
              " 1023.0,\n",
              " 1024.0,\n",
              " 1025.0,\n",
              " ...}"
            ]
          },
          "metadata": {},
          "execution_count": 20
        }
      ],
      "source": [
        "# Check the result - make sure it's fixed\n",
        "set(df['days_employed'])"
      ]
    },
    {
      "cell_type": "markdown",
      "metadata": {
        "id": "GxYNsy0UmIKD"
      },
      "source": [
        "[Let's now look at the client's age and whether there are any issues there. Again, think about what can data can be strange in this column, i.e. what cannot be someone's age.]"
      ]
    },
    {
      "cell_type": "code",
      "execution_count": 21,
      "metadata": {
        "scrolled": true,
        "id": "3PvH2RmCmIKD",
        "colab": {
          "base_uri": "https://localhost:8080/"
        },
        "outputId": "75310e6d-d1d2-48a7-c354-16f4bf331230"
      },
      "outputs": [
        {
          "output_type": "execute_result",
          "data": {
            "text/plain": [
              "{0,\n",
              " 19,\n",
              " 20,\n",
              " 21,\n",
              " 22,\n",
              " 23,\n",
              " 24,\n",
              " 25,\n",
              " 26,\n",
              " 27,\n",
              " 28,\n",
              " 29,\n",
              " 30,\n",
              " 31,\n",
              " 32,\n",
              " 33,\n",
              " 34,\n",
              " 35,\n",
              " 36,\n",
              " 37,\n",
              " 38,\n",
              " 39,\n",
              " 40,\n",
              " 41,\n",
              " 42,\n",
              " 43,\n",
              " 44,\n",
              " 45,\n",
              " 46,\n",
              " 47,\n",
              " 48,\n",
              " 49,\n",
              " 50,\n",
              " 51,\n",
              " 52,\n",
              " 53,\n",
              " 54,\n",
              " 55,\n",
              " 56,\n",
              " 57,\n",
              " 58,\n",
              " 59,\n",
              " 60,\n",
              " 61,\n",
              " 62,\n",
              " 63,\n",
              " 64,\n",
              " 65,\n",
              " 66,\n",
              " 67,\n",
              " 68,\n",
              " 69,\n",
              " 70,\n",
              " 71,\n",
              " 72,\n",
              " 73,\n",
              " 74,\n",
              " 75}"
            ]
          },
          "metadata": {},
          "execution_count": 21
        }
      ],
      "source": [
        "# Check the `dob_years` for suspicious values and count the percentage\n",
        "set(df['dob_years'])\n"
      ]
    },
    {
      "cell_type": "markdown",
      "metadata": {
        "id": "EdQaofYpmIKE"
      },
      "source": [
        "[Decide what you'll do with the problematic values and explain why.]"
      ]
    },
    {
      "cell_type": "code",
      "execution_count": 22,
      "metadata": {
        "id": "XjkbonYBmIKE"
      },
      "outputs": [],
      "source": [
        "# Address the issues in the `dob_years` column, if they exist\n",
        "\n",
        "df['dob_years'].replace([0],[int(df['dob_years'].mean())], inplace = True)"
      ]
    },
    {
      "cell_type": "code",
      "execution_count": 23,
      "metadata": {
        "id": "ZFRgHd2YmIKE",
        "colab": {
          "base_uri": "https://localhost:8080/"
        },
        "outputId": "fca1aaf0-9a14-4379-ec69-66f854a01455"
      },
      "outputs": [
        {
          "output_type": "execute_result",
          "data": {
            "text/plain": [
              "{19,\n",
              " 20,\n",
              " 21,\n",
              " 22,\n",
              " 23,\n",
              " 24,\n",
              " 25,\n",
              " 26,\n",
              " 27,\n",
              " 28,\n",
              " 29,\n",
              " 30,\n",
              " 31,\n",
              " 32,\n",
              " 33,\n",
              " 34,\n",
              " 35,\n",
              " 36,\n",
              " 37,\n",
              " 38,\n",
              " 39,\n",
              " 40,\n",
              " 41,\n",
              " 42,\n",
              " 43,\n",
              " 44,\n",
              " 45,\n",
              " 46,\n",
              " 47,\n",
              " 48,\n",
              " 49,\n",
              " 50,\n",
              " 51,\n",
              " 52,\n",
              " 53,\n",
              " 54,\n",
              " 55,\n",
              " 56,\n",
              " 57,\n",
              " 58,\n",
              " 59,\n",
              " 60,\n",
              " 61,\n",
              " 62,\n",
              " 63,\n",
              " 64,\n",
              " 65,\n",
              " 66,\n",
              " 67,\n",
              " 68,\n",
              " 69,\n",
              " 70,\n",
              " 71,\n",
              " 72,\n",
              " 73,\n",
              " 74,\n",
              " 75}"
            ]
          },
          "metadata": {},
          "execution_count": 23
        }
      ],
      "source": [
        "# Check the result - make sure it's fixed\n",
        "set(df['dob_years'])"
      ]
    },
    {
      "cell_type": "markdown",
      "metadata": {
        "id": "O2osTCWlmIKE"
      },
      "source": [
        "[Now let's check the `family_status` column. See what kind of values there are and what problems you may need to address.]"
      ]
    },
    {
      "cell_type": "code",
      "execution_count": 24,
      "metadata": {
        "id": "wEJrUI36mIKE",
        "colab": {
          "base_uri": "https://localhost:8080/"
        },
        "outputId": "8633485b-1b0b-4f63-84d4-2a4819ad3abb"
      },
      "outputs": [
        {
          "output_type": "execute_result",
          "data": {
            "text/plain": [
              "{'civil partnership', 'divorced', 'married', 'unmarried', 'widow / widower'}"
            ]
          },
          "metadata": {},
          "execution_count": 24
        }
      ],
      "source": [
        "# Let's see the values for the column\n",
        "\n",
        "set(df['family_status'])"
      ]
    },
    {
      "cell_type": "code",
      "execution_count": 25,
      "metadata": {
        "id": "0cIiZzNjmIKE"
      },
      "outputs": [],
      "source": [
        "# Address the problematic values in `family_status`, if they exist\n",
        "\n",
        "# there is no problem exist in the family_status column"
      ]
    },
    {
      "cell_type": "code",
      "execution_count": 26,
      "metadata": {
        "id": "RHzX--IMmIKE",
        "colab": {
          "base_uri": "https://localhost:8080/"
        },
        "outputId": "27e4be3d-2ae0-419b-b4df-2129bc410a17"
      },
      "outputs": [
        {
          "output_type": "execute_result",
          "data": {
            "text/plain": [
              "{'civil partnership', 'divorced', 'married', 'unmarried', 'widow / widower'}"
            ]
          },
          "metadata": {},
          "execution_count": 26
        }
      ],
      "source": [
        "# Check the result - make sure it's fixed\n",
        "set(df['family_status'])"
      ]
    },
    {
      "cell_type": "markdown",
      "metadata": {
        "id": "2oaKtbLXmIKF"
      },
      "source": [
        "[Now let's check the `gender` column. See what kind of values there are and what problems you may need to address]"
      ]
    },
    {
      "cell_type": "code",
      "execution_count": 27,
      "metadata": {
        "id": "TGOPd_DSmIKF",
        "colab": {
          "base_uri": "https://localhost:8080/"
        },
        "outputId": "f905eb5a-d164-4a93-d77d-3b3bf21c50ec"
      },
      "outputs": [
        {
          "output_type": "execute_result",
          "data": {
            "text/plain": [
              "{'F', 'M', 'XNA'}"
            ]
          },
          "metadata": {},
          "execution_count": 27
        }
      ],
      "source": [
        "# Let's see the values in the column\n",
        "set(df['gender'])"
      ]
    },
    {
      "cell_type": "code",
      "execution_count": 28,
      "metadata": {
        "id": "51xnWO3kmIKF"
      },
      "outputs": [],
      "source": [
        "# Address the problematic values, if they exist\n",
        "df = df[df.gender != 'XNA']"
      ]
    },
    {
      "cell_type": "code",
      "execution_count": 29,
      "metadata": {
        "id": "IvADb7IHmIKF",
        "colab": {
          "base_uri": "https://localhost:8080/"
        },
        "outputId": "9ff21ce2-41c8-4604-830a-deb998d45bba"
      },
      "outputs": [
        {
          "output_type": "execute_result",
          "data": {
            "text/plain": [
              "{'F', 'M'}"
            ]
          },
          "metadata": {},
          "execution_count": 29
        }
      ],
      "source": [
        "# Check the result - make sure it's fixed\n",
        "\n",
        "set(df['gender'])"
      ]
    },
    {
      "cell_type": "markdown",
      "metadata": {
        "id": "Ivtj0dNomIKF"
      },
      "source": [
        "[Now let's check the `income_type` column. See what kind of values there are and what problems you may need to address]"
      ]
    },
    {
      "cell_type": "code",
      "execution_count": 30,
      "metadata": {
        "id": "VYcOxU8gmIKF",
        "colab": {
          "base_uri": "https://localhost:8080/"
        },
        "outputId": "8190592d-31d2-4d0b-c8c6-effc8a83b24d"
      },
      "outputs": [
        {
          "output_type": "execute_result",
          "data": {
            "text/plain": [
              "{'business',\n",
              " 'civil servant',\n",
              " 'employee',\n",
              " 'entrepreneur',\n",
              " 'paternity / maternity leave',\n",
              " 'retiree',\n",
              " 'student',\n",
              " 'unemployed'}"
            ]
          },
          "metadata": {},
          "execution_count": 30
        }
      ],
      "source": [
        "# Let's see the values in the column\n",
        "set(df['income_type'])"
      ]
    },
    {
      "cell_type": "code",
      "execution_count": 31,
      "metadata": {
        "id": "lfPgKTe3mIKF"
      },
      "outputs": [],
      "source": [
        "# Address the problematic values, if they exist\n",
        "\n",
        "#there is no problem exist in the income_type column"
      ]
    },
    {
      "cell_type": "code",
      "execution_count": 32,
      "metadata": {
        "id": "JZ_Fm36dmIKF",
        "colab": {
          "base_uri": "https://localhost:8080/"
        },
        "outputId": "f1b0c506-f0b5-4376-da6c-7c1e96e63c41"
      },
      "outputs": [
        {
          "output_type": "execute_result",
          "data": {
            "text/plain": [
              "{'business',\n",
              " 'civil servant',\n",
              " 'employee',\n",
              " 'entrepreneur',\n",
              " 'paternity / maternity leave',\n",
              " 'retiree',\n",
              " 'student',\n",
              " 'unemployed'}"
            ]
          },
          "metadata": {},
          "execution_count": 32
        }
      ],
      "source": [
        "# Check the result - make sure it's fixed\n",
        "\n",
        "set(df['income_type'])"
      ]
    },
    {
      "cell_type": "markdown",
      "metadata": {
        "id": "DkwojhcLmIKF"
      },
      "source": [
        "[Now let's see if we have any duplicates in our data. If we do, you'll need to decide what you will do with them and explain why.]"
      ]
    },
    {
      "cell_type": "code",
      "execution_count": 33,
      "metadata": {
        "id": "w4lWyiw7mIKG",
        "colab": {
          "base_uri": "https://localhost:8080/",
          "height": 713
        },
        "outputId": "d893f813-de69-438c-e47b-8e8b3f534465"
      },
      "outputs": [
        {
          "output_type": "stream",
          "name": "stdout",
          "text": [
            "Duplicate Rows :  71\n"
          ]
        },
        {
          "output_type": "execute_result",
          "data": {
            "text/html": [
              "\n",
              "  <div id=\"df-6d18c01b-458a-4fe2-aa16-3a1df86a1b36\">\n",
              "    <div class=\"colab-df-container\">\n",
              "      <div>\n",
              "<style scoped>\n",
              "    .dataframe tbody tr th:only-of-type {\n",
              "        vertical-align: middle;\n",
              "    }\n",
              "\n",
              "    .dataframe tbody tr th {\n",
              "        vertical-align: top;\n",
              "    }\n",
              "\n",
              "    .dataframe thead th {\n",
              "        text-align: right;\n",
              "    }\n",
              "</style>\n",
              "<table border=\"1\" class=\"dataframe\">\n",
              "  <thead>\n",
              "    <tr style=\"text-align: right;\">\n",
              "      <th></th>\n",
              "      <th>children</th>\n",
              "      <th>days_employed</th>\n",
              "      <th>dob_years</th>\n",
              "      <th>education</th>\n",
              "      <th>education_id</th>\n",
              "      <th>family_status</th>\n",
              "      <th>family_status_id</th>\n",
              "      <th>gender</th>\n",
              "      <th>income_type</th>\n",
              "      <th>debt</th>\n",
              "      <th>total_income</th>\n",
              "      <th>purpose</th>\n",
              "    </tr>\n",
              "  </thead>\n",
              "  <tbody>\n",
              "    <tr>\n",
              "      <th>2849</th>\n",
              "      <td>0</td>\n",
              "      <td>NaN</td>\n",
              "      <td>41</td>\n",
              "      <td>Secondary Education</td>\n",
              "      <td>1</td>\n",
              "      <td>married</td>\n",
              "      <td>0</td>\n",
              "      <td>F</td>\n",
              "      <td>employee</td>\n",
              "      <td>0</td>\n",
              "      <td>NaN</td>\n",
              "      <td>purchase of the house for my family</td>\n",
              "    </tr>\n",
              "    <tr>\n",
              "      <th>3290</th>\n",
              "      <td>0</td>\n",
              "      <td>NaN</td>\n",
              "      <td>58</td>\n",
              "      <td>Secondary Education</td>\n",
              "      <td>1</td>\n",
              "      <td>civil partnership</td>\n",
              "      <td>1</td>\n",
              "      <td>F</td>\n",
              "      <td>retiree</td>\n",
              "      <td>0</td>\n",
              "      <td>NaN</td>\n",
              "      <td>to have a wedding</td>\n",
              "    </tr>\n",
              "    <tr>\n",
              "      <th>4182</th>\n",
              "      <td>1</td>\n",
              "      <td>NaN</td>\n",
              "      <td>34</td>\n",
              "      <td>Bachelor's Degree</td>\n",
              "      <td>0</td>\n",
              "      <td>civil partnership</td>\n",
              "      <td>1</td>\n",
              "      <td>F</td>\n",
              "      <td>employee</td>\n",
              "      <td>0</td>\n",
              "      <td>NaN</td>\n",
              "      <td>wedding ceremony</td>\n",
              "    </tr>\n",
              "    <tr>\n",
              "      <th>4851</th>\n",
              "      <td>0</td>\n",
              "      <td>NaN</td>\n",
              "      <td>60</td>\n",
              "      <td>Secondary Education</td>\n",
              "      <td>1</td>\n",
              "      <td>civil partnership</td>\n",
              "      <td>1</td>\n",
              "      <td>F</td>\n",
              "      <td>retiree</td>\n",
              "      <td>0</td>\n",
              "      <td>NaN</td>\n",
              "      <td>wedding ceremony</td>\n",
              "    </tr>\n",
              "    <tr>\n",
              "      <th>5557</th>\n",
              "      <td>0</td>\n",
              "      <td>NaN</td>\n",
              "      <td>58</td>\n",
              "      <td>Secondary Education</td>\n",
              "      <td>1</td>\n",
              "      <td>civil partnership</td>\n",
              "      <td>1</td>\n",
              "      <td>F</td>\n",
              "      <td>retiree</td>\n",
              "      <td>0</td>\n",
              "      <td>NaN</td>\n",
              "      <td>to have a wedding</td>\n",
              "    </tr>\n",
              "    <tr>\n",
              "      <th>...</th>\n",
              "      <td>...</td>\n",
              "      <td>...</td>\n",
              "      <td>...</td>\n",
              "      <td>...</td>\n",
              "      <td>...</td>\n",
              "      <td>...</td>\n",
              "      <td>...</td>\n",
              "      <td>...</td>\n",
              "      <td>...</td>\n",
              "      <td>...</td>\n",
              "      <td>...</td>\n",
              "      <td>...</td>\n",
              "    </tr>\n",
              "    <tr>\n",
              "      <th>20702</th>\n",
              "      <td>0</td>\n",
              "      <td>NaN</td>\n",
              "      <td>64</td>\n",
              "      <td>Secondary Education</td>\n",
              "      <td>1</td>\n",
              "      <td>married</td>\n",
              "      <td>0</td>\n",
              "      <td>F</td>\n",
              "      <td>retiree</td>\n",
              "      <td>0</td>\n",
              "      <td>NaN</td>\n",
              "      <td>supplementary education</td>\n",
              "    </tr>\n",
              "    <tr>\n",
              "      <th>21032</th>\n",
              "      <td>0</td>\n",
              "      <td>NaN</td>\n",
              "      <td>60</td>\n",
              "      <td>Secondary Education</td>\n",
              "      <td>1</td>\n",
              "      <td>married</td>\n",
              "      <td>0</td>\n",
              "      <td>F</td>\n",
              "      <td>retiree</td>\n",
              "      <td>0</td>\n",
              "      <td>NaN</td>\n",
              "      <td>to become educated</td>\n",
              "    </tr>\n",
              "    <tr>\n",
              "      <th>21132</th>\n",
              "      <td>0</td>\n",
              "      <td>NaN</td>\n",
              "      <td>47</td>\n",
              "      <td>Secondary Education</td>\n",
              "      <td>1</td>\n",
              "      <td>married</td>\n",
              "      <td>0</td>\n",
              "      <td>F</td>\n",
              "      <td>employee</td>\n",
              "      <td>0</td>\n",
              "      <td>NaN</td>\n",
              "      <td>housing renovation</td>\n",
              "    </tr>\n",
              "    <tr>\n",
              "      <th>21281</th>\n",
              "      <td>1</td>\n",
              "      <td>NaN</td>\n",
              "      <td>30</td>\n",
              "      <td>Bachelor's Degree</td>\n",
              "      <td>0</td>\n",
              "      <td>married</td>\n",
              "      <td>0</td>\n",
              "      <td>F</td>\n",
              "      <td>employee</td>\n",
              "      <td>0</td>\n",
              "      <td>NaN</td>\n",
              "      <td>buy commercial real estate</td>\n",
              "    </tr>\n",
              "    <tr>\n",
              "      <th>21415</th>\n",
              "      <td>0</td>\n",
              "      <td>NaN</td>\n",
              "      <td>54</td>\n",
              "      <td>Secondary Education</td>\n",
              "      <td>1</td>\n",
              "      <td>married</td>\n",
              "      <td>0</td>\n",
              "      <td>F</td>\n",
              "      <td>retiree</td>\n",
              "      <td>0</td>\n",
              "      <td>NaN</td>\n",
              "      <td>housing transactions</td>\n",
              "    </tr>\n",
              "  </tbody>\n",
              "</table>\n",
              "<p>71 rows × 12 columns</p>\n",
              "</div>\n",
              "      <button class=\"colab-df-convert\" onclick=\"convertToInteractive('df-6d18c01b-458a-4fe2-aa16-3a1df86a1b36')\"\n",
              "              title=\"Convert this dataframe to an interactive table.\"\n",
              "              style=\"display:none;\">\n",
              "        \n",
              "  <svg xmlns=\"http://www.w3.org/2000/svg\" height=\"24px\"viewBox=\"0 0 24 24\"\n",
              "       width=\"24px\">\n",
              "    <path d=\"M0 0h24v24H0V0z\" fill=\"none\"/>\n",
              "    <path d=\"M18.56 5.44l.94 2.06.94-2.06 2.06-.94-2.06-.94-.94-2.06-.94 2.06-2.06.94zm-11 1L8.5 8.5l.94-2.06 2.06-.94-2.06-.94L8.5 2.5l-.94 2.06-2.06.94zm10 10l.94 2.06.94-2.06 2.06-.94-2.06-.94-.94-2.06-.94 2.06-2.06.94z\"/><path d=\"M17.41 7.96l-1.37-1.37c-.4-.4-.92-.59-1.43-.59-.52 0-1.04.2-1.43.59L10.3 9.45l-7.72 7.72c-.78.78-.78 2.05 0 2.83L4 21.41c.39.39.9.59 1.41.59.51 0 1.02-.2 1.41-.59l7.78-7.78 2.81-2.81c.8-.78.8-2.07 0-2.86zM5.41 20L4 18.59l7.72-7.72 1.47 1.35L5.41 20z\"/>\n",
              "  </svg>\n",
              "      </button>\n",
              "      \n",
              "  <style>\n",
              "    .colab-df-container {\n",
              "      display:flex;\n",
              "      flex-wrap:wrap;\n",
              "      gap: 12px;\n",
              "    }\n",
              "\n",
              "    .colab-df-convert {\n",
              "      background-color: #E8F0FE;\n",
              "      border: none;\n",
              "      border-radius: 50%;\n",
              "      cursor: pointer;\n",
              "      display: none;\n",
              "      fill: #1967D2;\n",
              "      height: 32px;\n",
              "      padding: 0 0 0 0;\n",
              "      width: 32px;\n",
              "    }\n",
              "\n",
              "    .colab-df-convert:hover {\n",
              "      background-color: #E2EBFA;\n",
              "      box-shadow: 0px 1px 2px rgba(60, 64, 67, 0.3), 0px 1px 3px 1px rgba(60, 64, 67, 0.15);\n",
              "      fill: #174EA6;\n",
              "    }\n",
              "\n",
              "    [theme=dark] .colab-df-convert {\n",
              "      background-color: #3B4455;\n",
              "      fill: #D2E3FC;\n",
              "    }\n",
              "\n",
              "    [theme=dark] .colab-df-convert:hover {\n",
              "      background-color: #434B5C;\n",
              "      box-shadow: 0px 1px 3px 1px rgba(0, 0, 0, 0.15);\n",
              "      filter: drop-shadow(0px 1px 2px rgba(0, 0, 0, 0.3));\n",
              "      fill: #FFFFFF;\n",
              "    }\n",
              "  </style>\n",
              "\n",
              "      <script>\n",
              "        const buttonEl =\n",
              "          document.querySelector('#df-6d18c01b-458a-4fe2-aa16-3a1df86a1b36 button.colab-df-convert');\n",
              "        buttonEl.style.display =\n",
              "          google.colab.kernel.accessAllowed ? 'block' : 'none';\n",
              "\n",
              "        async function convertToInteractive(key) {\n",
              "          const element = document.querySelector('#df-6d18c01b-458a-4fe2-aa16-3a1df86a1b36');\n",
              "          const dataTable =\n",
              "            await google.colab.kernel.invokeFunction('convertToInteractive',\n",
              "                                                     [key], {});\n",
              "          if (!dataTable) return;\n",
              "\n",
              "          const docLinkHtml = 'Like what you see? Visit the ' +\n",
              "            '<a target=\"_blank\" href=https://colab.research.google.com/notebooks/data_table.ipynb>data table notebook</a>'\n",
              "            + ' to learn more about interactive tables.';\n",
              "          element.innerHTML = '';\n",
              "          dataTable['output_type'] = 'display_data';\n",
              "          await google.colab.output.renderOutput(dataTable, element);\n",
              "          const docLink = document.createElement('div');\n",
              "          docLink.innerHTML = docLinkHtml;\n",
              "          element.appendChild(docLink);\n",
              "        }\n",
              "      </script>\n",
              "    </div>\n",
              "  </div>\n",
              "  "
            ],
            "text/plain": [
              "       children  ...                              purpose\n",
              "2849          0  ...  purchase of the house for my family\n",
              "3290          0  ...                    to have a wedding\n",
              "4182          1  ...                     wedding ceremony\n",
              "4851          0  ...                     wedding ceremony\n",
              "5557          0  ...                    to have a wedding\n",
              "...         ...  ...                                  ...\n",
              "20702         0  ...              supplementary education\n",
              "21032         0  ...                   to become educated\n",
              "21132         0  ...                   housing renovation\n",
              "21281         1  ...           buy commercial real estate\n",
              "21415         0  ...                 housing transactions\n",
              "\n",
              "[71 rows x 12 columns]"
            ]
          },
          "metadata": {},
          "execution_count": 33
        }
      ],
      "source": [
        "# Checking duplicates\n",
        "\n",
        "duplicate = df[df.duplicated()]\n",
        "print(\"Duplicate Rows : \",len(duplicate))\n",
        "duplicate"
      ]
    },
    {
      "cell_type": "code",
      "execution_count": 34,
      "metadata": {
        "id": "aQBNGW0EmIKG"
      },
      "outputs": [],
      "source": [
        "# Address the duplicates, if they exist\n",
        "df.drop_duplicates(inplace = True)\n"
      ]
    },
    {
      "cell_type": "code",
      "execution_count": 35,
      "metadata": {
        "id": "EYE1DabYmIKG",
        "colab": {
          "base_uri": "https://localhost:8080/"
        },
        "outputId": "7b05cfdb-41fb-416c-fca1-2ac1cbe75084"
      },
      "outputs": [
        {
          "output_type": "stream",
          "name": "stdout",
          "text": [
            "Duplicate Rows :  0\n"
          ]
        }
      ],
      "source": [
        "# Last check whether we have any duplicates\n",
        "duplicate = df[df.duplicated()]\n",
        "print(\"Duplicate Rows : \", len(duplicate))\n"
      ]
    },
    {
      "cell_type": "code",
      "execution_count": 36,
      "metadata": {
        "id": "zjk4kW75mIKG",
        "colab": {
          "base_uri": "https://localhost:8080/"
        },
        "outputId": "b254e0f6-d4f0-43e9-bde9-89e629b00fca"
      },
      "outputs": [
        {
          "output_type": "execute_result",
          "data": {
            "text/plain": [
              "21330"
            ]
          },
          "metadata": {},
          "execution_count": 36
        }
      ],
      "source": [
        "# Check the size of the dataset that you now have after your first manipulations with it\n",
        "len(df)"
      ]
    },
    {
      "cell_type": "markdown",
      "metadata": {
        "id": "M_-DwP7zmIKG"
      },
      "source": [
        "[Describe your new dataset: briefly say what's changed and what's the percentage of the changes, if there were any.]\n"
      ]
    },
    {
      "cell_type": "markdown",
      "metadata": {
        "id": "Ht1GZ78JmIKG"
      },
      "source": [
        "# Working with missing values"
      ]
    },
    {
      "cell_type": "markdown",
      "metadata": {
        "id": "5CJK1Q8imIKG"
      },
      "source": [
        "[To speed up working with some data, you may want to work with dictionaries for some values, where IDs are provided. Explain why and which dictionaries you will work with.]"
      ]
    },
    {
      "cell_type": "code",
      "execution_count": 37,
      "metadata": {
        "id": "NfCVaSQPmIKG",
        "colab": {
          "base_uri": "https://localhost:8080/"
        },
        "outputId": "5aac86a8-892c-47b8-85eb-47d126b640f0"
      },
      "outputs": [
        {
          "output_type": "stream",
          "name": "stdout",
          "text": [
            "{0: \"Bachelor's Degree\", 1: 'Secondary Education', 2: 'Some College', 3: 'Primary Education', 4: 'Graduate Degree'}\n",
            "{0: 'married', 1: 'civil partnership', 2: 'widow / widower', 3: 'divorced', 4: 'unmarried'}\n"
          ]
        }
      ],
      "source": [
        "# Find the dictionaries\n",
        "dictionary_education = {}\n",
        "for id in list(set(df['education_id'])):\n",
        "    education = list(set(df[df['education_id'] == id]['education']))[0]\n",
        "    dictionary_education[id] = education\n",
        "\n",
        "dictionary_family = {}\n",
        "for id in list(set(df['family_status_id'])):\n",
        "    family_status = list(set(df[df['family_status_id'] == id]['family_status']))[0]\n",
        "    dictionary_family[id] = family_status\n",
        "\n",
        "print(dictionary_education)\n",
        "\n",
        "print(dictionary_family)"
      ]
    },
    {
      "cell_type": "markdown",
      "metadata": {
        "id": "OR8Ubxf2mIKH"
      },
      "source": [
        "### Restoring missing values in `total_income`"
      ]
    },
    {
      "cell_type": "markdown",
      "metadata": {
        "id": "_6R1JaPnmIKH"
      },
      "source": [
        "[Briefly state which column(s) have values missing that you need to address. Explain how you will fix them.] - days_employed and total_income are the two columns that have missing values.\n",
        "\n",
        "\n",
        "[Start with addressing total income missing values. Create and age category for clients. Create a new column with the age category. This strategy can help with calculating values for the total income.] \n"
      ]
    },
    {
      "cell_type": "code",
      "execution_count": 38,
      "metadata": {
        "id": "_ebo3hMPmIKH"
      },
      "outputs": [],
      "source": [
        "# Let's write a function that calculates the age category\n",
        "def age_cat(age):\n",
        "    if  age <= 25:\n",
        "        return 'less than 25'\n",
        "    if 25 < age <= 35:\n",
        "        return '25-35'\n",
        "    if 35 < age <= 45:\n",
        "        return '35-45'\n",
        "    if 45 < age <= 55:\n",
        "        return '45-55'\n",
        "    if 55 < age <= 65:\n",
        "        return '55-65'\n",
        "    if age > 65:\n",
        "        return 'above 65'\n",
        "  \n",
        "\n",
        "\n",
        "    "
      ]
    },
    {
      "cell_type": "code",
      "execution_count": 39,
      "metadata": {
        "id": "f66TtqbQmIKH",
        "colab": {
          "base_uri": "https://localhost:8080/"
        },
        "outputId": "266f74de-f7e7-4fd7-9117-33564280a854"
      },
      "outputs": [
        {
          "output_type": "stream",
          "name": "stdout",
          "text": [
            "less than 25\n",
            "35-45\n",
            "above 65\n"
          ]
        }
      ],
      "source": [
        "# Test if the function works\n",
        "print(age_cat(23))\n",
        "print(age_cat(43))\n",
        "print(age_cat(67))"
      ]
    },
    {
      "cell_type": "code",
      "execution_count": 40,
      "metadata": {
        "id": "0CglfzDDmIKH"
      },
      "outputs": [],
      "source": [
        "# Creating new column based on function\n",
        "df['age category'] = df['dob_years'].apply(lambda x: age_cat(x))\n"
      ]
    },
    {
      "cell_type": "code",
      "execution_count": 41,
      "metadata": {
        "id": "7RmsATEnmIKH",
        "colab": {
          "base_uri": "https://localhost:8080/",
          "height": 423
        },
        "outputId": "06837f63-557d-4f4a-c487-6bfa4d67ebf5"
      },
      "outputs": [
        {
          "output_type": "execute_result",
          "data": {
            "text/html": [
              "\n",
              "  <div id=\"df-c6db08d4-b64b-4643-8455-51a41b59934c\">\n",
              "    <div class=\"colab-df-container\">\n",
              "      <div>\n",
              "<style scoped>\n",
              "    .dataframe tbody tr th:only-of-type {\n",
              "        vertical-align: middle;\n",
              "    }\n",
              "\n",
              "    .dataframe tbody tr th {\n",
              "        vertical-align: top;\n",
              "    }\n",
              "\n",
              "    .dataframe thead th {\n",
              "        text-align: right;\n",
              "    }\n",
              "</style>\n",
              "<table border=\"1\" class=\"dataframe\">\n",
              "  <thead>\n",
              "    <tr style=\"text-align: right;\">\n",
              "      <th></th>\n",
              "      <th>dob_years</th>\n",
              "      <th>age category</th>\n",
              "    </tr>\n",
              "  </thead>\n",
              "  <tbody>\n",
              "    <tr>\n",
              "      <th>0</th>\n",
              "      <td>42</td>\n",
              "      <td>35-45</td>\n",
              "    </tr>\n",
              "    <tr>\n",
              "      <th>1</th>\n",
              "      <td>36</td>\n",
              "      <td>35-45</td>\n",
              "    </tr>\n",
              "    <tr>\n",
              "      <th>2</th>\n",
              "      <td>33</td>\n",
              "      <td>25-35</td>\n",
              "    </tr>\n",
              "    <tr>\n",
              "      <th>3</th>\n",
              "      <td>32</td>\n",
              "      <td>25-35</td>\n",
              "    </tr>\n",
              "    <tr>\n",
              "      <th>4</th>\n",
              "      <td>53</td>\n",
              "      <td>45-55</td>\n",
              "    </tr>\n",
              "    <tr>\n",
              "      <th>...</th>\n",
              "      <td>...</td>\n",
              "      <td>...</td>\n",
              "    </tr>\n",
              "    <tr>\n",
              "      <th>21520</th>\n",
              "      <td>43</td>\n",
              "      <td>35-45</td>\n",
              "    </tr>\n",
              "    <tr>\n",
              "      <th>21521</th>\n",
              "      <td>67</td>\n",
              "      <td>above 65</td>\n",
              "    </tr>\n",
              "    <tr>\n",
              "      <th>21522</th>\n",
              "      <td>38</td>\n",
              "      <td>35-45</td>\n",
              "    </tr>\n",
              "    <tr>\n",
              "      <th>21523</th>\n",
              "      <td>38</td>\n",
              "      <td>35-45</td>\n",
              "    </tr>\n",
              "    <tr>\n",
              "      <th>21524</th>\n",
              "      <td>40</td>\n",
              "      <td>35-45</td>\n",
              "    </tr>\n",
              "  </tbody>\n",
              "</table>\n",
              "<p>21330 rows × 2 columns</p>\n",
              "</div>\n",
              "      <button class=\"colab-df-convert\" onclick=\"convertToInteractive('df-c6db08d4-b64b-4643-8455-51a41b59934c')\"\n",
              "              title=\"Convert this dataframe to an interactive table.\"\n",
              "              style=\"display:none;\">\n",
              "        \n",
              "  <svg xmlns=\"http://www.w3.org/2000/svg\" height=\"24px\"viewBox=\"0 0 24 24\"\n",
              "       width=\"24px\">\n",
              "    <path d=\"M0 0h24v24H0V0z\" fill=\"none\"/>\n",
              "    <path d=\"M18.56 5.44l.94 2.06.94-2.06 2.06-.94-2.06-.94-.94-2.06-.94 2.06-2.06.94zm-11 1L8.5 8.5l.94-2.06 2.06-.94-2.06-.94L8.5 2.5l-.94 2.06-2.06.94zm10 10l.94 2.06.94-2.06 2.06-.94-2.06-.94-.94-2.06-.94 2.06-2.06.94z\"/><path d=\"M17.41 7.96l-1.37-1.37c-.4-.4-.92-.59-1.43-.59-.52 0-1.04.2-1.43.59L10.3 9.45l-7.72 7.72c-.78.78-.78 2.05 0 2.83L4 21.41c.39.39.9.59 1.41.59.51 0 1.02-.2 1.41-.59l7.78-7.78 2.81-2.81c.8-.78.8-2.07 0-2.86zM5.41 20L4 18.59l7.72-7.72 1.47 1.35L5.41 20z\"/>\n",
              "  </svg>\n",
              "      </button>\n",
              "      \n",
              "  <style>\n",
              "    .colab-df-container {\n",
              "      display:flex;\n",
              "      flex-wrap:wrap;\n",
              "      gap: 12px;\n",
              "    }\n",
              "\n",
              "    .colab-df-convert {\n",
              "      background-color: #E8F0FE;\n",
              "      border: none;\n",
              "      border-radius: 50%;\n",
              "      cursor: pointer;\n",
              "      display: none;\n",
              "      fill: #1967D2;\n",
              "      height: 32px;\n",
              "      padding: 0 0 0 0;\n",
              "      width: 32px;\n",
              "    }\n",
              "\n",
              "    .colab-df-convert:hover {\n",
              "      background-color: #E2EBFA;\n",
              "      box-shadow: 0px 1px 2px rgba(60, 64, 67, 0.3), 0px 1px 3px 1px rgba(60, 64, 67, 0.15);\n",
              "      fill: #174EA6;\n",
              "    }\n",
              "\n",
              "    [theme=dark] .colab-df-convert {\n",
              "      background-color: #3B4455;\n",
              "      fill: #D2E3FC;\n",
              "    }\n",
              "\n",
              "    [theme=dark] .colab-df-convert:hover {\n",
              "      background-color: #434B5C;\n",
              "      box-shadow: 0px 1px 3px 1px rgba(0, 0, 0, 0.15);\n",
              "      filter: drop-shadow(0px 1px 2px rgba(0, 0, 0, 0.3));\n",
              "      fill: #FFFFFF;\n",
              "    }\n",
              "  </style>\n",
              "\n",
              "      <script>\n",
              "        const buttonEl =\n",
              "          document.querySelector('#df-c6db08d4-b64b-4643-8455-51a41b59934c button.colab-df-convert');\n",
              "        buttonEl.style.display =\n",
              "          google.colab.kernel.accessAllowed ? 'block' : 'none';\n",
              "\n",
              "        async function convertToInteractive(key) {\n",
              "          const element = document.querySelector('#df-c6db08d4-b64b-4643-8455-51a41b59934c');\n",
              "          const dataTable =\n",
              "            await google.colab.kernel.invokeFunction('convertToInteractive',\n",
              "                                                     [key], {});\n",
              "          if (!dataTable) return;\n",
              "\n",
              "          const docLinkHtml = 'Like what you see? Visit the ' +\n",
              "            '<a target=\"_blank\" href=https://colab.research.google.com/notebooks/data_table.ipynb>data table notebook</a>'\n",
              "            + ' to learn more about interactive tables.';\n",
              "          element.innerHTML = '';\n",
              "          dataTable['output_type'] = 'display_data';\n",
              "          await google.colab.output.renderOutput(dataTable, element);\n",
              "          const docLink = document.createElement('div');\n",
              "          docLink.innerHTML = docLinkHtml;\n",
              "          element.appendChild(docLink);\n",
              "        }\n",
              "      </script>\n",
              "    </div>\n",
              "  </div>\n",
              "  "
            ],
            "text/plain": [
              "       dob_years age category\n",
              "0             42        35-45\n",
              "1             36        35-45\n",
              "2             33        25-35\n",
              "3             32        25-35\n",
              "4             53        45-55\n",
              "...          ...          ...\n",
              "21520         43        35-45\n",
              "21521         67     above 65\n",
              "21522         38        35-45\n",
              "21523         38        35-45\n",
              "21524         40        35-45\n",
              "\n",
              "[21330 rows x 2 columns]"
            ]
          },
          "metadata": {},
          "execution_count": 41
        }
      ],
      "source": [
        "# Checking how values in the new column\n",
        "\n",
        "df[['dob_years','age category']]"
      ]
    },
    {
      "cell_type": "markdown",
      "metadata": {
        "id": "l7evlflEmIKH"
      },
      "source": [
        "[Think about the factors on which income usually depends. Eventually, you will want to find out whether you should use mean or median values for replacing missing values. To make this decision you will probably want to look at the distribution of the factors you identified as impacting one's income.]"
      ]
    },
    {
      "cell_type": "markdown",
      "metadata": {
        "id": "dUQhEIFamIKH"
      },
      "source": [
        "[Create a table that only has data without missing values. This data will be used to restore the missing values.]"
      ]
    },
    {
      "cell_type": "code",
      "execution_count": 42,
      "metadata": {
        "id": "5xf0phBnmIKH",
        "colab": {
          "base_uri": "https://localhost:8080/",
          "height": 374
        },
        "outputId": "f4007907-8ca3-4f83-dd08-1beb4e1bb5a3"
      },
      "outputs": [
        {
          "output_type": "execute_result",
          "data": {
            "text/html": [
              "\n",
              "  <div id=\"df-2b6c6b7e-9df9-4268-8ecc-ad54f8cb6387\">\n",
              "    <div class=\"colab-df-container\">\n",
              "      <div>\n",
              "<style scoped>\n",
              "    .dataframe tbody tr th:only-of-type {\n",
              "        vertical-align: middle;\n",
              "    }\n",
              "\n",
              "    .dataframe tbody tr th {\n",
              "        vertical-align: top;\n",
              "    }\n",
              "\n",
              "    .dataframe thead th {\n",
              "        text-align: right;\n",
              "    }\n",
              "</style>\n",
              "<table border=\"1\" class=\"dataframe\">\n",
              "  <thead>\n",
              "    <tr style=\"text-align: right;\">\n",
              "      <th></th>\n",
              "      <th>children</th>\n",
              "      <th>days_employed</th>\n",
              "      <th>dob_years</th>\n",
              "      <th>education</th>\n",
              "      <th>education_id</th>\n",
              "      <th>family_status</th>\n",
              "      <th>family_status_id</th>\n",
              "      <th>gender</th>\n",
              "      <th>income_type</th>\n",
              "      <th>debt</th>\n",
              "      <th>total_income</th>\n",
              "      <th>purpose</th>\n",
              "      <th>age category</th>\n",
              "    </tr>\n",
              "  </thead>\n",
              "  <tbody>\n",
              "    <tr>\n",
              "      <th>0</th>\n",
              "      <td>1</td>\n",
              "      <td>8437.0</td>\n",
              "      <td>42</td>\n",
              "      <td>Bachelor's Degree</td>\n",
              "      <td>0</td>\n",
              "      <td>married</td>\n",
              "      <td>0</td>\n",
              "      <td>F</td>\n",
              "      <td>employee</td>\n",
              "      <td>0</td>\n",
              "      <td>40620.102</td>\n",
              "      <td>purchase of the house</td>\n",
              "      <td>35-45</td>\n",
              "    </tr>\n",
              "    <tr>\n",
              "      <th>1</th>\n",
              "      <td>1</td>\n",
              "      <td>4024.0</td>\n",
              "      <td>36</td>\n",
              "      <td>Secondary Education</td>\n",
              "      <td>1</td>\n",
              "      <td>married</td>\n",
              "      <td>0</td>\n",
              "      <td>F</td>\n",
              "      <td>employee</td>\n",
              "      <td>0</td>\n",
              "      <td>17932.802</td>\n",
              "      <td>car purchase</td>\n",
              "      <td>35-45</td>\n",
              "    </tr>\n",
              "    <tr>\n",
              "      <th>2</th>\n",
              "      <td>0</td>\n",
              "      <td>5623.0</td>\n",
              "      <td>33</td>\n",
              "      <td>Secondary Education</td>\n",
              "      <td>1</td>\n",
              "      <td>married</td>\n",
              "      <td>0</td>\n",
              "      <td>M</td>\n",
              "      <td>employee</td>\n",
              "      <td>0</td>\n",
              "      <td>23341.752</td>\n",
              "      <td>purchase of the house</td>\n",
              "      <td>25-35</td>\n",
              "    </tr>\n",
              "    <tr>\n",
              "      <th>3</th>\n",
              "      <td>3</td>\n",
              "      <td>4124.0</td>\n",
              "      <td>32</td>\n",
              "      <td>Secondary Education</td>\n",
              "      <td>1</td>\n",
              "      <td>married</td>\n",
              "      <td>0</td>\n",
              "      <td>M</td>\n",
              "      <td>employee</td>\n",
              "      <td>0</td>\n",
              "      <td>42820.568</td>\n",
              "      <td>supplementary education</td>\n",
              "      <td>25-35</td>\n",
              "    </tr>\n",
              "    <tr>\n",
              "      <th>4</th>\n",
              "      <td>0</td>\n",
              "      <td>340266.0</td>\n",
              "      <td>53</td>\n",
              "      <td>Secondary Education</td>\n",
              "      <td>1</td>\n",
              "      <td>civil partnership</td>\n",
              "      <td>1</td>\n",
              "      <td>F</td>\n",
              "      <td>retiree</td>\n",
              "      <td>0</td>\n",
              "      <td>25378.572</td>\n",
              "      <td>to have a wedding</td>\n",
              "      <td>45-55</td>\n",
              "    </tr>\n",
              "  </tbody>\n",
              "</table>\n",
              "</div>\n",
              "      <button class=\"colab-df-convert\" onclick=\"convertToInteractive('df-2b6c6b7e-9df9-4268-8ecc-ad54f8cb6387')\"\n",
              "              title=\"Convert this dataframe to an interactive table.\"\n",
              "              style=\"display:none;\">\n",
              "        \n",
              "  <svg xmlns=\"http://www.w3.org/2000/svg\" height=\"24px\"viewBox=\"0 0 24 24\"\n",
              "       width=\"24px\">\n",
              "    <path d=\"M0 0h24v24H0V0z\" fill=\"none\"/>\n",
              "    <path d=\"M18.56 5.44l.94 2.06.94-2.06 2.06-.94-2.06-.94-.94-2.06-.94 2.06-2.06.94zm-11 1L8.5 8.5l.94-2.06 2.06-.94-2.06-.94L8.5 2.5l-.94 2.06-2.06.94zm10 10l.94 2.06.94-2.06 2.06-.94-2.06-.94-.94-2.06-.94 2.06-2.06.94z\"/><path d=\"M17.41 7.96l-1.37-1.37c-.4-.4-.92-.59-1.43-.59-.52 0-1.04.2-1.43.59L10.3 9.45l-7.72 7.72c-.78.78-.78 2.05 0 2.83L4 21.41c.39.39.9.59 1.41.59.51 0 1.02-.2 1.41-.59l7.78-7.78 2.81-2.81c.8-.78.8-2.07 0-2.86zM5.41 20L4 18.59l7.72-7.72 1.47 1.35L5.41 20z\"/>\n",
              "  </svg>\n",
              "      </button>\n",
              "      \n",
              "  <style>\n",
              "    .colab-df-container {\n",
              "      display:flex;\n",
              "      flex-wrap:wrap;\n",
              "      gap: 12px;\n",
              "    }\n",
              "\n",
              "    .colab-df-convert {\n",
              "      background-color: #E8F0FE;\n",
              "      border: none;\n",
              "      border-radius: 50%;\n",
              "      cursor: pointer;\n",
              "      display: none;\n",
              "      fill: #1967D2;\n",
              "      height: 32px;\n",
              "      padding: 0 0 0 0;\n",
              "      width: 32px;\n",
              "    }\n",
              "\n",
              "    .colab-df-convert:hover {\n",
              "      background-color: #E2EBFA;\n",
              "      box-shadow: 0px 1px 2px rgba(60, 64, 67, 0.3), 0px 1px 3px 1px rgba(60, 64, 67, 0.15);\n",
              "      fill: #174EA6;\n",
              "    }\n",
              "\n",
              "    [theme=dark] .colab-df-convert {\n",
              "      background-color: #3B4455;\n",
              "      fill: #D2E3FC;\n",
              "    }\n",
              "\n",
              "    [theme=dark] .colab-df-convert:hover {\n",
              "      background-color: #434B5C;\n",
              "      box-shadow: 0px 1px 3px 1px rgba(0, 0, 0, 0.15);\n",
              "      filter: drop-shadow(0px 1px 2px rgba(0, 0, 0, 0.3));\n",
              "      fill: #FFFFFF;\n",
              "    }\n",
              "  </style>\n",
              "\n",
              "      <script>\n",
              "        const buttonEl =\n",
              "          document.querySelector('#df-2b6c6b7e-9df9-4268-8ecc-ad54f8cb6387 button.colab-df-convert');\n",
              "        buttonEl.style.display =\n",
              "          google.colab.kernel.accessAllowed ? 'block' : 'none';\n",
              "\n",
              "        async function convertToInteractive(key) {\n",
              "          const element = document.querySelector('#df-2b6c6b7e-9df9-4268-8ecc-ad54f8cb6387');\n",
              "          const dataTable =\n",
              "            await google.colab.kernel.invokeFunction('convertToInteractive',\n",
              "                                                     [key], {});\n",
              "          if (!dataTable) return;\n",
              "\n",
              "          const docLinkHtml = 'Like what you see? Visit the ' +\n",
              "            '<a target=\"_blank\" href=https://colab.research.google.com/notebooks/data_table.ipynb>data table notebook</a>'\n",
              "            + ' to learn more about interactive tables.';\n",
              "          element.innerHTML = '';\n",
              "          dataTable['output_type'] = 'display_data';\n",
              "          await google.colab.output.renderOutput(dataTable, element);\n",
              "          const docLink = document.createElement('div');\n",
              "          docLink.innerHTML = docLinkHtml;\n",
              "          element.appendChild(docLink);\n",
              "        }\n",
              "      </script>\n",
              "    </div>\n",
              "  </div>\n",
              "  "
            ],
            "text/plain": [
              "   children  days_employed  ...                  purpose age category\n",
              "0         1         8437.0  ...    purchase of the house        35-45\n",
              "1         1         4024.0  ...             car purchase        35-45\n",
              "2         0         5623.0  ...    purchase of the house        25-35\n",
              "3         3         4124.0  ...  supplementary education        25-35\n",
              "4         0       340266.0  ...        to have a wedding        45-55\n",
              "\n",
              "[5 rows x 13 columns]"
            ]
          },
          "metadata": {},
          "execution_count": 42
        }
      ],
      "source": [
        "# Create a table without missing values and print a few of its rows to make sure it looks fine\n",
        "df_without_nan = df.dropna()\n",
        "df_without_nan.head()"
      ]
    },
    {
      "cell_type": "code",
      "execution_count": 43,
      "metadata": {
        "id": "rmhK352CmIKI",
        "colab": {
          "base_uri": "https://localhost:8080/"
        },
        "outputId": "1080f9b4-3566-4486-a72b-e4653d0abb5d"
      },
      "outputs": [
        {
          "output_type": "execute_result",
          "data": {
            "text/plain": [
              "26791.50317506113"
            ]
          },
          "metadata": {},
          "execution_count": 43
        }
      ],
      "source": [
        "# Look at the mean values for income based on your identified factors\n",
        "income_mean = df_without_nan['total_income'].mean()\n",
        "income_mean"
      ]
    },
    {
      "cell_type": "code",
      "execution_count": 44,
      "metadata": {
        "scrolled": true,
        "id": "LBrMdPuqmIKI",
        "colab": {
          "base_uri": "https://localhost:8080/"
        },
        "outputId": "aac5bd26-e330-4779-c607-0f532b449b9e"
      },
      "outputs": [
        {
          "output_type": "execute_result",
          "data": {
            "text/plain": [
              "23202.87"
            ]
          },
          "metadata": {},
          "execution_count": 44
        }
      ],
      "source": [
        "# Look at the median values for income based on your identified factors\n",
        "df_without_nan['total_income'].median()"
      ]
    },
    {
      "cell_type": "markdown",
      "metadata": {
        "id": "Eja7_T_5mIKI"
      },
      "source": [
        "[Repeat such comparisons for multiple factors. Make sure you consider different aspects and explain your thinking process.]\n",
        "\n"
      ]
    },
    {
      "cell_type": "markdown",
      "metadata": {
        "id": "YcdRFvETmIKI"
      },
      "source": [
        "[Make a decision on what characteristics define income most and whether you will use a median or a mean. Explain why you made this decision]\n"
      ]
    },
    {
      "cell_type": "code",
      "execution_count": 45,
      "metadata": {
        "id": "P_TBIalqmIKI"
      },
      "outputs": [],
      "source": [
        "#  Write a function that we will use for filling in missing values\n",
        "def fill_missing_value(value):\n",
        "    if value == 'missing':\n",
        "        return income_mean\n",
        "    else:\n",
        "        return value\n",
        "    \n",
        "        "
      ]
    },
    {
      "cell_type": "code",
      "execution_count": 46,
      "metadata": {
        "id": "I1tbuEjMmIKI",
        "colab": {
          "base_uri": "https://localhost:8080/"
        },
        "outputId": "79782840-d818-40bf-bd68-53ec1648530c"
      },
      "outputs": [
        {
          "output_type": "stream",
          "name": "stdout",
          "text": [
            "12       26791.503175\n",
            "26       26791.503175\n",
            "29       26791.503175\n",
            "41       26791.503175\n",
            "55       26791.503175\n",
            "             ...     \n",
            "21489    26791.503175\n",
            "21495    26791.503175\n",
            "21497    26791.503175\n",
            "21502    26791.503175\n",
            "21510    26791.503175\n",
            "Name: missing_value, Length: 2091, dtype: float64\n"
          ]
        },
        {
          "output_type": "stream",
          "name": "stderr",
          "text": [
            "/usr/local/lib/python3.7/dist-packages/pandas/core/frame.py:5182: SettingWithCopyWarning: \n",
            "A value is trying to be set on a copy of a slice from a DataFrame\n",
            "\n",
            "See the caveats in the documentation: https://pandas.pydata.org/pandas-docs/stable/user_guide/indexing.html#returning-a-view-versus-a-copy\n",
            "  downcast=downcast,\n",
            "/usr/local/lib/python3.7/dist-packages/ipykernel_launcher.py:4: SettingWithCopyWarning: \n",
            "A value is trying to be set on a copy of a slice from a DataFrame.\n",
            "Try using .loc[row_indexer,col_indexer] = value instead\n",
            "\n",
            "See the caveats in the documentation: https://pandas.pydata.org/pandas-docs/stable/user_guide/indexing.html#returning-a-view-versus-a-copy\n",
            "  after removing the cwd from sys.path.\n"
          ]
        }
      ],
      "source": [
        "# Check if it works\n",
        "x = df[df.isna().any(axis=1)]\n",
        "x.fillna('missing', inplace = True)\n",
        "x['missing_value'] = x['total_income'].apply(lambda x: fill_missing_value(x))\n",
        "print(x['missing_value'])"
      ]
    },
    {
      "cell_type": "code",
      "execution_count": 47,
      "metadata": {
        "id": "8ugccrjkmIKI"
      },
      "outputs": [],
      "source": [
        "# Apply it to every row\n",
        "df['total_income'].fillna('missing', inplace = True)\n",
        "df['total_income'] = df['total_income'].apply(lambda x: fill_missing_value(x))"
      ]
    },
    {
      "cell_type": "code",
      "execution_count": 48,
      "metadata": {
        "id": "oQN9ROFgmIKI",
        "colab": {
          "base_uri": "https://localhost:8080/"
        },
        "outputId": "34855f9b-a21a-4b5d-acdb-88031715fbd5"
      },
      "outputs": [
        {
          "output_type": "execute_result",
          "data": {
            "text/plain": [
              "0"
            ]
          },
          "metadata": {},
          "execution_count": 48
        }
      ],
      "source": [
        "# Check if we got any errors\n",
        "df['total_income'].isnull().sum()\n",
        "\n"
      ]
    },
    {
      "cell_type": "markdown",
      "metadata": {
        "id": "-5qCZwtUmIKJ"
      },
      "source": [
        "[If you've came across errors in preparing the values for missing data, it probably means there's something special about the data for the category. Give it some thought - you may want to fix some things manually, if there's enough data to find medians/means.]\n"
      ]
    },
    {
      "cell_type": "code",
      "execution_count": 49,
      "metadata": {
        "id": "HC_niIIMmIKJ"
      },
      "outputs": [],
      "source": [
        "# Replacing missing values if there are any errors\n",
        "df['total_income'].replace(to_replace = np.nan, value = income_mean, inplace = True) "
      ]
    },
    {
      "cell_type": "markdown",
      "metadata": {
        "id": "XYgPvZGjmIKJ"
      },
      "source": [
        "[When you think you've finished with `total_income`, check that the total number of values in this column matches the number of values in other ones.]"
      ]
    },
    {
      "cell_type": "code",
      "execution_count": 50,
      "metadata": {
        "id": "3TcDGAwGmIKJ",
        "colab": {
          "base_uri": "https://localhost:8080/"
        },
        "outputId": "cd2457e3-3a7e-4d07-f1ea-e5bb612eb663"
      },
      "outputs": [
        {
          "output_type": "execute_result",
          "data": {
            "text/plain": [
              "21330"
            ]
          },
          "metadata": {},
          "execution_count": 50
        }
      ],
      "source": [
        "# Checking the number of entries in the columns\n",
        "len(df['total_income'])\n"
      ]
    },
    {
      "cell_type": "markdown",
      "metadata": {
        "id": "FAi3Fc7ImIKJ"
      },
      "source": [
        "###  Restoring values in `days_employed`"
      ]
    },
    {
      "cell_type": "markdown",
      "metadata": {
        "id": "GTByzIW4mIKJ"
      },
      "source": [
        "[Think about the parameters that may help you restore the missing values in this column. Eventually, you will want to find out whether you should use mean or median values for replacing missing values. You will probably conduct a research similar to the one you've done when restoring data in a previous column.]"
      ]
    },
    {
      "cell_type": "code",
      "execution_count": 51,
      "metadata": {
        "pycharm": {
          "name": "#%%\n"
        },
        "id": "cHnL1KNcmIKJ",
        "colab": {
          "base_uri": "https://localhost:8080/"
        },
        "outputId": "f973a905-ec05-4cde-ecf5-f684c205f5dc"
      },
      "outputs": [
        {
          "output_type": "execute_result",
          "data": {
            "text/plain": [
              "2194.0"
            ]
          },
          "metadata": {},
          "execution_count": 51
        }
      ],
      "source": [
        "# Distribution of `days_employed` medians based on your identified parameters\n",
        "df['days_employed'].median()"
      ]
    },
    {
      "cell_type": "markdown",
      "metadata": {
        "id": "VVgRoV3gmIKJ"
      },
      "source": [
        "[Decide what you will use: means or medians. Explain why.]"
      ]
    },
    {
      "cell_type": "code",
      "execution_count": 52,
      "metadata": {
        "id": "_8nLmsocmIKK"
      },
      "outputs": [],
      "source": [
        "# Let's write a function that calculates means or medians (depending on your decision) based on your identified parameter\n",
        "def calculate_mean(list_values):\n",
        "    return sum(list_values)/len(list_values)\n"
      ]
    },
    {
      "cell_type": "code",
      "execution_count": 53,
      "metadata": {
        "id": "Kj9yKWkymIKK",
        "colab": {
          "base_uri": "https://localhost:8080/"
        },
        "outputId": "6374efc5-86a6-4962-bc80-ab9a6f40e565"
      },
      "outputs": [
        {
          "output_type": "execute_result",
          "data": {
            "text/plain": [
              "5.0"
            ]
          },
          "metadata": {},
          "execution_count": 53
        }
      ],
      "source": [
        "# Check that the function works\n",
        "\n",
        "calculate_mean([2,4,6,8])"
      ]
    },
    {
      "cell_type": "code",
      "execution_count": 54,
      "metadata": {
        "id": "LBh5Ki5ZmIKK",
        "colab": {
          "base_uri": "https://localhost:8080/"
        },
        "outputId": "69c40815-53df-4469-a39b-47b61b5d9772"
      },
      "outputs": [
        {
          "output_type": "execute_result",
          "data": {
            "text/plain": [
              "26791.503175061636"
            ]
          },
          "metadata": {},
          "execution_count": 54
        }
      ],
      "source": [
        "# Apply function to the income_type\n",
        "\n",
        "calculate_mean(df['total_income'])"
      ]
    },
    {
      "cell_type": "code",
      "execution_count": 55,
      "metadata": {
        "id": "pd87IXRTmIKK",
        "colab": {
          "base_uri": "https://localhost:8080/"
        },
        "outputId": "14b9c947-0bd1-4d49-d101-db52761bd951"
      },
      "outputs": [
        {
          "output_type": "execute_result",
          "data": {
            "text/plain": [
              "26791.503175061636"
            ]
          },
          "metadata": {},
          "execution_count": 55
        }
      ],
      "source": [
        "# Check if function worked\n",
        "\n",
        "df['total_income'].mean()"
      ]
    },
    {
      "cell_type": "code",
      "source": [
        "calculate_mean(df['days_employed'].dropna())"
      ],
      "metadata": {
        "colab": {
          "base_uri": "https://localhost:8080/"
        },
        "id": "8EGVYimeQ2DH",
        "outputId": "8ebc08eb-eae2-4161-e589-b882824811f4"
      },
      "execution_count": 56,
      "outputs": [
        {
          "output_type": "execute_result",
          "data": {
            "text/plain": [
              "67030.55319923072"
            ]
          },
          "metadata": {},
          "execution_count": 56
        }
      ]
    },
    {
      "cell_type": "code",
      "execution_count": 57,
      "metadata": {
        "id": "85lpy53hmIKK"
      },
      "outputs": [],
      "source": [
        "# Replacing missing values\n",
        "\n",
        "df['total_income'].replace(to_replace = np.nan, value = calculate_mean(df['total_income'].dropna()), inplace = True) \n",
        "df['days_employed'].replace(to_replace = np.nan, value = calculate_mean(df['days_employed'].dropna()), inplace = True) "
      ]
    },
    {
      "cell_type": "markdown",
      "metadata": {
        "id": "2Bdd5N8EmIKK"
      },
      "source": [
        "[When you think you've finished with `total_income`, check that the total number of values in this column matches the number of values in other ones.]"
      ]
    },
    {
      "cell_type": "code",
      "execution_count": 58,
      "metadata": {
        "id": "tLc-RGz3mIKK",
        "colab": {
          "base_uri": "https://localhost:8080/"
        },
        "outputId": "1e8d2d11-5e2c-419b-d946-d491c4aef5c1"
      },
      "outputs": [
        {
          "output_type": "execute_result",
          "data": {
            "text/plain": [
              "children            0\n",
              "days_employed       0\n",
              "dob_years           0\n",
              "education           0\n",
              "education_id        0\n",
              "family_status       0\n",
              "family_status_id    0\n",
              "gender              0\n",
              "income_type         0\n",
              "debt                0\n",
              "total_income        0\n",
              "purpose             0\n",
              "age category        0\n",
              "dtype: int64"
            ]
          },
          "metadata": {},
          "execution_count": 58
        }
      ],
      "source": [
        "# Check the entries in all columns - make sure we fixed all missing values\n",
        "df.isnull().sum()"
      ]
    },
    {
      "cell_type": "markdown",
      "metadata": {
        "id": "rVzxywbfmIKK"
      },
      "source": [
        "## Categorization of data\n",
        "\n",
        "[To answer the questions and test the hypotheses, you will want to work with categorized data. Look at the questions that were posed to you and that you should answer. Think about which of the data will need to be categorized to answer these questions. Below you will find a template through which you can work your way when categorizing data. The first step-by-step processing covers the text data; the second one addresses the numerical data that needs to be categorized. You can use both or none of the suggested instructions - it's up to you.]\n",
        "\n",
        "[Despite of how you decide to address the categorization, make sure to provide clear explanation of why you made your decision. Remember: this is your work and you make all decisions in it.]\n"
      ]
    },
    {
      "cell_type": "code",
      "execution_count": 59,
      "metadata": {
        "scrolled": true,
        "id": "GFzC_eY5mIKL",
        "colab": {
          "base_uri": "https://localhost:8080/"
        },
        "outputId": "76824e2c-c3da-4128-c8ac-b325f0e53155"
      },
      "outputs": [
        {
          "output_type": "execute_result",
          "data": {
            "text/plain": [
              "0          Bachelor's Degree\n",
              "1        Secondary Education\n",
              "2        Secondary Education\n",
              "3        Secondary Education\n",
              "4        Secondary Education\n",
              "                ...         \n",
              "21520    Secondary Education\n",
              "21521    Secondary Education\n",
              "21522    Secondary Education\n",
              "21523    Secondary Education\n",
              "21524    Secondary Education\n",
              "Name: education, Length: 21330, dtype: object"
            ]
          },
          "metadata": {},
          "execution_count": 59
        }
      ],
      "source": [
        "# Print the values for your selected data for categorization\n",
        "\n",
        "df['education']"
      ]
    },
    {
      "cell_type": "markdown",
      "metadata": {
        "id": "IE7Dt0fhmIKL"
      },
      "source": [
        "[Let's check unique values]"
      ]
    },
    {
      "cell_type": "code",
      "execution_count": 60,
      "metadata": {
        "id": "Hyf6kfwymIKL",
        "colab": {
          "base_uri": "https://localhost:8080/"
        },
        "outputId": "633425c3-ea80-4b5a-c8bd-78b117ff0468"
      },
      "outputs": [
        {
          "output_type": "execute_result",
          "data": {
            "text/plain": [
              "{\"Bachelor's Degree\",\n",
              " 'Graduate Degree',\n",
              " 'Primary Education',\n",
              " 'Secondary Education',\n",
              " 'Some College'}"
            ]
          },
          "metadata": {},
          "execution_count": 60
        }
      ],
      "source": [
        "# Check the unique values\n",
        "set(df['education'])"
      ]
    },
    {
      "cell_type": "markdown",
      "metadata": {
        "id": "_YjaYTbNmIKL"
      },
      "source": [
        "[What main groups can you identify based on the unique values?]\n",
        "\n",
        "[Based on these themes, we will probably want to categorize our data.]\n"
      ]
    },
    {
      "cell_type": "code",
      "execution_count": 61,
      "metadata": {
        "id": "7z5SsJMVmIKL"
      },
      "outputs": [],
      "source": [
        "# Let's write a function to categorize the data based on common topics\n",
        "def categorize_data(education):\n",
        "    if education in [\"Bachelor's Degree\",\"Graduate Degree\"]:\n",
        "        return \"Graduated\"\n",
        "    if education == \"Some College\":\n",
        "        return \"Undergraduate\"\n",
        "    if education in ['Primary Education','Secondary Education']:\n",
        "        return \"In school\"\n",
        "        "
      ]
    },
    {
      "cell_type": "code",
      "execution_count": 62,
      "metadata": {
        "id": "K7xNowKfmIKL",
        "colab": {
          "base_uri": "https://localhost:8080/"
        },
        "outputId": "6cf35105-4c71-4ea8-a57e-a630f3ffb141"
      },
      "outputs": [
        {
          "output_type": "execute_result",
          "data": {
            "text/plain": [
              "Counter({'Graduated': 5233, 'In school': 15357, 'Undergraduate': 740})"
            ]
          },
          "metadata": {},
          "execution_count": 62
        }
      ],
      "source": [
        "# Create a column with the categories and count the values for them\n",
        "df['education_status'] = df['education'].apply(lambda x: categorize_data(x))\n",
        "from collections import Counter\n",
        "Counter(df['education_status'])"
      ]
    },
    {
      "cell_type": "markdown",
      "metadata": {
        "id": "pjDtMYPFmIKL"
      },
      "source": [
        "[If you decide to categorize the numerical data, you'll need to come up with the categories for it too.]"
      ]
    },
    {
      "cell_type": "code",
      "execution_count": 63,
      "metadata": {
        "id": "ucBn4UeBmIKL",
        "colab": {
          "base_uri": "https://localhost:8080/",
          "height": 423
        },
        "outputId": "241aece9-c229-4639-80e5-45cc59936443"
      },
      "outputs": [
        {
          "output_type": "execute_result",
          "data": {
            "text/html": [
              "\n",
              "  <div id=\"df-7c1f5317-5d61-4ecd-ab78-5897d9f8a80d\">\n",
              "    <div class=\"colab-df-container\">\n",
              "      <div>\n",
              "<style scoped>\n",
              "    .dataframe tbody tr th:only-of-type {\n",
              "        vertical-align: middle;\n",
              "    }\n",
              "\n",
              "    .dataframe tbody tr th {\n",
              "        vertical-align: top;\n",
              "    }\n",
              "\n",
              "    .dataframe thead th {\n",
              "        text-align: right;\n",
              "    }\n",
              "</style>\n",
              "<table border=\"1\" class=\"dataframe\">\n",
              "  <thead>\n",
              "    <tr style=\"text-align: right;\">\n",
              "      <th></th>\n",
              "      <th>children</th>\n",
              "      <th>days_employed</th>\n",
              "      <th>dob_years</th>\n",
              "      <th>education_id</th>\n",
              "      <th>family_status_id</th>\n",
              "      <th>debt</th>\n",
              "      <th>total_income</th>\n",
              "    </tr>\n",
              "  </thead>\n",
              "  <tbody>\n",
              "    <tr>\n",
              "      <th>0</th>\n",
              "      <td>1</td>\n",
              "      <td>8437.0</td>\n",
              "      <td>42</td>\n",
              "      <td>0</td>\n",
              "      <td>0</td>\n",
              "      <td>0</td>\n",
              "      <td>40620.102</td>\n",
              "    </tr>\n",
              "    <tr>\n",
              "      <th>1</th>\n",
              "      <td>1</td>\n",
              "      <td>4024.0</td>\n",
              "      <td>36</td>\n",
              "      <td>1</td>\n",
              "      <td>0</td>\n",
              "      <td>0</td>\n",
              "      <td>17932.802</td>\n",
              "    </tr>\n",
              "    <tr>\n",
              "      <th>2</th>\n",
              "      <td>0</td>\n",
              "      <td>5623.0</td>\n",
              "      <td>33</td>\n",
              "      <td>1</td>\n",
              "      <td>0</td>\n",
              "      <td>0</td>\n",
              "      <td>23341.752</td>\n",
              "    </tr>\n",
              "    <tr>\n",
              "      <th>3</th>\n",
              "      <td>3</td>\n",
              "      <td>4124.0</td>\n",
              "      <td>32</td>\n",
              "      <td>1</td>\n",
              "      <td>0</td>\n",
              "      <td>0</td>\n",
              "      <td>42820.568</td>\n",
              "    </tr>\n",
              "    <tr>\n",
              "      <th>4</th>\n",
              "      <td>0</td>\n",
              "      <td>340266.0</td>\n",
              "      <td>53</td>\n",
              "      <td>1</td>\n",
              "      <td>1</td>\n",
              "      <td>0</td>\n",
              "      <td>25378.572</td>\n",
              "    </tr>\n",
              "    <tr>\n",
              "      <th>...</th>\n",
              "      <td>...</td>\n",
              "      <td>...</td>\n",
              "      <td>...</td>\n",
              "      <td>...</td>\n",
              "      <td>...</td>\n",
              "      <td>...</td>\n",
              "      <td>...</td>\n",
              "    </tr>\n",
              "    <tr>\n",
              "      <th>21520</th>\n",
              "      <td>1</td>\n",
              "      <td>4529.0</td>\n",
              "      <td>43</td>\n",
              "      <td>1</td>\n",
              "      <td>1</td>\n",
              "      <td>0</td>\n",
              "      <td>35966.698</td>\n",
              "    </tr>\n",
              "    <tr>\n",
              "      <th>21521</th>\n",
              "      <td>0</td>\n",
              "      <td>343937.0</td>\n",
              "      <td>67</td>\n",
              "      <td>1</td>\n",
              "      <td>0</td>\n",
              "      <td>0</td>\n",
              "      <td>24959.969</td>\n",
              "    </tr>\n",
              "    <tr>\n",
              "      <th>21522</th>\n",
              "      <td>1</td>\n",
              "      <td>2113.0</td>\n",
              "      <td>38</td>\n",
              "      <td>1</td>\n",
              "      <td>1</td>\n",
              "      <td>1</td>\n",
              "      <td>14347.610</td>\n",
              "    </tr>\n",
              "    <tr>\n",
              "      <th>21523</th>\n",
              "      <td>3</td>\n",
              "      <td>3112.0</td>\n",
              "      <td>38</td>\n",
              "      <td>1</td>\n",
              "      <td>0</td>\n",
              "      <td>1</td>\n",
              "      <td>39054.888</td>\n",
              "    </tr>\n",
              "    <tr>\n",
              "      <th>21524</th>\n",
              "      <td>2</td>\n",
              "      <td>1984.0</td>\n",
              "      <td>40</td>\n",
              "      <td>1</td>\n",
              "      <td>0</td>\n",
              "      <td>0</td>\n",
              "      <td>13127.587</td>\n",
              "    </tr>\n",
              "  </tbody>\n",
              "</table>\n",
              "<p>21330 rows × 7 columns</p>\n",
              "</div>\n",
              "      <button class=\"colab-df-convert\" onclick=\"convertToInteractive('df-7c1f5317-5d61-4ecd-ab78-5897d9f8a80d')\"\n",
              "              title=\"Convert this dataframe to an interactive table.\"\n",
              "              style=\"display:none;\">\n",
              "        \n",
              "  <svg xmlns=\"http://www.w3.org/2000/svg\" height=\"24px\"viewBox=\"0 0 24 24\"\n",
              "       width=\"24px\">\n",
              "    <path d=\"M0 0h24v24H0V0z\" fill=\"none\"/>\n",
              "    <path d=\"M18.56 5.44l.94 2.06.94-2.06 2.06-.94-2.06-.94-.94-2.06-.94 2.06-2.06.94zm-11 1L8.5 8.5l.94-2.06 2.06-.94-2.06-.94L8.5 2.5l-.94 2.06-2.06.94zm10 10l.94 2.06.94-2.06 2.06-.94-2.06-.94-.94-2.06-.94 2.06-2.06.94z\"/><path d=\"M17.41 7.96l-1.37-1.37c-.4-.4-.92-.59-1.43-.59-.52 0-1.04.2-1.43.59L10.3 9.45l-7.72 7.72c-.78.78-.78 2.05 0 2.83L4 21.41c.39.39.9.59 1.41.59.51 0 1.02-.2 1.41-.59l7.78-7.78 2.81-2.81c.8-.78.8-2.07 0-2.86zM5.41 20L4 18.59l7.72-7.72 1.47 1.35L5.41 20z\"/>\n",
              "  </svg>\n",
              "      </button>\n",
              "      \n",
              "  <style>\n",
              "    .colab-df-container {\n",
              "      display:flex;\n",
              "      flex-wrap:wrap;\n",
              "      gap: 12px;\n",
              "    }\n",
              "\n",
              "    .colab-df-convert {\n",
              "      background-color: #E8F0FE;\n",
              "      border: none;\n",
              "      border-radius: 50%;\n",
              "      cursor: pointer;\n",
              "      display: none;\n",
              "      fill: #1967D2;\n",
              "      height: 32px;\n",
              "      padding: 0 0 0 0;\n",
              "      width: 32px;\n",
              "    }\n",
              "\n",
              "    .colab-df-convert:hover {\n",
              "      background-color: #E2EBFA;\n",
              "      box-shadow: 0px 1px 2px rgba(60, 64, 67, 0.3), 0px 1px 3px 1px rgba(60, 64, 67, 0.15);\n",
              "      fill: #174EA6;\n",
              "    }\n",
              "\n",
              "    [theme=dark] .colab-df-convert {\n",
              "      background-color: #3B4455;\n",
              "      fill: #D2E3FC;\n",
              "    }\n",
              "\n",
              "    [theme=dark] .colab-df-convert:hover {\n",
              "      background-color: #434B5C;\n",
              "      box-shadow: 0px 1px 3px 1px rgba(0, 0, 0, 0.15);\n",
              "      filter: drop-shadow(0px 1px 2px rgba(0, 0, 0, 0.3));\n",
              "      fill: #FFFFFF;\n",
              "    }\n",
              "  </style>\n",
              "\n",
              "      <script>\n",
              "        const buttonEl =\n",
              "          document.querySelector('#df-7c1f5317-5d61-4ecd-ab78-5897d9f8a80d button.colab-df-convert');\n",
              "        buttonEl.style.display =\n",
              "          google.colab.kernel.accessAllowed ? 'block' : 'none';\n",
              "\n",
              "        async function convertToInteractive(key) {\n",
              "          const element = document.querySelector('#df-7c1f5317-5d61-4ecd-ab78-5897d9f8a80d');\n",
              "          const dataTable =\n",
              "            await google.colab.kernel.invokeFunction('convertToInteractive',\n",
              "                                                     [key], {});\n",
              "          if (!dataTable) return;\n",
              "\n",
              "          const docLinkHtml = 'Like what you see? Visit the ' +\n",
              "            '<a target=\"_blank\" href=https://colab.research.google.com/notebooks/data_table.ipynb>data table notebook</a>'\n",
              "            + ' to learn more about interactive tables.';\n",
              "          element.innerHTML = '';\n",
              "          dataTable['output_type'] = 'display_data';\n",
              "          await google.colab.output.renderOutput(dataTable, element);\n",
              "          const docLink = document.createElement('div');\n",
              "          docLink.innerHTML = docLinkHtml;\n",
              "          element.appendChild(docLink);\n",
              "        }\n",
              "      </script>\n",
              "    </div>\n",
              "  </div>\n",
              "  "
            ],
            "text/plain": [
              "       children  days_employed  dob_years  ...  family_status_id  debt  total_income\n",
              "0             1         8437.0         42  ...                 0     0     40620.102\n",
              "1             1         4024.0         36  ...                 0     0     17932.802\n",
              "2             0         5623.0         33  ...                 0     0     23341.752\n",
              "3             3         4124.0         32  ...                 0     0     42820.568\n",
              "4             0       340266.0         53  ...                 1     0     25378.572\n",
              "...         ...            ...        ...  ...               ...   ...           ...\n",
              "21520         1         4529.0         43  ...                 1     0     35966.698\n",
              "21521         0       343937.0         67  ...                 0     0     24959.969\n",
              "21522         1         2113.0         38  ...                 1     1     14347.610\n",
              "21523         3         3112.0         38  ...                 0     1     39054.888\n",
              "21524         2         1984.0         40  ...                 0     0     13127.587\n",
              "\n",
              "[21330 rows x 7 columns]"
            ]
          },
          "metadata": {},
          "execution_count": 63
        }
      ],
      "source": [
        "# Looking through all the numerical data in your selected column for categorization\n",
        "df[['children','days_employed','dob_years','education_id','family_status_id','debt','total_income']]"
      ]
    },
    {
      "cell_type": "code",
      "execution_count": 64,
      "metadata": {
        "id": "5lfSs3jQmIKM",
        "colab": {
          "base_uri": "https://localhost:8080/",
          "height": 300
        },
        "outputId": "ff3b8f1e-6e38-428e-ca4c-9124a59d44c8"
      },
      "outputs": [
        {
          "output_type": "execute_result",
          "data": {
            "text/html": [
              "\n",
              "  <div id=\"df-18899d70-8a5b-4ff9-98ad-4ccb2523b9b9\">\n",
              "    <div class=\"colab-df-container\">\n",
              "      <div>\n",
              "<style scoped>\n",
              "    .dataframe tbody tr th:only-of-type {\n",
              "        vertical-align: middle;\n",
              "    }\n",
              "\n",
              "    .dataframe tbody tr th {\n",
              "        vertical-align: top;\n",
              "    }\n",
              "\n",
              "    .dataframe thead th {\n",
              "        text-align: right;\n",
              "    }\n",
              "</style>\n",
              "<table border=\"1\" class=\"dataframe\">\n",
              "  <thead>\n",
              "    <tr style=\"text-align: right;\">\n",
              "      <th></th>\n",
              "      <th>children</th>\n",
              "      <th>days_employed</th>\n",
              "      <th>dob_years</th>\n",
              "      <th>education_id</th>\n",
              "      <th>family_status_id</th>\n",
              "      <th>debt</th>\n",
              "      <th>total_income</th>\n",
              "    </tr>\n",
              "  </thead>\n",
              "  <tbody>\n",
              "    <tr>\n",
              "      <th>count</th>\n",
              "      <td>21330.000000</td>\n",
              "      <td>21330.000000</td>\n",
              "      <td>21330.000000</td>\n",
              "      <td>21330.000000</td>\n",
              "      <td>21330.000000</td>\n",
              "      <td>21330.000000</td>\n",
              "      <td>21330.000000</td>\n",
              "    </tr>\n",
              "    <tr>\n",
              "      <th>mean</th>\n",
              "      <td>0.474027</td>\n",
              "      <td>67030.553199</td>\n",
              "      <td>43.480450</td>\n",
              "      <td>0.816925</td>\n",
              "      <td>0.974496</td>\n",
              "      <td>0.081200</td>\n",
              "      <td>26791.503175</td>\n",
              "    </tr>\n",
              "    <tr>\n",
              "      <th>std</th>\n",
              "      <td>0.752389</td>\n",
              "      <td>132137.774132</td>\n",
              "      <td>12.219089</td>\n",
              "      <td>0.549235</td>\n",
              "      <td>1.421820</td>\n",
              "      <td>0.273149</td>\n",
              "      <td>15667.684517</td>\n",
              "    </tr>\n",
              "    <tr>\n",
              "      <th>min</th>\n",
              "      <td>0.000000</td>\n",
              "      <td>24.000000</td>\n",
              "      <td>19.000000</td>\n",
              "      <td>0.000000</td>\n",
              "      <td>0.000000</td>\n",
              "      <td>0.000000</td>\n",
              "      <td>3306.762000</td>\n",
              "    </tr>\n",
              "    <tr>\n",
              "      <th>25%</th>\n",
              "      <td>0.000000</td>\n",
              "      <td>1024.000000</td>\n",
              "      <td>33.000000</td>\n",
              "      <td>1.000000</td>\n",
              "      <td>0.000000</td>\n",
              "      <td>0.000000</td>\n",
              "      <td>17200.597250</td>\n",
              "    </tr>\n",
              "    <tr>\n",
              "      <th>50%</th>\n",
              "      <td>0.000000</td>\n",
              "      <td>2594.000000</td>\n",
              "      <td>43.000000</td>\n",
              "      <td>1.000000</td>\n",
              "      <td>0.000000</td>\n",
              "      <td>0.000000</td>\n",
              "      <td>24972.716500</td>\n",
              "    </tr>\n",
              "    <tr>\n",
              "      <th>75%</th>\n",
              "      <td>1.000000</td>\n",
              "      <td>67030.553199</td>\n",
              "      <td>53.000000</td>\n",
              "      <td>1.000000</td>\n",
              "      <td>1.000000</td>\n",
              "      <td>0.000000</td>\n",
              "      <td>31331.348000</td>\n",
              "    </tr>\n",
              "    <tr>\n",
              "      <th>max</th>\n",
              "      <td>5.000000</td>\n",
              "      <td>401755.000000</td>\n",
              "      <td>75.000000</td>\n",
              "      <td>4.000000</td>\n",
              "      <td>4.000000</td>\n",
              "      <td>1.000000</td>\n",
              "      <td>362496.645000</td>\n",
              "    </tr>\n",
              "  </tbody>\n",
              "</table>\n",
              "</div>\n",
              "      <button class=\"colab-df-convert\" onclick=\"convertToInteractive('df-18899d70-8a5b-4ff9-98ad-4ccb2523b9b9')\"\n",
              "              title=\"Convert this dataframe to an interactive table.\"\n",
              "              style=\"display:none;\">\n",
              "        \n",
              "  <svg xmlns=\"http://www.w3.org/2000/svg\" height=\"24px\"viewBox=\"0 0 24 24\"\n",
              "       width=\"24px\">\n",
              "    <path d=\"M0 0h24v24H0V0z\" fill=\"none\"/>\n",
              "    <path d=\"M18.56 5.44l.94 2.06.94-2.06 2.06-.94-2.06-.94-.94-2.06-.94 2.06-2.06.94zm-11 1L8.5 8.5l.94-2.06 2.06-.94-2.06-.94L8.5 2.5l-.94 2.06-2.06.94zm10 10l.94 2.06.94-2.06 2.06-.94-2.06-.94-.94-2.06-.94 2.06-2.06.94z\"/><path d=\"M17.41 7.96l-1.37-1.37c-.4-.4-.92-.59-1.43-.59-.52 0-1.04.2-1.43.59L10.3 9.45l-7.72 7.72c-.78.78-.78 2.05 0 2.83L4 21.41c.39.39.9.59 1.41.59.51 0 1.02-.2 1.41-.59l7.78-7.78 2.81-2.81c.8-.78.8-2.07 0-2.86zM5.41 20L4 18.59l7.72-7.72 1.47 1.35L5.41 20z\"/>\n",
              "  </svg>\n",
              "      </button>\n",
              "      \n",
              "  <style>\n",
              "    .colab-df-container {\n",
              "      display:flex;\n",
              "      flex-wrap:wrap;\n",
              "      gap: 12px;\n",
              "    }\n",
              "\n",
              "    .colab-df-convert {\n",
              "      background-color: #E8F0FE;\n",
              "      border: none;\n",
              "      border-radius: 50%;\n",
              "      cursor: pointer;\n",
              "      display: none;\n",
              "      fill: #1967D2;\n",
              "      height: 32px;\n",
              "      padding: 0 0 0 0;\n",
              "      width: 32px;\n",
              "    }\n",
              "\n",
              "    .colab-df-convert:hover {\n",
              "      background-color: #E2EBFA;\n",
              "      box-shadow: 0px 1px 2px rgba(60, 64, 67, 0.3), 0px 1px 3px 1px rgba(60, 64, 67, 0.15);\n",
              "      fill: #174EA6;\n",
              "    }\n",
              "\n",
              "    [theme=dark] .colab-df-convert {\n",
              "      background-color: #3B4455;\n",
              "      fill: #D2E3FC;\n",
              "    }\n",
              "\n",
              "    [theme=dark] .colab-df-convert:hover {\n",
              "      background-color: #434B5C;\n",
              "      box-shadow: 0px 1px 3px 1px rgba(0, 0, 0, 0.15);\n",
              "      filter: drop-shadow(0px 1px 2px rgba(0, 0, 0, 0.3));\n",
              "      fill: #FFFFFF;\n",
              "    }\n",
              "  </style>\n",
              "\n",
              "      <script>\n",
              "        const buttonEl =\n",
              "          document.querySelector('#df-18899d70-8a5b-4ff9-98ad-4ccb2523b9b9 button.colab-df-convert');\n",
              "        buttonEl.style.display =\n",
              "          google.colab.kernel.accessAllowed ? 'block' : 'none';\n",
              "\n",
              "        async function convertToInteractive(key) {\n",
              "          const element = document.querySelector('#df-18899d70-8a5b-4ff9-98ad-4ccb2523b9b9');\n",
              "          const dataTable =\n",
              "            await google.colab.kernel.invokeFunction('convertToInteractive',\n",
              "                                                     [key], {});\n",
              "          if (!dataTable) return;\n",
              "\n",
              "          const docLinkHtml = 'Like what you see? Visit the ' +\n",
              "            '<a target=\"_blank\" href=https://colab.research.google.com/notebooks/data_table.ipynb>data table notebook</a>'\n",
              "            + ' to learn more about interactive tables.';\n",
              "          element.innerHTML = '';\n",
              "          dataTable['output_type'] = 'display_data';\n",
              "          await google.colab.output.renderOutput(dataTable, element);\n",
              "          const docLink = document.createElement('div');\n",
              "          docLink.innerHTML = docLinkHtml;\n",
              "          element.appendChild(docLink);\n",
              "        }\n",
              "      </script>\n",
              "    </div>\n",
              "  </div>\n",
              "  "
            ],
            "text/plain": [
              "           children  days_employed  ...          debt   total_income\n",
              "count  21330.000000   21330.000000  ...  21330.000000   21330.000000\n",
              "mean       0.474027   67030.553199  ...      0.081200   26791.503175\n",
              "std        0.752389  132137.774132  ...      0.273149   15667.684517\n",
              "min        0.000000      24.000000  ...      0.000000    3306.762000\n",
              "25%        0.000000    1024.000000  ...      0.000000   17200.597250\n",
              "50%        0.000000    2594.000000  ...      0.000000   24972.716500\n",
              "75%        1.000000   67030.553199  ...      0.000000   31331.348000\n",
              "max        5.000000  401755.000000  ...      1.000000  362496.645000\n",
              "\n",
              "[8 rows x 7 columns]"
            ]
          },
          "metadata": {},
          "execution_count": 64
        }
      ],
      "source": [
        "# Getting summary statistics for the column\n",
        "\n",
        "df.describe()"
      ]
    },
    {
      "cell_type": "markdown",
      "metadata": {
        "id": "pQOMWiCEmIKM"
      },
      "source": [
        "[Decide what ranges you will use for grouping and explain why.]"
      ]
    },
    {
      "cell_type": "code",
      "execution_count": 65,
      "metadata": {
        "id": "FmmH1wWYmIKM"
      },
      "outputs": [],
      "source": [
        "# Creating function for categorizing into different numerical groups based on ranges\n",
        "\n",
        "def categorize_data(income):\n",
        "    if income <= 20000:\n",
        "        return \"Less than 20k\"\n",
        "    if 20000 < income <= 30000:\n",
        "        return \"20k to 30k\"\n",
        "    if 30000 < income <= 40000:\n",
        "        return \"30k to 40k\"\n",
        "    if income > 40000:\n",
        "        return \"Above 60k\""
      ]
    },
    {
      "cell_type": "code",
      "execution_count": 66,
      "metadata": {
        "id": "RgI_VcLemIKM"
      },
      "outputs": [],
      "source": [
        "# Creating column with categories\n",
        "df['income_range'] = df['total_income'].apply(lambda x: categorize_data(x))"
      ]
    },
    {
      "cell_type": "code",
      "execution_count": 67,
      "metadata": {
        "scrolled": true,
        "id": "Pw99ioc3mIKM",
        "colab": {
          "base_uri": "https://localhost:8080/"
        },
        "outputId": "2c7e6e9b-24e2-4497-8a35-18bd9dc54079"
      },
      "outputs": [
        {
          "output_type": "execute_result",
          "data": {
            "text/plain": [
              "Counter({'20k to 30k': 8110,\n",
              "         '30k to 40k': 3091,\n",
              "         'Above 60k': 2796,\n",
              "         'Less than 20k': 7333})"
            ]
          },
          "metadata": {},
          "execution_count": 67
        }
      ],
      "source": [
        "# Count each categories values to see the distribution\n",
        "Counter(df['income_range'])"
      ]
    },
    {
      "cell_type": "markdown",
      "metadata": {
        "id": "u1M8cadvmIKM"
      },
      "source": [
        "## Checking the Hypotheses\n"
      ]
    },
    {
      "cell_type": "markdown",
      "metadata": {
        "id": "f5PT7P0imIKM"
      },
      "source": [
        "**Is there a correlation between having children and paying back on time?**"
      ]
    },
    {
      "cell_type": "code",
      "execution_count": 77,
      "metadata": {
        "id": "M6fdqn_TmIKM",
        "colab": {
          "base_uri": "https://localhost:8080/",
          "height": 564
        },
        "outputId": "e6f05d00-fe5c-4c58-dbe2-89d2bdc45c55"
      },
      "outputs": [
        {
          "output_type": "stream",
          "name": "stdout",
          "text": [
            "0    1\n",
            "1    1\n",
            "2    0\n",
            "3    3\n",
            "4    0\n",
            "5    0\n",
            "6    0\n",
            "7    0\n",
            "8    2\n",
            "9    0\n",
            "Name: children, dtype: int64\n",
            "No. of children : 1 \t Default-Rate : 22.27\n",
            "No. of children : 0 \t Default-Rate : 66.47\n",
            "No. of children : 3 \t Default-Rate : 1.55\n",
            "No. of children : 2 \t Default-Rate : 9.48\n",
            "No. of children : 4 \t Default-Rate : 0.19\n",
            "No. of children : 5 \t Default-Rate : 0.05\n"
          ]
        },
        {
          "output_type": "execute_result",
          "data": {
            "text/html": [
              "\n",
              "  <div id=\"df-ed3b10e7-fb6e-4923-b701-19ca9ef6fcc5\">\n",
              "    <div class=\"colab-df-container\">\n",
              "      <div>\n",
              "<style scoped>\n",
              "    .dataframe tbody tr th:only-of-type {\n",
              "        vertical-align: middle;\n",
              "    }\n",
              "\n",
              "    .dataframe tbody tr th {\n",
              "        vertical-align: top;\n",
              "    }\n",
              "\n",
              "    .dataframe thead th {\n",
              "        text-align: right;\n",
              "    }\n",
              "</style>\n",
              "<table border=\"1\" class=\"dataframe\">\n",
              "  <thead>\n",
              "    <tr style=\"text-align: right;\">\n",
              "      <th></th>\n",
              "      <th>children</th>\n",
              "      <th>days_employed</th>\n",
              "      <th>dob_years</th>\n",
              "      <th>education_id</th>\n",
              "      <th>family_status_id</th>\n",
              "      <th>debt</th>\n",
              "      <th>total_income</th>\n",
              "    </tr>\n",
              "  </thead>\n",
              "  <tbody>\n",
              "    <tr>\n",
              "      <th>children</th>\n",
              "      <td>1.000000</td>\n",
              "      <td>-0.226063</td>\n",
              "      <td>-0.319666</td>\n",
              "      <td>-0.026994</td>\n",
              "      <td>-0.158966</td>\n",
              "      <td>0.024635</td>\n",
              "      <td>0.030053</td>\n",
              "    </tr>\n",
              "    <tr>\n",
              "      <th>days_employed</th>\n",
              "      <td>-0.226063</td>\n",
              "      <td>1.000000</td>\n",
              "      <td>0.577674</td>\n",
              "      <td>0.076422</td>\n",
              "      <td>0.002566</td>\n",
              "      <td>-0.046313</td>\n",
              "      <td>-0.135633</td>\n",
              "    </tr>\n",
              "    <tr>\n",
              "      <th>dob_years</th>\n",
              "      <td>-0.319666</td>\n",
              "      <td>0.577674</td>\n",
              "      <td>1.000000</td>\n",
              "      <td>0.064699</td>\n",
              "      <td>-0.068634</td>\n",
              "      <td>-0.071685</td>\n",
              "      <td>-0.053420</td>\n",
              "    </tr>\n",
              "    <tr>\n",
              "      <th>education_id</th>\n",
              "      <td>-0.026994</td>\n",
              "      <td>0.076422</td>\n",
              "      <td>0.064699</td>\n",
              "      <td>1.000000</td>\n",
              "      <td>0.007769</td>\n",
              "      <td>0.052842</td>\n",
              "      <td>-0.170876</td>\n",
              "    </tr>\n",
              "    <tr>\n",
              "      <th>family_status_id</th>\n",
              "      <td>-0.158966</td>\n",
              "      <td>0.002566</td>\n",
              "      <td>-0.068634</td>\n",
              "      <td>0.007769</td>\n",
              "      <td>1.000000</td>\n",
              "      <td>0.020181</td>\n",
              "      <td>-0.007670</td>\n",
              "    </tr>\n",
              "    <tr>\n",
              "      <th>debt</th>\n",
              "      <td>0.024635</td>\n",
              "      <td>-0.046313</td>\n",
              "      <td>-0.071685</td>\n",
              "      <td>0.052842</td>\n",
              "      <td>0.020181</td>\n",
              "      <td>1.000000</td>\n",
              "      <td>-0.011887</td>\n",
              "    </tr>\n",
              "    <tr>\n",
              "      <th>total_income</th>\n",
              "      <td>0.030053</td>\n",
              "      <td>-0.135633</td>\n",
              "      <td>-0.053420</td>\n",
              "      <td>-0.170876</td>\n",
              "      <td>-0.007670</td>\n",
              "      <td>-0.011887</td>\n",
              "      <td>1.000000</td>\n",
              "    </tr>\n",
              "  </tbody>\n",
              "</table>\n",
              "</div>\n",
              "      <button class=\"colab-df-convert\" onclick=\"convertToInteractive('df-ed3b10e7-fb6e-4923-b701-19ca9ef6fcc5')\"\n",
              "              title=\"Convert this dataframe to an interactive table.\"\n",
              "              style=\"display:none;\">\n",
              "        \n",
              "  <svg xmlns=\"http://www.w3.org/2000/svg\" height=\"24px\"viewBox=\"0 0 24 24\"\n",
              "       width=\"24px\">\n",
              "    <path d=\"M0 0h24v24H0V0z\" fill=\"none\"/>\n",
              "    <path d=\"M18.56 5.44l.94 2.06.94-2.06 2.06-.94-2.06-.94-.94-2.06-.94 2.06-2.06.94zm-11 1L8.5 8.5l.94-2.06 2.06-.94-2.06-.94L8.5 2.5l-.94 2.06-2.06.94zm10 10l.94 2.06.94-2.06 2.06-.94-2.06-.94-.94-2.06-.94 2.06-2.06.94z\"/><path d=\"M17.41 7.96l-1.37-1.37c-.4-.4-.92-.59-1.43-.59-.52 0-1.04.2-1.43.59L10.3 9.45l-7.72 7.72c-.78.78-.78 2.05 0 2.83L4 21.41c.39.39.9.59 1.41.59.51 0 1.02-.2 1.41-.59l7.78-7.78 2.81-2.81c.8-.78.8-2.07 0-2.86zM5.41 20L4 18.59l7.72-7.72 1.47 1.35L5.41 20z\"/>\n",
              "  </svg>\n",
              "      </button>\n",
              "      \n",
              "  <style>\n",
              "    .colab-df-container {\n",
              "      display:flex;\n",
              "      flex-wrap:wrap;\n",
              "      gap: 12px;\n",
              "    }\n",
              "\n",
              "    .colab-df-convert {\n",
              "      background-color: #E8F0FE;\n",
              "      border: none;\n",
              "      border-radius: 50%;\n",
              "      cursor: pointer;\n",
              "      display: none;\n",
              "      fill: #1967D2;\n",
              "      height: 32px;\n",
              "      padding: 0 0 0 0;\n",
              "      width: 32px;\n",
              "    }\n",
              "\n",
              "    .colab-df-convert:hover {\n",
              "      background-color: #E2EBFA;\n",
              "      box-shadow: 0px 1px 2px rgba(60, 64, 67, 0.3), 0px 1px 3px 1px rgba(60, 64, 67, 0.15);\n",
              "      fill: #174EA6;\n",
              "    }\n",
              "\n",
              "    [theme=dark] .colab-df-convert {\n",
              "      background-color: #3B4455;\n",
              "      fill: #D2E3FC;\n",
              "    }\n",
              "\n",
              "    [theme=dark] .colab-df-convert:hover {\n",
              "      background-color: #434B5C;\n",
              "      box-shadow: 0px 1px 3px 1px rgba(0, 0, 0, 0.15);\n",
              "      filter: drop-shadow(0px 1px 2px rgba(0, 0, 0, 0.3));\n",
              "      fill: #FFFFFF;\n",
              "    }\n",
              "  </style>\n",
              "\n",
              "      <script>\n",
              "        const buttonEl =\n",
              "          document.querySelector('#df-ed3b10e7-fb6e-4923-b701-19ca9ef6fcc5 button.colab-df-convert');\n",
              "        buttonEl.style.display =\n",
              "          google.colab.kernel.accessAllowed ? 'block' : 'none';\n",
              "\n",
              "        async function convertToInteractive(key) {\n",
              "          const element = document.querySelector('#df-ed3b10e7-fb6e-4923-b701-19ca9ef6fcc5');\n",
              "          const dataTable =\n",
              "            await google.colab.kernel.invokeFunction('convertToInteractive',\n",
              "                                                     [key], {});\n",
              "          if (!dataTable) return;\n",
              "\n",
              "          const docLinkHtml = 'Like what you see? Visit the ' +\n",
              "            '<a target=\"_blank\" href=https://colab.research.google.com/notebooks/data_table.ipynb>data table notebook</a>'\n",
              "            + ' to learn more about interactive tables.';\n",
              "          element.innerHTML = '';\n",
              "          dataTable['output_type'] = 'display_data';\n",
              "          await google.colab.output.renderOutput(dataTable, element);\n",
              "          const docLink = document.createElement('div');\n",
              "          docLink.innerHTML = docLinkHtml;\n",
              "          element.appendChild(docLink);\n",
              "        }\n",
              "      </script>\n",
              "    </div>\n",
              "  </div>\n",
              "  "
            ],
            "text/plain": [
              "                  children  days_employed  ...      debt  total_income\n",
              "children          1.000000      -0.226063  ...  0.024635      0.030053\n",
              "days_employed    -0.226063       1.000000  ... -0.046313     -0.135633\n",
              "dob_years        -0.319666       0.577674  ... -0.071685     -0.053420\n",
              "education_id     -0.026994       0.076422  ...  0.052842     -0.170876\n",
              "family_status_id -0.158966       0.002566  ...  0.020181     -0.007670\n",
              "debt              0.024635      -0.046313  ...  1.000000     -0.011887\n",
              "total_income      0.030053      -0.135633  ... -0.011887      1.000000\n",
              "\n",
              "[7 rows x 7 columns]"
            ]
          },
          "metadata": {},
          "execution_count": 77
        }
      ],
      "source": [
        "# Check the children data and paying back on time\n",
        "paying_back_on_time = df[df['debt'] == 0]\n",
        "print(paying_back_on_time['children'].head(10))\n",
        "# Calculating default-rate based on the number of children\n",
        "\n",
        "for children, number in dict(Counter(paying_back_on_time['children'])).items():\n",
        "    print(\"No. of children : {} \\t Default-Rate : {}\".format(children, round((number/len(paying_back_on_time))*100,2)))\n",
        "\n"
      ]
    },
    {
      "cell_type": "markdown",
      "metadata": {
        "id": "MeK0hW25mIKM"
      },
      "source": [
        "**Conclusion**\n",
        "\n",
        "[Write your conclusions based on your manipulations and observations.]\n"
      ]
    },
    {
      "cell_type": "markdown",
      "metadata": {
        "id": "pBfnPVGPmIKN"
      },
      "source": [
        "**Is there a correlation between family status and paying back on time?**"
      ]
    },
    {
      "cell_type": "code",
      "execution_count": 79,
      "metadata": {
        "id": "t7-i40q0mIKN",
        "colab": {
          "base_uri": "https://localhost:8080/"
        },
        "outputId": "c0870393-b432-40d9-fbc7-601f3b8b11c4"
      },
      "outputs": [
        {
          "output_type": "stream",
          "name": "stdout",
          "text": [
            "0              married\n",
            "1              married\n",
            "2              married\n",
            "3              married\n",
            "4    civil partnership\n",
            "5    civil partnership\n",
            "6              married\n",
            "7              married\n",
            "8    civil partnership\n",
            "9              married\n",
            "Name: family_status, dtype: object\n",
            "family_status  : married \t Default-Rate : 57.83\n",
            "family_status  : civil partnership \t Default-Rate : 19.12\n",
            "family_status  : widow / widower \t Default-Rate : 4.53\n",
            "family_status  : divorced \t Default-Rate : 5.64\n",
            "family_status  : unmarried \t Default-Rate : 12.87\n"
          ]
        }
      ],
      "source": [
        "# Check the family status data and paying back on time\n",
        "print(paying_back_on_time['family_status'].head(10))\n",
        "\n",
        "\n",
        "# Calculating default-rate based on family status\n",
        "\n",
        "for family, number in dict(Counter(paying_back_on_time['family_status'])).items():\n",
        "    print(\"family_status  : {} \\t Default-Rate : {}\".format(family, round((number/len(paying_back_on_time))*100,2)))\n",
        "\n"
      ]
    },
    {
      "cell_type": "markdown",
      "metadata": {
        "id": "HMbtdFCFmIKN"
      },
      "source": [
        "**Conclusion**\n",
        "\n",
        "[Write your conclusions based on your manipulations and observations.]"
      ]
    },
    {
      "cell_type": "markdown",
      "metadata": {
        "id": "2q0uh-pimIKN"
      },
      "source": [
        "**Is there a correlation between income level and paying back on time?**"
      ]
    },
    {
      "cell_type": "code",
      "execution_count": 80,
      "metadata": {
        "id": "D-fXs_57mIKN",
        "colab": {
          "base_uri": "https://localhost:8080/"
        },
        "outputId": "268e38da-b75c-456c-dfc1-70e8fa05c022"
      },
      "outputs": [
        {
          "output_type": "stream",
          "name": "stdout",
          "text": [
            "0    employee\n",
            "1    employee\n",
            "2    employee\n",
            "3    employee\n",
            "4     retiree\n",
            "5    business\n",
            "6    business\n",
            "7    employee\n",
            "8    employee\n",
            "9    employee\n",
            "Name: income_type, dtype: object\n",
            "Income Type: employee \t Default-Rate : 50.83\n",
            "Income Type: retiree \t Default-Rate : 18.35\n",
            "Income Type: business \t Default-Rate : 23.84\n",
            "Income Type: civil servant \t Default-Rate : 6.96\n",
            "Income Type: entrepreneur \t Default-Rate : 0.01\n",
            "Income Type: student \t Default-Rate : 0.01\n",
            "Income Type: unemployed \t Default-Rate : 0.01\n"
          ]
        }
      ],
      "source": [
        "# Check the income level data and paying back on time\n",
        "\n",
        "print(paying_back_on_time['income_type'].head(10))\n",
        "\n",
        "# Calculating default-rate based on income level\n",
        "\n",
        "for income_type, number in dict(Counter(paying_back_on_time['income_type'])).items():\n",
        "    print(\"Income Type: {} \\t Default-Rate : {}\".format(income_type, round((number/len(paying_back_on_time))*100,2)))\n",
        "\n",
        "\n",
        "\n"
      ]
    },
    {
      "cell_type": "markdown",
      "metadata": {
        "id": "nHVBWVQnmIKN"
      },
      "source": [
        "**Conclusion**\n",
        "\n",
        "[Write your conclusions based on your manipulations and observations.]"
      ]
    },
    {
      "cell_type": "markdown",
      "metadata": {
        "id": "hBLxgjlOmIKN"
      },
      "source": [
        "**How does credit purpose affect the default rate?**"
      ]
    },
    {
      "cell_type": "code",
      "execution_count": 81,
      "metadata": {
        "id": "xi0tKZwmmIKN",
        "colab": {
          "base_uri": "https://localhost:8080/"
        },
        "outputId": "63952eb6-e258-43d2-ef43-ff1d1a67da22"
      },
      "outputs": [
        {
          "output_type": "stream",
          "name": "stdout",
          "text": [
            "Purpose: purchase of the house \t Default-Rate : 3.02\n",
            "Purpose: car purchase \t Default-Rate : 2.13\n",
            "Purpose: supplementary education \t Default-Rate : 2.13\n",
            "Purpose: to have a wedding \t Default-Rate : 3.58\n",
            "Purpose: housing transactions \t Default-Rate : 3.06\n",
            "Purpose: education \t Default-Rate : 2.09\n",
            "Purpose: having a wedding \t Default-Rate : 3.58\n",
            "Purpose: purchase of the house for my family \t Default-Rate : 3.02\n",
            "Purpose: buy real estate \t Default-Rate : 2.92\n",
            "Purpose: buy commercial real estate \t Default-Rate : 3.12\n",
            "Purpose: construction of own property \t Default-Rate : 3.0\n",
            "Purpose: property \t Default-Rate : 3.01\n",
            "Purpose: building a property \t Default-Rate : 2.88\n",
            "Purpose: buying a second-hand car \t Default-Rate : 2.22\n",
            "Purpose: buying my own car \t Default-Rate : 2.34\n",
            "Purpose: transactions with commercial real estate \t Default-Rate : 3.03\n",
            "Purpose: building a real estate \t Default-Rate : 2.92\n",
            "Purpose: housing \t Default-Rate : 3.04\n",
            "Purpose: transactions with my real estate \t Default-Rate : 2.92\n",
            "Purpose: cars \t Default-Rate : 2.2\n",
            "Purpose: to become educated \t Default-Rate : 1.88\n",
            "Purpose: second-hand car purchase \t Default-Rate : 2.19\n",
            "Purpose: getting an education \t Default-Rate : 2.06\n",
            "Purpose: car \t Default-Rate : 2.3\n",
            "Purpose: wedding ceremony \t Default-Rate : 3.7\n",
            "Purpose: to get a supplementary education \t Default-Rate : 2.01\n",
            "Purpose: purchase of my own house \t Default-Rate : 2.98\n",
            "Purpose: real estate transactions \t Default-Rate : 3.15\n",
            "Purpose: getting higher education \t Default-Rate : 1.93\n",
            "Purpose: to own a car \t Default-Rate : 2.17\n",
            "Purpose: purchase of a car \t Default-Rate : 2.07\n",
            "Purpose: profile education \t Default-Rate : 1.98\n",
            "Purpose: university education \t Default-Rate : 2.07\n",
            "Purpose: buying property for renting out \t Default-Rate : 3.05\n",
            "Purpose: buy residential real estate \t Default-Rate : 2.86\n",
            "Purpose: to buy a car \t Default-Rate : 2.17\n",
            "Purpose: housing renovation \t Default-Rate : 2.9\n",
            "Purpose: going to university \t Default-Rate : 2.31\n"
          ]
        }
      ],
      "source": [
        "# Check the percentages for default rate for each credit purpose and analyze them\n",
        "for purpose, number in dict(Counter(paying_back_on_time['purpose'])).items():\n",
        "    print(\"Purpose: {} \\t Default-Rate : {}\".format(purpose, round((number/len(paying_back_on_time))*100,2)))\n",
        "\n"
      ]
    },
    {
      "cell_type": "markdown",
      "metadata": {
        "id": "HRCY7FDLmIKO"
      },
      "source": [
        "**Conclusion**\n",
        "\n",
        "[Write your conclusions based on your manipulations and observations.]\n"
      ]
    },
    {
      "cell_type": "markdown",
      "metadata": {
        "id": "I35HdM8xmIKO"
      },
      "source": [
        "# General Conclusion \n",
        "\n",
        "[List your conclusions in this final section. Make sure you include all your important conclusions you made that led you to the way you processed and analyzed the data. Cover the missing values, duplicates, and possible reasons and solutions for problematic artifacts that you had to address.]\n",
        "\n",
        "[List your conclusions regarding the posed questions here as well.]\n"
      ]
    }
  ],
  "metadata": {
    "ExecuteTimeLog": [
      {
        "duration": 2741,
        "start_time": "2021-10-21T01:08:49.480Z"
      },
      {
        "duration": 52,
        "start_time": "2021-10-21T01:08:53.315Z"
      },
      {
        "duration": 49,
        "start_time": "2021-10-21T01:08:57.432Z"
      },
      {
        "duration": 70,
        "start_time": "2021-10-21T01:09:07.706Z"
      },
      {
        "duration": 777,
        "start_time": "2022-01-27T09:59:14.473Z"
      },
      {
        "duration": 4,
        "start_time": "2022-01-27T10:00:33.523Z"
      },
      {
        "duration": 6,
        "start_time": "2022-01-27T10:00:41.305Z"
      },
      {
        "duration": 5,
        "start_time": "2022-01-27T10:02:29.683Z"
      },
      {
        "duration": 13,
        "start_time": "2022-01-27T10:03:08.274Z"
      },
      {
        "duration": 15,
        "start_time": "2022-01-27T10:09:38.957Z"
      },
      {
        "duration": 5,
        "start_time": "2022-01-27T10:14:54.016Z"
      },
      {
        "duration": 4,
        "start_time": "2022-01-27T10:15:46.718Z"
      },
      {
        "duration": 375,
        "start_time": "2022-01-27T10:15:55.222Z"
      },
      {
        "duration": 14,
        "start_time": "2022-01-27T10:16:09.303Z"
      },
      {
        "duration": 14,
        "start_time": "2022-01-27T10:16:29.288Z"
      },
      {
        "duration": 91,
        "start_time": "2022-01-27T10:19:14.828Z"
      },
      {
        "duration": 23,
        "start_time": "2022-01-27T10:19:21.420Z"
      },
      {
        "duration": 14,
        "start_time": "2022-01-27T10:20:08.413Z"
      },
      {
        "duration": 310,
        "start_time": "2022-01-27T10:20:28.286Z"
      },
      {
        "duration": 187,
        "start_time": "2022-01-27T10:22:55.242Z"
      },
      {
        "duration": 294,
        "start_time": "2022-01-27T10:23:43.476Z"
      },
      {
        "duration": 15,
        "start_time": "2022-01-27T10:23:59.606Z"
      },
      {
        "duration": 311,
        "start_time": "2022-01-27T10:24:13.044Z"
      },
      {
        "duration": 411,
        "start_time": "2022-01-27T10:24:40.518Z"
      },
      {
        "duration": 14,
        "start_time": "2022-01-27T10:24:48.437Z"
      },
      {
        "duration": 19,
        "start_time": "2022-01-27T10:25:01.301Z"
      },
      {
        "duration": 303,
        "start_time": "2022-01-27T10:25:08.021Z"
      },
      {
        "duration": 288,
        "start_time": "2022-01-27T10:25:23.637Z"
      },
      {
        "duration": 302,
        "start_time": "2022-01-27T10:25:43.445Z"
      },
      {
        "duration": 341,
        "start_time": "2022-01-27T10:26:49.685Z"
      },
      {
        "duration": 23,
        "start_time": "2022-01-27T10:27:05.781Z"
      },
      {
        "duration": 310,
        "start_time": "2022-01-27T10:28:16.533Z"
      },
      {
        "duration": 15,
        "start_time": "2022-01-27T10:28:49.908Z"
      },
      {
        "duration": 112,
        "start_time": "2022-01-27T10:29:00.020Z"
      },
      {
        "duration": 17,
        "start_time": "2022-01-27T10:29:05.748Z"
      },
      {
        "duration": 17,
        "start_time": "2022-01-27T10:29:53.748Z"
      },
      {
        "duration": 15,
        "start_time": "2022-01-27T10:30:21.717Z"
      },
      {
        "duration": 321,
        "start_time": "2022-01-27T10:30:38.627Z"
      },
      {
        "duration": 13,
        "start_time": "2022-01-27T10:30:42.755Z"
      },
      {
        "duration": 12,
        "start_time": "2022-01-27T10:31:52.194Z"
      },
      {
        "duration": 29,
        "start_time": "2022-01-27T10:31:56.002Z"
      },
      {
        "duration": 20,
        "start_time": "2022-01-27T10:32:07.299Z"
      },
      {
        "duration": 25,
        "start_time": "2022-01-27T10:33:20.743Z"
      },
      {
        "duration": 16,
        "start_time": "2022-01-27T10:33:51.618Z"
      },
      {
        "duration": 17,
        "start_time": "2022-01-27T10:33:56.769Z"
      },
      {
        "duration": 19,
        "start_time": "2022-01-27T10:34:21.937Z"
      },
      {
        "duration": 95,
        "start_time": "2022-01-27T10:34:55.714Z"
      },
      {
        "duration": 21,
        "start_time": "2022-01-27T10:34:59.505Z"
      },
      {
        "duration": 297,
        "start_time": "2022-01-27T10:35:58.083Z"
      },
      {
        "duration": 18,
        "start_time": "2022-01-27T10:36:03.458Z"
      },
      {
        "duration": 21,
        "start_time": "2022-01-27T10:36:13.858Z"
      },
      {
        "duration": 94,
        "start_time": "2022-01-27T10:36:26.083Z"
      },
      {
        "duration": 24,
        "start_time": "2022-01-27T10:36:29.234Z"
      },
      {
        "duration": 105,
        "start_time": "2022-01-27T10:37:14.037Z"
      },
      {
        "duration": 23,
        "start_time": "2022-01-27T10:37:19.732Z"
      },
      {
        "duration": 669,
        "start_time": "2022-02-10T12:58:07.866Z"
      },
      {
        "duration": 4,
        "start_time": "2022-02-10T12:58:10.371Z"
      },
      {
        "duration": 8,
        "start_time": "2022-02-10T12:58:10.539Z"
      },
      {
        "duration": 12,
        "start_time": "2022-02-10T12:58:10.850Z"
      },
      {
        "duration": 15,
        "start_time": "2022-02-10T12:58:11.459Z"
      },
      {
        "duration": 19,
        "start_time": "2022-02-10T12:58:11.786Z"
      },
      {
        "duration": 2,
        "start_time": "2022-02-10T12:58:12.474Z"
      },
      {
        "duration": 2,
        "start_time": "2022-02-10T12:58:12.626Z"
      },
      {
        "duration": 3,
        "start_time": "2022-02-10T12:58:12.930Z"
      }
    ],
    "kernelspec": {
      "display_name": "Python 3 (ipykernel)",
      "language": "python",
      "name": "python3"
    },
    "language_info": {
      "codemirror_mode": {
        "name": "ipython",
        "version": 3
      },
      "file_extension": ".py",
      "mimetype": "text/x-python",
      "name": "python",
      "nbconvert_exporter": "python",
      "pygments_lexer": "ipython3",
      "version": "3.9.7"
    },
    "toc": {
      "base_numbering": 1,
      "nav_menu": {},
      "number_sections": true,
      "sideBar": true,
      "skip_h1_title": true,
      "title_cell": "Table of Contents",
      "title_sidebar": "Contents",
      "toc_cell": false,
      "toc_position": {},
      "toc_section_display": true,
      "toc_window_display": false
    },
    "colab": {
      "name": "20e9f807-2bf4-4ad1-bd4c-c8e6d05534a4.ipynb",
      "provenance": [],
      "collapsed_sections": [
        "u1M8cadvmIKM"
      ]
    }
  },
  "nbformat": 4,
  "nbformat_minor": 0
}